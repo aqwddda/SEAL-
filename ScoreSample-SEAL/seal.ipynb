{
 "cells": [
  {
   "cell_type": "code",
   "execution_count": 1,
   "id": "40c02be1",
   "metadata": {},
   "outputs": [],
   "source": [
    "import math\n",
    "import time, os\n",
    "from itertools import chain\n",
    "from tqdm import tqdm\n",
    "import gc\n",
    "import numpy as np\n",
    "import torch\n",
    "import psutil\n",
    "import glob\n",
    "import out_manager as om\n",
    "import torch.nn.functional as F\n",
    "from scipy.sparse.csgraph import shortest_path\n",
    "from sklearn.metrics import roc_auc_score, average_precision_score\n",
    "from torch.nn import BCEWithLogitsLoss, Conv1d, MaxPool1d, ModuleList\n",
    "from torch_geometric.data import Data, InMemoryDataset\n",
    "from torch_geometric.datasets import Planetoid\n",
    "from torch_geometric.loader import DataLoader\n",
    "from torch_geometric.nn import MLP, GCNConv, SortAggregation\n",
    "from torch_geometric.transforms import RandomLinkSplit\n",
    "from torch_geometric.utils import k_hop_subgraph, to_scipy_sparse_matrix\n",
    "from config import Config"
   ]
  },
  {
   "cell_type": "code",
   "execution_count": 2,
   "id": "75c339b9",
   "metadata": {},
   "outputs": [],
   "source": [
    "config = Config()\n",
    "# out_dir = om.get_existing_out_dir(config)\n",
    "# om.setup_logging(os.path.join(out_dir, \"seal_log.txt\"))\n",
    "seed = config.seed\n",
    "torch.manual_seed(seed)\n",
    "np.random.seed(seed)\n",
    "device = config.device"
   ]
  },
  {
   "cell_type": "code",
   "execution_count": 3,
   "id": "e7e7938c",
   "metadata": {},
   "outputs": [],
   "source": [
    "class SEALDataset(InMemoryDataset):\n",
    "    def __init__(self, dataset, num_hops, split='train'):\n",
    "        self._data = dataset[0]\n",
    "        self.num_hops = num_hops\n",
    "        super().__init__(dataset.root)\n",
    "        index = ['train', 'val', 'test'].index(split)\n",
    "        self.load(self.processed_paths[index])\n",
    "\n",
    "    @property\n",
    "    def processed_dir(self):\n",
    "        return os.path.join(self.root, 'Cora', 'split')\n",
    "    \n",
    "    @property\n",
    "    def processed_file_names(self):\n",
    "        return ['SEAL_train_data.pt', 'SEAL_val_data.pt', 'SEAL_test_data.pt']\n",
    "\n",
    "    def process(self):\n",
    "        transform = RandomLinkSplit(num_val=0.05, num_test=0.1,\n",
    "                                    is_undirected=True, split_labels=True)\n",
    "        train_data, val_data, test_data = transform(self._data)\n",
    "\n",
    "        self._max_z = 0\n",
    "\n",
    "        # Collect a list of subgraphs for training, validation and testing:\n",
    "        train_pos_data_list = self.extract_enclosing_subgraphs(\n",
    "            train_data.edge_index, train_data.pos_edge_label_index, 1)\n",
    "        train_neg_data_list = self.extract_enclosing_subgraphs(\n",
    "            train_data.edge_index, train_data.neg_edge_label_index, 0)\n",
    "\n",
    "        val_pos_data_list = self.extract_enclosing_subgraphs(\n",
    "            val_data.edge_index, val_data.pos_edge_label_index, 1)\n",
    "        val_neg_data_list = self.extract_enclosing_subgraphs(\n",
    "            val_data.edge_index, val_data.neg_edge_label_index, 0)\n",
    "\n",
    "        test_pos_data_list = self.extract_enclosing_subgraphs(\n",
    "            test_data.edge_index, test_data.pos_edge_label_index, 1)\n",
    "        test_neg_data_list = self.extract_enclosing_subgraphs(\n",
    "            test_data.edge_index, test_data.neg_edge_label_index, 0)\n",
    "\n",
    "        # Convert node labeling to one-hot features.\n",
    "        for data in chain(train_pos_data_list, train_neg_data_list,\n",
    "                          val_pos_data_list, val_neg_data_list,\n",
    "                          test_pos_data_list, test_neg_data_list):\n",
    "            # We solely learn links from structure, dropping any node features:\n",
    "            data.x = F.one_hot(data.z, self._max_z + 1).to(torch.float)\n",
    "        print(self._max_z)\n",
    "\n",
    "        train_data_list = train_pos_data_list + train_neg_data_list\n",
    "        self.save(train_data_list, self.processed_paths[0])\n",
    "        val_data_list = val_pos_data_list + val_neg_data_list\n",
    "        self.save(val_data_list, self.processed_paths[1])\n",
    "        test_data_list = test_pos_data_list + test_neg_data_list\n",
    "        self.save(test_data_list, self.processed_paths[2])\n",
    "\n",
    "    def extract_enclosing_subgraphs(self, edge_index, edge_label_index, y):\n",
    "        data_list = []\n",
    "        for src, dst in edge_label_index.t().tolist():\n",
    "            try:\n",
    "                # 直接采样子图（内部会重新编号）\n",
    "                sub_nodes, sub_edge_index, mapping, _ = k_hop_subgraph(\n",
    "                    [src, dst], self.num_hops, edge_index, relabel_nodes=True)\n",
    "                # 现在 src、dst 的新索引\n",
    "                src_sub, dst_sub = mapping.tolist()\n",
    "\n",
    "                # Remove target link from the subgraph\n",
    "                mask1 = (sub_edge_index[0] != src_sub) | (sub_edge_index[1] != dst_sub)\n",
    "                mask2 = (sub_edge_index[0] != dst_sub) | (sub_edge_index[1] != src_sub)\n",
    "                sub_edge_index = sub_edge_index[:, mask1 & mask2]\n",
    "\n",
    "                # 生成标签 (用子图索引！)\n",
    "                z = self.drnl_node_labeling(sub_edge_index, src_sub, dst_sub,\n",
    "                                            num_nodes=sub_nodes.size(0))\n",
    "\n",
    "                # 直接用 sub_nodes 对应原图的 x 特征\n",
    "                sub_data = Data(x=self._data.x[sub_nodes], z=z,\n",
    "                            edge_index=sub_edge_index, y=y)\n",
    "                data_list.append(sub_data)\n",
    "\n",
    "            except Exception as e:\n",
    "                print(f\"Error at src {src}, dst {dst}: {e}\")\n",
    "\n",
    "        return data_list\n",
    "\n",
    "    def drnl_node_labeling(self, edge_index, src, dst, num_nodes=None):\n",
    "        # Double-radius node labeling (DRNL).\n",
    "        src, dst = (dst, src) if src > dst else (src, dst)\n",
    "        adj = to_scipy_sparse_matrix(edge_index, num_nodes=num_nodes).tocsr()\n",
    "\n",
    "        # Remove src\n",
    "        idx_wo_src = list(range(adj.shape[0]))\n",
    "        idx_wo_src.pop(src)\n",
    "        adj_wo_src = adj[idx_wo_src, :][:, idx_wo_src]\n",
    "\n",
    "        # Remove dst\n",
    "        idx_wo_dst = list(range(adj.shape[0]))\n",
    "        idx_wo_dst.pop(dst)\n",
    "        adj_wo_dst = adj[idx_wo_dst, :][:, idx_wo_dst]\n",
    "\n",
    "        # 重新计算 src/dst 在 adj_wo_* 中的索引\n",
    "        src_idx_in_wo_dst = src if src < dst else src - 1\n",
    "        dst_idx_in_wo_src = dst if dst < src else dst - 1\n",
    "\n",
    "        dist2src = shortest_path(adj_wo_dst, directed=False, unweighted=True, indices=src_idx_in_wo_dst)\n",
    "        dist2src = np.insert(dist2src, dst, 0, axis=0)\n",
    "        dist2src = torch.from_numpy(dist2src)\n",
    "\n",
    "        dist2dst = shortest_path(adj_wo_src, directed=False, unweighted=True, indices=dst_idx_in_wo_src)\n",
    "        dist2dst = np.insert(dist2dst, src, 0, axis=0)\n",
    "        dist2dst = torch.from_numpy(dist2dst)\n",
    "\n",
    "        dist = dist2src + dist2dst\n",
    "        dist_over_2, dist_mod_2 = dist // 2, dist % 2\n",
    "\n",
    "        z = 1 + torch.min(dist2src, dist2dst)\n",
    "        z += dist_over_2 * (dist_over_2 + dist_mod_2 - 1)\n",
    "        z[src] = 1.\n",
    "        z[dst] = 1.\n",
    "        z[torch.isnan(z)] = 0.\n",
    "\n",
    "        self._max_z = max(int(z.max()), self._max_z)\n",
    "        return z.to(torch.long)"
   ]
  },
  {
   "cell_type": "code",
   "execution_count": 4,
   "id": "cb6f2d6c",
   "metadata": {},
   "outputs": [],
   "source": [
    "class SEAL():\n",
    "    def __init__(self, num_hops, save_dir):\n",
    "        self.save_dir = save_dir\n",
    "        self.num_hops = num_hops\n",
    "        super().__init__()\n",
    "\n",
    "    # def get_max_z(self, data, edge_index, edge_label_index, y, batch_size=1000):\n",
    "    #     for i in range(0, edge_label_index.size(1), batch_size):\n",
    "    #         batch_idx = edge_label_index[:, i:i+batch_size]\n",
    "    #         batch_data_list = self.extract_enclosing_subgraphs(data, edge_index, batch_idx, y)\n",
    "    #         del batch_data_list\n",
    "    #         gc.collect()\n",
    "\n",
    "    # def save_batches(self, data, edge_index, edge_label_index, y, out_prefix, max_z, batch_size=100):\n",
    "    #     os.makedirs(os.path.dirname(out_prefix), exist_ok=True)\n",
    "    #     idx = 0\n",
    "    #     for i in range(0, edge_label_index.size(1), batch_size):\n",
    "    #         batch_idx = edge_label_index[:, i:i+batch_size]\n",
    "    #         batch_data_list = self.extract_enclosing_subgraphs(data, edge_index, batch_idx, y)\n",
    "    #         for batch_data in batch_data_list:\n",
    "    #             batch_data.x = F.one_hot(batch_data.z, max_z + 1).to(torch.float)\n",
    "    #         torch.save(batch_data_list, f\"{out_prefix}_batch{idx}.pt\")\n",
    "    #         print(f\"已保存 {out_prefix}_batch{idx}.pt，当前内存占用率 {psutil.virtual_memory().percent}%\")\n",
    "    #         del batch_data_list\n",
    "    #         gc.collect()\n",
    "    #         idx += 1\n",
    "\n",
    "    def get_max_z(self, data, edge_index, edge_label_index, y, batch_size=1000):\n",
    "        num_samples = edge_label_index.size(1)\n",
    "        # 使用tqdm添加进度条\n",
    "        for i in tqdm(range(0, num_samples, batch_size), desc=\"扫描 max_z\", unit=\"batch\"):\n",
    "            batch_idx = edge_label_index[:, i:i+batch_size]\n",
    "            batch_data_list = self.extract_enclosing_subgraphs(data, edge_index, batch_idx, y)\n",
    "            del batch_data_list\n",
    "            gc.collect()\n",
    "\n",
    "    def save_batches(self, data, edge_index, edge_label_index, y, out_prefix, max_z, batch_size=100):\n",
    "        os.makedirs(os.path.dirname(out_prefix), exist_ok=True)\n",
    "        num_samples = edge_label_index.size(1)\n",
    "        num_batches = (num_samples + batch_size - 1) // batch_size\n",
    "        idx = 0\n",
    "        # 使用tqdm添加进度条\n",
    "        for i in tqdm(range(0, num_samples, batch_size), desc=f\"保存 {out_prefix} 分批文件\", unit=\"batch\"):\n",
    "            batch_idx = edge_label_index[:, i:i+batch_size]\n",
    "            batch_data_list = self.extract_enclosing_subgraphs(data, edge_index, batch_idx, y)\n",
    "            for batch_data in batch_data_list:\n",
    "                batch_data.x = F.one_hot(batch_data.z, max_z + 1).to(torch.float)\n",
    "            torch.save(batch_data_list, f\"{out_prefix}_batch{idx}.pt\")\n",
    "            print(f\"已保存 {out_prefix}_batch{idx}.pt，当前内存占用率 {psutil.virtual_memory().percent}%\")\n",
    "            del batch_data_list\n",
    "            gc.collect()\n",
    "            idx += 1\n",
    "\n",
    "    def merge_batches(self, batch_prefix, out_file):\n",
    "        batch_files = sorted(glob.glob(f\"{batch_prefix}_batch*.pt\"),\n",
    "                            key=lambda x: int(x.split('_batch')[-1].split('.pt')[0]))\n",
    "        all_data = []\n",
    "        for batch_file in batch_files:\n",
    "            data_list = torch.load(batch_file)\n",
    "            all_data.extend(data_list)\n",
    "            print(f\"合并了 {batch_file}，当前总量：{len(all_data)}\")\n",
    "            del data_list\n",
    "        torch.save(all_data, out_file)\n",
    "        print(f\"保存到 {out_file}，总计 {len(all_data)} 条数据\")\n",
    "        del all_data\n",
    "\n",
    "    def merge_pos_neg(self, pos_file, neg_file, out_file):\n",
    "        pos_data = torch.load(pos_file)\n",
    "        neg_data = torch.load(neg_file)\n",
    "        all_data = pos_data + neg_data\n",
    "        torch.save(all_data, out_file)\n",
    "        print(f\"最终合并 {out_file}，总计 {len(all_data)} 条（正例 {len(pos_data)}，负例 {len(neg_data)}）\")\n",
    "        del pos_data, neg_data, all_data\n",
    "\n",
    "    def process(self):\n",
    "\n",
    "        train_data = torch.load(f'./data/{config.dataset}/split/train_data.pt')\n",
    "        val_data = torch.load(f'./data/{config.dataset}/split/val_data.pt')\n",
    "        test_data = torch.load(f'./data/{config.dataset}/split/test_data.pt')\n",
    "        \n",
    "        #第一次扫描统计maxz\n",
    "        self._max_z = 0\n",
    "        self.get_max_z(train_data, train_data.edge_index, train_data.pos_edge_label_index, 1),\n",
    "        self.get_max_z(train_data, train_data.edge_index, train_data.neg_edge_label_index, 0)\n",
    "        self.get_max_z(val_data, val_data.edge_index, val_data.pos_edge_label_index, 1),\n",
    "        self.get_max_z(val_data, val_data.edge_index, val_data.neg_edge_label_index, 0)\n",
    "        self.get_max_z(test_data, test_data.edge_index, test_data.pos_edge_label_index, 1),\n",
    "        self.get_max_z(test_data, test_data.edge_index, test_data.neg_edge_label_index, 0)\n",
    "\n",
    "\n",
    "        # 2. 分批次one-hot和保存，绝不汇总到内存\n",
    "        save_dir = self.save_dir\n",
    "        train_pos_path = os.path.join(save_dir, \"SEAL_train_pos\")\n",
    "        train_neg_path = os.path.join(save_dir, \"SEAL_train_neg\")\n",
    "        val_pos_path = os.path.join(save_dir, \"SEAL_val_pos\")\n",
    "        val_neg_path = os.path.join(save_dir, \"SEAL_val_neg\")\n",
    "        test_pos_path = os.path.join(save_dir, \"SEAL_test_pos\")\n",
    "        test_neg_path = os.path.join(save_dir, \"SEAL_test_neg\")\n",
    "\n",
    "        print(\"保存 train 分批文件\")\n",
    "        self.save_batches(train_data, train_data.edge_index, train_data.pos_edge_label_index, 1, train_pos_path, self._max_z)\n",
    "        self.save_batches(train_data, train_data.edge_index, train_data.neg_edge_label_index, 0, train_neg_path, self._max_z)\n",
    "\n",
    "        print(\"保存 val 分批文件\")\n",
    "        self.save_batches(val_data, val_data.edge_index, val_data.pos_edge_label_index, 1, val_pos_path, self._max_z)\n",
    "        self.save_batches(val_data, val_data.edge_index, val_data.neg_edge_label_index, 0, val_neg_path, self._max_z)\n",
    "\n",
    "        print(\"保存 test 分批文件\")\n",
    "        self.save_batches(test_data, test_data.edge_index, test_data.pos_edge_label_index, 1, test_pos_path, self._max_z)\n",
    "        self.save_batches(test_data, test_data.edge_index, test_data.neg_edge_label_index, 0, test_neg_path, self._max_z)\n",
    "\n",
    "        print(\"所有分批处理和保存已完成！🚀\")\n",
    "\n",
    "        del train_data, val_data, test_data\n",
    "        gc.collect()\n",
    "\n",
    "        # 2. 合并\n",
    "        split_dir = self.save_dir\n",
    "        for prefix in [\"train\", \"val\", \"test\"]:\n",
    "            pos_prefix = os.path.join(split_dir, f\"SEAL_{prefix}_pos\")\n",
    "            neg_prefix = os.path.join(split_dir, f\"SEAL_{prefix}_neg\")\n",
    "            pos_data_list = pos_prefix + \"_data_list.pt\"\n",
    "            neg_data_list = neg_prefix + \"_data_list.pt\"\n",
    "            merged_data_list = os.path.join(split_dir, f\"SEAL_{prefix}_data_list.pt\")\n",
    "\n",
    "            print(f\"\\n--- 合并 {prefix} pos batch ---\")\n",
    "            self.merge_batches(pos_prefix, pos_data_list)\n",
    "            print(f\"--- 合并 {prefix} neg batch ---\")\n",
    "            self.merge_batches(neg_prefix, neg_data_list)\n",
    "\n",
    "            print(f\"--- 合并 {prefix} pos+neg 为总 data_list ---\")\n",
    "            self.merge_pos_neg(pos_data_list, neg_data_list, merged_data_list)\n",
    "\n",
    "        print(\"所有分批处理、合并已完成！🚀\")\n",
    "\n",
    "        # --------- 自动删除所有 batch 文件 ----------\n",
    "        pattern = os.path.join(self.save_dir, \"SEAL_*_batch*.pt\")\n",
    "        batch_files = glob.glob(pattern)\n",
    "        for file in batch_files:\n",
    "            try:\n",
    "                os.remove(file)\n",
    "                print(f\"已删除 {file}\")\n",
    "            except Exception as e:\n",
    "                print(f\"删除 {file} 失败：{e}\")\n",
    "        \n",
    "        target_files = [\n",
    "            \"SEAL_test_neg_data_list.pt\",\n",
    "            \"SEAL_test_pos_data_list.pt\",\n",
    "            \"SEAL_val_neg_data_list.pt\",\n",
    "            \"SEAL_val_pos_data_list.pt\",\n",
    "            \"SEAL_train_neg_data_list.pt\",\n",
    "            \"SEAL_train_pos_data_list.pt\"\n",
    "        ]\n",
    "\n",
    "        for filename in target_files:\n",
    "            file_path = os.path.join(self.save_dir, filename)\n",
    "            if os.path.exists(file_path):\n",
    "                try:\n",
    "                    os.remove(file_path)\n",
    "                    print(f\"已删除 {file_path}\")\n",
    "                except Exception as e:\n",
    "                    print(f\"删除 {file_path} 失败：{e}\")\n",
    "\n",
    "        print('所有数据已保存并清理临时 batch 文件')\n",
    "\n",
    "    def extract_enclosing_subgraphs(self, data, edge_index, edge_label_index, y):\n",
    "        data_list = []\n",
    "        for src, dst in edge_label_index.t().tolist():\n",
    "            # 直接采样子图（内部会重新编号）\n",
    "            sub_nodes, sub_edge_index, mapping, _ = k_hop_subgraph(\n",
    "                [src, dst], self.num_hops, edge_index, relabel_nodes=True)\n",
    "            # 现在 src、dst 的新索引\n",
    "            src_sub, dst_sub = mapping.tolist()\n",
    "\n",
    "            # Remove target link from the subgraph\n",
    "            mask1 = (sub_edge_index[0] != src_sub) | (sub_edge_index[1] != dst_sub)\n",
    "            mask2 = (sub_edge_index[0] != dst_sub) | (sub_edge_index[1] != src_sub)\n",
    "            sub_edge_index = sub_edge_index[:, mask1 & mask2]\n",
    "\n",
    "            # 生成标签 (用子图索引！)\n",
    "            z = self.drnl_node_labeling(sub_edge_index, src_sub, dst_sub,\n",
    "                                        num_nodes=sub_nodes.size(0))\n",
    "\n",
    "            # 直接用 sub_nodes 对应原图的 x 特征\n",
    "            sub_data = Data(x=data.x[sub_nodes], z=z,\n",
    "                        edge_index=sub_edge_index, y=y)\n",
    "            data_list.append(sub_data)\n",
    "\n",
    "        return data_list\n",
    "\n",
    "    def drnl_node_labeling(self, edge_index, src, dst, num_nodes=None):\n",
    "        src, dst = (dst, src) if src > dst else (src, dst)\n",
    "        adj = to_scipy_sparse_matrix(edge_index, num_nodes=num_nodes).tocsr()\n",
    "\n",
    "        idx = list(range(src)) + list(range(src + 1, adj.shape[0]))\n",
    "        adj_wo_src = adj[idx, :][:, idx]\n",
    "\n",
    "        idx = list(range(dst)) + list(range(dst + 1, adj.shape[0]))\n",
    "        adj_wo_dst = adj[idx, :][:, idx]\n",
    "\n",
    "        dist2src = shortest_path(adj_wo_dst, directed=False, unweighted=True,\n",
    "                                 indices=src)\n",
    "        dist2src = np.insert(dist2src, dst, 0, axis=0)\n",
    "        dist2src = torch.from_numpy(dist2src)\n",
    "\n",
    "        dist2dst = shortest_path(adj_wo_src, directed=False, unweighted=True,\n",
    "                                 indices=dst - 1)\n",
    "        dist2dst = np.insert(dist2dst, src, 0, axis=0)\n",
    "        dist2dst = torch.from_numpy(dist2dst)\n",
    "\n",
    "        dist = dist2src + dist2dst\n",
    "        dist_over_2, dist_mod_2 = dist // 2, dist % 2\n",
    "\n",
    "        z = 1 + torch.min(dist2src, dist2dst)\n",
    "        z += dist_over_2 * (dist_over_2 + dist_mod_2 - 1)\n",
    "        z[src] = 1.\n",
    "        z[dst] = 1.\n",
    "        z[torch.isnan(z)] = 0.\n",
    "\n",
    "        self._max_z = max(int(z.max()), self._max_z)\n",
    "\n",
    "        return z.to(torch.long)\n"
   ]
  },
  {
   "cell_type": "code",
   "execution_count": 5,
   "id": "fb405640",
   "metadata": {},
   "outputs": [
    {
     "name": "stderr",
     "output_type": "stream",
     "text": [
      "扫描 max_z: 100%|██████████| 38/38 [03:10<00:00,  5.02s/batch]\n",
      "扫描 max_z: 100%|██████████| 38/38 [03:01<00:00,  4.76s/batch]\n",
      "扫描 max_z: 100%|██████████| 3/3 [00:12<00:00,  4.09s/batch]\n",
      "扫描 max_z: 100%|██████████| 3/3 [00:11<00:00,  3.73s/batch]\n",
      "扫描 max_z: 100%|██████████| 5/5 [00:24<00:00,  4.96s/batch]\n",
      "扫描 max_z: 100%|██████████| 5/5 [00:21<00:00,  4.34s/batch]\n"
     ]
    },
    {
     "name": "stdout",
     "output_type": "stream",
     "text": [
      "保存 train 分批文件\n"
     ]
    },
    {
     "name": "stderr",
     "output_type": "stream",
     "text": [
      "保存 ./data/PubMed/split\\SEAL_train_pos 分批文件:   0%|          | 1/377 [00:00<04:28,  1.40batch/s]"
     ]
    },
    {
     "name": "stdout",
     "output_type": "stream",
     "text": [
      "已保存 ./data/PubMed/split\\SEAL_train_pos_batch0.pt，当前内存占用率 41.6%\n"
     ]
    },
    {
     "name": "stderr",
     "output_type": "stream",
     "text": [
      "保存 ./data/PubMed/split\\SEAL_train_pos 分批文件:   1%|          | 2/377 [00:01<04:49,  1.30batch/s]"
     ]
    },
    {
     "name": "stdout",
     "output_type": "stream",
     "text": [
      "已保存 ./data/PubMed/split\\SEAL_train_pos_batch1.pt，当前内存占用率 41.5%\n"
     ]
    },
    {
     "name": "stderr",
     "output_type": "stream",
     "text": [
      "保存 ./data/PubMed/split\\SEAL_train_pos 分批文件:   1%|          | 3/377 [00:02<04:30,  1.38batch/s]"
     ]
    },
    {
     "name": "stdout",
     "output_type": "stream",
     "text": [
      "已保存 ./data/PubMed/split\\SEAL_train_pos_batch2.pt，当前内存占用率 41.6%\n"
     ]
    },
    {
     "name": "stderr",
     "output_type": "stream",
     "text": [
      "保存 ./data/PubMed/split\\SEAL_train_pos 分批文件:   1%|          | 4/377 [00:02<04:37,  1.34batch/s]"
     ]
    },
    {
     "name": "stdout",
     "output_type": "stream",
     "text": [
      "已保存 ./data/PubMed/split\\SEAL_train_pos_batch3.pt，当前内存占用率 41.6%\n"
     ]
    },
    {
     "name": "stderr",
     "output_type": "stream",
     "text": [
      "保存 ./data/PubMed/split\\SEAL_train_pos 分批文件:   1%|▏         | 5/377 [00:03<04:32,  1.36batch/s]"
     ]
    },
    {
     "name": "stdout",
     "output_type": "stream",
     "text": [
      "已保存 ./data/PubMed/split\\SEAL_train_pos_batch4.pt，当前内存占用率 41.7%\n"
     ]
    },
    {
     "name": "stderr",
     "output_type": "stream",
     "text": [
      "保存 ./data/PubMed/split\\SEAL_train_pos 分批文件:   2%|▏         | 6/377 [00:04<04:20,  1.42batch/s]"
     ]
    },
    {
     "name": "stdout",
     "output_type": "stream",
     "text": [
      "已保存 ./data/PubMed/split\\SEAL_train_pos_batch5.pt，当前内存占用率 41.8%\n"
     ]
    },
    {
     "name": "stderr",
     "output_type": "stream",
     "text": [
      "保存 ./data/PubMed/split\\SEAL_train_pos 分批文件:   2%|▏         | 7/377 [00:04<04:13,  1.46batch/s]"
     ]
    },
    {
     "name": "stdout",
     "output_type": "stream",
     "text": [
      "已保存 ./data/PubMed/split\\SEAL_train_pos_batch6.pt，当前内存占用率 41.9%\n"
     ]
    },
    {
     "name": "stderr",
     "output_type": "stream",
     "text": [
      "保存 ./data/PubMed/split\\SEAL_train_pos 分批文件:   2%|▏         | 8/377 [00:05<04:15,  1.45batch/s]"
     ]
    },
    {
     "name": "stdout",
     "output_type": "stream",
     "text": [
      "已保存 ./data/PubMed/split\\SEAL_train_pos_batch7.pt，当前内存占用率 42.0%\n"
     ]
    },
    {
     "name": "stderr",
     "output_type": "stream",
     "text": [
      "保存 ./data/PubMed/split\\SEAL_train_pos 分批文件:   2%|▏         | 9/377 [00:06<04:16,  1.44batch/s]"
     ]
    },
    {
     "name": "stdout",
     "output_type": "stream",
     "text": [
      "已保存 ./data/PubMed/split\\SEAL_train_pos_batch8.pt，当前内存占用率 42.0%\n"
     ]
    },
    {
     "name": "stderr",
     "output_type": "stream",
     "text": [
      "保存 ./data/PubMed/split\\SEAL_train_pos 分批文件:   3%|▎         | 10/377 [00:07<04:12,  1.45batch/s]"
     ]
    },
    {
     "name": "stdout",
     "output_type": "stream",
     "text": [
      "已保存 ./data/PubMed/split\\SEAL_train_pos_batch9.pt，当前内存占用率 41.8%\n"
     ]
    },
    {
     "name": "stderr",
     "output_type": "stream",
     "text": [
      "保存 ./data/PubMed/split\\SEAL_train_pos 分批文件:   3%|▎         | 11/377 [00:07<04:07,  1.48batch/s]"
     ]
    },
    {
     "name": "stdout",
     "output_type": "stream",
     "text": [
      "已保存 ./data/PubMed/split\\SEAL_train_pos_batch10.pt，当前内存占用率 41.9%\n"
     ]
    },
    {
     "name": "stderr",
     "output_type": "stream",
     "text": [
      "保存 ./data/PubMed/split\\SEAL_train_pos 分批文件:   3%|▎         | 12/377 [00:08<04:10,  1.46batch/s]"
     ]
    },
    {
     "name": "stdout",
     "output_type": "stream",
     "text": [
      "已保存 ./data/PubMed/split\\SEAL_train_pos_batch11.pt，当前内存占用率 42.0%\n"
     ]
    },
    {
     "name": "stderr",
     "output_type": "stream",
     "text": [
      "保存 ./data/PubMed/split\\SEAL_train_pos 分批文件:   3%|▎         | 13/377 [00:09<04:05,  1.48batch/s]"
     ]
    },
    {
     "name": "stdout",
     "output_type": "stream",
     "text": [
      "已保存 ./data/PubMed/split\\SEAL_train_pos_batch12.pt，当前内存占用率 42.0%\n"
     ]
    },
    {
     "name": "stderr",
     "output_type": "stream",
     "text": [
      "保存 ./data/PubMed/split\\SEAL_train_pos 分批文件:   4%|▎         | 14/377 [00:09<04:04,  1.48batch/s]"
     ]
    },
    {
     "name": "stdout",
     "output_type": "stream",
     "text": [
      "已保存 ./data/PubMed/split\\SEAL_train_pos_batch13.pt，当前内存占用率 42.0%\n"
     ]
    },
    {
     "name": "stderr",
     "output_type": "stream",
     "text": [
      "保存 ./data/PubMed/split\\SEAL_train_pos 分批文件:   4%|▍         | 15/377 [00:10<04:08,  1.46batch/s]"
     ]
    },
    {
     "name": "stdout",
     "output_type": "stream",
     "text": [
      "已保存 ./data/PubMed/split\\SEAL_train_pos_batch14.pt，当前内存占用率 42.2%\n"
     ]
    },
    {
     "name": "stderr",
     "output_type": "stream",
     "text": [
      "保存 ./data/PubMed/split\\SEAL_train_pos 分批文件:   4%|▍         | 16/377 [00:11<04:09,  1.45batch/s]"
     ]
    },
    {
     "name": "stdout",
     "output_type": "stream",
     "text": [
      "已保存 ./data/PubMed/split\\SEAL_train_pos_batch15.pt，当前内存占用率 42.1%\n"
     ]
    },
    {
     "name": "stderr",
     "output_type": "stream",
     "text": [
      "保存 ./data/PubMed/split\\SEAL_train_pos 分批文件:   5%|▍         | 17/377 [00:11<04:08,  1.45batch/s]"
     ]
    },
    {
     "name": "stdout",
     "output_type": "stream",
     "text": [
      "已保存 ./data/PubMed/split\\SEAL_train_pos_batch16.pt，当前内存占用率 42.2%\n"
     ]
    },
    {
     "name": "stderr",
     "output_type": "stream",
     "text": [
      "保存 ./data/PubMed/split\\SEAL_train_pos 分批文件:   5%|▍         | 18/377 [00:12<04:02,  1.48batch/s]"
     ]
    },
    {
     "name": "stdout",
     "output_type": "stream",
     "text": [
      "已保存 ./data/PubMed/split\\SEAL_train_pos_batch17.pt，当前内存占用率 42.1%\n"
     ]
    },
    {
     "name": "stderr",
     "output_type": "stream",
     "text": [
      "保存 ./data/PubMed/split\\SEAL_train_pos 分批文件:   5%|▌         | 19/377 [00:13<04:02,  1.48batch/s]"
     ]
    },
    {
     "name": "stdout",
     "output_type": "stream",
     "text": [
      "已保存 ./data/PubMed/split\\SEAL_train_pos_batch18.pt，当前内存占用率 42.2%\n"
     ]
    },
    {
     "name": "stderr",
     "output_type": "stream",
     "text": [
      "保存 ./data/PubMed/split\\SEAL_train_pos 分批文件:   5%|▌         | 20/377 [00:13<03:57,  1.51batch/s]"
     ]
    },
    {
     "name": "stdout",
     "output_type": "stream",
     "text": [
      "已保存 ./data/PubMed/split\\SEAL_train_pos_batch19.pt，当前内存占用率 42.1%\n"
     ]
    },
    {
     "name": "stderr",
     "output_type": "stream",
     "text": [
      "保存 ./data/PubMed/split\\SEAL_train_pos 分批文件:   6%|▌         | 21/377 [00:14<03:56,  1.51batch/s]"
     ]
    },
    {
     "name": "stdout",
     "output_type": "stream",
     "text": [
      "已保存 ./data/PubMed/split\\SEAL_train_pos_batch20.pt，当前内存占用率 42.2%\n"
     ]
    },
    {
     "name": "stderr",
     "output_type": "stream",
     "text": [
      "保存 ./data/PubMed/split\\SEAL_train_pos 分批文件:   6%|▌         | 22/377 [00:15<03:58,  1.49batch/s]"
     ]
    },
    {
     "name": "stdout",
     "output_type": "stream",
     "text": [
      "已保存 ./data/PubMed/split\\SEAL_train_pos_batch21.pt，当前内存占用率 42.3%\n"
     ]
    },
    {
     "name": "stderr",
     "output_type": "stream",
     "text": [
      "保存 ./data/PubMed/split\\SEAL_train_pos 分批文件:   6%|▌         | 23/377 [00:15<03:55,  1.50batch/s]"
     ]
    },
    {
     "name": "stdout",
     "output_type": "stream",
     "text": [
      "已保存 ./data/PubMed/split\\SEAL_train_pos_batch22.pt，当前内存占用率 42.4%\n"
     ]
    },
    {
     "name": "stderr",
     "output_type": "stream",
     "text": [
      "保存 ./data/PubMed/split\\SEAL_train_pos 分批文件:   6%|▋         | 24/377 [00:16<04:03,  1.45batch/s]"
     ]
    },
    {
     "name": "stdout",
     "output_type": "stream",
     "text": [
      "已保存 ./data/PubMed/split\\SEAL_train_pos_batch23.pt，当前内存占用率 42.3%\n"
     ]
    },
    {
     "name": "stderr",
     "output_type": "stream",
     "text": [
      "保存 ./data/PubMed/split\\SEAL_train_pos 分批文件:   7%|▋         | 25/377 [00:17<04:00,  1.46batch/s]"
     ]
    },
    {
     "name": "stdout",
     "output_type": "stream",
     "text": [
      "已保存 ./data/PubMed/split\\SEAL_train_pos_batch24.pt，当前内存占用率 42.3%\n"
     ]
    },
    {
     "name": "stderr",
     "output_type": "stream",
     "text": [
      "保存 ./data/PubMed/split\\SEAL_train_pos 分批文件:   7%|▋         | 26/377 [00:17<04:04,  1.44batch/s]"
     ]
    },
    {
     "name": "stdout",
     "output_type": "stream",
     "text": [
      "已保存 ./data/PubMed/split\\SEAL_train_pos_batch25.pt，当前内存占用率 42.4%\n"
     ]
    },
    {
     "name": "stderr",
     "output_type": "stream",
     "text": [
      "保存 ./data/PubMed/split\\SEAL_train_pos 分批文件:   7%|▋         | 27/377 [00:18<04:02,  1.44batch/s]"
     ]
    },
    {
     "name": "stdout",
     "output_type": "stream",
     "text": [
      "已保存 ./data/PubMed/split\\SEAL_train_pos_batch26.pt，当前内存占用率 42.4%\n"
     ]
    },
    {
     "name": "stderr",
     "output_type": "stream",
     "text": [
      "保存 ./data/PubMed/split\\SEAL_train_pos 分批文件:   7%|▋         | 28/377 [00:19<04:00,  1.45batch/s]"
     ]
    },
    {
     "name": "stdout",
     "output_type": "stream",
     "text": [
      "已保存 ./data/PubMed/split\\SEAL_train_pos_batch27.pt，当前内存占用率 42.5%\n"
     ]
    },
    {
     "name": "stderr",
     "output_type": "stream",
     "text": [
      "保存 ./data/PubMed/split\\SEAL_train_pos 分批文件:   8%|▊         | 29/377 [00:19<03:59,  1.45batch/s]"
     ]
    },
    {
     "name": "stdout",
     "output_type": "stream",
     "text": [
      "已保存 ./data/PubMed/split\\SEAL_train_pos_batch28.pt，当前内存占用率 42.6%\n"
     ]
    },
    {
     "name": "stderr",
     "output_type": "stream",
     "text": [
      "保存 ./data/PubMed/split\\SEAL_train_pos 分批文件:   8%|▊         | 30/377 [00:20<03:57,  1.46batch/s]"
     ]
    },
    {
     "name": "stdout",
     "output_type": "stream",
     "text": [
      "已保存 ./data/PubMed/split\\SEAL_train_pos_batch29.pt，当前内存占用率 42.6%\n"
     ]
    },
    {
     "name": "stderr",
     "output_type": "stream",
     "text": [
      "保存 ./data/PubMed/split\\SEAL_train_pos 分批文件:   8%|▊         | 31/377 [00:21<04:00,  1.44batch/s]"
     ]
    },
    {
     "name": "stdout",
     "output_type": "stream",
     "text": [
      "已保存 ./data/PubMed/split\\SEAL_train_pos_batch30.pt，当前内存占用率 42.6%\n"
     ]
    },
    {
     "name": "stderr",
     "output_type": "stream",
     "text": [
      "保存 ./data/PubMed/split\\SEAL_train_pos 分批文件:   8%|▊         | 32/377 [00:22<03:59,  1.44batch/s]"
     ]
    },
    {
     "name": "stdout",
     "output_type": "stream",
     "text": [
      "已保存 ./data/PubMed/split\\SEAL_train_pos_batch31.pt，当前内存占用率 42.7%\n"
     ]
    },
    {
     "name": "stderr",
     "output_type": "stream",
     "text": [
      "保存 ./data/PubMed/split\\SEAL_train_pos 分批文件:   9%|▉         | 33/377 [00:22<03:57,  1.45batch/s]"
     ]
    },
    {
     "name": "stdout",
     "output_type": "stream",
     "text": [
      "已保存 ./data/PubMed/split\\SEAL_train_pos_batch32.pt，当前内存占用率 42.7%\n"
     ]
    },
    {
     "name": "stderr",
     "output_type": "stream",
     "text": [
      "保存 ./data/PubMed/split\\SEAL_train_pos 分批文件:   9%|▉         | 34/377 [00:23<03:53,  1.47batch/s]"
     ]
    },
    {
     "name": "stdout",
     "output_type": "stream",
     "text": [
      "已保存 ./data/PubMed/split\\SEAL_train_pos_batch33.pt，当前内存占用率 42.6%\n"
     ]
    },
    {
     "name": "stderr",
     "output_type": "stream",
     "text": [
      "保存 ./data/PubMed/split\\SEAL_train_pos 分批文件:   9%|▉         | 35/377 [00:24<03:52,  1.47batch/s]"
     ]
    },
    {
     "name": "stdout",
     "output_type": "stream",
     "text": [
      "已保存 ./data/PubMed/split\\SEAL_train_pos_batch34.pt，当前内存占用率 42.7%\n"
     ]
    },
    {
     "name": "stderr",
     "output_type": "stream",
     "text": [
      "保存 ./data/PubMed/split\\SEAL_train_pos 分批文件:  10%|▉         | 36/377 [00:24<03:49,  1.48batch/s]"
     ]
    },
    {
     "name": "stdout",
     "output_type": "stream",
     "text": [
      "已保存 ./data/PubMed/split\\SEAL_train_pos_batch35.pt，当前内存占用率 42.7%\n"
     ]
    },
    {
     "name": "stderr",
     "output_type": "stream",
     "text": [
      "保存 ./data/PubMed/split\\SEAL_train_pos 分批文件:  10%|▉         | 37/377 [00:25<03:49,  1.48batch/s]"
     ]
    },
    {
     "name": "stdout",
     "output_type": "stream",
     "text": [
      "已保存 ./data/PubMed/split\\SEAL_train_pos_batch36.pt，当前内存占用率 42.7%\n"
     ]
    },
    {
     "name": "stderr",
     "output_type": "stream",
     "text": [
      "保存 ./data/PubMed/split\\SEAL_train_pos 分批文件:  10%|█         | 38/377 [00:26<03:54,  1.45batch/s]"
     ]
    },
    {
     "name": "stdout",
     "output_type": "stream",
     "text": [
      "已保存 ./data/PubMed/split\\SEAL_train_pos_batch37.pt，当前内存占用率 42.8%\n"
     ]
    },
    {
     "name": "stderr",
     "output_type": "stream",
     "text": [
      "保存 ./data/PubMed/split\\SEAL_train_pos 分批文件:  10%|█         | 39/377 [00:26<03:53,  1.44batch/s]"
     ]
    },
    {
     "name": "stdout",
     "output_type": "stream",
     "text": [
      "已保存 ./data/PubMed/split\\SEAL_train_pos_batch38.pt，当前内存占用率 42.9%\n"
     ]
    },
    {
     "name": "stderr",
     "output_type": "stream",
     "text": [
      "保存 ./data/PubMed/split\\SEAL_train_pos 分批文件:  11%|█         | 40/377 [00:27<03:49,  1.47batch/s]"
     ]
    },
    {
     "name": "stdout",
     "output_type": "stream",
     "text": [
      "已保存 ./data/PubMed/split\\SEAL_train_pos_batch39.pt，当前内存占用率 42.8%\n"
     ]
    },
    {
     "name": "stderr",
     "output_type": "stream",
     "text": [
      "保存 ./data/PubMed/split\\SEAL_train_pos 分批文件:  11%|█         | 41/377 [00:28<03:44,  1.50batch/s]"
     ]
    },
    {
     "name": "stdout",
     "output_type": "stream",
     "text": [
      "已保存 ./data/PubMed/split\\SEAL_train_pos_batch40.pt，当前内存占用率 42.8%\n"
     ]
    },
    {
     "name": "stderr",
     "output_type": "stream",
     "text": [
      "保存 ./data/PubMed/split\\SEAL_train_pos 分批文件:  11%|█         | 42/377 [00:28<03:47,  1.47batch/s]"
     ]
    },
    {
     "name": "stdout",
     "output_type": "stream",
     "text": [
      "已保存 ./data/PubMed/split\\SEAL_train_pos_batch41.pt，当前内存占用率 42.8%\n"
     ]
    },
    {
     "name": "stderr",
     "output_type": "stream",
     "text": [
      "保存 ./data/PubMed/split\\SEAL_train_pos 分批文件:  11%|█▏        | 43/377 [00:29<03:44,  1.49batch/s]"
     ]
    },
    {
     "name": "stdout",
     "output_type": "stream",
     "text": [
      "已保存 ./data/PubMed/split\\SEAL_train_pos_batch42.pt，当前内存占用率 42.8%\n"
     ]
    },
    {
     "name": "stderr",
     "output_type": "stream",
     "text": [
      "保存 ./data/PubMed/split\\SEAL_train_pos 分批文件:  12%|█▏        | 44/377 [00:30<03:41,  1.50batch/s]"
     ]
    },
    {
     "name": "stdout",
     "output_type": "stream",
     "text": [
      "已保存 ./data/PubMed/split\\SEAL_train_pos_batch43.pt，当前内存占用率 42.8%\n"
     ]
    },
    {
     "name": "stderr",
     "output_type": "stream",
     "text": [
      "保存 ./data/PubMed/split\\SEAL_train_pos 分批文件:  12%|█▏        | 45/377 [00:30<03:39,  1.51batch/s]"
     ]
    },
    {
     "name": "stdout",
     "output_type": "stream",
     "text": [
      "已保存 ./data/PubMed/split\\SEAL_train_pos_batch44.pt，当前内存占用率 42.9%\n"
     ]
    },
    {
     "name": "stderr",
     "output_type": "stream",
     "text": [
      "保存 ./data/PubMed/split\\SEAL_train_pos 分批文件:  12%|█▏        | 46/377 [00:31<03:49,  1.44batch/s]"
     ]
    },
    {
     "name": "stdout",
     "output_type": "stream",
     "text": [
      "已保存 ./data/PubMed/split\\SEAL_train_pos_batch45.pt，当前内存占用率 42.8%\n"
     ]
    },
    {
     "name": "stderr",
     "output_type": "stream",
     "text": [
      "保存 ./data/PubMed/split\\SEAL_train_pos 分批文件:  12%|█▏        | 47/377 [00:32<03:44,  1.47batch/s]"
     ]
    },
    {
     "name": "stdout",
     "output_type": "stream",
     "text": [
      "已保存 ./data/PubMed/split\\SEAL_train_pos_batch46.pt，当前内存占用率 42.8%\n"
     ]
    },
    {
     "name": "stderr",
     "output_type": "stream",
     "text": [
      "保存 ./data/PubMed/split\\SEAL_train_pos 分批文件:  13%|█▎        | 48/377 [00:32<03:43,  1.47batch/s]"
     ]
    },
    {
     "name": "stdout",
     "output_type": "stream",
     "text": [
      "已保存 ./data/PubMed/split\\SEAL_train_pos_batch47.pt，当前内存占用率 42.8%\n"
     ]
    },
    {
     "name": "stderr",
     "output_type": "stream",
     "text": [
      "保存 ./data/PubMed/split\\SEAL_train_pos 分批文件:  13%|█▎        | 49/377 [00:33<03:44,  1.46batch/s]"
     ]
    },
    {
     "name": "stdout",
     "output_type": "stream",
     "text": [
      "已保存 ./data/PubMed/split\\SEAL_train_pos_batch48.pt，当前内存占用率 42.9%\n"
     ]
    },
    {
     "name": "stderr",
     "output_type": "stream",
     "text": [
      "保存 ./data/PubMed/split\\SEAL_train_pos 分批文件:  13%|█▎        | 50/377 [00:34<03:41,  1.47batch/s]"
     ]
    },
    {
     "name": "stdout",
     "output_type": "stream",
     "text": [
      "已保存 ./data/PubMed/split\\SEAL_train_pos_batch49.pt，当前内存占用率 42.7%\n"
     ]
    },
    {
     "name": "stderr",
     "output_type": "stream",
     "text": [
      "保存 ./data/PubMed/split\\SEAL_train_pos 分批文件:  14%|█▎        | 51/377 [00:34<03:38,  1.49batch/s]"
     ]
    },
    {
     "name": "stdout",
     "output_type": "stream",
     "text": [
      "已保存 ./data/PubMed/split\\SEAL_train_pos_batch50.pt，当前内存占用率 42.8%\n"
     ]
    },
    {
     "name": "stderr",
     "output_type": "stream",
     "text": [
      "保存 ./data/PubMed/split\\SEAL_train_pos 分批文件:  14%|█▍        | 52/377 [00:35<03:39,  1.48batch/s]"
     ]
    },
    {
     "name": "stdout",
     "output_type": "stream",
     "text": [
      "已保存 ./data/PubMed/split\\SEAL_train_pos_batch51.pt，当前内存占用率 42.7%\n"
     ]
    },
    {
     "name": "stderr",
     "output_type": "stream",
     "text": [
      "保存 ./data/PubMed/split\\SEAL_train_pos 分批文件:  14%|█▍        | 53/377 [00:36<03:47,  1.42batch/s]"
     ]
    },
    {
     "name": "stdout",
     "output_type": "stream",
     "text": [
      "已保存 ./data/PubMed/split\\SEAL_train_pos_batch52.pt，当前内存占用率 42.7%\n"
     ]
    },
    {
     "name": "stderr",
     "output_type": "stream",
     "text": [
      "保存 ./data/PubMed/split\\SEAL_train_pos 分批文件:  14%|█▍        | 54/377 [00:37<03:42,  1.45batch/s]"
     ]
    },
    {
     "name": "stdout",
     "output_type": "stream",
     "text": [
      "已保存 ./data/PubMed/split\\SEAL_train_pos_batch53.pt，当前内存占用率 42.7%\n"
     ]
    },
    {
     "name": "stderr",
     "output_type": "stream",
     "text": [
      "保存 ./data/PubMed/split\\SEAL_train_pos 分批文件:  15%|█▍        | 55/377 [00:37<03:38,  1.47batch/s]"
     ]
    },
    {
     "name": "stdout",
     "output_type": "stream",
     "text": [
      "已保存 ./data/PubMed/split\\SEAL_train_pos_batch54.pt，当前内存占用率 42.7%\n"
     ]
    },
    {
     "name": "stderr",
     "output_type": "stream",
     "text": [
      "保存 ./data/PubMed/split\\SEAL_train_pos 分批文件:  15%|█▍        | 56/377 [00:38<03:39,  1.46batch/s]"
     ]
    },
    {
     "name": "stdout",
     "output_type": "stream",
     "text": [
      "已保存 ./data/PubMed/split\\SEAL_train_pos_batch55.pt，当前内存占用率 42.8%\n"
     ]
    },
    {
     "name": "stderr",
     "output_type": "stream",
     "text": [
      "保存 ./data/PubMed/split\\SEAL_train_pos 分批文件:  15%|█▌        | 57/377 [00:39<03:39,  1.46batch/s]"
     ]
    },
    {
     "name": "stdout",
     "output_type": "stream",
     "text": [
      "已保存 ./data/PubMed/split\\SEAL_train_pos_batch56.pt，当前内存占用率 42.8%\n"
     ]
    },
    {
     "name": "stderr",
     "output_type": "stream",
     "text": [
      "保存 ./data/PubMed/split\\SEAL_train_pos 分批文件:  15%|█▌        | 58/377 [00:39<03:36,  1.47batch/s]"
     ]
    },
    {
     "name": "stdout",
     "output_type": "stream",
     "text": [
      "已保存 ./data/PubMed/split\\SEAL_train_pos_batch57.pt，当前内存占用率 42.7%\n"
     ]
    },
    {
     "name": "stderr",
     "output_type": "stream",
     "text": [
      "保存 ./data/PubMed/split\\SEAL_train_pos 分批文件:  16%|█▌        | 59/377 [00:40<03:35,  1.47batch/s]"
     ]
    },
    {
     "name": "stdout",
     "output_type": "stream",
     "text": [
      "已保存 ./data/PubMed/split\\SEAL_train_pos_batch58.pt，当前内存占用率 42.8%\n"
     ]
    },
    {
     "name": "stderr",
     "output_type": "stream",
     "text": [
      "保存 ./data/PubMed/split\\SEAL_train_pos 分批文件:  16%|█▌        | 60/377 [00:41<03:34,  1.48batch/s]"
     ]
    },
    {
     "name": "stdout",
     "output_type": "stream",
     "text": [
      "已保存 ./data/PubMed/split\\SEAL_train_pos_batch59.pt，当前内存占用率 42.7%\n"
     ]
    },
    {
     "name": "stderr",
     "output_type": "stream",
     "text": [
      "保存 ./data/PubMed/split\\SEAL_train_pos 分批文件:  16%|█▌        | 61/377 [00:41<03:40,  1.44batch/s]"
     ]
    },
    {
     "name": "stdout",
     "output_type": "stream",
     "text": [
      "已保存 ./data/PubMed/split\\SEAL_train_pos_batch60.pt，当前内存占用率 42.7%\n"
     ]
    },
    {
     "name": "stderr",
     "output_type": "stream",
     "text": [
      "保存 ./data/PubMed/split\\SEAL_train_pos 分批文件:  16%|█▋        | 62/377 [00:42<03:38,  1.44batch/s]"
     ]
    },
    {
     "name": "stdout",
     "output_type": "stream",
     "text": [
      "已保存 ./data/PubMed/split\\SEAL_train_pos_batch61.pt，当前内存占用率 42.7%\n"
     ]
    },
    {
     "name": "stderr",
     "output_type": "stream",
     "text": [
      "保存 ./data/PubMed/split\\SEAL_train_pos 分批文件:  17%|█▋        | 63/377 [00:43<03:42,  1.41batch/s]"
     ]
    },
    {
     "name": "stdout",
     "output_type": "stream",
     "text": [
      "已保存 ./data/PubMed/split\\SEAL_train_pos_batch62.pt，当前内存占用率 42.7%\n"
     ]
    },
    {
     "name": "stderr",
     "output_type": "stream",
     "text": [
      "保存 ./data/PubMed/split\\SEAL_train_pos 分批文件:  17%|█▋        | 64/377 [00:43<03:40,  1.42batch/s]"
     ]
    },
    {
     "name": "stdout",
     "output_type": "stream",
     "text": [
      "已保存 ./data/PubMed/split\\SEAL_train_pos_batch63.pt，当前内存占用率 42.7%\n"
     ]
    },
    {
     "name": "stderr",
     "output_type": "stream",
     "text": [
      "保存 ./data/PubMed/split\\SEAL_train_pos 分批文件:  17%|█▋        | 65/377 [00:44<03:37,  1.44batch/s]"
     ]
    },
    {
     "name": "stdout",
     "output_type": "stream",
     "text": [
      "已保存 ./data/PubMed/split\\SEAL_train_pos_batch64.pt，当前内存占用率 42.8%\n"
     ]
    },
    {
     "name": "stderr",
     "output_type": "stream",
     "text": [
      "保存 ./data/PubMed/split\\SEAL_train_pos 分批文件:  18%|█▊        | 66/377 [00:45<03:39,  1.42batch/s]"
     ]
    },
    {
     "name": "stdout",
     "output_type": "stream",
     "text": [
      "已保存 ./data/PubMed/split\\SEAL_train_pos_batch65.pt，当前内存占用率 42.9%\n"
     ]
    },
    {
     "name": "stderr",
     "output_type": "stream",
     "text": [
      "保存 ./data/PubMed/split\\SEAL_train_pos 分批文件:  18%|█▊        | 67/377 [00:46<03:37,  1.43batch/s]"
     ]
    },
    {
     "name": "stdout",
     "output_type": "stream",
     "text": [
      "已保存 ./data/PubMed/split\\SEAL_train_pos_batch66.pt，当前内存占用率 42.9%\n"
     ]
    },
    {
     "name": "stderr",
     "output_type": "stream",
     "text": [
      "保存 ./data/PubMed/split\\SEAL_train_pos 分批文件:  18%|█▊        | 68/377 [00:46<03:33,  1.45batch/s]"
     ]
    },
    {
     "name": "stdout",
     "output_type": "stream",
     "text": [
      "已保存 ./data/PubMed/split\\SEAL_train_pos_batch67.pt，当前内存占用率 42.8%\n"
     ]
    },
    {
     "name": "stderr",
     "output_type": "stream",
     "text": [
      "保存 ./data/PubMed/split\\SEAL_train_pos 分批文件:  18%|█▊        | 69/377 [00:47<03:34,  1.44batch/s]"
     ]
    },
    {
     "name": "stdout",
     "output_type": "stream",
     "text": [
      "已保存 ./data/PubMed/split\\SEAL_train_pos_batch68.pt，当前内存占用率 42.7%\n"
     ]
    },
    {
     "name": "stderr",
     "output_type": "stream",
     "text": [
      "保存 ./data/PubMed/split\\SEAL_train_pos 分批文件:  19%|█▊        | 70/377 [00:48<03:33,  1.44batch/s]"
     ]
    },
    {
     "name": "stdout",
     "output_type": "stream",
     "text": [
      "已保存 ./data/PubMed/split\\SEAL_train_pos_batch69.pt，当前内存占用率 42.8%\n"
     ]
    },
    {
     "name": "stderr",
     "output_type": "stream",
     "text": [
      "保存 ./data/PubMed/split\\SEAL_train_pos 分批文件:  19%|█▉        | 71/377 [00:48<03:27,  1.47batch/s]"
     ]
    },
    {
     "name": "stdout",
     "output_type": "stream",
     "text": [
      "已保存 ./data/PubMed/split\\SEAL_train_pos_batch70.pt，当前内存占用率 42.9%\n"
     ]
    },
    {
     "name": "stderr",
     "output_type": "stream",
     "text": [
      "保存 ./data/PubMed/split\\SEAL_train_pos 分批文件:  19%|█▉        | 72/377 [00:49<03:26,  1.48batch/s]"
     ]
    },
    {
     "name": "stdout",
     "output_type": "stream",
     "text": [
      "已保存 ./data/PubMed/split\\SEAL_train_pos_batch71.pt，当前内存占用率 42.8%\n"
     ]
    },
    {
     "name": "stderr",
     "output_type": "stream",
     "text": [
      "保存 ./data/PubMed/split\\SEAL_train_pos 分批文件:  19%|█▉        | 73/377 [00:50<03:26,  1.47batch/s]"
     ]
    },
    {
     "name": "stdout",
     "output_type": "stream",
     "text": [
      "已保存 ./data/PubMed/split\\SEAL_train_pos_batch72.pt，当前内存占用率 42.9%\n"
     ]
    },
    {
     "name": "stderr",
     "output_type": "stream",
     "text": [
      "保存 ./data/PubMed/split\\SEAL_train_pos 分批文件:  20%|█▉        | 74/377 [00:50<03:23,  1.49batch/s]"
     ]
    },
    {
     "name": "stdout",
     "output_type": "stream",
     "text": [
      "已保存 ./data/PubMed/split\\SEAL_train_pos_batch73.pt，当前内存占用率 42.9%\n"
     ]
    },
    {
     "name": "stderr",
     "output_type": "stream",
     "text": [
      "保存 ./data/PubMed/split\\SEAL_train_pos 分批文件:  20%|█▉        | 75/377 [00:51<03:24,  1.48batch/s]"
     ]
    },
    {
     "name": "stdout",
     "output_type": "stream",
     "text": [
      "已保存 ./data/PubMed/split\\SEAL_train_pos_batch74.pt，当前内存占用率 43.0%\n"
     ]
    },
    {
     "name": "stderr",
     "output_type": "stream",
     "text": [
      "保存 ./data/PubMed/split\\SEAL_train_pos 分批文件:  20%|██        | 76/377 [00:52<03:24,  1.47batch/s]"
     ]
    },
    {
     "name": "stdout",
     "output_type": "stream",
     "text": [
      "已保存 ./data/PubMed/split\\SEAL_train_pos_batch75.pt，当前内存占用率 42.9%\n"
     ]
    },
    {
     "name": "stderr",
     "output_type": "stream",
     "text": [
      "保存 ./data/PubMed/split\\SEAL_train_pos 分批文件:  20%|██        | 77/377 [00:52<03:31,  1.42batch/s]"
     ]
    },
    {
     "name": "stdout",
     "output_type": "stream",
     "text": [
      "已保存 ./data/PubMed/split\\SEAL_train_pos_batch76.pt，当前内存占用率 42.8%\n"
     ]
    },
    {
     "name": "stderr",
     "output_type": "stream",
     "text": [
      "保存 ./data/PubMed/split\\SEAL_train_pos 分批文件:  21%|██        | 78/377 [00:53<03:28,  1.44batch/s]"
     ]
    },
    {
     "name": "stdout",
     "output_type": "stream",
     "text": [
      "已保存 ./data/PubMed/split\\SEAL_train_pos_batch77.pt，当前内存占用率 42.9%\n"
     ]
    },
    {
     "name": "stderr",
     "output_type": "stream",
     "text": [
      "保存 ./data/PubMed/split\\SEAL_train_pos 分批文件:  21%|██        | 79/377 [00:54<03:27,  1.44batch/s]"
     ]
    },
    {
     "name": "stdout",
     "output_type": "stream",
     "text": [
      "已保存 ./data/PubMed/split\\SEAL_train_pos_batch78.pt，当前内存占用率 42.9%\n"
     ]
    },
    {
     "name": "stderr",
     "output_type": "stream",
     "text": [
      "保存 ./data/PubMed/split\\SEAL_train_pos 分批文件:  21%|██        | 80/377 [00:54<03:26,  1.44batch/s]"
     ]
    },
    {
     "name": "stdout",
     "output_type": "stream",
     "text": [
      "已保存 ./data/PubMed/split\\SEAL_train_pos_batch79.pt，当前内存占用率 43.0%\n"
     ]
    },
    {
     "name": "stderr",
     "output_type": "stream",
     "text": [
      "保存 ./data/PubMed/split\\SEAL_train_pos 分批文件:  21%|██▏       | 81/377 [00:55<03:24,  1.45batch/s]"
     ]
    },
    {
     "name": "stdout",
     "output_type": "stream",
     "text": [
      "已保存 ./data/PubMed/split\\SEAL_train_pos_batch80.pt，当前内存占用率 42.8%\n"
     ]
    },
    {
     "name": "stderr",
     "output_type": "stream",
     "text": [
      "保存 ./data/PubMed/split\\SEAL_train_pos 分批文件:  22%|██▏       | 82/377 [00:56<03:27,  1.42batch/s]"
     ]
    },
    {
     "name": "stdout",
     "output_type": "stream",
     "text": [
      "已保存 ./data/PubMed/split\\SEAL_train_pos_batch81.pt，当前内存占用率 43.0%\n"
     ]
    },
    {
     "name": "stderr",
     "output_type": "stream",
     "text": [
      "保存 ./data/PubMed/split\\SEAL_train_pos 分批文件:  22%|██▏       | 83/377 [00:57<03:29,  1.40batch/s]"
     ]
    },
    {
     "name": "stdout",
     "output_type": "stream",
     "text": [
      "已保存 ./data/PubMed/split\\SEAL_train_pos_batch82.pt，当前内存占用率 43.0%\n"
     ]
    },
    {
     "name": "stderr",
     "output_type": "stream",
     "text": [
      "保存 ./data/PubMed/split\\SEAL_train_pos 分批文件:  22%|██▏       | 84/377 [00:57<03:24,  1.43batch/s]"
     ]
    },
    {
     "name": "stdout",
     "output_type": "stream",
     "text": [
      "已保存 ./data/PubMed/split\\SEAL_train_pos_batch83.pt，当前内存占用率 42.9%\n"
     ]
    },
    {
     "name": "stderr",
     "output_type": "stream",
     "text": [
      "保存 ./data/PubMed/split\\SEAL_train_pos 分批文件:  23%|██▎       | 85/377 [00:58<03:31,  1.38batch/s]"
     ]
    },
    {
     "name": "stdout",
     "output_type": "stream",
     "text": [
      "已保存 ./data/PubMed/split\\SEAL_train_pos_batch84.pt，当前内存占用率 42.8%\n"
     ]
    },
    {
     "name": "stderr",
     "output_type": "stream",
     "text": [
      "保存 ./data/PubMed/split\\SEAL_train_pos 分批文件:  23%|██▎       | 86/377 [00:59<03:24,  1.43batch/s]"
     ]
    },
    {
     "name": "stdout",
     "output_type": "stream",
     "text": [
      "已保存 ./data/PubMed/split\\SEAL_train_pos_batch85.pt，当前内存占用率 43.0%\n"
     ]
    },
    {
     "name": "stderr",
     "output_type": "stream",
     "text": [
      "保存 ./data/PubMed/split\\SEAL_train_pos 分批文件:  23%|██▎       | 87/377 [00:59<03:25,  1.41batch/s]"
     ]
    },
    {
     "name": "stdout",
     "output_type": "stream",
     "text": [
      "已保存 ./data/PubMed/split\\SEAL_train_pos_batch86.pt，当前内存占用率 42.9%\n"
     ]
    },
    {
     "name": "stderr",
     "output_type": "stream",
     "text": [
      "保存 ./data/PubMed/split\\SEAL_train_pos 分批文件:  23%|██▎       | 88/377 [01:00<03:28,  1.39batch/s]"
     ]
    },
    {
     "name": "stdout",
     "output_type": "stream",
     "text": [
      "已保存 ./data/PubMed/split\\SEAL_train_pos_batch87.pt，当前内存占用率 42.9%\n"
     ]
    },
    {
     "name": "stderr",
     "output_type": "stream",
     "text": [
      "保存 ./data/PubMed/split\\SEAL_train_pos 分批文件:  24%|██▎       | 89/377 [01:01<03:22,  1.42batch/s]"
     ]
    },
    {
     "name": "stdout",
     "output_type": "stream",
     "text": [
      "已保存 ./data/PubMed/split\\SEAL_train_pos_batch88.pt，当前内存占用率 42.9%\n"
     ]
    },
    {
     "name": "stderr",
     "output_type": "stream",
     "text": [
      "保存 ./data/PubMed/split\\SEAL_train_pos 分批文件:  24%|██▍       | 90/377 [01:02<03:20,  1.43batch/s]"
     ]
    },
    {
     "name": "stdout",
     "output_type": "stream",
     "text": [
      "已保存 ./data/PubMed/split\\SEAL_train_pos_batch89.pt，当前内存占用率 42.9%\n"
     ]
    },
    {
     "name": "stderr",
     "output_type": "stream",
     "text": [
      "保存 ./data/PubMed/split\\SEAL_train_pos 分批文件:  24%|██▍       | 91/377 [01:02<03:16,  1.46batch/s]"
     ]
    },
    {
     "name": "stdout",
     "output_type": "stream",
     "text": [
      "已保存 ./data/PubMed/split\\SEAL_train_pos_batch90.pt，当前内存占用率 42.9%\n"
     ]
    },
    {
     "name": "stderr",
     "output_type": "stream",
     "text": [
      "保存 ./data/PubMed/split\\SEAL_train_pos 分批文件:  24%|██▍       | 92/377 [01:03<03:21,  1.41batch/s]"
     ]
    },
    {
     "name": "stdout",
     "output_type": "stream",
     "text": [
      "已保存 ./data/PubMed/split\\SEAL_train_pos_batch91.pt，当前内存占用率 43.1%\n"
     ]
    },
    {
     "name": "stderr",
     "output_type": "stream",
     "text": [
      "保存 ./data/PubMed/split\\SEAL_train_pos 分批文件:  25%|██▍       | 93/377 [01:04<03:26,  1.38batch/s]"
     ]
    },
    {
     "name": "stdout",
     "output_type": "stream",
     "text": [
      "已保存 ./data/PubMed/split\\SEAL_train_pos_batch92.pt，当前内存占用率 43.0%\n"
     ]
    },
    {
     "name": "stderr",
     "output_type": "stream",
     "text": [
      "保存 ./data/PubMed/split\\SEAL_train_pos 分批文件:  25%|██▍       | 94/377 [01:04<03:24,  1.39batch/s]"
     ]
    },
    {
     "name": "stdout",
     "output_type": "stream",
     "text": [
      "已保存 ./data/PubMed/split\\SEAL_train_pos_batch93.pt，当前内存占用率 43.0%\n"
     ]
    },
    {
     "name": "stderr",
     "output_type": "stream",
     "text": [
      "保存 ./data/PubMed/split\\SEAL_train_pos 分批文件:  25%|██▌       | 95/377 [01:05<03:20,  1.41batch/s]"
     ]
    },
    {
     "name": "stdout",
     "output_type": "stream",
     "text": [
      "已保存 ./data/PubMed/split\\SEAL_train_pos_batch94.pt，当前内存占用率 42.9%\n"
     ]
    },
    {
     "name": "stderr",
     "output_type": "stream",
     "text": [
      "保存 ./data/PubMed/split\\SEAL_train_pos 分批文件:  25%|██▌       | 96/377 [01:06<03:19,  1.41batch/s]"
     ]
    },
    {
     "name": "stdout",
     "output_type": "stream",
     "text": [
      "已保存 ./data/PubMed/split\\SEAL_train_pos_batch95.pt，当前内存占用率 43.1%\n"
     ]
    },
    {
     "name": "stderr",
     "output_type": "stream",
     "text": [
      "保存 ./data/PubMed/split\\SEAL_train_pos 分批文件:  26%|██▌       | 97/377 [01:07<03:17,  1.41batch/s]"
     ]
    },
    {
     "name": "stdout",
     "output_type": "stream",
     "text": [
      "已保存 ./data/PubMed/split\\SEAL_train_pos_batch96.pt，当前内存占用率 43.1%\n"
     ]
    },
    {
     "name": "stderr",
     "output_type": "stream",
     "text": [
      "保存 ./data/PubMed/split\\SEAL_train_pos 分批文件:  26%|██▌       | 98/377 [01:07<03:17,  1.42batch/s]"
     ]
    },
    {
     "name": "stdout",
     "output_type": "stream",
     "text": [
      "已保存 ./data/PubMed/split\\SEAL_train_pos_batch97.pt，当前内存占用率 43.0%\n"
     ]
    },
    {
     "name": "stderr",
     "output_type": "stream",
     "text": [
      "保存 ./data/PubMed/split\\SEAL_train_pos 分批文件:  26%|██▋       | 99/377 [01:08<03:13,  1.43batch/s]"
     ]
    },
    {
     "name": "stdout",
     "output_type": "stream",
     "text": [
      "已保存 ./data/PubMed/split\\SEAL_train_pos_batch98.pt，当前内存占用率 43.1%\n"
     ]
    },
    {
     "name": "stderr",
     "output_type": "stream",
     "text": [
      "保存 ./data/PubMed/split\\SEAL_train_pos 分批文件:  27%|██▋       | 100/377 [01:09<03:14,  1.43batch/s]"
     ]
    },
    {
     "name": "stdout",
     "output_type": "stream",
     "text": [
      "已保存 ./data/PubMed/split\\SEAL_train_pos_batch99.pt，当前内存占用率 43.1%\n"
     ]
    },
    {
     "name": "stderr",
     "output_type": "stream",
     "text": [
      "保存 ./data/PubMed/split\\SEAL_train_pos 分批文件:  27%|██▋       | 101/377 [01:09<03:16,  1.40batch/s]"
     ]
    },
    {
     "name": "stdout",
     "output_type": "stream",
     "text": [
      "已保存 ./data/PubMed/split\\SEAL_train_pos_batch100.pt，当前内存占用率 43.0%\n"
     ]
    },
    {
     "name": "stderr",
     "output_type": "stream",
     "text": [
      "保存 ./data/PubMed/split\\SEAL_train_pos 分批文件:  27%|██▋       | 102/377 [01:10<03:14,  1.41batch/s]"
     ]
    },
    {
     "name": "stdout",
     "output_type": "stream",
     "text": [
      "已保存 ./data/PubMed/split\\SEAL_train_pos_batch101.pt，当前内存占用率 43.0%\n"
     ]
    },
    {
     "name": "stderr",
     "output_type": "stream",
     "text": [
      "保存 ./data/PubMed/split\\SEAL_train_pos 分批文件:  27%|██▋       | 103/377 [01:11<03:15,  1.40batch/s]"
     ]
    },
    {
     "name": "stdout",
     "output_type": "stream",
     "text": [
      "已保存 ./data/PubMed/split\\SEAL_train_pos_batch102.pt，当前内存占用率 43.0%\n"
     ]
    },
    {
     "name": "stderr",
     "output_type": "stream",
     "text": [
      "保存 ./data/PubMed/split\\SEAL_train_pos 分批文件:  28%|██▊       | 104/377 [01:11<03:10,  1.43batch/s]"
     ]
    },
    {
     "name": "stdout",
     "output_type": "stream",
     "text": [
      "已保存 ./data/PubMed/split\\SEAL_train_pos_batch103.pt，当前内存占用率 43.1%\n"
     ]
    },
    {
     "name": "stderr",
     "output_type": "stream",
     "text": [
      "保存 ./data/PubMed/split\\SEAL_train_pos 分批文件:  28%|██▊       | 105/377 [01:12<03:12,  1.41batch/s]"
     ]
    },
    {
     "name": "stdout",
     "output_type": "stream",
     "text": [
      "已保存 ./data/PubMed/split\\SEAL_train_pos_batch104.pt，当前内存占用率 43.1%\n"
     ]
    },
    {
     "name": "stderr",
     "output_type": "stream",
     "text": [
      "保存 ./data/PubMed/split\\SEAL_train_pos 分批文件:  28%|██▊       | 106/377 [01:13<03:09,  1.43batch/s]"
     ]
    },
    {
     "name": "stdout",
     "output_type": "stream",
     "text": [
      "已保存 ./data/PubMed/split\\SEAL_train_pos_batch105.pt，当前内存占用率 43.1%\n"
     ]
    },
    {
     "name": "stderr",
     "output_type": "stream",
     "text": [
      "保存 ./data/PubMed/split\\SEAL_train_pos 分批文件:  28%|██▊       | 107/377 [01:14<03:08,  1.43batch/s]"
     ]
    },
    {
     "name": "stdout",
     "output_type": "stream",
     "text": [
      "已保存 ./data/PubMed/split\\SEAL_train_pos_batch106.pt，当前内存占用率 43.1%\n"
     ]
    },
    {
     "name": "stderr",
     "output_type": "stream",
     "text": [
      "保存 ./data/PubMed/split\\SEAL_train_pos 分批文件:  29%|██▊       | 108/377 [01:14<03:06,  1.45batch/s]"
     ]
    },
    {
     "name": "stdout",
     "output_type": "stream",
     "text": [
      "已保存 ./data/PubMed/split\\SEAL_train_pos_batch107.pt，当前内存占用率 43.0%\n"
     ]
    },
    {
     "name": "stderr",
     "output_type": "stream",
     "text": [
      "保存 ./data/PubMed/split\\SEAL_train_pos 分批文件:  29%|██▉       | 109/377 [01:15<03:12,  1.39batch/s]"
     ]
    },
    {
     "name": "stdout",
     "output_type": "stream",
     "text": [
      "已保存 ./data/PubMed/split\\SEAL_train_pos_batch108.pt，当前内存占用率 43.0%\n"
     ]
    },
    {
     "name": "stderr",
     "output_type": "stream",
     "text": [
      "保存 ./data/PubMed/split\\SEAL_train_pos 分批文件:  29%|██▉       | 110/377 [01:16<03:09,  1.41batch/s]"
     ]
    },
    {
     "name": "stdout",
     "output_type": "stream",
     "text": [
      "已保存 ./data/PubMed/split\\SEAL_train_pos_batch109.pt，当前内存占用率 43.0%\n"
     ]
    },
    {
     "name": "stderr",
     "output_type": "stream",
     "text": [
      "保存 ./data/PubMed/split\\SEAL_train_pos 分批文件:  29%|██▉       | 111/377 [01:16<03:05,  1.44batch/s]"
     ]
    },
    {
     "name": "stdout",
     "output_type": "stream",
     "text": [
      "已保存 ./data/PubMed/split\\SEAL_train_pos_batch110.pt，当前内存占用率 43.1%\n"
     ]
    },
    {
     "name": "stderr",
     "output_type": "stream",
     "text": [
      "保存 ./data/PubMed/split\\SEAL_train_pos 分批文件:  30%|██▉       | 112/377 [01:17<03:05,  1.43batch/s]"
     ]
    },
    {
     "name": "stdout",
     "output_type": "stream",
     "text": [
      "已保存 ./data/PubMed/split\\SEAL_train_pos_batch111.pt，当前内存占用率 43.0%\n"
     ]
    },
    {
     "name": "stderr",
     "output_type": "stream",
     "text": [
      "保存 ./data/PubMed/split\\SEAL_train_pos 分批文件:  30%|██▉       | 113/377 [01:18<03:04,  1.43batch/s]"
     ]
    },
    {
     "name": "stdout",
     "output_type": "stream",
     "text": [
      "已保存 ./data/PubMed/split\\SEAL_train_pos_batch112.pt，当前内存占用率 43.1%\n"
     ]
    },
    {
     "name": "stderr",
     "output_type": "stream",
     "text": [
      "保存 ./data/PubMed/split\\SEAL_train_pos 分批文件:  30%|███       | 114/377 [01:18<03:02,  1.44batch/s]"
     ]
    },
    {
     "name": "stdout",
     "output_type": "stream",
     "text": [
      "已保存 ./data/PubMed/split\\SEAL_train_pos_batch113.pt，当前内存占用率 43.0%\n"
     ]
    },
    {
     "name": "stderr",
     "output_type": "stream",
     "text": [
      "保存 ./data/PubMed/split\\SEAL_train_pos 分批文件:  31%|███       | 115/377 [01:19<03:11,  1.37batch/s]"
     ]
    },
    {
     "name": "stdout",
     "output_type": "stream",
     "text": [
      "已保存 ./data/PubMed/split\\SEAL_train_pos_batch114.pt，当前内存占用率 43.1%\n"
     ]
    },
    {
     "name": "stderr",
     "output_type": "stream",
     "text": [
      "保存 ./data/PubMed/split\\SEAL_train_pos 分批文件:  31%|███       | 116/377 [01:20<03:08,  1.38batch/s]"
     ]
    },
    {
     "name": "stdout",
     "output_type": "stream",
     "text": [
      "已保存 ./data/PubMed/split\\SEAL_train_pos_batch115.pt，当前内存占用率 43.0%\n"
     ]
    },
    {
     "name": "stderr",
     "output_type": "stream",
     "text": [
      "保存 ./data/PubMed/split\\SEAL_train_pos 分批文件:  31%|███       | 117/377 [01:21<03:00,  1.44batch/s]"
     ]
    },
    {
     "name": "stdout",
     "output_type": "stream",
     "text": [
      "已保存 ./data/PubMed/split\\SEAL_train_pos_batch116.pt，当前内存占用率 43.0%\n"
     ]
    },
    {
     "name": "stderr",
     "output_type": "stream",
     "text": [
      "保存 ./data/PubMed/split\\SEAL_train_pos 分批文件:  31%|███▏      | 118/377 [01:21<02:57,  1.46batch/s]"
     ]
    },
    {
     "name": "stdout",
     "output_type": "stream",
     "text": [
      "已保存 ./data/PubMed/split\\SEAL_train_pos_batch117.pt，当前内存占用率 43.0%\n"
     ]
    },
    {
     "name": "stderr",
     "output_type": "stream",
     "text": [
      "保存 ./data/PubMed/split\\SEAL_train_pos 分批文件:  32%|███▏      | 119/377 [01:22<02:56,  1.46batch/s]"
     ]
    },
    {
     "name": "stdout",
     "output_type": "stream",
     "text": [
      "已保存 ./data/PubMed/split\\SEAL_train_pos_batch118.pt，当前内存占用率 43.1%\n"
     ]
    },
    {
     "name": "stderr",
     "output_type": "stream",
     "text": [
      "保存 ./data/PubMed/split\\SEAL_train_pos 分批文件:  32%|███▏      | 120/377 [01:23<02:55,  1.46batch/s]"
     ]
    },
    {
     "name": "stdout",
     "output_type": "stream",
     "text": [
      "已保存 ./data/PubMed/split\\SEAL_train_pos_batch119.pt，当前内存占用率 43.1%\n"
     ]
    },
    {
     "name": "stderr",
     "output_type": "stream",
     "text": [
      "保存 ./data/PubMed/split\\SEAL_train_pos 分批文件:  32%|███▏      | 121/377 [01:23<02:53,  1.48batch/s]"
     ]
    },
    {
     "name": "stdout",
     "output_type": "stream",
     "text": [
      "已保存 ./data/PubMed/split\\SEAL_train_pos_batch120.pt，当前内存占用率 43.2%\n"
     ]
    },
    {
     "name": "stderr",
     "output_type": "stream",
     "text": [
      "保存 ./data/PubMed/split\\SEAL_train_pos 分批文件:  32%|███▏      | 122/377 [01:24<02:56,  1.44batch/s]"
     ]
    },
    {
     "name": "stdout",
     "output_type": "stream",
     "text": [
      "已保存 ./data/PubMed/split\\SEAL_train_pos_batch121.pt，当前内存占用率 43.2%\n"
     ]
    },
    {
     "name": "stderr",
     "output_type": "stream",
     "text": [
      "保存 ./data/PubMed/split\\SEAL_train_pos 分批文件:  33%|███▎      | 123/377 [01:25<03:01,  1.40batch/s]"
     ]
    },
    {
     "name": "stdout",
     "output_type": "stream",
     "text": [
      "已保存 ./data/PubMed/split\\SEAL_train_pos_batch122.pt，当前内存占用率 43.2%\n"
     ]
    },
    {
     "name": "stderr",
     "output_type": "stream",
     "text": [
      "保存 ./data/PubMed/split\\SEAL_train_pos 分批文件:  33%|███▎      | 124/377 [01:25<02:59,  1.41batch/s]"
     ]
    },
    {
     "name": "stdout",
     "output_type": "stream",
     "text": [
      "已保存 ./data/PubMed/split\\SEAL_train_pos_batch123.pt，当前内存占用率 43.1%\n"
     ]
    },
    {
     "name": "stderr",
     "output_type": "stream",
     "text": [
      "保存 ./data/PubMed/split\\SEAL_train_pos 分批文件:  33%|███▎      | 125/377 [01:26<02:56,  1.43batch/s]"
     ]
    },
    {
     "name": "stdout",
     "output_type": "stream",
     "text": [
      "已保存 ./data/PubMed/split\\SEAL_train_pos_batch124.pt，当前内存占用率 43.2%\n"
     ]
    },
    {
     "name": "stderr",
     "output_type": "stream",
     "text": [
      "保存 ./data/PubMed/split\\SEAL_train_pos 分批文件:  33%|███▎      | 126/377 [01:27<02:54,  1.44batch/s]"
     ]
    },
    {
     "name": "stdout",
     "output_type": "stream",
     "text": [
      "已保存 ./data/PubMed/split\\SEAL_train_pos_batch125.pt，当前内存占用率 43.3%\n"
     ]
    },
    {
     "name": "stderr",
     "output_type": "stream",
     "text": [
      "保存 ./data/PubMed/split\\SEAL_train_pos 分批文件:  34%|███▎      | 127/377 [01:28<02:51,  1.46batch/s]"
     ]
    },
    {
     "name": "stdout",
     "output_type": "stream",
     "text": [
      "已保存 ./data/PubMed/split\\SEAL_train_pos_batch126.pt，当前内存占用率 43.2%\n"
     ]
    },
    {
     "name": "stderr",
     "output_type": "stream",
     "text": [
      "保存 ./data/PubMed/split\\SEAL_train_pos 分批文件:  34%|███▍      | 128/377 [01:28<02:50,  1.46batch/s]"
     ]
    },
    {
     "name": "stdout",
     "output_type": "stream",
     "text": [
      "已保存 ./data/PubMed/split\\SEAL_train_pos_batch127.pt，当前内存占用率 43.1%\n"
     ]
    },
    {
     "name": "stderr",
     "output_type": "stream",
     "text": [
      "保存 ./data/PubMed/split\\SEAL_train_pos 分批文件:  34%|███▍      | 129/377 [01:29<02:52,  1.44batch/s]"
     ]
    },
    {
     "name": "stdout",
     "output_type": "stream",
     "text": [
      "已保存 ./data/PubMed/split\\SEAL_train_pos_batch128.pt，当前内存占用率 43.2%\n"
     ]
    },
    {
     "name": "stderr",
     "output_type": "stream",
     "text": [
      "保存 ./data/PubMed/split\\SEAL_train_pos 分批文件:  34%|███▍      | 130/377 [01:30<02:49,  1.46batch/s]"
     ]
    },
    {
     "name": "stdout",
     "output_type": "stream",
     "text": [
      "已保存 ./data/PubMed/split\\SEAL_train_pos_batch129.pt，当前内存占用率 43.1%\n"
     ]
    },
    {
     "name": "stderr",
     "output_type": "stream",
     "text": [
      "保存 ./data/PubMed/split\\SEAL_train_pos 分批文件:  35%|███▍      | 131/377 [01:30<02:53,  1.41batch/s]"
     ]
    },
    {
     "name": "stdout",
     "output_type": "stream",
     "text": [
      "已保存 ./data/PubMed/split\\SEAL_train_pos_batch130.pt，当前内存占用率 43.2%\n"
     ]
    },
    {
     "name": "stderr",
     "output_type": "stream",
     "text": [
      "保存 ./data/PubMed/split\\SEAL_train_pos 分批文件:  35%|███▌      | 132/377 [01:31<02:51,  1.43batch/s]"
     ]
    },
    {
     "name": "stdout",
     "output_type": "stream",
     "text": [
      "已保存 ./data/PubMed/split\\SEAL_train_pos_batch131.pt，当前内存占用率 43.1%\n"
     ]
    },
    {
     "name": "stderr",
     "output_type": "stream",
     "text": [
      "保存 ./data/PubMed/split\\SEAL_train_pos 分批文件:  35%|███▌      | 133/377 [01:32<02:52,  1.41batch/s]"
     ]
    },
    {
     "name": "stdout",
     "output_type": "stream",
     "text": [
      "已保存 ./data/PubMed/split\\SEAL_train_pos_batch132.pt，当前内存占用率 43.1%\n"
     ]
    },
    {
     "name": "stderr",
     "output_type": "stream",
     "text": [
      "保存 ./data/PubMed/split\\SEAL_train_pos 分批文件:  36%|███▌      | 134/377 [01:33<02:56,  1.38batch/s]"
     ]
    },
    {
     "name": "stdout",
     "output_type": "stream",
     "text": [
      "已保存 ./data/PubMed/split\\SEAL_train_pos_batch133.pt，当前内存占用率 43.1%\n"
     ]
    },
    {
     "name": "stderr",
     "output_type": "stream",
     "text": [
      "保存 ./data/PubMed/split\\SEAL_train_pos 分批文件:  36%|███▌      | 135/377 [01:33<02:51,  1.41batch/s]"
     ]
    },
    {
     "name": "stdout",
     "output_type": "stream",
     "text": [
      "已保存 ./data/PubMed/split\\SEAL_train_pos_batch134.pt，当前内存占用率 43.1%\n"
     ]
    },
    {
     "name": "stderr",
     "output_type": "stream",
     "text": [
      "保存 ./data/PubMed/split\\SEAL_train_pos 分批文件:  36%|███▌      | 136/377 [01:34<02:51,  1.41batch/s]"
     ]
    },
    {
     "name": "stdout",
     "output_type": "stream",
     "text": [
      "已保存 ./data/PubMed/split\\SEAL_train_pos_batch135.pt，当前内存占用率 43.1%\n"
     ]
    },
    {
     "name": "stderr",
     "output_type": "stream",
     "text": [
      "保存 ./data/PubMed/split\\SEAL_train_pos 分批文件:  36%|███▋      | 137/377 [01:35<02:47,  1.43batch/s]"
     ]
    },
    {
     "name": "stdout",
     "output_type": "stream",
     "text": [
      "已保存 ./data/PubMed/split\\SEAL_train_pos_batch136.pt，当前内存占用率 43.2%\n"
     ]
    },
    {
     "name": "stderr",
     "output_type": "stream",
     "text": [
      "保存 ./data/PubMed/split\\SEAL_train_pos 分批文件:  37%|███▋      | 138/377 [01:35<02:43,  1.46batch/s]"
     ]
    },
    {
     "name": "stdout",
     "output_type": "stream",
     "text": [
      "已保存 ./data/PubMed/split\\SEAL_train_pos_batch137.pt，当前内存占用率 43.2%\n"
     ]
    },
    {
     "name": "stderr",
     "output_type": "stream",
     "text": [
      "保存 ./data/PubMed/split\\SEAL_train_pos 分批文件:  37%|███▋      | 139/377 [01:36<02:50,  1.40batch/s]"
     ]
    },
    {
     "name": "stdout",
     "output_type": "stream",
     "text": [
      "已保存 ./data/PubMed/split\\SEAL_train_pos_batch138.pt，当前内存占用率 43.1%\n"
     ]
    },
    {
     "name": "stderr",
     "output_type": "stream",
     "text": [
      "保存 ./data/PubMed/split\\SEAL_train_pos 分批文件:  37%|███▋      | 140/377 [01:37<02:48,  1.41batch/s]"
     ]
    },
    {
     "name": "stdout",
     "output_type": "stream",
     "text": [
      "已保存 ./data/PubMed/split\\SEAL_train_pos_batch139.pt，当前内存占用率 43.1%\n"
     ]
    },
    {
     "name": "stderr",
     "output_type": "stream",
     "text": [
      "保存 ./data/PubMed/split\\SEAL_train_pos 分批文件:  37%|███▋      | 141/377 [01:37<02:43,  1.44batch/s]"
     ]
    },
    {
     "name": "stdout",
     "output_type": "stream",
     "text": [
      "已保存 ./data/PubMed/split\\SEAL_train_pos_batch140.pt，当前内存占用率 43.0%\n"
     ]
    },
    {
     "name": "stderr",
     "output_type": "stream",
     "text": [
      "保存 ./data/PubMed/split\\SEAL_train_pos 分批文件:  38%|███▊      | 142/377 [01:38<02:40,  1.46batch/s]"
     ]
    },
    {
     "name": "stdout",
     "output_type": "stream",
     "text": [
      "已保存 ./data/PubMed/split\\SEAL_train_pos_batch141.pt，当前内存占用率 43.1%\n"
     ]
    },
    {
     "name": "stderr",
     "output_type": "stream",
     "text": [
      "保存 ./data/PubMed/split\\SEAL_train_pos 分批文件:  38%|███▊      | 143/377 [01:39<02:42,  1.44batch/s]"
     ]
    },
    {
     "name": "stdout",
     "output_type": "stream",
     "text": [
      "已保存 ./data/PubMed/split\\SEAL_train_pos_batch142.pt，当前内存占用率 43.1%\n"
     ]
    },
    {
     "name": "stderr",
     "output_type": "stream",
     "text": [
      "保存 ./data/PubMed/split\\SEAL_train_pos 分批文件:  38%|███▊      | 144/377 [01:39<02:39,  1.46batch/s]"
     ]
    },
    {
     "name": "stdout",
     "output_type": "stream",
     "text": [
      "已保存 ./data/PubMed/split\\SEAL_train_pos_batch143.pt，当前内存占用率 43.1%\n"
     ]
    },
    {
     "name": "stderr",
     "output_type": "stream",
     "text": [
      "保存 ./data/PubMed/split\\SEAL_train_pos 分批文件:  38%|███▊      | 145/377 [01:40<02:39,  1.46batch/s]"
     ]
    },
    {
     "name": "stdout",
     "output_type": "stream",
     "text": [
      "已保存 ./data/PubMed/split\\SEAL_train_pos_batch144.pt，当前内存占用率 43.1%\n"
     ]
    },
    {
     "name": "stderr",
     "output_type": "stream",
     "text": [
      "保存 ./data/PubMed/split\\SEAL_train_pos 分批文件:  39%|███▊      | 146/377 [01:41<02:42,  1.42batch/s]"
     ]
    },
    {
     "name": "stdout",
     "output_type": "stream",
     "text": [
      "已保存 ./data/PubMed/split\\SEAL_train_pos_batch145.pt，当前内存占用率 43.2%\n"
     ]
    },
    {
     "name": "stderr",
     "output_type": "stream",
     "text": [
      "保存 ./data/PubMed/split\\SEAL_train_pos 分批文件:  39%|███▉      | 147/377 [01:42<02:43,  1.40batch/s]"
     ]
    },
    {
     "name": "stdout",
     "output_type": "stream",
     "text": [
      "已保存 ./data/PubMed/split\\SEAL_train_pos_batch146.pt，当前内存占用率 43.1%\n"
     ]
    },
    {
     "name": "stderr",
     "output_type": "stream",
     "text": [
      "保存 ./data/PubMed/split\\SEAL_train_pos 分批文件:  39%|███▉      | 148/377 [01:42<02:38,  1.44batch/s]"
     ]
    },
    {
     "name": "stdout",
     "output_type": "stream",
     "text": [
      "已保存 ./data/PubMed/split\\SEAL_train_pos_batch147.pt，当前内存占用率 43.2%\n"
     ]
    },
    {
     "name": "stderr",
     "output_type": "stream",
     "text": [
      "保存 ./data/PubMed/split\\SEAL_train_pos 分批文件:  40%|███▉      | 149/377 [01:43<02:40,  1.42batch/s]"
     ]
    },
    {
     "name": "stdout",
     "output_type": "stream",
     "text": [
      "已保存 ./data/PubMed/split\\SEAL_train_pos_batch148.pt，当前内存占用率 43.2%\n"
     ]
    },
    {
     "name": "stderr",
     "output_type": "stream",
     "text": [
      "保存 ./data/PubMed/split\\SEAL_train_pos 分批文件:  40%|███▉      | 150/377 [01:44<02:41,  1.41batch/s]"
     ]
    },
    {
     "name": "stdout",
     "output_type": "stream",
     "text": [
      "已保存 ./data/PubMed/split\\SEAL_train_pos_batch149.pt，当前内存占用率 43.3%\n"
     ]
    },
    {
     "name": "stderr",
     "output_type": "stream",
     "text": [
      "保存 ./data/PubMed/split\\SEAL_train_pos 分批文件:  40%|████      | 151/377 [01:44<02:37,  1.44batch/s]"
     ]
    },
    {
     "name": "stdout",
     "output_type": "stream",
     "text": [
      "已保存 ./data/PubMed/split\\SEAL_train_pos_batch150.pt，当前内存占用率 43.0%\n"
     ]
    },
    {
     "name": "stderr",
     "output_type": "stream",
     "text": [
      "保存 ./data/PubMed/split\\SEAL_train_pos 分批文件:  40%|████      | 152/377 [01:45<02:31,  1.48batch/s]"
     ]
    },
    {
     "name": "stdout",
     "output_type": "stream",
     "text": [
      "已保存 ./data/PubMed/split\\SEAL_train_pos_batch151.pt，当前内存占用率 43.1%\n"
     ]
    },
    {
     "name": "stderr",
     "output_type": "stream",
     "text": [
      "保存 ./data/PubMed/split\\SEAL_train_pos 分批文件:  41%|████      | 153/377 [01:46<02:35,  1.44batch/s]"
     ]
    },
    {
     "name": "stdout",
     "output_type": "stream",
     "text": [
      "已保存 ./data/PubMed/split\\SEAL_train_pos_batch152.pt，当前内存占用率 43.2%\n"
     ]
    },
    {
     "name": "stderr",
     "output_type": "stream",
     "text": [
      "保存 ./data/PubMed/split\\SEAL_train_pos 分批文件:  41%|████      | 154/377 [01:46<02:33,  1.45batch/s]"
     ]
    },
    {
     "name": "stdout",
     "output_type": "stream",
     "text": [
      "已保存 ./data/PubMed/split\\SEAL_train_pos_batch153.pt，当前内存占用率 43.2%\n"
     ]
    },
    {
     "name": "stderr",
     "output_type": "stream",
     "text": [
      "保存 ./data/PubMed/split\\SEAL_train_pos 分批文件:  41%|████      | 155/377 [01:47<02:38,  1.40batch/s]"
     ]
    },
    {
     "name": "stdout",
     "output_type": "stream",
     "text": [
      "已保存 ./data/PubMed/split\\SEAL_train_pos_batch154.pt，当前内存占用率 43.1%\n"
     ]
    },
    {
     "name": "stderr",
     "output_type": "stream",
     "text": [
      "保存 ./data/PubMed/split\\SEAL_train_pos 分批文件:  41%|████▏     | 156/377 [01:48<02:38,  1.39batch/s]"
     ]
    },
    {
     "name": "stdout",
     "output_type": "stream",
     "text": [
      "已保存 ./data/PubMed/split\\SEAL_train_pos_batch155.pt，当前内存占用率 43.2%\n"
     ]
    },
    {
     "name": "stderr",
     "output_type": "stream",
     "text": [
      "保存 ./data/PubMed/split\\SEAL_train_pos 分批文件:  42%|████▏     | 157/377 [01:49<02:35,  1.41batch/s]"
     ]
    },
    {
     "name": "stdout",
     "output_type": "stream",
     "text": [
      "已保存 ./data/PubMed/split\\SEAL_train_pos_batch156.pt，当前内存占用率 43.1%\n"
     ]
    },
    {
     "name": "stderr",
     "output_type": "stream",
     "text": [
      "保存 ./data/PubMed/split\\SEAL_train_pos 分批文件:  42%|████▏     | 158/377 [01:49<02:33,  1.43batch/s]"
     ]
    },
    {
     "name": "stdout",
     "output_type": "stream",
     "text": [
      "已保存 ./data/PubMed/split\\SEAL_train_pos_batch157.pt，当前内存占用率 43.1%\n"
     ]
    },
    {
     "name": "stderr",
     "output_type": "stream",
     "text": [
      "保存 ./data/PubMed/split\\SEAL_train_pos 分批文件:  42%|████▏     | 159/377 [01:50<02:30,  1.45batch/s]"
     ]
    },
    {
     "name": "stdout",
     "output_type": "stream",
     "text": [
      "已保存 ./data/PubMed/split\\SEAL_train_pos_batch158.pt，当前内存占用率 43.1%\n"
     ]
    },
    {
     "name": "stderr",
     "output_type": "stream",
     "text": [
      "保存 ./data/PubMed/split\\SEAL_train_pos 分批文件:  42%|████▏     | 160/377 [01:51<02:29,  1.45batch/s]"
     ]
    },
    {
     "name": "stdout",
     "output_type": "stream",
     "text": [
      "已保存 ./data/PubMed/split\\SEAL_train_pos_batch159.pt，当前内存占用率 43.2%\n"
     ]
    },
    {
     "name": "stderr",
     "output_type": "stream",
     "text": [
      "保存 ./data/PubMed/split\\SEAL_train_pos 分批文件:  43%|████▎     | 161/377 [01:51<02:25,  1.48batch/s]"
     ]
    },
    {
     "name": "stdout",
     "output_type": "stream",
     "text": [
      "已保存 ./data/PubMed/split\\SEAL_train_pos_batch160.pt，当前内存占用率 43.1%\n"
     ]
    },
    {
     "name": "stderr",
     "output_type": "stream",
     "text": [
      "保存 ./data/PubMed/split\\SEAL_train_pos 分批文件:  43%|████▎     | 162/377 [01:52<02:34,  1.39batch/s]"
     ]
    },
    {
     "name": "stdout",
     "output_type": "stream",
     "text": [
      "已保存 ./data/PubMed/split\\SEAL_train_pos_batch161.pt，当前内存占用率 43.2%\n"
     ]
    },
    {
     "name": "stderr",
     "output_type": "stream",
     "text": [
      "保存 ./data/PubMed/split\\SEAL_train_pos 分批文件:  43%|████▎     | 163/377 [01:53<02:39,  1.34batch/s]"
     ]
    },
    {
     "name": "stdout",
     "output_type": "stream",
     "text": [
      "已保存 ./data/PubMed/split\\SEAL_train_pos_batch162.pt，当前内存占用率 43.2%\n"
     ]
    },
    {
     "name": "stderr",
     "output_type": "stream",
     "text": [
      "保存 ./data/PubMed/split\\SEAL_train_pos 分批文件:  44%|████▎     | 164/377 [01:54<02:36,  1.36batch/s]"
     ]
    },
    {
     "name": "stdout",
     "output_type": "stream",
     "text": [
      "已保存 ./data/PubMed/split\\SEAL_train_pos_batch163.pt，当前内存占用率 43.2%\n"
     ]
    },
    {
     "name": "stderr",
     "output_type": "stream",
     "text": [
      "保存 ./data/PubMed/split\\SEAL_train_pos 分批文件:  44%|████▍     | 165/377 [01:54<02:42,  1.30batch/s]"
     ]
    },
    {
     "name": "stdout",
     "output_type": "stream",
     "text": [
      "已保存 ./data/PubMed/split\\SEAL_train_pos_batch164.pt，当前内存占用率 43.1%\n"
     ]
    },
    {
     "name": "stderr",
     "output_type": "stream",
     "text": [
      "保存 ./data/PubMed/split\\SEAL_train_pos 分批文件:  44%|████▍     | 166/377 [01:55<02:40,  1.32batch/s]"
     ]
    },
    {
     "name": "stdout",
     "output_type": "stream",
     "text": [
      "已保存 ./data/PubMed/split\\SEAL_train_pos_batch165.pt，当前内存占用率 43.1%\n"
     ]
    },
    {
     "name": "stderr",
     "output_type": "stream",
     "text": [
      "保存 ./data/PubMed/split\\SEAL_train_pos 分批文件:  44%|████▍     | 167/377 [01:56<02:34,  1.36batch/s]"
     ]
    },
    {
     "name": "stdout",
     "output_type": "stream",
     "text": [
      "已保存 ./data/PubMed/split\\SEAL_train_pos_batch166.pt，当前内存占用率 43.2%\n"
     ]
    },
    {
     "name": "stderr",
     "output_type": "stream",
     "text": [
      "保存 ./data/PubMed/split\\SEAL_train_pos 分批文件:  45%|████▍     | 168/377 [01:56<02:28,  1.40batch/s]"
     ]
    },
    {
     "name": "stdout",
     "output_type": "stream",
     "text": [
      "已保存 ./data/PubMed/split\\SEAL_train_pos_batch167.pt，当前内存占用率 43.2%\n"
     ]
    },
    {
     "name": "stderr",
     "output_type": "stream",
     "text": [
      "保存 ./data/PubMed/split\\SEAL_train_pos 分批文件:  45%|████▍     | 169/377 [01:57<02:33,  1.35batch/s]"
     ]
    },
    {
     "name": "stdout",
     "output_type": "stream",
     "text": [
      "已保存 ./data/PubMed/split\\SEAL_train_pos_batch168.pt，当前内存占用率 43.2%\n"
     ]
    },
    {
     "name": "stderr",
     "output_type": "stream",
     "text": [
      "保存 ./data/PubMed/split\\SEAL_train_pos 分批文件:  45%|████▌     | 170/377 [01:58<02:35,  1.33batch/s]"
     ]
    },
    {
     "name": "stdout",
     "output_type": "stream",
     "text": [
      "已保存 ./data/PubMed/split\\SEAL_train_pos_batch169.pt，当前内存占用率 43.2%\n"
     ]
    },
    {
     "name": "stderr",
     "output_type": "stream",
     "text": [
      "保存 ./data/PubMed/split\\SEAL_train_pos 分批文件:  45%|████▌     | 171/377 [01:59<02:29,  1.38batch/s]"
     ]
    },
    {
     "name": "stdout",
     "output_type": "stream",
     "text": [
      "已保存 ./data/PubMed/split\\SEAL_train_pos_batch170.pt，当前内存占用率 43.3%\n"
     ]
    },
    {
     "name": "stderr",
     "output_type": "stream",
     "text": [
      "保存 ./data/PubMed/split\\SEAL_train_pos 分批文件:  46%|████▌     | 172/377 [01:59<02:29,  1.37batch/s]"
     ]
    },
    {
     "name": "stdout",
     "output_type": "stream",
     "text": [
      "已保存 ./data/PubMed/split\\SEAL_train_pos_batch171.pt，当前内存占用率 43.2%\n"
     ]
    },
    {
     "name": "stderr",
     "output_type": "stream",
     "text": [
      "保存 ./data/PubMed/split\\SEAL_train_pos 分批文件:  46%|████▌     | 173/377 [02:00<02:25,  1.40batch/s]"
     ]
    },
    {
     "name": "stdout",
     "output_type": "stream",
     "text": [
      "已保存 ./data/PubMed/split\\SEAL_train_pos_batch172.pt，当前内存占用率 43.3%\n"
     ]
    },
    {
     "name": "stderr",
     "output_type": "stream",
     "text": [
      "保存 ./data/PubMed/split\\SEAL_train_pos 分批文件:  46%|████▌     | 174/377 [02:01<02:24,  1.40batch/s]"
     ]
    },
    {
     "name": "stdout",
     "output_type": "stream",
     "text": [
      "已保存 ./data/PubMed/split\\SEAL_train_pos_batch173.pt，当前内存占用率 43.2%\n"
     ]
    },
    {
     "name": "stderr",
     "output_type": "stream",
     "text": [
      "保存 ./data/PubMed/split\\SEAL_train_pos 分批文件:  46%|████▋     | 175/377 [02:02<02:23,  1.40batch/s]"
     ]
    },
    {
     "name": "stdout",
     "output_type": "stream",
     "text": [
      "已保存 ./data/PubMed/split\\SEAL_train_pos_batch174.pt，当前内存占用率 43.3%\n"
     ]
    },
    {
     "name": "stderr",
     "output_type": "stream",
     "text": [
      "保存 ./data/PubMed/split\\SEAL_train_pos 分批文件:  47%|████▋     | 176/377 [02:02<02:22,  1.41batch/s]"
     ]
    },
    {
     "name": "stdout",
     "output_type": "stream",
     "text": [
      "已保存 ./data/PubMed/split\\SEAL_train_pos_batch175.pt，当前内存占用率 43.4%\n"
     ]
    },
    {
     "name": "stderr",
     "output_type": "stream",
     "text": [
      "保存 ./data/PubMed/split\\SEAL_train_pos 分批文件:  47%|████▋     | 177/377 [02:03<02:36,  1.28batch/s]"
     ]
    },
    {
     "name": "stdout",
     "output_type": "stream",
     "text": [
      "已保存 ./data/PubMed/split\\SEAL_train_pos_batch176.pt，当前内存占用率 44.3%\n"
     ]
    },
    {
     "name": "stderr",
     "output_type": "stream",
     "text": [
      "保存 ./data/PubMed/split\\SEAL_train_pos 分批文件:  47%|████▋     | 178/377 [02:04<02:39,  1.24batch/s]"
     ]
    },
    {
     "name": "stdout",
     "output_type": "stream",
     "text": [
      "已保存 ./data/PubMed/split\\SEAL_train_pos_batch177.pt，当前内存占用率 43.9%\n"
     ]
    },
    {
     "name": "stderr",
     "output_type": "stream",
     "text": [
      "保存 ./data/PubMed/split\\SEAL_train_pos 分批文件:  47%|████▋     | 179/377 [02:05<02:32,  1.30batch/s]"
     ]
    },
    {
     "name": "stdout",
     "output_type": "stream",
     "text": [
      "已保存 ./data/PubMed/split\\SEAL_train_pos_batch178.pt，当前内存占用率 43.7%\n"
     ]
    },
    {
     "name": "stderr",
     "output_type": "stream",
     "text": [
      "保存 ./data/PubMed/split\\SEAL_train_pos 分批文件:  48%|████▊     | 180/377 [02:06<02:30,  1.31batch/s]"
     ]
    },
    {
     "name": "stdout",
     "output_type": "stream",
     "text": [
      "已保存 ./data/PubMed/split\\SEAL_train_pos_batch179.pt，当前内存占用率 43.7%\n"
     ]
    },
    {
     "name": "stderr",
     "output_type": "stream",
     "text": [
      "保存 ./data/PubMed/split\\SEAL_train_pos 分批文件:  48%|████▊     | 181/377 [02:06<02:31,  1.29batch/s]"
     ]
    },
    {
     "name": "stdout",
     "output_type": "stream",
     "text": [
      "已保存 ./data/PubMed/split\\SEAL_train_pos_batch180.pt，当前内存占用率 43.7%\n"
     ]
    },
    {
     "name": "stderr",
     "output_type": "stream",
     "text": [
      "保存 ./data/PubMed/split\\SEAL_train_pos 分批文件:  48%|████▊     | 182/377 [02:07<02:27,  1.32batch/s]"
     ]
    },
    {
     "name": "stdout",
     "output_type": "stream",
     "text": [
      "已保存 ./data/PubMed/split\\SEAL_train_pos_batch181.pt，当前内存占用率 43.7%\n"
     ]
    },
    {
     "name": "stderr",
     "output_type": "stream",
     "text": [
      "保存 ./data/PubMed/split\\SEAL_train_pos 分批文件:  49%|████▊     | 183/377 [02:08<02:22,  1.36batch/s]"
     ]
    },
    {
     "name": "stdout",
     "output_type": "stream",
     "text": [
      "已保存 ./data/PubMed/split\\SEAL_train_pos_batch182.pt，当前内存占用率 43.8%\n"
     ]
    },
    {
     "name": "stderr",
     "output_type": "stream",
     "text": [
      "保存 ./data/PubMed/split\\SEAL_train_pos 分批文件:  49%|████▉     | 184/377 [02:08<02:21,  1.36batch/s]"
     ]
    },
    {
     "name": "stdout",
     "output_type": "stream",
     "text": [
      "已保存 ./data/PubMed/split\\SEAL_train_pos_batch183.pt，当前内存占用率 43.8%\n"
     ]
    },
    {
     "name": "stderr",
     "output_type": "stream",
     "text": [
      "保存 ./data/PubMed/split\\SEAL_train_pos 分批文件:  49%|████▉     | 185/377 [02:09<02:19,  1.38batch/s]"
     ]
    },
    {
     "name": "stdout",
     "output_type": "stream",
     "text": [
      "已保存 ./data/PubMed/split\\SEAL_train_pos_batch184.pt，当前内存占用率 43.8%\n"
     ]
    },
    {
     "name": "stderr",
     "output_type": "stream",
     "text": [
      "保存 ./data/PubMed/split\\SEAL_train_pos 分批文件:  49%|████▉     | 186/377 [02:10<02:16,  1.40batch/s]"
     ]
    },
    {
     "name": "stdout",
     "output_type": "stream",
     "text": [
      "已保存 ./data/PubMed/split\\SEAL_train_pos_batch185.pt，当前内存占用率 43.8%\n"
     ]
    },
    {
     "name": "stderr",
     "output_type": "stream",
     "text": [
      "保存 ./data/PubMed/split\\SEAL_train_pos 分批文件:  50%|████▉     | 187/377 [02:11<02:13,  1.42batch/s]"
     ]
    },
    {
     "name": "stdout",
     "output_type": "stream",
     "text": [
      "已保存 ./data/PubMed/split\\SEAL_train_pos_batch186.pt，当前内存占用率 43.7%\n"
     ]
    },
    {
     "name": "stderr",
     "output_type": "stream",
     "text": [
      "保存 ./data/PubMed/split\\SEAL_train_pos 分批文件:  50%|████▉     | 188/377 [02:11<02:13,  1.41batch/s]"
     ]
    },
    {
     "name": "stdout",
     "output_type": "stream",
     "text": [
      "已保存 ./data/PubMed/split\\SEAL_train_pos_batch187.pt，当前内存占用率 43.8%\n"
     ]
    },
    {
     "name": "stderr",
     "output_type": "stream",
     "text": [
      "保存 ./data/PubMed/split\\SEAL_train_pos 分批文件:  50%|█████     | 189/377 [02:12<02:12,  1.42batch/s]"
     ]
    },
    {
     "name": "stdout",
     "output_type": "stream",
     "text": [
      "已保存 ./data/PubMed/split\\SEAL_train_pos_batch188.pt，当前内存占用率 43.8%\n"
     ]
    },
    {
     "name": "stderr",
     "output_type": "stream",
     "text": [
      "保存 ./data/PubMed/split\\SEAL_train_pos 分批文件:  50%|█████     | 190/377 [02:13<02:12,  1.41batch/s]"
     ]
    },
    {
     "name": "stdout",
     "output_type": "stream",
     "text": [
      "已保存 ./data/PubMed/split\\SEAL_train_pos_batch189.pt，当前内存占用率 43.8%\n"
     ]
    },
    {
     "name": "stderr",
     "output_type": "stream",
     "text": [
      "保存 ./data/PubMed/split\\SEAL_train_pos 分批文件:  51%|█████     | 191/377 [02:13<02:15,  1.37batch/s]"
     ]
    },
    {
     "name": "stdout",
     "output_type": "stream",
     "text": [
      "已保存 ./data/PubMed/split\\SEAL_train_pos_batch190.pt，当前内存占用率 43.9%\n"
     ]
    },
    {
     "name": "stderr",
     "output_type": "stream",
     "text": [
      "保存 ./data/PubMed/split\\SEAL_train_pos 分批文件:  51%|█████     | 192/377 [02:14<02:11,  1.41batch/s]"
     ]
    },
    {
     "name": "stdout",
     "output_type": "stream",
     "text": [
      "已保存 ./data/PubMed/split\\SEAL_train_pos_batch191.pt，当前内存占用率 43.7%\n"
     ]
    },
    {
     "name": "stderr",
     "output_type": "stream",
     "text": [
      "保存 ./data/PubMed/split\\SEAL_train_pos 分批文件:  51%|█████     | 193/377 [02:15<02:07,  1.44batch/s]"
     ]
    },
    {
     "name": "stdout",
     "output_type": "stream",
     "text": [
      "已保存 ./data/PubMed/split\\SEAL_train_pos_batch192.pt，当前内存占用率 43.7%\n"
     ]
    },
    {
     "name": "stderr",
     "output_type": "stream",
     "text": [
      "保存 ./data/PubMed/split\\SEAL_train_pos 分批文件:  51%|█████▏    | 194/377 [02:15<02:06,  1.45batch/s]"
     ]
    },
    {
     "name": "stdout",
     "output_type": "stream",
     "text": [
      "已保存 ./data/PubMed/split\\SEAL_train_pos_batch193.pt，当前内存占用率 43.7%\n"
     ]
    },
    {
     "name": "stderr",
     "output_type": "stream",
     "text": [
      "保存 ./data/PubMed/split\\SEAL_train_pos 分批文件:  52%|█████▏    | 195/377 [02:16<02:06,  1.43batch/s]"
     ]
    },
    {
     "name": "stdout",
     "output_type": "stream",
     "text": [
      "已保存 ./data/PubMed/split\\SEAL_train_pos_batch194.pt，当前内存占用率 43.7%\n"
     ]
    },
    {
     "name": "stderr",
     "output_type": "stream",
     "text": [
      "保存 ./data/PubMed/split\\SEAL_train_pos 分批文件:  52%|█████▏    | 196/377 [02:17<02:06,  1.43batch/s]"
     ]
    },
    {
     "name": "stdout",
     "output_type": "stream",
     "text": [
      "已保存 ./data/PubMed/split\\SEAL_train_pos_batch195.pt，当前内存占用率 43.7%\n"
     ]
    },
    {
     "name": "stderr",
     "output_type": "stream",
     "text": [
      "保存 ./data/PubMed/split\\SEAL_train_pos 分批文件:  52%|█████▏    | 197/377 [02:18<02:07,  1.41batch/s]"
     ]
    },
    {
     "name": "stdout",
     "output_type": "stream",
     "text": [
      "已保存 ./data/PubMed/split\\SEAL_train_pos_batch196.pt，当前内存占用率 43.8%\n"
     ]
    },
    {
     "name": "stderr",
     "output_type": "stream",
     "text": [
      "保存 ./data/PubMed/split\\SEAL_train_pos 分批文件:  53%|█████▎    | 198/377 [02:18<02:12,  1.35batch/s]"
     ]
    },
    {
     "name": "stdout",
     "output_type": "stream",
     "text": [
      "已保存 ./data/PubMed/split\\SEAL_train_pos_batch197.pt，当前内存占用率 43.7%\n"
     ]
    },
    {
     "name": "stderr",
     "output_type": "stream",
     "text": [
      "保存 ./data/PubMed/split\\SEAL_train_pos 分批文件:  53%|█████▎    | 199/377 [02:19<02:07,  1.40batch/s]"
     ]
    },
    {
     "name": "stdout",
     "output_type": "stream",
     "text": [
      "已保存 ./data/PubMed/split\\SEAL_train_pos_batch198.pt，当前内存占用率 43.7%\n"
     ]
    },
    {
     "name": "stderr",
     "output_type": "stream",
     "text": [
      "保存 ./data/PubMed/split\\SEAL_train_pos 分批文件:  53%|█████▎    | 200/377 [02:20<02:05,  1.40batch/s]"
     ]
    },
    {
     "name": "stdout",
     "output_type": "stream",
     "text": [
      "已保存 ./data/PubMed/split\\SEAL_train_pos_batch199.pt，当前内存占用率 43.7%\n"
     ]
    },
    {
     "name": "stderr",
     "output_type": "stream",
     "text": [
      "保存 ./data/PubMed/split\\SEAL_train_pos 分批文件:  53%|█████▎    | 201/377 [02:20<02:05,  1.40batch/s]"
     ]
    },
    {
     "name": "stdout",
     "output_type": "stream",
     "text": [
      "已保存 ./data/PubMed/split\\SEAL_train_pos_batch200.pt，当前内存占用率 43.9%\n"
     ]
    },
    {
     "name": "stderr",
     "output_type": "stream",
     "text": [
      "保存 ./data/PubMed/split\\SEAL_train_pos 分批文件:  54%|█████▎    | 202/377 [02:21<02:04,  1.41batch/s]"
     ]
    },
    {
     "name": "stdout",
     "output_type": "stream",
     "text": [
      "已保存 ./data/PubMed/split\\SEAL_train_pos_batch201.pt，当前内存占用率 43.6%\n"
     ]
    },
    {
     "name": "stderr",
     "output_type": "stream",
     "text": [
      "保存 ./data/PubMed/split\\SEAL_train_pos 分批文件:  54%|█████▍    | 203/377 [02:22<02:01,  1.44batch/s]"
     ]
    },
    {
     "name": "stdout",
     "output_type": "stream",
     "text": [
      "已保存 ./data/PubMed/split\\SEAL_train_pos_batch202.pt，当前内存占用率 43.7%\n"
     ]
    },
    {
     "name": "stderr",
     "output_type": "stream",
     "text": [
      "保存 ./data/PubMed/split\\SEAL_train_pos 分批文件:  54%|█████▍    | 204/377 [02:23<02:01,  1.43batch/s]"
     ]
    },
    {
     "name": "stdout",
     "output_type": "stream",
     "text": [
      "已保存 ./data/PubMed/split\\SEAL_train_pos_batch203.pt，当前内存占用率 43.6%\n"
     ]
    },
    {
     "name": "stderr",
     "output_type": "stream",
     "text": [
      "保存 ./data/PubMed/split\\SEAL_train_pos 分批文件:  54%|█████▍    | 205/377 [02:23<02:03,  1.39batch/s]"
     ]
    },
    {
     "name": "stdout",
     "output_type": "stream",
     "text": [
      "已保存 ./data/PubMed/split\\SEAL_train_pos_batch204.pt，当前内存占用率 43.7%\n"
     ]
    },
    {
     "name": "stderr",
     "output_type": "stream",
     "text": [
      "保存 ./data/PubMed/split\\SEAL_train_pos 分批文件:  55%|█████▍    | 206/377 [02:24<02:01,  1.41batch/s]"
     ]
    },
    {
     "name": "stdout",
     "output_type": "stream",
     "text": [
      "已保存 ./data/PubMed/split\\SEAL_train_pos_batch205.pt，当前内存占用率 43.6%\n"
     ]
    },
    {
     "name": "stderr",
     "output_type": "stream",
     "text": [
      "保存 ./data/PubMed/split\\SEAL_train_pos 分批文件:  55%|█████▍    | 207/377 [02:25<02:03,  1.38batch/s]"
     ]
    },
    {
     "name": "stdout",
     "output_type": "stream",
     "text": [
      "已保存 ./data/PubMed/split\\SEAL_train_pos_batch206.pt，当前内存占用率 43.8%\n"
     ]
    },
    {
     "name": "stderr",
     "output_type": "stream",
     "text": [
      "保存 ./data/PubMed/split\\SEAL_train_pos 分批文件:  55%|█████▌    | 208/377 [02:25<02:01,  1.39batch/s]"
     ]
    },
    {
     "name": "stdout",
     "output_type": "stream",
     "text": [
      "已保存 ./data/PubMed/split\\SEAL_train_pos_batch207.pt，当前内存占用率 43.7%\n"
     ]
    },
    {
     "name": "stderr",
     "output_type": "stream",
     "text": [
      "保存 ./data/PubMed/split\\SEAL_train_pos 分批文件:  55%|█████▌    | 209/377 [02:26<01:57,  1.43batch/s]"
     ]
    },
    {
     "name": "stdout",
     "output_type": "stream",
     "text": [
      "已保存 ./data/PubMed/split\\SEAL_train_pos_batch208.pt，当前内存占用率 43.7%\n"
     ]
    },
    {
     "name": "stderr",
     "output_type": "stream",
     "text": [
      "保存 ./data/PubMed/split\\SEAL_train_pos 分批文件:  56%|█████▌    | 210/377 [02:27<01:56,  1.44batch/s]"
     ]
    },
    {
     "name": "stdout",
     "output_type": "stream",
     "text": [
      "已保存 ./data/PubMed/split\\SEAL_train_pos_batch209.pt，当前内存占用率 43.7%\n"
     ]
    },
    {
     "name": "stderr",
     "output_type": "stream",
     "text": [
      "保存 ./data/PubMed/split\\SEAL_train_pos 分批文件:  56%|█████▌    | 211/377 [02:28<02:08,  1.29batch/s]"
     ]
    },
    {
     "name": "stdout",
     "output_type": "stream",
     "text": [
      "已保存 ./data/PubMed/split\\SEAL_train_pos_batch210.pt，当前内存占用率 43.8%\n"
     ]
    },
    {
     "name": "stderr",
     "output_type": "stream",
     "text": [
      "保存 ./data/PubMed/split\\SEAL_train_pos 分批文件:  56%|█████▌    | 212/377 [02:29<02:05,  1.31batch/s]"
     ]
    },
    {
     "name": "stdout",
     "output_type": "stream",
     "text": [
      "已保存 ./data/PubMed/split\\SEAL_train_pos_batch211.pt，当前内存占用率 43.8%\n"
     ]
    },
    {
     "name": "stderr",
     "output_type": "stream",
     "text": [
      "保存 ./data/PubMed/split\\SEAL_train_pos 分批文件:  56%|█████▋    | 213/377 [02:29<02:01,  1.35batch/s]"
     ]
    },
    {
     "name": "stdout",
     "output_type": "stream",
     "text": [
      "已保存 ./data/PubMed/split\\SEAL_train_pos_batch212.pt，当前内存占用率 43.7%\n"
     ]
    },
    {
     "name": "stderr",
     "output_type": "stream",
     "text": [
      "保存 ./data/PubMed/split\\SEAL_train_pos 分批文件:  57%|█████▋    | 214/377 [02:30<02:01,  1.35batch/s]"
     ]
    },
    {
     "name": "stdout",
     "output_type": "stream",
     "text": [
      "已保存 ./data/PubMed/split\\SEAL_train_pos_batch213.pt，当前内存占用率 43.8%\n"
     ]
    },
    {
     "name": "stderr",
     "output_type": "stream",
     "text": [
      "保存 ./data/PubMed/split\\SEAL_train_pos 分批文件:  57%|█████▋    | 215/377 [02:31<01:57,  1.38batch/s]"
     ]
    },
    {
     "name": "stdout",
     "output_type": "stream",
     "text": [
      "已保存 ./data/PubMed/split\\SEAL_train_pos_batch214.pt，当前内存占用率 43.8%\n"
     ]
    },
    {
     "name": "stderr",
     "output_type": "stream",
     "text": [
      "保存 ./data/PubMed/split\\SEAL_train_pos 分批文件:  57%|█████▋    | 216/377 [02:31<01:54,  1.40batch/s]"
     ]
    },
    {
     "name": "stdout",
     "output_type": "stream",
     "text": [
      "已保存 ./data/PubMed/split\\SEAL_train_pos_batch215.pt，当前内存占用率 43.8%\n"
     ]
    },
    {
     "name": "stderr",
     "output_type": "stream",
     "text": [
      "保存 ./data/PubMed/split\\SEAL_train_pos 分批文件:  58%|█████▊    | 217/377 [02:32<01:54,  1.40batch/s]"
     ]
    },
    {
     "name": "stdout",
     "output_type": "stream",
     "text": [
      "已保存 ./data/PubMed/split\\SEAL_train_pos_batch216.pt，当前内存占用率 43.7%\n"
     ]
    },
    {
     "name": "stderr",
     "output_type": "stream",
     "text": [
      "保存 ./data/PubMed/split\\SEAL_train_pos 分批文件:  58%|█████▊    | 218/377 [02:33<01:54,  1.39batch/s]"
     ]
    },
    {
     "name": "stdout",
     "output_type": "stream",
     "text": [
      "已保存 ./data/PubMed/split\\SEAL_train_pos_batch217.pt，当前内存占用率 43.7%\n"
     ]
    },
    {
     "name": "stderr",
     "output_type": "stream",
     "text": [
      "保存 ./data/PubMed/split\\SEAL_train_pos 分批文件:  58%|█████▊    | 219/377 [02:33<01:51,  1.42batch/s]"
     ]
    },
    {
     "name": "stdout",
     "output_type": "stream",
     "text": [
      "已保存 ./data/PubMed/split\\SEAL_train_pos_batch218.pt，当前内存占用率 43.7%\n"
     ]
    },
    {
     "name": "stderr",
     "output_type": "stream",
     "text": [
      "保存 ./data/PubMed/split\\SEAL_train_pos 分批文件:  58%|█████▊    | 220/377 [02:34<01:49,  1.44batch/s]"
     ]
    },
    {
     "name": "stdout",
     "output_type": "stream",
     "text": [
      "已保存 ./data/PubMed/split\\SEAL_train_pos_batch219.pt，当前内存占用率 43.7%\n"
     ]
    },
    {
     "name": "stderr",
     "output_type": "stream",
     "text": [
      "保存 ./data/PubMed/split\\SEAL_train_pos 分批文件:  59%|█████▊    | 221/377 [02:35<01:50,  1.41batch/s]"
     ]
    },
    {
     "name": "stdout",
     "output_type": "stream",
     "text": [
      "已保存 ./data/PubMed/split\\SEAL_train_pos_batch220.pt，当前内存占用率 43.7%\n"
     ]
    },
    {
     "name": "stderr",
     "output_type": "stream",
     "text": [
      "保存 ./data/PubMed/split\\SEAL_train_pos 分批文件:  59%|█████▉    | 222/377 [02:35<01:47,  1.45batch/s]"
     ]
    },
    {
     "name": "stdout",
     "output_type": "stream",
     "text": [
      "已保存 ./data/PubMed/split\\SEAL_train_pos_batch221.pt，当前内存占用率 43.8%\n"
     ]
    },
    {
     "name": "stderr",
     "output_type": "stream",
     "text": [
      "保存 ./data/PubMed/split\\SEAL_train_pos 分批文件:  59%|█████▉    | 223/377 [02:36<01:45,  1.46batch/s]"
     ]
    },
    {
     "name": "stdout",
     "output_type": "stream",
     "text": [
      "已保存 ./data/PubMed/split\\SEAL_train_pos_batch222.pt，当前内存占用率 43.7%\n"
     ]
    },
    {
     "name": "stderr",
     "output_type": "stream",
     "text": [
      "保存 ./data/PubMed/split\\SEAL_train_pos 分批文件:  59%|█████▉    | 224/377 [02:37<01:46,  1.44batch/s]"
     ]
    },
    {
     "name": "stdout",
     "output_type": "stream",
     "text": [
      "已保存 ./data/PubMed/split\\SEAL_train_pos_batch223.pt，当前内存占用率 43.8%\n"
     ]
    },
    {
     "name": "stderr",
     "output_type": "stream",
     "text": [
      "保存 ./data/PubMed/split\\SEAL_train_pos 分批文件:  60%|█████▉    | 225/377 [02:38<01:49,  1.39batch/s]"
     ]
    },
    {
     "name": "stdout",
     "output_type": "stream",
     "text": [
      "已保存 ./data/PubMed/split\\SEAL_train_pos_batch224.pt，当前内存占用率 43.8%\n"
     ]
    },
    {
     "name": "stderr",
     "output_type": "stream",
     "text": [
      "保存 ./data/PubMed/split\\SEAL_train_pos 分批文件:  60%|█████▉    | 226/377 [02:38<01:46,  1.42batch/s]"
     ]
    },
    {
     "name": "stdout",
     "output_type": "stream",
     "text": [
      "已保存 ./data/PubMed/split\\SEAL_train_pos_batch225.pt，当前内存占用率 43.8%\n"
     ]
    },
    {
     "name": "stderr",
     "output_type": "stream",
     "text": [
      "保存 ./data/PubMed/split\\SEAL_train_pos 分批文件:  60%|██████    | 227/377 [02:39<01:47,  1.39batch/s]"
     ]
    },
    {
     "name": "stdout",
     "output_type": "stream",
     "text": [
      "已保存 ./data/PubMed/split\\SEAL_train_pos_batch226.pt，当前内存占用率 43.9%\n"
     ]
    },
    {
     "name": "stderr",
     "output_type": "stream",
     "text": [
      "保存 ./data/PubMed/split\\SEAL_train_pos 分批文件:  60%|██████    | 228/377 [02:40<01:45,  1.41batch/s]"
     ]
    },
    {
     "name": "stdout",
     "output_type": "stream",
     "text": [
      "已保存 ./data/PubMed/split\\SEAL_train_pos_batch227.pt，当前内存占用率 43.9%\n"
     ]
    },
    {
     "name": "stderr",
     "output_type": "stream",
     "text": [
      "保存 ./data/PubMed/split\\SEAL_train_pos 分批文件:  61%|██████    | 229/377 [02:40<01:44,  1.42batch/s]"
     ]
    },
    {
     "name": "stdout",
     "output_type": "stream",
     "text": [
      "已保存 ./data/PubMed/split\\SEAL_train_pos_batch228.pt，当前内存占用率 43.9%\n"
     ]
    },
    {
     "name": "stderr",
     "output_type": "stream",
     "text": [
      "保存 ./data/PubMed/split\\SEAL_train_pos 分批文件:  61%|██████    | 230/377 [02:41<01:43,  1.42batch/s]"
     ]
    },
    {
     "name": "stdout",
     "output_type": "stream",
     "text": [
      "已保存 ./data/PubMed/split\\SEAL_train_pos_batch229.pt，当前内存占用率 43.9%\n"
     ]
    },
    {
     "name": "stderr",
     "output_type": "stream",
     "text": [
      "保存 ./data/PubMed/split\\SEAL_train_pos 分批文件:  61%|██████▏   | 231/377 [02:42<01:43,  1.41batch/s]"
     ]
    },
    {
     "name": "stdout",
     "output_type": "stream",
     "text": [
      "已保存 ./data/PubMed/split\\SEAL_train_pos_batch230.pt，当前内存占用率 43.8%\n"
     ]
    },
    {
     "name": "stderr",
     "output_type": "stream",
     "text": [
      "保存 ./data/PubMed/split\\SEAL_train_pos 分批文件:  62%|██████▏   | 232/377 [02:43<01:46,  1.37batch/s]"
     ]
    },
    {
     "name": "stdout",
     "output_type": "stream",
     "text": [
      "已保存 ./data/PubMed/split\\SEAL_train_pos_batch231.pt，当前内存占用率 43.9%\n"
     ]
    },
    {
     "name": "stderr",
     "output_type": "stream",
     "text": [
      "保存 ./data/PubMed/split\\SEAL_train_pos 分批文件:  62%|██████▏   | 233/377 [02:43<01:43,  1.39batch/s]"
     ]
    },
    {
     "name": "stdout",
     "output_type": "stream",
     "text": [
      "已保存 ./data/PubMed/split\\SEAL_train_pos_batch232.pt，当前内存占用率 43.9%\n"
     ]
    },
    {
     "name": "stderr",
     "output_type": "stream",
     "text": [
      "保存 ./data/PubMed/split\\SEAL_train_pos 分批文件:  62%|██████▏   | 234/377 [02:44<01:43,  1.38batch/s]"
     ]
    },
    {
     "name": "stdout",
     "output_type": "stream",
     "text": [
      "已保存 ./data/PubMed/split\\SEAL_train_pos_batch233.pt，当前内存占用率 43.9%\n"
     ]
    },
    {
     "name": "stderr",
     "output_type": "stream",
     "text": [
      "保存 ./data/PubMed/split\\SEAL_train_pos 分批文件:  62%|██████▏   | 235/377 [02:45<01:40,  1.42batch/s]"
     ]
    },
    {
     "name": "stdout",
     "output_type": "stream",
     "text": [
      "已保存 ./data/PubMed/split\\SEAL_train_pos_batch234.pt，当前内存占用率 43.9%\n"
     ]
    },
    {
     "name": "stderr",
     "output_type": "stream",
     "text": [
      "保存 ./data/PubMed/split\\SEAL_train_pos 分批文件:  63%|██████▎   | 236/377 [02:45<01:39,  1.42batch/s]"
     ]
    },
    {
     "name": "stdout",
     "output_type": "stream",
     "text": [
      "已保存 ./data/PubMed/split\\SEAL_train_pos_batch235.pt，当前内存占用率 43.9%\n"
     ]
    },
    {
     "name": "stderr",
     "output_type": "stream",
     "text": [
      "保存 ./data/PubMed/split\\SEAL_train_pos 分批文件:  63%|██████▎   | 237/377 [02:46<01:39,  1.41batch/s]"
     ]
    },
    {
     "name": "stdout",
     "output_type": "stream",
     "text": [
      "已保存 ./data/PubMed/split\\SEAL_train_pos_batch236.pt，当前内存占用率 44.0%\n"
     ]
    },
    {
     "name": "stderr",
     "output_type": "stream",
     "text": [
      "保存 ./data/PubMed/split\\SEAL_train_pos 分批文件:  63%|██████▎   | 238/377 [02:47<01:38,  1.41batch/s]"
     ]
    },
    {
     "name": "stdout",
     "output_type": "stream",
     "text": [
      "已保存 ./data/PubMed/split\\SEAL_train_pos_batch237.pt，当前内存占用率 43.9%\n"
     ]
    },
    {
     "name": "stderr",
     "output_type": "stream",
     "text": [
      "保存 ./data/PubMed/split\\SEAL_train_pos 分批文件:  63%|██████▎   | 239/377 [02:48<01:38,  1.40batch/s]"
     ]
    },
    {
     "name": "stdout",
     "output_type": "stream",
     "text": [
      "已保存 ./data/PubMed/split\\SEAL_train_pos_batch238.pt，当前内存占用率 43.8%\n"
     ]
    },
    {
     "name": "stderr",
     "output_type": "stream",
     "text": [
      "保存 ./data/PubMed/split\\SEAL_train_pos 分批文件:  64%|██████▎   | 240/377 [02:48<01:37,  1.40batch/s]"
     ]
    },
    {
     "name": "stdout",
     "output_type": "stream",
     "text": [
      "已保存 ./data/PubMed/split\\SEAL_train_pos_batch239.pt，当前内存占用率 43.8%\n"
     ]
    },
    {
     "name": "stderr",
     "output_type": "stream",
     "text": [
      "保存 ./data/PubMed/split\\SEAL_train_pos 分批文件:  64%|██████▍   | 241/377 [02:49<01:35,  1.42batch/s]"
     ]
    },
    {
     "name": "stdout",
     "output_type": "stream",
     "text": [
      "已保存 ./data/PubMed/split\\SEAL_train_pos_batch240.pt，当前内存占用率 43.9%\n"
     ]
    },
    {
     "name": "stderr",
     "output_type": "stream",
     "text": [
      "保存 ./data/PubMed/split\\SEAL_train_pos 分批文件:  64%|██████▍   | 242/377 [02:50<01:33,  1.45batch/s]"
     ]
    },
    {
     "name": "stdout",
     "output_type": "stream",
     "text": [
      "已保存 ./data/PubMed/split\\SEAL_train_pos_batch241.pt，当前内存占用率 43.8%\n"
     ]
    },
    {
     "name": "stderr",
     "output_type": "stream",
     "text": [
      "保存 ./data/PubMed/split\\SEAL_train_pos 分批文件:  64%|██████▍   | 243/377 [02:50<01:33,  1.43batch/s]"
     ]
    },
    {
     "name": "stdout",
     "output_type": "stream",
     "text": [
      "已保存 ./data/PubMed/split\\SEAL_train_pos_batch242.pt，当前内存占用率 43.9%\n"
     ]
    },
    {
     "name": "stderr",
     "output_type": "stream",
     "text": [
      "保存 ./data/PubMed/split\\SEAL_train_pos 分批文件:  65%|██████▍   | 244/377 [02:51<01:33,  1.43batch/s]"
     ]
    },
    {
     "name": "stdout",
     "output_type": "stream",
     "text": [
      "已保存 ./data/PubMed/split\\SEAL_train_pos_batch243.pt，当前内存占用率 43.8%\n"
     ]
    },
    {
     "name": "stderr",
     "output_type": "stream",
     "text": [
      "保存 ./data/PubMed/split\\SEAL_train_pos 分批文件:  65%|██████▍   | 245/377 [02:52<01:31,  1.44batch/s]"
     ]
    },
    {
     "name": "stdout",
     "output_type": "stream",
     "text": [
      "已保存 ./data/PubMed/split\\SEAL_train_pos_batch244.pt，当前内存占用率 44.0%\n"
     ]
    },
    {
     "name": "stderr",
     "output_type": "stream",
     "text": [
      "保存 ./data/PubMed/split\\SEAL_train_pos 分批文件:  65%|██████▌   | 246/377 [02:53<01:33,  1.41batch/s]"
     ]
    },
    {
     "name": "stdout",
     "output_type": "stream",
     "text": [
      "已保存 ./data/PubMed/split\\SEAL_train_pos_batch245.pt，当前内存占用率 43.8%\n"
     ]
    },
    {
     "name": "stderr",
     "output_type": "stream",
     "text": [
      "保存 ./data/PubMed/split\\SEAL_train_pos 分批文件:  66%|██████▌   | 247/377 [02:53<01:31,  1.43batch/s]"
     ]
    },
    {
     "name": "stdout",
     "output_type": "stream",
     "text": [
      "已保存 ./data/PubMed/split\\SEAL_train_pos_batch246.pt，当前内存占用率 43.9%\n"
     ]
    },
    {
     "name": "stderr",
     "output_type": "stream",
     "text": [
      "保存 ./data/PubMed/split\\SEAL_train_pos 分批文件:  66%|██████▌   | 248/377 [02:54<01:29,  1.44batch/s]"
     ]
    },
    {
     "name": "stdout",
     "output_type": "stream",
     "text": [
      "已保存 ./data/PubMed/split\\SEAL_train_pos_batch247.pt，当前内存占用率 43.8%\n"
     ]
    },
    {
     "name": "stderr",
     "output_type": "stream",
     "text": [
      "保存 ./data/PubMed/split\\SEAL_train_pos 分批文件:  66%|██████▌   | 249/377 [02:55<01:27,  1.46batch/s]"
     ]
    },
    {
     "name": "stdout",
     "output_type": "stream",
     "text": [
      "已保存 ./data/PubMed/split\\SEAL_train_pos_batch248.pt，当前内存占用率 44.0%\n"
     ]
    },
    {
     "name": "stderr",
     "output_type": "stream",
     "text": [
      "保存 ./data/PubMed/split\\SEAL_train_pos 分批文件:  66%|██████▋   | 250/377 [02:55<01:27,  1.45batch/s]"
     ]
    },
    {
     "name": "stdout",
     "output_type": "stream",
     "text": [
      "已保存 ./data/PubMed/split\\SEAL_train_pos_batch249.pt，当前内存占用率 43.9%\n"
     ]
    },
    {
     "name": "stderr",
     "output_type": "stream",
     "text": [
      "保存 ./data/PubMed/split\\SEAL_train_pos 分批文件:  67%|██████▋   | 251/377 [02:56<01:27,  1.45batch/s]"
     ]
    },
    {
     "name": "stdout",
     "output_type": "stream",
     "text": [
      "已保存 ./data/PubMed/split\\SEAL_train_pos_batch250.pt，当前内存占用率 43.9%\n"
     ]
    },
    {
     "name": "stderr",
     "output_type": "stream",
     "text": [
      "保存 ./data/PubMed/split\\SEAL_train_pos 分批文件:  67%|██████▋   | 252/377 [02:57<01:24,  1.48batch/s]"
     ]
    },
    {
     "name": "stdout",
     "output_type": "stream",
     "text": [
      "已保存 ./data/PubMed/split\\SEAL_train_pos_batch251.pt，当前内存占用率 43.9%\n"
     ]
    },
    {
     "name": "stderr",
     "output_type": "stream",
     "text": [
      "保存 ./data/PubMed/split\\SEAL_train_pos 分批文件:  67%|██████▋   | 253/377 [02:57<01:23,  1.48batch/s]"
     ]
    },
    {
     "name": "stdout",
     "output_type": "stream",
     "text": [
      "已保存 ./data/PubMed/split\\SEAL_train_pos_batch252.pt，当前内存占用率 43.9%\n"
     ]
    },
    {
     "name": "stderr",
     "output_type": "stream",
     "text": [
      "保存 ./data/PubMed/split\\SEAL_train_pos 分批文件:  67%|██████▋   | 254/377 [02:58<01:27,  1.41batch/s]"
     ]
    },
    {
     "name": "stdout",
     "output_type": "stream",
     "text": [
      "已保存 ./data/PubMed/split\\SEAL_train_pos_batch253.pt，当前内存占用率 43.8%\n"
     ]
    },
    {
     "name": "stderr",
     "output_type": "stream",
     "text": [
      "保存 ./data/PubMed/split\\SEAL_train_pos 分批文件:  68%|██████▊   | 255/377 [02:59<01:29,  1.36batch/s]"
     ]
    },
    {
     "name": "stdout",
     "output_type": "stream",
     "text": [
      "已保存 ./data/PubMed/split\\SEAL_train_pos_batch254.pt，当前内存占用率 43.9%\n"
     ]
    },
    {
     "name": "stderr",
     "output_type": "stream",
     "text": [
      "保存 ./data/PubMed/split\\SEAL_train_pos 分批文件:  68%|██████▊   | 256/377 [03:00<01:30,  1.34batch/s]"
     ]
    },
    {
     "name": "stdout",
     "output_type": "stream",
     "text": [
      "已保存 ./data/PubMed/split\\SEAL_train_pos_batch255.pt，当前内存占用率 43.9%\n"
     ]
    },
    {
     "name": "stderr",
     "output_type": "stream",
     "text": [
      "保存 ./data/PubMed/split\\SEAL_train_pos 分批文件:  68%|██████▊   | 257/377 [03:00<01:32,  1.30batch/s]"
     ]
    },
    {
     "name": "stdout",
     "output_type": "stream",
     "text": [
      "已保存 ./data/PubMed/split\\SEAL_train_pos_batch256.pt，当前内存占用率 44.0%\n"
     ]
    },
    {
     "name": "stderr",
     "output_type": "stream",
     "text": [
      "保存 ./data/PubMed/split\\SEAL_train_pos 分批文件:  68%|██████▊   | 258/377 [03:01<01:27,  1.37batch/s]"
     ]
    },
    {
     "name": "stdout",
     "output_type": "stream",
     "text": [
      "已保存 ./data/PubMed/split\\SEAL_train_pos_batch257.pt，当前内存占用率 43.8%\n"
     ]
    },
    {
     "name": "stderr",
     "output_type": "stream",
     "text": [
      "保存 ./data/PubMed/split\\SEAL_train_pos 分批文件:  69%|██████▊   | 259/377 [03:02<01:23,  1.41batch/s]"
     ]
    },
    {
     "name": "stdout",
     "output_type": "stream",
     "text": [
      "已保存 ./data/PubMed/split\\SEAL_train_pos_batch258.pt，当前内存占用率 44.0%\n"
     ]
    },
    {
     "name": "stderr",
     "output_type": "stream",
     "text": [
      "保存 ./data/PubMed/split\\SEAL_train_pos 分批文件:  69%|██████▉   | 260/377 [03:02<01:21,  1.44batch/s]"
     ]
    },
    {
     "name": "stdout",
     "output_type": "stream",
     "text": [
      "已保存 ./data/PubMed/split\\SEAL_train_pos_batch259.pt，当前内存占用率 43.9%\n"
     ]
    },
    {
     "name": "stderr",
     "output_type": "stream",
     "text": [
      "保存 ./data/PubMed/split\\SEAL_train_pos 分批文件:  69%|██████▉   | 261/377 [03:03<01:18,  1.48batch/s]"
     ]
    },
    {
     "name": "stdout",
     "output_type": "stream",
     "text": [
      "已保存 ./data/PubMed/split\\SEAL_train_pos_batch260.pt，当前内存占用率 43.9%\n"
     ]
    },
    {
     "name": "stderr",
     "output_type": "stream",
     "text": [
      "保存 ./data/PubMed/split\\SEAL_train_pos 分批文件:  69%|██████▉   | 262/377 [03:04<01:22,  1.40batch/s]"
     ]
    },
    {
     "name": "stdout",
     "output_type": "stream",
     "text": [
      "已保存 ./data/PubMed/split\\SEAL_train_pos_batch261.pt，当前内存占用率 44.0%\n"
     ]
    },
    {
     "name": "stderr",
     "output_type": "stream",
     "text": [
      "保存 ./data/PubMed/split\\SEAL_train_pos 分批文件:  70%|██████▉   | 263/377 [03:04<01:19,  1.43batch/s]"
     ]
    },
    {
     "name": "stdout",
     "output_type": "stream",
     "text": [
      "已保存 ./data/PubMed/split\\SEAL_train_pos_batch262.pt，当前内存占用率 43.9%\n"
     ]
    },
    {
     "name": "stderr",
     "output_type": "stream",
     "text": [
      "保存 ./data/PubMed/split\\SEAL_train_pos 分批文件:  70%|███████   | 264/377 [03:05<01:19,  1.43batch/s]"
     ]
    },
    {
     "name": "stdout",
     "output_type": "stream",
     "text": [
      "已保存 ./data/PubMed/split\\SEAL_train_pos_batch263.pt，当前内存占用率 43.9%\n"
     ]
    },
    {
     "name": "stderr",
     "output_type": "stream",
     "text": [
      "保存 ./data/PubMed/split\\SEAL_train_pos 分批文件:  70%|███████   | 265/377 [03:06<01:17,  1.45batch/s]"
     ]
    },
    {
     "name": "stdout",
     "output_type": "stream",
     "text": [
      "已保存 ./data/PubMed/split\\SEAL_train_pos_batch264.pt，当前内存占用率 43.9%\n"
     ]
    },
    {
     "name": "stderr",
     "output_type": "stream",
     "text": [
      "保存 ./data/PubMed/split\\SEAL_train_pos 分批文件:  71%|███████   | 266/377 [03:06<01:14,  1.48batch/s]"
     ]
    },
    {
     "name": "stdout",
     "output_type": "stream",
     "text": [
      "已保存 ./data/PubMed/split\\SEAL_train_pos_batch265.pt，当前内存占用率 44.0%\n"
     ]
    },
    {
     "name": "stderr",
     "output_type": "stream",
     "text": [
      "保存 ./data/PubMed/split\\SEAL_train_pos 分批文件:  71%|███████   | 267/377 [03:07<01:14,  1.47batch/s]"
     ]
    },
    {
     "name": "stdout",
     "output_type": "stream",
     "text": [
      "已保存 ./data/PubMed/split\\SEAL_train_pos_batch266.pt，当前内存占用率 43.9%\n"
     ]
    },
    {
     "name": "stderr",
     "output_type": "stream",
     "text": [
      "保存 ./data/PubMed/split\\SEAL_train_pos 分批文件:  71%|███████   | 268/377 [03:08<01:15,  1.44batch/s]"
     ]
    },
    {
     "name": "stdout",
     "output_type": "stream",
     "text": [
      "已保存 ./data/PubMed/split\\SEAL_train_pos_batch267.pt，当前内存占用率 43.9%\n"
     ]
    },
    {
     "name": "stderr",
     "output_type": "stream",
     "text": [
      "保存 ./data/PubMed/split\\SEAL_train_pos 分批文件:  71%|███████▏  | 269/377 [03:09<01:14,  1.46batch/s]"
     ]
    },
    {
     "name": "stdout",
     "output_type": "stream",
     "text": [
      "已保存 ./data/PubMed/split\\SEAL_train_pos_batch268.pt，当前内存占用率 43.9%\n"
     ]
    },
    {
     "name": "stderr",
     "output_type": "stream",
     "text": [
      "保存 ./data/PubMed/split\\SEAL_train_pos 分批文件:  72%|███████▏  | 270/377 [03:09<01:13,  1.46batch/s]"
     ]
    },
    {
     "name": "stdout",
     "output_type": "stream",
     "text": [
      "已保存 ./data/PubMed/split\\SEAL_train_pos_batch269.pt，当前内存占用率 43.9%\n"
     ]
    },
    {
     "name": "stderr",
     "output_type": "stream",
     "text": [
      "保存 ./data/PubMed/split\\SEAL_train_pos 分批文件:  72%|███████▏  | 271/377 [03:10<01:12,  1.46batch/s]"
     ]
    },
    {
     "name": "stdout",
     "output_type": "stream",
     "text": [
      "已保存 ./data/PubMed/split\\SEAL_train_pos_batch270.pt，当前内存占用率 44.0%\n"
     ]
    },
    {
     "name": "stderr",
     "output_type": "stream",
     "text": [
      "保存 ./data/PubMed/split\\SEAL_train_pos 分批文件:  72%|███████▏  | 272/377 [03:11<01:12,  1.44batch/s]"
     ]
    },
    {
     "name": "stdout",
     "output_type": "stream",
     "text": [
      "已保存 ./data/PubMed/split\\SEAL_train_pos_batch271.pt，当前内存占用率 43.9%\n"
     ]
    },
    {
     "name": "stderr",
     "output_type": "stream",
     "text": [
      "保存 ./data/PubMed/split\\SEAL_train_pos 分批文件:  72%|███████▏  | 273/377 [03:11<01:11,  1.46batch/s]"
     ]
    },
    {
     "name": "stdout",
     "output_type": "stream",
     "text": [
      "已保存 ./data/PubMed/split\\SEAL_train_pos_batch272.pt，当前内存占用率 43.9%\n"
     ]
    },
    {
     "name": "stderr",
     "output_type": "stream",
     "text": [
      "保存 ./data/PubMed/split\\SEAL_train_pos 分批文件:  73%|███████▎  | 274/377 [03:12<01:12,  1.43batch/s]"
     ]
    },
    {
     "name": "stdout",
     "output_type": "stream",
     "text": [
      "已保存 ./data/PubMed/split\\SEAL_train_pos_batch273.pt，当前内存占用率 43.9%\n"
     ]
    },
    {
     "name": "stderr",
     "output_type": "stream",
     "text": [
      "保存 ./data/PubMed/split\\SEAL_train_pos 分批文件:  73%|███████▎  | 275/377 [03:13<01:10,  1.44batch/s]"
     ]
    },
    {
     "name": "stdout",
     "output_type": "stream",
     "text": [
      "已保存 ./data/PubMed/split\\SEAL_train_pos_batch274.pt，当前内存占用率 44.0%\n"
     ]
    },
    {
     "name": "stderr",
     "output_type": "stream",
     "text": [
      "保存 ./data/PubMed/split\\SEAL_train_pos 分批文件:  73%|███████▎  | 276/377 [03:13<01:09,  1.45batch/s]"
     ]
    },
    {
     "name": "stdout",
     "output_type": "stream",
     "text": [
      "已保存 ./data/PubMed/split\\SEAL_train_pos_batch275.pt，当前内存占用率 43.9%\n"
     ]
    },
    {
     "name": "stderr",
     "output_type": "stream",
     "text": [
      "保存 ./data/PubMed/split\\SEAL_train_pos 分批文件:  73%|███████▎  | 277/377 [03:14<01:08,  1.47batch/s]"
     ]
    },
    {
     "name": "stdout",
     "output_type": "stream",
     "text": [
      "已保存 ./data/PubMed/split\\SEAL_train_pos_batch276.pt，当前内存占用率 44.0%\n"
     ]
    },
    {
     "name": "stderr",
     "output_type": "stream",
     "text": [
      "保存 ./data/PubMed/split\\SEAL_train_pos 分批文件:  74%|███████▎  | 278/377 [03:15<01:06,  1.49batch/s]"
     ]
    },
    {
     "name": "stdout",
     "output_type": "stream",
     "text": [
      "已保存 ./data/PubMed/split\\SEAL_train_pos_batch277.pt，当前内存占用率 43.9%\n"
     ]
    },
    {
     "name": "stderr",
     "output_type": "stream",
     "text": [
      "保存 ./data/PubMed/split\\SEAL_train_pos 分批文件:  74%|███████▍  | 279/377 [03:15<01:06,  1.48batch/s]"
     ]
    },
    {
     "name": "stdout",
     "output_type": "stream",
     "text": [
      "已保存 ./data/PubMed/split\\SEAL_train_pos_batch278.pt，当前内存占用率 43.9%\n"
     ]
    },
    {
     "name": "stderr",
     "output_type": "stream",
     "text": [
      "保存 ./data/PubMed/split\\SEAL_train_pos 分批文件:  74%|███████▍  | 280/377 [03:16<01:05,  1.48batch/s]"
     ]
    },
    {
     "name": "stdout",
     "output_type": "stream",
     "text": [
      "已保存 ./data/PubMed/split\\SEAL_train_pos_batch279.pt，当前内存占用率 44.0%\n"
     ]
    },
    {
     "name": "stderr",
     "output_type": "stream",
     "text": [
      "保存 ./data/PubMed/split\\SEAL_train_pos 分批文件:  75%|███████▍  | 281/377 [03:17<01:06,  1.44batch/s]"
     ]
    },
    {
     "name": "stdout",
     "output_type": "stream",
     "text": [
      "已保存 ./data/PubMed/split\\SEAL_train_pos_batch280.pt，当前内存占用率 44.0%\n"
     ]
    },
    {
     "name": "stderr",
     "output_type": "stream",
     "text": [
      "保存 ./data/PubMed/split\\SEAL_train_pos 分批文件:  75%|███████▍  | 282/377 [03:18<01:05,  1.45batch/s]"
     ]
    },
    {
     "name": "stdout",
     "output_type": "stream",
     "text": [
      "已保存 ./data/PubMed/split\\SEAL_train_pos_batch281.pt，当前内存占用率 43.9%\n"
     ]
    },
    {
     "name": "stderr",
     "output_type": "stream",
     "text": [
      "保存 ./data/PubMed/split\\SEAL_train_pos 分批文件:  75%|███████▌  | 283/377 [03:18<01:03,  1.48batch/s]"
     ]
    },
    {
     "name": "stdout",
     "output_type": "stream",
     "text": [
      "已保存 ./data/PubMed/split\\SEAL_train_pos_batch282.pt，当前内存占用率 44.0%\n"
     ]
    },
    {
     "name": "stderr",
     "output_type": "stream",
     "text": [
      "保存 ./data/PubMed/split\\SEAL_train_pos 分批文件:  75%|███████▌  | 284/377 [03:19<01:04,  1.44batch/s]"
     ]
    },
    {
     "name": "stdout",
     "output_type": "stream",
     "text": [
      "已保存 ./data/PubMed/split\\SEAL_train_pos_batch283.pt，当前内存占用率 44.0%\n"
     ]
    },
    {
     "name": "stderr",
     "output_type": "stream",
     "text": [
      "保存 ./data/PubMed/split\\SEAL_train_pos 分批文件:  76%|███████▌  | 285/377 [03:20<01:03,  1.45batch/s]"
     ]
    },
    {
     "name": "stdout",
     "output_type": "stream",
     "text": [
      "已保存 ./data/PubMed/split\\SEAL_train_pos_batch284.pt，当前内存占用率 43.9%\n"
     ]
    },
    {
     "name": "stderr",
     "output_type": "stream",
     "text": [
      "保存 ./data/PubMed/split\\SEAL_train_pos 分批文件:  76%|███████▌  | 286/377 [03:20<01:02,  1.46batch/s]"
     ]
    },
    {
     "name": "stdout",
     "output_type": "stream",
     "text": [
      "已保存 ./data/PubMed/split\\SEAL_train_pos_batch285.pt，当前内存占用率 44.0%\n"
     ]
    },
    {
     "name": "stderr",
     "output_type": "stream",
     "text": [
      "保存 ./data/PubMed/split\\SEAL_train_pos 分批文件:  76%|███████▌  | 287/377 [03:21<01:01,  1.47batch/s]"
     ]
    },
    {
     "name": "stdout",
     "output_type": "stream",
     "text": [
      "已保存 ./data/PubMed/split\\SEAL_train_pos_batch286.pt，当前内存占用率 44.1%\n"
     ]
    },
    {
     "name": "stderr",
     "output_type": "stream",
     "text": [
      "保存 ./data/PubMed/split\\SEAL_train_pos 分批文件:  76%|███████▋  | 288/377 [03:22<01:00,  1.47batch/s]"
     ]
    },
    {
     "name": "stdout",
     "output_type": "stream",
     "text": [
      "已保存 ./data/PubMed/split\\SEAL_train_pos_batch287.pt，当前内存占用率 44.0%\n"
     ]
    },
    {
     "name": "stderr",
     "output_type": "stream",
     "text": [
      "保存 ./data/PubMed/split\\SEAL_train_pos 分批文件:  77%|███████▋  | 289/377 [03:22<01:00,  1.47batch/s]"
     ]
    },
    {
     "name": "stdout",
     "output_type": "stream",
     "text": [
      "已保存 ./data/PubMed/split\\SEAL_train_pos_batch288.pt，当前内存占用率 44.0%\n"
     ]
    },
    {
     "name": "stderr",
     "output_type": "stream",
     "text": [
      "保存 ./data/PubMed/split\\SEAL_train_pos 分批文件:  77%|███████▋  | 290/377 [03:23<00:58,  1.50batch/s]"
     ]
    },
    {
     "name": "stdout",
     "output_type": "stream",
     "text": [
      "已保存 ./data/PubMed/split\\SEAL_train_pos_batch289.pt，当前内存占用率 43.9%\n"
     ]
    },
    {
     "name": "stderr",
     "output_type": "stream",
     "text": [
      "保存 ./data/PubMed/split\\SEAL_train_pos 分批文件:  77%|███████▋  | 291/377 [03:24<01:00,  1.43batch/s]"
     ]
    },
    {
     "name": "stdout",
     "output_type": "stream",
     "text": [
      "已保存 ./data/PubMed/split\\SEAL_train_pos_batch290.pt，当前内存占用率 43.8%\n"
     ]
    },
    {
     "name": "stderr",
     "output_type": "stream",
     "text": [
      "保存 ./data/PubMed/split\\SEAL_train_pos 分批文件:  77%|███████▋  | 292/377 [03:24<00:57,  1.47batch/s]"
     ]
    },
    {
     "name": "stdout",
     "output_type": "stream",
     "text": [
      "已保存 ./data/PubMed/split\\SEAL_train_pos_batch291.pt，当前内存占用率 43.9%\n"
     ]
    },
    {
     "name": "stderr",
     "output_type": "stream",
     "text": [
      "保存 ./data/PubMed/split\\SEAL_train_pos 分批文件:  78%|███████▊  | 293/377 [03:25<00:57,  1.46batch/s]"
     ]
    },
    {
     "name": "stdout",
     "output_type": "stream",
     "text": [
      "已保存 ./data/PubMed/split\\SEAL_train_pos_batch292.pt，当前内存占用率 44.0%\n"
     ]
    },
    {
     "name": "stderr",
     "output_type": "stream",
     "text": [
      "保存 ./data/PubMed/split\\SEAL_train_pos 分批文件:  78%|███████▊  | 294/377 [03:26<00:56,  1.48batch/s]"
     ]
    },
    {
     "name": "stdout",
     "output_type": "stream",
     "text": [
      "已保存 ./data/PubMed/split\\SEAL_train_pos_batch293.pt，当前内存占用率 44.0%\n"
     ]
    },
    {
     "name": "stderr",
     "output_type": "stream",
     "text": [
      "保存 ./data/PubMed/split\\SEAL_train_pos 分批文件:  78%|███████▊  | 295/377 [03:26<00:55,  1.47batch/s]"
     ]
    },
    {
     "name": "stdout",
     "output_type": "stream",
     "text": [
      "已保存 ./data/PubMed/split\\SEAL_train_pos_batch294.pt，当前内存占用率 44.0%\n"
     ]
    },
    {
     "name": "stderr",
     "output_type": "stream",
     "text": [
      "保存 ./data/PubMed/split\\SEAL_train_pos 分批文件:  79%|███████▊  | 296/377 [03:27<00:54,  1.48batch/s]"
     ]
    },
    {
     "name": "stdout",
     "output_type": "stream",
     "text": [
      "已保存 ./data/PubMed/split\\SEAL_train_pos_batch295.pt，当前内存占用率 43.9%\n"
     ]
    },
    {
     "name": "stderr",
     "output_type": "stream",
     "text": [
      "保存 ./data/PubMed/split\\SEAL_train_pos 分批文件:  79%|███████▉  | 297/377 [03:28<00:53,  1.49batch/s]"
     ]
    },
    {
     "name": "stdout",
     "output_type": "stream",
     "text": [
      "已保存 ./data/PubMed/split\\SEAL_train_pos_batch296.pt，当前内存占用率 44.0%\n"
     ]
    },
    {
     "name": "stderr",
     "output_type": "stream",
     "text": [
      "保存 ./data/PubMed/split\\SEAL_train_pos 分批文件:  79%|███████▉  | 298/377 [03:28<00:52,  1.49batch/s]"
     ]
    },
    {
     "name": "stdout",
     "output_type": "stream",
     "text": [
      "已保存 ./data/PubMed/split\\SEAL_train_pos_batch297.pt，当前内存占用率 43.9%\n"
     ]
    },
    {
     "name": "stderr",
     "output_type": "stream",
     "text": [
      "保存 ./data/PubMed/split\\SEAL_train_pos 分批文件:  79%|███████▉  | 299/377 [03:29<00:51,  1.51batch/s]"
     ]
    },
    {
     "name": "stdout",
     "output_type": "stream",
     "text": [
      "已保存 ./data/PubMed/split\\SEAL_train_pos_batch298.pt，当前内存占用率 44.0%\n"
     ]
    },
    {
     "name": "stderr",
     "output_type": "stream",
     "text": [
      "保存 ./data/PubMed/split\\SEAL_train_pos 分批文件:  80%|███████▉  | 300/377 [03:30<00:52,  1.47batch/s]"
     ]
    },
    {
     "name": "stdout",
     "output_type": "stream",
     "text": [
      "已保存 ./data/PubMed/split\\SEAL_train_pos_batch299.pt，当前内存占用率 43.9%\n"
     ]
    },
    {
     "name": "stderr",
     "output_type": "stream",
     "text": [
      "保存 ./data/PubMed/split\\SEAL_train_pos 分批文件:  80%|███████▉  | 301/377 [03:30<00:52,  1.45batch/s]"
     ]
    },
    {
     "name": "stdout",
     "output_type": "stream",
     "text": [
      "已保存 ./data/PubMed/split\\SEAL_train_pos_batch300.pt，当前内存占用率 44.0%\n"
     ]
    },
    {
     "name": "stderr",
     "output_type": "stream",
     "text": [
      "保存 ./data/PubMed/split\\SEAL_train_pos 分批文件:  80%|████████  | 302/377 [03:31<00:51,  1.45batch/s]"
     ]
    },
    {
     "name": "stdout",
     "output_type": "stream",
     "text": [
      "已保存 ./data/PubMed/split\\SEAL_train_pos_batch301.pt，当前内存占用率 44.0%\n"
     ]
    },
    {
     "name": "stderr",
     "output_type": "stream",
     "text": [
      "保存 ./data/PubMed/split\\SEAL_train_pos 分批文件:  80%|████████  | 303/377 [03:32<00:51,  1.45batch/s]"
     ]
    },
    {
     "name": "stdout",
     "output_type": "stream",
     "text": [
      "已保存 ./data/PubMed/split\\SEAL_train_pos_batch302.pt，当前内存占用率 44.0%\n"
     ]
    },
    {
     "name": "stderr",
     "output_type": "stream",
     "text": [
      "保存 ./data/PubMed/split\\SEAL_train_pos 分批文件:  81%|████████  | 304/377 [03:32<00:49,  1.46batch/s]"
     ]
    },
    {
     "name": "stdout",
     "output_type": "stream",
     "text": [
      "已保存 ./data/PubMed/split\\SEAL_train_pos_batch303.pt，当前内存占用率 43.9%\n"
     ]
    },
    {
     "name": "stderr",
     "output_type": "stream",
     "text": [
      "保存 ./data/PubMed/split\\SEAL_train_pos 分批文件:  81%|████████  | 305/377 [03:33<00:48,  1.48batch/s]"
     ]
    },
    {
     "name": "stdout",
     "output_type": "stream",
     "text": [
      "已保存 ./data/PubMed/split\\SEAL_train_pos_batch304.pt，当前内存占用率 44.0%\n"
     ]
    },
    {
     "name": "stderr",
     "output_type": "stream",
     "text": [
      "保存 ./data/PubMed/split\\SEAL_train_pos 分批文件:  81%|████████  | 306/377 [03:34<00:47,  1.49batch/s]"
     ]
    },
    {
     "name": "stdout",
     "output_type": "stream",
     "text": [
      "已保存 ./data/PubMed/split\\SEAL_train_pos_batch305.pt，当前内存占用率 43.9%\n"
     ]
    },
    {
     "name": "stderr",
     "output_type": "stream",
     "text": [
      "保存 ./data/PubMed/split\\SEAL_train_pos 分批文件:  81%|████████▏ | 307/377 [03:34<00:45,  1.53batch/s]"
     ]
    },
    {
     "name": "stdout",
     "output_type": "stream",
     "text": [
      "已保存 ./data/PubMed/split\\SEAL_train_pos_batch306.pt，当前内存占用率 43.9%\n"
     ]
    },
    {
     "name": "stderr",
     "output_type": "stream",
     "text": [
      "保存 ./data/PubMed/split\\SEAL_train_pos 分批文件:  82%|████████▏ | 308/377 [03:35<00:46,  1.49batch/s]"
     ]
    },
    {
     "name": "stdout",
     "output_type": "stream",
     "text": [
      "已保存 ./data/PubMed/split\\SEAL_train_pos_batch307.pt，当前内存占用率 43.9%\n"
     ]
    },
    {
     "name": "stderr",
     "output_type": "stream",
     "text": [
      "保存 ./data/PubMed/split\\SEAL_train_pos 分批文件:  82%|████████▏ | 309/377 [03:36<00:45,  1.49batch/s]"
     ]
    },
    {
     "name": "stdout",
     "output_type": "stream",
     "text": [
      "已保存 ./data/PubMed/split\\SEAL_train_pos_batch308.pt，当前内存占用率 44.0%\n"
     ]
    },
    {
     "name": "stderr",
     "output_type": "stream",
     "text": [
      "保存 ./data/PubMed/split\\SEAL_train_pos 分批文件:  82%|████████▏ | 310/377 [03:36<00:44,  1.49batch/s]"
     ]
    },
    {
     "name": "stdout",
     "output_type": "stream",
     "text": [
      "已保存 ./data/PubMed/split\\SEAL_train_pos_batch309.pt，当前内存占用率 43.9%\n"
     ]
    },
    {
     "name": "stderr",
     "output_type": "stream",
     "text": [
      "保存 ./data/PubMed/split\\SEAL_train_pos 分批文件:  82%|████████▏ | 311/377 [03:37<00:44,  1.47batch/s]"
     ]
    },
    {
     "name": "stdout",
     "output_type": "stream",
     "text": [
      "已保存 ./data/PubMed/split\\SEAL_train_pos_batch310.pt，当前内存占用率 43.9%\n"
     ]
    },
    {
     "name": "stderr",
     "output_type": "stream",
     "text": [
      "保存 ./data/PubMed/split\\SEAL_train_pos 分批文件:  83%|████████▎ | 312/377 [03:38<00:43,  1.49batch/s]"
     ]
    },
    {
     "name": "stdout",
     "output_type": "stream",
     "text": [
      "已保存 ./data/PubMed/split\\SEAL_train_pos_batch311.pt，当前内存占用率 43.9%\n"
     ]
    },
    {
     "name": "stderr",
     "output_type": "stream",
     "text": [
      "保存 ./data/PubMed/split\\SEAL_train_pos 分批文件:  83%|████████▎ | 313/377 [03:39<00:43,  1.48batch/s]"
     ]
    },
    {
     "name": "stdout",
     "output_type": "stream",
     "text": [
      "已保存 ./data/PubMed/split\\SEAL_train_pos_batch312.pt，当前内存占用率 44.0%\n"
     ]
    },
    {
     "name": "stderr",
     "output_type": "stream",
     "text": [
      "保存 ./data/PubMed/split\\SEAL_train_pos 分批文件:  83%|████████▎ | 314/377 [03:39<00:43,  1.45batch/s]"
     ]
    },
    {
     "name": "stdout",
     "output_type": "stream",
     "text": [
      "已保存 ./data/PubMed/split\\SEAL_train_pos_batch313.pt，当前内存占用率 43.9%\n"
     ]
    },
    {
     "name": "stderr",
     "output_type": "stream",
     "text": [
      "保存 ./data/PubMed/split\\SEAL_train_pos 分批文件:  84%|████████▎ | 315/377 [03:40<00:42,  1.46batch/s]"
     ]
    },
    {
     "name": "stdout",
     "output_type": "stream",
     "text": [
      "已保存 ./data/PubMed/split\\SEAL_train_pos_batch314.pt，当前内存占用率 43.9%\n"
     ]
    },
    {
     "name": "stderr",
     "output_type": "stream",
     "text": [
      "保存 ./data/PubMed/split\\SEAL_train_pos 分批文件:  84%|████████▍ | 316/377 [03:41<00:40,  1.51batch/s]"
     ]
    },
    {
     "name": "stdout",
     "output_type": "stream",
     "text": [
      "已保存 ./data/PubMed/split\\SEAL_train_pos_batch315.pt，当前内存占用率 43.9%\n"
     ]
    },
    {
     "name": "stderr",
     "output_type": "stream",
     "text": [
      "保存 ./data/PubMed/split\\SEAL_train_pos 分批文件:  84%|████████▍ | 317/377 [03:41<00:41,  1.44batch/s]"
     ]
    },
    {
     "name": "stdout",
     "output_type": "stream",
     "text": [
      "已保存 ./data/PubMed/split\\SEAL_train_pos_batch316.pt，当前内存占用率 43.9%\n"
     ]
    },
    {
     "name": "stderr",
     "output_type": "stream",
     "text": [
      "保存 ./data/PubMed/split\\SEAL_train_pos 分批文件:  84%|████████▍ | 318/377 [03:42<00:40,  1.46batch/s]"
     ]
    },
    {
     "name": "stdout",
     "output_type": "stream",
     "text": [
      "已保存 ./data/PubMed/split\\SEAL_train_pos_batch317.pt，当前内存占用率 44.0%\n"
     ]
    },
    {
     "name": "stderr",
     "output_type": "stream",
     "text": [
      "保存 ./data/PubMed/split\\SEAL_train_pos 分批文件:  85%|████████▍ | 319/377 [03:43<00:39,  1.47batch/s]"
     ]
    },
    {
     "name": "stdout",
     "output_type": "stream",
     "text": [
      "已保存 ./data/PubMed/split\\SEAL_train_pos_batch318.pt，当前内存占用率 44.0%\n"
     ]
    },
    {
     "name": "stderr",
     "output_type": "stream",
     "text": [
      "保存 ./data/PubMed/split\\SEAL_train_pos 分批文件:  85%|████████▍ | 320/377 [03:43<00:39,  1.46batch/s]"
     ]
    },
    {
     "name": "stdout",
     "output_type": "stream",
     "text": [
      "已保存 ./data/PubMed/split\\SEAL_train_pos_batch319.pt，当前内存占用率 43.9%\n"
     ]
    },
    {
     "name": "stderr",
     "output_type": "stream",
     "text": [
      "保存 ./data/PubMed/split\\SEAL_train_pos 分批文件:  85%|████████▌ | 321/377 [03:44<00:37,  1.48batch/s]"
     ]
    },
    {
     "name": "stdout",
     "output_type": "stream",
     "text": [
      "已保存 ./data/PubMed/split\\SEAL_train_pos_batch320.pt，当前内存占用率 43.9%\n"
     ]
    },
    {
     "name": "stderr",
     "output_type": "stream",
     "text": [
      "保存 ./data/PubMed/split\\SEAL_train_pos 分批文件:  85%|████████▌ | 322/377 [03:45<00:37,  1.47batch/s]"
     ]
    },
    {
     "name": "stdout",
     "output_type": "stream",
     "text": [
      "已保存 ./data/PubMed/split\\SEAL_train_pos_batch321.pt，当前内存占用率 43.9%\n"
     ]
    },
    {
     "name": "stderr",
     "output_type": "stream",
     "text": [
      "保存 ./data/PubMed/split\\SEAL_train_pos 分批文件:  86%|████████▌ | 323/377 [03:45<00:35,  1.53batch/s]"
     ]
    },
    {
     "name": "stdout",
     "output_type": "stream",
     "text": [
      "已保存 ./data/PubMed/split\\SEAL_train_pos_batch322.pt，当前内存占用率 43.9%\n"
     ]
    },
    {
     "name": "stderr",
     "output_type": "stream",
     "text": [
      "保存 ./data/PubMed/split\\SEAL_train_pos 分批文件:  86%|████████▌ | 324/377 [03:46<00:34,  1.55batch/s]"
     ]
    },
    {
     "name": "stdout",
     "output_type": "stream",
     "text": [
      "已保存 ./data/PubMed/split\\SEAL_train_pos_batch323.pt，当前内存占用率 43.9%\n"
     ]
    },
    {
     "name": "stderr",
     "output_type": "stream",
     "text": [
      "保存 ./data/PubMed/split\\SEAL_train_pos 分批文件:  86%|████████▌ | 325/377 [03:47<00:34,  1.52batch/s]"
     ]
    },
    {
     "name": "stdout",
     "output_type": "stream",
     "text": [
      "已保存 ./data/PubMed/split\\SEAL_train_pos_batch324.pt，当前内存占用率 44.0%\n"
     ]
    },
    {
     "name": "stderr",
     "output_type": "stream",
     "text": [
      "保存 ./data/PubMed/split\\SEAL_train_pos 分批文件:  86%|████████▋ | 326/377 [03:47<00:35,  1.45batch/s]"
     ]
    },
    {
     "name": "stdout",
     "output_type": "stream",
     "text": [
      "已保存 ./data/PubMed/split\\SEAL_train_pos_batch325.pt，当前内存占用率 43.8%\n"
     ]
    },
    {
     "name": "stderr",
     "output_type": "stream",
     "text": [
      "保存 ./data/PubMed/split\\SEAL_train_pos 分批文件:  87%|████████▋ | 327/377 [03:48<00:33,  1.49batch/s]"
     ]
    },
    {
     "name": "stdout",
     "output_type": "stream",
     "text": [
      "已保存 ./data/PubMed/split\\SEAL_train_pos_batch326.pt，当前内存占用率 43.9%\n"
     ]
    },
    {
     "name": "stderr",
     "output_type": "stream",
     "text": [
      "保存 ./data/PubMed/split\\SEAL_train_pos 分批文件:  87%|████████▋ | 328/377 [03:49<00:33,  1.47batch/s]"
     ]
    },
    {
     "name": "stdout",
     "output_type": "stream",
     "text": [
      "已保存 ./data/PubMed/split\\SEAL_train_pos_batch327.pt，当前内存占用率 43.9%\n"
     ]
    },
    {
     "name": "stderr",
     "output_type": "stream",
     "text": [
      "保存 ./data/PubMed/split\\SEAL_train_pos 分批文件:  87%|████████▋ | 329/377 [03:49<00:32,  1.46batch/s]"
     ]
    },
    {
     "name": "stdout",
     "output_type": "stream",
     "text": [
      "已保存 ./data/PubMed/split\\SEAL_train_pos_batch328.pt，当前内存占用率 43.9%\n"
     ]
    },
    {
     "name": "stderr",
     "output_type": "stream",
     "text": [
      "保存 ./data/PubMed/split\\SEAL_train_pos 分批文件:  88%|████████▊ | 330/377 [03:50<00:31,  1.48batch/s]"
     ]
    },
    {
     "name": "stdout",
     "output_type": "stream",
     "text": [
      "已保存 ./data/PubMed/split\\SEAL_train_pos_batch329.pt，当前内存占用率 43.9%\n"
     ]
    },
    {
     "name": "stderr",
     "output_type": "stream",
     "text": [
      "保存 ./data/PubMed/split\\SEAL_train_pos 分批文件:  88%|████████▊ | 331/377 [03:51<00:31,  1.48batch/s]"
     ]
    },
    {
     "name": "stdout",
     "output_type": "stream",
     "text": [
      "已保存 ./data/PubMed/split\\SEAL_train_pos_batch330.pt，当前内存占用率 43.9%\n"
     ]
    },
    {
     "name": "stderr",
     "output_type": "stream",
     "text": [
      "保存 ./data/PubMed/split\\SEAL_train_pos 分批文件:  88%|████████▊ | 332/377 [03:51<00:30,  1.49batch/s]"
     ]
    },
    {
     "name": "stdout",
     "output_type": "stream",
     "text": [
      "已保存 ./data/PubMed/split\\SEAL_train_pos_batch331.pt，当前内存占用率 43.9%\n"
     ]
    },
    {
     "name": "stderr",
     "output_type": "stream",
     "text": [
      "保存 ./data/PubMed/split\\SEAL_train_pos 分批文件:  88%|████████▊ | 333/377 [03:52<00:29,  1.49batch/s]"
     ]
    },
    {
     "name": "stdout",
     "output_type": "stream",
     "text": [
      "已保存 ./data/PubMed/split\\SEAL_train_pos_batch332.pt，当前内存占用率 43.9%\n"
     ]
    },
    {
     "name": "stderr",
     "output_type": "stream",
     "text": [
      "保存 ./data/PubMed/split\\SEAL_train_pos 分批文件:  89%|████████▊ | 334/377 [03:53<00:28,  1.52batch/s]"
     ]
    },
    {
     "name": "stdout",
     "output_type": "stream",
     "text": [
      "已保存 ./data/PubMed/split\\SEAL_train_pos_batch333.pt，当前内存占用率 43.8%\n"
     ]
    },
    {
     "name": "stderr",
     "output_type": "stream",
     "text": [
      "保存 ./data/PubMed/split\\SEAL_train_pos 分批文件:  89%|████████▉ | 335/377 [03:53<00:29,  1.43batch/s]"
     ]
    },
    {
     "name": "stdout",
     "output_type": "stream",
     "text": [
      "已保存 ./data/PubMed/split\\SEAL_train_pos_batch334.pt，当前内存占用率 44.0%\n"
     ]
    },
    {
     "name": "stderr",
     "output_type": "stream",
     "text": [
      "保存 ./data/PubMed/split\\SEAL_train_pos 分批文件:  89%|████████▉ | 336/377 [03:54<00:27,  1.47batch/s]"
     ]
    },
    {
     "name": "stdout",
     "output_type": "stream",
     "text": [
      "已保存 ./data/PubMed/split\\SEAL_train_pos_batch335.pt，当前内存占用率 43.8%\n"
     ]
    },
    {
     "name": "stderr",
     "output_type": "stream",
     "text": [
      "保存 ./data/PubMed/split\\SEAL_train_pos 分批文件:  89%|████████▉ | 337/377 [03:55<00:26,  1.49batch/s]"
     ]
    },
    {
     "name": "stdout",
     "output_type": "stream",
     "text": [
      "已保存 ./data/PubMed/split\\SEAL_train_pos_batch336.pt，当前内存占用率 43.9%\n"
     ]
    },
    {
     "name": "stderr",
     "output_type": "stream",
     "text": [
      "保存 ./data/PubMed/split\\SEAL_train_pos 分批文件:  90%|████████▉ | 338/377 [03:55<00:26,  1.48batch/s]"
     ]
    },
    {
     "name": "stdout",
     "output_type": "stream",
     "text": [
      "已保存 ./data/PubMed/split\\SEAL_train_pos_batch337.pt，当前内存占用率 43.9%\n"
     ]
    },
    {
     "name": "stderr",
     "output_type": "stream",
     "text": [
      "保存 ./data/PubMed/split\\SEAL_train_pos 分批文件:  90%|████████▉ | 339/377 [03:56<00:26,  1.45batch/s]"
     ]
    },
    {
     "name": "stdout",
     "output_type": "stream",
     "text": [
      "已保存 ./data/PubMed/split\\SEAL_train_pos_batch338.pt，当前内存占用率 43.9%\n"
     ]
    },
    {
     "name": "stderr",
     "output_type": "stream",
     "text": [
      "保存 ./data/PubMed/split\\SEAL_train_pos 分批文件:  90%|█████████ | 340/377 [03:57<00:25,  1.46batch/s]"
     ]
    },
    {
     "name": "stdout",
     "output_type": "stream",
     "text": [
      "已保存 ./data/PubMed/split\\SEAL_train_pos_batch339.pt，当前内存占用率 43.9%\n"
     ]
    },
    {
     "name": "stderr",
     "output_type": "stream",
     "text": [
      "保存 ./data/PubMed/split\\SEAL_train_pos 分批文件:  90%|█████████ | 341/377 [03:57<00:24,  1.46batch/s]"
     ]
    },
    {
     "name": "stdout",
     "output_type": "stream",
     "text": [
      "已保存 ./data/PubMed/split\\SEAL_train_pos_batch340.pt，当前内存占用率 44.0%\n"
     ]
    },
    {
     "name": "stderr",
     "output_type": "stream",
     "text": [
      "保存 ./data/PubMed/split\\SEAL_train_pos 分批文件:  91%|█████████ | 342/377 [03:58<00:23,  1.48batch/s]"
     ]
    },
    {
     "name": "stdout",
     "output_type": "stream",
     "text": [
      "已保存 ./data/PubMed/split\\SEAL_train_pos_batch341.pt，当前内存占用率 44.0%\n"
     ]
    },
    {
     "name": "stderr",
     "output_type": "stream",
     "text": [
      "保存 ./data/PubMed/split\\SEAL_train_pos 分批文件:  91%|█████████ | 343/377 [03:59<00:22,  1.49batch/s]"
     ]
    },
    {
     "name": "stdout",
     "output_type": "stream",
     "text": [
      "已保存 ./data/PubMed/split\\SEAL_train_pos_batch342.pt，当前内存占用率 44.0%\n"
     ]
    },
    {
     "name": "stderr",
     "output_type": "stream",
     "text": [
      "保存 ./data/PubMed/split\\SEAL_train_pos 分批文件:  91%|█████████ | 344/377 [03:59<00:22,  1.47batch/s]"
     ]
    },
    {
     "name": "stdout",
     "output_type": "stream",
     "text": [
      "已保存 ./data/PubMed/split\\SEAL_train_pos_batch343.pt，当前内存占用率 43.8%\n"
     ]
    },
    {
     "name": "stderr",
     "output_type": "stream",
     "text": [
      "保存 ./data/PubMed/split\\SEAL_train_pos 分批文件:  92%|█████████▏| 345/377 [04:00<00:21,  1.46batch/s]"
     ]
    },
    {
     "name": "stdout",
     "output_type": "stream",
     "text": [
      "已保存 ./data/PubMed/split\\SEAL_train_pos_batch344.pt，当前内存占用率 43.9%\n"
     ]
    },
    {
     "name": "stderr",
     "output_type": "stream",
     "text": [
      "保存 ./data/PubMed/split\\SEAL_train_pos 分批文件:  92%|█████████▏| 346/377 [04:01<00:21,  1.46batch/s]"
     ]
    },
    {
     "name": "stdout",
     "output_type": "stream",
     "text": [
      "已保存 ./data/PubMed/split\\SEAL_train_pos_batch345.pt，当前内存占用率 43.9%\n"
     ]
    },
    {
     "name": "stderr",
     "output_type": "stream",
     "text": [
      "保存 ./data/PubMed/split\\SEAL_train_pos 分批文件:  92%|█████████▏| 347/377 [04:02<00:20,  1.46batch/s]"
     ]
    },
    {
     "name": "stdout",
     "output_type": "stream",
     "text": [
      "已保存 ./data/PubMed/split\\SEAL_train_pos_batch346.pt，当前内存占用率 43.9%\n"
     ]
    },
    {
     "name": "stderr",
     "output_type": "stream",
     "text": [
      "保存 ./data/PubMed/split\\SEAL_train_pos 分批文件:  92%|█████████▏| 348/377 [04:02<00:19,  1.50batch/s]"
     ]
    },
    {
     "name": "stdout",
     "output_type": "stream",
     "text": [
      "已保存 ./data/PubMed/split\\SEAL_train_pos_batch347.pt，当前内存占用率 43.9%\n"
     ]
    },
    {
     "name": "stderr",
     "output_type": "stream",
     "text": [
      "保存 ./data/PubMed/split\\SEAL_train_pos 分批文件:  93%|█████████▎| 349/377 [04:03<00:18,  1.48batch/s]"
     ]
    },
    {
     "name": "stdout",
     "output_type": "stream",
     "text": [
      "已保存 ./data/PubMed/split\\SEAL_train_pos_batch348.pt，当前内存占用率 44.0%\n"
     ]
    },
    {
     "name": "stderr",
     "output_type": "stream",
     "text": [
      "保存 ./data/PubMed/split\\SEAL_train_pos 分批文件:  93%|█████████▎| 350/377 [04:04<00:17,  1.50batch/s]"
     ]
    },
    {
     "name": "stdout",
     "output_type": "stream",
     "text": [
      "已保存 ./data/PubMed/split\\SEAL_train_pos_batch349.pt，当前内存占用率 43.9%\n"
     ]
    },
    {
     "name": "stderr",
     "output_type": "stream",
     "text": [
      "保存 ./data/PubMed/split\\SEAL_train_pos 分批文件:  93%|█████████▎| 351/377 [04:04<00:17,  1.46batch/s]"
     ]
    },
    {
     "name": "stdout",
     "output_type": "stream",
     "text": [
      "已保存 ./data/PubMed/split\\SEAL_train_pos_batch350.pt，当前内存占用率 44.0%\n"
     ]
    },
    {
     "name": "stderr",
     "output_type": "stream",
     "text": [
      "保存 ./data/PubMed/split\\SEAL_train_pos 分批文件:  93%|█████████▎| 352/377 [04:05<00:17,  1.43batch/s]"
     ]
    },
    {
     "name": "stdout",
     "output_type": "stream",
     "text": [
      "已保存 ./data/PubMed/split\\SEAL_train_pos_batch351.pt，当前内存占用率 44.1%\n"
     ]
    },
    {
     "name": "stderr",
     "output_type": "stream",
     "text": [
      "保存 ./data/PubMed/split\\SEAL_train_pos 分批文件:  94%|█████████▎| 353/377 [04:06<00:17,  1.39batch/s]"
     ]
    },
    {
     "name": "stdout",
     "output_type": "stream",
     "text": [
      "已保存 ./data/PubMed/split\\SEAL_train_pos_batch352.pt，当前内存占用率 44.1%\n"
     ]
    },
    {
     "name": "stderr",
     "output_type": "stream",
     "text": [
      "保存 ./data/PubMed/split\\SEAL_train_pos 分批文件:  94%|█████████▍| 354/377 [04:06<00:15,  1.48batch/s]"
     ]
    },
    {
     "name": "stdout",
     "output_type": "stream",
     "text": [
      "已保存 ./data/PubMed/split\\SEAL_train_pos_batch353.pt，当前内存占用率 43.9%\n"
     ]
    },
    {
     "name": "stderr",
     "output_type": "stream",
     "text": [
      "保存 ./data/PubMed/split\\SEAL_train_pos 分批文件:  94%|█████████▍| 355/377 [04:07<00:14,  1.49batch/s]"
     ]
    },
    {
     "name": "stdout",
     "output_type": "stream",
     "text": [
      "已保存 ./data/PubMed/split\\SEAL_train_pos_batch354.pt，当前内存占用率 44.0%\n"
     ]
    },
    {
     "name": "stderr",
     "output_type": "stream",
     "text": [
      "保存 ./data/PubMed/split\\SEAL_train_pos 分批文件:  94%|█████████▍| 356/377 [04:08<00:14,  1.46batch/s]"
     ]
    },
    {
     "name": "stdout",
     "output_type": "stream",
     "text": [
      "已保存 ./data/PubMed/split\\SEAL_train_pos_batch355.pt，当前内存占用率 43.9%\n"
     ]
    },
    {
     "name": "stderr",
     "output_type": "stream",
     "text": [
      "保存 ./data/PubMed/split\\SEAL_train_pos 分批文件:  95%|█████████▍| 357/377 [04:08<00:13,  1.49batch/s]"
     ]
    },
    {
     "name": "stdout",
     "output_type": "stream",
     "text": [
      "已保存 ./data/PubMed/split\\SEAL_train_pos_batch356.pt，当前内存占用率 43.9%\n"
     ]
    },
    {
     "name": "stderr",
     "output_type": "stream",
     "text": [
      "保存 ./data/PubMed/split\\SEAL_train_pos 分批文件:  95%|█████████▍| 358/377 [04:09<00:12,  1.49batch/s]"
     ]
    },
    {
     "name": "stdout",
     "output_type": "stream",
     "text": [
      "已保存 ./data/PubMed/split\\SEAL_train_pos_batch357.pt，当前内存占用率 44.0%\n"
     ]
    },
    {
     "name": "stderr",
     "output_type": "stream",
     "text": [
      "保存 ./data/PubMed/split\\SEAL_train_pos 分批文件:  95%|█████████▌| 359/377 [04:10<00:12,  1.49batch/s]"
     ]
    },
    {
     "name": "stdout",
     "output_type": "stream",
     "text": [
      "已保存 ./data/PubMed/split\\SEAL_train_pos_batch358.pt，当前内存占用率 44.2%\n"
     ]
    },
    {
     "name": "stderr",
     "output_type": "stream",
     "text": [
      "保存 ./data/PubMed/split\\SEAL_train_pos 分批文件:  95%|█████████▌| 360/377 [04:10<00:11,  1.51batch/s]"
     ]
    },
    {
     "name": "stdout",
     "output_type": "stream",
     "text": [
      "已保存 ./data/PubMed/split\\SEAL_train_pos_batch359.pt，当前内存占用率 44.0%\n"
     ]
    },
    {
     "name": "stderr",
     "output_type": "stream",
     "text": [
      "保存 ./data/PubMed/split\\SEAL_train_pos 分批文件:  96%|█████████▌| 361/377 [04:11<00:10,  1.49batch/s]"
     ]
    },
    {
     "name": "stdout",
     "output_type": "stream",
     "text": [
      "已保存 ./data/PubMed/split\\SEAL_train_pos_batch360.pt，当前内存占用率 44.1%\n"
     ]
    },
    {
     "name": "stderr",
     "output_type": "stream",
     "text": [
      "保存 ./data/PubMed/split\\SEAL_train_pos 分批文件:  96%|█████████▌| 362/377 [04:12<00:10,  1.47batch/s]"
     ]
    },
    {
     "name": "stdout",
     "output_type": "stream",
     "text": [
      "已保存 ./data/PubMed/split\\SEAL_train_pos_batch361.pt，当前内存占用率 44.0%\n"
     ]
    },
    {
     "name": "stderr",
     "output_type": "stream",
     "text": [
      "保存 ./data/PubMed/split\\SEAL_train_pos 分批文件:  96%|█████████▋| 363/377 [04:12<00:09,  1.44batch/s]"
     ]
    },
    {
     "name": "stdout",
     "output_type": "stream",
     "text": [
      "已保存 ./data/PubMed/split\\SEAL_train_pos_batch362.pt，当前内存占用率 44.0%\n"
     ]
    },
    {
     "name": "stderr",
     "output_type": "stream",
     "text": [
      "保存 ./data/PubMed/split\\SEAL_train_pos 分批文件:  97%|█████████▋| 364/377 [04:13<00:08,  1.45batch/s]"
     ]
    },
    {
     "name": "stdout",
     "output_type": "stream",
     "text": [
      "已保存 ./data/PubMed/split\\SEAL_train_pos_batch363.pt，当前内存占用率 44.0%\n"
     ]
    },
    {
     "name": "stderr",
     "output_type": "stream",
     "text": [
      "保存 ./data/PubMed/split\\SEAL_train_pos 分批文件:  97%|█████████▋| 365/377 [04:14<00:08,  1.49batch/s]"
     ]
    },
    {
     "name": "stdout",
     "output_type": "stream",
     "text": [
      "已保存 ./data/PubMed/split\\SEAL_train_pos_batch364.pt，当前内存占用率 44.0%\n"
     ]
    },
    {
     "name": "stderr",
     "output_type": "stream",
     "text": [
      "保存 ./data/PubMed/split\\SEAL_train_pos 分批文件:  97%|█████████▋| 366/377 [04:14<00:07,  1.51batch/s]"
     ]
    },
    {
     "name": "stdout",
     "output_type": "stream",
     "text": [
      "已保存 ./data/PubMed/split\\SEAL_train_pos_batch365.pt，当前内存占用率 43.9%\n"
     ]
    },
    {
     "name": "stderr",
     "output_type": "stream",
     "text": [
      "保存 ./data/PubMed/split\\SEAL_train_pos 分批文件:  97%|█████████▋| 367/377 [04:15<00:06,  1.50batch/s]"
     ]
    },
    {
     "name": "stdout",
     "output_type": "stream",
     "text": [
      "已保存 ./data/PubMed/split\\SEAL_train_pos_batch366.pt，当前内存占用率 44.0%\n"
     ]
    },
    {
     "name": "stderr",
     "output_type": "stream",
     "text": [
      "保存 ./data/PubMed/split\\SEAL_train_pos 分批文件:  98%|█████████▊| 368/377 [04:16<00:06,  1.50batch/s]"
     ]
    },
    {
     "name": "stdout",
     "output_type": "stream",
     "text": [
      "已保存 ./data/PubMed/split\\SEAL_train_pos_batch367.pt，当前内存占用率 43.9%\n"
     ]
    },
    {
     "name": "stderr",
     "output_type": "stream",
     "text": [
      "保存 ./data/PubMed/split\\SEAL_train_pos 分批文件:  98%|█████████▊| 369/377 [04:16<00:05,  1.48batch/s]"
     ]
    },
    {
     "name": "stdout",
     "output_type": "stream",
     "text": [
      "已保存 ./data/PubMed/split\\SEAL_train_pos_batch368.pt，当前内存占用率 44.0%\n"
     ]
    },
    {
     "name": "stderr",
     "output_type": "stream",
     "text": [
      "保存 ./data/PubMed/split\\SEAL_train_pos 分批文件:  98%|█████████▊| 370/377 [04:17<00:04,  1.43batch/s]"
     ]
    },
    {
     "name": "stdout",
     "output_type": "stream",
     "text": [
      "已保存 ./data/PubMed/split\\SEAL_train_pos_batch369.pt，当前内存占用率 44.0%\n"
     ]
    },
    {
     "name": "stderr",
     "output_type": "stream",
     "text": [
      "保存 ./data/PubMed/split\\SEAL_train_pos 分批文件:  98%|█████████▊| 371/377 [04:18<00:04,  1.45batch/s]"
     ]
    },
    {
     "name": "stdout",
     "output_type": "stream",
     "text": [
      "已保存 ./data/PubMed/split\\SEAL_train_pos_batch370.pt，当前内存占用率 44.0%\n"
     ]
    },
    {
     "name": "stderr",
     "output_type": "stream",
     "text": [
      "保存 ./data/PubMed/split\\SEAL_train_pos 分批文件:  99%|█████████▊| 372/377 [04:19<00:03,  1.46batch/s]"
     ]
    },
    {
     "name": "stdout",
     "output_type": "stream",
     "text": [
      "已保存 ./data/PubMed/split\\SEAL_train_pos_batch371.pt，当前内存占用率 43.9%\n"
     ]
    },
    {
     "name": "stderr",
     "output_type": "stream",
     "text": [
      "保存 ./data/PubMed/split\\SEAL_train_pos 分批文件:  99%|█████████▉| 373/377 [04:19<00:02,  1.46batch/s]"
     ]
    },
    {
     "name": "stdout",
     "output_type": "stream",
     "text": [
      "已保存 ./data/PubMed/split\\SEAL_train_pos_batch372.pt，当前内存占用率 44.0%\n"
     ]
    },
    {
     "name": "stderr",
     "output_type": "stream",
     "text": [
      "保存 ./data/PubMed/split\\SEAL_train_pos 分批文件:  99%|█████████▉| 374/377 [04:20<00:01,  1.52batch/s]"
     ]
    },
    {
     "name": "stdout",
     "output_type": "stream",
     "text": [
      "已保存 ./data/PubMed/split\\SEAL_train_pos_batch373.pt，当前内存占用率 43.9%\n"
     ]
    },
    {
     "name": "stderr",
     "output_type": "stream",
     "text": [
      "保存 ./data/PubMed/split\\SEAL_train_pos 分批文件:  99%|█████████▉| 375/377 [04:20<00:01,  1.51batch/s]"
     ]
    },
    {
     "name": "stdout",
     "output_type": "stream",
     "text": [
      "已保存 ./data/PubMed/split\\SEAL_train_pos_batch374.pt，当前内存占用率 44.0%\n"
     ]
    },
    {
     "name": "stderr",
     "output_type": "stream",
     "text": [
      "保存 ./data/PubMed/split\\SEAL_train_pos 分批文件: 100%|█████████▉| 376/377 [04:21<00:00,  1.50batch/s]"
     ]
    },
    {
     "name": "stdout",
     "output_type": "stream",
     "text": [
      "已保存 ./data/PubMed/split\\SEAL_train_pos_batch375.pt，当前内存占用率 44.0%\n"
     ]
    },
    {
     "name": "stderr",
     "output_type": "stream",
     "text": [
      "保存 ./data/PubMed/split\\SEAL_train_pos 分批文件: 100%|██████████| 377/377 [04:22<00:00,  1.44batch/s]\n"
     ]
    },
    {
     "name": "stdout",
     "output_type": "stream",
     "text": [
      "已保存 ./data/PubMed/split\\SEAL_train_pos_batch376.pt，当前内存占用率 44.0%\n"
     ]
    },
    {
     "name": "stderr",
     "output_type": "stream",
     "text": [
      "保存 ./data/PubMed/split\\SEAL_train_neg 分批文件:   0%|          | 1/377 [00:00<03:27,  1.81batch/s]"
     ]
    },
    {
     "name": "stdout",
     "output_type": "stream",
     "text": [
      "已保存 ./data/PubMed/split\\SEAL_train_neg_batch0.pt，当前内存占用率 44.0%\n"
     ]
    },
    {
     "name": "stderr",
     "output_type": "stream",
     "text": [
      "保存 ./data/PubMed/split\\SEAL_train_neg 分批文件:   1%|          | 2/377 [00:01<03:49,  1.63batch/s]"
     ]
    },
    {
     "name": "stdout",
     "output_type": "stream",
     "text": [
      "已保存 ./data/PubMed/split\\SEAL_train_neg_batch1.pt，当前内存占用率 43.8%\n"
     ]
    },
    {
     "name": "stderr",
     "output_type": "stream",
     "text": [
      "保存 ./data/PubMed/split\\SEAL_train_neg 分批文件:   1%|          | 3/377 [00:01<03:45,  1.66batch/s]"
     ]
    },
    {
     "name": "stdout",
     "output_type": "stream",
     "text": [
      "已保存 ./data/PubMed/split\\SEAL_train_neg_batch2.pt，当前内存占用率 43.8%\n"
     ]
    },
    {
     "name": "stderr",
     "output_type": "stream",
     "text": [
      "保存 ./data/PubMed/split\\SEAL_train_neg 分批文件:   1%|          | 4/377 [00:02<03:40,  1.69batch/s]"
     ]
    },
    {
     "name": "stdout",
     "output_type": "stream",
     "text": [
      "已保存 ./data/PubMed/split\\SEAL_train_neg_batch3.pt，当前内存占用率 43.7%\n"
     ]
    },
    {
     "name": "stderr",
     "output_type": "stream",
     "text": [
      "保存 ./data/PubMed/split\\SEAL_train_neg 分批文件:   1%|▏         | 5/377 [00:03<03:48,  1.63batch/s]"
     ]
    },
    {
     "name": "stdout",
     "output_type": "stream",
     "text": [
      "已保存 ./data/PubMed/split\\SEAL_train_neg_batch4.pt，当前内存占用率 43.7%\n"
     ]
    },
    {
     "name": "stderr",
     "output_type": "stream",
     "text": [
      "保存 ./data/PubMed/split\\SEAL_train_neg 分批文件:   2%|▏         | 6/377 [00:03<03:44,  1.66batch/s]"
     ]
    },
    {
     "name": "stdout",
     "output_type": "stream",
     "text": [
      "已保存 ./data/PubMed/split\\SEAL_train_neg_batch5.pt，当前内存占用率 43.6%\n"
     ]
    },
    {
     "name": "stderr",
     "output_type": "stream",
     "text": [
      "保存 ./data/PubMed/split\\SEAL_train_neg 分批文件:   2%|▏         | 7/377 [00:04<03:47,  1.63batch/s]"
     ]
    },
    {
     "name": "stdout",
     "output_type": "stream",
     "text": [
      "已保存 ./data/PubMed/split\\SEAL_train_neg_batch6.pt，当前内存占用率 43.7%\n"
     ]
    },
    {
     "name": "stderr",
     "output_type": "stream",
     "text": [
      "保存 ./data/PubMed/split\\SEAL_train_neg 分批文件:   2%|▏         | 8/377 [00:04<03:42,  1.66batch/s]"
     ]
    },
    {
     "name": "stdout",
     "output_type": "stream",
     "text": [
      "已保存 ./data/PubMed/split\\SEAL_train_neg_batch7.pt，当前内存占用率 43.6%\n"
     ]
    },
    {
     "name": "stderr",
     "output_type": "stream",
     "text": [
      "保存 ./data/PubMed/split\\SEAL_train_neg 分批文件:   2%|▏         | 9/377 [00:05<03:42,  1.66batch/s]"
     ]
    },
    {
     "name": "stdout",
     "output_type": "stream",
     "text": [
      "已保存 ./data/PubMed/split\\SEAL_train_neg_batch8.pt，当前内存占用率 43.6%\n"
     ]
    },
    {
     "name": "stderr",
     "output_type": "stream",
     "text": [
      "保存 ./data/PubMed/split\\SEAL_train_neg 分批文件:   3%|▎         | 10/377 [00:06<03:40,  1.67batch/s]"
     ]
    },
    {
     "name": "stdout",
     "output_type": "stream",
     "text": [
      "已保存 ./data/PubMed/split\\SEAL_train_neg_batch9.pt，当前内存占用率 43.6%\n"
     ]
    },
    {
     "name": "stderr",
     "output_type": "stream",
     "text": [
      "保存 ./data/PubMed/split\\SEAL_train_neg 分批文件:   3%|▎         | 11/377 [00:06<03:50,  1.58batch/s]"
     ]
    },
    {
     "name": "stdout",
     "output_type": "stream",
     "text": [
      "已保存 ./data/PubMed/split\\SEAL_train_neg_batch10.pt，当前内存占用率 43.6%\n"
     ]
    },
    {
     "name": "stderr",
     "output_type": "stream",
     "text": [
      "保存 ./data/PubMed/split\\SEAL_train_neg 分批文件:   3%|▎         | 12/377 [00:07<03:48,  1.60batch/s]"
     ]
    },
    {
     "name": "stdout",
     "output_type": "stream",
     "text": [
      "已保存 ./data/PubMed/split\\SEAL_train_neg_batch11.pt，当前内存占用率 43.6%\n"
     ]
    },
    {
     "name": "stderr",
     "output_type": "stream",
     "text": [
      "保存 ./data/PubMed/split\\SEAL_train_neg 分批文件:   3%|▎         | 13/377 [00:07<03:48,  1.59batch/s]"
     ]
    },
    {
     "name": "stdout",
     "output_type": "stream",
     "text": [
      "已保存 ./data/PubMed/split\\SEAL_train_neg_batch12.pt，当前内存占用率 43.5%\n"
     ]
    },
    {
     "name": "stderr",
     "output_type": "stream",
     "text": [
      "保存 ./data/PubMed/split\\SEAL_train_neg 分批文件:   4%|▎         | 14/377 [00:08<03:49,  1.58batch/s]"
     ]
    },
    {
     "name": "stdout",
     "output_type": "stream",
     "text": [
      "已保存 ./data/PubMed/split\\SEAL_train_neg_batch13.pt，当前内存占用率 43.6%\n"
     ]
    },
    {
     "name": "stderr",
     "output_type": "stream",
     "text": [
      "保存 ./data/PubMed/split\\SEAL_train_neg 分批文件:   4%|▍         | 15/377 [00:09<03:50,  1.57batch/s]"
     ]
    },
    {
     "name": "stdout",
     "output_type": "stream",
     "text": [
      "已保存 ./data/PubMed/split\\SEAL_train_neg_batch14.pt，当前内存占用率 43.5%\n"
     ]
    },
    {
     "name": "stderr",
     "output_type": "stream",
     "text": [
      "保存 ./data/PubMed/split\\SEAL_train_neg 分批文件:   4%|▍         | 16/377 [00:09<03:49,  1.58batch/s]"
     ]
    },
    {
     "name": "stdout",
     "output_type": "stream",
     "text": [
      "已保存 ./data/PubMed/split\\SEAL_train_neg_batch15.pt，当前内存占用率 43.4%\n"
     ]
    },
    {
     "name": "stderr",
     "output_type": "stream",
     "text": [
      "保存 ./data/PubMed/split\\SEAL_train_neg 分批文件:   5%|▍         | 17/377 [00:10<03:42,  1.62batch/s]"
     ]
    },
    {
     "name": "stdout",
     "output_type": "stream",
     "text": [
      "已保存 ./data/PubMed/split\\SEAL_train_neg_batch16.pt，当前内存占用率 43.4%\n"
     ]
    },
    {
     "name": "stderr",
     "output_type": "stream",
     "text": [
      "保存 ./data/PubMed/split\\SEAL_train_neg 分批文件:   5%|▍         | 18/377 [00:11<03:38,  1.64batch/s]"
     ]
    },
    {
     "name": "stdout",
     "output_type": "stream",
     "text": [
      "已保存 ./data/PubMed/split\\SEAL_train_neg_batch17.pt，当前内存占用率 43.4%\n"
     ]
    },
    {
     "name": "stderr",
     "output_type": "stream",
     "text": [
      "保存 ./data/PubMed/split\\SEAL_train_neg 分批文件:   5%|▌         | 19/377 [00:11<03:36,  1.65batch/s]"
     ]
    },
    {
     "name": "stdout",
     "output_type": "stream",
     "text": [
      "已保存 ./data/PubMed/split\\SEAL_train_neg_batch18.pt，当前内存占用率 43.3%\n"
     ]
    },
    {
     "name": "stderr",
     "output_type": "stream",
     "text": [
      "保存 ./data/PubMed/split\\SEAL_train_neg 分批文件:   5%|▌         | 20/377 [00:12<03:32,  1.68batch/s]"
     ]
    },
    {
     "name": "stdout",
     "output_type": "stream",
     "text": [
      "已保存 ./data/PubMed/split\\SEAL_train_neg_batch19.pt，当前内存占用率 43.4%\n"
     ]
    },
    {
     "name": "stderr",
     "output_type": "stream",
     "text": [
      "保存 ./data/PubMed/split\\SEAL_train_neg 分批文件:   6%|▌         | 21/377 [00:12<03:43,  1.60batch/s]"
     ]
    },
    {
     "name": "stdout",
     "output_type": "stream",
     "text": [
      "已保存 ./data/PubMed/split\\SEAL_train_neg_batch20.pt，当前内存占用率 43.3%\n"
     ]
    },
    {
     "name": "stderr",
     "output_type": "stream",
     "text": [
      "保存 ./data/PubMed/split\\SEAL_train_neg 分批文件:   6%|▌         | 22/377 [00:13<03:40,  1.61batch/s]"
     ]
    },
    {
     "name": "stdout",
     "output_type": "stream",
     "text": [
      "已保存 ./data/PubMed/split\\SEAL_train_neg_batch21.pt，当前内存占用率 43.4%\n"
     ]
    },
    {
     "name": "stderr",
     "output_type": "stream",
     "text": [
      "保存 ./data/PubMed/split\\SEAL_train_neg 分批文件:   6%|▌         | 23/377 [00:14<03:38,  1.62batch/s]"
     ]
    },
    {
     "name": "stdout",
     "output_type": "stream",
     "text": [
      "已保存 ./data/PubMed/split\\SEAL_train_neg_batch22.pt，当前内存占用率 43.5%\n"
     ]
    },
    {
     "name": "stderr",
     "output_type": "stream",
     "text": [
      "保存 ./data/PubMed/split\\SEAL_train_neg 分批文件:   6%|▋         | 24/377 [00:14<03:33,  1.65batch/s]"
     ]
    },
    {
     "name": "stdout",
     "output_type": "stream",
     "text": [
      "已保存 ./data/PubMed/split\\SEAL_train_neg_batch23.pt，当前内存占用率 43.4%\n"
     ]
    },
    {
     "name": "stderr",
     "output_type": "stream",
     "text": [
      "保存 ./data/PubMed/split\\SEAL_train_neg 分批文件:   7%|▋         | 25/377 [00:15<03:29,  1.68batch/s]"
     ]
    },
    {
     "name": "stdout",
     "output_type": "stream",
     "text": [
      "已保存 ./data/PubMed/split\\SEAL_train_neg_batch24.pt，当前内存占用率 43.4%\n"
     ]
    },
    {
     "name": "stderr",
     "output_type": "stream",
     "text": [
      "保存 ./data/PubMed/split\\SEAL_train_neg 分批文件:   7%|▋         | 26/377 [00:15<03:34,  1.64batch/s]"
     ]
    },
    {
     "name": "stdout",
     "output_type": "stream",
     "text": [
      "已保存 ./data/PubMed/split\\SEAL_train_neg_batch25.pt，当前内存占用率 43.4%\n"
     ]
    },
    {
     "name": "stderr",
     "output_type": "stream",
     "text": [
      "保存 ./data/PubMed/split\\SEAL_train_neg 分批文件:   7%|▋         | 27/377 [00:16<03:31,  1.66batch/s]"
     ]
    },
    {
     "name": "stdout",
     "output_type": "stream",
     "text": [
      "已保存 ./data/PubMed/split\\SEAL_train_neg_batch26.pt，当前内存占用率 43.4%\n"
     ]
    },
    {
     "name": "stderr",
     "output_type": "stream",
     "text": [
      "保存 ./data/PubMed/split\\SEAL_train_neg 分批文件:   7%|▋         | 28/377 [00:17<03:28,  1.67batch/s]"
     ]
    },
    {
     "name": "stdout",
     "output_type": "stream",
     "text": [
      "已保存 ./data/PubMed/split\\SEAL_train_neg_batch27.pt，当前内存占用率 43.4%\n"
     ]
    },
    {
     "name": "stderr",
     "output_type": "stream",
     "text": [
      "保存 ./data/PubMed/split\\SEAL_train_neg 分批文件:   8%|▊         | 29/377 [00:17<03:23,  1.71batch/s]"
     ]
    },
    {
     "name": "stdout",
     "output_type": "stream",
     "text": [
      "已保存 ./data/PubMed/split\\SEAL_train_neg_batch28.pt，当前内存占用率 43.4%\n"
     ]
    },
    {
     "name": "stderr",
     "output_type": "stream",
     "text": [
      "保存 ./data/PubMed/split\\SEAL_train_neg 分批文件:   8%|▊         | 30/377 [00:18<03:37,  1.60batch/s]"
     ]
    },
    {
     "name": "stdout",
     "output_type": "stream",
     "text": [
      "已保存 ./data/PubMed/split\\SEAL_train_neg_batch29.pt，当前内存占用率 43.3%\n"
     ]
    },
    {
     "name": "stderr",
     "output_type": "stream",
     "text": [
      "保存 ./data/PubMed/split\\SEAL_train_neg 分批文件:   8%|▊         | 31/377 [00:18<03:34,  1.61batch/s]"
     ]
    },
    {
     "name": "stdout",
     "output_type": "stream",
     "text": [
      "已保存 ./data/PubMed/split\\SEAL_train_neg_batch30.pt，当前内存占用率 43.4%\n"
     ]
    },
    {
     "name": "stderr",
     "output_type": "stream",
     "text": [
      "保存 ./data/PubMed/split\\SEAL_train_neg 分批文件:   8%|▊         | 32/377 [00:19<03:29,  1.65batch/s]"
     ]
    },
    {
     "name": "stdout",
     "output_type": "stream",
     "text": [
      "已保存 ./data/PubMed/split\\SEAL_train_neg_batch31.pt，当前内存占用率 43.4%\n"
     ]
    },
    {
     "name": "stderr",
     "output_type": "stream",
     "text": [
      "保存 ./data/PubMed/split\\SEAL_train_neg 分批文件:   9%|▉         | 33/377 [00:20<03:26,  1.67batch/s]"
     ]
    },
    {
     "name": "stdout",
     "output_type": "stream",
     "text": [
      "已保存 ./data/PubMed/split\\SEAL_train_neg_batch32.pt，当前内存占用率 43.4%\n"
     ]
    },
    {
     "name": "stderr",
     "output_type": "stream",
     "text": [
      "保存 ./data/PubMed/split\\SEAL_train_neg 分批文件:   9%|▉         | 34/377 [00:20<03:23,  1.69batch/s]"
     ]
    },
    {
     "name": "stdout",
     "output_type": "stream",
     "text": [
      "已保存 ./data/PubMed/split\\SEAL_train_neg_batch33.pt，当前内存占用率 43.4%\n"
     ]
    },
    {
     "name": "stderr",
     "output_type": "stream",
     "text": [
      "保存 ./data/PubMed/split\\SEAL_train_neg 分批文件:   9%|▉         | 35/377 [00:21<03:23,  1.68batch/s]"
     ]
    },
    {
     "name": "stdout",
     "output_type": "stream",
     "text": [
      "已保存 ./data/PubMed/split\\SEAL_train_neg_batch34.pt，当前内存占用率 43.3%\n"
     ]
    },
    {
     "name": "stderr",
     "output_type": "stream",
     "text": [
      "保存 ./data/PubMed/split\\SEAL_train_neg 分批文件:  10%|▉         | 36/377 [00:21<03:23,  1.68batch/s]"
     ]
    },
    {
     "name": "stdout",
     "output_type": "stream",
     "text": [
      "已保存 ./data/PubMed/split\\SEAL_train_neg_batch35.pt，当前内存占用率 43.3%\n"
     ]
    },
    {
     "name": "stderr",
     "output_type": "stream",
     "text": [
      "保存 ./data/PubMed/split\\SEAL_train_neg 分批文件:  10%|▉         | 37/377 [00:22<03:22,  1.68batch/s]"
     ]
    },
    {
     "name": "stdout",
     "output_type": "stream",
     "text": [
      "已保存 ./data/PubMed/split\\SEAL_train_neg_batch36.pt，当前内存占用率 43.3%\n"
     ]
    },
    {
     "name": "stderr",
     "output_type": "stream",
     "text": [
      "保存 ./data/PubMed/split\\SEAL_train_neg 分批文件:  10%|█         | 38/377 [00:23<03:22,  1.67batch/s]"
     ]
    },
    {
     "name": "stdout",
     "output_type": "stream",
     "text": [
      "已保存 ./data/PubMed/split\\SEAL_train_neg_batch37.pt，当前内存占用率 43.3%\n"
     ]
    },
    {
     "name": "stderr",
     "output_type": "stream",
     "text": [
      "保存 ./data/PubMed/split\\SEAL_train_neg 分批文件:  10%|█         | 39/377 [00:23<03:32,  1.59batch/s]"
     ]
    },
    {
     "name": "stdout",
     "output_type": "stream",
     "text": [
      "已保存 ./data/PubMed/split\\SEAL_train_neg_batch38.pt，当前内存占用率 43.2%\n"
     ]
    },
    {
     "name": "stderr",
     "output_type": "stream",
     "text": [
      "保存 ./data/PubMed/split\\SEAL_train_neg 分批文件:  11%|█         | 40/377 [00:24<03:26,  1.63batch/s]"
     ]
    },
    {
     "name": "stdout",
     "output_type": "stream",
     "text": [
      "已保存 ./data/PubMed/split\\SEAL_train_neg_batch39.pt，当前内存占用率 43.3%\n"
     ]
    },
    {
     "name": "stderr",
     "output_type": "stream",
     "text": [
      "保存 ./data/PubMed/split\\SEAL_train_neg 分批文件:  11%|█         | 41/377 [00:25<03:26,  1.63batch/s]"
     ]
    },
    {
     "name": "stdout",
     "output_type": "stream",
     "text": [
      "已保存 ./data/PubMed/split\\SEAL_train_neg_batch40.pt，当前内存占用率 43.3%\n"
     ]
    },
    {
     "name": "stderr",
     "output_type": "stream",
     "text": [
      "保存 ./data/PubMed/split\\SEAL_train_neg 分批文件:  11%|█         | 42/377 [00:25<03:21,  1.66batch/s]"
     ]
    },
    {
     "name": "stdout",
     "output_type": "stream",
     "text": [
      "已保存 ./data/PubMed/split\\SEAL_train_neg_batch41.pt，当前内存占用率 43.2%\n"
     ]
    },
    {
     "name": "stderr",
     "output_type": "stream",
     "text": [
      "保存 ./data/PubMed/split\\SEAL_train_neg 分批文件:  11%|█▏        | 43/377 [00:26<03:21,  1.66batch/s]"
     ]
    },
    {
     "name": "stdout",
     "output_type": "stream",
     "text": [
      "已保存 ./data/PubMed/split\\SEAL_train_neg_batch42.pt，当前内存占用率 43.3%\n"
     ]
    },
    {
     "name": "stderr",
     "output_type": "stream",
     "text": [
      "保存 ./data/PubMed/split\\SEAL_train_neg 分批文件:  12%|█▏        | 44/377 [00:26<03:14,  1.72batch/s]"
     ]
    },
    {
     "name": "stdout",
     "output_type": "stream",
     "text": [
      "已保存 ./data/PubMed/split\\SEAL_train_neg_batch43.pt，当前内存占用率 43.2%\n"
     ]
    },
    {
     "name": "stderr",
     "output_type": "stream",
     "text": [
      "保存 ./data/PubMed/split\\SEAL_train_neg 分批文件:  12%|█▏        | 45/377 [00:27<03:16,  1.69batch/s]"
     ]
    },
    {
     "name": "stdout",
     "output_type": "stream",
     "text": [
      "已保存 ./data/PubMed/split\\SEAL_train_neg_batch44.pt，当前内存占用率 43.3%\n"
     ]
    },
    {
     "name": "stderr",
     "output_type": "stream",
     "text": [
      "保存 ./data/PubMed/split\\SEAL_train_neg 分批文件:  12%|█▏        | 46/377 [00:27<03:14,  1.70batch/s]"
     ]
    },
    {
     "name": "stdout",
     "output_type": "stream",
     "text": [
      "已保存 ./data/PubMed/split\\SEAL_train_neg_batch45.pt，当前内存占用率 43.2%\n"
     ]
    },
    {
     "name": "stderr",
     "output_type": "stream",
     "text": [
      "保存 ./data/PubMed/split\\SEAL_train_neg 分批文件:  12%|█▏        | 47/377 [00:28<03:09,  1.74batch/s]"
     ]
    },
    {
     "name": "stdout",
     "output_type": "stream",
     "text": [
      "已保存 ./data/PubMed/split\\SEAL_train_neg_batch46.pt，当前内存占用率 43.2%\n"
     ]
    },
    {
     "name": "stderr",
     "output_type": "stream",
     "text": [
      "保存 ./data/PubMed/split\\SEAL_train_neg 分批文件:  13%|█▎        | 48/377 [00:29<03:12,  1.71batch/s]"
     ]
    },
    {
     "name": "stdout",
     "output_type": "stream",
     "text": [
      "已保存 ./data/PubMed/split\\SEAL_train_neg_batch47.pt，当前内存占用率 43.3%\n"
     ]
    },
    {
     "name": "stderr",
     "output_type": "stream",
     "text": [
      "保存 ./data/PubMed/split\\SEAL_train_neg 分批文件:  13%|█▎        | 49/377 [00:29<03:20,  1.64batch/s]"
     ]
    },
    {
     "name": "stdout",
     "output_type": "stream",
     "text": [
      "已保存 ./data/PubMed/split\\SEAL_train_neg_batch48.pt，当前内存占用率 43.3%\n"
     ]
    },
    {
     "name": "stderr",
     "output_type": "stream",
     "text": [
      "保存 ./data/PubMed/split\\SEAL_train_neg 分批文件:  13%|█▎        | 50/377 [00:30<03:16,  1.66batch/s]"
     ]
    },
    {
     "name": "stdout",
     "output_type": "stream",
     "text": [
      "已保存 ./data/PubMed/split\\SEAL_train_neg_batch49.pt，当前内存占用率 43.3%\n"
     ]
    },
    {
     "name": "stderr",
     "output_type": "stream",
     "text": [
      "保存 ./data/PubMed/split\\SEAL_train_neg 分批文件:  14%|█▎        | 51/377 [00:30<03:11,  1.71batch/s]"
     ]
    },
    {
     "name": "stdout",
     "output_type": "stream",
     "text": [
      "已保存 ./data/PubMed/split\\SEAL_train_neg_batch50.pt，当前内存占用率 43.2%\n"
     ]
    },
    {
     "name": "stderr",
     "output_type": "stream",
     "text": [
      "保存 ./data/PubMed/split\\SEAL_train_neg 分批文件:  14%|█▍        | 52/377 [00:31<03:14,  1.67batch/s]"
     ]
    },
    {
     "name": "stdout",
     "output_type": "stream",
     "text": [
      "已保存 ./data/PubMed/split\\SEAL_train_neg_batch51.pt，当前内存占用率 43.2%\n"
     ]
    },
    {
     "name": "stderr",
     "output_type": "stream",
     "text": [
      "保存 ./data/PubMed/split\\SEAL_train_neg 分批文件:  14%|█▍        | 53/377 [00:32<03:16,  1.65batch/s]"
     ]
    },
    {
     "name": "stdout",
     "output_type": "stream",
     "text": [
      "已保存 ./data/PubMed/split\\SEAL_train_neg_batch52.pt，当前内存占用率 43.2%\n"
     ]
    },
    {
     "name": "stderr",
     "output_type": "stream",
     "text": [
      "保存 ./data/PubMed/split\\SEAL_train_neg 分批文件:  14%|█▍        | 54/377 [00:32<03:19,  1.62batch/s]"
     ]
    },
    {
     "name": "stdout",
     "output_type": "stream",
     "text": [
      "已保存 ./data/PubMed/split\\SEAL_train_neg_batch53.pt，当前内存占用率 43.3%\n"
     ]
    },
    {
     "name": "stderr",
     "output_type": "stream",
     "text": [
      "保存 ./data/PubMed/split\\SEAL_train_neg 分批文件:  15%|█▍        | 55/377 [00:33<03:19,  1.61batch/s]"
     ]
    },
    {
     "name": "stdout",
     "output_type": "stream",
     "text": [
      "已保存 ./data/PubMed/split\\SEAL_train_neg_batch54.pt，当前内存占用率 43.3%\n"
     ]
    },
    {
     "name": "stderr",
     "output_type": "stream",
     "text": [
      "保存 ./data/PubMed/split\\SEAL_train_neg 分批文件:  15%|█▍        | 56/377 [00:34<03:34,  1.50batch/s]"
     ]
    },
    {
     "name": "stdout",
     "output_type": "stream",
     "text": [
      "已保存 ./data/PubMed/split\\SEAL_train_neg_batch55.pt，当前内存占用率 43.4%\n"
     ]
    },
    {
     "name": "stderr",
     "output_type": "stream",
     "text": [
      "保存 ./data/PubMed/split\\SEAL_train_neg 分批文件:  15%|█▌        | 57/377 [00:34<03:35,  1.48batch/s]"
     ]
    },
    {
     "name": "stdout",
     "output_type": "stream",
     "text": [
      "已保存 ./data/PubMed/split\\SEAL_train_neg_batch56.pt，当前内存占用率 43.3%\n"
     ]
    },
    {
     "name": "stderr",
     "output_type": "stream",
     "text": [
      "保存 ./data/PubMed/split\\SEAL_train_neg 分批文件:  15%|█▌        | 58/377 [00:35<03:30,  1.52batch/s]"
     ]
    },
    {
     "name": "stdout",
     "output_type": "stream",
     "text": [
      "已保存 ./data/PubMed/split\\SEAL_train_neg_batch57.pt，当前内存占用率 43.3%\n"
     ]
    },
    {
     "name": "stderr",
     "output_type": "stream",
     "text": [
      "保存 ./data/PubMed/split\\SEAL_train_neg 分批文件:  16%|█▌        | 59/377 [00:36<03:25,  1.54batch/s]"
     ]
    },
    {
     "name": "stdout",
     "output_type": "stream",
     "text": [
      "已保存 ./data/PubMed/split\\SEAL_train_neg_batch58.pt，当前内存占用率 43.3%\n"
     ]
    },
    {
     "name": "stderr",
     "output_type": "stream",
     "text": [
      "保存 ./data/PubMed/split\\SEAL_train_neg 分批文件:  16%|█▌        | 60/377 [00:36<03:21,  1.57batch/s]"
     ]
    },
    {
     "name": "stdout",
     "output_type": "stream",
     "text": [
      "已保存 ./data/PubMed/split\\SEAL_train_neg_batch59.pt，当前内存占用率 43.4%\n"
     ]
    },
    {
     "name": "stderr",
     "output_type": "stream",
     "text": [
      "保存 ./data/PubMed/split\\SEAL_train_neg 分批文件:  16%|█▌        | 61/377 [00:37<03:15,  1.61batch/s]"
     ]
    },
    {
     "name": "stdout",
     "output_type": "stream",
     "text": [
      "已保存 ./data/PubMed/split\\SEAL_train_neg_batch60.pt，当前内存占用率 43.3%\n"
     ]
    },
    {
     "name": "stderr",
     "output_type": "stream",
     "text": [
      "保存 ./data/PubMed/split\\SEAL_train_neg 分批文件:  16%|█▋        | 62/377 [00:37<03:11,  1.65batch/s]"
     ]
    },
    {
     "name": "stdout",
     "output_type": "stream",
     "text": [
      "已保存 ./data/PubMed/split\\SEAL_train_neg_batch61.pt，当前内存占用率 43.3%\n"
     ]
    },
    {
     "name": "stderr",
     "output_type": "stream",
     "text": [
      "保存 ./data/PubMed/split\\SEAL_train_neg 分批文件:  17%|█▋        | 63/377 [00:38<03:09,  1.65batch/s]"
     ]
    },
    {
     "name": "stdout",
     "output_type": "stream",
     "text": [
      "已保存 ./data/PubMed/split\\SEAL_train_neg_batch62.pt，当前内存占用率 43.4%\n"
     ]
    },
    {
     "name": "stderr",
     "output_type": "stream",
     "text": [
      "保存 ./data/PubMed/split\\SEAL_train_neg 分批文件:  17%|█▋        | 64/377 [00:39<03:10,  1.65batch/s]"
     ]
    },
    {
     "name": "stdout",
     "output_type": "stream",
     "text": [
      "已保存 ./data/PubMed/split\\SEAL_train_neg_batch63.pt，当前内存占用率 43.3%\n"
     ]
    },
    {
     "name": "stderr",
     "output_type": "stream",
     "text": [
      "保存 ./data/PubMed/split\\SEAL_train_neg 分批文件:  17%|█▋        | 65/377 [00:39<03:07,  1.66batch/s]"
     ]
    },
    {
     "name": "stdout",
     "output_type": "stream",
     "text": [
      "已保存 ./data/PubMed/split\\SEAL_train_neg_batch64.pt，当前内存占用率 43.3%\n"
     ]
    },
    {
     "name": "stderr",
     "output_type": "stream",
     "text": [
      "保存 ./data/PubMed/split\\SEAL_train_neg 分批文件:  18%|█▊        | 66/377 [00:40<03:07,  1.66batch/s]"
     ]
    },
    {
     "name": "stdout",
     "output_type": "stream",
     "text": [
      "已保存 ./data/PubMed/split\\SEAL_train_neg_batch65.pt，当前内存占用率 43.3%\n"
     ]
    },
    {
     "name": "stderr",
     "output_type": "stream",
     "text": [
      "保存 ./data/PubMed/split\\SEAL_train_neg 分批文件:  18%|█▊        | 67/377 [00:40<03:04,  1.68batch/s]"
     ]
    },
    {
     "name": "stdout",
     "output_type": "stream",
     "text": [
      "已保存 ./data/PubMed/split\\SEAL_train_neg_batch66.pt，当前内存占用率 43.3%\n"
     ]
    },
    {
     "name": "stderr",
     "output_type": "stream",
     "text": [
      "保存 ./data/PubMed/split\\SEAL_train_neg 分批文件:  18%|█▊        | 68/377 [00:41<03:11,  1.62batch/s]"
     ]
    },
    {
     "name": "stdout",
     "output_type": "stream",
     "text": [
      "已保存 ./data/PubMed/split\\SEAL_train_neg_batch67.pt，当前内存占用率 43.3%\n"
     ]
    },
    {
     "name": "stderr",
     "output_type": "stream",
     "text": [
      "保存 ./data/PubMed/split\\SEAL_train_neg 分批文件:  18%|█▊        | 69/377 [00:42<03:06,  1.65batch/s]"
     ]
    },
    {
     "name": "stdout",
     "output_type": "stream",
     "text": [
      "已保存 ./data/PubMed/split\\SEAL_train_neg_batch68.pt，当前内存占用率 43.3%\n"
     ]
    },
    {
     "name": "stderr",
     "output_type": "stream",
     "text": [
      "保存 ./data/PubMed/split\\SEAL_train_neg 分批文件:  19%|█▊        | 70/377 [00:42<03:06,  1.64batch/s]"
     ]
    },
    {
     "name": "stdout",
     "output_type": "stream",
     "text": [
      "已保存 ./data/PubMed/split\\SEAL_train_neg_batch69.pt，当前内存占用率 43.3%\n"
     ]
    },
    {
     "name": "stderr",
     "output_type": "stream",
     "text": [
      "保存 ./data/PubMed/split\\SEAL_train_neg 分批文件:  19%|█▉        | 71/377 [00:43<03:10,  1.61batch/s]"
     ]
    },
    {
     "name": "stdout",
     "output_type": "stream",
     "text": [
      "已保存 ./data/PubMed/split\\SEAL_train_neg_batch70.pt，当前内存占用率 43.3%\n"
     ]
    },
    {
     "name": "stderr",
     "output_type": "stream",
     "text": [
      "保存 ./data/PubMed/split\\SEAL_train_neg 分批文件:  19%|█▉        | 72/377 [00:44<03:12,  1.58batch/s]"
     ]
    },
    {
     "name": "stdout",
     "output_type": "stream",
     "text": [
      "已保存 ./data/PubMed/split\\SEAL_train_neg_batch71.pt，当前内存占用率 43.3%\n"
     ]
    },
    {
     "name": "stderr",
     "output_type": "stream",
     "text": [
      "保存 ./data/PubMed/split\\SEAL_train_neg 分批文件:  19%|█▉        | 73/377 [00:44<03:11,  1.59batch/s]"
     ]
    },
    {
     "name": "stdout",
     "output_type": "stream",
     "text": [
      "已保存 ./data/PubMed/split\\SEAL_train_neg_batch72.pt，当前内存占用率 43.3%\n"
     ]
    },
    {
     "name": "stderr",
     "output_type": "stream",
     "text": [
      "保存 ./data/PubMed/split\\SEAL_train_neg 分批文件:  20%|█▉        | 74/377 [00:45<03:08,  1.60batch/s]"
     ]
    },
    {
     "name": "stdout",
     "output_type": "stream",
     "text": [
      "已保存 ./data/PubMed/split\\SEAL_train_neg_batch73.pt，当前内存占用率 43.3%\n"
     ]
    },
    {
     "name": "stderr",
     "output_type": "stream",
     "text": [
      "保存 ./data/PubMed/split\\SEAL_train_neg 分批文件:  20%|█▉        | 75/377 [00:45<03:14,  1.55batch/s]"
     ]
    },
    {
     "name": "stdout",
     "output_type": "stream",
     "text": [
      "已保存 ./data/PubMed/split\\SEAL_train_neg_batch74.pt，当前内存占用率 43.3%\n"
     ]
    },
    {
     "name": "stderr",
     "output_type": "stream",
     "text": [
      "保存 ./data/PubMed/split\\SEAL_train_neg 分批文件:  20%|██        | 76/377 [00:46<03:10,  1.58batch/s]"
     ]
    },
    {
     "name": "stdout",
     "output_type": "stream",
     "text": [
      "已保存 ./data/PubMed/split\\SEAL_train_neg_batch75.pt，当前内存占用率 43.3%\n"
     ]
    },
    {
     "name": "stderr",
     "output_type": "stream",
     "text": [
      "保存 ./data/PubMed/split\\SEAL_train_neg 分批文件:  20%|██        | 77/377 [00:47<03:04,  1.63batch/s]"
     ]
    },
    {
     "name": "stdout",
     "output_type": "stream",
     "text": [
      "已保存 ./data/PubMed/split\\SEAL_train_neg_batch76.pt，当前内存占用率 43.3%\n"
     ]
    },
    {
     "name": "stderr",
     "output_type": "stream",
     "text": [
      "保存 ./data/PubMed/split\\SEAL_train_neg 分批文件:  21%|██        | 78/377 [00:47<03:06,  1.60batch/s]"
     ]
    },
    {
     "name": "stdout",
     "output_type": "stream",
     "text": [
      "已保存 ./data/PubMed/split\\SEAL_train_neg_batch77.pt，当前内存占用率 43.2%\n"
     ]
    },
    {
     "name": "stderr",
     "output_type": "stream",
     "text": [
      "保存 ./data/PubMed/split\\SEAL_train_neg 分批文件:  21%|██        | 79/377 [00:48<03:05,  1.61batch/s]"
     ]
    },
    {
     "name": "stdout",
     "output_type": "stream",
     "text": [
      "已保存 ./data/PubMed/split\\SEAL_train_neg_batch78.pt，当前内存占用率 43.3%\n"
     ]
    },
    {
     "name": "stderr",
     "output_type": "stream",
     "text": [
      "保存 ./data/PubMed/split\\SEAL_train_neg 分批文件:  21%|██        | 80/377 [00:48<03:02,  1.63batch/s]"
     ]
    },
    {
     "name": "stdout",
     "output_type": "stream",
     "text": [
      "已保存 ./data/PubMed/split\\SEAL_train_neg_batch79.pt，当前内存占用率 43.3%\n"
     ]
    },
    {
     "name": "stderr",
     "output_type": "stream",
     "text": [
      "保存 ./data/PubMed/split\\SEAL_train_neg 分批文件:  21%|██▏       | 81/377 [00:49<02:59,  1.65batch/s]"
     ]
    },
    {
     "name": "stdout",
     "output_type": "stream",
     "text": [
      "已保存 ./data/PubMed/split\\SEAL_train_neg_batch80.pt，当前内存占用率 43.3%\n"
     ]
    },
    {
     "name": "stderr",
     "output_type": "stream",
     "text": [
      "保存 ./data/PubMed/split\\SEAL_train_neg 分批文件:  22%|██▏       | 82/377 [00:50<02:58,  1.65batch/s]"
     ]
    },
    {
     "name": "stdout",
     "output_type": "stream",
     "text": [
      "已保存 ./data/PubMed/split\\SEAL_train_neg_batch81.pt，当前内存占用率 43.3%\n"
     ]
    },
    {
     "name": "stderr",
     "output_type": "stream",
     "text": [
      "保存 ./data/PubMed/split\\SEAL_train_neg 分批文件:  22%|██▏       | 83/377 [00:50<03:04,  1.60batch/s]"
     ]
    },
    {
     "name": "stdout",
     "output_type": "stream",
     "text": [
      "已保存 ./data/PubMed/split\\SEAL_train_neg_batch82.pt，当前内存占用率 43.3%\n"
     ]
    },
    {
     "name": "stderr",
     "output_type": "stream",
     "text": [
      "保存 ./data/PubMed/split\\SEAL_train_neg 分批文件:  22%|██▏       | 84/377 [00:51<03:10,  1.54batch/s]"
     ]
    },
    {
     "name": "stdout",
     "output_type": "stream",
     "text": [
      "已保存 ./data/PubMed/split\\SEAL_train_neg_batch83.pt，当前内存占用率 43.2%\n"
     ]
    },
    {
     "name": "stderr",
     "output_type": "stream",
     "text": [
      "保存 ./data/PubMed/split\\SEAL_train_neg 分批文件:  23%|██▎       | 85/377 [00:52<03:08,  1.55batch/s]"
     ]
    },
    {
     "name": "stdout",
     "output_type": "stream",
     "text": [
      "已保存 ./data/PubMed/split\\SEAL_train_neg_batch84.pt，当前内存占用率 43.3%\n"
     ]
    },
    {
     "name": "stderr",
     "output_type": "stream",
     "text": [
      "保存 ./data/PubMed/split\\SEAL_train_neg 分批文件:  23%|██▎       | 86/377 [00:52<03:07,  1.56batch/s]"
     ]
    },
    {
     "name": "stdout",
     "output_type": "stream",
     "text": [
      "已保存 ./data/PubMed/split\\SEAL_train_neg_batch85.pt，当前内存占用率 43.3%\n"
     ]
    },
    {
     "name": "stderr",
     "output_type": "stream",
     "text": [
      "保存 ./data/PubMed/split\\SEAL_train_neg 分批文件:  23%|██▎       | 87/377 [00:53<03:00,  1.61batch/s]"
     ]
    },
    {
     "name": "stdout",
     "output_type": "stream",
     "text": [
      "已保存 ./data/PubMed/split\\SEAL_train_neg_batch86.pt，当前内存占用率 43.3%\n"
     ]
    },
    {
     "name": "stderr",
     "output_type": "stream",
     "text": [
      "保存 ./data/PubMed/split\\SEAL_train_neg 分批文件:  23%|██▎       | 88/377 [00:53<02:55,  1.65batch/s]"
     ]
    },
    {
     "name": "stdout",
     "output_type": "stream",
     "text": [
      "已保存 ./data/PubMed/split\\SEAL_train_neg_batch87.pt，当前内存占用率 43.2%\n"
     ]
    },
    {
     "name": "stderr",
     "output_type": "stream",
     "text": [
      "保存 ./data/PubMed/split\\SEAL_train_neg 分批文件:  24%|██▎       | 89/377 [00:54<02:52,  1.67batch/s]"
     ]
    },
    {
     "name": "stdout",
     "output_type": "stream",
     "text": [
      "已保存 ./data/PubMed/split\\SEAL_train_neg_batch88.pt，当前内存占用率 43.2%\n"
     ]
    },
    {
     "name": "stderr",
     "output_type": "stream",
     "text": [
      "保存 ./data/PubMed/split\\SEAL_train_neg 分批文件:  24%|██▍       | 90/377 [00:55<02:52,  1.66batch/s]"
     ]
    },
    {
     "name": "stdout",
     "output_type": "stream",
     "text": [
      "已保存 ./data/PubMed/split\\SEAL_train_neg_batch89.pt，当前内存占用率 43.3%\n"
     ]
    },
    {
     "name": "stderr",
     "output_type": "stream",
     "text": [
      "保存 ./data/PubMed/split\\SEAL_train_neg 分批文件:  24%|██▍       | 91/377 [00:55<02:52,  1.66batch/s]"
     ]
    },
    {
     "name": "stdout",
     "output_type": "stream",
     "text": [
      "已保存 ./data/PubMed/split\\SEAL_train_neg_batch90.pt，当前内存占用率 43.2%\n"
     ]
    },
    {
     "name": "stderr",
     "output_type": "stream",
     "text": [
      "保存 ./data/PubMed/split\\SEAL_train_neg 分批文件:  24%|██▍       | 92/377 [00:56<02:49,  1.68batch/s]"
     ]
    },
    {
     "name": "stdout",
     "output_type": "stream",
     "text": [
      "已保存 ./data/PubMed/split\\SEAL_train_neg_batch91.pt，当前内存占用率 43.3%\n"
     ]
    },
    {
     "name": "stderr",
     "output_type": "stream",
     "text": [
      "保存 ./data/PubMed/split\\SEAL_train_neg 分批文件:  25%|██▍       | 93/377 [00:57<02:54,  1.63batch/s]"
     ]
    },
    {
     "name": "stdout",
     "output_type": "stream",
     "text": [
      "已保存 ./data/PubMed/split\\SEAL_train_neg_batch92.pt，当前内存占用率 43.2%\n"
     ]
    },
    {
     "name": "stderr",
     "output_type": "stream",
     "text": [
      "保存 ./data/PubMed/split\\SEAL_train_neg 分批文件:  25%|██▍       | 94/377 [00:57<02:55,  1.61batch/s]"
     ]
    },
    {
     "name": "stdout",
     "output_type": "stream",
     "text": [
      "已保存 ./data/PubMed/split\\SEAL_train_neg_batch93.pt，当前内存占用率 43.3%\n"
     ]
    },
    {
     "name": "stderr",
     "output_type": "stream",
     "text": [
      "保存 ./data/PubMed/split\\SEAL_train_neg 分批文件:  25%|██▌       | 95/377 [00:58<02:51,  1.64batch/s]"
     ]
    },
    {
     "name": "stdout",
     "output_type": "stream",
     "text": [
      "已保存 ./data/PubMed/split\\SEAL_train_neg_batch94.pt，当前内存占用率 43.3%\n"
     ]
    },
    {
     "name": "stderr",
     "output_type": "stream",
     "text": [
      "保存 ./data/PubMed/split\\SEAL_train_neg 分批文件:  25%|██▌       | 96/377 [00:58<02:48,  1.67batch/s]"
     ]
    },
    {
     "name": "stdout",
     "output_type": "stream",
     "text": [
      "已保存 ./data/PubMed/split\\SEAL_train_neg_batch95.pt，当前内存占用率 43.2%\n"
     ]
    },
    {
     "name": "stderr",
     "output_type": "stream",
     "text": [
      "保存 ./data/PubMed/split\\SEAL_train_neg 分批文件:  26%|██▌       | 97/377 [00:59<02:51,  1.64batch/s]"
     ]
    },
    {
     "name": "stdout",
     "output_type": "stream",
     "text": [
      "已保存 ./data/PubMed/split\\SEAL_train_neg_batch96.pt，当前内存占用率 43.2%\n"
     ]
    },
    {
     "name": "stderr",
     "output_type": "stream",
     "text": [
      "保存 ./data/PubMed/split\\SEAL_train_neg 分批文件:  26%|██▌       | 98/377 [01:00<02:50,  1.64batch/s]"
     ]
    },
    {
     "name": "stdout",
     "output_type": "stream",
     "text": [
      "已保存 ./data/PubMed/split\\SEAL_train_neg_batch97.pt，当前内存占用率 43.3%\n"
     ]
    },
    {
     "name": "stderr",
     "output_type": "stream",
     "text": [
      "保存 ./data/PubMed/split\\SEAL_train_neg 分批文件:  26%|██▋       | 99/377 [01:00<02:48,  1.65batch/s]"
     ]
    },
    {
     "name": "stdout",
     "output_type": "stream",
     "text": [
      "已保存 ./data/PubMed/split\\SEAL_train_neg_batch98.pt，当前内存占用率 43.2%\n"
     ]
    },
    {
     "name": "stderr",
     "output_type": "stream",
     "text": [
      "保存 ./data/PubMed/split\\SEAL_train_neg 分批文件:  27%|██▋       | 100/377 [01:01<02:43,  1.69batch/s]"
     ]
    },
    {
     "name": "stdout",
     "output_type": "stream",
     "text": [
      "已保存 ./data/PubMed/split\\SEAL_train_neg_batch99.pt，当前内存占用率 43.3%\n"
     ]
    },
    {
     "name": "stderr",
     "output_type": "stream",
     "text": [
      "保存 ./data/PubMed/split\\SEAL_train_neg 分批文件:  27%|██▋       | 101/377 [01:01<02:41,  1.71batch/s]"
     ]
    },
    {
     "name": "stdout",
     "output_type": "stream",
     "text": [
      "已保存 ./data/PubMed/split\\SEAL_train_neg_batch100.pt，当前内存占用率 43.3%\n"
     ]
    },
    {
     "name": "stderr",
     "output_type": "stream",
     "text": [
      "保存 ./data/PubMed/split\\SEAL_train_neg 分批文件:  27%|██▋       | 102/377 [01:02<02:44,  1.67batch/s]"
     ]
    },
    {
     "name": "stdout",
     "output_type": "stream",
     "text": [
      "已保存 ./data/PubMed/split\\SEAL_train_neg_batch101.pt，当前内存占用率 43.2%\n"
     ]
    },
    {
     "name": "stderr",
     "output_type": "stream",
     "text": [
      "保存 ./data/PubMed/split\\SEAL_train_neg 分批文件:  27%|██▋       | 103/377 [01:03<02:49,  1.61batch/s]"
     ]
    },
    {
     "name": "stdout",
     "output_type": "stream",
     "text": [
      "已保存 ./data/PubMed/split\\SEAL_train_neg_batch102.pt，当前内存占用率 43.2%\n"
     ]
    },
    {
     "name": "stderr",
     "output_type": "stream",
     "text": [
      "保存 ./data/PubMed/split\\SEAL_train_neg 分批文件:  28%|██▊       | 104/377 [01:03<02:49,  1.61batch/s]"
     ]
    },
    {
     "name": "stdout",
     "output_type": "stream",
     "text": [
      "已保存 ./data/PubMed/split\\SEAL_train_neg_batch103.pt，当前内存占用率 43.2%\n"
     ]
    },
    {
     "name": "stderr",
     "output_type": "stream",
     "text": [
      "保存 ./data/PubMed/split\\SEAL_train_neg 分批文件:  28%|██▊       | 105/377 [01:04<02:45,  1.64batch/s]"
     ]
    },
    {
     "name": "stdout",
     "output_type": "stream",
     "text": [
      "已保存 ./data/PubMed/split\\SEAL_train_neg_batch104.pt，当前内存占用率 43.2%\n"
     ]
    },
    {
     "name": "stderr",
     "output_type": "stream",
     "text": [
      "保存 ./data/PubMed/split\\SEAL_train_neg 分批文件:  28%|██▊       | 106/377 [01:04<02:46,  1.62batch/s]"
     ]
    },
    {
     "name": "stdout",
     "output_type": "stream",
     "text": [
      "已保存 ./data/PubMed/split\\SEAL_train_neg_batch105.pt，当前内存占用率 43.1%\n"
     ]
    },
    {
     "name": "stderr",
     "output_type": "stream",
     "text": [
      "保存 ./data/PubMed/split\\SEAL_train_neg 分批文件:  28%|██▊       | 107/377 [01:05<02:43,  1.65batch/s]"
     ]
    },
    {
     "name": "stdout",
     "output_type": "stream",
     "text": [
      "已保存 ./data/PubMed/split\\SEAL_train_neg_batch106.pt，当前内存占用率 43.2%\n"
     ]
    },
    {
     "name": "stderr",
     "output_type": "stream",
     "text": [
      "保存 ./data/PubMed/split\\SEAL_train_neg 分批文件:  29%|██▊       | 108/377 [01:06<02:41,  1.67batch/s]"
     ]
    },
    {
     "name": "stdout",
     "output_type": "stream",
     "text": [
      "已保存 ./data/PubMed/split\\SEAL_train_neg_batch107.pt，当前内存占用率 43.1%\n"
     ]
    },
    {
     "name": "stderr",
     "output_type": "stream",
     "text": [
      "保存 ./data/PubMed/split\\SEAL_train_neg 分批文件:  29%|██▉       | 109/377 [01:06<02:39,  1.68batch/s]"
     ]
    },
    {
     "name": "stdout",
     "output_type": "stream",
     "text": [
      "已保存 ./data/PubMed/split\\SEAL_train_neg_batch108.pt，当前内存占用率 43.2%\n"
     ]
    },
    {
     "name": "stderr",
     "output_type": "stream",
     "text": [
      "保存 ./data/PubMed/split\\SEAL_train_neg 分批文件:  29%|██▉       | 110/377 [01:07<02:37,  1.70batch/s]"
     ]
    },
    {
     "name": "stdout",
     "output_type": "stream",
     "text": [
      "已保存 ./data/PubMed/split\\SEAL_train_neg_batch109.pt，当前内存占用率 43.3%\n"
     ]
    },
    {
     "name": "stderr",
     "output_type": "stream",
     "text": [
      "保存 ./data/PubMed/split\\SEAL_train_neg 分批文件:  29%|██▉       | 111/377 [01:07<02:36,  1.70batch/s]"
     ]
    },
    {
     "name": "stdout",
     "output_type": "stream",
     "text": [
      "已保存 ./data/PubMed/split\\SEAL_train_neg_batch110.pt，当前内存占用率 43.2%\n"
     ]
    },
    {
     "name": "stderr",
     "output_type": "stream",
     "text": [
      "保存 ./data/PubMed/split\\SEAL_train_neg 分批文件:  30%|██▉       | 112/377 [01:08<02:42,  1.63batch/s]"
     ]
    },
    {
     "name": "stdout",
     "output_type": "stream",
     "text": [
      "已保存 ./data/PubMed/split\\SEAL_train_neg_batch111.pt，当前内存占用率 43.3%\n"
     ]
    },
    {
     "name": "stderr",
     "output_type": "stream",
     "text": [
      "保存 ./data/PubMed/split\\SEAL_train_neg 分批文件:  30%|██▉       | 113/377 [01:09<02:42,  1.62batch/s]"
     ]
    },
    {
     "name": "stdout",
     "output_type": "stream",
     "text": [
      "已保存 ./data/PubMed/split\\SEAL_train_neg_batch112.pt，当前内存占用率 43.3%\n"
     ]
    },
    {
     "name": "stderr",
     "output_type": "stream",
     "text": [
      "保存 ./data/PubMed/split\\SEAL_train_neg 分批文件:  30%|███       | 114/377 [01:09<02:39,  1.65batch/s]"
     ]
    },
    {
     "name": "stdout",
     "output_type": "stream",
     "text": [
      "已保存 ./data/PubMed/split\\SEAL_train_neg_batch113.pt，当前内存占用率 43.2%\n"
     ]
    },
    {
     "name": "stderr",
     "output_type": "stream",
     "text": [
      "保存 ./data/PubMed/split\\SEAL_train_neg 分批文件:  31%|███       | 115/377 [01:10<02:36,  1.68batch/s]"
     ]
    },
    {
     "name": "stdout",
     "output_type": "stream",
     "text": [
      "已保存 ./data/PubMed/split\\SEAL_train_neg_batch114.pt，当前内存占用率 43.2%\n"
     ]
    },
    {
     "name": "stderr",
     "output_type": "stream",
     "text": [
      "保存 ./data/PubMed/split\\SEAL_train_neg 分批文件:  31%|███       | 116/377 [01:10<02:34,  1.69batch/s]"
     ]
    },
    {
     "name": "stdout",
     "output_type": "stream",
     "text": [
      "已保存 ./data/PubMed/split\\SEAL_train_neg_batch115.pt，当前内存占用率 43.2%\n"
     ]
    },
    {
     "name": "stderr",
     "output_type": "stream",
     "text": [
      "保存 ./data/PubMed/split\\SEAL_train_neg 分批文件:  31%|███       | 117/377 [01:11<02:36,  1.66batch/s]"
     ]
    },
    {
     "name": "stdout",
     "output_type": "stream",
     "text": [
      "已保存 ./data/PubMed/split\\SEAL_train_neg_batch116.pt，当前内存占用率 43.3%\n"
     ]
    },
    {
     "name": "stderr",
     "output_type": "stream",
     "text": [
      "保存 ./data/PubMed/split\\SEAL_train_neg 分批文件:  31%|███▏      | 118/377 [01:12<02:37,  1.64batch/s]"
     ]
    },
    {
     "name": "stdout",
     "output_type": "stream",
     "text": [
      "已保存 ./data/PubMed/split\\SEAL_train_neg_batch117.pt，当前内存占用率 43.2%\n"
     ]
    },
    {
     "name": "stderr",
     "output_type": "stream",
     "text": [
      "保存 ./data/PubMed/split\\SEAL_train_neg 分批文件:  32%|███▏      | 119/377 [01:12<02:40,  1.61batch/s]"
     ]
    },
    {
     "name": "stdout",
     "output_type": "stream",
     "text": [
      "已保存 ./data/PubMed/split\\SEAL_train_neg_batch118.pt，当前内存占用率 43.2%\n"
     ]
    },
    {
     "name": "stderr",
     "output_type": "stream",
     "text": [
      "保存 ./data/PubMed/split\\SEAL_train_neg 分批文件:  32%|███▏      | 120/377 [01:13<02:35,  1.65batch/s]"
     ]
    },
    {
     "name": "stdout",
     "output_type": "stream",
     "text": [
      "已保存 ./data/PubMed/split\\SEAL_train_neg_batch119.pt，当前内存占用率 43.2%\n"
     ]
    },
    {
     "name": "stderr",
     "output_type": "stream",
     "text": [
      "保存 ./data/PubMed/split\\SEAL_train_neg 分批文件:  32%|███▏      | 121/377 [01:13<02:34,  1.66batch/s]"
     ]
    },
    {
     "name": "stdout",
     "output_type": "stream",
     "text": [
      "已保存 ./data/PubMed/split\\SEAL_train_neg_batch120.pt，当前内存占用率 43.2%\n"
     ]
    },
    {
     "name": "stderr",
     "output_type": "stream",
     "text": [
      "保存 ./data/PubMed/split\\SEAL_train_neg 分批文件:  32%|███▏      | 122/377 [01:14<02:31,  1.68batch/s]"
     ]
    },
    {
     "name": "stdout",
     "output_type": "stream",
     "text": [
      "已保存 ./data/PubMed/split\\SEAL_train_neg_batch121.pt，当前内存占用率 43.2%\n"
     ]
    },
    {
     "name": "stderr",
     "output_type": "stream",
     "text": [
      "保存 ./data/PubMed/split\\SEAL_train_neg 分批文件:  33%|███▎      | 123/377 [01:15<02:30,  1.69batch/s]"
     ]
    },
    {
     "name": "stdout",
     "output_type": "stream",
     "text": [
      "已保存 ./data/PubMed/split\\SEAL_train_neg_batch122.pt，当前内存占用率 43.2%\n"
     ]
    },
    {
     "name": "stderr",
     "output_type": "stream",
     "text": [
      "保存 ./data/PubMed/split\\SEAL_train_neg 分批文件:  33%|███▎      | 124/377 [01:15<02:30,  1.68batch/s]"
     ]
    },
    {
     "name": "stdout",
     "output_type": "stream",
     "text": [
      "已保存 ./data/PubMed/split\\SEAL_train_neg_batch123.pt，当前内存占用率 43.2%\n"
     ]
    },
    {
     "name": "stderr",
     "output_type": "stream",
     "text": [
      "保存 ./data/PubMed/split\\SEAL_train_neg 分批文件:  33%|███▎      | 125/377 [01:16<02:30,  1.67batch/s]"
     ]
    },
    {
     "name": "stdout",
     "output_type": "stream",
     "text": [
      "已保存 ./data/PubMed/split\\SEAL_train_neg_batch124.pt，当前内存占用率 43.3%\n"
     ]
    },
    {
     "name": "stderr",
     "output_type": "stream",
     "text": [
      "保存 ./data/PubMed/split\\SEAL_train_neg 分批文件:  33%|███▎      | 126/377 [01:16<02:29,  1.68batch/s]"
     ]
    },
    {
     "name": "stdout",
     "output_type": "stream",
     "text": [
      "已保存 ./data/PubMed/split\\SEAL_train_neg_batch125.pt，当前内存占用率 43.3%\n"
     ]
    },
    {
     "name": "stderr",
     "output_type": "stream",
     "text": [
      "保存 ./data/PubMed/split\\SEAL_train_neg 分批文件:  34%|███▎      | 127/377 [01:17<02:27,  1.69batch/s]"
     ]
    },
    {
     "name": "stdout",
     "output_type": "stream",
     "text": [
      "已保存 ./data/PubMed/split\\SEAL_train_neg_batch126.pt，当前内存占用率 43.3%\n"
     ]
    },
    {
     "name": "stderr",
     "output_type": "stream",
     "text": [
      "保存 ./data/PubMed/split\\SEAL_train_neg 分批文件:  34%|███▍      | 128/377 [01:18<02:36,  1.59batch/s]"
     ]
    },
    {
     "name": "stdout",
     "output_type": "stream",
     "text": [
      "已保存 ./data/PubMed/split\\SEAL_train_neg_batch127.pt，当前内存占用率 43.3%\n"
     ]
    },
    {
     "name": "stderr",
     "output_type": "stream",
     "text": [
      "保存 ./data/PubMed/split\\SEAL_train_neg 分批文件:  34%|███▍      | 129/377 [01:18<02:34,  1.60batch/s]"
     ]
    },
    {
     "name": "stdout",
     "output_type": "stream",
     "text": [
      "已保存 ./data/PubMed/split\\SEAL_train_neg_batch128.pt，当前内存占用率 43.3%\n"
     ]
    },
    {
     "name": "stderr",
     "output_type": "stream",
     "text": [
      "保存 ./data/PubMed/split\\SEAL_train_neg 分批文件:  34%|███▍      | 130/377 [01:19<02:30,  1.64batch/s]"
     ]
    },
    {
     "name": "stdout",
     "output_type": "stream",
     "text": [
      "已保存 ./data/PubMed/split\\SEAL_train_neg_batch129.pt，当前内存占用率 43.3%\n"
     ]
    },
    {
     "name": "stderr",
     "output_type": "stream",
     "text": [
      "保存 ./data/PubMed/split\\SEAL_train_neg 分批文件:  35%|███▍      | 131/377 [01:19<02:28,  1.65batch/s]"
     ]
    },
    {
     "name": "stdout",
     "output_type": "stream",
     "text": [
      "已保存 ./data/PubMed/split\\SEAL_train_neg_batch130.pt，当前内存占用率 43.2%\n"
     ]
    },
    {
     "name": "stderr",
     "output_type": "stream",
     "text": [
      "保存 ./data/PubMed/split\\SEAL_train_neg 分批文件:  35%|███▌      | 132/377 [01:20<02:29,  1.64batch/s]"
     ]
    },
    {
     "name": "stdout",
     "output_type": "stream",
     "text": [
      "已保存 ./data/PubMed/split\\SEAL_train_neg_batch131.pt，当前内存占用率 43.3%\n"
     ]
    },
    {
     "name": "stderr",
     "output_type": "stream",
     "text": [
      "保存 ./data/PubMed/split\\SEAL_train_neg 分批文件:  35%|███▌      | 133/377 [01:21<02:26,  1.67batch/s]"
     ]
    },
    {
     "name": "stdout",
     "output_type": "stream",
     "text": [
      "已保存 ./data/PubMed/split\\SEAL_train_neg_batch132.pt，当前内存占用率 43.3%\n"
     ]
    },
    {
     "name": "stderr",
     "output_type": "stream",
     "text": [
      "保存 ./data/PubMed/split\\SEAL_train_neg 分批文件:  36%|███▌      | 134/377 [01:21<02:22,  1.70batch/s]"
     ]
    },
    {
     "name": "stdout",
     "output_type": "stream",
     "text": [
      "已保存 ./data/PubMed/split\\SEAL_train_neg_batch133.pt，当前内存占用率 43.2%\n"
     ]
    },
    {
     "name": "stderr",
     "output_type": "stream",
     "text": [
      "保存 ./data/PubMed/split\\SEAL_train_neg 分批文件:  36%|███▌      | 135/377 [01:22<02:25,  1.66batch/s]"
     ]
    },
    {
     "name": "stdout",
     "output_type": "stream",
     "text": [
      "已保存 ./data/PubMed/split\\SEAL_train_neg_batch134.pt，当前内存占用率 43.3%\n"
     ]
    },
    {
     "name": "stderr",
     "output_type": "stream",
     "text": [
      "保存 ./data/PubMed/split\\SEAL_train_neg 分批文件:  36%|███▌      | 136/377 [01:23<02:32,  1.58batch/s]"
     ]
    },
    {
     "name": "stdout",
     "output_type": "stream",
     "text": [
      "已保存 ./data/PubMed/split\\SEAL_train_neg_batch135.pt，当前内存占用率 43.3%\n"
     ]
    },
    {
     "name": "stderr",
     "output_type": "stream",
     "text": [
      "保存 ./data/PubMed/split\\SEAL_train_neg 分批文件:  36%|███▋      | 137/377 [01:23<02:31,  1.59batch/s]"
     ]
    },
    {
     "name": "stdout",
     "output_type": "stream",
     "text": [
      "已保存 ./data/PubMed/split\\SEAL_train_neg_batch136.pt，当前内存占用率 43.3%\n"
     ]
    },
    {
     "name": "stderr",
     "output_type": "stream",
     "text": [
      "保存 ./data/PubMed/split\\SEAL_train_neg 分批文件:  37%|███▋      | 138/377 [01:24<02:28,  1.61batch/s]"
     ]
    },
    {
     "name": "stdout",
     "output_type": "stream",
     "text": [
      "已保存 ./data/PubMed/split\\SEAL_train_neg_batch137.pt，当前内存占用率 43.2%\n"
     ]
    },
    {
     "name": "stderr",
     "output_type": "stream",
     "text": [
      "保存 ./data/PubMed/split\\SEAL_train_neg 分批文件:  37%|███▋      | 139/377 [01:24<02:22,  1.67batch/s]"
     ]
    },
    {
     "name": "stdout",
     "output_type": "stream",
     "text": [
      "已保存 ./data/PubMed/split\\SEAL_train_neg_batch138.pt，当前内存占用率 43.2%\n"
     ]
    },
    {
     "name": "stderr",
     "output_type": "stream",
     "text": [
      "保存 ./data/PubMed/split\\SEAL_train_neg 分批文件:  37%|███▋      | 140/377 [01:25<02:22,  1.66batch/s]"
     ]
    },
    {
     "name": "stdout",
     "output_type": "stream",
     "text": [
      "已保存 ./data/PubMed/split\\SEAL_train_neg_batch139.pt，当前内存占用率 43.2%\n"
     ]
    },
    {
     "name": "stderr",
     "output_type": "stream",
     "text": [
      "保存 ./data/PubMed/split\\SEAL_train_neg 分批文件:  37%|███▋      | 141/377 [01:26<02:23,  1.64batch/s]"
     ]
    },
    {
     "name": "stdout",
     "output_type": "stream",
     "text": [
      "已保存 ./data/PubMed/split\\SEAL_train_neg_batch140.pt，当前内存占用率 43.2%\n"
     ]
    },
    {
     "name": "stderr",
     "output_type": "stream",
     "text": [
      "保存 ./data/PubMed/split\\SEAL_train_neg 分批文件:  38%|███▊      | 142/377 [01:26<02:22,  1.65batch/s]"
     ]
    },
    {
     "name": "stdout",
     "output_type": "stream",
     "text": [
      "已保存 ./data/PubMed/split\\SEAL_train_neg_batch141.pt，当前内存占用率 43.2%\n"
     ]
    },
    {
     "name": "stderr",
     "output_type": "stream",
     "text": [
      "保存 ./data/PubMed/split\\SEAL_train_neg 分批文件:  38%|███▊      | 143/377 [01:27<02:19,  1.68batch/s]"
     ]
    },
    {
     "name": "stdout",
     "output_type": "stream",
     "text": [
      "已保存 ./data/PubMed/split\\SEAL_train_neg_batch142.pt，当前内存占用率 43.2%\n"
     ]
    },
    {
     "name": "stderr",
     "output_type": "stream",
     "text": [
      "保存 ./data/PubMed/split\\SEAL_train_neg 分批文件:  38%|███▊      | 144/377 [01:27<02:19,  1.67batch/s]"
     ]
    },
    {
     "name": "stdout",
     "output_type": "stream",
     "text": [
      "已保存 ./data/PubMed/split\\SEAL_train_neg_batch143.pt，当前内存占用率 43.2%\n"
     ]
    },
    {
     "name": "stderr",
     "output_type": "stream",
     "text": [
      "保存 ./data/PubMed/split\\SEAL_train_neg 分批文件:  38%|███▊      | 145/377 [01:28<02:26,  1.59batch/s]"
     ]
    },
    {
     "name": "stdout",
     "output_type": "stream",
     "text": [
      "已保存 ./data/PubMed/split\\SEAL_train_neg_batch144.pt，当前内存占用率 43.2%\n"
     ]
    },
    {
     "name": "stderr",
     "output_type": "stream",
     "text": [
      "保存 ./data/PubMed/split\\SEAL_train_neg 分批文件:  39%|███▊      | 146/377 [01:29<02:23,  1.61batch/s]"
     ]
    },
    {
     "name": "stdout",
     "output_type": "stream",
     "text": [
      "已保存 ./data/PubMed/split\\SEAL_train_neg_batch145.pt，当前内存占用率 43.3%\n"
     ]
    },
    {
     "name": "stderr",
     "output_type": "stream",
     "text": [
      "保存 ./data/PubMed/split\\SEAL_train_neg 分批文件:  39%|███▉      | 147/377 [01:29<02:21,  1.63batch/s]"
     ]
    },
    {
     "name": "stdout",
     "output_type": "stream",
     "text": [
      "已保存 ./data/PubMed/split\\SEAL_train_neg_batch146.pt，当前内存占用率 43.2%\n"
     ]
    },
    {
     "name": "stderr",
     "output_type": "stream",
     "text": [
      "保存 ./data/PubMed/split\\SEAL_train_neg 分批文件:  39%|███▉      | 148/377 [01:30<02:17,  1.66batch/s]"
     ]
    },
    {
     "name": "stdout",
     "output_type": "stream",
     "text": [
      "已保存 ./data/PubMed/split\\SEAL_train_neg_batch147.pt，当前内存占用率 43.3%\n"
     ]
    },
    {
     "name": "stderr",
     "output_type": "stream",
     "text": [
      "保存 ./data/PubMed/split\\SEAL_train_neg 分批文件:  40%|███▉      | 149/377 [01:30<02:15,  1.69batch/s]"
     ]
    },
    {
     "name": "stdout",
     "output_type": "stream",
     "text": [
      "已保存 ./data/PubMed/split\\SEAL_train_neg_batch148.pt，当前内存占用率 43.2%\n"
     ]
    },
    {
     "name": "stderr",
     "output_type": "stream",
     "text": [
      "保存 ./data/PubMed/split\\SEAL_train_neg 分批文件:  40%|███▉      | 150/377 [01:31<02:10,  1.74batch/s]"
     ]
    },
    {
     "name": "stdout",
     "output_type": "stream",
     "text": [
      "已保存 ./data/PubMed/split\\SEAL_train_neg_batch149.pt，当前内存占用率 43.2%\n"
     ]
    },
    {
     "name": "stderr",
     "output_type": "stream",
     "text": [
      "保存 ./data/PubMed/split\\SEAL_train_neg 分批文件:  40%|████      | 151/377 [01:32<02:11,  1.72batch/s]"
     ]
    },
    {
     "name": "stdout",
     "output_type": "stream",
     "text": [
      "已保存 ./data/PubMed/split\\SEAL_train_neg_batch150.pt，当前内存占用率 43.2%\n"
     ]
    },
    {
     "name": "stderr",
     "output_type": "stream",
     "text": [
      "保存 ./data/PubMed/split\\SEAL_train_neg 分批文件:  40%|████      | 152/377 [01:32<02:11,  1.71batch/s]"
     ]
    },
    {
     "name": "stdout",
     "output_type": "stream",
     "text": [
      "已保存 ./data/PubMed/split\\SEAL_train_neg_batch151.pt，当前内存占用率 43.3%\n"
     ]
    },
    {
     "name": "stderr",
     "output_type": "stream",
     "text": [
      "保存 ./data/PubMed/split\\SEAL_train_neg 分批文件:  41%|████      | 153/377 [01:33<02:10,  1.72batch/s]"
     ]
    },
    {
     "name": "stdout",
     "output_type": "stream",
     "text": [
      "已保存 ./data/PubMed/split\\SEAL_train_neg_batch152.pt，当前内存占用率 43.3%\n"
     ]
    },
    {
     "name": "stderr",
     "output_type": "stream",
     "text": [
      "保存 ./data/PubMed/split\\SEAL_train_neg 分批文件:  41%|████      | 154/377 [01:33<02:24,  1.55batch/s]"
     ]
    },
    {
     "name": "stdout",
     "output_type": "stream",
     "text": [
      "已保存 ./data/PubMed/split\\SEAL_train_neg_batch153.pt，当前内存占用率 43.2%\n"
     ]
    },
    {
     "name": "stderr",
     "output_type": "stream",
     "text": [
      "保存 ./data/PubMed/split\\SEAL_train_neg 分批文件:  41%|████      | 155/377 [01:34<02:29,  1.48batch/s]"
     ]
    },
    {
     "name": "stdout",
     "output_type": "stream",
     "text": [
      "已保存 ./data/PubMed/split\\SEAL_train_neg_batch154.pt，当前内存占用率 43.2%\n"
     ]
    },
    {
     "name": "stderr",
     "output_type": "stream",
     "text": [
      "保存 ./data/PubMed/split\\SEAL_train_neg 分批文件:  41%|████▏     | 156/377 [01:35<02:34,  1.43batch/s]"
     ]
    },
    {
     "name": "stdout",
     "output_type": "stream",
     "text": [
      "已保存 ./data/PubMed/split\\SEAL_train_neg_batch155.pt，当前内存占用率 43.2%\n"
     ]
    },
    {
     "name": "stderr",
     "output_type": "stream",
     "text": [
      "保存 ./data/PubMed/split\\SEAL_train_neg 分批文件:  42%|████▏     | 157/377 [01:36<02:37,  1.40batch/s]"
     ]
    },
    {
     "name": "stdout",
     "output_type": "stream",
     "text": [
      "已保存 ./data/PubMed/split\\SEAL_train_neg_batch156.pt，当前内存占用率 43.3%\n"
     ]
    },
    {
     "name": "stderr",
     "output_type": "stream",
     "text": [
      "保存 ./data/PubMed/split\\SEAL_train_neg 分批文件:  42%|████▏     | 158/377 [01:37<02:44,  1.33batch/s]"
     ]
    },
    {
     "name": "stdout",
     "output_type": "stream",
     "text": [
      "已保存 ./data/PubMed/split\\SEAL_train_neg_batch157.pt，当前内存占用率 43.3%\n"
     ]
    },
    {
     "name": "stderr",
     "output_type": "stream",
     "text": [
      "保存 ./data/PubMed/split\\SEAL_train_neg 分批文件:  42%|████▏     | 159/377 [01:37<02:37,  1.38batch/s]"
     ]
    },
    {
     "name": "stdout",
     "output_type": "stream",
     "text": [
      "已保存 ./data/PubMed/split\\SEAL_train_neg_batch158.pt，当前内存占用率 43.3%\n"
     ]
    },
    {
     "name": "stderr",
     "output_type": "stream",
     "text": [
      "保存 ./data/PubMed/split\\SEAL_train_neg 分批文件:  42%|████▏     | 160/377 [01:38<02:32,  1.42batch/s]"
     ]
    },
    {
     "name": "stdout",
     "output_type": "stream",
     "text": [
      "已保存 ./data/PubMed/split\\SEAL_train_neg_batch159.pt，当前内存占用率 43.4%\n"
     ]
    },
    {
     "name": "stderr",
     "output_type": "stream",
     "text": [
      "保存 ./data/PubMed/split\\SEAL_train_neg 分批文件:  43%|████▎     | 161/377 [01:39<02:26,  1.48batch/s]"
     ]
    },
    {
     "name": "stdout",
     "output_type": "stream",
     "text": [
      "已保存 ./data/PubMed/split\\SEAL_train_neg_batch160.pt，当前内存占用率 43.4%\n"
     ]
    },
    {
     "name": "stderr",
     "output_type": "stream",
     "text": [
      "保存 ./data/PubMed/split\\SEAL_train_neg 分批文件:  43%|████▎     | 162/377 [01:39<02:21,  1.52batch/s]"
     ]
    },
    {
     "name": "stdout",
     "output_type": "stream",
     "text": [
      "已保存 ./data/PubMed/split\\SEAL_train_neg_batch161.pt，当前内存占用率 43.4%\n"
     ]
    },
    {
     "name": "stderr",
     "output_type": "stream",
     "text": [
      "保存 ./data/PubMed/split\\SEAL_train_neg 分批文件:  43%|████▎     | 163/377 [01:40<02:15,  1.58batch/s]"
     ]
    },
    {
     "name": "stdout",
     "output_type": "stream",
     "text": [
      "已保存 ./data/PubMed/split\\SEAL_train_neg_batch162.pt，当前内存占用率 43.4%\n"
     ]
    },
    {
     "name": "stderr",
     "output_type": "stream",
     "text": [
      "保存 ./data/PubMed/split\\SEAL_train_neg 分批文件:  44%|████▎     | 164/377 [01:40<02:10,  1.63batch/s]"
     ]
    },
    {
     "name": "stdout",
     "output_type": "stream",
     "text": [
      "已保存 ./data/PubMed/split\\SEAL_train_neg_batch163.pt，当前内存占用率 43.4%\n"
     ]
    },
    {
     "name": "stderr",
     "output_type": "stream",
     "text": [
      "保存 ./data/PubMed/split\\SEAL_train_neg 分批文件:  44%|████▍     | 165/377 [01:41<02:14,  1.57batch/s]"
     ]
    },
    {
     "name": "stdout",
     "output_type": "stream",
     "text": [
      "已保存 ./data/PubMed/split\\SEAL_train_neg_batch164.pt，当前内存占用率 43.4%\n"
     ]
    },
    {
     "name": "stderr",
     "output_type": "stream",
     "text": [
      "保存 ./data/PubMed/split\\SEAL_train_neg 分批文件:  44%|████▍     | 166/377 [01:42<02:20,  1.50batch/s]"
     ]
    },
    {
     "name": "stdout",
     "output_type": "stream",
     "text": [
      "已保存 ./data/PubMed/split\\SEAL_train_neg_batch165.pt，当前内存占用率 43.4%\n"
     ]
    },
    {
     "name": "stderr",
     "output_type": "stream",
     "text": [
      "保存 ./data/PubMed/split\\SEAL_train_neg 分批文件:  44%|████▍     | 167/377 [01:42<02:25,  1.44batch/s]"
     ]
    },
    {
     "name": "stdout",
     "output_type": "stream",
     "text": [
      "已保存 ./data/PubMed/split\\SEAL_train_neg_batch166.pt，当前内存占用率 43.3%\n"
     ]
    },
    {
     "name": "stderr",
     "output_type": "stream",
     "text": [
      "保存 ./data/PubMed/split\\SEAL_train_neg 分批文件:  45%|████▍     | 168/377 [01:43<02:24,  1.45batch/s]"
     ]
    },
    {
     "name": "stdout",
     "output_type": "stream",
     "text": [
      "已保存 ./data/PubMed/split\\SEAL_train_neg_batch167.pt，当前内存占用率 43.4%\n"
     ]
    },
    {
     "name": "stderr",
     "output_type": "stream",
     "text": [
      "保存 ./data/PubMed/split\\SEAL_train_neg 分批文件:  45%|████▍     | 169/377 [01:44<02:20,  1.48batch/s]"
     ]
    },
    {
     "name": "stdout",
     "output_type": "stream",
     "text": [
      "已保存 ./data/PubMed/split\\SEAL_train_neg_batch168.pt，当前内存占用率 43.5%\n"
     ]
    },
    {
     "name": "stderr",
     "output_type": "stream",
     "text": [
      "保存 ./data/PubMed/split\\SEAL_train_neg 分批文件:  45%|████▌     | 170/377 [01:44<02:15,  1.53batch/s]"
     ]
    },
    {
     "name": "stdout",
     "output_type": "stream",
     "text": [
      "已保存 ./data/PubMed/split\\SEAL_train_neg_batch169.pt，当前内存占用率 43.4%\n"
     ]
    },
    {
     "name": "stderr",
     "output_type": "stream",
     "text": [
      "保存 ./data/PubMed/split\\SEAL_train_neg 分批文件:  45%|████▌     | 171/377 [01:45<02:13,  1.54batch/s]"
     ]
    },
    {
     "name": "stdout",
     "output_type": "stream",
     "text": [
      "已保存 ./data/PubMed/split\\SEAL_train_neg_batch170.pt，当前内存占用率 43.5%\n"
     ]
    },
    {
     "name": "stderr",
     "output_type": "stream",
     "text": [
      "保存 ./data/PubMed/split\\SEAL_train_neg 分批文件:  46%|████▌     | 172/377 [01:46<02:10,  1.57batch/s]"
     ]
    },
    {
     "name": "stdout",
     "output_type": "stream",
     "text": [
      "已保存 ./data/PubMed/split\\SEAL_train_neg_batch171.pt，当前内存占用率 43.5%\n"
     ]
    },
    {
     "name": "stderr",
     "output_type": "stream",
     "text": [
      "保存 ./data/PubMed/split\\SEAL_train_neg 分批文件:  46%|████▌     | 173/377 [01:46<02:10,  1.56batch/s]"
     ]
    },
    {
     "name": "stdout",
     "output_type": "stream",
     "text": [
      "已保存 ./data/PubMed/split\\SEAL_train_neg_batch172.pt，当前内存占用率 43.5%\n"
     ]
    },
    {
     "name": "stderr",
     "output_type": "stream",
     "text": [
      "保存 ./data/PubMed/split\\SEAL_train_neg 分批文件:  46%|████▌     | 174/377 [01:47<02:04,  1.63batch/s]"
     ]
    },
    {
     "name": "stdout",
     "output_type": "stream",
     "text": [
      "已保存 ./data/PubMed/split\\SEAL_train_neg_batch173.pt，当前内存占用率 43.4%\n"
     ]
    },
    {
     "name": "stderr",
     "output_type": "stream",
     "text": [
      "保存 ./data/PubMed/split\\SEAL_train_neg 分批文件:  46%|████▋     | 175/377 [01:47<02:01,  1.67batch/s]"
     ]
    },
    {
     "name": "stdout",
     "output_type": "stream",
     "text": [
      "已保存 ./data/PubMed/split\\SEAL_train_neg_batch174.pt，当前内存占用率 43.4%\n"
     ]
    },
    {
     "name": "stderr",
     "output_type": "stream",
     "text": [
      "保存 ./data/PubMed/split\\SEAL_train_neg 分批文件:  47%|████▋     | 176/377 [01:48<02:02,  1.64batch/s]"
     ]
    },
    {
     "name": "stdout",
     "output_type": "stream",
     "text": [
      "已保存 ./data/PubMed/split\\SEAL_train_neg_batch175.pt，当前内存占用率 43.5%\n"
     ]
    },
    {
     "name": "stderr",
     "output_type": "stream",
     "text": [
      "保存 ./data/PubMed/split\\SEAL_train_neg 分批文件:  47%|████▋     | 177/377 [01:49<02:09,  1.55batch/s]"
     ]
    },
    {
     "name": "stdout",
     "output_type": "stream",
     "text": [
      "已保存 ./data/PubMed/split\\SEAL_train_neg_batch176.pt，当前内存占用率 43.4%\n"
     ]
    },
    {
     "name": "stderr",
     "output_type": "stream",
     "text": [
      "保存 ./data/PubMed/split\\SEAL_train_neg 分批文件:  47%|████▋     | 178/377 [01:49<02:07,  1.56batch/s]"
     ]
    },
    {
     "name": "stdout",
     "output_type": "stream",
     "text": [
      "已保存 ./data/PubMed/split\\SEAL_train_neg_batch177.pt，当前内存占用率 43.4%\n"
     ]
    },
    {
     "name": "stderr",
     "output_type": "stream",
     "text": [
      "保存 ./data/PubMed/split\\SEAL_train_neg 分批文件:  47%|████▋     | 179/377 [01:50<02:11,  1.50batch/s]"
     ]
    },
    {
     "name": "stdout",
     "output_type": "stream",
     "text": [
      "已保存 ./data/PubMed/split\\SEAL_train_neg_batch178.pt，当前内存占用率 43.4%\n"
     ]
    },
    {
     "name": "stderr",
     "output_type": "stream",
     "text": [
      "保存 ./data/PubMed/split\\SEAL_train_neg 分批文件:  48%|████▊     | 180/377 [01:51<02:11,  1.50batch/s]"
     ]
    },
    {
     "name": "stdout",
     "output_type": "stream",
     "text": [
      "已保存 ./data/PubMed/split\\SEAL_train_neg_batch179.pt，当前内存占用率 43.4%\n"
     ]
    },
    {
     "name": "stderr",
     "output_type": "stream",
     "text": [
      "保存 ./data/PubMed/split\\SEAL_train_neg 分批文件:  48%|████▊     | 181/377 [01:51<02:09,  1.51batch/s]"
     ]
    },
    {
     "name": "stdout",
     "output_type": "stream",
     "text": [
      "已保存 ./data/PubMed/split\\SEAL_train_neg_batch180.pt，当前内存占用率 43.4%\n"
     ]
    },
    {
     "name": "stderr",
     "output_type": "stream",
     "text": [
      "保存 ./data/PubMed/split\\SEAL_train_neg 分批文件:  48%|████▊     | 182/377 [01:52<02:14,  1.45batch/s]"
     ]
    },
    {
     "name": "stdout",
     "output_type": "stream",
     "text": [
      "已保存 ./data/PubMed/split\\SEAL_train_neg_batch181.pt，当前内存占用率 43.3%\n"
     ]
    },
    {
     "name": "stderr",
     "output_type": "stream",
     "text": [
      "保存 ./data/PubMed/split\\SEAL_train_neg 分批文件:  49%|████▊     | 183/377 [01:53<02:10,  1.49batch/s]"
     ]
    },
    {
     "name": "stdout",
     "output_type": "stream",
     "text": [
      "已保存 ./data/PubMed/split\\SEAL_train_neg_batch182.pt，当前内存占用率 43.4%\n"
     ]
    },
    {
     "name": "stderr",
     "output_type": "stream",
     "text": [
      "保存 ./data/PubMed/split\\SEAL_train_neg 分批文件:  49%|████▉     | 184/377 [01:53<02:10,  1.48batch/s]"
     ]
    },
    {
     "name": "stdout",
     "output_type": "stream",
     "text": [
      "已保存 ./data/PubMed/split\\SEAL_train_neg_batch183.pt，当前内存占用率 43.4%\n"
     ]
    },
    {
     "name": "stderr",
     "output_type": "stream",
     "text": [
      "保存 ./data/PubMed/split\\SEAL_train_neg 分批文件:  49%|████▉     | 185/377 [01:54<02:04,  1.54batch/s]"
     ]
    },
    {
     "name": "stdout",
     "output_type": "stream",
     "text": [
      "已保存 ./data/PubMed/split\\SEAL_train_neg_batch184.pt，当前内存占用率 43.4%\n"
     ]
    },
    {
     "name": "stderr",
     "output_type": "stream",
     "text": [
      "保存 ./data/PubMed/split\\SEAL_train_neg 分批文件:  49%|████▉     | 186/377 [01:55<01:58,  1.61batch/s]"
     ]
    },
    {
     "name": "stdout",
     "output_type": "stream",
     "text": [
      "已保存 ./data/PubMed/split\\SEAL_train_neg_batch185.pt，当前内存占用率 43.4%\n"
     ]
    },
    {
     "name": "stderr",
     "output_type": "stream",
     "text": [
      "保存 ./data/PubMed/split\\SEAL_train_neg 分批文件:  50%|████▉     | 187/377 [01:55<01:57,  1.62batch/s]"
     ]
    },
    {
     "name": "stdout",
     "output_type": "stream",
     "text": [
      "已保存 ./data/PubMed/split\\SEAL_train_neg_batch186.pt，当前内存占用率 43.4%\n"
     ]
    },
    {
     "name": "stderr",
     "output_type": "stream",
     "text": [
      "保存 ./data/PubMed/split\\SEAL_train_neg 分批文件:  50%|████▉     | 188/377 [01:56<02:03,  1.53batch/s]"
     ]
    },
    {
     "name": "stdout",
     "output_type": "stream",
     "text": [
      "已保存 ./data/PubMed/split\\SEAL_train_neg_batch187.pt，当前内存占用率 43.4%\n"
     ]
    },
    {
     "name": "stderr",
     "output_type": "stream",
     "text": [
      "保存 ./data/PubMed/split\\SEAL_train_neg 分批文件:  50%|█████     | 189/377 [01:57<02:00,  1.56batch/s]"
     ]
    },
    {
     "name": "stdout",
     "output_type": "stream",
     "text": [
      "已保存 ./data/PubMed/split\\SEAL_train_neg_batch188.pt，当前内存占用率 43.4%\n"
     ]
    },
    {
     "name": "stderr",
     "output_type": "stream",
     "text": [
      "保存 ./data/PubMed/split\\SEAL_train_neg 分批文件:  50%|█████     | 190/377 [01:57<02:01,  1.54batch/s]"
     ]
    },
    {
     "name": "stdout",
     "output_type": "stream",
     "text": [
      "已保存 ./data/PubMed/split\\SEAL_train_neg_batch189.pt，当前内存占用率 43.5%\n"
     ]
    },
    {
     "name": "stderr",
     "output_type": "stream",
     "text": [
      "保存 ./data/PubMed/split\\SEAL_train_neg 分批文件:  51%|█████     | 191/377 [01:58<01:57,  1.58batch/s]"
     ]
    },
    {
     "name": "stdout",
     "output_type": "stream",
     "text": [
      "已保存 ./data/PubMed/split\\SEAL_train_neg_batch190.pt，当前内存占用率 43.5%\n"
     ]
    },
    {
     "name": "stderr",
     "output_type": "stream",
     "text": [
      "保存 ./data/PubMed/split\\SEAL_train_neg 分批文件:  51%|█████     | 192/377 [01:58<01:56,  1.58batch/s]"
     ]
    },
    {
     "name": "stdout",
     "output_type": "stream",
     "text": [
      "已保存 ./data/PubMed/split\\SEAL_train_neg_batch191.pt，当前内存占用率 43.5%\n"
     ]
    },
    {
     "name": "stderr",
     "output_type": "stream",
     "text": [
      "保存 ./data/PubMed/split\\SEAL_train_neg 分批文件:  51%|█████     | 193/377 [01:59<01:54,  1.60batch/s]"
     ]
    },
    {
     "name": "stdout",
     "output_type": "stream",
     "text": [
      "已保存 ./data/PubMed/split\\SEAL_train_neg_batch192.pt，当前内存占用率 43.5%\n"
     ]
    },
    {
     "name": "stderr",
     "output_type": "stream",
     "text": [
      "保存 ./data/PubMed/split\\SEAL_train_neg 分批文件:  51%|█████▏    | 194/377 [02:00<01:59,  1.54batch/s]"
     ]
    },
    {
     "name": "stdout",
     "output_type": "stream",
     "text": [
      "已保存 ./data/PubMed/split\\SEAL_train_neg_batch193.pt，当前内存占用率 43.5%\n"
     ]
    },
    {
     "name": "stderr",
     "output_type": "stream",
     "text": [
      "保存 ./data/PubMed/split\\SEAL_train_neg 分批文件:  52%|█████▏    | 195/377 [02:01<02:00,  1.51batch/s]"
     ]
    },
    {
     "name": "stdout",
     "output_type": "stream",
     "text": [
      "已保存 ./data/PubMed/split\\SEAL_train_neg_batch194.pt，当前内存占用率 43.5%\n"
     ]
    },
    {
     "name": "stderr",
     "output_type": "stream",
     "text": [
      "保存 ./data/PubMed/split\\SEAL_train_neg 分批文件:  52%|█████▏    | 196/377 [02:01<01:57,  1.54batch/s]"
     ]
    },
    {
     "name": "stdout",
     "output_type": "stream",
     "text": [
      "已保存 ./data/PubMed/split\\SEAL_train_neg_batch195.pt，当前内存占用率 43.5%\n"
     ]
    },
    {
     "name": "stderr",
     "output_type": "stream",
     "text": [
      "保存 ./data/PubMed/split\\SEAL_train_neg 分批文件:  52%|█████▏    | 197/377 [02:02<01:53,  1.58batch/s]"
     ]
    },
    {
     "name": "stdout",
     "output_type": "stream",
     "text": [
      "已保存 ./data/PubMed/split\\SEAL_train_neg_batch196.pt，当前内存占用率 43.5%\n"
     ]
    },
    {
     "name": "stderr",
     "output_type": "stream",
     "text": [
      "保存 ./data/PubMed/split\\SEAL_train_neg 分批文件:  53%|█████▎    | 198/377 [02:02<01:51,  1.61batch/s]"
     ]
    },
    {
     "name": "stdout",
     "output_type": "stream",
     "text": [
      "已保存 ./data/PubMed/split\\SEAL_train_neg_batch197.pt，当前内存占用率 43.5%\n"
     ]
    },
    {
     "name": "stderr",
     "output_type": "stream",
     "text": [
      "保存 ./data/PubMed/split\\SEAL_train_neg 分批文件:  53%|█████▎    | 199/377 [02:03<01:51,  1.60batch/s]"
     ]
    },
    {
     "name": "stdout",
     "output_type": "stream",
     "text": [
      "已保存 ./data/PubMed/split\\SEAL_train_neg_batch198.pt，当前内存占用率 43.4%\n"
     ]
    },
    {
     "name": "stderr",
     "output_type": "stream",
     "text": [
      "保存 ./data/PubMed/split\\SEAL_train_neg 分批文件:  53%|█████▎    | 200/377 [02:04<01:51,  1.59batch/s]"
     ]
    },
    {
     "name": "stdout",
     "output_type": "stream",
     "text": [
      "已保存 ./data/PubMed/split\\SEAL_train_neg_batch199.pt，当前内存占用率 43.5%\n"
     ]
    },
    {
     "name": "stderr",
     "output_type": "stream",
     "text": [
      "保存 ./data/PubMed/split\\SEAL_train_neg 分批文件:  53%|█████▎    | 201/377 [02:04<01:50,  1.59batch/s]"
     ]
    },
    {
     "name": "stdout",
     "output_type": "stream",
     "text": [
      "已保存 ./data/PubMed/split\\SEAL_train_neg_batch200.pt，当前内存占用率 43.4%\n"
     ]
    },
    {
     "name": "stderr",
     "output_type": "stream",
     "text": [
      "保存 ./data/PubMed/split\\SEAL_train_neg 分批文件:  54%|█████▎    | 202/377 [02:05<01:48,  1.61batch/s]"
     ]
    },
    {
     "name": "stdout",
     "output_type": "stream",
     "text": [
      "已保存 ./data/PubMed/split\\SEAL_train_neg_batch201.pt，当前内存占用率 43.4%\n"
     ]
    },
    {
     "name": "stderr",
     "output_type": "stream",
     "text": [
      "保存 ./data/PubMed/split\\SEAL_train_neg 分批文件:  54%|█████▍    | 203/377 [02:05<01:46,  1.63batch/s]"
     ]
    },
    {
     "name": "stdout",
     "output_type": "stream",
     "text": [
      "已保存 ./data/PubMed/split\\SEAL_train_neg_batch202.pt，当前内存占用率 43.5%\n"
     ]
    },
    {
     "name": "stderr",
     "output_type": "stream",
     "text": [
      "保存 ./data/PubMed/split\\SEAL_train_neg 分批文件:  54%|█████▍    | 204/377 [02:06<01:44,  1.66batch/s]"
     ]
    },
    {
     "name": "stdout",
     "output_type": "stream",
     "text": [
      "已保存 ./data/PubMed/split\\SEAL_train_neg_batch203.pt，当前内存占用率 43.4%\n"
     ]
    },
    {
     "name": "stderr",
     "output_type": "stream",
     "text": [
      "保存 ./data/PubMed/split\\SEAL_train_neg 分批文件:  54%|█████▍    | 205/377 [02:07<01:43,  1.65batch/s]"
     ]
    },
    {
     "name": "stdout",
     "output_type": "stream",
     "text": [
      "已保存 ./data/PubMed/split\\SEAL_train_neg_batch204.pt，当前内存占用率 43.5%\n"
     ]
    },
    {
     "name": "stderr",
     "output_type": "stream",
     "text": [
      "保存 ./data/PubMed/split\\SEAL_train_neg 分批文件:  55%|█████▍    | 206/377 [02:07<01:42,  1.67batch/s]"
     ]
    },
    {
     "name": "stdout",
     "output_type": "stream",
     "text": [
      "已保存 ./data/PubMed/split\\SEAL_train_neg_batch205.pt，当前内存占用率 43.5%\n"
     ]
    },
    {
     "name": "stderr",
     "output_type": "stream",
     "text": [
      "保存 ./data/PubMed/split\\SEAL_train_neg 分批文件:  55%|█████▍    | 207/377 [02:08<01:40,  1.68batch/s]"
     ]
    },
    {
     "name": "stdout",
     "output_type": "stream",
     "text": [
      "已保存 ./data/PubMed/split\\SEAL_train_neg_batch206.pt，当前内存占用率 43.5%\n"
     ]
    },
    {
     "name": "stderr",
     "output_type": "stream",
     "text": [
      "保存 ./data/PubMed/split\\SEAL_train_neg 分批文件:  55%|█████▌    | 208/377 [02:08<01:41,  1.66batch/s]"
     ]
    },
    {
     "name": "stdout",
     "output_type": "stream",
     "text": [
      "已保存 ./data/PubMed/split\\SEAL_train_neg_batch207.pt，当前内存占用率 43.4%\n"
     ]
    },
    {
     "name": "stderr",
     "output_type": "stream",
     "text": [
      "保存 ./data/PubMed/split\\SEAL_train_neg 分批文件:  55%|█████▌    | 209/377 [02:09<01:42,  1.64batch/s]"
     ]
    },
    {
     "name": "stdout",
     "output_type": "stream",
     "text": [
      "已保存 ./data/PubMed/split\\SEAL_train_neg_batch208.pt，当前内存占用率 43.5%\n"
     ]
    },
    {
     "name": "stderr",
     "output_type": "stream",
     "text": [
      "保存 ./data/PubMed/split\\SEAL_train_neg 分批文件:  56%|█████▌    | 210/377 [02:10<01:40,  1.66batch/s]"
     ]
    },
    {
     "name": "stdout",
     "output_type": "stream",
     "text": [
      "已保存 ./data/PubMed/split\\SEAL_train_neg_batch209.pt，当前内存占用率 43.4%\n"
     ]
    },
    {
     "name": "stderr",
     "output_type": "stream",
     "text": [
      "保存 ./data/PubMed/split\\SEAL_train_neg 分批文件:  56%|█████▌    | 211/377 [02:10<01:39,  1.67batch/s]"
     ]
    },
    {
     "name": "stdout",
     "output_type": "stream",
     "text": [
      "已保存 ./data/PubMed/split\\SEAL_train_neg_batch210.pt，当前内存占用率 43.4%\n"
     ]
    },
    {
     "name": "stderr",
     "output_type": "stream",
     "text": [
      "保存 ./data/PubMed/split\\SEAL_train_neg 分批文件:  56%|█████▌    | 212/377 [02:11<01:38,  1.67batch/s]"
     ]
    },
    {
     "name": "stdout",
     "output_type": "stream",
     "text": [
      "已保存 ./data/PubMed/split\\SEAL_train_neg_batch211.pt，当前内存占用率 43.4%\n"
     ]
    },
    {
     "name": "stderr",
     "output_type": "stream",
     "text": [
      "保存 ./data/PubMed/split\\SEAL_train_neg 分批文件:  56%|█████▋    | 213/377 [02:11<01:39,  1.65batch/s]"
     ]
    },
    {
     "name": "stdout",
     "output_type": "stream",
     "text": [
      "已保存 ./data/PubMed/split\\SEAL_train_neg_batch212.pt，当前内存占用率 43.4%\n"
     ]
    },
    {
     "name": "stderr",
     "output_type": "stream",
     "text": [
      "保存 ./data/PubMed/split\\SEAL_train_neg 分批文件:  57%|█████▋    | 214/377 [02:12<01:39,  1.63batch/s]"
     ]
    },
    {
     "name": "stdout",
     "output_type": "stream",
     "text": [
      "已保存 ./data/PubMed/split\\SEAL_train_neg_batch213.pt，当前内存占用率 43.4%\n"
     ]
    },
    {
     "name": "stderr",
     "output_type": "stream",
     "text": [
      "保存 ./data/PubMed/split\\SEAL_train_neg 分批文件:  57%|█████▋    | 215/377 [02:13<01:37,  1.66batch/s]"
     ]
    },
    {
     "name": "stdout",
     "output_type": "stream",
     "text": [
      "已保存 ./data/PubMed/split\\SEAL_train_neg_batch214.pt，当前内存占用率 43.4%\n"
     ]
    },
    {
     "name": "stderr",
     "output_type": "stream",
     "text": [
      "保存 ./data/PubMed/split\\SEAL_train_neg 分批文件:  57%|█████▋    | 216/377 [02:13<01:36,  1.67batch/s]"
     ]
    },
    {
     "name": "stdout",
     "output_type": "stream",
     "text": [
      "已保存 ./data/PubMed/split\\SEAL_train_neg_batch215.pt，当前内存占用率 43.4%\n"
     ]
    },
    {
     "name": "stderr",
     "output_type": "stream",
     "text": [
      "保存 ./data/PubMed/split\\SEAL_train_neg 分批文件:  58%|█████▊    | 217/377 [02:14<01:39,  1.61batch/s]"
     ]
    },
    {
     "name": "stdout",
     "output_type": "stream",
     "text": [
      "已保存 ./data/PubMed/split\\SEAL_train_neg_batch216.pt，当前内存占用率 43.4%\n"
     ]
    },
    {
     "name": "stderr",
     "output_type": "stream",
     "text": [
      "保存 ./data/PubMed/split\\SEAL_train_neg 分批文件:  58%|█████▊    | 218/377 [02:14<01:37,  1.63batch/s]"
     ]
    },
    {
     "name": "stdout",
     "output_type": "stream",
     "text": [
      "已保存 ./data/PubMed/split\\SEAL_train_neg_batch217.pt，当前内存占用率 43.4%\n"
     ]
    },
    {
     "name": "stderr",
     "output_type": "stream",
     "text": [
      "保存 ./data/PubMed/split\\SEAL_train_neg 分批文件:  58%|█████▊    | 219/377 [02:15<01:40,  1.58batch/s]"
     ]
    },
    {
     "name": "stdout",
     "output_type": "stream",
     "text": [
      "已保存 ./data/PubMed/split\\SEAL_train_neg_batch218.pt，当前内存占用率 43.4%\n"
     ]
    },
    {
     "name": "stderr",
     "output_type": "stream",
     "text": [
      "保存 ./data/PubMed/split\\SEAL_train_neg 分批文件:  58%|█████▊    | 220/377 [02:16<01:35,  1.65batch/s]"
     ]
    },
    {
     "name": "stdout",
     "output_type": "stream",
     "text": [
      "已保存 ./data/PubMed/split\\SEAL_train_neg_batch219.pt，当前内存占用率 43.4%\n"
     ]
    },
    {
     "name": "stderr",
     "output_type": "stream",
     "text": [
      "保存 ./data/PubMed/split\\SEAL_train_neg 分批文件:  59%|█████▊    | 221/377 [02:16<01:31,  1.71batch/s]"
     ]
    },
    {
     "name": "stdout",
     "output_type": "stream",
     "text": [
      "已保存 ./data/PubMed/split\\SEAL_train_neg_batch220.pt，当前内存占用率 43.4%\n"
     ]
    },
    {
     "name": "stderr",
     "output_type": "stream",
     "text": [
      "保存 ./data/PubMed/split\\SEAL_train_neg 分批文件:  59%|█████▉    | 222/377 [02:17<01:32,  1.67batch/s]"
     ]
    },
    {
     "name": "stdout",
     "output_type": "stream",
     "text": [
      "已保存 ./data/PubMed/split\\SEAL_train_neg_batch221.pt，当前内存占用率 43.4%\n"
     ]
    },
    {
     "name": "stderr",
     "output_type": "stream",
     "text": [
      "保存 ./data/PubMed/split\\SEAL_train_neg 分批文件:  59%|█████▉    | 223/377 [02:18<01:35,  1.61batch/s]"
     ]
    },
    {
     "name": "stdout",
     "output_type": "stream",
     "text": [
      "已保存 ./data/PubMed/split\\SEAL_train_neg_batch222.pt，当前内存占用率 43.4%\n"
     ]
    },
    {
     "name": "stderr",
     "output_type": "stream",
     "text": [
      "保存 ./data/PubMed/split\\SEAL_train_neg 分批文件:  59%|█████▉    | 224/377 [02:18<01:35,  1.60batch/s]"
     ]
    },
    {
     "name": "stdout",
     "output_type": "stream",
     "text": [
      "已保存 ./data/PubMed/split\\SEAL_train_neg_batch223.pt，当前内存占用率 43.4%\n"
     ]
    },
    {
     "name": "stderr",
     "output_type": "stream",
     "text": [
      "保存 ./data/PubMed/split\\SEAL_train_neg 分批文件:  60%|█████▉    | 225/377 [02:19<01:34,  1.60batch/s]"
     ]
    },
    {
     "name": "stdout",
     "output_type": "stream",
     "text": [
      "已保存 ./data/PubMed/split\\SEAL_train_neg_batch224.pt，当前内存占用率 43.4%\n"
     ]
    },
    {
     "name": "stderr",
     "output_type": "stream",
     "text": [
      "保存 ./data/PubMed/split\\SEAL_train_neg 分批文件:  60%|█████▉    | 226/377 [02:19<01:31,  1.64batch/s]"
     ]
    },
    {
     "name": "stdout",
     "output_type": "stream",
     "text": [
      "已保存 ./data/PubMed/split\\SEAL_train_neg_batch225.pt，当前内存占用率 43.4%\n"
     ]
    },
    {
     "name": "stderr",
     "output_type": "stream",
     "text": [
      "保存 ./data/PubMed/split\\SEAL_train_neg 分批文件:  60%|██████    | 227/377 [02:20<01:30,  1.66batch/s]"
     ]
    },
    {
     "name": "stdout",
     "output_type": "stream",
     "text": [
      "已保存 ./data/PubMed/split\\SEAL_train_neg_batch226.pt，当前内存占用率 43.4%\n"
     ]
    },
    {
     "name": "stderr",
     "output_type": "stream",
     "text": [
      "保存 ./data/PubMed/split\\SEAL_train_neg 分批文件:  60%|██████    | 228/377 [02:20<01:27,  1.71batch/s]"
     ]
    },
    {
     "name": "stdout",
     "output_type": "stream",
     "text": [
      "已保存 ./data/PubMed/split\\SEAL_train_neg_batch227.pt，当前内存占用率 43.5%\n"
     ]
    },
    {
     "name": "stderr",
     "output_type": "stream",
     "text": [
      "保存 ./data/PubMed/split\\SEAL_train_neg 分批文件:  61%|██████    | 229/377 [02:21<01:26,  1.72batch/s]"
     ]
    },
    {
     "name": "stdout",
     "output_type": "stream",
     "text": [
      "已保存 ./data/PubMed/split\\SEAL_train_neg_batch228.pt，当前内存占用率 43.5%\n"
     ]
    },
    {
     "name": "stderr",
     "output_type": "stream",
     "text": [
      "保存 ./data/PubMed/split\\SEAL_train_neg 分批文件:  61%|██████    | 230/377 [02:22<01:24,  1.73batch/s]"
     ]
    },
    {
     "name": "stdout",
     "output_type": "stream",
     "text": [
      "已保存 ./data/PubMed/split\\SEAL_train_neg_batch229.pt，当前内存占用率 43.5%\n"
     ]
    },
    {
     "name": "stderr",
     "output_type": "stream",
     "text": [
      "保存 ./data/PubMed/split\\SEAL_train_neg 分批文件:  61%|██████▏   | 231/377 [02:22<01:24,  1.73batch/s]"
     ]
    },
    {
     "name": "stdout",
     "output_type": "stream",
     "text": [
      "已保存 ./data/PubMed/split\\SEAL_train_neg_batch230.pt，当前内存占用率 43.4%\n"
     ]
    },
    {
     "name": "stderr",
     "output_type": "stream",
     "text": [
      "保存 ./data/PubMed/split\\SEAL_train_neg 分批文件:  62%|██████▏   | 232/377 [02:23<01:25,  1.69batch/s]"
     ]
    },
    {
     "name": "stdout",
     "output_type": "stream",
     "text": [
      "已保存 ./data/PubMed/split\\SEAL_train_neg_batch231.pt，当前内存占用率 43.4%\n"
     ]
    },
    {
     "name": "stderr",
     "output_type": "stream",
     "text": [
      "保存 ./data/PubMed/split\\SEAL_train_neg 分批文件:  62%|██████▏   | 233/377 [02:23<01:24,  1.70batch/s]"
     ]
    },
    {
     "name": "stdout",
     "output_type": "stream",
     "text": [
      "已保存 ./data/PubMed/split\\SEAL_train_neg_batch232.pt，当前内存占用率 43.4%\n"
     ]
    },
    {
     "name": "stderr",
     "output_type": "stream",
     "text": [
      "保存 ./data/PubMed/split\\SEAL_train_neg 分批文件:  62%|██████▏   | 234/377 [02:24<01:24,  1.69batch/s]"
     ]
    },
    {
     "name": "stdout",
     "output_type": "stream",
     "text": [
      "已保存 ./data/PubMed/split\\SEAL_train_neg_batch233.pt，当前内存占用率 43.4%\n"
     ]
    },
    {
     "name": "stderr",
     "output_type": "stream",
     "text": [
      "保存 ./data/PubMed/split\\SEAL_train_neg 分批文件:  62%|██████▏   | 235/377 [02:25<01:23,  1.71batch/s]"
     ]
    },
    {
     "name": "stdout",
     "output_type": "stream",
     "text": [
      "已保存 ./data/PubMed/split\\SEAL_train_neg_batch234.pt，当前内存占用率 43.4%\n"
     ]
    },
    {
     "name": "stderr",
     "output_type": "stream",
     "text": [
      "保存 ./data/PubMed/split\\SEAL_train_neg 分批文件:  63%|██████▎   | 236/377 [02:25<01:22,  1.71batch/s]"
     ]
    },
    {
     "name": "stdout",
     "output_type": "stream",
     "text": [
      "已保存 ./data/PubMed/split\\SEAL_train_neg_batch235.pt，当前内存占用率 43.5%\n"
     ]
    },
    {
     "name": "stderr",
     "output_type": "stream",
     "text": [
      "保存 ./data/PubMed/split\\SEAL_train_neg 分批文件:  63%|██████▎   | 237/377 [02:26<01:23,  1.68batch/s]"
     ]
    },
    {
     "name": "stdout",
     "output_type": "stream",
     "text": [
      "已保存 ./data/PubMed/split\\SEAL_train_neg_batch236.pt，当前内存占用率 43.5%\n"
     ]
    },
    {
     "name": "stderr",
     "output_type": "stream",
     "text": [
      "保存 ./data/PubMed/split\\SEAL_train_neg 分批文件:  63%|██████▎   | 238/377 [02:26<01:21,  1.70batch/s]"
     ]
    },
    {
     "name": "stdout",
     "output_type": "stream",
     "text": [
      "已保存 ./data/PubMed/split\\SEAL_train_neg_batch237.pt，当前内存占用率 43.4%\n"
     ]
    },
    {
     "name": "stderr",
     "output_type": "stream",
     "text": [
      "保存 ./data/PubMed/split\\SEAL_train_neg 分批文件:  63%|██████▎   | 239/377 [02:27<01:21,  1.69batch/s]"
     ]
    },
    {
     "name": "stdout",
     "output_type": "stream",
     "text": [
      "已保存 ./data/PubMed/split\\SEAL_train_neg_batch238.pt，当前内存占用率 43.4%\n"
     ]
    },
    {
     "name": "stderr",
     "output_type": "stream",
     "text": [
      "保存 ./data/PubMed/split\\SEAL_train_neg 分批文件:  64%|██████▎   | 240/377 [02:28<01:20,  1.70batch/s]"
     ]
    },
    {
     "name": "stdout",
     "output_type": "stream",
     "text": [
      "已保存 ./data/PubMed/split\\SEAL_train_neg_batch239.pt，当前内存占用率 43.5%\n"
     ]
    },
    {
     "name": "stderr",
     "output_type": "stream",
     "text": [
      "保存 ./data/PubMed/split\\SEAL_train_neg 分批文件:  64%|██████▍   | 241/377 [02:28<01:19,  1.71batch/s]"
     ]
    },
    {
     "name": "stdout",
     "output_type": "stream",
     "text": [
      "已保存 ./data/PubMed/split\\SEAL_train_neg_batch240.pt，当前内存占用率 43.4%\n"
     ]
    },
    {
     "name": "stderr",
     "output_type": "stream",
     "text": [
      "保存 ./data/PubMed/split\\SEAL_train_neg 分批文件:  64%|██████▍   | 242/377 [02:29<01:21,  1.66batch/s]"
     ]
    },
    {
     "name": "stdout",
     "output_type": "stream",
     "text": [
      "已保存 ./data/PubMed/split\\SEAL_train_neg_batch241.pt，当前内存占用率 43.4%\n"
     ]
    },
    {
     "name": "stderr",
     "output_type": "stream",
     "text": [
      "保存 ./data/PubMed/split\\SEAL_train_neg 分批文件:  64%|██████▍   | 243/377 [02:29<01:20,  1.67batch/s]"
     ]
    },
    {
     "name": "stdout",
     "output_type": "stream",
     "text": [
      "已保存 ./data/PubMed/split\\SEAL_train_neg_batch242.pt，当前内存占用率 43.4%\n"
     ]
    },
    {
     "name": "stderr",
     "output_type": "stream",
     "text": [
      "保存 ./data/PubMed/split\\SEAL_train_neg 分批文件:  65%|██████▍   | 244/377 [02:30<01:20,  1.66batch/s]"
     ]
    },
    {
     "name": "stdout",
     "output_type": "stream",
     "text": [
      "已保存 ./data/PubMed/split\\SEAL_train_neg_batch243.pt，当前内存占用率 43.4%\n"
     ]
    },
    {
     "name": "stderr",
     "output_type": "stream",
     "text": [
      "保存 ./data/PubMed/split\\SEAL_train_neg 分批文件:  65%|██████▍   | 245/377 [02:31<01:23,  1.59batch/s]"
     ]
    },
    {
     "name": "stdout",
     "output_type": "stream",
     "text": [
      "已保存 ./data/PubMed/split\\SEAL_train_neg_batch244.pt，当前内存占用率 43.4%\n"
     ]
    },
    {
     "name": "stderr",
     "output_type": "stream",
     "text": [
      "保存 ./data/PubMed/split\\SEAL_train_neg 分批文件:  65%|██████▌   | 246/377 [02:31<01:25,  1.52batch/s]"
     ]
    },
    {
     "name": "stdout",
     "output_type": "stream",
     "text": [
      "已保存 ./data/PubMed/split\\SEAL_train_neg_batch245.pt，当前内存占用率 43.4%\n"
     ]
    },
    {
     "name": "stderr",
     "output_type": "stream",
     "text": [
      "保存 ./data/PubMed/split\\SEAL_train_neg 分批文件:  66%|██████▌   | 247/377 [02:32<01:28,  1.46batch/s]"
     ]
    },
    {
     "name": "stdout",
     "output_type": "stream",
     "text": [
      "已保存 ./data/PubMed/split\\SEAL_train_neg_batch246.pt，当前内存占用率 43.5%\n"
     ]
    },
    {
     "name": "stderr",
     "output_type": "stream",
     "text": [
      "保存 ./data/PubMed/split\\SEAL_train_neg 分批文件:  66%|██████▌   | 248/377 [02:33<01:32,  1.39batch/s]"
     ]
    },
    {
     "name": "stdout",
     "output_type": "stream",
     "text": [
      "已保存 ./data/PubMed/split\\SEAL_train_neg_batch247.pt，当前内存占用率 43.4%\n"
     ]
    },
    {
     "name": "stderr",
     "output_type": "stream",
     "text": [
      "保存 ./data/PubMed/split\\SEAL_train_neg 分批文件:  66%|██████▌   | 249/377 [02:34<01:28,  1.44batch/s]"
     ]
    },
    {
     "name": "stdout",
     "output_type": "stream",
     "text": [
      "已保存 ./data/PubMed/split\\SEAL_train_neg_batch248.pt，当前内存占用率 43.4%\n"
     ]
    },
    {
     "name": "stderr",
     "output_type": "stream",
     "text": [
      "保存 ./data/PubMed/split\\SEAL_train_neg 分批文件:  66%|██████▋   | 250/377 [02:34<01:26,  1.47batch/s]"
     ]
    },
    {
     "name": "stdout",
     "output_type": "stream",
     "text": [
      "已保存 ./data/PubMed/split\\SEAL_train_neg_batch249.pt，当前内存占用率 43.4%\n"
     ]
    },
    {
     "name": "stderr",
     "output_type": "stream",
     "text": [
      "保存 ./data/PubMed/split\\SEAL_train_neg 分批文件:  67%|██████▋   | 251/377 [02:35<01:26,  1.46batch/s]"
     ]
    },
    {
     "name": "stdout",
     "output_type": "stream",
     "text": [
      "已保存 ./data/PubMed/split\\SEAL_train_neg_batch250.pt，当前内存占用率 43.4%\n"
     ]
    },
    {
     "name": "stderr",
     "output_type": "stream",
     "text": [
      "保存 ./data/PubMed/split\\SEAL_train_neg 分批文件:  67%|██████▋   | 252/377 [02:36<01:23,  1.49batch/s]"
     ]
    },
    {
     "name": "stdout",
     "output_type": "stream",
     "text": [
      "已保存 ./data/PubMed/split\\SEAL_train_neg_batch251.pt，当前内存占用率 43.5%\n"
     ]
    },
    {
     "name": "stderr",
     "output_type": "stream",
     "text": [
      "保存 ./data/PubMed/split\\SEAL_train_neg 分批文件:  67%|██████▋   | 253/377 [02:36<01:21,  1.52batch/s]"
     ]
    },
    {
     "name": "stdout",
     "output_type": "stream",
     "text": [
      "已保存 ./data/PubMed/split\\SEAL_train_neg_batch252.pt，当前内存占用率 43.5%\n"
     ]
    },
    {
     "name": "stderr",
     "output_type": "stream",
     "text": [
      "保存 ./data/PubMed/split\\SEAL_train_neg 分批文件:  67%|██████▋   | 254/377 [02:37<01:20,  1.52batch/s]"
     ]
    },
    {
     "name": "stdout",
     "output_type": "stream",
     "text": [
      "已保存 ./data/PubMed/split\\SEAL_train_neg_batch253.pt，当前内存占用率 43.5%\n"
     ]
    },
    {
     "name": "stderr",
     "output_type": "stream",
     "text": [
      "保存 ./data/PubMed/split\\SEAL_train_neg 分批文件:  68%|██████▊   | 255/377 [02:38<01:21,  1.50batch/s]"
     ]
    },
    {
     "name": "stdout",
     "output_type": "stream",
     "text": [
      "已保存 ./data/PubMed/split\\SEAL_train_neg_batch254.pt，当前内存占用率 43.5%\n"
     ]
    },
    {
     "name": "stderr",
     "output_type": "stream",
     "text": [
      "保存 ./data/PubMed/split\\SEAL_train_neg 分批文件:  68%|██████▊   | 256/377 [02:38<01:24,  1.44batch/s]"
     ]
    },
    {
     "name": "stdout",
     "output_type": "stream",
     "text": [
      "已保存 ./data/PubMed/split\\SEAL_train_neg_batch255.pt，当前内存占用率 43.5%\n"
     ]
    },
    {
     "name": "stderr",
     "output_type": "stream",
     "text": [
      "保存 ./data/PubMed/split\\SEAL_train_neg 分批文件:  68%|██████▊   | 257/377 [02:39<01:19,  1.52batch/s]"
     ]
    },
    {
     "name": "stdout",
     "output_type": "stream",
     "text": [
      "已保存 ./data/PubMed/split\\SEAL_train_neg_batch256.pt，当前内存占用率 43.5%\n"
     ]
    },
    {
     "name": "stderr",
     "output_type": "stream",
     "text": [
      "保存 ./data/PubMed/split\\SEAL_train_neg 分批文件:  68%|██████▊   | 258/377 [02:40<01:22,  1.45batch/s]"
     ]
    },
    {
     "name": "stdout",
     "output_type": "stream",
     "text": [
      "已保存 ./data/PubMed/split\\SEAL_train_neg_batch257.pt，当前内存占用率 43.5%\n"
     ]
    },
    {
     "name": "stderr",
     "output_type": "stream",
     "text": [
      "保存 ./data/PubMed/split\\SEAL_train_neg 分批文件:  69%|██████▊   | 259/377 [02:40<01:23,  1.42batch/s]"
     ]
    },
    {
     "name": "stdout",
     "output_type": "stream",
     "text": [
      "已保存 ./data/PubMed/split\\SEAL_train_neg_batch258.pt，当前内存占用率 43.5%\n"
     ]
    },
    {
     "name": "stderr",
     "output_type": "stream",
     "text": [
      "保存 ./data/PubMed/split\\SEAL_train_neg 分批文件:  69%|██████▉   | 260/377 [02:41<01:21,  1.44batch/s]"
     ]
    },
    {
     "name": "stdout",
     "output_type": "stream",
     "text": [
      "已保存 ./data/PubMed/split\\SEAL_train_neg_batch259.pt，当前内存占用率 43.5%\n"
     ]
    },
    {
     "name": "stderr",
     "output_type": "stream",
     "text": [
      "保存 ./data/PubMed/split\\SEAL_train_neg 分批文件:  69%|██████▉   | 261/377 [02:42<01:22,  1.41batch/s]"
     ]
    },
    {
     "name": "stdout",
     "output_type": "stream",
     "text": [
      "已保存 ./data/PubMed/split\\SEAL_train_neg_batch260.pt，当前内存占用率 43.6%\n"
     ]
    },
    {
     "name": "stderr",
     "output_type": "stream",
     "text": [
      "保存 ./data/PubMed/split\\SEAL_train_neg 分批文件:  69%|██████▉   | 262/377 [02:43<01:23,  1.38batch/s]"
     ]
    },
    {
     "name": "stdout",
     "output_type": "stream",
     "text": [
      "已保存 ./data/PubMed/split\\SEAL_train_neg_batch261.pt，当前内存占用率 43.5%\n"
     ]
    },
    {
     "name": "stderr",
     "output_type": "stream",
     "text": [
      "保存 ./data/PubMed/split\\SEAL_train_neg 分批文件:  70%|██████▉   | 263/377 [02:43<01:21,  1.41batch/s]"
     ]
    },
    {
     "name": "stdout",
     "output_type": "stream",
     "text": [
      "已保存 ./data/PubMed/split\\SEAL_train_neg_batch262.pt，当前内存占用率 43.6%\n"
     ]
    },
    {
     "name": "stderr",
     "output_type": "stream",
     "text": [
      "保存 ./data/PubMed/split\\SEAL_train_neg 分批文件:  70%|███████   | 264/377 [02:44<01:25,  1.33batch/s]"
     ]
    },
    {
     "name": "stdout",
     "output_type": "stream",
     "text": [
      "已保存 ./data/PubMed/split\\SEAL_train_neg_batch263.pt，当前内存占用率 43.7%\n"
     ]
    },
    {
     "name": "stderr",
     "output_type": "stream",
     "text": [
      "保存 ./data/PubMed/split\\SEAL_train_neg 分批文件:  70%|███████   | 265/377 [02:45<01:23,  1.34batch/s]"
     ]
    },
    {
     "name": "stdout",
     "output_type": "stream",
     "text": [
      "已保存 ./data/PubMed/split\\SEAL_train_neg_batch264.pt，当前内存占用率 43.7%\n"
     ]
    },
    {
     "name": "stderr",
     "output_type": "stream",
     "text": [
      "保存 ./data/PubMed/split\\SEAL_train_neg 分批文件:  71%|███████   | 266/377 [02:46<01:23,  1.33batch/s]"
     ]
    },
    {
     "name": "stdout",
     "output_type": "stream",
     "text": [
      "已保存 ./data/PubMed/split\\SEAL_train_neg_batch265.pt，当前内存占用率 43.6%\n"
     ]
    },
    {
     "name": "stderr",
     "output_type": "stream",
     "text": [
      "保存 ./data/PubMed/split\\SEAL_train_neg 分批文件:  71%|███████   | 267/377 [02:46<01:17,  1.41batch/s]"
     ]
    },
    {
     "name": "stdout",
     "output_type": "stream",
     "text": [
      "已保存 ./data/PubMed/split\\SEAL_train_neg_batch266.pt，当前内存占用率 43.6%\n"
     ]
    },
    {
     "name": "stderr",
     "output_type": "stream",
     "text": [
      "保存 ./data/PubMed/split\\SEAL_train_neg 分批文件:  71%|███████   | 268/377 [02:47<01:13,  1.48batch/s]"
     ]
    },
    {
     "name": "stdout",
     "output_type": "stream",
     "text": [
      "已保存 ./data/PubMed/split\\SEAL_train_neg_batch267.pt，当前内存占用率 43.6%\n"
     ]
    },
    {
     "name": "stderr",
     "output_type": "stream",
     "text": [
      "保存 ./data/PubMed/split\\SEAL_train_neg 分批文件:  71%|███████▏  | 269/377 [02:47<01:09,  1.54batch/s]"
     ]
    },
    {
     "name": "stdout",
     "output_type": "stream",
     "text": [
      "已保存 ./data/PubMed/split\\SEAL_train_neg_batch268.pt，当前内存占用率 43.6%\n"
     ]
    },
    {
     "name": "stderr",
     "output_type": "stream",
     "text": [
      "保存 ./data/PubMed/split\\SEAL_train_neg 分批文件:  72%|███████▏  | 270/377 [02:48<01:06,  1.60batch/s]"
     ]
    },
    {
     "name": "stdout",
     "output_type": "stream",
     "text": [
      "已保存 ./data/PubMed/split\\SEAL_train_neg_batch269.pt，当前内存占用率 43.6%\n"
     ]
    },
    {
     "name": "stderr",
     "output_type": "stream",
     "text": [
      "保存 ./data/PubMed/split\\SEAL_train_neg 分批文件:  72%|███████▏  | 271/377 [02:49<01:07,  1.58batch/s]"
     ]
    },
    {
     "name": "stdout",
     "output_type": "stream",
     "text": [
      "已保存 ./data/PubMed/split\\SEAL_train_neg_batch270.pt，当前内存占用率 43.6%\n"
     ]
    },
    {
     "name": "stderr",
     "output_type": "stream",
     "text": [
      "保存 ./data/PubMed/split\\SEAL_train_neg 分批文件:  72%|███████▏  | 272/377 [02:49<01:05,  1.61batch/s]"
     ]
    },
    {
     "name": "stdout",
     "output_type": "stream",
     "text": [
      "已保存 ./data/PubMed/split\\SEAL_train_neg_batch271.pt，当前内存占用率 43.6%\n"
     ]
    },
    {
     "name": "stderr",
     "output_type": "stream",
     "text": [
      "保存 ./data/PubMed/split\\SEAL_train_neg 分批文件:  72%|███████▏  | 273/377 [02:50<01:03,  1.63batch/s]"
     ]
    },
    {
     "name": "stdout",
     "output_type": "stream",
     "text": [
      "已保存 ./data/PubMed/split\\SEAL_train_neg_batch272.pt，当前内存占用率 43.7%\n"
     ]
    },
    {
     "name": "stderr",
     "output_type": "stream",
     "text": [
      "保存 ./data/PubMed/split\\SEAL_train_neg 分批文件:  73%|███████▎  | 274/377 [02:50<01:02,  1.65batch/s]"
     ]
    },
    {
     "name": "stdout",
     "output_type": "stream",
     "text": [
      "已保存 ./data/PubMed/split\\SEAL_train_neg_batch273.pt，当前内存占用率 43.7%\n"
     ]
    },
    {
     "name": "stderr",
     "output_type": "stream",
     "text": [
      "保存 ./data/PubMed/split\\SEAL_train_neg 分批文件:  73%|███████▎  | 275/377 [02:51<01:02,  1.63batch/s]"
     ]
    },
    {
     "name": "stdout",
     "output_type": "stream",
     "text": [
      "已保存 ./data/PubMed/split\\SEAL_train_neg_batch274.pt，当前内存占用率 43.8%\n"
     ]
    },
    {
     "name": "stderr",
     "output_type": "stream",
     "text": [
      "保存 ./data/PubMed/split\\SEAL_train_neg 分批文件:  73%|███████▎  | 276/377 [02:52<01:03,  1.59batch/s]"
     ]
    },
    {
     "name": "stdout",
     "output_type": "stream",
     "text": [
      "已保存 ./data/PubMed/split\\SEAL_train_neg_batch275.pt，当前内存占用率 43.7%\n"
     ]
    },
    {
     "name": "stderr",
     "output_type": "stream",
     "text": [
      "保存 ./data/PubMed/split\\SEAL_train_neg 分批文件:  73%|███████▎  | 277/377 [02:52<01:01,  1.62batch/s]"
     ]
    },
    {
     "name": "stdout",
     "output_type": "stream",
     "text": [
      "已保存 ./data/PubMed/split\\SEAL_train_neg_batch276.pt，当前内存占用率 43.6%\n"
     ]
    },
    {
     "name": "stderr",
     "output_type": "stream",
     "text": [
      "保存 ./data/PubMed/split\\SEAL_train_neg 分批文件:  74%|███████▎  | 278/377 [02:53<01:00,  1.64batch/s]"
     ]
    },
    {
     "name": "stdout",
     "output_type": "stream",
     "text": [
      "已保存 ./data/PubMed/split\\SEAL_train_neg_batch277.pt，当前内存占用率 43.7%\n"
     ]
    },
    {
     "name": "stderr",
     "output_type": "stream",
     "text": [
      "保存 ./data/PubMed/split\\SEAL_train_neg 分批文件:  74%|███████▍  | 279/377 [02:53<01:00,  1.63batch/s]"
     ]
    },
    {
     "name": "stdout",
     "output_type": "stream",
     "text": [
      "已保存 ./data/PubMed/split\\SEAL_train_neg_batch278.pt，当前内存占用率 43.7%\n"
     ]
    },
    {
     "name": "stderr",
     "output_type": "stream",
     "text": [
      "保存 ./data/PubMed/split\\SEAL_train_neg 分批文件:  74%|███████▍  | 280/377 [02:54<00:58,  1.66batch/s]"
     ]
    },
    {
     "name": "stdout",
     "output_type": "stream",
     "text": [
      "已保存 ./data/PubMed/split\\SEAL_train_neg_batch279.pt，当前内存占用率 43.7%\n"
     ]
    },
    {
     "name": "stderr",
     "output_type": "stream",
     "text": [
      "保存 ./data/PubMed/split\\SEAL_train_neg 分批文件:  75%|███████▍  | 281/377 [02:55<00:58,  1.65batch/s]"
     ]
    },
    {
     "name": "stdout",
     "output_type": "stream",
     "text": [
      "已保存 ./data/PubMed/split\\SEAL_train_neg_batch280.pt，当前内存占用率 43.6%\n"
     ]
    },
    {
     "name": "stderr",
     "output_type": "stream",
     "text": [
      "保存 ./data/PubMed/split\\SEAL_train_neg 分批文件:  75%|███████▍  | 282/377 [02:55<00:56,  1.68batch/s]"
     ]
    },
    {
     "name": "stdout",
     "output_type": "stream",
     "text": [
      "已保存 ./data/PubMed/split\\SEAL_train_neg_batch281.pt，当前内存占用率 43.6%\n"
     ]
    },
    {
     "name": "stderr",
     "output_type": "stream",
     "text": [
      "保存 ./data/PubMed/split\\SEAL_train_neg 分批文件:  75%|███████▌  | 283/377 [02:56<00:56,  1.65batch/s]"
     ]
    },
    {
     "name": "stdout",
     "output_type": "stream",
     "text": [
      "已保存 ./data/PubMed/split\\SEAL_train_neg_batch282.pt，当前内存占用率 43.7%\n"
     ]
    },
    {
     "name": "stderr",
     "output_type": "stream",
     "text": [
      "保存 ./data/PubMed/split\\SEAL_train_neg 分批文件:  75%|███████▌  | 284/377 [02:56<00:54,  1.72batch/s]"
     ]
    },
    {
     "name": "stdout",
     "output_type": "stream",
     "text": [
      "已保存 ./data/PubMed/split\\SEAL_train_neg_batch283.pt，当前内存占用率 43.7%\n"
     ]
    },
    {
     "name": "stderr",
     "output_type": "stream",
     "text": [
      "保存 ./data/PubMed/split\\SEAL_train_neg 分批文件:  76%|███████▌  | 285/377 [02:57<00:53,  1.72batch/s]"
     ]
    },
    {
     "name": "stdout",
     "output_type": "stream",
     "text": [
      "已保存 ./data/PubMed/split\\SEAL_train_neg_batch284.pt，当前内存占用率 43.7%\n"
     ]
    },
    {
     "name": "stderr",
     "output_type": "stream",
     "text": [
      "保存 ./data/PubMed/split\\SEAL_train_neg 分批文件:  76%|███████▌  | 286/377 [02:58<00:55,  1.65batch/s]"
     ]
    },
    {
     "name": "stdout",
     "output_type": "stream",
     "text": [
      "已保存 ./data/PubMed/split\\SEAL_train_neg_batch285.pt，当前内存占用率 43.6%\n"
     ]
    },
    {
     "name": "stderr",
     "output_type": "stream",
     "text": [
      "保存 ./data/PubMed/split\\SEAL_train_neg 分批文件:  76%|███████▌  | 287/377 [02:58<00:54,  1.65batch/s]"
     ]
    },
    {
     "name": "stdout",
     "output_type": "stream",
     "text": [
      "已保存 ./data/PubMed/split\\SEAL_train_neg_batch286.pt，当前内存占用率 43.6%\n"
     ]
    },
    {
     "name": "stderr",
     "output_type": "stream",
     "text": [
      "保存 ./data/PubMed/split\\SEAL_train_neg 分批文件:  76%|███████▋  | 288/377 [02:59<00:53,  1.66batch/s]"
     ]
    },
    {
     "name": "stdout",
     "output_type": "stream",
     "text": [
      "已保存 ./data/PubMed/split\\SEAL_train_neg_batch287.pt，当前内存占用率 43.6%\n"
     ]
    },
    {
     "name": "stderr",
     "output_type": "stream",
     "text": [
      "保存 ./data/PubMed/split\\SEAL_train_neg 分批文件:  77%|███████▋  | 289/377 [02:59<00:53,  1.64batch/s]"
     ]
    },
    {
     "name": "stdout",
     "output_type": "stream",
     "text": [
      "已保存 ./data/PubMed/split\\SEAL_train_neg_batch288.pt，当前内存占用率 43.7%\n"
     ]
    },
    {
     "name": "stderr",
     "output_type": "stream",
     "text": [
      "保存 ./data/PubMed/split\\SEAL_train_neg 分批文件:  77%|███████▋  | 290/377 [03:00<00:53,  1.63batch/s]"
     ]
    },
    {
     "name": "stdout",
     "output_type": "stream",
     "text": [
      "已保存 ./data/PubMed/split\\SEAL_train_neg_batch289.pt，当前内存占用率 43.6%\n"
     ]
    },
    {
     "name": "stderr",
     "output_type": "stream",
     "text": [
      "保存 ./data/PubMed/split\\SEAL_train_neg 分批文件:  77%|███████▋  | 291/377 [03:01<00:54,  1.59batch/s]"
     ]
    },
    {
     "name": "stdout",
     "output_type": "stream",
     "text": [
      "已保存 ./data/PubMed/split\\SEAL_train_neg_batch290.pt，当前内存占用率 43.6%\n"
     ]
    },
    {
     "name": "stderr",
     "output_type": "stream",
     "text": [
      "保存 ./data/PubMed/split\\SEAL_train_neg 分批文件:  77%|███████▋  | 292/377 [03:01<00:52,  1.62batch/s]"
     ]
    },
    {
     "name": "stdout",
     "output_type": "stream",
     "text": [
      "已保存 ./data/PubMed/split\\SEAL_train_neg_batch291.pt，当前内存占用率 43.6%\n"
     ]
    },
    {
     "name": "stderr",
     "output_type": "stream",
     "text": [
      "保存 ./data/PubMed/split\\SEAL_train_neg 分批文件:  78%|███████▊  | 293/377 [03:02<00:50,  1.66batch/s]"
     ]
    },
    {
     "name": "stdout",
     "output_type": "stream",
     "text": [
      "已保存 ./data/PubMed/split\\SEAL_train_neg_batch292.pt，当前内存占用率 43.6%\n"
     ]
    },
    {
     "name": "stderr",
     "output_type": "stream",
     "text": [
      "保存 ./data/PubMed/split\\SEAL_train_neg 分批文件:  78%|███████▊  | 294/377 [03:03<00:50,  1.63batch/s]"
     ]
    },
    {
     "name": "stdout",
     "output_type": "stream",
     "text": [
      "已保存 ./data/PubMed/split\\SEAL_train_neg_batch293.pt，当前内存占用率 43.7%\n"
     ]
    },
    {
     "name": "stderr",
     "output_type": "stream",
     "text": [
      "保存 ./data/PubMed/split\\SEAL_train_neg 分批文件:  78%|███████▊  | 295/377 [03:03<00:51,  1.60batch/s]"
     ]
    },
    {
     "name": "stdout",
     "output_type": "stream",
     "text": [
      "已保存 ./data/PubMed/split\\SEAL_train_neg_batch294.pt，当前内存占用率 43.7%\n"
     ]
    },
    {
     "name": "stderr",
     "output_type": "stream",
     "text": [
      "保存 ./data/PubMed/split\\SEAL_train_neg 分批文件:  79%|███████▊  | 296/377 [03:04<00:50,  1.62batch/s]"
     ]
    },
    {
     "name": "stdout",
     "output_type": "stream",
     "text": [
      "已保存 ./data/PubMed/split\\SEAL_train_neg_batch295.pt，当前内存占用率 43.7%\n"
     ]
    },
    {
     "name": "stderr",
     "output_type": "stream",
     "text": [
      "保存 ./data/PubMed/split\\SEAL_train_neg 分批文件:  79%|███████▉  | 297/377 [03:04<00:48,  1.66batch/s]"
     ]
    },
    {
     "name": "stdout",
     "output_type": "stream",
     "text": [
      "已保存 ./data/PubMed/split\\SEAL_train_neg_batch296.pt，当前内存占用率 43.6%\n"
     ]
    },
    {
     "name": "stderr",
     "output_type": "stream",
     "text": [
      "保存 ./data/PubMed/split\\SEAL_train_neg 分批文件:  79%|███████▉  | 298/377 [03:05<00:49,  1.60batch/s]"
     ]
    },
    {
     "name": "stdout",
     "output_type": "stream",
     "text": [
      "已保存 ./data/PubMed/split\\SEAL_train_neg_batch297.pt，当前内存占用率 43.7%\n"
     ]
    },
    {
     "name": "stderr",
     "output_type": "stream",
     "text": [
      "保存 ./data/PubMed/split\\SEAL_train_neg 分批文件:  79%|███████▉  | 299/377 [03:06<00:47,  1.63batch/s]"
     ]
    },
    {
     "name": "stdout",
     "output_type": "stream",
     "text": [
      "已保存 ./data/PubMed/split\\SEAL_train_neg_batch298.pt，当前内存占用率 43.5%\n"
     ]
    },
    {
     "name": "stderr",
     "output_type": "stream",
     "text": [
      "保存 ./data/PubMed/split\\SEAL_train_neg 分批文件:  80%|███████▉  | 300/377 [03:06<00:47,  1.63batch/s]"
     ]
    },
    {
     "name": "stdout",
     "output_type": "stream",
     "text": [
      "已保存 ./data/PubMed/split\\SEAL_train_neg_batch299.pt，当前内存占用率 43.6%\n"
     ]
    },
    {
     "name": "stderr",
     "output_type": "stream",
     "text": [
      "保存 ./data/PubMed/split\\SEAL_train_neg 分批文件:  80%|███████▉  | 301/377 [03:07<00:46,  1.65batch/s]"
     ]
    },
    {
     "name": "stdout",
     "output_type": "stream",
     "text": [
      "已保存 ./data/PubMed/split\\SEAL_train_neg_batch300.pt，当前内存占用率 43.6%\n"
     ]
    },
    {
     "name": "stderr",
     "output_type": "stream",
     "text": [
      "保存 ./data/PubMed/split\\SEAL_train_neg 分批文件:  80%|████████  | 302/377 [03:07<00:45,  1.64batch/s]"
     ]
    },
    {
     "name": "stdout",
     "output_type": "stream",
     "text": [
      "已保存 ./data/PubMed/split\\SEAL_train_neg_batch301.pt，当前内存占用率 43.6%\n"
     ]
    },
    {
     "name": "stderr",
     "output_type": "stream",
     "text": [
      "保存 ./data/PubMed/split\\SEAL_train_neg 分批文件:  80%|████████  | 303/377 [03:08<00:45,  1.62batch/s]"
     ]
    },
    {
     "name": "stdout",
     "output_type": "stream",
     "text": [
      "已保存 ./data/PubMed/split\\SEAL_train_neg_batch302.pt，当前内存占用率 43.6%\n"
     ]
    },
    {
     "name": "stderr",
     "output_type": "stream",
     "text": [
      "保存 ./data/PubMed/split\\SEAL_train_neg 分批文件:  81%|████████  | 304/377 [03:09<00:44,  1.62batch/s]"
     ]
    },
    {
     "name": "stdout",
     "output_type": "stream",
     "text": [
      "已保存 ./data/PubMed/split\\SEAL_train_neg_batch303.pt，当前内存占用率 43.6%\n"
     ]
    },
    {
     "name": "stderr",
     "output_type": "stream",
     "text": [
      "保存 ./data/PubMed/split\\SEAL_train_neg 分批文件:  81%|████████  | 305/377 [03:09<00:43,  1.67batch/s]"
     ]
    },
    {
     "name": "stdout",
     "output_type": "stream",
     "text": [
      "已保存 ./data/PubMed/split\\SEAL_train_neg_batch304.pt，当前内存占用率 43.5%\n"
     ]
    },
    {
     "name": "stderr",
     "output_type": "stream",
     "text": [
      "保存 ./data/PubMed/split\\SEAL_train_neg 分批文件:  81%|████████  | 306/377 [03:10<00:42,  1.66batch/s]"
     ]
    },
    {
     "name": "stdout",
     "output_type": "stream",
     "text": [
      "已保存 ./data/PubMed/split\\SEAL_train_neg_batch305.pt，当前内存占用率 43.5%\n"
     ]
    },
    {
     "name": "stderr",
     "output_type": "stream",
     "text": [
      "保存 ./data/PubMed/split\\SEAL_train_neg 分批文件:  81%|████████▏ | 307/377 [03:10<00:41,  1.69batch/s]"
     ]
    },
    {
     "name": "stdout",
     "output_type": "stream",
     "text": [
      "已保存 ./data/PubMed/split\\SEAL_train_neg_batch306.pt，当前内存占用率 43.5%\n"
     ]
    },
    {
     "name": "stderr",
     "output_type": "stream",
     "text": [
      "保存 ./data/PubMed/split\\SEAL_train_neg 分批文件:  82%|████████▏ | 308/377 [03:11<00:42,  1.63batch/s]"
     ]
    },
    {
     "name": "stdout",
     "output_type": "stream",
     "text": [
      "已保存 ./data/PubMed/split\\SEAL_train_neg_batch307.pt，当前内存占用率 43.5%\n"
     ]
    },
    {
     "name": "stderr",
     "output_type": "stream",
     "text": [
      "保存 ./data/PubMed/split\\SEAL_train_neg 分批文件:  82%|████████▏ | 309/377 [03:12<00:40,  1.69batch/s]"
     ]
    },
    {
     "name": "stdout",
     "output_type": "stream",
     "text": [
      "已保存 ./data/PubMed/split\\SEAL_train_neg_batch308.pt，当前内存占用率 43.5%\n"
     ]
    },
    {
     "name": "stderr",
     "output_type": "stream",
     "text": [
      "保存 ./data/PubMed/split\\SEAL_train_neg 分批文件:  82%|████████▏ | 310/377 [03:12<00:40,  1.67batch/s]"
     ]
    },
    {
     "name": "stdout",
     "output_type": "stream",
     "text": [
      "已保存 ./data/PubMed/split\\SEAL_train_neg_batch309.pt，当前内存占用率 43.6%\n"
     ]
    },
    {
     "name": "stderr",
     "output_type": "stream",
     "text": [
      "保存 ./data/PubMed/split\\SEAL_train_neg 分批文件:  82%|████████▏ | 311/377 [03:13<00:40,  1.64batch/s]"
     ]
    },
    {
     "name": "stdout",
     "output_type": "stream",
     "text": [
      "已保存 ./data/PubMed/split\\SEAL_train_neg_batch310.pt，当前内存占用率 43.5%\n"
     ]
    },
    {
     "name": "stderr",
     "output_type": "stream",
     "text": [
      "保存 ./data/PubMed/split\\SEAL_train_neg 分批文件:  83%|████████▎ | 312/377 [03:13<00:39,  1.65batch/s]"
     ]
    },
    {
     "name": "stdout",
     "output_type": "stream",
     "text": [
      "已保存 ./data/PubMed/split\\SEAL_train_neg_batch311.pt，当前内存占用率 43.5%\n"
     ]
    },
    {
     "name": "stderr",
     "output_type": "stream",
     "text": [
      "保存 ./data/PubMed/split\\SEAL_train_neg 分批文件:  83%|████████▎ | 313/377 [03:14<00:39,  1.61batch/s]"
     ]
    },
    {
     "name": "stdout",
     "output_type": "stream",
     "text": [
      "已保存 ./data/PubMed/split\\SEAL_train_neg_batch312.pt，当前内存占用率 43.5%\n"
     ]
    },
    {
     "name": "stderr",
     "output_type": "stream",
     "text": [
      "保存 ./data/PubMed/split\\SEAL_train_neg 分批文件:  83%|████████▎ | 314/377 [03:15<00:38,  1.62batch/s]"
     ]
    },
    {
     "name": "stdout",
     "output_type": "stream",
     "text": [
      "已保存 ./data/PubMed/split\\SEAL_train_neg_batch313.pt，当前内存占用率 43.5%\n"
     ]
    },
    {
     "name": "stderr",
     "output_type": "stream",
     "text": [
      "保存 ./data/PubMed/split\\SEAL_train_neg 分批文件:  84%|████████▎ | 315/377 [03:15<00:37,  1.63batch/s]"
     ]
    },
    {
     "name": "stdout",
     "output_type": "stream",
     "text": [
      "已保存 ./data/PubMed/split\\SEAL_train_neg_batch314.pt，当前内存占用率 43.5%\n"
     ]
    },
    {
     "name": "stderr",
     "output_type": "stream",
     "text": [
      "保存 ./data/PubMed/split\\SEAL_train_neg 分批文件:  84%|████████▍ | 316/377 [03:16<00:36,  1.66batch/s]"
     ]
    },
    {
     "name": "stdout",
     "output_type": "stream",
     "text": [
      "已保存 ./data/PubMed/split\\SEAL_train_neg_batch315.pt，当前内存占用率 43.5%\n"
     ]
    },
    {
     "name": "stderr",
     "output_type": "stream",
     "text": [
      "保存 ./data/PubMed/split\\SEAL_train_neg 分批文件:  84%|████████▍ | 317/377 [03:17<00:36,  1.67batch/s]"
     ]
    },
    {
     "name": "stdout",
     "output_type": "stream",
     "text": [
      "已保存 ./data/PubMed/split\\SEAL_train_neg_batch316.pt，当前内存占用率 43.5%\n"
     ]
    },
    {
     "name": "stderr",
     "output_type": "stream",
     "text": [
      "保存 ./data/PubMed/split\\SEAL_train_neg 分批文件:  84%|████████▍ | 318/377 [03:17<00:36,  1.62batch/s]"
     ]
    },
    {
     "name": "stdout",
     "output_type": "stream",
     "text": [
      "已保存 ./data/PubMed/split\\SEAL_train_neg_batch317.pt，当前内存占用率 43.5%\n"
     ]
    },
    {
     "name": "stderr",
     "output_type": "stream",
     "text": [
      "保存 ./data/PubMed/split\\SEAL_train_neg 分批文件:  85%|████████▍ | 319/377 [03:18<00:35,  1.65batch/s]"
     ]
    },
    {
     "name": "stdout",
     "output_type": "stream",
     "text": [
      "已保存 ./data/PubMed/split\\SEAL_train_neg_batch318.pt，当前内存占用率 43.5%\n"
     ]
    },
    {
     "name": "stderr",
     "output_type": "stream",
     "text": [
      "保存 ./data/PubMed/split\\SEAL_train_neg 分批文件:  85%|████████▍ | 320/377 [03:18<00:34,  1.67batch/s]"
     ]
    },
    {
     "name": "stdout",
     "output_type": "stream",
     "text": [
      "已保存 ./data/PubMed/split\\SEAL_train_neg_batch319.pt，当前内存占用率 43.5%\n"
     ]
    },
    {
     "name": "stderr",
     "output_type": "stream",
     "text": [
      "保存 ./data/PubMed/split\\SEAL_train_neg 分批文件:  85%|████████▌ | 321/377 [03:19<00:33,  1.66batch/s]"
     ]
    },
    {
     "name": "stdout",
     "output_type": "stream",
     "text": [
      "已保存 ./data/PubMed/split\\SEAL_train_neg_batch320.pt，当前内存占用率 43.6%\n"
     ]
    },
    {
     "name": "stderr",
     "output_type": "stream",
     "text": [
      "保存 ./data/PubMed/split\\SEAL_train_neg 分批文件:  85%|████████▌ | 322/377 [03:20<00:32,  1.69batch/s]"
     ]
    },
    {
     "name": "stdout",
     "output_type": "stream",
     "text": [
      "已保存 ./data/PubMed/split\\SEAL_train_neg_batch321.pt，当前内存占用率 43.5%\n"
     ]
    },
    {
     "name": "stderr",
     "output_type": "stream",
     "text": [
      "保存 ./data/PubMed/split\\SEAL_train_neg 分批文件:  86%|████████▌ | 323/377 [03:20<00:32,  1.64batch/s]"
     ]
    },
    {
     "name": "stdout",
     "output_type": "stream",
     "text": [
      "已保存 ./data/PubMed/split\\SEAL_train_neg_batch322.pt，当前内存占用率 43.5%\n"
     ]
    },
    {
     "name": "stderr",
     "output_type": "stream",
     "text": [
      "保存 ./data/PubMed/split\\SEAL_train_neg 分批文件:  86%|████████▌ | 324/377 [03:21<00:31,  1.67batch/s]"
     ]
    },
    {
     "name": "stdout",
     "output_type": "stream",
     "text": [
      "已保存 ./data/PubMed/split\\SEAL_train_neg_batch323.pt，当前内存占用率 43.5%\n"
     ]
    },
    {
     "name": "stderr",
     "output_type": "stream",
     "text": [
      "保存 ./data/PubMed/split\\SEAL_train_neg 分批文件:  86%|████████▌ | 325/377 [03:21<00:30,  1.71batch/s]"
     ]
    },
    {
     "name": "stdout",
     "output_type": "stream",
     "text": [
      "已保存 ./data/PubMed/split\\SEAL_train_neg_batch324.pt，当前内存占用率 43.5%\n"
     ]
    },
    {
     "name": "stderr",
     "output_type": "stream",
     "text": [
      "保存 ./data/PubMed/split\\SEAL_train_neg 分批文件:  86%|████████▋ | 326/377 [03:22<00:30,  1.70batch/s]"
     ]
    },
    {
     "name": "stdout",
     "output_type": "stream",
     "text": [
      "已保存 ./data/PubMed/split\\SEAL_train_neg_batch325.pt，当前内存占用率 43.5%\n"
     ]
    },
    {
     "name": "stderr",
     "output_type": "stream",
     "text": [
      "保存 ./data/PubMed/split\\SEAL_train_neg 分批文件:  87%|████████▋ | 327/377 [03:22<00:28,  1.73batch/s]"
     ]
    },
    {
     "name": "stdout",
     "output_type": "stream",
     "text": [
      "已保存 ./data/PubMed/split\\SEAL_train_neg_batch326.pt，当前内存占用率 43.5%\n"
     ]
    },
    {
     "name": "stderr",
     "output_type": "stream",
     "text": [
      "保存 ./data/PubMed/split\\SEAL_train_neg 分批文件:  87%|████████▋ | 328/377 [03:23<00:29,  1.67batch/s]"
     ]
    },
    {
     "name": "stdout",
     "output_type": "stream",
     "text": [
      "已保存 ./data/PubMed/split\\SEAL_train_neg_batch327.pt，当前内存占用率 43.5%\n"
     ]
    },
    {
     "name": "stderr",
     "output_type": "stream",
     "text": [
      "保存 ./data/PubMed/split\\SEAL_train_neg 分批文件:  87%|████████▋ | 329/377 [03:24<00:29,  1.64batch/s]"
     ]
    },
    {
     "name": "stdout",
     "output_type": "stream",
     "text": [
      "已保存 ./data/PubMed/split\\SEAL_train_neg_batch328.pt，当前内存占用率 43.5%\n"
     ]
    },
    {
     "name": "stderr",
     "output_type": "stream",
     "text": [
      "保存 ./data/PubMed/split\\SEAL_train_neg 分批文件:  88%|████████▊ | 330/377 [03:24<00:28,  1.67batch/s]"
     ]
    },
    {
     "name": "stdout",
     "output_type": "stream",
     "text": [
      "已保存 ./data/PubMed/split\\SEAL_train_neg_batch329.pt，当前内存占用率 43.5%\n"
     ]
    },
    {
     "name": "stderr",
     "output_type": "stream",
     "text": [
      "保存 ./data/PubMed/split\\SEAL_train_neg 分批文件:  88%|████████▊ | 331/377 [03:25<00:27,  1.66batch/s]"
     ]
    },
    {
     "name": "stdout",
     "output_type": "stream",
     "text": [
      "已保存 ./data/PubMed/split\\SEAL_train_neg_batch330.pt，当前内存占用率 43.5%\n"
     ]
    },
    {
     "name": "stderr",
     "output_type": "stream",
     "text": [
      "保存 ./data/PubMed/split\\SEAL_train_neg 分批文件:  88%|████████▊ | 332/377 [03:25<00:26,  1.68batch/s]"
     ]
    },
    {
     "name": "stdout",
     "output_type": "stream",
     "text": [
      "已保存 ./data/PubMed/split\\SEAL_train_neg_batch331.pt，当前内存占用率 43.5%\n"
     ]
    },
    {
     "name": "stderr",
     "output_type": "stream",
     "text": [
      "保存 ./data/PubMed/split\\SEAL_train_neg 分批文件:  88%|████████▊ | 333/377 [03:26<00:27,  1.61batch/s]"
     ]
    },
    {
     "name": "stdout",
     "output_type": "stream",
     "text": [
      "已保存 ./data/PubMed/split\\SEAL_train_neg_batch332.pt，当前内存占用率 43.5%\n"
     ]
    },
    {
     "name": "stderr",
     "output_type": "stream",
     "text": [
      "保存 ./data/PubMed/split\\SEAL_train_neg 分批文件:  89%|████████▊ | 334/377 [03:27<00:26,  1.62batch/s]"
     ]
    },
    {
     "name": "stdout",
     "output_type": "stream",
     "text": [
      "已保存 ./data/PubMed/split\\SEAL_train_neg_batch333.pt，当前内存占用率 43.5%\n"
     ]
    },
    {
     "name": "stderr",
     "output_type": "stream",
     "text": [
      "保存 ./data/PubMed/split\\SEAL_train_neg 分批文件:  89%|████████▉ | 335/377 [03:27<00:25,  1.62batch/s]"
     ]
    },
    {
     "name": "stdout",
     "output_type": "stream",
     "text": [
      "已保存 ./data/PubMed/split\\SEAL_train_neg_batch334.pt，当前内存占用率 43.5%\n"
     ]
    },
    {
     "name": "stderr",
     "output_type": "stream",
     "text": [
      "保存 ./data/PubMed/split\\SEAL_train_neg 分批文件:  89%|████████▉ | 336/377 [03:28<00:24,  1.69batch/s]"
     ]
    },
    {
     "name": "stdout",
     "output_type": "stream",
     "text": [
      "已保存 ./data/PubMed/split\\SEAL_train_neg_batch335.pt，当前内存占用率 43.5%\n"
     ]
    },
    {
     "name": "stderr",
     "output_type": "stream",
     "text": [
      "保存 ./data/PubMed/split\\SEAL_train_neg 分批文件:  89%|████████▉ | 337/377 [03:29<00:23,  1.70batch/s]"
     ]
    },
    {
     "name": "stdout",
     "output_type": "stream",
     "text": [
      "已保存 ./data/PubMed/split\\SEAL_train_neg_batch336.pt，当前内存占用率 43.5%\n"
     ]
    },
    {
     "name": "stderr",
     "output_type": "stream",
     "text": [
      "保存 ./data/PubMed/split\\SEAL_train_neg 分批文件:  90%|████████▉ | 338/377 [03:29<00:23,  1.69batch/s]"
     ]
    },
    {
     "name": "stdout",
     "output_type": "stream",
     "text": [
      "已保存 ./data/PubMed/split\\SEAL_train_neg_batch337.pt，当前内存占用率 43.5%\n"
     ]
    },
    {
     "name": "stderr",
     "output_type": "stream",
     "text": [
      "保存 ./data/PubMed/split\\SEAL_train_neg 分批文件:  90%|████████▉ | 339/377 [03:30<00:22,  1.69batch/s]"
     ]
    },
    {
     "name": "stdout",
     "output_type": "stream",
     "text": [
      "已保存 ./data/PubMed/split\\SEAL_train_neg_batch338.pt，当前内存占用率 43.5%\n"
     ]
    },
    {
     "name": "stderr",
     "output_type": "stream",
     "text": [
      "保存 ./data/PubMed/split\\SEAL_train_neg 分批文件:  90%|█████████ | 340/377 [03:30<00:21,  1.70batch/s]"
     ]
    },
    {
     "name": "stdout",
     "output_type": "stream",
     "text": [
      "已保存 ./data/PubMed/split\\SEAL_train_neg_batch339.pt，当前内存占用率 43.5%\n"
     ]
    },
    {
     "name": "stderr",
     "output_type": "stream",
     "text": [
      "保存 ./data/PubMed/split\\SEAL_train_neg 分批文件:  90%|█████████ | 341/377 [03:31<00:21,  1.68batch/s]"
     ]
    },
    {
     "name": "stdout",
     "output_type": "stream",
     "text": [
      "已保存 ./data/PubMed/split\\SEAL_train_neg_batch340.pt，当前内存占用率 43.5%\n"
     ]
    },
    {
     "name": "stderr",
     "output_type": "stream",
     "text": [
      "保存 ./data/PubMed/split\\SEAL_train_neg 分批文件:  91%|█████████ | 342/377 [03:31<00:20,  1.70batch/s]"
     ]
    },
    {
     "name": "stdout",
     "output_type": "stream",
     "text": [
      "已保存 ./data/PubMed/split\\SEAL_train_neg_batch341.pt，当前内存占用率 43.5%\n"
     ]
    },
    {
     "name": "stderr",
     "output_type": "stream",
     "text": [
      "保存 ./data/PubMed/split\\SEAL_train_neg 分批文件:  91%|█████████ | 343/377 [03:32<00:20,  1.67batch/s]"
     ]
    },
    {
     "name": "stdout",
     "output_type": "stream",
     "text": [
      "已保存 ./data/PubMed/split\\SEAL_train_neg_batch342.pt，当前内存占用率 43.5%\n"
     ]
    },
    {
     "name": "stderr",
     "output_type": "stream",
     "text": [
      "保存 ./data/PubMed/split\\SEAL_train_neg 分批文件:  91%|█████████ | 344/377 [03:33<00:19,  1.71batch/s]"
     ]
    },
    {
     "name": "stdout",
     "output_type": "stream",
     "text": [
      "已保存 ./data/PubMed/split\\SEAL_train_neg_batch343.pt，当前内存占用率 43.5%\n"
     ]
    },
    {
     "name": "stderr",
     "output_type": "stream",
     "text": [
      "保存 ./data/PubMed/split\\SEAL_train_neg 分批文件:  92%|█████████▏| 345/377 [03:33<00:19,  1.63batch/s]"
     ]
    },
    {
     "name": "stdout",
     "output_type": "stream",
     "text": [
      "已保存 ./data/PubMed/split\\SEAL_train_neg_batch344.pt，当前内存占用率 43.6%\n"
     ]
    },
    {
     "name": "stderr",
     "output_type": "stream",
     "text": [
      "保存 ./data/PubMed/split\\SEAL_train_neg 分批文件:  92%|█████████▏| 346/377 [03:34<00:19,  1.62batch/s]"
     ]
    },
    {
     "name": "stdout",
     "output_type": "stream",
     "text": [
      "已保存 ./data/PubMed/split\\SEAL_train_neg_batch345.pt，当前内存占用率 43.7%\n"
     ]
    },
    {
     "name": "stderr",
     "output_type": "stream",
     "text": [
      "保存 ./data/PubMed/split\\SEAL_train_neg 分批文件:  92%|█████████▏| 347/377 [03:35<00:19,  1.56batch/s]"
     ]
    },
    {
     "name": "stdout",
     "output_type": "stream",
     "text": [
      "已保存 ./data/PubMed/split\\SEAL_train_neg_batch346.pt，当前内存占用率 43.6%\n"
     ]
    },
    {
     "name": "stderr",
     "output_type": "stream",
     "text": [
      "保存 ./data/PubMed/split\\SEAL_train_neg 分批文件:  92%|█████████▏| 348/377 [03:35<00:19,  1.48batch/s]"
     ]
    },
    {
     "name": "stdout",
     "output_type": "stream",
     "text": [
      "已保存 ./data/PubMed/split\\SEAL_train_neg_batch347.pt，当前内存占用率 43.6%\n"
     ]
    },
    {
     "name": "stderr",
     "output_type": "stream",
     "text": [
      "保存 ./data/PubMed/split\\SEAL_train_neg 分批文件:  93%|█████████▎| 349/377 [03:36<00:18,  1.53batch/s]"
     ]
    },
    {
     "name": "stdout",
     "output_type": "stream",
     "text": [
      "已保存 ./data/PubMed/split\\SEAL_train_neg_batch348.pt，当前内存占用率 43.6%\n"
     ]
    },
    {
     "name": "stderr",
     "output_type": "stream",
     "text": [
      "保存 ./data/PubMed/split\\SEAL_train_neg 分批文件:  93%|█████████▎| 350/377 [03:37<00:17,  1.57batch/s]"
     ]
    },
    {
     "name": "stdout",
     "output_type": "stream",
     "text": [
      "已保存 ./data/PubMed/split\\SEAL_train_neg_batch349.pt，当前内存占用率 43.6%\n"
     ]
    },
    {
     "name": "stderr",
     "output_type": "stream",
     "text": [
      "保存 ./data/PubMed/split\\SEAL_train_neg 分批文件:  93%|█████████▎| 351/377 [03:37<00:16,  1.53batch/s]"
     ]
    },
    {
     "name": "stdout",
     "output_type": "stream",
     "text": [
      "已保存 ./data/PubMed/split\\SEAL_train_neg_batch350.pt，当前内存占用率 43.6%\n"
     ]
    },
    {
     "name": "stderr",
     "output_type": "stream",
     "text": [
      "保存 ./data/PubMed/split\\SEAL_train_neg 分批文件:  93%|█████████▎| 352/377 [03:38<00:16,  1.54batch/s]"
     ]
    },
    {
     "name": "stdout",
     "output_type": "stream",
     "text": [
      "已保存 ./data/PubMed/split\\SEAL_train_neg_batch351.pt，当前内存占用率 43.7%\n"
     ]
    },
    {
     "name": "stderr",
     "output_type": "stream",
     "text": [
      "保存 ./data/PubMed/split\\SEAL_train_neg 分批文件:  94%|█████████▎| 353/377 [03:39<00:15,  1.52batch/s]"
     ]
    },
    {
     "name": "stdout",
     "output_type": "stream",
     "text": [
      "已保存 ./data/PubMed/split\\SEAL_train_neg_batch352.pt，当前内存占用率 43.6%\n"
     ]
    },
    {
     "name": "stderr",
     "output_type": "stream",
     "text": [
      "保存 ./data/PubMed/split\\SEAL_train_neg 分批文件:  94%|█████████▍| 354/377 [03:39<00:14,  1.60batch/s]"
     ]
    },
    {
     "name": "stdout",
     "output_type": "stream",
     "text": [
      "已保存 ./data/PubMed/split\\SEAL_train_neg_batch353.pt，当前内存占用率 43.6%\n"
     ]
    },
    {
     "name": "stderr",
     "output_type": "stream",
     "text": [
      "保存 ./data/PubMed/split\\SEAL_train_neg 分批文件:  94%|█████████▍| 355/377 [03:40<00:14,  1.54batch/s]"
     ]
    },
    {
     "name": "stdout",
     "output_type": "stream",
     "text": [
      "已保存 ./data/PubMed/split\\SEAL_train_neg_batch354.pt，当前内存占用率 43.6%\n"
     ]
    },
    {
     "name": "stderr",
     "output_type": "stream",
     "text": [
      "保存 ./data/PubMed/split\\SEAL_train_neg 分批文件:  94%|█████████▍| 356/377 [03:41<00:13,  1.50batch/s]"
     ]
    },
    {
     "name": "stdout",
     "output_type": "stream",
     "text": [
      "已保存 ./data/PubMed/split\\SEAL_train_neg_batch355.pt，当前内存占用率 43.7%\n"
     ]
    },
    {
     "name": "stderr",
     "output_type": "stream",
     "text": [
      "保存 ./data/PubMed/split\\SEAL_train_neg 分批文件:  95%|█████████▍| 357/377 [03:41<00:13,  1.53batch/s]"
     ]
    },
    {
     "name": "stdout",
     "output_type": "stream",
     "text": [
      "已保存 ./data/PubMed/split\\SEAL_train_neg_batch356.pt，当前内存占用率 43.7%\n"
     ]
    },
    {
     "name": "stderr",
     "output_type": "stream",
     "text": [
      "保存 ./data/PubMed/split\\SEAL_train_neg 分批文件:  95%|█████████▍| 358/377 [03:42<00:12,  1.49batch/s]"
     ]
    },
    {
     "name": "stdout",
     "output_type": "stream",
     "text": [
      "已保存 ./data/PubMed/split\\SEAL_train_neg_batch357.pt，当前内存占用率 43.6%\n"
     ]
    },
    {
     "name": "stderr",
     "output_type": "stream",
     "text": [
      "保存 ./data/PubMed/split\\SEAL_train_neg 分批文件:  95%|█████████▌| 359/377 [03:43<00:12,  1.44batch/s]"
     ]
    },
    {
     "name": "stdout",
     "output_type": "stream",
     "text": [
      "已保存 ./data/PubMed/split\\SEAL_train_neg_batch358.pt，当前内存占用率 43.7%\n"
     ]
    },
    {
     "name": "stderr",
     "output_type": "stream",
     "text": [
      "保存 ./data/PubMed/split\\SEAL_train_neg 分批文件:  95%|█████████▌| 360/377 [03:43<00:12,  1.41batch/s]"
     ]
    },
    {
     "name": "stdout",
     "output_type": "stream",
     "text": [
      "已保存 ./data/PubMed/split\\SEAL_train_neg_batch359.pt，当前内存占用率 43.6%\n"
     ]
    },
    {
     "name": "stderr",
     "output_type": "stream",
     "text": [
      "保存 ./data/PubMed/split\\SEAL_train_neg 分批文件:  96%|█████████▌| 361/377 [03:44<00:11,  1.37batch/s]"
     ]
    },
    {
     "name": "stdout",
     "output_type": "stream",
     "text": [
      "已保存 ./data/PubMed/split\\SEAL_train_neg_batch360.pt，当前内存占用率 43.6%\n"
     ]
    },
    {
     "name": "stderr",
     "output_type": "stream",
     "text": [
      "保存 ./data/PubMed/split\\SEAL_train_neg 分批文件:  96%|█████████▌| 362/377 [03:45<00:10,  1.41batch/s]"
     ]
    },
    {
     "name": "stdout",
     "output_type": "stream",
     "text": [
      "已保存 ./data/PubMed/split\\SEAL_train_neg_batch361.pt，当前内存占用率 43.9%\n"
     ]
    },
    {
     "name": "stderr",
     "output_type": "stream",
     "text": [
      "保存 ./data/PubMed/split\\SEAL_train_neg 分批文件:  96%|█████████▋| 363/377 [03:46<00:09,  1.42batch/s]"
     ]
    },
    {
     "name": "stdout",
     "output_type": "stream",
     "text": [
      "已保存 ./data/PubMed/split\\SEAL_train_neg_batch362.pt，当前内存占用率 43.6%\n"
     ]
    },
    {
     "name": "stderr",
     "output_type": "stream",
     "text": [
      "保存 ./data/PubMed/split\\SEAL_train_neg 分批文件:  97%|█████████▋| 364/377 [03:46<00:09,  1.44batch/s]"
     ]
    },
    {
     "name": "stdout",
     "output_type": "stream",
     "text": [
      "已保存 ./data/PubMed/split\\SEAL_train_neg_batch363.pt，当前内存占用率 43.7%\n"
     ]
    },
    {
     "name": "stderr",
     "output_type": "stream",
     "text": [
      "保存 ./data/PubMed/split\\SEAL_train_neg 分批文件:  97%|█████████▋| 365/377 [03:47<00:08,  1.44batch/s]"
     ]
    },
    {
     "name": "stdout",
     "output_type": "stream",
     "text": [
      "已保存 ./data/PubMed/split\\SEAL_train_neg_batch364.pt，当前内存占用率 43.6%\n"
     ]
    },
    {
     "name": "stderr",
     "output_type": "stream",
     "text": [
      "保存 ./data/PubMed/split\\SEAL_train_neg 分批文件:  97%|█████████▋| 366/377 [03:48<00:08,  1.36batch/s]"
     ]
    },
    {
     "name": "stdout",
     "output_type": "stream",
     "text": [
      "已保存 ./data/PubMed/split\\SEAL_train_neg_batch365.pt，当前内存占用率 43.6%\n"
     ]
    },
    {
     "name": "stderr",
     "output_type": "stream",
     "text": [
      "保存 ./data/PubMed/split\\SEAL_train_neg 分批文件:  97%|█████████▋| 367/377 [03:48<00:07,  1.39batch/s]"
     ]
    },
    {
     "name": "stdout",
     "output_type": "stream",
     "text": [
      "已保存 ./data/PubMed/split\\SEAL_train_neg_batch366.pt，当前内存占用率 43.6%\n"
     ]
    },
    {
     "name": "stderr",
     "output_type": "stream",
     "text": [
      "保存 ./data/PubMed/split\\SEAL_train_neg 分批文件:  98%|█████████▊| 368/377 [03:49<00:06,  1.29batch/s]"
     ]
    },
    {
     "name": "stdout",
     "output_type": "stream",
     "text": [
      "已保存 ./data/PubMed/split\\SEAL_train_neg_batch367.pt，当前内存占用率 43.6%\n"
     ]
    },
    {
     "name": "stderr",
     "output_type": "stream",
     "text": [
      "保存 ./data/PubMed/split\\SEAL_train_neg 分批文件:  98%|█████████▊| 369/377 [03:50<00:06,  1.29batch/s]"
     ]
    },
    {
     "name": "stdout",
     "output_type": "stream",
     "text": [
      "已保存 ./data/PubMed/split\\SEAL_train_neg_batch368.pt，当前内存占用率 43.6%\n"
     ]
    },
    {
     "name": "stderr",
     "output_type": "stream",
     "text": [
      "保存 ./data/PubMed/split\\SEAL_train_neg 分批文件:  98%|█████████▊| 370/377 [03:51<00:05,  1.37batch/s]"
     ]
    },
    {
     "name": "stdout",
     "output_type": "stream",
     "text": [
      "已保存 ./data/PubMed/split\\SEAL_train_neg_batch369.pt，当前内存占用率 43.6%\n"
     ]
    },
    {
     "name": "stderr",
     "output_type": "stream",
     "text": [
      "保存 ./data/PubMed/split\\SEAL_train_neg 分批文件:  98%|█████████▊| 371/377 [03:51<00:04,  1.35batch/s]"
     ]
    },
    {
     "name": "stdout",
     "output_type": "stream",
     "text": [
      "已保存 ./data/PubMed/split\\SEAL_train_neg_batch370.pt，当前内存占用率 43.6%\n"
     ]
    },
    {
     "name": "stderr",
     "output_type": "stream",
     "text": [
      "保存 ./data/PubMed/split\\SEAL_train_neg 分批文件:  99%|█████████▊| 372/377 [03:52<00:03,  1.33batch/s]"
     ]
    },
    {
     "name": "stdout",
     "output_type": "stream",
     "text": [
      "已保存 ./data/PubMed/split\\SEAL_train_neg_batch371.pt，当前内存占用率 43.6%\n"
     ]
    },
    {
     "name": "stderr",
     "output_type": "stream",
     "text": [
      "保存 ./data/PubMed/split\\SEAL_train_neg 分批文件:  99%|█████████▉| 373/377 [03:53<00:02,  1.39batch/s]"
     ]
    },
    {
     "name": "stdout",
     "output_type": "stream",
     "text": [
      "已保存 ./data/PubMed/split\\SEAL_train_neg_batch372.pt，当前内存占用率 43.6%\n"
     ]
    },
    {
     "name": "stderr",
     "output_type": "stream",
     "text": [
      "保存 ./data/PubMed/split\\SEAL_train_neg 分批文件:  99%|█████████▉| 374/377 [03:54<00:02,  1.41batch/s]"
     ]
    },
    {
     "name": "stdout",
     "output_type": "stream",
     "text": [
      "已保存 ./data/PubMed/split\\SEAL_train_neg_batch373.pt，当前内存占用率 43.6%\n"
     ]
    },
    {
     "name": "stderr",
     "output_type": "stream",
     "text": [
      "保存 ./data/PubMed/split\\SEAL_train_neg 分批文件:  99%|█████████▉| 375/377 [03:54<00:01,  1.44batch/s]"
     ]
    },
    {
     "name": "stdout",
     "output_type": "stream",
     "text": [
      "已保存 ./data/PubMed/split\\SEAL_train_neg_batch374.pt，当前内存占用率 43.7%\n"
     ]
    },
    {
     "name": "stderr",
     "output_type": "stream",
     "text": [
      "保存 ./data/PubMed/split\\SEAL_train_neg 分批文件: 100%|█████████▉| 376/377 [03:55<00:00,  1.45batch/s]"
     ]
    },
    {
     "name": "stdout",
     "output_type": "stream",
     "text": [
      "已保存 ./data/PubMed/split\\SEAL_train_neg_batch375.pt，当前内存占用率 43.7%\n"
     ]
    },
    {
     "name": "stderr",
     "output_type": "stream",
     "text": [
      "保存 ./data/PubMed/split\\SEAL_train_neg 分批文件: 100%|██████████| 377/377 [03:55<00:00,  1.60batch/s]\n"
     ]
    },
    {
     "name": "stdout",
     "output_type": "stream",
     "text": [
      "已保存 ./data/PubMed/split\\SEAL_train_neg_batch376.pt，当前内存占用率 43.6%\n",
      "保存 val 分批文件\n"
     ]
    },
    {
     "name": "stderr",
     "output_type": "stream",
     "text": [
      "保存 ./data/PubMed/split\\SEAL_val_pos 分批文件:   4%|▍         | 1/23 [00:00<00:16,  1.36batch/s]"
     ]
    },
    {
     "name": "stdout",
     "output_type": "stream",
     "text": [
      "已保存 ./data/PubMed/split\\SEAL_val_pos_batch0.pt，当前内存占用率 43.9%\n"
     ]
    },
    {
     "name": "stderr",
     "output_type": "stream",
     "text": [
      "保存 ./data/PubMed/split\\SEAL_val_pos 分批文件:   9%|▊         | 2/23 [00:01<00:14,  1.41batch/s]"
     ]
    },
    {
     "name": "stdout",
     "output_type": "stream",
     "text": [
      "已保存 ./data/PubMed/split\\SEAL_val_pos_batch1.pt，当前内存占用率 44.1%\n"
     ]
    },
    {
     "name": "stderr",
     "output_type": "stream",
     "text": [
      "保存 ./data/PubMed/split\\SEAL_val_pos 分批文件:  13%|█▎        | 3/23 [00:02<00:13,  1.47batch/s]"
     ]
    },
    {
     "name": "stdout",
     "output_type": "stream",
     "text": [
      "已保存 ./data/PubMed/split\\SEAL_val_pos_batch2.pt，当前内存占用率 44.2%\n"
     ]
    },
    {
     "name": "stderr",
     "output_type": "stream",
     "text": [
      "保存 ./data/PubMed/split\\SEAL_val_pos 分批文件:  17%|█▋        | 4/23 [00:02<00:12,  1.51batch/s]"
     ]
    },
    {
     "name": "stdout",
     "output_type": "stream",
     "text": [
      "已保存 ./data/PubMed/split\\SEAL_val_pos_batch3.pt，当前内存占用率 44.2%\n"
     ]
    },
    {
     "name": "stderr",
     "output_type": "stream",
     "text": [
      "保存 ./data/PubMed/split\\SEAL_val_pos 分批文件:  22%|██▏       | 5/23 [00:03<00:14,  1.24batch/s]"
     ]
    },
    {
     "name": "stdout",
     "output_type": "stream",
     "text": [
      "已保存 ./data/PubMed/split\\SEAL_val_pos_batch4.pt，当前内存占用率 44.2%\n"
     ]
    },
    {
     "name": "stderr",
     "output_type": "stream",
     "text": [
      "保存 ./data/PubMed/split\\SEAL_val_pos 分批文件:  26%|██▌       | 6/23 [00:04<00:13,  1.27batch/s]"
     ]
    },
    {
     "name": "stdout",
     "output_type": "stream",
     "text": [
      "已保存 ./data/PubMed/split\\SEAL_val_pos_batch5.pt，当前内存占用率 44.1%\n"
     ]
    },
    {
     "name": "stderr",
     "output_type": "stream",
     "text": [
      "保存 ./data/PubMed/split\\SEAL_val_pos 分批文件:  30%|███       | 7/23 [00:05<00:12,  1.32batch/s]"
     ]
    },
    {
     "name": "stdout",
     "output_type": "stream",
     "text": [
      "已保存 ./data/PubMed/split\\SEAL_val_pos_batch6.pt，当前内存占用率 44.1%\n"
     ]
    },
    {
     "name": "stderr",
     "output_type": "stream",
     "text": [
      "保存 ./data/PubMed/split\\SEAL_val_pos 分批文件:  35%|███▍      | 8/23 [00:06<00:11,  1.28batch/s]"
     ]
    },
    {
     "name": "stdout",
     "output_type": "stream",
     "text": [
      "已保存 ./data/PubMed/split\\SEAL_val_pos_batch7.pt，当前内存占用率 44.3%\n"
     ]
    },
    {
     "name": "stderr",
     "output_type": "stream",
     "text": [
      "保存 ./data/PubMed/split\\SEAL_val_pos 分批文件:  39%|███▉      | 9/23 [00:06<00:10,  1.29batch/s]"
     ]
    },
    {
     "name": "stdout",
     "output_type": "stream",
     "text": [
      "已保存 ./data/PubMed/split\\SEAL_val_pos_batch8.pt，当前内存占用率 44.3%\n"
     ]
    },
    {
     "name": "stderr",
     "output_type": "stream",
     "text": [
      "保存 ./data/PubMed/split\\SEAL_val_pos 分批文件:  43%|████▎     | 10/23 [00:07<00:09,  1.31batch/s]"
     ]
    },
    {
     "name": "stdout",
     "output_type": "stream",
     "text": [
      "已保存 ./data/PubMed/split\\SEAL_val_pos_batch9.pt，当前内存占用率 44.2%\n"
     ]
    },
    {
     "name": "stderr",
     "output_type": "stream",
     "text": [
      "保存 ./data/PubMed/split\\SEAL_val_pos 分批文件:  48%|████▊     | 11/23 [00:08<00:08,  1.37batch/s]"
     ]
    },
    {
     "name": "stdout",
     "output_type": "stream",
     "text": [
      "已保存 ./data/PubMed/split\\SEAL_val_pos_batch10.pt，当前内存占用率 44.2%\n"
     ]
    },
    {
     "name": "stderr",
     "output_type": "stream",
     "text": [
      "保存 ./data/PubMed/split\\SEAL_val_pos 分批文件:  52%|█████▏    | 12/23 [00:08<00:08,  1.34batch/s]"
     ]
    },
    {
     "name": "stdout",
     "output_type": "stream",
     "text": [
      "已保存 ./data/PubMed/split\\SEAL_val_pos_batch11.pt，当前内存占用率 44.2%\n"
     ]
    },
    {
     "name": "stderr",
     "output_type": "stream",
     "text": [
      "保存 ./data/PubMed/split\\SEAL_val_pos 分批文件:  57%|█████▋    | 13/23 [00:09<00:07,  1.28batch/s]"
     ]
    },
    {
     "name": "stdout",
     "output_type": "stream",
     "text": [
      "已保存 ./data/PubMed/split\\SEAL_val_pos_batch12.pt，当前内存占用率 44.4%\n"
     ]
    },
    {
     "name": "stderr",
     "output_type": "stream",
     "text": [
      "保存 ./data/PubMed/split\\SEAL_val_pos 分批文件:  61%|██████    | 14/23 [00:10<00:07,  1.24batch/s]"
     ]
    },
    {
     "name": "stdout",
     "output_type": "stream",
     "text": [
      "已保存 ./data/PubMed/split\\SEAL_val_pos_batch13.pt，当前内存占用率 44.4%\n"
     ]
    },
    {
     "name": "stderr",
     "output_type": "stream",
     "text": [
      "保存 ./data/PubMed/split\\SEAL_val_pos 分批文件:  65%|██████▌   | 15/23 [00:11<00:06,  1.22batch/s]"
     ]
    },
    {
     "name": "stdout",
     "output_type": "stream",
     "text": [
      "已保存 ./data/PubMed/split\\SEAL_val_pos_batch14.pt，当前内存占用率 44.4%\n"
     ]
    },
    {
     "name": "stderr",
     "output_type": "stream",
     "text": [
      "保存 ./data/PubMed/split\\SEAL_val_pos 分批文件:  70%|██████▉   | 16/23 [00:12<00:05,  1.25batch/s]"
     ]
    },
    {
     "name": "stdout",
     "output_type": "stream",
     "text": [
      "已保存 ./data/PubMed/split\\SEAL_val_pos_batch15.pt，当前内存占用率 44.4%\n"
     ]
    },
    {
     "name": "stderr",
     "output_type": "stream",
     "text": [
      "保存 ./data/PubMed/split\\SEAL_val_pos 分批文件:  74%|███████▍  | 17/23 [00:13<00:04,  1.26batch/s]"
     ]
    },
    {
     "name": "stdout",
     "output_type": "stream",
     "text": [
      "已保存 ./data/PubMed/split\\SEAL_val_pos_batch16.pt，当前内存占用率 44.4%\n"
     ]
    },
    {
     "name": "stderr",
     "output_type": "stream",
     "text": [
      "保存 ./data/PubMed/split\\SEAL_val_pos 分批文件:  78%|███████▊  | 18/23 [00:13<00:03,  1.32batch/s]"
     ]
    },
    {
     "name": "stdout",
     "output_type": "stream",
     "text": [
      "已保存 ./data/PubMed/split\\SEAL_val_pos_batch17.pt，当前内存占用率 44.4%\n"
     ]
    },
    {
     "name": "stderr",
     "output_type": "stream",
     "text": [
      "保存 ./data/PubMed/split\\SEAL_val_pos 分批文件:  83%|████████▎ | 19/23 [00:14<00:02,  1.39batch/s]"
     ]
    },
    {
     "name": "stdout",
     "output_type": "stream",
     "text": [
      "已保存 ./data/PubMed/split\\SEAL_val_pos_batch18.pt，当前内存占用率 44.3%\n"
     ]
    },
    {
     "name": "stderr",
     "output_type": "stream",
     "text": [
      "保存 ./data/PubMed/split\\SEAL_val_pos 分批文件:  87%|████████▋ | 20/23 [00:15<00:02,  1.39batch/s]"
     ]
    },
    {
     "name": "stdout",
     "output_type": "stream",
     "text": [
      "已保存 ./data/PubMed/split\\SEAL_val_pos_batch19.pt，当前内存占用率 44.6%\n"
     ]
    },
    {
     "name": "stderr",
     "output_type": "stream",
     "text": [
      "保存 ./data/PubMed/split\\SEAL_val_pos 分批文件:  91%|█████████▏| 21/23 [00:15<00:01,  1.38batch/s]"
     ]
    },
    {
     "name": "stdout",
     "output_type": "stream",
     "text": [
      "已保存 ./data/PubMed/split\\SEAL_val_pos_batch20.pt，当前内存占用率 44.5%\n"
     ]
    },
    {
     "name": "stderr",
     "output_type": "stream",
     "text": [
      "保存 ./data/PubMed/split\\SEAL_val_pos 分批文件:  96%|█████████▌| 22/23 [00:16<00:00,  1.41batch/s]"
     ]
    },
    {
     "name": "stdout",
     "output_type": "stream",
     "text": [
      "已保存 ./data/PubMed/split\\SEAL_val_pos_batch21.pt，当前内存占用率 44.5%\n",
      "已保存 ./data/PubMed/split\\SEAL_val_pos_batch22.pt，当前内存占用率 44.4%\n"
     ]
    },
    {
     "name": "stderr",
     "output_type": "stream",
     "text": [
      "保存 ./data/PubMed/split\\SEAL_val_pos 分批文件: 100%|██████████| 23/23 [00:16<00:00,  1.38batch/s]\n",
      "保存 ./data/PubMed/split\\SEAL_val_neg 分批文件:   4%|▍         | 1/23 [00:00<00:12,  1.72batch/s]"
     ]
    },
    {
     "name": "stdout",
     "output_type": "stream",
     "text": [
      "已保存 ./data/PubMed/split\\SEAL_val_neg_batch0.pt，当前内存占用率 44.4%\n"
     ]
    },
    {
     "name": "stderr",
     "output_type": "stream",
     "text": [
      "保存 ./data/PubMed/split\\SEAL_val_neg 分批文件:   9%|▊         | 2/23 [00:01<00:12,  1.69batch/s]"
     ]
    },
    {
     "name": "stdout",
     "output_type": "stream",
     "text": [
      "已保存 ./data/PubMed/split\\SEAL_val_neg_batch1.pt，当前内存占用率 44.4%\n"
     ]
    },
    {
     "name": "stderr",
     "output_type": "stream",
     "text": [
      "保存 ./data/PubMed/split\\SEAL_val_neg 分批文件:  13%|█▎        | 3/23 [00:01<00:11,  1.67batch/s]"
     ]
    },
    {
     "name": "stdout",
     "output_type": "stream",
     "text": [
      "已保存 ./data/PubMed/split\\SEAL_val_neg_batch2.pt，当前内存占用率 44.3%\n"
     ]
    },
    {
     "name": "stderr",
     "output_type": "stream",
     "text": [
      "保存 ./data/PubMed/split\\SEAL_val_neg 分批文件:  17%|█▋        | 4/23 [00:02<00:11,  1.62batch/s]"
     ]
    },
    {
     "name": "stdout",
     "output_type": "stream",
     "text": [
      "已保存 ./data/PubMed/split\\SEAL_val_neg_batch3.pt，当前内存占用率 44.3%\n"
     ]
    },
    {
     "name": "stderr",
     "output_type": "stream",
     "text": [
      "保存 ./data/PubMed/split\\SEAL_val_neg 分批文件:  22%|██▏       | 5/23 [00:03<00:10,  1.64batch/s]"
     ]
    },
    {
     "name": "stdout",
     "output_type": "stream",
     "text": [
      "已保存 ./data/PubMed/split\\SEAL_val_neg_batch4.pt，当前内存占用率 44.2%\n"
     ]
    },
    {
     "name": "stderr",
     "output_type": "stream",
     "text": [
      "保存 ./data/PubMed/split\\SEAL_val_neg 分批文件:  26%|██▌       | 6/23 [00:03<00:10,  1.65batch/s]"
     ]
    },
    {
     "name": "stdout",
     "output_type": "stream",
     "text": [
      "已保存 ./data/PubMed/split\\SEAL_val_neg_batch5.pt，当前内存占用率 44.2%\n"
     ]
    },
    {
     "name": "stderr",
     "output_type": "stream",
     "text": [
      "保存 ./data/PubMed/split\\SEAL_val_neg 分批文件:  30%|███       | 7/23 [00:04<00:09,  1.65batch/s]"
     ]
    },
    {
     "name": "stdout",
     "output_type": "stream",
     "text": [
      "已保存 ./data/PubMed/split\\SEAL_val_neg_batch6.pt，当前内存占用率 44.2%\n"
     ]
    },
    {
     "name": "stderr",
     "output_type": "stream",
     "text": [
      "保存 ./data/PubMed/split\\SEAL_val_neg 分批文件:  35%|███▍      | 8/23 [00:04<00:09,  1.65batch/s]"
     ]
    },
    {
     "name": "stdout",
     "output_type": "stream",
     "text": [
      "已保存 ./data/PubMed/split\\SEAL_val_neg_batch7.pt，当前内存占用率 44.2%\n"
     ]
    },
    {
     "name": "stderr",
     "output_type": "stream",
     "text": [
      "保存 ./data/PubMed/split\\SEAL_val_neg 分批文件:  39%|███▉      | 9/23 [00:05<00:08,  1.58batch/s]"
     ]
    },
    {
     "name": "stdout",
     "output_type": "stream",
     "text": [
      "已保存 ./data/PubMed/split\\SEAL_val_neg_batch8.pt，当前内存占用率 44.2%\n"
     ]
    },
    {
     "name": "stderr",
     "output_type": "stream",
     "text": [
      "保存 ./data/PubMed/split\\SEAL_val_neg 分批文件:  43%|████▎     | 10/23 [00:06<00:08,  1.61batch/s]"
     ]
    },
    {
     "name": "stdout",
     "output_type": "stream",
     "text": [
      "已保存 ./data/PubMed/split\\SEAL_val_neg_batch9.pt，当前内存占用率 44.1%\n"
     ]
    },
    {
     "name": "stderr",
     "output_type": "stream",
     "text": [
      "保存 ./data/PubMed/split\\SEAL_val_neg 分批文件:  48%|████▊     | 11/23 [00:06<00:07,  1.65batch/s]"
     ]
    },
    {
     "name": "stdout",
     "output_type": "stream",
     "text": [
      "已保存 ./data/PubMed/split\\SEAL_val_neg_batch10.pt，当前内存占用率 44.1%\n"
     ]
    },
    {
     "name": "stderr",
     "output_type": "stream",
     "text": [
      "保存 ./data/PubMed/split\\SEAL_val_neg 分批文件:  52%|█████▏    | 12/23 [00:07<00:06,  1.68batch/s]"
     ]
    },
    {
     "name": "stdout",
     "output_type": "stream",
     "text": [
      "已保存 ./data/PubMed/split\\SEAL_val_neg_batch11.pt，当前内存占用率 44.0%\n"
     ]
    },
    {
     "name": "stderr",
     "output_type": "stream",
     "text": [
      "保存 ./data/PubMed/split\\SEAL_val_neg 分批文件:  57%|█████▋    | 13/23 [00:07<00:06,  1.62batch/s]"
     ]
    },
    {
     "name": "stdout",
     "output_type": "stream",
     "text": [
      "已保存 ./data/PubMed/split\\SEAL_val_neg_batch12.pt，当前内存占用率 44.1%\n"
     ]
    },
    {
     "name": "stderr",
     "output_type": "stream",
     "text": [
      "保存 ./data/PubMed/split\\SEAL_val_neg 分批文件:  61%|██████    | 14/23 [00:08<00:05,  1.61batch/s]"
     ]
    },
    {
     "name": "stdout",
     "output_type": "stream",
     "text": [
      "已保存 ./data/PubMed/split\\SEAL_val_neg_batch13.pt，当前内存占用率 44.1%\n"
     ]
    },
    {
     "name": "stderr",
     "output_type": "stream",
     "text": [
      "保存 ./data/PubMed/split\\SEAL_val_neg 分批文件:  65%|██████▌   | 15/23 [00:09<00:04,  1.64batch/s]"
     ]
    },
    {
     "name": "stdout",
     "output_type": "stream",
     "text": [
      "已保存 ./data/PubMed/split\\SEAL_val_neg_batch14.pt，当前内存占用率 44.0%\n"
     ]
    },
    {
     "name": "stderr",
     "output_type": "stream",
     "text": [
      "保存 ./data/PubMed/split\\SEAL_val_neg 分批文件:  70%|██████▉   | 16/23 [00:09<00:04,  1.64batch/s]"
     ]
    },
    {
     "name": "stdout",
     "output_type": "stream",
     "text": [
      "已保存 ./data/PubMed/split\\SEAL_val_neg_batch15.pt，当前内存占用率 44.0%\n"
     ]
    },
    {
     "name": "stderr",
     "output_type": "stream",
     "text": [
      "保存 ./data/PubMed/split\\SEAL_val_neg 分批文件:  74%|███████▍  | 17/23 [00:10<00:03,  1.64batch/s]"
     ]
    },
    {
     "name": "stdout",
     "output_type": "stream",
     "text": [
      "已保存 ./data/PubMed/split\\SEAL_val_neg_batch16.pt，当前内存占用率 44.1%\n"
     ]
    },
    {
     "name": "stderr",
     "output_type": "stream",
     "text": [
      "保存 ./data/PubMed/split\\SEAL_val_neg 分批文件:  78%|███████▊  | 18/23 [00:11<00:03,  1.62batch/s]"
     ]
    },
    {
     "name": "stdout",
     "output_type": "stream",
     "text": [
      "已保存 ./data/PubMed/split\\SEAL_val_neg_batch17.pt，当前内存占用率 44.0%\n"
     ]
    },
    {
     "name": "stderr",
     "output_type": "stream",
     "text": [
      "保存 ./data/PubMed/split\\SEAL_val_neg 分批文件:  83%|████████▎ | 19/23 [00:11<00:02,  1.66batch/s]"
     ]
    },
    {
     "name": "stdout",
     "output_type": "stream",
     "text": [
      "已保存 ./data/PubMed/split\\SEAL_val_neg_batch18.pt，当前内存占用率 44.0%\n"
     ]
    },
    {
     "name": "stderr",
     "output_type": "stream",
     "text": [
      "保存 ./data/PubMed/split\\SEAL_val_neg 分批文件:  87%|████████▋ | 20/23 [00:12<00:01,  1.69batch/s]"
     ]
    },
    {
     "name": "stdout",
     "output_type": "stream",
     "text": [
      "已保存 ./data/PubMed/split\\SEAL_val_neg_batch19.pt，当前内存占用率 44.1%\n"
     ]
    },
    {
     "name": "stderr",
     "output_type": "stream",
     "text": [
      "保存 ./data/PubMed/split\\SEAL_val_neg 分批文件:  91%|█████████▏| 21/23 [00:12<00:01,  1.67batch/s]"
     ]
    },
    {
     "name": "stdout",
     "output_type": "stream",
     "text": [
      "已保存 ./data/PubMed/split\\SEAL_val_neg_batch20.pt，当前内存占用率 44.0%\n"
     ]
    },
    {
     "name": "stderr",
     "output_type": "stream",
     "text": [
      "保存 ./data/PubMed/split\\SEAL_val_neg 分批文件:  96%|█████████▌| 22/23 [00:13<00:00,  1.70batch/s]"
     ]
    },
    {
     "name": "stdout",
     "output_type": "stream",
     "text": [
      "已保存 ./data/PubMed/split\\SEAL_val_neg_batch21.pt，当前内存占用率 44.0%\n"
     ]
    },
    {
     "name": "stderr",
     "output_type": "stream",
     "text": [
      "保存 ./data/PubMed/split\\SEAL_val_neg 分批文件: 100%|██████████| 23/23 [00:13<00:00,  1.69batch/s]\n"
     ]
    },
    {
     "name": "stdout",
     "output_type": "stream",
     "text": [
      "已保存 ./data/PubMed/split\\SEAL_val_neg_batch22.pt，当前内存占用率 44.0%\n",
      "保存 test 分批文件\n"
     ]
    },
    {
     "name": "stderr",
     "output_type": "stream",
     "text": [
      "保存 ./data/PubMed/split\\SEAL_test_pos 分批文件:   2%|▏         | 1/45 [00:00<00:29,  1.50batch/s]"
     ]
    },
    {
     "name": "stdout",
     "output_type": "stream",
     "text": [
      "已保存 ./data/PubMed/split\\SEAL_test_pos_batch0.pt，当前内存占用率 44.2%\n"
     ]
    },
    {
     "name": "stderr",
     "output_type": "stream",
     "text": [
      "保存 ./data/PubMed/split\\SEAL_test_pos 分批文件:   4%|▍         | 2/45 [00:01<00:30,  1.42batch/s]"
     ]
    },
    {
     "name": "stdout",
     "output_type": "stream",
     "text": [
      "已保存 ./data/PubMed/split\\SEAL_test_pos_batch1.pt，当前内存占用率 44.3%\n"
     ]
    },
    {
     "name": "stderr",
     "output_type": "stream",
     "text": [
      "保存 ./data/PubMed/split\\SEAL_test_pos 分批文件:   7%|▋         | 3/45 [00:02<00:28,  1.45batch/s]"
     ]
    },
    {
     "name": "stdout",
     "output_type": "stream",
     "text": [
      "已保存 ./data/PubMed/split\\SEAL_test_pos_batch2.pt，当前内存占用率 44.2%\n"
     ]
    },
    {
     "name": "stderr",
     "output_type": "stream",
     "text": [
      "保存 ./data/PubMed/split\\SEAL_test_pos 分批文件:   9%|▉         | 4/45 [00:02<00:28,  1.45batch/s]"
     ]
    },
    {
     "name": "stdout",
     "output_type": "stream",
     "text": [
      "已保存 ./data/PubMed/split\\SEAL_test_pos_batch3.pt，当前内存占用率 44.3%\n"
     ]
    },
    {
     "name": "stderr",
     "output_type": "stream",
     "text": [
      "保存 ./data/PubMed/split\\SEAL_test_pos 分批文件:  11%|█         | 5/45 [00:03<00:28,  1.39batch/s]"
     ]
    },
    {
     "name": "stdout",
     "output_type": "stream",
     "text": [
      "已保存 ./data/PubMed/split\\SEAL_test_pos_batch4.pt，当前内存占用率 44.5%\n"
     ]
    },
    {
     "name": "stderr",
     "output_type": "stream",
     "text": [
      "保存 ./data/PubMed/split\\SEAL_test_pos 分批文件:  13%|█▎        | 6/45 [00:04<00:27,  1.42batch/s]"
     ]
    },
    {
     "name": "stdout",
     "output_type": "stream",
     "text": [
      "已保存 ./data/PubMed/split\\SEAL_test_pos_batch5.pt，当前内存占用率 44.5%\n"
     ]
    },
    {
     "name": "stderr",
     "output_type": "stream",
     "text": [
      "保存 ./data/PubMed/split\\SEAL_test_pos 分批文件:  16%|█▌        | 7/45 [00:04<00:26,  1.44batch/s]"
     ]
    },
    {
     "name": "stdout",
     "output_type": "stream",
     "text": [
      "已保存 ./data/PubMed/split\\SEAL_test_pos_batch6.pt，当前内存占用率 44.4%\n"
     ]
    },
    {
     "name": "stderr",
     "output_type": "stream",
     "text": [
      "保存 ./data/PubMed/split\\SEAL_test_pos 分批文件:  18%|█▊        | 8/45 [00:05<00:24,  1.49batch/s]"
     ]
    },
    {
     "name": "stdout",
     "output_type": "stream",
     "text": [
      "已保存 ./data/PubMed/split\\SEAL_test_pos_batch7.pt，当前内存占用率 44.5%\n"
     ]
    },
    {
     "name": "stderr",
     "output_type": "stream",
     "text": [
      "保存 ./data/PubMed/split\\SEAL_test_pos 分批文件:  20%|██        | 9/45 [00:06<00:24,  1.44batch/s]"
     ]
    },
    {
     "name": "stdout",
     "output_type": "stream",
     "text": [
      "已保存 ./data/PubMed/split\\SEAL_test_pos_batch8.pt，当前内存占用率 44.4%\n"
     ]
    },
    {
     "name": "stderr",
     "output_type": "stream",
     "text": [
      "保存 ./data/PubMed/split\\SEAL_test_pos 分批文件:  22%|██▏       | 10/45 [00:06<00:24,  1.41batch/s]"
     ]
    },
    {
     "name": "stdout",
     "output_type": "stream",
     "text": [
      "已保存 ./data/PubMed/split\\SEAL_test_pos_batch9.pt，当前内存占用率 44.3%\n"
     ]
    },
    {
     "name": "stderr",
     "output_type": "stream",
     "text": [
      "保存 ./data/PubMed/split\\SEAL_test_pos 分批文件:  24%|██▍       | 11/45 [00:07<00:23,  1.45batch/s]"
     ]
    },
    {
     "name": "stdout",
     "output_type": "stream",
     "text": [
      "已保存 ./data/PubMed/split\\SEAL_test_pos_batch10.pt，当前内存占用率 44.3%\n"
     ]
    },
    {
     "name": "stderr",
     "output_type": "stream",
     "text": [
      "保存 ./data/PubMed/split\\SEAL_test_pos 分批文件:  27%|██▋       | 12/45 [00:08<00:23,  1.43batch/s]"
     ]
    },
    {
     "name": "stdout",
     "output_type": "stream",
     "text": [
      "已保存 ./data/PubMed/split\\SEAL_test_pos_batch11.pt，当前内存占用率 44.5%\n"
     ]
    },
    {
     "name": "stderr",
     "output_type": "stream",
     "text": [
      "保存 ./data/PubMed/split\\SEAL_test_pos 分批文件:  29%|██▉       | 13/45 [00:08<00:21,  1.48batch/s]"
     ]
    },
    {
     "name": "stdout",
     "output_type": "stream",
     "text": [
      "已保存 ./data/PubMed/split\\SEAL_test_pos_batch12.pt，当前内存占用率 44.4%\n"
     ]
    },
    {
     "name": "stderr",
     "output_type": "stream",
     "text": [
      "保存 ./data/PubMed/split\\SEAL_test_pos 分批文件:  31%|███       | 14/45 [00:09<00:20,  1.51batch/s]"
     ]
    },
    {
     "name": "stdout",
     "output_type": "stream",
     "text": [
      "已保存 ./data/PubMed/split\\SEAL_test_pos_batch13.pt，当前内存占用率 44.5%\n"
     ]
    },
    {
     "name": "stderr",
     "output_type": "stream",
     "text": [
      "保存 ./data/PubMed/split\\SEAL_test_pos 分批文件:  33%|███▎      | 15/45 [00:10<00:21,  1.43batch/s]"
     ]
    },
    {
     "name": "stdout",
     "output_type": "stream",
     "text": [
      "已保存 ./data/PubMed/split\\SEAL_test_pos_batch14.pt，当前内存占用率 44.5%\n"
     ]
    },
    {
     "name": "stderr",
     "output_type": "stream",
     "text": [
      "保存 ./data/PubMed/split\\SEAL_test_pos 分批文件:  36%|███▌      | 16/45 [00:11<00:19,  1.47batch/s]"
     ]
    },
    {
     "name": "stdout",
     "output_type": "stream",
     "text": [
      "已保存 ./data/PubMed/split\\SEAL_test_pos_batch15.pt，当前内存占用率 44.5%\n"
     ]
    },
    {
     "name": "stderr",
     "output_type": "stream",
     "text": [
      "保存 ./data/PubMed/split\\SEAL_test_pos 分批文件:  38%|███▊      | 17/45 [00:11<00:19,  1.44batch/s]"
     ]
    },
    {
     "name": "stdout",
     "output_type": "stream",
     "text": [
      "已保存 ./data/PubMed/split\\SEAL_test_pos_batch16.pt，当前内存占用率 44.5%\n"
     ]
    },
    {
     "name": "stderr",
     "output_type": "stream",
     "text": [
      "保存 ./data/PubMed/split\\SEAL_test_pos 分批文件:  40%|████      | 18/45 [00:12<00:18,  1.45batch/s]"
     ]
    },
    {
     "name": "stdout",
     "output_type": "stream",
     "text": [
      "已保存 ./data/PubMed/split\\SEAL_test_pos_batch17.pt，当前内存占用率 44.5%\n"
     ]
    },
    {
     "name": "stderr",
     "output_type": "stream",
     "text": [
      "保存 ./data/PubMed/split\\SEAL_test_pos 分批文件:  42%|████▏     | 19/45 [00:13<00:18,  1.39batch/s]"
     ]
    },
    {
     "name": "stdout",
     "output_type": "stream",
     "text": [
      "已保存 ./data/PubMed/split\\SEAL_test_pos_batch18.pt，当前内存占用率 44.6%\n"
     ]
    },
    {
     "name": "stderr",
     "output_type": "stream",
     "text": [
      "保存 ./data/PubMed/split\\SEAL_test_pos 分批文件:  44%|████▍     | 20/45 [00:13<00:17,  1.41batch/s]"
     ]
    },
    {
     "name": "stdout",
     "output_type": "stream",
     "text": [
      "已保存 ./data/PubMed/split\\SEAL_test_pos_batch19.pt，当前内存占用率 44.5%\n"
     ]
    },
    {
     "name": "stderr",
     "output_type": "stream",
     "text": [
      "保存 ./data/PubMed/split\\SEAL_test_pos 分批文件:  47%|████▋     | 21/45 [00:14<00:16,  1.41batch/s]"
     ]
    },
    {
     "name": "stdout",
     "output_type": "stream",
     "text": [
      "已保存 ./data/PubMed/split\\SEAL_test_pos_batch20.pt，当前内存占用率 44.5%\n"
     ]
    },
    {
     "name": "stderr",
     "output_type": "stream",
     "text": [
      "保存 ./data/PubMed/split\\SEAL_test_pos 分批文件:  49%|████▉     | 22/45 [00:15<00:16,  1.41batch/s]"
     ]
    },
    {
     "name": "stdout",
     "output_type": "stream",
     "text": [
      "已保存 ./data/PubMed/split\\SEAL_test_pos_batch21.pt，当前内存占用率 44.7%\n"
     ]
    },
    {
     "name": "stderr",
     "output_type": "stream",
     "text": [
      "保存 ./data/PubMed/split\\SEAL_test_pos 分批文件:  51%|█████     | 23/45 [00:15<00:15,  1.46batch/s]"
     ]
    },
    {
     "name": "stdout",
     "output_type": "stream",
     "text": [
      "已保存 ./data/PubMed/split\\SEAL_test_pos_batch22.pt，当前内存占用率 44.6%\n"
     ]
    },
    {
     "name": "stderr",
     "output_type": "stream",
     "text": [
      "保存 ./data/PubMed/split\\SEAL_test_pos 分批文件:  53%|█████▎    | 24/45 [00:16<00:14,  1.43batch/s]"
     ]
    },
    {
     "name": "stdout",
     "output_type": "stream",
     "text": [
      "已保存 ./data/PubMed/split\\SEAL_test_pos_batch23.pt，当前内存占用率 44.6%\n"
     ]
    },
    {
     "name": "stderr",
     "output_type": "stream",
     "text": [
      "保存 ./data/PubMed/split\\SEAL_test_pos 分批文件:  56%|█████▌    | 25/45 [00:17<00:13,  1.43batch/s]"
     ]
    },
    {
     "name": "stdout",
     "output_type": "stream",
     "text": [
      "已保存 ./data/PubMed/split\\SEAL_test_pos_batch24.pt，当前内存占用率 44.6%\n"
     ]
    },
    {
     "name": "stderr",
     "output_type": "stream",
     "text": [
      "保存 ./data/PubMed/split\\SEAL_test_pos 分批文件:  58%|█████▊    | 26/45 [00:18<00:13,  1.43batch/s]"
     ]
    },
    {
     "name": "stdout",
     "output_type": "stream",
     "text": [
      "已保存 ./data/PubMed/split\\SEAL_test_pos_batch25.pt，当前内存占用率 44.6%\n"
     ]
    },
    {
     "name": "stderr",
     "output_type": "stream",
     "text": [
      "保存 ./data/PubMed/split\\SEAL_test_pos 分批文件:  60%|██████    | 27/45 [00:18<00:12,  1.42batch/s]"
     ]
    },
    {
     "name": "stdout",
     "output_type": "stream",
     "text": [
      "已保存 ./data/PubMed/split\\SEAL_test_pos_batch26.pt，当前内存占用率 44.6%\n"
     ]
    },
    {
     "name": "stderr",
     "output_type": "stream",
     "text": [
      "保存 ./data/PubMed/split\\SEAL_test_pos 分批文件:  62%|██████▏   | 28/45 [00:19<00:12,  1.38batch/s]"
     ]
    },
    {
     "name": "stdout",
     "output_type": "stream",
     "text": [
      "已保存 ./data/PubMed/split\\SEAL_test_pos_batch27.pt，当前内存占用率 44.6%\n"
     ]
    },
    {
     "name": "stderr",
     "output_type": "stream",
     "text": [
      "保存 ./data/PubMed/split\\SEAL_test_pos 分批文件:  64%|██████▍   | 29/45 [00:20<00:11,  1.35batch/s]"
     ]
    },
    {
     "name": "stdout",
     "output_type": "stream",
     "text": [
      "已保存 ./data/PubMed/split\\SEAL_test_pos_batch28.pt，当前内存占用率 44.7%\n"
     ]
    },
    {
     "name": "stderr",
     "output_type": "stream",
     "text": [
      "保存 ./data/PubMed/split\\SEAL_test_pos 分批文件:  67%|██████▋   | 30/45 [00:21<00:10,  1.38batch/s]"
     ]
    },
    {
     "name": "stdout",
     "output_type": "stream",
     "text": [
      "已保存 ./data/PubMed/split\\SEAL_test_pos_batch29.pt，当前内存占用率 44.7%\n"
     ]
    },
    {
     "name": "stderr",
     "output_type": "stream",
     "text": [
      "保存 ./data/PubMed/split\\SEAL_test_pos 分批文件:  69%|██████▉   | 31/45 [00:21<00:10,  1.39batch/s]"
     ]
    },
    {
     "name": "stdout",
     "output_type": "stream",
     "text": [
      "已保存 ./data/PubMed/split\\SEAL_test_pos_batch30.pt，当前内存占用率 44.7%\n"
     ]
    },
    {
     "name": "stderr",
     "output_type": "stream",
     "text": [
      "保存 ./data/PubMed/split\\SEAL_test_pos 分批文件:  71%|███████   | 32/45 [00:22<00:09,  1.38batch/s]"
     ]
    },
    {
     "name": "stdout",
     "output_type": "stream",
     "text": [
      "已保存 ./data/PubMed/split\\SEAL_test_pos_batch31.pt，当前内存占用率 44.6%\n"
     ]
    },
    {
     "name": "stderr",
     "output_type": "stream",
     "text": [
      "保存 ./data/PubMed/split\\SEAL_test_pos 分批文件:  73%|███████▎  | 33/45 [00:23<00:08,  1.36batch/s]"
     ]
    },
    {
     "name": "stdout",
     "output_type": "stream",
     "text": [
      "已保存 ./data/PubMed/split\\SEAL_test_pos_batch32.pt，当前内存占用率 44.7%\n"
     ]
    },
    {
     "name": "stderr",
     "output_type": "stream",
     "text": [
      "保存 ./data/PubMed/split\\SEAL_test_pos 分批文件:  76%|███████▌  | 34/45 [00:23<00:07,  1.40batch/s]"
     ]
    },
    {
     "name": "stdout",
     "output_type": "stream",
     "text": [
      "已保存 ./data/PubMed/split\\SEAL_test_pos_batch33.pt，当前内存占用率 44.7%\n"
     ]
    },
    {
     "name": "stderr",
     "output_type": "stream",
     "text": [
      "保存 ./data/PubMed/split\\SEAL_test_pos 分批文件:  78%|███████▊  | 35/45 [00:24<00:07,  1.40batch/s]"
     ]
    },
    {
     "name": "stdout",
     "output_type": "stream",
     "text": [
      "已保存 ./data/PubMed/split\\SEAL_test_pos_batch34.pt，当前内存占用率 44.7%\n"
     ]
    },
    {
     "name": "stderr",
     "output_type": "stream",
     "text": [
      "保存 ./data/PubMed/split\\SEAL_test_pos 分批文件:  80%|████████  | 36/45 [00:25<00:06,  1.43batch/s]"
     ]
    },
    {
     "name": "stdout",
     "output_type": "stream",
     "text": [
      "已保存 ./data/PubMed/split\\SEAL_test_pos_batch35.pt，当前内存占用率 44.7%\n"
     ]
    },
    {
     "name": "stderr",
     "output_type": "stream",
     "text": [
      "保存 ./data/PubMed/split\\SEAL_test_pos 分批文件:  82%|████████▏ | 37/45 [00:26<00:05,  1.39batch/s]"
     ]
    },
    {
     "name": "stdout",
     "output_type": "stream",
     "text": [
      "已保存 ./data/PubMed/split\\SEAL_test_pos_batch36.pt，当前内存占用率 44.6%\n"
     ]
    },
    {
     "name": "stderr",
     "output_type": "stream",
     "text": [
      "保存 ./data/PubMed/split\\SEAL_test_pos 分批文件:  84%|████████▍ | 38/45 [00:26<00:04,  1.42batch/s]"
     ]
    },
    {
     "name": "stdout",
     "output_type": "stream",
     "text": [
      "已保存 ./data/PubMed/split\\SEAL_test_pos_batch37.pt，当前内存占用率 44.8%\n"
     ]
    },
    {
     "name": "stderr",
     "output_type": "stream",
     "text": [
      "保存 ./data/PubMed/split\\SEAL_test_pos 分批文件:  87%|████████▋ | 39/45 [00:27<00:04,  1.40batch/s]"
     ]
    },
    {
     "name": "stdout",
     "output_type": "stream",
     "text": [
      "已保存 ./data/PubMed/split\\SEAL_test_pos_batch38.pt，当前内存占用率 44.6%\n"
     ]
    },
    {
     "name": "stderr",
     "output_type": "stream",
     "text": [
      "保存 ./data/PubMed/split\\SEAL_test_pos 分批文件:  89%|████████▉ | 40/45 [00:28<00:03,  1.44batch/s]"
     ]
    },
    {
     "name": "stdout",
     "output_type": "stream",
     "text": [
      "已保存 ./data/PubMed/split\\SEAL_test_pos_batch39.pt，当前内存占用率 44.7%\n"
     ]
    },
    {
     "name": "stderr",
     "output_type": "stream",
     "text": [
      "保存 ./data/PubMed/split\\SEAL_test_pos 分批文件:  91%|█████████ | 41/45 [00:28<00:02,  1.46batch/s]"
     ]
    },
    {
     "name": "stdout",
     "output_type": "stream",
     "text": [
      "已保存 ./data/PubMed/split\\SEAL_test_pos_batch40.pt，当前内存占用率 44.6%\n"
     ]
    },
    {
     "name": "stderr",
     "output_type": "stream",
     "text": [
      "保存 ./data/PubMed/split\\SEAL_test_pos 分批文件:  93%|█████████▎| 42/45 [00:29<00:02,  1.41batch/s]"
     ]
    },
    {
     "name": "stdout",
     "output_type": "stream",
     "text": [
      "已保存 ./data/PubMed/split\\SEAL_test_pos_batch41.pt，当前内存占用率 44.7%\n"
     ]
    },
    {
     "name": "stderr",
     "output_type": "stream",
     "text": [
      "保存 ./data/PubMed/split\\SEAL_test_pos 分批文件:  96%|█████████▌| 43/45 [00:30<00:01,  1.45batch/s]"
     ]
    },
    {
     "name": "stdout",
     "output_type": "stream",
     "text": [
      "已保存 ./data/PubMed/split\\SEAL_test_pos_batch42.pt，当前内存占用率 44.6%\n"
     ]
    },
    {
     "name": "stderr",
     "output_type": "stream",
     "text": [
      "保存 ./data/PubMed/split\\SEAL_test_pos 分批文件:  98%|█████████▊| 44/45 [00:30<00:00,  1.48batch/s]"
     ]
    },
    {
     "name": "stdout",
     "output_type": "stream",
     "text": [
      "已保存 ./data/PubMed/split\\SEAL_test_pos_batch43.pt，当前内存占用率 44.6%\n"
     ]
    },
    {
     "name": "stderr",
     "output_type": "stream",
     "text": [
      "保存 ./data/PubMed/split\\SEAL_test_pos 分批文件: 100%|██████████| 45/45 [00:31<00:00,  1.45batch/s]\n"
     ]
    },
    {
     "name": "stdout",
     "output_type": "stream",
     "text": [
      "已保存 ./data/PubMed/split\\SEAL_test_pos_batch44.pt，当前内存占用率 44.6%\n"
     ]
    },
    {
     "name": "stderr",
     "output_type": "stream",
     "text": [
      "保存 ./data/PubMed/split\\SEAL_test_neg 分批文件:   2%|▏         | 1/45 [00:00<00:30,  1.45batch/s]"
     ]
    },
    {
     "name": "stdout",
     "output_type": "stream",
     "text": [
      "已保存 ./data/PubMed/split\\SEAL_test_neg_batch0.pt，当前内存占用率 44.5%\n"
     ]
    },
    {
     "name": "stderr",
     "output_type": "stream",
     "text": [
      "保存 ./data/PubMed/split\\SEAL_test_neg 分批文件:   4%|▍         | 2/45 [00:01<00:27,  1.56batch/s]"
     ]
    },
    {
     "name": "stdout",
     "output_type": "stream",
     "text": [
      "已保存 ./data/PubMed/split\\SEAL_test_neg_batch1.pt，当前内存占用率 44.4%\n"
     ]
    },
    {
     "name": "stderr",
     "output_type": "stream",
     "text": [
      "保存 ./data/PubMed/split\\SEAL_test_neg 分批文件:   7%|▋         | 3/45 [00:01<00:26,  1.60batch/s]"
     ]
    },
    {
     "name": "stdout",
     "output_type": "stream",
     "text": [
      "已保存 ./data/PubMed/split\\SEAL_test_neg_batch2.pt，当前内存占用率 44.4%\n"
     ]
    },
    {
     "name": "stderr",
     "output_type": "stream",
     "text": [
      "保存 ./data/PubMed/split\\SEAL_test_neg 分批文件:   9%|▉         | 4/45 [00:02<00:25,  1.61batch/s]"
     ]
    },
    {
     "name": "stdout",
     "output_type": "stream",
     "text": [
      "已保存 ./data/PubMed/split\\SEAL_test_neg_batch3.pt，当前内存占用率 44.4%\n"
     ]
    },
    {
     "name": "stderr",
     "output_type": "stream",
     "text": [
      "保存 ./data/PubMed/split\\SEAL_test_neg 分批文件:  11%|█         | 5/45 [00:03<00:25,  1.60batch/s]"
     ]
    },
    {
     "name": "stdout",
     "output_type": "stream",
     "text": [
      "已保存 ./data/PubMed/split\\SEAL_test_neg_batch4.pt，当前内存占用率 44.3%\n"
     ]
    },
    {
     "name": "stderr",
     "output_type": "stream",
     "text": [
      "保存 ./data/PubMed/split\\SEAL_test_neg 分批文件:  13%|█▎        | 6/45 [00:03<00:25,  1.53batch/s]"
     ]
    },
    {
     "name": "stdout",
     "output_type": "stream",
     "text": [
      "已保存 ./data/PubMed/split\\SEAL_test_neg_batch5.pt，当前内存占用率 44.3%\n"
     ]
    },
    {
     "name": "stderr",
     "output_type": "stream",
     "text": [
      "保存 ./data/PubMed/split\\SEAL_test_neg 分批文件:  16%|█▌        | 7/45 [00:04<00:24,  1.53batch/s]"
     ]
    },
    {
     "name": "stdout",
     "output_type": "stream",
     "text": [
      "已保存 ./data/PubMed/split\\SEAL_test_neg_batch6.pt，当前内存占用率 44.2%\n"
     ]
    },
    {
     "name": "stderr",
     "output_type": "stream",
     "text": [
      "保存 ./data/PubMed/split\\SEAL_test_neg 分批文件:  18%|█▊        | 8/45 [00:05<00:24,  1.53batch/s]"
     ]
    },
    {
     "name": "stdout",
     "output_type": "stream",
     "text": [
      "已保存 ./data/PubMed/split\\SEAL_test_neg_batch7.pt，当前内存占用率 44.3%\n"
     ]
    },
    {
     "name": "stderr",
     "output_type": "stream",
     "text": [
      "保存 ./data/PubMed/split\\SEAL_test_neg 分批文件:  20%|██        | 9/45 [00:05<00:23,  1.55batch/s]"
     ]
    },
    {
     "name": "stdout",
     "output_type": "stream",
     "text": [
      "已保存 ./data/PubMed/split\\SEAL_test_neg_batch8.pt，当前内存占用率 44.3%\n"
     ]
    },
    {
     "name": "stderr",
     "output_type": "stream",
     "text": [
      "保存 ./data/PubMed/split\\SEAL_test_neg 分批文件:  22%|██▏       | 10/45 [00:06<00:22,  1.55batch/s]"
     ]
    },
    {
     "name": "stdout",
     "output_type": "stream",
     "text": [
      "已保存 ./data/PubMed/split\\SEAL_test_neg_batch9.pt，当前内存占用率 44.1%\n"
     ]
    },
    {
     "name": "stderr",
     "output_type": "stream",
     "text": [
      "保存 ./data/PubMed/split\\SEAL_test_neg 分批文件:  24%|██▍       | 11/45 [00:07<00:22,  1.53batch/s]"
     ]
    },
    {
     "name": "stdout",
     "output_type": "stream",
     "text": [
      "已保存 ./data/PubMed/split\\SEAL_test_neg_batch10.pt，当前内存占用率 44.1%\n"
     ]
    },
    {
     "name": "stderr",
     "output_type": "stream",
     "text": [
      "保存 ./data/PubMed/split\\SEAL_test_neg 分批文件:  27%|██▋       | 12/45 [00:07<00:21,  1.55batch/s]"
     ]
    },
    {
     "name": "stdout",
     "output_type": "stream",
     "text": [
      "已保存 ./data/PubMed/split\\SEAL_test_neg_batch11.pt，当前内存占用率 44.2%\n"
     ]
    },
    {
     "name": "stderr",
     "output_type": "stream",
     "text": [
      "保存 ./data/PubMed/split\\SEAL_test_neg 分批文件:  29%|██▉       | 13/45 [00:08<00:20,  1.58batch/s]"
     ]
    },
    {
     "name": "stdout",
     "output_type": "stream",
     "text": [
      "已保存 ./data/PubMed/split\\SEAL_test_neg_batch12.pt，当前内存占用率 44.1%\n"
     ]
    },
    {
     "name": "stderr",
     "output_type": "stream",
     "text": [
      "保存 ./data/PubMed/split\\SEAL_test_neg 分批文件:  31%|███       | 14/45 [00:08<00:19,  1.61batch/s]"
     ]
    },
    {
     "name": "stdout",
     "output_type": "stream",
     "text": [
      "已保存 ./data/PubMed/split\\SEAL_test_neg_batch13.pt，当前内存占用率 44.1%\n"
     ]
    },
    {
     "name": "stderr",
     "output_type": "stream",
     "text": [
      "保存 ./data/PubMed/split\\SEAL_test_neg 分批文件:  33%|███▎      | 15/45 [00:09<00:19,  1.54batch/s]"
     ]
    },
    {
     "name": "stdout",
     "output_type": "stream",
     "text": [
      "已保存 ./data/PubMed/split\\SEAL_test_neg_batch14.pt，当前内存占用率 44.1%\n"
     ]
    },
    {
     "name": "stderr",
     "output_type": "stream",
     "text": [
      "保存 ./data/PubMed/split\\SEAL_test_neg 分批文件:  36%|███▌      | 16/45 [00:10<00:18,  1.59batch/s]"
     ]
    },
    {
     "name": "stdout",
     "output_type": "stream",
     "text": [
      "已保存 ./data/PubMed/split\\SEAL_test_neg_batch15.pt，当前内存占用率 44.1%\n"
     ]
    },
    {
     "name": "stderr",
     "output_type": "stream",
     "text": [
      "保存 ./data/PubMed/split\\SEAL_test_neg 分批文件:  38%|███▊      | 17/45 [00:10<00:17,  1.59batch/s]"
     ]
    },
    {
     "name": "stdout",
     "output_type": "stream",
     "text": [
      "已保存 ./data/PubMed/split\\SEAL_test_neg_batch16.pt，当前内存占用率 44.1%\n"
     ]
    },
    {
     "name": "stderr",
     "output_type": "stream",
     "text": [
      "保存 ./data/PubMed/split\\SEAL_test_neg 分批文件:  40%|████      | 18/45 [00:11<00:16,  1.60batch/s]"
     ]
    },
    {
     "name": "stdout",
     "output_type": "stream",
     "text": [
      "已保存 ./data/PubMed/split\\SEAL_test_neg_batch17.pt，当前内存占用率 44.1%\n"
     ]
    },
    {
     "name": "stderr",
     "output_type": "stream",
     "text": [
      "保存 ./data/PubMed/split\\SEAL_test_neg 分批文件:  42%|████▏     | 19/45 [00:12<00:16,  1.61batch/s]"
     ]
    },
    {
     "name": "stdout",
     "output_type": "stream",
     "text": [
      "已保存 ./data/PubMed/split\\SEAL_test_neg_batch18.pt，当前内存占用率 44.2%\n"
     ]
    },
    {
     "name": "stderr",
     "output_type": "stream",
     "text": [
      "保存 ./data/PubMed/split\\SEAL_test_neg 分批文件:  44%|████▍     | 20/45 [00:12<00:15,  1.56batch/s]"
     ]
    },
    {
     "name": "stdout",
     "output_type": "stream",
     "text": [
      "已保存 ./data/PubMed/split\\SEAL_test_neg_batch19.pt，当前内存占用率 44.1%\n"
     ]
    },
    {
     "name": "stderr",
     "output_type": "stream",
     "text": [
      "保存 ./data/PubMed/split\\SEAL_test_neg 分批文件:  47%|████▋     | 21/45 [00:13<00:15,  1.58batch/s]"
     ]
    },
    {
     "name": "stdout",
     "output_type": "stream",
     "text": [
      "已保存 ./data/PubMed/split\\SEAL_test_neg_batch20.pt，当前内存占用率 44.0%\n"
     ]
    },
    {
     "name": "stderr",
     "output_type": "stream",
     "text": [
      "保存 ./data/PubMed/split\\SEAL_test_neg 分批文件:  49%|████▉     | 22/45 [00:13<00:14,  1.61batch/s]"
     ]
    },
    {
     "name": "stdout",
     "output_type": "stream",
     "text": [
      "已保存 ./data/PubMed/split\\SEAL_test_neg_batch21.pt，当前内存占用率 44.0%\n"
     ]
    },
    {
     "name": "stderr",
     "output_type": "stream",
     "text": [
      "保存 ./data/PubMed/split\\SEAL_test_neg 分批文件:  51%|█████     | 23/45 [00:14<00:13,  1.60batch/s]"
     ]
    },
    {
     "name": "stdout",
     "output_type": "stream",
     "text": [
      "已保存 ./data/PubMed/split\\SEAL_test_neg_batch22.pt，当前内存占用率 44.1%\n"
     ]
    },
    {
     "name": "stderr",
     "output_type": "stream",
     "text": [
      "保存 ./data/PubMed/split\\SEAL_test_neg 分批文件:  53%|█████▎    | 24/45 [00:15<00:12,  1.62batch/s]"
     ]
    },
    {
     "name": "stdout",
     "output_type": "stream",
     "text": [
      "已保存 ./data/PubMed/split\\SEAL_test_neg_batch23.pt，当前内存占用率 44.1%\n"
     ]
    },
    {
     "name": "stderr",
     "output_type": "stream",
     "text": [
      "保存 ./data/PubMed/split\\SEAL_test_neg 分批文件:  56%|█████▌    | 25/45 [00:15<00:12,  1.59batch/s]"
     ]
    },
    {
     "name": "stdout",
     "output_type": "stream",
     "text": [
      "已保存 ./data/PubMed/split\\SEAL_test_neg_batch24.pt，当前内存占用率 44.0%\n"
     ]
    },
    {
     "name": "stderr",
     "output_type": "stream",
     "text": [
      "保存 ./data/PubMed/split\\SEAL_test_neg 分批文件:  58%|█████▊    | 26/45 [00:16<00:11,  1.64batch/s]"
     ]
    },
    {
     "name": "stdout",
     "output_type": "stream",
     "text": [
      "已保存 ./data/PubMed/split\\SEAL_test_neg_batch25.pt，当前内存占用率 44.1%\n"
     ]
    },
    {
     "name": "stderr",
     "output_type": "stream",
     "text": [
      "保存 ./data/PubMed/split\\SEAL_test_neg 分批文件:  60%|██████    | 27/45 [00:17<00:11,  1.63batch/s]"
     ]
    },
    {
     "name": "stdout",
     "output_type": "stream",
     "text": [
      "已保存 ./data/PubMed/split\\SEAL_test_neg_batch26.pt，当前内存占用率 44.0%\n"
     ]
    },
    {
     "name": "stderr",
     "output_type": "stream",
     "text": [
      "保存 ./data/PubMed/split\\SEAL_test_neg 分批文件:  62%|██████▏   | 28/45 [00:17<00:10,  1.60batch/s]"
     ]
    },
    {
     "name": "stdout",
     "output_type": "stream",
     "text": [
      "已保存 ./data/PubMed/split\\SEAL_test_neg_batch27.pt，当前内存占用率 44.1%\n"
     ]
    },
    {
     "name": "stderr",
     "output_type": "stream",
     "text": [
      "保存 ./data/PubMed/split\\SEAL_test_neg 分批文件:  64%|██████▍   | 29/45 [00:18<00:10,  1.59batch/s]"
     ]
    },
    {
     "name": "stdout",
     "output_type": "stream",
     "text": [
      "已保存 ./data/PubMed/split\\SEAL_test_neg_batch28.pt，当前内存占用率 44.0%\n"
     ]
    },
    {
     "name": "stderr",
     "output_type": "stream",
     "text": [
      "保存 ./data/PubMed/split\\SEAL_test_neg 分批文件:  67%|██████▋   | 30/45 [00:18<00:09,  1.61batch/s]"
     ]
    },
    {
     "name": "stdout",
     "output_type": "stream",
     "text": [
      "已保存 ./data/PubMed/split\\SEAL_test_neg_batch29.pt，当前内存占用率 44.0%\n"
     ]
    },
    {
     "name": "stderr",
     "output_type": "stream",
     "text": [
      "保存 ./data/PubMed/split\\SEAL_test_neg 分批文件:  69%|██████▉   | 31/45 [00:19<00:08,  1.64batch/s]"
     ]
    },
    {
     "name": "stdout",
     "output_type": "stream",
     "text": [
      "已保存 ./data/PubMed/split\\SEAL_test_neg_batch30.pt，当前内存占用率 44.0%\n"
     ]
    },
    {
     "name": "stderr",
     "output_type": "stream",
     "text": [
      "保存 ./data/PubMed/split\\SEAL_test_neg 分批文件:  71%|███████   | 32/45 [00:20<00:07,  1.65batch/s]"
     ]
    },
    {
     "name": "stdout",
     "output_type": "stream",
     "text": [
      "已保存 ./data/PubMed/split\\SEAL_test_neg_batch31.pt，当前内存占用率 44.0%\n"
     ]
    },
    {
     "name": "stderr",
     "output_type": "stream",
     "text": [
      "保存 ./data/PubMed/split\\SEAL_test_neg 分批文件:  73%|███████▎  | 33/45 [00:20<00:07,  1.67batch/s]"
     ]
    },
    {
     "name": "stdout",
     "output_type": "stream",
     "text": [
      "已保存 ./data/PubMed/split\\SEAL_test_neg_batch32.pt，当前内存占用率 44.1%\n"
     ]
    },
    {
     "name": "stderr",
     "output_type": "stream",
     "text": [
      "保存 ./data/PubMed/split\\SEAL_test_neg 分批文件:  76%|███████▌  | 34/45 [00:21<00:06,  1.57batch/s]"
     ]
    },
    {
     "name": "stdout",
     "output_type": "stream",
     "text": [
      "已保存 ./data/PubMed/split\\SEAL_test_neg_batch33.pt，当前内存占用率 44.1%\n"
     ]
    },
    {
     "name": "stderr",
     "output_type": "stream",
     "text": [
      "保存 ./data/PubMed/split\\SEAL_test_neg 分批文件:  78%|███████▊  | 35/45 [00:22<00:06,  1.62batch/s]"
     ]
    },
    {
     "name": "stdout",
     "output_type": "stream",
     "text": [
      "已保存 ./data/PubMed/split\\SEAL_test_neg_batch34.pt，当前内存占用率 44.0%\n"
     ]
    },
    {
     "name": "stderr",
     "output_type": "stream",
     "text": [
      "保存 ./data/PubMed/split\\SEAL_test_neg 分批文件:  80%|████████  | 36/45 [00:22<00:05,  1.64batch/s]"
     ]
    },
    {
     "name": "stdout",
     "output_type": "stream",
     "text": [
      "已保存 ./data/PubMed/split\\SEAL_test_neg_batch35.pt，当前内存占用率 44.0%\n"
     ]
    },
    {
     "name": "stderr",
     "output_type": "stream",
     "text": [
      "保存 ./data/PubMed/split\\SEAL_test_neg 分批文件:  82%|████████▏ | 37/45 [00:23<00:04,  1.60batch/s]"
     ]
    },
    {
     "name": "stdout",
     "output_type": "stream",
     "text": [
      "已保存 ./data/PubMed/split\\SEAL_test_neg_batch36.pt，当前内存占用率 44.0%\n"
     ]
    },
    {
     "name": "stderr",
     "output_type": "stream",
     "text": [
      "保存 ./data/PubMed/split\\SEAL_test_neg 分批文件:  84%|████████▍ | 38/45 [00:23<00:04,  1.54batch/s]"
     ]
    },
    {
     "name": "stdout",
     "output_type": "stream",
     "text": [
      "已保存 ./data/PubMed/split\\SEAL_test_neg_batch37.pt，当前内存占用率 43.9%\n"
     ]
    },
    {
     "name": "stderr",
     "output_type": "stream",
     "text": [
      "保存 ./data/PubMed/split\\SEAL_test_neg 分批文件:  87%|████████▋ | 39/45 [00:24<00:03,  1.57batch/s]"
     ]
    },
    {
     "name": "stdout",
     "output_type": "stream",
     "text": [
      "已保存 ./data/PubMed/split\\SEAL_test_neg_batch38.pt，当前内存占用率 44.0%\n"
     ]
    },
    {
     "name": "stderr",
     "output_type": "stream",
     "text": [
      "保存 ./data/PubMed/split\\SEAL_test_neg 分批文件:  89%|████████▉ | 40/45 [00:25<00:03,  1.57batch/s]"
     ]
    },
    {
     "name": "stdout",
     "output_type": "stream",
     "text": [
      "已保存 ./data/PubMed/split\\SEAL_test_neg_batch39.pt，当前内存占用率 44.0%\n"
     ]
    },
    {
     "name": "stderr",
     "output_type": "stream",
     "text": [
      "保存 ./data/PubMed/split\\SEAL_test_neg 分批文件:  91%|█████████ | 41/45 [00:25<00:02,  1.59batch/s]"
     ]
    },
    {
     "name": "stdout",
     "output_type": "stream",
     "text": [
      "已保存 ./data/PubMed/split\\SEAL_test_neg_batch40.pt，当前内存占用率 44.0%\n"
     ]
    },
    {
     "name": "stderr",
     "output_type": "stream",
     "text": [
      "保存 ./data/PubMed/split\\SEAL_test_neg 分批文件:  93%|█████████▎| 42/45 [00:26<00:01,  1.61batch/s]"
     ]
    },
    {
     "name": "stdout",
     "output_type": "stream",
     "text": [
      "已保存 ./data/PubMed/split\\SEAL_test_neg_batch41.pt，当前内存占用率 44.0%\n"
     ]
    },
    {
     "name": "stderr",
     "output_type": "stream",
     "text": [
      "保存 ./data/PubMed/split\\SEAL_test_neg 分批文件:  96%|█████████▌| 43/45 [00:27<00:01,  1.58batch/s]"
     ]
    },
    {
     "name": "stdout",
     "output_type": "stream",
     "text": [
      "已保存 ./data/PubMed/split\\SEAL_test_neg_batch42.pt，当前内存占用率 44.0%\n"
     ]
    },
    {
     "name": "stderr",
     "output_type": "stream",
     "text": [
      "保存 ./data/PubMed/split\\SEAL_test_neg 分批文件:  98%|█████████▊| 44/45 [00:27<00:00,  1.60batch/s]"
     ]
    },
    {
     "name": "stdout",
     "output_type": "stream",
     "text": [
      "已保存 ./data/PubMed/split\\SEAL_test_neg_batch43.pt，当前内存占用率 44.0%\n"
     ]
    },
    {
     "name": "stderr",
     "output_type": "stream",
     "text": [
      "保存 ./data/PubMed/split\\SEAL_test_neg 分批文件: 100%|██████████| 45/45 [00:27<00:00,  1.61batch/s]"
     ]
    },
    {
     "name": "stdout",
     "output_type": "stream",
     "text": [
      "已保存 ./data/PubMed/split\\SEAL_test_neg_batch44.pt，当前内存占用率 43.9%\n",
      "所有分批处理和保存已完成！🚀\n",
      "\n",
      "--- 合并 train pos batch ---\n"
     ]
    },
    {
     "name": "stderr",
     "output_type": "stream",
     "text": [
      "\n"
     ]
    },
    {
     "name": "stdout",
     "output_type": "stream",
     "text": [
      "合并了 ./data/PubMed/split\\SEAL_train_pos_batch0.pt，当前总量：100\n",
      "合并了 ./data/PubMed/split\\SEAL_train_pos_batch1.pt，当前总量：200\n",
      "合并了 ./data/PubMed/split\\SEAL_train_pos_batch2.pt，当前总量：300\n",
      "合并了 ./data/PubMed/split\\SEAL_train_pos_batch3.pt，当前总量：400\n",
      "合并了 ./data/PubMed/split\\SEAL_train_pos_batch4.pt，当前总量：500\n",
      "合并了 ./data/PubMed/split\\SEAL_train_pos_batch5.pt，当前总量：600\n",
      "合并了 ./data/PubMed/split\\SEAL_train_pos_batch6.pt，当前总量：700\n",
      "合并了 ./data/PubMed/split\\SEAL_train_pos_batch7.pt，当前总量：800\n",
      "合并了 ./data/PubMed/split\\SEAL_train_pos_batch8.pt，当前总量：900\n",
      "合并了 ./data/PubMed/split\\SEAL_train_pos_batch9.pt，当前总量：1000\n",
      "合并了 ./data/PubMed/split\\SEAL_train_pos_batch10.pt，当前总量：1100\n",
      "合并了 ./data/PubMed/split\\SEAL_train_pos_batch11.pt，当前总量：1200\n",
      "合并了 ./data/PubMed/split\\SEAL_train_pos_batch12.pt，当前总量：1300\n",
      "合并了 ./data/PubMed/split\\SEAL_train_pos_batch13.pt，当前总量：1400\n",
      "合并了 ./data/PubMed/split\\SEAL_train_pos_batch14.pt，当前总量：1500\n",
      "合并了 ./data/PubMed/split\\SEAL_train_pos_batch15.pt，当前总量：1600\n",
      "合并了 ./data/PubMed/split\\SEAL_train_pos_batch16.pt，当前总量：1700\n",
      "合并了 ./data/PubMed/split\\SEAL_train_pos_batch17.pt，当前总量：1800\n",
      "合并了 ./data/PubMed/split\\SEAL_train_pos_batch18.pt，当前总量：1900\n",
      "合并了 ./data/PubMed/split\\SEAL_train_pos_batch19.pt，当前总量：2000\n",
      "合并了 ./data/PubMed/split\\SEAL_train_pos_batch20.pt，当前总量：2100\n",
      "合并了 ./data/PubMed/split\\SEAL_train_pos_batch21.pt，当前总量：2200\n",
      "合并了 ./data/PubMed/split\\SEAL_train_pos_batch22.pt，当前总量：2300\n",
      "合并了 ./data/PubMed/split\\SEAL_train_pos_batch23.pt，当前总量：2400\n",
      "合并了 ./data/PubMed/split\\SEAL_train_pos_batch24.pt，当前总量：2500\n",
      "合并了 ./data/PubMed/split\\SEAL_train_pos_batch25.pt，当前总量：2600\n",
      "合并了 ./data/PubMed/split\\SEAL_train_pos_batch26.pt，当前总量：2700\n",
      "合并了 ./data/PubMed/split\\SEAL_train_pos_batch27.pt，当前总量：2800\n",
      "合并了 ./data/PubMed/split\\SEAL_train_pos_batch28.pt，当前总量：2900\n",
      "合并了 ./data/PubMed/split\\SEAL_train_pos_batch29.pt，当前总量：3000\n",
      "合并了 ./data/PubMed/split\\SEAL_train_pos_batch30.pt，当前总量：3100\n",
      "合并了 ./data/PubMed/split\\SEAL_train_pos_batch31.pt，当前总量：3200\n",
      "合并了 ./data/PubMed/split\\SEAL_train_pos_batch32.pt，当前总量：3300\n",
      "合并了 ./data/PubMed/split\\SEAL_train_pos_batch33.pt，当前总量：3400\n",
      "合并了 ./data/PubMed/split\\SEAL_train_pos_batch34.pt，当前总量：3500\n",
      "合并了 ./data/PubMed/split\\SEAL_train_pos_batch35.pt，当前总量：3600\n",
      "合并了 ./data/PubMed/split\\SEAL_train_pos_batch36.pt，当前总量：3700\n",
      "合并了 ./data/PubMed/split\\SEAL_train_pos_batch37.pt，当前总量：3800\n",
      "合并了 ./data/PubMed/split\\SEAL_train_pos_batch38.pt，当前总量：3900\n",
      "合并了 ./data/PubMed/split\\SEAL_train_pos_batch39.pt，当前总量：4000\n",
      "合并了 ./data/PubMed/split\\SEAL_train_pos_batch40.pt，当前总量：4100\n",
      "合并了 ./data/PubMed/split\\SEAL_train_pos_batch41.pt，当前总量：4200\n",
      "合并了 ./data/PubMed/split\\SEAL_train_pos_batch42.pt，当前总量：4300\n",
      "合并了 ./data/PubMed/split\\SEAL_train_pos_batch43.pt，当前总量：4400\n",
      "合并了 ./data/PubMed/split\\SEAL_train_pos_batch44.pt，当前总量：4500\n",
      "合并了 ./data/PubMed/split\\SEAL_train_pos_batch45.pt，当前总量：4600\n",
      "合并了 ./data/PubMed/split\\SEAL_train_pos_batch46.pt，当前总量：4700\n",
      "合并了 ./data/PubMed/split\\SEAL_train_pos_batch47.pt，当前总量：4800\n",
      "合并了 ./data/PubMed/split\\SEAL_train_pos_batch48.pt，当前总量：4900\n",
      "合并了 ./data/PubMed/split\\SEAL_train_pos_batch49.pt，当前总量：5000\n",
      "合并了 ./data/PubMed/split\\SEAL_train_pos_batch50.pt，当前总量：5100\n",
      "合并了 ./data/PubMed/split\\SEAL_train_pos_batch51.pt，当前总量：5200\n",
      "合并了 ./data/PubMed/split\\SEAL_train_pos_batch52.pt，当前总量：5300\n",
      "合并了 ./data/PubMed/split\\SEAL_train_pos_batch53.pt，当前总量：5400\n",
      "合并了 ./data/PubMed/split\\SEAL_train_pos_batch54.pt，当前总量：5500\n",
      "合并了 ./data/PubMed/split\\SEAL_train_pos_batch55.pt，当前总量：5600\n",
      "合并了 ./data/PubMed/split\\SEAL_train_pos_batch56.pt，当前总量：5700\n",
      "合并了 ./data/PubMed/split\\SEAL_train_pos_batch57.pt，当前总量：5800\n",
      "合并了 ./data/PubMed/split\\SEAL_train_pos_batch58.pt，当前总量：5900\n",
      "合并了 ./data/PubMed/split\\SEAL_train_pos_batch59.pt，当前总量：6000\n",
      "合并了 ./data/PubMed/split\\SEAL_train_pos_batch60.pt，当前总量：6100\n",
      "合并了 ./data/PubMed/split\\SEAL_train_pos_batch61.pt，当前总量：6200\n",
      "合并了 ./data/PubMed/split\\SEAL_train_pos_batch62.pt，当前总量：6300\n",
      "合并了 ./data/PubMed/split\\SEAL_train_pos_batch63.pt，当前总量：6400\n",
      "合并了 ./data/PubMed/split\\SEAL_train_pos_batch64.pt，当前总量：6500\n",
      "合并了 ./data/PubMed/split\\SEAL_train_pos_batch65.pt，当前总量：6600\n",
      "合并了 ./data/PubMed/split\\SEAL_train_pos_batch66.pt，当前总量：6700\n",
      "合并了 ./data/PubMed/split\\SEAL_train_pos_batch67.pt，当前总量：6800\n",
      "合并了 ./data/PubMed/split\\SEAL_train_pos_batch68.pt，当前总量：6900\n",
      "合并了 ./data/PubMed/split\\SEAL_train_pos_batch69.pt，当前总量：7000\n",
      "合并了 ./data/PubMed/split\\SEAL_train_pos_batch70.pt，当前总量：7100\n",
      "合并了 ./data/PubMed/split\\SEAL_train_pos_batch71.pt，当前总量：7200\n",
      "合并了 ./data/PubMed/split\\SEAL_train_pos_batch72.pt，当前总量：7300\n",
      "合并了 ./data/PubMed/split\\SEAL_train_pos_batch73.pt，当前总量：7400\n",
      "合并了 ./data/PubMed/split\\SEAL_train_pos_batch74.pt，当前总量：7500\n",
      "合并了 ./data/PubMed/split\\SEAL_train_pos_batch75.pt，当前总量：7600\n",
      "合并了 ./data/PubMed/split\\SEAL_train_pos_batch76.pt，当前总量：7700\n",
      "合并了 ./data/PubMed/split\\SEAL_train_pos_batch77.pt，当前总量：7800\n",
      "合并了 ./data/PubMed/split\\SEAL_train_pos_batch78.pt，当前总量：7900\n",
      "合并了 ./data/PubMed/split\\SEAL_train_pos_batch79.pt，当前总量：8000\n",
      "合并了 ./data/PubMed/split\\SEAL_train_pos_batch80.pt，当前总量：8100\n",
      "合并了 ./data/PubMed/split\\SEAL_train_pos_batch81.pt，当前总量：8200\n",
      "合并了 ./data/PubMed/split\\SEAL_train_pos_batch82.pt，当前总量：8300\n",
      "合并了 ./data/PubMed/split\\SEAL_train_pos_batch83.pt，当前总量：8400\n",
      "合并了 ./data/PubMed/split\\SEAL_train_pos_batch84.pt，当前总量：8500\n",
      "合并了 ./data/PubMed/split\\SEAL_train_pos_batch85.pt，当前总量：8600\n",
      "合并了 ./data/PubMed/split\\SEAL_train_pos_batch86.pt，当前总量：8700\n",
      "合并了 ./data/PubMed/split\\SEAL_train_pos_batch87.pt，当前总量：8800\n",
      "合并了 ./data/PubMed/split\\SEAL_train_pos_batch88.pt，当前总量：8900\n",
      "合并了 ./data/PubMed/split\\SEAL_train_pos_batch89.pt，当前总量：9000\n",
      "合并了 ./data/PubMed/split\\SEAL_train_pos_batch90.pt，当前总量：9100\n",
      "合并了 ./data/PubMed/split\\SEAL_train_pos_batch91.pt，当前总量：9200\n",
      "合并了 ./data/PubMed/split\\SEAL_train_pos_batch92.pt，当前总量：9300\n",
      "合并了 ./data/PubMed/split\\SEAL_train_pos_batch93.pt，当前总量：9400\n",
      "合并了 ./data/PubMed/split\\SEAL_train_pos_batch94.pt，当前总量：9500\n",
      "合并了 ./data/PubMed/split\\SEAL_train_pos_batch95.pt，当前总量：9600\n",
      "合并了 ./data/PubMed/split\\SEAL_train_pos_batch96.pt，当前总量：9700\n",
      "合并了 ./data/PubMed/split\\SEAL_train_pos_batch97.pt，当前总量：9800\n",
      "合并了 ./data/PubMed/split\\SEAL_train_pos_batch98.pt，当前总量：9900\n",
      "合并了 ./data/PubMed/split\\SEAL_train_pos_batch99.pt，当前总量：10000\n",
      "合并了 ./data/PubMed/split\\SEAL_train_pos_batch100.pt，当前总量：10100\n",
      "合并了 ./data/PubMed/split\\SEAL_train_pos_batch101.pt，当前总量：10200\n",
      "合并了 ./data/PubMed/split\\SEAL_train_pos_batch102.pt，当前总量：10300\n",
      "合并了 ./data/PubMed/split\\SEAL_train_pos_batch103.pt，当前总量：10400\n",
      "合并了 ./data/PubMed/split\\SEAL_train_pos_batch104.pt，当前总量：10500\n",
      "合并了 ./data/PubMed/split\\SEAL_train_pos_batch105.pt，当前总量：10600\n",
      "合并了 ./data/PubMed/split\\SEAL_train_pos_batch106.pt，当前总量：10700\n",
      "合并了 ./data/PubMed/split\\SEAL_train_pos_batch107.pt，当前总量：10800\n",
      "合并了 ./data/PubMed/split\\SEAL_train_pos_batch108.pt，当前总量：10900\n",
      "合并了 ./data/PubMed/split\\SEAL_train_pos_batch109.pt，当前总量：11000\n",
      "合并了 ./data/PubMed/split\\SEAL_train_pos_batch110.pt，当前总量：11100\n",
      "合并了 ./data/PubMed/split\\SEAL_train_pos_batch111.pt，当前总量：11200\n",
      "合并了 ./data/PubMed/split\\SEAL_train_pos_batch112.pt，当前总量：11300\n",
      "合并了 ./data/PubMed/split\\SEAL_train_pos_batch113.pt，当前总量：11400\n",
      "合并了 ./data/PubMed/split\\SEAL_train_pos_batch114.pt，当前总量：11500\n",
      "合并了 ./data/PubMed/split\\SEAL_train_pos_batch115.pt，当前总量：11600\n",
      "合并了 ./data/PubMed/split\\SEAL_train_pos_batch116.pt，当前总量：11700\n",
      "合并了 ./data/PubMed/split\\SEAL_train_pos_batch117.pt，当前总量：11800\n",
      "合并了 ./data/PubMed/split\\SEAL_train_pos_batch118.pt，当前总量：11900\n",
      "合并了 ./data/PubMed/split\\SEAL_train_pos_batch119.pt，当前总量：12000\n",
      "合并了 ./data/PubMed/split\\SEAL_train_pos_batch120.pt，当前总量：12100\n",
      "合并了 ./data/PubMed/split\\SEAL_train_pos_batch121.pt，当前总量：12200\n",
      "合并了 ./data/PubMed/split\\SEAL_train_pos_batch122.pt，当前总量：12300\n",
      "合并了 ./data/PubMed/split\\SEAL_train_pos_batch123.pt，当前总量：12400\n",
      "合并了 ./data/PubMed/split\\SEAL_train_pos_batch124.pt，当前总量：12500\n",
      "合并了 ./data/PubMed/split\\SEAL_train_pos_batch125.pt，当前总量：12600\n",
      "合并了 ./data/PubMed/split\\SEAL_train_pos_batch126.pt，当前总量：12700\n",
      "合并了 ./data/PubMed/split\\SEAL_train_pos_batch127.pt，当前总量：12800\n",
      "合并了 ./data/PubMed/split\\SEAL_train_pos_batch128.pt，当前总量：12900\n",
      "合并了 ./data/PubMed/split\\SEAL_train_pos_batch129.pt，当前总量：13000\n",
      "合并了 ./data/PubMed/split\\SEAL_train_pos_batch130.pt，当前总量：13100\n",
      "合并了 ./data/PubMed/split\\SEAL_train_pos_batch131.pt，当前总量：13200\n",
      "合并了 ./data/PubMed/split\\SEAL_train_pos_batch132.pt，当前总量：13300\n",
      "合并了 ./data/PubMed/split\\SEAL_train_pos_batch133.pt，当前总量：13400\n",
      "合并了 ./data/PubMed/split\\SEAL_train_pos_batch134.pt，当前总量：13500\n",
      "合并了 ./data/PubMed/split\\SEAL_train_pos_batch135.pt，当前总量：13600\n",
      "合并了 ./data/PubMed/split\\SEAL_train_pos_batch136.pt，当前总量：13700\n",
      "合并了 ./data/PubMed/split\\SEAL_train_pos_batch137.pt，当前总量：13800\n",
      "合并了 ./data/PubMed/split\\SEAL_train_pos_batch138.pt，当前总量：13900\n",
      "合并了 ./data/PubMed/split\\SEAL_train_pos_batch139.pt，当前总量：14000\n",
      "合并了 ./data/PubMed/split\\SEAL_train_pos_batch140.pt，当前总量：14100\n",
      "合并了 ./data/PubMed/split\\SEAL_train_pos_batch141.pt，当前总量：14200\n",
      "合并了 ./data/PubMed/split\\SEAL_train_pos_batch142.pt，当前总量：14300\n",
      "合并了 ./data/PubMed/split\\SEAL_train_pos_batch143.pt，当前总量：14400\n",
      "合并了 ./data/PubMed/split\\SEAL_train_pos_batch144.pt，当前总量：14500\n",
      "合并了 ./data/PubMed/split\\SEAL_train_pos_batch145.pt，当前总量：14600\n",
      "合并了 ./data/PubMed/split\\SEAL_train_pos_batch146.pt，当前总量：14700\n",
      "合并了 ./data/PubMed/split\\SEAL_train_pos_batch147.pt，当前总量：14800\n",
      "合并了 ./data/PubMed/split\\SEAL_train_pos_batch148.pt，当前总量：14900\n",
      "合并了 ./data/PubMed/split\\SEAL_train_pos_batch149.pt，当前总量：15000\n",
      "合并了 ./data/PubMed/split\\SEAL_train_pos_batch150.pt，当前总量：15100\n",
      "合并了 ./data/PubMed/split\\SEAL_train_pos_batch151.pt，当前总量：15200\n",
      "合并了 ./data/PubMed/split\\SEAL_train_pos_batch152.pt，当前总量：15300\n",
      "合并了 ./data/PubMed/split\\SEAL_train_pos_batch153.pt，当前总量：15400\n",
      "合并了 ./data/PubMed/split\\SEAL_train_pos_batch154.pt，当前总量：15500\n",
      "合并了 ./data/PubMed/split\\SEAL_train_pos_batch155.pt，当前总量：15600\n",
      "合并了 ./data/PubMed/split\\SEAL_train_pos_batch156.pt，当前总量：15700\n",
      "合并了 ./data/PubMed/split\\SEAL_train_pos_batch157.pt，当前总量：15800\n",
      "合并了 ./data/PubMed/split\\SEAL_train_pos_batch158.pt，当前总量：15900\n",
      "合并了 ./data/PubMed/split\\SEAL_train_pos_batch159.pt，当前总量：16000\n",
      "合并了 ./data/PubMed/split\\SEAL_train_pos_batch160.pt，当前总量：16100\n",
      "合并了 ./data/PubMed/split\\SEAL_train_pos_batch161.pt，当前总量：16200\n",
      "合并了 ./data/PubMed/split\\SEAL_train_pos_batch162.pt，当前总量：16300\n",
      "合并了 ./data/PubMed/split\\SEAL_train_pos_batch163.pt，当前总量：16400\n",
      "合并了 ./data/PubMed/split\\SEAL_train_pos_batch164.pt，当前总量：16500\n",
      "合并了 ./data/PubMed/split\\SEAL_train_pos_batch165.pt，当前总量：16600\n",
      "合并了 ./data/PubMed/split\\SEAL_train_pos_batch166.pt，当前总量：16700\n",
      "合并了 ./data/PubMed/split\\SEAL_train_pos_batch167.pt，当前总量：16800\n",
      "合并了 ./data/PubMed/split\\SEAL_train_pos_batch168.pt，当前总量：16900\n",
      "合并了 ./data/PubMed/split\\SEAL_train_pos_batch169.pt，当前总量：17000\n",
      "合并了 ./data/PubMed/split\\SEAL_train_pos_batch170.pt，当前总量：17100\n",
      "合并了 ./data/PubMed/split\\SEAL_train_pos_batch171.pt，当前总量：17200\n",
      "合并了 ./data/PubMed/split\\SEAL_train_pos_batch172.pt，当前总量：17300\n",
      "合并了 ./data/PubMed/split\\SEAL_train_pos_batch173.pt，当前总量：17400\n",
      "合并了 ./data/PubMed/split\\SEAL_train_pos_batch174.pt，当前总量：17500\n",
      "合并了 ./data/PubMed/split\\SEAL_train_pos_batch175.pt，当前总量：17600\n",
      "合并了 ./data/PubMed/split\\SEAL_train_pos_batch176.pt，当前总量：17700\n",
      "合并了 ./data/PubMed/split\\SEAL_train_pos_batch177.pt，当前总量：17800\n",
      "合并了 ./data/PubMed/split\\SEAL_train_pos_batch178.pt，当前总量：17900\n",
      "合并了 ./data/PubMed/split\\SEAL_train_pos_batch179.pt，当前总量：18000\n",
      "合并了 ./data/PubMed/split\\SEAL_train_pos_batch180.pt，当前总量：18100\n",
      "合并了 ./data/PubMed/split\\SEAL_train_pos_batch181.pt，当前总量：18200\n",
      "合并了 ./data/PubMed/split\\SEAL_train_pos_batch182.pt，当前总量：18300\n",
      "合并了 ./data/PubMed/split\\SEAL_train_pos_batch183.pt，当前总量：18400\n",
      "合并了 ./data/PubMed/split\\SEAL_train_pos_batch184.pt，当前总量：18500\n",
      "合并了 ./data/PubMed/split\\SEAL_train_pos_batch185.pt，当前总量：18600\n",
      "合并了 ./data/PubMed/split\\SEAL_train_pos_batch186.pt，当前总量：18700\n",
      "合并了 ./data/PubMed/split\\SEAL_train_pos_batch187.pt，当前总量：18800\n",
      "合并了 ./data/PubMed/split\\SEAL_train_pos_batch188.pt，当前总量：18900\n",
      "合并了 ./data/PubMed/split\\SEAL_train_pos_batch189.pt，当前总量：19000\n",
      "合并了 ./data/PubMed/split\\SEAL_train_pos_batch190.pt，当前总量：19100\n",
      "合并了 ./data/PubMed/split\\SEAL_train_pos_batch191.pt，当前总量：19200\n",
      "合并了 ./data/PubMed/split\\SEAL_train_pos_batch192.pt，当前总量：19300\n",
      "合并了 ./data/PubMed/split\\SEAL_train_pos_batch193.pt，当前总量：19400\n",
      "合并了 ./data/PubMed/split\\SEAL_train_pos_batch194.pt，当前总量：19500\n",
      "合并了 ./data/PubMed/split\\SEAL_train_pos_batch195.pt，当前总量：19600\n",
      "合并了 ./data/PubMed/split\\SEAL_train_pos_batch196.pt，当前总量：19700\n",
      "合并了 ./data/PubMed/split\\SEAL_train_pos_batch197.pt，当前总量：19800\n",
      "合并了 ./data/PubMed/split\\SEAL_train_pos_batch198.pt，当前总量：19900\n",
      "合并了 ./data/PubMed/split\\SEAL_train_pos_batch199.pt，当前总量：20000\n",
      "合并了 ./data/PubMed/split\\SEAL_train_pos_batch200.pt，当前总量：20100\n",
      "合并了 ./data/PubMed/split\\SEAL_train_pos_batch201.pt，当前总量：20200\n",
      "合并了 ./data/PubMed/split\\SEAL_train_pos_batch202.pt，当前总量：20300\n",
      "合并了 ./data/PubMed/split\\SEAL_train_pos_batch203.pt，当前总量：20400\n",
      "合并了 ./data/PubMed/split\\SEAL_train_pos_batch204.pt，当前总量：20500\n",
      "合并了 ./data/PubMed/split\\SEAL_train_pos_batch205.pt，当前总量：20600\n",
      "合并了 ./data/PubMed/split\\SEAL_train_pos_batch206.pt，当前总量：20700\n",
      "合并了 ./data/PubMed/split\\SEAL_train_pos_batch207.pt，当前总量：20800\n",
      "合并了 ./data/PubMed/split\\SEAL_train_pos_batch208.pt，当前总量：20900\n",
      "合并了 ./data/PubMed/split\\SEAL_train_pos_batch209.pt，当前总量：21000\n",
      "合并了 ./data/PubMed/split\\SEAL_train_pos_batch210.pt，当前总量：21100\n",
      "合并了 ./data/PubMed/split\\SEAL_train_pos_batch211.pt，当前总量：21200\n",
      "合并了 ./data/PubMed/split\\SEAL_train_pos_batch212.pt，当前总量：21300\n",
      "合并了 ./data/PubMed/split\\SEAL_train_pos_batch213.pt，当前总量：21400\n",
      "合并了 ./data/PubMed/split\\SEAL_train_pos_batch214.pt，当前总量：21500\n",
      "合并了 ./data/PubMed/split\\SEAL_train_pos_batch215.pt，当前总量：21600\n",
      "合并了 ./data/PubMed/split\\SEAL_train_pos_batch216.pt，当前总量：21700\n",
      "合并了 ./data/PubMed/split\\SEAL_train_pos_batch217.pt，当前总量：21800\n",
      "合并了 ./data/PubMed/split\\SEAL_train_pos_batch218.pt，当前总量：21900\n",
      "合并了 ./data/PubMed/split\\SEAL_train_pos_batch219.pt，当前总量：22000\n",
      "合并了 ./data/PubMed/split\\SEAL_train_pos_batch220.pt，当前总量：22100\n",
      "合并了 ./data/PubMed/split\\SEAL_train_pos_batch221.pt，当前总量：22200\n",
      "合并了 ./data/PubMed/split\\SEAL_train_pos_batch222.pt，当前总量：22300\n",
      "合并了 ./data/PubMed/split\\SEAL_train_pos_batch223.pt，当前总量：22400\n",
      "合并了 ./data/PubMed/split\\SEAL_train_pos_batch224.pt，当前总量：22500\n",
      "合并了 ./data/PubMed/split\\SEAL_train_pos_batch225.pt，当前总量：22600\n",
      "合并了 ./data/PubMed/split\\SEAL_train_pos_batch226.pt，当前总量：22700\n",
      "合并了 ./data/PubMed/split\\SEAL_train_pos_batch227.pt，当前总量：22800\n",
      "合并了 ./data/PubMed/split\\SEAL_train_pos_batch228.pt，当前总量：22900\n",
      "合并了 ./data/PubMed/split\\SEAL_train_pos_batch229.pt，当前总量：23000\n",
      "合并了 ./data/PubMed/split\\SEAL_train_pos_batch230.pt，当前总量：23100\n",
      "合并了 ./data/PubMed/split\\SEAL_train_pos_batch231.pt，当前总量：23200\n",
      "合并了 ./data/PubMed/split\\SEAL_train_pos_batch232.pt，当前总量：23300\n",
      "合并了 ./data/PubMed/split\\SEAL_train_pos_batch233.pt，当前总量：23400\n",
      "合并了 ./data/PubMed/split\\SEAL_train_pos_batch234.pt，当前总量：23500\n",
      "合并了 ./data/PubMed/split\\SEAL_train_pos_batch235.pt，当前总量：23600\n",
      "合并了 ./data/PubMed/split\\SEAL_train_pos_batch236.pt，当前总量：23700\n",
      "合并了 ./data/PubMed/split\\SEAL_train_pos_batch237.pt，当前总量：23800\n",
      "合并了 ./data/PubMed/split\\SEAL_train_pos_batch238.pt，当前总量：23900\n",
      "合并了 ./data/PubMed/split\\SEAL_train_pos_batch239.pt，当前总量：24000\n",
      "合并了 ./data/PubMed/split\\SEAL_train_pos_batch240.pt，当前总量：24100\n",
      "合并了 ./data/PubMed/split\\SEAL_train_pos_batch241.pt，当前总量：24200\n",
      "合并了 ./data/PubMed/split\\SEAL_train_pos_batch242.pt，当前总量：24300\n",
      "合并了 ./data/PubMed/split\\SEAL_train_pos_batch243.pt，当前总量：24400\n",
      "合并了 ./data/PubMed/split\\SEAL_train_pos_batch244.pt，当前总量：24500\n",
      "合并了 ./data/PubMed/split\\SEAL_train_pos_batch245.pt，当前总量：24600\n",
      "合并了 ./data/PubMed/split\\SEAL_train_pos_batch246.pt，当前总量：24700\n",
      "合并了 ./data/PubMed/split\\SEAL_train_pos_batch247.pt，当前总量：24800\n",
      "合并了 ./data/PubMed/split\\SEAL_train_pos_batch248.pt，当前总量：24900\n",
      "合并了 ./data/PubMed/split\\SEAL_train_pos_batch249.pt，当前总量：25000\n",
      "合并了 ./data/PubMed/split\\SEAL_train_pos_batch250.pt，当前总量：25100\n",
      "合并了 ./data/PubMed/split\\SEAL_train_pos_batch251.pt，当前总量：25200\n",
      "合并了 ./data/PubMed/split\\SEAL_train_pos_batch252.pt，当前总量：25300\n",
      "合并了 ./data/PubMed/split\\SEAL_train_pos_batch253.pt，当前总量：25400\n",
      "合并了 ./data/PubMed/split\\SEAL_train_pos_batch254.pt，当前总量：25500\n",
      "合并了 ./data/PubMed/split\\SEAL_train_pos_batch255.pt，当前总量：25600\n",
      "合并了 ./data/PubMed/split\\SEAL_train_pos_batch256.pt，当前总量：25700\n",
      "合并了 ./data/PubMed/split\\SEAL_train_pos_batch257.pt，当前总量：25800\n",
      "合并了 ./data/PubMed/split\\SEAL_train_pos_batch258.pt，当前总量：25900\n",
      "合并了 ./data/PubMed/split\\SEAL_train_pos_batch259.pt，当前总量：26000\n",
      "合并了 ./data/PubMed/split\\SEAL_train_pos_batch260.pt，当前总量：26100\n",
      "合并了 ./data/PubMed/split\\SEAL_train_pos_batch261.pt，当前总量：26200\n",
      "合并了 ./data/PubMed/split\\SEAL_train_pos_batch262.pt，当前总量：26300\n",
      "合并了 ./data/PubMed/split\\SEAL_train_pos_batch263.pt，当前总量：26400\n",
      "合并了 ./data/PubMed/split\\SEAL_train_pos_batch264.pt，当前总量：26500\n",
      "合并了 ./data/PubMed/split\\SEAL_train_pos_batch265.pt，当前总量：26600\n",
      "合并了 ./data/PubMed/split\\SEAL_train_pos_batch266.pt，当前总量：26700\n",
      "合并了 ./data/PubMed/split\\SEAL_train_pos_batch267.pt，当前总量：26800\n",
      "合并了 ./data/PubMed/split\\SEAL_train_pos_batch268.pt，当前总量：26900\n",
      "合并了 ./data/PubMed/split\\SEAL_train_pos_batch269.pt，当前总量：27000\n",
      "合并了 ./data/PubMed/split\\SEAL_train_pos_batch270.pt，当前总量：27100\n",
      "合并了 ./data/PubMed/split\\SEAL_train_pos_batch271.pt，当前总量：27200\n",
      "合并了 ./data/PubMed/split\\SEAL_train_pos_batch272.pt，当前总量：27300\n",
      "合并了 ./data/PubMed/split\\SEAL_train_pos_batch273.pt，当前总量：27400\n",
      "合并了 ./data/PubMed/split\\SEAL_train_pos_batch274.pt，当前总量：27500\n",
      "合并了 ./data/PubMed/split\\SEAL_train_pos_batch275.pt，当前总量：27600\n",
      "合并了 ./data/PubMed/split\\SEAL_train_pos_batch276.pt，当前总量：27700\n",
      "合并了 ./data/PubMed/split\\SEAL_train_pos_batch277.pt，当前总量：27800\n",
      "合并了 ./data/PubMed/split\\SEAL_train_pos_batch278.pt，当前总量：27900\n",
      "合并了 ./data/PubMed/split\\SEAL_train_pos_batch279.pt，当前总量：28000\n",
      "合并了 ./data/PubMed/split\\SEAL_train_pos_batch280.pt，当前总量：28100\n",
      "合并了 ./data/PubMed/split\\SEAL_train_pos_batch281.pt，当前总量：28200\n",
      "合并了 ./data/PubMed/split\\SEAL_train_pos_batch282.pt，当前总量：28300\n",
      "合并了 ./data/PubMed/split\\SEAL_train_pos_batch283.pt，当前总量：28400\n",
      "合并了 ./data/PubMed/split\\SEAL_train_pos_batch284.pt，当前总量：28500\n",
      "合并了 ./data/PubMed/split\\SEAL_train_pos_batch285.pt，当前总量：28600\n",
      "合并了 ./data/PubMed/split\\SEAL_train_pos_batch286.pt，当前总量：28700\n",
      "合并了 ./data/PubMed/split\\SEAL_train_pos_batch287.pt，当前总量：28800\n",
      "合并了 ./data/PubMed/split\\SEAL_train_pos_batch288.pt，当前总量：28900\n",
      "合并了 ./data/PubMed/split\\SEAL_train_pos_batch289.pt，当前总量：29000\n",
      "合并了 ./data/PubMed/split\\SEAL_train_pos_batch290.pt，当前总量：29100\n",
      "合并了 ./data/PubMed/split\\SEAL_train_pos_batch291.pt，当前总量：29200\n",
      "合并了 ./data/PubMed/split\\SEAL_train_pos_batch292.pt，当前总量：29300\n",
      "合并了 ./data/PubMed/split\\SEAL_train_pos_batch293.pt，当前总量：29400\n",
      "合并了 ./data/PubMed/split\\SEAL_train_pos_batch294.pt，当前总量：29500\n",
      "合并了 ./data/PubMed/split\\SEAL_train_pos_batch295.pt，当前总量：29600\n",
      "合并了 ./data/PubMed/split\\SEAL_train_pos_batch296.pt，当前总量：29700\n",
      "合并了 ./data/PubMed/split\\SEAL_train_pos_batch297.pt，当前总量：29800\n",
      "合并了 ./data/PubMed/split\\SEAL_train_pos_batch298.pt，当前总量：29900\n",
      "合并了 ./data/PubMed/split\\SEAL_train_pos_batch299.pt，当前总量：30000\n",
      "合并了 ./data/PubMed/split\\SEAL_train_pos_batch300.pt，当前总量：30100\n",
      "合并了 ./data/PubMed/split\\SEAL_train_pos_batch301.pt，当前总量：30200\n",
      "合并了 ./data/PubMed/split\\SEAL_train_pos_batch302.pt，当前总量：30300\n",
      "合并了 ./data/PubMed/split\\SEAL_train_pos_batch303.pt，当前总量：30400\n",
      "合并了 ./data/PubMed/split\\SEAL_train_pos_batch304.pt，当前总量：30500\n",
      "合并了 ./data/PubMed/split\\SEAL_train_pos_batch305.pt，当前总量：30600\n",
      "合并了 ./data/PubMed/split\\SEAL_train_pos_batch306.pt，当前总量：30700\n",
      "合并了 ./data/PubMed/split\\SEAL_train_pos_batch307.pt，当前总量：30800\n",
      "合并了 ./data/PubMed/split\\SEAL_train_pos_batch308.pt，当前总量：30900\n",
      "合并了 ./data/PubMed/split\\SEAL_train_pos_batch309.pt，当前总量：31000\n",
      "合并了 ./data/PubMed/split\\SEAL_train_pos_batch310.pt，当前总量：31100\n",
      "合并了 ./data/PubMed/split\\SEAL_train_pos_batch311.pt，当前总量：31200\n",
      "合并了 ./data/PubMed/split\\SEAL_train_pos_batch312.pt，当前总量：31300\n",
      "合并了 ./data/PubMed/split\\SEAL_train_pos_batch313.pt，当前总量：31400\n",
      "合并了 ./data/PubMed/split\\SEAL_train_pos_batch314.pt，当前总量：31500\n",
      "合并了 ./data/PubMed/split\\SEAL_train_pos_batch315.pt，当前总量：31600\n",
      "合并了 ./data/PubMed/split\\SEAL_train_pos_batch316.pt，当前总量：31700\n",
      "合并了 ./data/PubMed/split\\SEAL_train_pos_batch317.pt，当前总量：31800\n",
      "合并了 ./data/PubMed/split\\SEAL_train_pos_batch318.pt，当前总量：31900\n",
      "合并了 ./data/PubMed/split\\SEAL_train_pos_batch319.pt，当前总量：32000\n",
      "合并了 ./data/PubMed/split\\SEAL_train_pos_batch320.pt，当前总量：32100\n",
      "合并了 ./data/PubMed/split\\SEAL_train_pos_batch321.pt，当前总量：32200\n",
      "合并了 ./data/PubMed/split\\SEAL_train_pos_batch322.pt，当前总量：32300\n",
      "合并了 ./data/PubMed/split\\SEAL_train_pos_batch323.pt，当前总量：32400\n",
      "合并了 ./data/PubMed/split\\SEAL_train_pos_batch324.pt，当前总量：32500\n",
      "合并了 ./data/PubMed/split\\SEAL_train_pos_batch325.pt，当前总量：32600\n",
      "合并了 ./data/PubMed/split\\SEAL_train_pos_batch326.pt，当前总量：32700\n",
      "合并了 ./data/PubMed/split\\SEAL_train_pos_batch327.pt，当前总量：32800\n",
      "合并了 ./data/PubMed/split\\SEAL_train_pos_batch328.pt，当前总量：32900\n",
      "合并了 ./data/PubMed/split\\SEAL_train_pos_batch329.pt，当前总量：33000\n",
      "合并了 ./data/PubMed/split\\SEAL_train_pos_batch330.pt，当前总量：33100\n",
      "合并了 ./data/PubMed/split\\SEAL_train_pos_batch331.pt，当前总量：33200\n",
      "合并了 ./data/PubMed/split\\SEAL_train_pos_batch332.pt，当前总量：33300\n",
      "合并了 ./data/PubMed/split\\SEAL_train_pos_batch333.pt，当前总量：33400\n",
      "合并了 ./data/PubMed/split\\SEAL_train_pos_batch334.pt，当前总量：33500\n",
      "合并了 ./data/PubMed/split\\SEAL_train_pos_batch335.pt，当前总量：33600\n",
      "合并了 ./data/PubMed/split\\SEAL_train_pos_batch336.pt，当前总量：33700\n",
      "合并了 ./data/PubMed/split\\SEAL_train_pos_batch337.pt，当前总量：33800\n",
      "合并了 ./data/PubMed/split\\SEAL_train_pos_batch338.pt，当前总量：33900\n",
      "合并了 ./data/PubMed/split\\SEAL_train_pos_batch339.pt，当前总量：34000\n",
      "合并了 ./data/PubMed/split\\SEAL_train_pos_batch340.pt，当前总量：34100\n",
      "合并了 ./data/PubMed/split\\SEAL_train_pos_batch341.pt，当前总量：34200\n",
      "合并了 ./data/PubMed/split\\SEAL_train_pos_batch342.pt，当前总量：34300\n",
      "合并了 ./data/PubMed/split\\SEAL_train_pos_batch343.pt，当前总量：34400\n",
      "合并了 ./data/PubMed/split\\SEAL_train_pos_batch344.pt，当前总量：34500\n",
      "合并了 ./data/PubMed/split\\SEAL_train_pos_batch345.pt，当前总量：34600\n",
      "合并了 ./data/PubMed/split\\SEAL_train_pos_batch346.pt，当前总量：34700\n",
      "合并了 ./data/PubMed/split\\SEAL_train_pos_batch347.pt，当前总量：34800\n",
      "合并了 ./data/PubMed/split\\SEAL_train_pos_batch348.pt，当前总量：34900\n",
      "合并了 ./data/PubMed/split\\SEAL_train_pos_batch349.pt，当前总量：35000\n",
      "合并了 ./data/PubMed/split\\SEAL_train_pos_batch350.pt，当前总量：35100\n",
      "合并了 ./data/PubMed/split\\SEAL_train_pos_batch351.pt，当前总量：35200\n",
      "合并了 ./data/PubMed/split\\SEAL_train_pos_batch352.pt，当前总量：35300\n",
      "合并了 ./data/PubMed/split\\SEAL_train_pos_batch353.pt，当前总量：35400\n",
      "合并了 ./data/PubMed/split\\SEAL_train_pos_batch354.pt，当前总量：35500\n",
      "合并了 ./data/PubMed/split\\SEAL_train_pos_batch355.pt，当前总量：35600\n",
      "合并了 ./data/PubMed/split\\SEAL_train_pos_batch356.pt，当前总量：35700\n",
      "合并了 ./data/PubMed/split\\SEAL_train_pos_batch357.pt，当前总量：35800\n",
      "合并了 ./data/PubMed/split\\SEAL_train_pos_batch358.pt，当前总量：35900\n",
      "合并了 ./data/PubMed/split\\SEAL_train_pos_batch359.pt，当前总量：36000\n",
      "合并了 ./data/PubMed/split\\SEAL_train_pos_batch360.pt，当前总量：36100\n",
      "合并了 ./data/PubMed/split\\SEAL_train_pos_batch361.pt，当前总量：36200\n",
      "合并了 ./data/PubMed/split\\SEAL_train_pos_batch362.pt，当前总量：36300\n",
      "合并了 ./data/PubMed/split\\SEAL_train_pos_batch363.pt，当前总量：36400\n",
      "合并了 ./data/PubMed/split\\SEAL_train_pos_batch364.pt，当前总量：36500\n",
      "合并了 ./data/PubMed/split\\SEAL_train_pos_batch365.pt，当前总量：36600\n",
      "合并了 ./data/PubMed/split\\SEAL_train_pos_batch366.pt，当前总量：36700\n",
      "合并了 ./data/PubMed/split\\SEAL_train_pos_batch367.pt，当前总量：36800\n",
      "合并了 ./data/PubMed/split\\SEAL_train_pos_batch368.pt，当前总量：36900\n",
      "合并了 ./data/PubMed/split\\SEAL_train_pos_batch369.pt，当前总量：37000\n",
      "合并了 ./data/PubMed/split\\SEAL_train_pos_batch370.pt，当前总量：37100\n",
      "合并了 ./data/PubMed/split\\SEAL_train_pos_batch371.pt，当前总量：37200\n",
      "合并了 ./data/PubMed/split\\SEAL_train_pos_batch372.pt，当前总量：37300\n",
      "合并了 ./data/PubMed/split\\SEAL_train_pos_batch373.pt，当前总量：37400\n",
      "合并了 ./data/PubMed/split\\SEAL_train_pos_batch374.pt，当前总量：37500\n",
      "合并了 ./data/PubMed/split\\SEAL_train_pos_batch375.pt，当前总量：37600\n",
      "合并了 ./data/PubMed/split\\SEAL_train_pos_batch376.pt，当前总量：37676\n",
      "保存到 ./data/PubMed/split\\SEAL_train_pos_data_list.pt，总计 37676 条数据\n",
      "--- 合并 train neg batch ---\n",
      "合并了 ./data/PubMed/split\\SEAL_train_neg_batch0.pt，当前总量：100\n",
      "合并了 ./data/PubMed/split\\SEAL_train_neg_batch1.pt，当前总量：200\n",
      "合并了 ./data/PubMed/split\\SEAL_train_neg_batch2.pt，当前总量：300\n",
      "合并了 ./data/PubMed/split\\SEAL_train_neg_batch3.pt，当前总量：400\n",
      "合并了 ./data/PubMed/split\\SEAL_train_neg_batch4.pt，当前总量：500\n",
      "合并了 ./data/PubMed/split\\SEAL_train_neg_batch5.pt，当前总量：600\n",
      "合并了 ./data/PubMed/split\\SEAL_train_neg_batch6.pt，当前总量：700\n",
      "合并了 ./data/PubMed/split\\SEAL_train_neg_batch7.pt，当前总量：800\n",
      "合并了 ./data/PubMed/split\\SEAL_train_neg_batch8.pt，当前总量：900\n",
      "合并了 ./data/PubMed/split\\SEAL_train_neg_batch9.pt，当前总量：1000\n",
      "合并了 ./data/PubMed/split\\SEAL_train_neg_batch10.pt，当前总量：1100\n",
      "合并了 ./data/PubMed/split\\SEAL_train_neg_batch11.pt，当前总量：1200\n",
      "合并了 ./data/PubMed/split\\SEAL_train_neg_batch12.pt，当前总量：1300\n",
      "合并了 ./data/PubMed/split\\SEAL_train_neg_batch13.pt，当前总量：1400\n",
      "合并了 ./data/PubMed/split\\SEAL_train_neg_batch14.pt，当前总量：1500\n",
      "合并了 ./data/PubMed/split\\SEAL_train_neg_batch15.pt，当前总量：1600\n",
      "合并了 ./data/PubMed/split\\SEAL_train_neg_batch16.pt，当前总量：1700\n",
      "合并了 ./data/PubMed/split\\SEAL_train_neg_batch17.pt，当前总量：1800\n",
      "合并了 ./data/PubMed/split\\SEAL_train_neg_batch18.pt，当前总量：1900\n",
      "合并了 ./data/PubMed/split\\SEAL_train_neg_batch19.pt，当前总量：2000\n",
      "合并了 ./data/PubMed/split\\SEAL_train_neg_batch20.pt，当前总量：2100\n",
      "合并了 ./data/PubMed/split\\SEAL_train_neg_batch21.pt，当前总量：2200\n",
      "合并了 ./data/PubMed/split\\SEAL_train_neg_batch22.pt，当前总量：2300\n",
      "合并了 ./data/PubMed/split\\SEAL_train_neg_batch23.pt，当前总量：2400\n",
      "合并了 ./data/PubMed/split\\SEAL_train_neg_batch24.pt，当前总量：2500\n",
      "合并了 ./data/PubMed/split\\SEAL_train_neg_batch25.pt，当前总量：2600\n",
      "合并了 ./data/PubMed/split\\SEAL_train_neg_batch26.pt，当前总量：2700\n",
      "合并了 ./data/PubMed/split\\SEAL_train_neg_batch27.pt，当前总量：2800\n",
      "合并了 ./data/PubMed/split\\SEAL_train_neg_batch28.pt，当前总量：2900\n",
      "合并了 ./data/PubMed/split\\SEAL_train_neg_batch29.pt，当前总量：3000\n",
      "合并了 ./data/PubMed/split\\SEAL_train_neg_batch30.pt，当前总量：3100\n",
      "合并了 ./data/PubMed/split\\SEAL_train_neg_batch31.pt，当前总量：3200\n",
      "合并了 ./data/PubMed/split\\SEAL_train_neg_batch32.pt，当前总量：3300\n",
      "合并了 ./data/PubMed/split\\SEAL_train_neg_batch33.pt，当前总量：3400\n",
      "合并了 ./data/PubMed/split\\SEAL_train_neg_batch34.pt，当前总量：3500\n",
      "合并了 ./data/PubMed/split\\SEAL_train_neg_batch35.pt，当前总量：3600\n",
      "合并了 ./data/PubMed/split\\SEAL_train_neg_batch36.pt，当前总量：3700\n",
      "合并了 ./data/PubMed/split\\SEAL_train_neg_batch37.pt，当前总量：3800\n",
      "合并了 ./data/PubMed/split\\SEAL_train_neg_batch38.pt，当前总量：3900\n",
      "合并了 ./data/PubMed/split\\SEAL_train_neg_batch39.pt，当前总量：4000\n",
      "合并了 ./data/PubMed/split\\SEAL_train_neg_batch40.pt，当前总量：4100\n",
      "合并了 ./data/PubMed/split\\SEAL_train_neg_batch41.pt，当前总量：4200\n",
      "合并了 ./data/PubMed/split\\SEAL_train_neg_batch42.pt，当前总量：4300\n",
      "合并了 ./data/PubMed/split\\SEAL_train_neg_batch43.pt，当前总量：4400\n",
      "合并了 ./data/PubMed/split\\SEAL_train_neg_batch44.pt，当前总量：4500\n",
      "合并了 ./data/PubMed/split\\SEAL_train_neg_batch45.pt，当前总量：4600\n",
      "合并了 ./data/PubMed/split\\SEAL_train_neg_batch46.pt，当前总量：4700\n",
      "合并了 ./data/PubMed/split\\SEAL_train_neg_batch47.pt，当前总量：4800\n",
      "合并了 ./data/PubMed/split\\SEAL_train_neg_batch48.pt，当前总量：4900\n",
      "合并了 ./data/PubMed/split\\SEAL_train_neg_batch49.pt，当前总量：5000\n",
      "合并了 ./data/PubMed/split\\SEAL_train_neg_batch50.pt，当前总量：5100\n",
      "合并了 ./data/PubMed/split\\SEAL_train_neg_batch51.pt，当前总量：5200\n",
      "合并了 ./data/PubMed/split\\SEAL_train_neg_batch52.pt，当前总量：5300\n",
      "合并了 ./data/PubMed/split\\SEAL_train_neg_batch53.pt，当前总量：5400\n",
      "合并了 ./data/PubMed/split\\SEAL_train_neg_batch54.pt，当前总量：5500\n",
      "合并了 ./data/PubMed/split\\SEAL_train_neg_batch55.pt，当前总量：5600\n",
      "合并了 ./data/PubMed/split\\SEAL_train_neg_batch56.pt，当前总量：5700\n",
      "合并了 ./data/PubMed/split\\SEAL_train_neg_batch57.pt，当前总量：5800\n",
      "合并了 ./data/PubMed/split\\SEAL_train_neg_batch58.pt，当前总量：5900\n",
      "合并了 ./data/PubMed/split\\SEAL_train_neg_batch59.pt，当前总量：6000\n",
      "合并了 ./data/PubMed/split\\SEAL_train_neg_batch60.pt，当前总量：6100\n",
      "合并了 ./data/PubMed/split\\SEAL_train_neg_batch61.pt，当前总量：6200\n",
      "合并了 ./data/PubMed/split\\SEAL_train_neg_batch62.pt，当前总量：6300\n",
      "合并了 ./data/PubMed/split\\SEAL_train_neg_batch63.pt，当前总量：6400\n",
      "合并了 ./data/PubMed/split\\SEAL_train_neg_batch64.pt，当前总量：6500\n",
      "合并了 ./data/PubMed/split\\SEAL_train_neg_batch65.pt，当前总量：6600\n",
      "合并了 ./data/PubMed/split\\SEAL_train_neg_batch66.pt，当前总量：6700\n",
      "合并了 ./data/PubMed/split\\SEAL_train_neg_batch67.pt，当前总量：6800\n",
      "合并了 ./data/PubMed/split\\SEAL_train_neg_batch68.pt，当前总量：6900\n",
      "合并了 ./data/PubMed/split\\SEAL_train_neg_batch69.pt，当前总量：7000\n",
      "合并了 ./data/PubMed/split\\SEAL_train_neg_batch70.pt，当前总量：7100\n",
      "合并了 ./data/PubMed/split\\SEAL_train_neg_batch71.pt，当前总量：7200\n",
      "合并了 ./data/PubMed/split\\SEAL_train_neg_batch72.pt，当前总量：7300\n",
      "合并了 ./data/PubMed/split\\SEAL_train_neg_batch73.pt，当前总量：7400\n",
      "合并了 ./data/PubMed/split\\SEAL_train_neg_batch74.pt，当前总量：7500\n",
      "合并了 ./data/PubMed/split\\SEAL_train_neg_batch75.pt，当前总量：7600\n",
      "合并了 ./data/PubMed/split\\SEAL_train_neg_batch76.pt，当前总量：7700\n",
      "合并了 ./data/PubMed/split\\SEAL_train_neg_batch77.pt，当前总量：7800\n",
      "合并了 ./data/PubMed/split\\SEAL_train_neg_batch78.pt，当前总量：7900\n",
      "合并了 ./data/PubMed/split\\SEAL_train_neg_batch79.pt，当前总量：8000\n",
      "合并了 ./data/PubMed/split\\SEAL_train_neg_batch80.pt，当前总量：8100\n",
      "合并了 ./data/PubMed/split\\SEAL_train_neg_batch81.pt，当前总量：8200\n",
      "合并了 ./data/PubMed/split\\SEAL_train_neg_batch82.pt，当前总量：8300\n",
      "合并了 ./data/PubMed/split\\SEAL_train_neg_batch83.pt，当前总量：8400\n",
      "合并了 ./data/PubMed/split\\SEAL_train_neg_batch84.pt，当前总量：8500\n",
      "合并了 ./data/PubMed/split\\SEAL_train_neg_batch85.pt，当前总量：8600\n",
      "合并了 ./data/PubMed/split\\SEAL_train_neg_batch86.pt，当前总量：8700\n",
      "合并了 ./data/PubMed/split\\SEAL_train_neg_batch87.pt，当前总量：8800\n",
      "合并了 ./data/PubMed/split\\SEAL_train_neg_batch88.pt，当前总量：8900\n",
      "合并了 ./data/PubMed/split\\SEAL_train_neg_batch89.pt，当前总量：9000\n",
      "合并了 ./data/PubMed/split\\SEAL_train_neg_batch90.pt，当前总量：9100\n",
      "合并了 ./data/PubMed/split\\SEAL_train_neg_batch91.pt，当前总量：9200\n",
      "合并了 ./data/PubMed/split\\SEAL_train_neg_batch92.pt，当前总量：9300\n",
      "合并了 ./data/PubMed/split\\SEAL_train_neg_batch93.pt，当前总量：9400\n",
      "合并了 ./data/PubMed/split\\SEAL_train_neg_batch94.pt，当前总量：9500\n",
      "合并了 ./data/PubMed/split\\SEAL_train_neg_batch95.pt，当前总量：9600\n",
      "合并了 ./data/PubMed/split\\SEAL_train_neg_batch96.pt，当前总量：9700\n",
      "合并了 ./data/PubMed/split\\SEAL_train_neg_batch97.pt，当前总量：9800\n",
      "合并了 ./data/PubMed/split\\SEAL_train_neg_batch98.pt，当前总量：9900\n",
      "合并了 ./data/PubMed/split\\SEAL_train_neg_batch99.pt，当前总量：10000\n",
      "合并了 ./data/PubMed/split\\SEAL_train_neg_batch100.pt，当前总量：10100\n",
      "合并了 ./data/PubMed/split\\SEAL_train_neg_batch101.pt，当前总量：10200\n",
      "合并了 ./data/PubMed/split\\SEAL_train_neg_batch102.pt，当前总量：10300\n",
      "合并了 ./data/PubMed/split\\SEAL_train_neg_batch103.pt，当前总量：10400\n",
      "合并了 ./data/PubMed/split\\SEAL_train_neg_batch104.pt，当前总量：10500\n",
      "合并了 ./data/PubMed/split\\SEAL_train_neg_batch105.pt，当前总量：10600\n",
      "合并了 ./data/PubMed/split\\SEAL_train_neg_batch106.pt，当前总量：10700\n",
      "合并了 ./data/PubMed/split\\SEAL_train_neg_batch107.pt，当前总量：10800\n",
      "合并了 ./data/PubMed/split\\SEAL_train_neg_batch108.pt，当前总量：10900\n",
      "合并了 ./data/PubMed/split\\SEAL_train_neg_batch109.pt，当前总量：11000\n",
      "合并了 ./data/PubMed/split\\SEAL_train_neg_batch110.pt，当前总量：11100\n",
      "合并了 ./data/PubMed/split\\SEAL_train_neg_batch111.pt，当前总量：11200\n",
      "合并了 ./data/PubMed/split\\SEAL_train_neg_batch112.pt，当前总量：11300\n",
      "合并了 ./data/PubMed/split\\SEAL_train_neg_batch113.pt，当前总量：11400\n",
      "合并了 ./data/PubMed/split\\SEAL_train_neg_batch114.pt，当前总量：11500\n",
      "合并了 ./data/PubMed/split\\SEAL_train_neg_batch115.pt，当前总量：11600\n",
      "合并了 ./data/PubMed/split\\SEAL_train_neg_batch116.pt，当前总量：11700\n",
      "合并了 ./data/PubMed/split\\SEAL_train_neg_batch117.pt，当前总量：11800\n",
      "合并了 ./data/PubMed/split\\SEAL_train_neg_batch118.pt，当前总量：11900\n",
      "合并了 ./data/PubMed/split\\SEAL_train_neg_batch119.pt，当前总量：12000\n",
      "合并了 ./data/PubMed/split\\SEAL_train_neg_batch120.pt，当前总量：12100\n",
      "合并了 ./data/PubMed/split\\SEAL_train_neg_batch121.pt，当前总量：12200\n",
      "合并了 ./data/PubMed/split\\SEAL_train_neg_batch122.pt，当前总量：12300\n",
      "合并了 ./data/PubMed/split\\SEAL_train_neg_batch123.pt，当前总量：12400\n",
      "合并了 ./data/PubMed/split\\SEAL_train_neg_batch124.pt，当前总量：12500\n",
      "合并了 ./data/PubMed/split\\SEAL_train_neg_batch125.pt，当前总量：12600\n",
      "合并了 ./data/PubMed/split\\SEAL_train_neg_batch126.pt，当前总量：12700\n",
      "合并了 ./data/PubMed/split\\SEAL_train_neg_batch127.pt，当前总量：12800\n",
      "合并了 ./data/PubMed/split\\SEAL_train_neg_batch128.pt，当前总量：12900\n",
      "合并了 ./data/PubMed/split\\SEAL_train_neg_batch129.pt，当前总量：13000\n",
      "合并了 ./data/PubMed/split\\SEAL_train_neg_batch130.pt，当前总量：13100\n",
      "合并了 ./data/PubMed/split\\SEAL_train_neg_batch131.pt，当前总量：13200\n",
      "合并了 ./data/PubMed/split\\SEAL_train_neg_batch132.pt，当前总量：13300\n",
      "合并了 ./data/PubMed/split\\SEAL_train_neg_batch133.pt，当前总量：13400\n",
      "合并了 ./data/PubMed/split\\SEAL_train_neg_batch134.pt，当前总量：13500\n",
      "合并了 ./data/PubMed/split\\SEAL_train_neg_batch135.pt，当前总量：13600\n",
      "合并了 ./data/PubMed/split\\SEAL_train_neg_batch136.pt，当前总量：13700\n",
      "合并了 ./data/PubMed/split\\SEAL_train_neg_batch137.pt，当前总量：13800\n",
      "合并了 ./data/PubMed/split\\SEAL_train_neg_batch138.pt，当前总量：13900\n",
      "合并了 ./data/PubMed/split\\SEAL_train_neg_batch139.pt，当前总量：14000\n",
      "合并了 ./data/PubMed/split\\SEAL_train_neg_batch140.pt，当前总量：14100\n",
      "合并了 ./data/PubMed/split\\SEAL_train_neg_batch141.pt，当前总量：14200\n",
      "合并了 ./data/PubMed/split\\SEAL_train_neg_batch142.pt，当前总量：14300\n",
      "合并了 ./data/PubMed/split\\SEAL_train_neg_batch143.pt，当前总量：14400\n",
      "合并了 ./data/PubMed/split\\SEAL_train_neg_batch144.pt，当前总量：14500\n",
      "合并了 ./data/PubMed/split\\SEAL_train_neg_batch145.pt，当前总量：14600\n",
      "合并了 ./data/PubMed/split\\SEAL_train_neg_batch146.pt，当前总量：14700\n",
      "合并了 ./data/PubMed/split\\SEAL_train_neg_batch147.pt，当前总量：14800\n",
      "合并了 ./data/PubMed/split\\SEAL_train_neg_batch148.pt，当前总量：14900\n",
      "合并了 ./data/PubMed/split\\SEAL_train_neg_batch149.pt，当前总量：15000\n",
      "合并了 ./data/PubMed/split\\SEAL_train_neg_batch150.pt，当前总量：15100\n",
      "合并了 ./data/PubMed/split\\SEAL_train_neg_batch151.pt，当前总量：15200\n",
      "合并了 ./data/PubMed/split\\SEAL_train_neg_batch152.pt，当前总量：15300\n",
      "合并了 ./data/PubMed/split\\SEAL_train_neg_batch153.pt，当前总量：15400\n",
      "合并了 ./data/PubMed/split\\SEAL_train_neg_batch154.pt，当前总量：15500\n",
      "合并了 ./data/PubMed/split\\SEAL_train_neg_batch155.pt，当前总量：15600\n",
      "合并了 ./data/PubMed/split\\SEAL_train_neg_batch156.pt，当前总量：15700\n",
      "合并了 ./data/PubMed/split\\SEAL_train_neg_batch157.pt，当前总量：15800\n",
      "合并了 ./data/PubMed/split\\SEAL_train_neg_batch158.pt，当前总量：15900\n",
      "合并了 ./data/PubMed/split\\SEAL_train_neg_batch159.pt，当前总量：16000\n",
      "合并了 ./data/PubMed/split\\SEAL_train_neg_batch160.pt，当前总量：16100\n",
      "合并了 ./data/PubMed/split\\SEAL_train_neg_batch161.pt，当前总量：16200\n",
      "合并了 ./data/PubMed/split\\SEAL_train_neg_batch162.pt，当前总量：16300\n",
      "合并了 ./data/PubMed/split\\SEAL_train_neg_batch163.pt，当前总量：16400\n",
      "合并了 ./data/PubMed/split\\SEAL_train_neg_batch164.pt，当前总量：16500\n",
      "合并了 ./data/PubMed/split\\SEAL_train_neg_batch165.pt，当前总量：16600\n",
      "合并了 ./data/PubMed/split\\SEAL_train_neg_batch166.pt，当前总量：16700\n",
      "合并了 ./data/PubMed/split\\SEAL_train_neg_batch167.pt，当前总量：16800\n",
      "合并了 ./data/PubMed/split\\SEAL_train_neg_batch168.pt，当前总量：16900\n",
      "合并了 ./data/PubMed/split\\SEAL_train_neg_batch169.pt，当前总量：17000\n",
      "合并了 ./data/PubMed/split\\SEAL_train_neg_batch170.pt，当前总量：17100\n",
      "合并了 ./data/PubMed/split\\SEAL_train_neg_batch171.pt，当前总量：17200\n",
      "合并了 ./data/PubMed/split\\SEAL_train_neg_batch172.pt，当前总量：17300\n",
      "合并了 ./data/PubMed/split\\SEAL_train_neg_batch173.pt，当前总量：17400\n",
      "合并了 ./data/PubMed/split\\SEAL_train_neg_batch174.pt，当前总量：17500\n",
      "合并了 ./data/PubMed/split\\SEAL_train_neg_batch175.pt，当前总量：17600\n",
      "合并了 ./data/PubMed/split\\SEAL_train_neg_batch176.pt，当前总量：17700\n",
      "合并了 ./data/PubMed/split\\SEAL_train_neg_batch177.pt，当前总量：17800\n",
      "合并了 ./data/PubMed/split\\SEAL_train_neg_batch178.pt，当前总量：17900\n",
      "合并了 ./data/PubMed/split\\SEAL_train_neg_batch179.pt，当前总量：18000\n",
      "合并了 ./data/PubMed/split\\SEAL_train_neg_batch180.pt，当前总量：18100\n",
      "合并了 ./data/PubMed/split\\SEAL_train_neg_batch181.pt，当前总量：18200\n",
      "合并了 ./data/PubMed/split\\SEAL_train_neg_batch182.pt，当前总量：18300\n",
      "合并了 ./data/PubMed/split\\SEAL_train_neg_batch183.pt，当前总量：18400\n",
      "合并了 ./data/PubMed/split\\SEAL_train_neg_batch184.pt，当前总量：18500\n",
      "合并了 ./data/PubMed/split\\SEAL_train_neg_batch185.pt，当前总量：18600\n",
      "合并了 ./data/PubMed/split\\SEAL_train_neg_batch186.pt，当前总量：18700\n",
      "合并了 ./data/PubMed/split\\SEAL_train_neg_batch187.pt，当前总量：18800\n",
      "合并了 ./data/PubMed/split\\SEAL_train_neg_batch188.pt，当前总量：18900\n",
      "合并了 ./data/PubMed/split\\SEAL_train_neg_batch189.pt，当前总量：19000\n",
      "合并了 ./data/PubMed/split\\SEAL_train_neg_batch190.pt，当前总量：19100\n",
      "合并了 ./data/PubMed/split\\SEAL_train_neg_batch191.pt，当前总量：19200\n",
      "合并了 ./data/PubMed/split\\SEAL_train_neg_batch192.pt，当前总量：19300\n",
      "合并了 ./data/PubMed/split\\SEAL_train_neg_batch193.pt，当前总量：19400\n",
      "合并了 ./data/PubMed/split\\SEAL_train_neg_batch194.pt，当前总量：19500\n",
      "合并了 ./data/PubMed/split\\SEAL_train_neg_batch195.pt，当前总量：19600\n",
      "合并了 ./data/PubMed/split\\SEAL_train_neg_batch196.pt，当前总量：19700\n",
      "合并了 ./data/PubMed/split\\SEAL_train_neg_batch197.pt，当前总量：19800\n",
      "合并了 ./data/PubMed/split\\SEAL_train_neg_batch198.pt，当前总量：19900\n",
      "合并了 ./data/PubMed/split\\SEAL_train_neg_batch199.pt，当前总量：20000\n",
      "合并了 ./data/PubMed/split\\SEAL_train_neg_batch200.pt，当前总量：20100\n",
      "合并了 ./data/PubMed/split\\SEAL_train_neg_batch201.pt，当前总量：20200\n",
      "合并了 ./data/PubMed/split\\SEAL_train_neg_batch202.pt，当前总量：20300\n",
      "合并了 ./data/PubMed/split\\SEAL_train_neg_batch203.pt，当前总量：20400\n",
      "合并了 ./data/PubMed/split\\SEAL_train_neg_batch204.pt，当前总量：20500\n",
      "合并了 ./data/PubMed/split\\SEAL_train_neg_batch205.pt，当前总量：20600\n",
      "合并了 ./data/PubMed/split\\SEAL_train_neg_batch206.pt，当前总量：20700\n",
      "合并了 ./data/PubMed/split\\SEAL_train_neg_batch207.pt，当前总量：20800\n",
      "合并了 ./data/PubMed/split\\SEAL_train_neg_batch208.pt，当前总量：20900\n",
      "合并了 ./data/PubMed/split\\SEAL_train_neg_batch209.pt，当前总量：21000\n",
      "合并了 ./data/PubMed/split\\SEAL_train_neg_batch210.pt，当前总量：21100\n",
      "合并了 ./data/PubMed/split\\SEAL_train_neg_batch211.pt，当前总量：21200\n",
      "合并了 ./data/PubMed/split\\SEAL_train_neg_batch212.pt，当前总量：21300\n",
      "合并了 ./data/PubMed/split\\SEAL_train_neg_batch213.pt，当前总量：21400\n",
      "合并了 ./data/PubMed/split\\SEAL_train_neg_batch214.pt，当前总量：21500\n",
      "合并了 ./data/PubMed/split\\SEAL_train_neg_batch215.pt，当前总量：21600\n",
      "合并了 ./data/PubMed/split\\SEAL_train_neg_batch216.pt，当前总量：21700\n",
      "合并了 ./data/PubMed/split\\SEAL_train_neg_batch217.pt，当前总量：21800\n",
      "合并了 ./data/PubMed/split\\SEAL_train_neg_batch218.pt，当前总量：21900\n",
      "合并了 ./data/PubMed/split\\SEAL_train_neg_batch219.pt，当前总量：22000\n",
      "合并了 ./data/PubMed/split\\SEAL_train_neg_batch220.pt，当前总量：22100\n",
      "合并了 ./data/PubMed/split\\SEAL_train_neg_batch221.pt，当前总量：22200\n",
      "合并了 ./data/PubMed/split\\SEAL_train_neg_batch222.pt，当前总量：22300\n",
      "合并了 ./data/PubMed/split\\SEAL_train_neg_batch223.pt，当前总量：22400\n",
      "合并了 ./data/PubMed/split\\SEAL_train_neg_batch224.pt，当前总量：22500\n",
      "合并了 ./data/PubMed/split\\SEAL_train_neg_batch225.pt，当前总量：22600\n",
      "合并了 ./data/PubMed/split\\SEAL_train_neg_batch226.pt，当前总量：22700\n",
      "合并了 ./data/PubMed/split\\SEAL_train_neg_batch227.pt，当前总量：22800\n",
      "合并了 ./data/PubMed/split\\SEAL_train_neg_batch228.pt，当前总量：22900\n",
      "合并了 ./data/PubMed/split\\SEAL_train_neg_batch229.pt，当前总量：23000\n",
      "合并了 ./data/PubMed/split\\SEAL_train_neg_batch230.pt，当前总量：23100\n",
      "合并了 ./data/PubMed/split\\SEAL_train_neg_batch231.pt，当前总量：23200\n",
      "合并了 ./data/PubMed/split\\SEAL_train_neg_batch232.pt，当前总量：23300\n",
      "合并了 ./data/PubMed/split\\SEAL_train_neg_batch233.pt，当前总量：23400\n",
      "合并了 ./data/PubMed/split\\SEAL_train_neg_batch234.pt，当前总量：23500\n",
      "合并了 ./data/PubMed/split\\SEAL_train_neg_batch235.pt，当前总量：23600\n",
      "合并了 ./data/PubMed/split\\SEAL_train_neg_batch236.pt，当前总量：23700\n",
      "合并了 ./data/PubMed/split\\SEAL_train_neg_batch237.pt，当前总量：23800\n",
      "合并了 ./data/PubMed/split\\SEAL_train_neg_batch238.pt，当前总量：23900\n",
      "合并了 ./data/PubMed/split\\SEAL_train_neg_batch239.pt，当前总量：24000\n",
      "合并了 ./data/PubMed/split\\SEAL_train_neg_batch240.pt，当前总量：24100\n",
      "合并了 ./data/PubMed/split\\SEAL_train_neg_batch241.pt，当前总量：24200\n",
      "合并了 ./data/PubMed/split\\SEAL_train_neg_batch242.pt，当前总量：24300\n",
      "合并了 ./data/PubMed/split\\SEAL_train_neg_batch243.pt，当前总量：24400\n",
      "合并了 ./data/PubMed/split\\SEAL_train_neg_batch244.pt，当前总量：24500\n",
      "合并了 ./data/PubMed/split\\SEAL_train_neg_batch245.pt，当前总量：24600\n",
      "合并了 ./data/PubMed/split\\SEAL_train_neg_batch246.pt，当前总量：24700\n",
      "合并了 ./data/PubMed/split\\SEAL_train_neg_batch247.pt，当前总量：24800\n",
      "合并了 ./data/PubMed/split\\SEAL_train_neg_batch248.pt，当前总量：24900\n",
      "合并了 ./data/PubMed/split\\SEAL_train_neg_batch249.pt，当前总量：25000\n",
      "合并了 ./data/PubMed/split\\SEAL_train_neg_batch250.pt，当前总量：25100\n",
      "合并了 ./data/PubMed/split\\SEAL_train_neg_batch251.pt，当前总量：25200\n",
      "合并了 ./data/PubMed/split\\SEAL_train_neg_batch252.pt，当前总量：25300\n",
      "合并了 ./data/PubMed/split\\SEAL_train_neg_batch253.pt，当前总量：25400\n",
      "合并了 ./data/PubMed/split\\SEAL_train_neg_batch254.pt，当前总量：25500\n",
      "合并了 ./data/PubMed/split\\SEAL_train_neg_batch255.pt，当前总量：25600\n",
      "合并了 ./data/PubMed/split\\SEAL_train_neg_batch256.pt，当前总量：25700\n",
      "合并了 ./data/PubMed/split\\SEAL_train_neg_batch257.pt，当前总量：25800\n",
      "合并了 ./data/PubMed/split\\SEAL_train_neg_batch258.pt，当前总量：25900\n",
      "合并了 ./data/PubMed/split\\SEAL_train_neg_batch259.pt，当前总量：26000\n",
      "合并了 ./data/PubMed/split\\SEAL_train_neg_batch260.pt，当前总量：26100\n",
      "合并了 ./data/PubMed/split\\SEAL_train_neg_batch261.pt，当前总量：26200\n",
      "合并了 ./data/PubMed/split\\SEAL_train_neg_batch262.pt，当前总量：26300\n",
      "合并了 ./data/PubMed/split\\SEAL_train_neg_batch263.pt，当前总量：26400\n",
      "合并了 ./data/PubMed/split\\SEAL_train_neg_batch264.pt，当前总量：26500\n",
      "合并了 ./data/PubMed/split\\SEAL_train_neg_batch265.pt，当前总量：26600\n",
      "合并了 ./data/PubMed/split\\SEAL_train_neg_batch266.pt，当前总量：26700\n",
      "合并了 ./data/PubMed/split\\SEAL_train_neg_batch267.pt，当前总量：26800\n",
      "合并了 ./data/PubMed/split\\SEAL_train_neg_batch268.pt，当前总量：26900\n",
      "合并了 ./data/PubMed/split\\SEAL_train_neg_batch269.pt，当前总量：27000\n",
      "合并了 ./data/PubMed/split\\SEAL_train_neg_batch270.pt，当前总量：27100\n",
      "合并了 ./data/PubMed/split\\SEAL_train_neg_batch271.pt，当前总量：27200\n",
      "合并了 ./data/PubMed/split\\SEAL_train_neg_batch272.pt，当前总量：27300\n",
      "合并了 ./data/PubMed/split\\SEAL_train_neg_batch273.pt，当前总量：27400\n",
      "合并了 ./data/PubMed/split\\SEAL_train_neg_batch274.pt，当前总量：27500\n",
      "合并了 ./data/PubMed/split\\SEAL_train_neg_batch275.pt，当前总量：27600\n",
      "合并了 ./data/PubMed/split\\SEAL_train_neg_batch276.pt，当前总量：27700\n",
      "合并了 ./data/PubMed/split\\SEAL_train_neg_batch277.pt，当前总量：27800\n",
      "合并了 ./data/PubMed/split\\SEAL_train_neg_batch278.pt，当前总量：27900\n",
      "合并了 ./data/PubMed/split\\SEAL_train_neg_batch279.pt，当前总量：28000\n",
      "合并了 ./data/PubMed/split\\SEAL_train_neg_batch280.pt，当前总量：28100\n",
      "合并了 ./data/PubMed/split\\SEAL_train_neg_batch281.pt，当前总量：28200\n",
      "合并了 ./data/PubMed/split\\SEAL_train_neg_batch282.pt，当前总量：28300\n",
      "合并了 ./data/PubMed/split\\SEAL_train_neg_batch283.pt，当前总量：28400\n",
      "合并了 ./data/PubMed/split\\SEAL_train_neg_batch284.pt，当前总量：28500\n",
      "合并了 ./data/PubMed/split\\SEAL_train_neg_batch285.pt，当前总量：28600\n",
      "合并了 ./data/PubMed/split\\SEAL_train_neg_batch286.pt，当前总量：28700\n",
      "合并了 ./data/PubMed/split\\SEAL_train_neg_batch287.pt，当前总量：28800\n",
      "合并了 ./data/PubMed/split\\SEAL_train_neg_batch288.pt，当前总量：28900\n",
      "合并了 ./data/PubMed/split\\SEAL_train_neg_batch289.pt，当前总量：29000\n",
      "合并了 ./data/PubMed/split\\SEAL_train_neg_batch290.pt，当前总量：29100\n",
      "合并了 ./data/PubMed/split\\SEAL_train_neg_batch291.pt，当前总量：29200\n",
      "合并了 ./data/PubMed/split\\SEAL_train_neg_batch292.pt，当前总量：29300\n",
      "合并了 ./data/PubMed/split\\SEAL_train_neg_batch293.pt，当前总量：29400\n",
      "合并了 ./data/PubMed/split\\SEAL_train_neg_batch294.pt，当前总量：29500\n",
      "合并了 ./data/PubMed/split\\SEAL_train_neg_batch295.pt，当前总量：29600\n",
      "合并了 ./data/PubMed/split\\SEAL_train_neg_batch296.pt，当前总量：29700\n",
      "合并了 ./data/PubMed/split\\SEAL_train_neg_batch297.pt，当前总量：29800\n",
      "合并了 ./data/PubMed/split\\SEAL_train_neg_batch298.pt，当前总量：29900\n",
      "合并了 ./data/PubMed/split\\SEAL_train_neg_batch299.pt，当前总量：30000\n",
      "合并了 ./data/PubMed/split\\SEAL_train_neg_batch300.pt，当前总量：30100\n",
      "合并了 ./data/PubMed/split\\SEAL_train_neg_batch301.pt，当前总量：30200\n",
      "合并了 ./data/PubMed/split\\SEAL_train_neg_batch302.pt，当前总量：30300\n",
      "合并了 ./data/PubMed/split\\SEAL_train_neg_batch303.pt，当前总量：30400\n",
      "合并了 ./data/PubMed/split\\SEAL_train_neg_batch304.pt，当前总量：30500\n",
      "合并了 ./data/PubMed/split\\SEAL_train_neg_batch305.pt，当前总量：30600\n",
      "合并了 ./data/PubMed/split\\SEAL_train_neg_batch306.pt，当前总量：30700\n",
      "合并了 ./data/PubMed/split\\SEAL_train_neg_batch307.pt，当前总量：30800\n",
      "合并了 ./data/PubMed/split\\SEAL_train_neg_batch308.pt，当前总量：30900\n",
      "合并了 ./data/PubMed/split\\SEAL_train_neg_batch309.pt，当前总量：31000\n",
      "合并了 ./data/PubMed/split\\SEAL_train_neg_batch310.pt，当前总量：31100\n",
      "合并了 ./data/PubMed/split\\SEAL_train_neg_batch311.pt，当前总量：31200\n",
      "合并了 ./data/PubMed/split\\SEAL_train_neg_batch312.pt，当前总量：31300\n",
      "合并了 ./data/PubMed/split\\SEAL_train_neg_batch313.pt，当前总量：31400\n",
      "合并了 ./data/PubMed/split\\SEAL_train_neg_batch314.pt，当前总量：31500\n",
      "合并了 ./data/PubMed/split\\SEAL_train_neg_batch315.pt，当前总量：31600\n",
      "合并了 ./data/PubMed/split\\SEAL_train_neg_batch316.pt，当前总量：31700\n",
      "合并了 ./data/PubMed/split\\SEAL_train_neg_batch317.pt，当前总量：31800\n",
      "合并了 ./data/PubMed/split\\SEAL_train_neg_batch318.pt，当前总量：31900\n",
      "合并了 ./data/PubMed/split\\SEAL_train_neg_batch319.pt，当前总量：32000\n",
      "合并了 ./data/PubMed/split\\SEAL_train_neg_batch320.pt，当前总量：32100\n",
      "合并了 ./data/PubMed/split\\SEAL_train_neg_batch321.pt，当前总量：32200\n",
      "合并了 ./data/PubMed/split\\SEAL_train_neg_batch322.pt，当前总量：32300\n",
      "合并了 ./data/PubMed/split\\SEAL_train_neg_batch323.pt，当前总量：32400\n",
      "合并了 ./data/PubMed/split\\SEAL_train_neg_batch324.pt，当前总量：32500\n",
      "合并了 ./data/PubMed/split\\SEAL_train_neg_batch325.pt，当前总量：32600\n",
      "合并了 ./data/PubMed/split\\SEAL_train_neg_batch326.pt，当前总量：32700\n",
      "合并了 ./data/PubMed/split\\SEAL_train_neg_batch327.pt，当前总量：32800\n",
      "合并了 ./data/PubMed/split\\SEAL_train_neg_batch328.pt，当前总量：32900\n",
      "合并了 ./data/PubMed/split\\SEAL_train_neg_batch329.pt，当前总量：33000\n",
      "合并了 ./data/PubMed/split\\SEAL_train_neg_batch330.pt，当前总量：33100\n",
      "合并了 ./data/PubMed/split\\SEAL_train_neg_batch331.pt，当前总量：33200\n",
      "合并了 ./data/PubMed/split\\SEAL_train_neg_batch332.pt，当前总量：33300\n",
      "合并了 ./data/PubMed/split\\SEAL_train_neg_batch333.pt，当前总量：33400\n",
      "合并了 ./data/PubMed/split\\SEAL_train_neg_batch334.pt，当前总量：33500\n",
      "合并了 ./data/PubMed/split\\SEAL_train_neg_batch335.pt，当前总量：33600\n",
      "合并了 ./data/PubMed/split\\SEAL_train_neg_batch336.pt，当前总量：33700\n",
      "合并了 ./data/PubMed/split\\SEAL_train_neg_batch337.pt，当前总量：33800\n",
      "合并了 ./data/PubMed/split\\SEAL_train_neg_batch338.pt，当前总量：33900\n",
      "合并了 ./data/PubMed/split\\SEAL_train_neg_batch339.pt，当前总量：34000\n",
      "合并了 ./data/PubMed/split\\SEAL_train_neg_batch340.pt，当前总量：34100\n",
      "合并了 ./data/PubMed/split\\SEAL_train_neg_batch341.pt，当前总量：34200\n",
      "合并了 ./data/PubMed/split\\SEAL_train_neg_batch342.pt，当前总量：34300\n",
      "合并了 ./data/PubMed/split\\SEAL_train_neg_batch343.pt，当前总量：34400\n",
      "合并了 ./data/PubMed/split\\SEAL_train_neg_batch344.pt，当前总量：34500\n",
      "合并了 ./data/PubMed/split\\SEAL_train_neg_batch345.pt，当前总量：34600\n",
      "合并了 ./data/PubMed/split\\SEAL_train_neg_batch346.pt，当前总量：34700\n",
      "合并了 ./data/PubMed/split\\SEAL_train_neg_batch347.pt，当前总量：34800\n",
      "合并了 ./data/PubMed/split\\SEAL_train_neg_batch348.pt，当前总量：34900\n",
      "合并了 ./data/PubMed/split\\SEAL_train_neg_batch349.pt，当前总量：35000\n",
      "合并了 ./data/PubMed/split\\SEAL_train_neg_batch350.pt，当前总量：35100\n",
      "合并了 ./data/PubMed/split\\SEAL_train_neg_batch351.pt，当前总量：35200\n",
      "合并了 ./data/PubMed/split\\SEAL_train_neg_batch352.pt，当前总量：35300\n",
      "合并了 ./data/PubMed/split\\SEAL_train_neg_batch353.pt，当前总量：35400\n",
      "合并了 ./data/PubMed/split\\SEAL_train_neg_batch354.pt，当前总量：35500\n",
      "合并了 ./data/PubMed/split\\SEAL_train_neg_batch355.pt，当前总量：35600\n",
      "合并了 ./data/PubMed/split\\SEAL_train_neg_batch356.pt，当前总量：35700\n",
      "合并了 ./data/PubMed/split\\SEAL_train_neg_batch357.pt，当前总量：35800\n",
      "合并了 ./data/PubMed/split\\SEAL_train_neg_batch358.pt，当前总量：35900\n",
      "合并了 ./data/PubMed/split\\SEAL_train_neg_batch359.pt，当前总量：36000\n",
      "合并了 ./data/PubMed/split\\SEAL_train_neg_batch360.pt，当前总量：36100\n",
      "合并了 ./data/PubMed/split\\SEAL_train_neg_batch361.pt，当前总量：36200\n",
      "合并了 ./data/PubMed/split\\SEAL_train_neg_batch362.pt，当前总量：36300\n",
      "合并了 ./data/PubMed/split\\SEAL_train_neg_batch363.pt，当前总量：36400\n",
      "合并了 ./data/PubMed/split\\SEAL_train_neg_batch364.pt，当前总量：36500\n",
      "合并了 ./data/PubMed/split\\SEAL_train_neg_batch365.pt，当前总量：36600\n",
      "合并了 ./data/PubMed/split\\SEAL_train_neg_batch366.pt，当前总量：36700\n",
      "合并了 ./data/PubMed/split\\SEAL_train_neg_batch367.pt，当前总量：36800\n",
      "合并了 ./data/PubMed/split\\SEAL_train_neg_batch368.pt，当前总量：36900\n",
      "合并了 ./data/PubMed/split\\SEAL_train_neg_batch369.pt，当前总量：37000\n",
      "合并了 ./data/PubMed/split\\SEAL_train_neg_batch370.pt，当前总量：37100\n",
      "合并了 ./data/PubMed/split\\SEAL_train_neg_batch371.pt，当前总量：37200\n",
      "合并了 ./data/PubMed/split\\SEAL_train_neg_batch372.pt，当前总量：37300\n",
      "合并了 ./data/PubMed/split\\SEAL_train_neg_batch373.pt，当前总量：37400\n",
      "合并了 ./data/PubMed/split\\SEAL_train_neg_batch374.pt，当前总量：37500\n",
      "合并了 ./data/PubMed/split\\SEAL_train_neg_batch375.pt，当前总量：37600\n",
      "合并了 ./data/PubMed/split\\SEAL_train_neg_batch376.pt，当前总量：37676\n",
      "保存到 ./data/PubMed/split\\SEAL_train_neg_data_list.pt，总计 37676 条数据\n",
      "--- 合并 train pos+neg 为总 data_list ---\n",
      "最终合并 ./data/PubMed/split\\SEAL_train_data_list.pt，总计 75352 条（正例 37676，负例 37676）\n",
      "\n",
      "--- 合并 val pos batch ---\n",
      "合并了 ./data/PubMed/split\\SEAL_val_pos_batch0.pt，当前总量：100\n",
      "合并了 ./data/PubMed/split\\SEAL_val_pos_batch1.pt，当前总量：200\n",
      "合并了 ./data/PubMed/split\\SEAL_val_pos_batch2.pt，当前总量：300\n",
      "合并了 ./data/PubMed/split\\SEAL_val_pos_batch3.pt，当前总量：400\n",
      "合并了 ./data/PubMed/split\\SEAL_val_pos_batch4.pt，当前总量：500\n",
      "合并了 ./data/PubMed/split\\SEAL_val_pos_batch5.pt，当前总量：600\n",
      "合并了 ./data/PubMed/split\\SEAL_val_pos_batch6.pt，当前总量：700\n",
      "合并了 ./data/PubMed/split\\SEAL_val_pos_batch7.pt，当前总量：800\n",
      "合并了 ./data/PubMed/split\\SEAL_val_pos_batch8.pt，当前总量：900\n",
      "合并了 ./data/PubMed/split\\SEAL_val_pos_batch9.pt，当前总量：1000\n",
      "合并了 ./data/PubMed/split\\SEAL_val_pos_batch10.pt，当前总量：1100\n",
      "合并了 ./data/PubMed/split\\SEAL_val_pos_batch11.pt，当前总量：1200\n",
      "合并了 ./data/PubMed/split\\SEAL_val_pos_batch12.pt，当前总量：1300\n",
      "合并了 ./data/PubMed/split\\SEAL_val_pos_batch13.pt，当前总量：1400\n",
      "合并了 ./data/PubMed/split\\SEAL_val_pos_batch14.pt，当前总量：1500\n",
      "合并了 ./data/PubMed/split\\SEAL_val_pos_batch15.pt，当前总量：1600\n",
      "合并了 ./data/PubMed/split\\SEAL_val_pos_batch16.pt，当前总量：1700\n",
      "合并了 ./data/PubMed/split\\SEAL_val_pos_batch17.pt，当前总量：1800\n",
      "合并了 ./data/PubMed/split\\SEAL_val_pos_batch18.pt，当前总量：1900\n",
      "合并了 ./data/PubMed/split\\SEAL_val_pos_batch19.pt，当前总量：2000\n",
      "合并了 ./data/PubMed/split\\SEAL_val_pos_batch20.pt，当前总量：2100\n",
      "合并了 ./data/PubMed/split\\SEAL_val_pos_batch21.pt，当前总量：2200\n",
      "合并了 ./data/PubMed/split\\SEAL_val_pos_batch22.pt，当前总量：2216\n",
      "保存到 ./data/PubMed/split\\SEAL_val_pos_data_list.pt，总计 2216 条数据\n",
      "--- 合并 val neg batch ---\n",
      "合并了 ./data/PubMed/split\\SEAL_val_neg_batch0.pt，当前总量：100\n",
      "合并了 ./data/PubMed/split\\SEAL_val_neg_batch1.pt，当前总量：200\n",
      "合并了 ./data/PubMed/split\\SEAL_val_neg_batch2.pt，当前总量：300\n",
      "合并了 ./data/PubMed/split\\SEAL_val_neg_batch3.pt，当前总量：400\n",
      "合并了 ./data/PubMed/split\\SEAL_val_neg_batch4.pt，当前总量：500\n",
      "合并了 ./data/PubMed/split\\SEAL_val_neg_batch5.pt，当前总量：600\n",
      "合并了 ./data/PubMed/split\\SEAL_val_neg_batch6.pt，当前总量：700\n",
      "合并了 ./data/PubMed/split\\SEAL_val_neg_batch7.pt，当前总量：800\n",
      "合并了 ./data/PubMed/split\\SEAL_val_neg_batch8.pt，当前总量：900\n",
      "合并了 ./data/PubMed/split\\SEAL_val_neg_batch9.pt，当前总量：1000\n",
      "合并了 ./data/PubMed/split\\SEAL_val_neg_batch10.pt，当前总量：1100\n",
      "合并了 ./data/PubMed/split\\SEAL_val_neg_batch11.pt，当前总量：1200\n",
      "合并了 ./data/PubMed/split\\SEAL_val_neg_batch12.pt，当前总量：1300\n",
      "合并了 ./data/PubMed/split\\SEAL_val_neg_batch13.pt，当前总量：1400\n",
      "合并了 ./data/PubMed/split\\SEAL_val_neg_batch14.pt，当前总量：1500\n",
      "合并了 ./data/PubMed/split\\SEAL_val_neg_batch15.pt，当前总量：1600\n",
      "合并了 ./data/PubMed/split\\SEAL_val_neg_batch16.pt，当前总量：1700\n",
      "合并了 ./data/PubMed/split\\SEAL_val_neg_batch17.pt，当前总量：1800\n",
      "合并了 ./data/PubMed/split\\SEAL_val_neg_batch18.pt，当前总量：1900\n",
      "合并了 ./data/PubMed/split\\SEAL_val_neg_batch19.pt，当前总量：2000\n",
      "合并了 ./data/PubMed/split\\SEAL_val_neg_batch20.pt，当前总量：2100\n",
      "合并了 ./data/PubMed/split\\SEAL_val_neg_batch21.pt，当前总量：2200\n",
      "合并了 ./data/PubMed/split\\SEAL_val_neg_batch22.pt，当前总量：2216\n",
      "保存到 ./data/PubMed/split\\SEAL_val_neg_data_list.pt，总计 2216 条数据\n",
      "--- 合并 val pos+neg 为总 data_list ---\n",
      "最终合并 ./data/PubMed/split\\SEAL_val_data_list.pt，总计 4432 条（正例 2216，负例 2216）\n",
      "\n",
      "--- 合并 test pos batch ---\n",
      "合并了 ./data/PubMed/split\\SEAL_test_pos_batch0.pt，当前总量：100\n",
      "合并了 ./data/PubMed/split\\SEAL_test_pos_batch1.pt，当前总量：200\n",
      "合并了 ./data/PubMed/split\\SEAL_test_pos_batch2.pt，当前总量：300\n",
      "合并了 ./data/PubMed/split\\SEAL_test_pos_batch3.pt，当前总量：400\n",
      "合并了 ./data/PubMed/split\\SEAL_test_pos_batch4.pt，当前总量：500\n",
      "合并了 ./data/PubMed/split\\SEAL_test_pos_batch5.pt，当前总量：600\n",
      "合并了 ./data/PubMed/split\\SEAL_test_pos_batch6.pt，当前总量：700\n",
      "合并了 ./data/PubMed/split\\SEAL_test_pos_batch7.pt，当前总量：800\n",
      "合并了 ./data/PubMed/split\\SEAL_test_pos_batch8.pt，当前总量：900\n",
      "合并了 ./data/PubMed/split\\SEAL_test_pos_batch9.pt，当前总量：1000\n",
      "合并了 ./data/PubMed/split\\SEAL_test_pos_batch10.pt，当前总量：1100\n",
      "合并了 ./data/PubMed/split\\SEAL_test_pos_batch11.pt，当前总量：1200\n",
      "合并了 ./data/PubMed/split\\SEAL_test_pos_batch12.pt，当前总量：1300\n",
      "合并了 ./data/PubMed/split\\SEAL_test_pos_batch13.pt，当前总量：1400\n",
      "合并了 ./data/PubMed/split\\SEAL_test_pos_batch14.pt，当前总量：1500\n",
      "合并了 ./data/PubMed/split\\SEAL_test_pos_batch15.pt，当前总量：1600\n",
      "合并了 ./data/PubMed/split\\SEAL_test_pos_batch16.pt，当前总量：1700\n",
      "合并了 ./data/PubMed/split\\SEAL_test_pos_batch17.pt，当前总量：1800\n",
      "合并了 ./data/PubMed/split\\SEAL_test_pos_batch18.pt，当前总量：1900\n",
      "合并了 ./data/PubMed/split\\SEAL_test_pos_batch19.pt，当前总量：2000\n",
      "合并了 ./data/PubMed/split\\SEAL_test_pos_batch20.pt，当前总量：2100\n",
      "合并了 ./data/PubMed/split\\SEAL_test_pos_batch21.pt，当前总量：2200\n",
      "合并了 ./data/PubMed/split\\SEAL_test_pos_batch22.pt，当前总量：2300\n",
      "合并了 ./data/PubMed/split\\SEAL_test_pos_batch23.pt，当前总量：2400\n",
      "合并了 ./data/PubMed/split\\SEAL_test_pos_batch24.pt，当前总量：2500\n",
      "合并了 ./data/PubMed/split\\SEAL_test_pos_batch25.pt，当前总量：2600\n",
      "合并了 ./data/PubMed/split\\SEAL_test_pos_batch26.pt，当前总量：2700\n",
      "合并了 ./data/PubMed/split\\SEAL_test_pos_batch27.pt，当前总量：2800\n",
      "合并了 ./data/PubMed/split\\SEAL_test_pos_batch28.pt，当前总量：2900\n",
      "合并了 ./data/PubMed/split\\SEAL_test_pos_batch29.pt，当前总量：3000\n",
      "合并了 ./data/PubMed/split\\SEAL_test_pos_batch30.pt，当前总量：3100\n",
      "合并了 ./data/PubMed/split\\SEAL_test_pos_batch31.pt，当前总量：3200\n",
      "合并了 ./data/PubMed/split\\SEAL_test_pos_batch32.pt，当前总量：3300\n",
      "合并了 ./data/PubMed/split\\SEAL_test_pos_batch33.pt，当前总量：3400\n",
      "合并了 ./data/PubMed/split\\SEAL_test_pos_batch34.pt，当前总量：3500\n",
      "合并了 ./data/PubMed/split\\SEAL_test_pos_batch35.pt，当前总量：3600\n",
      "合并了 ./data/PubMed/split\\SEAL_test_pos_batch36.pt，当前总量：3700\n",
      "合并了 ./data/PubMed/split\\SEAL_test_pos_batch37.pt，当前总量：3800\n",
      "合并了 ./data/PubMed/split\\SEAL_test_pos_batch38.pt，当前总量：3900\n",
      "合并了 ./data/PubMed/split\\SEAL_test_pos_batch39.pt，当前总量：4000\n",
      "合并了 ./data/PubMed/split\\SEAL_test_pos_batch40.pt，当前总量：4100\n",
      "合并了 ./data/PubMed/split\\SEAL_test_pos_batch41.pt，当前总量：4200\n",
      "合并了 ./data/PubMed/split\\SEAL_test_pos_batch42.pt，当前总量：4300\n",
      "合并了 ./data/PubMed/split\\SEAL_test_pos_batch43.pt，当前总量：4400\n",
      "合并了 ./data/PubMed/split\\SEAL_test_pos_batch44.pt，当前总量：4432\n",
      "保存到 ./data/PubMed/split\\SEAL_test_pos_data_list.pt，总计 4432 条数据\n",
      "--- 合并 test neg batch ---\n",
      "合并了 ./data/PubMed/split\\SEAL_test_neg_batch0.pt，当前总量：100\n",
      "合并了 ./data/PubMed/split\\SEAL_test_neg_batch1.pt，当前总量：200\n",
      "合并了 ./data/PubMed/split\\SEAL_test_neg_batch2.pt，当前总量：300\n",
      "合并了 ./data/PubMed/split\\SEAL_test_neg_batch3.pt，当前总量：400\n",
      "合并了 ./data/PubMed/split\\SEAL_test_neg_batch4.pt，当前总量：500\n",
      "合并了 ./data/PubMed/split\\SEAL_test_neg_batch5.pt，当前总量：600\n",
      "合并了 ./data/PubMed/split\\SEAL_test_neg_batch6.pt，当前总量：700\n",
      "合并了 ./data/PubMed/split\\SEAL_test_neg_batch7.pt，当前总量：800\n",
      "合并了 ./data/PubMed/split\\SEAL_test_neg_batch8.pt，当前总量：900\n",
      "合并了 ./data/PubMed/split\\SEAL_test_neg_batch9.pt，当前总量：1000\n",
      "合并了 ./data/PubMed/split\\SEAL_test_neg_batch10.pt，当前总量：1100\n",
      "合并了 ./data/PubMed/split\\SEAL_test_neg_batch11.pt，当前总量：1200\n",
      "合并了 ./data/PubMed/split\\SEAL_test_neg_batch12.pt，当前总量：1300\n",
      "合并了 ./data/PubMed/split\\SEAL_test_neg_batch13.pt，当前总量：1400\n",
      "合并了 ./data/PubMed/split\\SEAL_test_neg_batch14.pt，当前总量：1500\n",
      "合并了 ./data/PubMed/split\\SEAL_test_neg_batch15.pt，当前总量：1600\n",
      "合并了 ./data/PubMed/split\\SEAL_test_neg_batch16.pt，当前总量：1700\n",
      "合并了 ./data/PubMed/split\\SEAL_test_neg_batch17.pt，当前总量：1800\n",
      "合并了 ./data/PubMed/split\\SEAL_test_neg_batch18.pt，当前总量：1900\n",
      "合并了 ./data/PubMed/split\\SEAL_test_neg_batch19.pt，当前总量：2000\n",
      "合并了 ./data/PubMed/split\\SEAL_test_neg_batch20.pt，当前总量：2100\n",
      "合并了 ./data/PubMed/split\\SEAL_test_neg_batch21.pt，当前总量：2200\n",
      "合并了 ./data/PubMed/split\\SEAL_test_neg_batch22.pt，当前总量：2300\n",
      "合并了 ./data/PubMed/split\\SEAL_test_neg_batch23.pt，当前总量：2400\n",
      "合并了 ./data/PubMed/split\\SEAL_test_neg_batch24.pt，当前总量：2500\n",
      "合并了 ./data/PubMed/split\\SEAL_test_neg_batch25.pt，当前总量：2600\n",
      "合并了 ./data/PubMed/split\\SEAL_test_neg_batch26.pt，当前总量：2700\n",
      "合并了 ./data/PubMed/split\\SEAL_test_neg_batch27.pt，当前总量：2800\n",
      "合并了 ./data/PubMed/split\\SEAL_test_neg_batch28.pt，当前总量：2900\n",
      "合并了 ./data/PubMed/split\\SEAL_test_neg_batch29.pt，当前总量：3000\n",
      "合并了 ./data/PubMed/split\\SEAL_test_neg_batch30.pt，当前总量：3100\n",
      "合并了 ./data/PubMed/split\\SEAL_test_neg_batch31.pt，当前总量：3200\n",
      "合并了 ./data/PubMed/split\\SEAL_test_neg_batch32.pt，当前总量：3300\n",
      "合并了 ./data/PubMed/split\\SEAL_test_neg_batch33.pt，当前总量：3400\n",
      "合并了 ./data/PubMed/split\\SEAL_test_neg_batch34.pt，当前总量：3500\n",
      "合并了 ./data/PubMed/split\\SEAL_test_neg_batch35.pt，当前总量：3600\n",
      "合并了 ./data/PubMed/split\\SEAL_test_neg_batch36.pt，当前总量：3700\n",
      "合并了 ./data/PubMed/split\\SEAL_test_neg_batch37.pt，当前总量：3800\n",
      "合并了 ./data/PubMed/split\\SEAL_test_neg_batch38.pt，当前总量：3900\n",
      "合并了 ./data/PubMed/split\\SEAL_test_neg_batch39.pt，当前总量：4000\n",
      "合并了 ./data/PubMed/split\\SEAL_test_neg_batch40.pt，当前总量：4100\n",
      "合并了 ./data/PubMed/split\\SEAL_test_neg_batch41.pt，当前总量：4200\n",
      "合并了 ./data/PubMed/split\\SEAL_test_neg_batch42.pt，当前总量：4300\n",
      "合并了 ./data/PubMed/split\\SEAL_test_neg_batch43.pt，当前总量：4400\n",
      "合并了 ./data/PubMed/split\\SEAL_test_neg_batch44.pt，当前总量：4432\n",
      "保存到 ./data/PubMed/split\\SEAL_test_neg_data_list.pt，总计 4432 条数据\n",
      "--- 合并 test pos+neg 为总 data_list ---\n",
      "最终合并 ./data/PubMed/split\\SEAL_test_data_list.pt，总计 8864 条（正例 4432，负例 4432）\n",
      "所有分批处理、合并已完成！🚀\n",
      "已删除 ./data/PubMed/split\\SEAL_test_neg_batch0.pt\n",
      "已删除 ./data/PubMed/split\\SEAL_test_neg_batch1.pt\n",
      "已删除 ./data/PubMed/split\\SEAL_test_neg_batch10.pt\n",
      "已删除 ./data/PubMed/split\\SEAL_test_neg_batch11.pt\n",
      "已删除 ./data/PubMed/split\\SEAL_test_neg_batch12.pt\n",
      "已删除 ./data/PubMed/split\\SEAL_test_neg_batch13.pt\n",
      "已删除 ./data/PubMed/split\\SEAL_test_neg_batch14.pt\n",
      "已删除 ./data/PubMed/split\\SEAL_test_neg_batch15.pt\n",
      "已删除 ./data/PubMed/split\\SEAL_test_neg_batch16.pt\n",
      "已删除 ./data/PubMed/split\\SEAL_test_neg_batch17.pt\n",
      "已删除 ./data/PubMed/split\\SEAL_test_neg_batch18.pt\n",
      "已删除 ./data/PubMed/split\\SEAL_test_neg_batch19.pt\n",
      "已删除 ./data/PubMed/split\\SEAL_test_neg_batch2.pt\n",
      "已删除 ./data/PubMed/split\\SEAL_test_neg_batch20.pt\n",
      "已删除 ./data/PubMed/split\\SEAL_test_neg_batch21.pt\n",
      "已删除 ./data/PubMed/split\\SEAL_test_neg_batch22.pt\n",
      "已删除 ./data/PubMed/split\\SEAL_test_neg_batch23.pt\n",
      "已删除 ./data/PubMed/split\\SEAL_test_neg_batch24.pt\n",
      "已删除 ./data/PubMed/split\\SEAL_test_neg_batch25.pt\n",
      "已删除 ./data/PubMed/split\\SEAL_test_neg_batch26.pt\n",
      "已删除 ./data/PubMed/split\\SEAL_test_neg_batch27.pt\n",
      "已删除 ./data/PubMed/split\\SEAL_test_neg_batch28.pt\n",
      "已删除 ./data/PubMed/split\\SEAL_test_neg_batch29.pt\n",
      "已删除 ./data/PubMed/split\\SEAL_test_neg_batch3.pt\n",
      "已删除 ./data/PubMed/split\\SEAL_test_neg_batch30.pt\n",
      "已删除 ./data/PubMed/split\\SEAL_test_neg_batch31.pt\n",
      "已删除 ./data/PubMed/split\\SEAL_test_neg_batch32.pt\n",
      "已删除 ./data/PubMed/split\\SEAL_test_neg_batch33.pt\n",
      "已删除 ./data/PubMed/split\\SEAL_test_neg_batch34.pt\n",
      "已删除 ./data/PubMed/split\\SEAL_test_neg_batch35.pt\n",
      "已删除 ./data/PubMed/split\\SEAL_test_neg_batch36.pt\n",
      "已删除 ./data/PubMed/split\\SEAL_test_neg_batch37.pt\n",
      "已删除 ./data/PubMed/split\\SEAL_test_neg_batch38.pt\n",
      "已删除 ./data/PubMed/split\\SEAL_test_neg_batch39.pt\n",
      "已删除 ./data/PubMed/split\\SEAL_test_neg_batch4.pt\n",
      "已删除 ./data/PubMed/split\\SEAL_test_neg_batch40.pt\n",
      "已删除 ./data/PubMed/split\\SEAL_test_neg_batch41.pt\n",
      "已删除 ./data/PubMed/split\\SEAL_test_neg_batch42.pt\n",
      "已删除 ./data/PubMed/split\\SEAL_test_neg_batch43.pt\n",
      "已删除 ./data/PubMed/split\\SEAL_test_neg_batch44.pt\n",
      "已删除 ./data/PubMed/split\\SEAL_test_neg_batch5.pt\n",
      "已删除 ./data/PubMed/split\\SEAL_test_neg_batch6.pt\n",
      "已删除 ./data/PubMed/split\\SEAL_test_neg_batch7.pt\n",
      "已删除 ./data/PubMed/split\\SEAL_test_neg_batch8.pt\n",
      "已删除 ./data/PubMed/split\\SEAL_test_neg_batch9.pt\n",
      "已删除 ./data/PubMed/split\\SEAL_test_pos_batch0.pt\n",
      "已删除 ./data/PubMed/split\\SEAL_test_pos_batch1.pt\n",
      "已删除 ./data/PubMed/split\\SEAL_test_pos_batch10.pt\n",
      "已删除 ./data/PubMed/split\\SEAL_test_pos_batch11.pt\n",
      "已删除 ./data/PubMed/split\\SEAL_test_pos_batch12.pt\n",
      "已删除 ./data/PubMed/split\\SEAL_test_pos_batch13.pt\n",
      "已删除 ./data/PubMed/split\\SEAL_test_pos_batch14.pt\n",
      "已删除 ./data/PubMed/split\\SEAL_test_pos_batch15.pt\n",
      "已删除 ./data/PubMed/split\\SEAL_test_pos_batch16.pt\n",
      "已删除 ./data/PubMed/split\\SEAL_test_pos_batch17.pt\n",
      "已删除 ./data/PubMed/split\\SEAL_test_pos_batch18.pt\n",
      "已删除 ./data/PubMed/split\\SEAL_test_pos_batch19.pt\n",
      "已删除 ./data/PubMed/split\\SEAL_test_pos_batch2.pt\n",
      "已删除 ./data/PubMed/split\\SEAL_test_pos_batch20.pt\n",
      "已删除 ./data/PubMed/split\\SEAL_test_pos_batch21.pt\n",
      "已删除 ./data/PubMed/split\\SEAL_test_pos_batch22.pt\n",
      "已删除 ./data/PubMed/split\\SEAL_test_pos_batch23.pt\n",
      "已删除 ./data/PubMed/split\\SEAL_test_pos_batch24.pt\n",
      "已删除 ./data/PubMed/split\\SEAL_test_pos_batch25.pt\n",
      "已删除 ./data/PubMed/split\\SEAL_test_pos_batch26.pt\n",
      "已删除 ./data/PubMed/split\\SEAL_test_pos_batch27.pt\n",
      "已删除 ./data/PubMed/split\\SEAL_test_pos_batch28.pt\n",
      "已删除 ./data/PubMed/split\\SEAL_test_pos_batch29.pt\n",
      "已删除 ./data/PubMed/split\\SEAL_test_pos_batch3.pt\n",
      "已删除 ./data/PubMed/split\\SEAL_test_pos_batch30.pt\n",
      "已删除 ./data/PubMed/split\\SEAL_test_pos_batch31.pt\n",
      "已删除 ./data/PubMed/split\\SEAL_test_pos_batch32.pt\n",
      "已删除 ./data/PubMed/split\\SEAL_test_pos_batch33.pt\n",
      "已删除 ./data/PubMed/split\\SEAL_test_pos_batch34.pt\n",
      "已删除 ./data/PubMed/split\\SEAL_test_pos_batch35.pt\n",
      "已删除 ./data/PubMed/split\\SEAL_test_pos_batch36.pt\n",
      "已删除 ./data/PubMed/split\\SEAL_test_pos_batch37.pt\n",
      "已删除 ./data/PubMed/split\\SEAL_test_pos_batch38.pt\n",
      "已删除 ./data/PubMed/split\\SEAL_test_pos_batch39.pt\n",
      "已删除 ./data/PubMed/split\\SEAL_test_pos_batch4.pt\n",
      "已删除 ./data/PubMed/split\\SEAL_test_pos_batch40.pt\n",
      "已删除 ./data/PubMed/split\\SEAL_test_pos_batch41.pt\n",
      "已删除 ./data/PubMed/split\\SEAL_test_pos_batch42.pt\n",
      "已删除 ./data/PubMed/split\\SEAL_test_pos_batch43.pt\n",
      "已删除 ./data/PubMed/split\\SEAL_test_pos_batch44.pt\n",
      "已删除 ./data/PubMed/split\\SEAL_test_pos_batch5.pt\n",
      "已删除 ./data/PubMed/split\\SEAL_test_pos_batch6.pt\n",
      "已删除 ./data/PubMed/split\\SEAL_test_pos_batch7.pt\n",
      "已删除 ./data/PubMed/split\\SEAL_test_pos_batch8.pt\n",
      "已删除 ./data/PubMed/split\\SEAL_test_pos_batch9.pt\n",
      "已删除 ./data/PubMed/split\\SEAL_train_neg_batch0.pt\n",
      "已删除 ./data/PubMed/split\\SEAL_train_neg_batch1.pt\n",
      "已删除 ./data/PubMed/split\\SEAL_train_neg_batch10.pt\n",
      "已删除 ./data/PubMed/split\\SEAL_train_neg_batch100.pt\n",
      "已删除 ./data/PubMed/split\\SEAL_train_neg_batch101.pt\n",
      "已删除 ./data/PubMed/split\\SEAL_train_neg_batch102.pt\n",
      "已删除 ./data/PubMed/split\\SEAL_train_neg_batch103.pt\n",
      "已删除 ./data/PubMed/split\\SEAL_train_neg_batch104.pt\n",
      "已删除 ./data/PubMed/split\\SEAL_train_neg_batch105.pt\n",
      "已删除 ./data/PubMed/split\\SEAL_train_neg_batch106.pt\n",
      "已删除 ./data/PubMed/split\\SEAL_train_neg_batch107.pt\n",
      "已删除 ./data/PubMed/split\\SEAL_train_neg_batch108.pt\n",
      "已删除 ./data/PubMed/split\\SEAL_train_neg_batch109.pt\n",
      "已删除 ./data/PubMed/split\\SEAL_train_neg_batch11.pt\n",
      "已删除 ./data/PubMed/split\\SEAL_train_neg_batch110.pt\n",
      "已删除 ./data/PubMed/split\\SEAL_train_neg_batch111.pt\n",
      "已删除 ./data/PubMed/split\\SEAL_train_neg_batch112.pt\n",
      "已删除 ./data/PubMed/split\\SEAL_train_neg_batch113.pt\n",
      "已删除 ./data/PubMed/split\\SEAL_train_neg_batch114.pt\n",
      "已删除 ./data/PubMed/split\\SEAL_train_neg_batch115.pt\n",
      "已删除 ./data/PubMed/split\\SEAL_train_neg_batch116.pt\n",
      "已删除 ./data/PubMed/split\\SEAL_train_neg_batch117.pt\n",
      "已删除 ./data/PubMed/split\\SEAL_train_neg_batch118.pt\n",
      "已删除 ./data/PubMed/split\\SEAL_train_neg_batch119.pt\n",
      "已删除 ./data/PubMed/split\\SEAL_train_neg_batch12.pt\n",
      "已删除 ./data/PubMed/split\\SEAL_train_neg_batch120.pt\n",
      "已删除 ./data/PubMed/split\\SEAL_train_neg_batch121.pt\n",
      "已删除 ./data/PubMed/split\\SEAL_train_neg_batch122.pt\n",
      "已删除 ./data/PubMed/split\\SEAL_train_neg_batch123.pt\n",
      "已删除 ./data/PubMed/split\\SEAL_train_neg_batch124.pt\n",
      "已删除 ./data/PubMed/split\\SEAL_train_neg_batch125.pt\n",
      "已删除 ./data/PubMed/split\\SEAL_train_neg_batch126.pt\n",
      "已删除 ./data/PubMed/split\\SEAL_train_neg_batch127.pt\n",
      "已删除 ./data/PubMed/split\\SEAL_train_neg_batch128.pt\n",
      "已删除 ./data/PubMed/split\\SEAL_train_neg_batch129.pt\n",
      "已删除 ./data/PubMed/split\\SEAL_train_neg_batch13.pt\n",
      "已删除 ./data/PubMed/split\\SEAL_train_neg_batch130.pt\n",
      "已删除 ./data/PubMed/split\\SEAL_train_neg_batch131.pt\n",
      "已删除 ./data/PubMed/split\\SEAL_train_neg_batch132.pt\n",
      "已删除 ./data/PubMed/split\\SEAL_train_neg_batch133.pt\n",
      "已删除 ./data/PubMed/split\\SEAL_train_neg_batch134.pt\n",
      "已删除 ./data/PubMed/split\\SEAL_train_neg_batch135.pt\n",
      "已删除 ./data/PubMed/split\\SEAL_train_neg_batch136.pt\n",
      "已删除 ./data/PubMed/split\\SEAL_train_neg_batch137.pt\n",
      "已删除 ./data/PubMed/split\\SEAL_train_neg_batch138.pt\n",
      "已删除 ./data/PubMed/split\\SEAL_train_neg_batch139.pt\n",
      "已删除 ./data/PubMed/split\\SEAL_train_neg_batch14.pt\n",
      "已删除 ./data/PubMed/split\\SEAL_train_neg_batch140.pt\n",
      "已删除 ./data/PubMed/split\\SEAL_train_neg_batch141.pt\n",
      "已删除 ./data/PubMed/split\\SEAL_train_neg_batch142.pt\n",
      "已删除 ./data/PubMed/split\\SEAL_train_neg_batch143.pt\n",
      "已删除 ./data/PubMed/split\\SEAL_train_neg_batch144.pt\n",
      "已删除 ./data/PubMed/split\\SEAL_train_neg_batch145.pt\n",
      "已删除 ./data/PubMed/split\\SEAL_train_neg_batch146.pt\n",
      "已删除 ./data/PubMed/split\\SEAL_train_neg_batch147.pt\n",
      "已删除 ./data/PubMed/split\\SEAL_train_neg_batch148.pt\n",
      "已删除 ./data/PubMed/split\\SEAL_train_neg_batch149.pt\n",
      "已删除 ./data/PubMed/split\\SEAL_train_neg_batch15.pt\n",
      "已删除 ./data/PubMed/split\\SEAL_train_neg_batch150.pt\n",
      "已删除 ./data/PubMed/split\\SEAL_train_neg_batch151.pt\n",
      "已删除 ./data/PubMed/split\\SEAL_train_neg_batch152.pt\n",
      "已删除 ./data/PubMed/split\\SEAL_train_neg_batch153.pt\n",
      "已删除 ./data/PubMed/split\\SEAL_train_neg_batch154.pt\n",
      "已删除 ./data/PubMed/split\\SEAL_train_neg_batch155.pt\n",
      "已删除 ./data/PubMed/split\\SEAL_train_neg_batch156.pt\n",
      "已删除 ./data/PubMed/split\\SEAL_train_neg_batch157.pt\n",
      "已删除 ./data/PubMed/split\\SEAL_train_neg_batch158.pt\n",
      "已删除 ./data/PubMed/split\\SEAL_train_neg_batch159.pt\n",
      "已删除 ./data/PubMed/split\\SEAL_train_neg_batch16.pt\n",
      "已删除 ./data/PubMed/split\\SEAL_train_neg_batch160.pt\n",
      "已删除 ./data/PubMed/split\\SEAL_train_neg_batch161.pt\n",
      "已删除 ./data/PubMed/split\\SEAL_train_neg_batch162.pt\n",
      "已删除 ./data/PubMed/split\\SEAL_train_neg_batch163.pt\n",
      "已删除 ./data/PubMed/split\\SEAL_train_neg_batch164.pt\n",
      "已删除 ./data/PubMed/split\\SEAL_train_neg_batch165.pt\n",
      "已删除 ./data/PubMed/split\\SEAL_train_neg_batch166.pt\n",
      "已删除 ./data/PubMed/split\\SEAL_train_neg_batch167.pt\n",
      "已删除 ./data/PubMed/split\\SEAL_train_neg_batch168.pt\n",
      "已删除 ./data/PubMed/split\\SEAL_train_neg_batch169.pt\n",
      "已删除 ./data/PubMed/split\\SEAL_train_neg_batch17.pt\n",
      "已删除 ./data/PubMed/split\\SEAL_train_neg_batch170.pt\n",
      "已删除 ./data/PubMed/split\\SEAL_train_neg_batch171.pt\n",
      "已删除 ./data/PubMed/split\\SEAL_train_neg_batch172.pt\n",
      "已删除 ./data/PubMed/split\\SEAL_train_neg_batch173.pt\n",
      "已删除 ./data/PubMed/split\\SEAL_train_neg_batch174.pt\n",
      "已删除 ./data/PubMed/split\\SEAL_train_neg_batch175.pt\n",
      "已删除 ./data/PubMed/split\\SEAL_train_neg_batch176.pt\n",
      "已删除 ./data/PubMed/split\\SEAL_train_neg_batch177.pt\n",
      "已删除 ./data/PubMed/split\\SEAL_train_neg_batch178.pt\n",
      "已删除 ./data/PubMed/split\\SEAL_train_neg_batch179.pt\n",
      "已删除 ./data/PubMed/split\\SEAL_train_neg_batch18.pt\n",
      "已删除 ./data/PubMed/split\\SEAL_train_neg_batch180.pt\n",
      "已删除 ./data/PubMed/split\\SEAL_train_neg_batch181.pt\n",
      "已删除 ./data/PubMed/split\\SEAL_train_neg_batch182.pt\n",
      "已删除 ./data/PubMed/split\\SEAL_train_neg_batch183.pt\n",
      "已删除 ./data/PubMed/split\\SEAL_train_neg_batch184.pt\n",
      "已删除 ./data/PubMed/split\\SEAL_train_neg_batch185.pt\n",
      "已删除 ./data/PubMed/split\\SEAL_train_neg_batch186.pt\n",
      "已删除 ./data/PubMed/split\\SEAL_train_neg_batch187.pt\n",
      "已删除 ./data/PubMed/split\\SEAL_train_neg_batch188.pt\n",
      "已删除 ./data/PubMed/split\\SEAL_train_neg_batch189.pt\n",
      "已删除 ./data/PubMed/split\\SEAL_train_neg_batch19.pt\n",
      "已删除 ./data/PubMed/split\\SEAL_train_neg_batch190.pt\n",
      "已删除 ./data/PubMed/split\\SEAL_train_neg_batch191.pt\n",
      "已删除 ./data/PubMed/split\\SEAL_train_neg_batch192.pt\n",
      "已删除 ./data/PubMed/split\\SEAL_train_neg_batch193.pt\n",
      "已删除 ./data/PubMed/split\\SEAL_train_neg_batch194.pt\n",
      "已删除 ./data/PubMed/split\\SEAL_train_neg_batch195.pt\n",
      "已删除 ./data/PubMed/split\\SEAL_train_neg_batch196.pt\n",
      "已删除 ./data/PubMed/split\\SEAL_train_neg_batch197.pt\n",
      "已删除 ./data/PubMed/split\\SEAL_train_neg_batch198.pt\n",
      "已删除 ./data/PubMed/split\\SEAL_train_neg_batch199.pt\n",
      "已删除 ./data/PubMed/split\\SEAL_train_neg_batch2.pt\n",
      "已删除 ./data/PubMed/split\\SEAL_train_neg_batch20.pt\n",
      "已删除 ./data/PubMed/split\\SEAL_train_neg_batch200.pt\n",
      "已删除 ./data/PubMed/split\\SEAL_train_neg_batch201.pt\n",
      "已删除 ./data/PubMed/split\\SEAL_train_neg_batch202.pt\n",
      "已删除 ./data/PubMed/split\\SEAL_train_neg_batch203.pt\n",
      "已删除 ./data/PubMed/split\\SEAL_train_neg_batch204.pt\n",
      "已删除 ./data/PubMed/split\\SEAL_train_neg_batch205.pt\n",
      "已删除 ./data/PubMed/split\\SEAL_train_neg_batch206.pt\n",
      "已删除 ./data/PubMed/split\\SEAL_train_neg_batch207.pt\n",
      "已删除 ./data/PubMed/split\\SEAL_train_neg_batch208.pt\n",
      "已删除 ./data/PubMed/split\\SEAL_train_neg_batch209.pt\n",
      "已删除 ./data/PubMed/split\\SEAL_train_neg_batch21.pt\n",
      "已删除 ./data/PubMed/split\\SEAL_train_neg_batch210.pt\n",
      "已删除 ./data/PubMed/split\\SEAL_train_neg_batch211.pt\n",
      "已删除 ./data/PubMed/split\\SEAL_train_neg_batch212.pt\n",
      "已删除 ./data/PubMed/split\\SEAL_train_neg_batch213.pt\n",
      "已删除 ./data/PubMed/split\\SEAL_train_neg_batch214.pt\n",
      "已删除 ./data/PubMed/split\\SEAL_train_neg_batch215.pt\n",
      "已删除 ./data/PubMed/split\\SEAL_train_neg_batch216.pt\n",
      "已删除 ./data/PubMed/split\\SEAL_train_neg_batch217.pt\n",
      "已删除 ./data/PubMed/split\\SEAL_train_neg_batch218.pt\n",
      "已删除 ./data/PubMed/split\\SEAL_train_neg_batch219.pt\n",
      "已删除 ./data/PubMed/split\\SEAL_train_neg_batch22.pt\n",
      "已删除 ./data/PubMed/split\\SEAL_train_neg_batch220.pt\n",
      "已删除 ./data/PubMed/split\\SEAL_train_neg_batch221.pt\n",
      "已删除 ./data/PubMed/split\\SEAL_train_neg_batch222.pt\n",
      "已删除 ./data/PubMed/split\\SEAL_train_neg_batch223.pt\n",
      "已删除 ./data/PubMed/split\\SEAL_train_neg_batch224.pt\n",
      "已删除 ./data/PubMed/split\\SEAL_train_neg_batch225.pt\n",
      "已删除 ./data/PubMed/split\\SEAL_train_neg_batch226.pt\n",
      "已删除 ./data/PubMed/split\\SEAL_train_neg_batch227.pt\n",
      "已删除 ./data/PubMed/split\\SEAL_train_neg_batch228.pt\n",
      "已删除 ./data/PubMed/split\\SEAL_train_neg_batch229.pt\n",
      "已删除 ./data/PubMed/split\\SEAL_train_neg_batch23.pt\n",
      "已删除 ./data/PubMed/split\\SEAL_train_neg_batch230.pt\n",
      "已删除 ./data/PubMed/split\\SEAL_train_neg_batch231.pt\n",
      "已删除 ./data/PubMed/split\\SEAL_train_neg_batch232.pt\n",
      "已删除 ./data/PubMed/split\\SEAL_train_neg_batch233.pt\n",
      "已删除 ./data/PubMed/split\\SEAL_train_neg_batch234.pt\n",
      "已删除 ./data/PubMed/split\\SEAL_train_neg_batch235.pt\n",
      "已删除 ./data/PubMed/split\\SEAL_train_neg_batch236.pt\n",
      "已删除 ./data/PubMed/split\\SEAL_train_neg_batch237.pt\n",
      "已删除 ./data/PubMed/split\\SEAL_train_neg_batch238.pt\n",
      "已删除 ./data/PubMed/split\\SEAL_train_neg_batch239.pt\n",
      "已删除 ./data/PubMed/split\\SEAL_train_neg_batch24.pt\n",
      "已删除 ./data/PubMed/split\\SEAL_train_neg_batch240.pt\n",
      "已删除 ./data/PubMed/split\\SEAL_train_neg_batch241.pt\n",
      "已删除 ./data/PubMed/split\\SEAL_train_neg_batch242.pt\n",
      "已删除 ./data/PubMed/split\\SEAL_train_neg_batch243.pt\n",
      "已删除 ./data/PubMed/split\\SEAL_train_neg_batch244.pt\n",
      "已删除 ./data/PubMed/split\\SEAL_train_neg_batch245.pt\n",
      "已删除 ./data/PubMed/split\\SEAL_train_neg_batch246.pt\n",
      "已删除 ./data/PubMed/split\\SEAL_train_neg_batch247.pt\n",
      "已删除 ./data/PubMed/split\\SEAL_train_neg_batch248.pt\n",
      "已删除 ./data/PubMed/split\\SEAL_train_neg_batch249.pt\n",
      "已删除 ./data/PubMed/split\\SEAL_train_neg_batch25.pt\n",
      "已删除 ./data/PubMed/split\\SEAL_train_neg_batch250.pt\n",
      "已删除 ./data/PubMed/split\\SEAL_train_neg_batch251.pt\n",
      "已删除 ./data/PubMed/split\\SEAL_train_neg_batch252.pt\n",
      "已删除 ./data/PubMed/split\\SEAL_train_neg_batch253.pt\n",
      "已删除 ./data/PubMed/split\\SEAL_train_neg_batch254.pt\n",
      "已删除 ./data/PubMed/split\\SEAL_train_neg_batch255.pt\n",
      "已删除 ./data/PubMed/split\\SEAL_train_neg_batch256.pt\n",
      "已删除 ./data/PubMed/split\\SEAL_train_neg_batch257.pt\n",
      "已删除 ./data/PubMed/split\\SEAL_train_neg_batch258.pt\n",
      "已删除 ./data/PubMed/split\\SEAL_train_neg_batch259.pt\n",
      "已删除 ./data/PubMed/split\\SEAL_train_neg_batch26.pt\n",
      "已删除 ./data/PubMed/split\\SEAL_train_neg_batch260.pt\n",
      "已删除 ./data/PubMed/split\\SEAL_train_neg_batch261.pt\n",
      "已删除 ./data/PubMed/split\\SEAL_train_neg_batch262.pt\n",
      "已删除 ./data/PubMed/split\\SEAL_train_neg_batch263.pt\n",
      "已删除 ./data/PubMed/split\\SEAL_train_neg_batch264.pt\n",
      "已删除 ./data/PubMed/split\\SEAL_train_neg_batch265.pt\n",
      "已删除 ./data/PubMed/split\\SEAL_train_neg_batch266.pt\n",
      "已删除 ./data/PubMed/split\\SEAL_train_neg_batch267.pt\n",
      "已删除 ./data/PubMed/split\\SEAL_train_neg_batch268.pt\n",
      "已删除 ./data/PubMed/split\\SEAL_train_neg_batch269.pt\n",
      "已删除 ./data/PubMed/split\\SEAL_train_neg_batch27.pt\n",
      "已删除 ./data/PubMed/split\\SEAL_train_neg_batch270.pt\n",
      "已删除 ./data/PubMed/split\\SEAL_train_neg_batch271.pt\n",
      "已删除 ./data/PubMed/split\\SEAL_train_neg_batch272.pt\n",
      "已删除 ./data/PubMed/split\\SEAL_train_neg_batch273.pt\n",
      "已删除 ./data/PubMed/split\\SEAL_train_neg_batch274.pt\n",
      "已删除 ./data/PubMed/split\\SEAL_train_neg_batch275.pt\n",
      "已删除 ./data/PubMed/split\\SEAL_train_neg_batch276.pt\n",
      "已删除 ./data/PubMed/split\\SEAL_train_neg_batch277.pt\n",
      "已删除 ./data/PubMed/split\\SEAL_train_neg_batch278.pt\n",
      "已删除 ./data/PubMed/split\\SEAL_train_neg_batch279.pt\n",
      "已删除 ./data/PubMed/split\\SEAL_train_neg_batch28.pt\n",
      "已删除 ./data/PubMed/split\\SEAL_train_neg_batch280.pt\n",
      "已删除 ./data/PubMed/split\\SEAL_train_neg_batch281.pt\n",
      "已删除 ./data/PubMed/split\\SEAL_train_neg_batch282.pt\n",
      "已删除 ./data/PubMed/split\\SEAL_train_neg_batch283.pt\n",
      "已删除 ./data/PubMed/split\\SEAL_train_neg_batch284.pt\n",
      "已删除 ./data/PubMed/split\\SEAL_train_neg_batch285.pt\n",
      "已删除 ./data/PubMed/split\\SEAL_train_neg_batch286.pt\n",
      "已删除 ./data/PubMed/split\\SEAL_train_neg_batch287.pt\n",
      "已删除 ./data/PubMed/split\\SEAL_train_neg_batch288.pt\n",
      "已删除 ./data/PubMed/split\\SEAL_train_neg_batch289.pt\n",
      "已删除 ./data/PubMed/split\\SEAL_train_neg_batch29.pt\n",
      "已删除 ./data/PubMed/split\\SEAL_train_neg_batch290.pt\n",
      "已删除 ./data/PubMed/split\\SEAL_train_neg_batch291.pt\n",
      "已删除 ./data/PubMed/split\\SEAL_train_neg_batch292.pt\n",
      "已删除 ./data/PubMed/split\\SEAL_train_neg_batch293.pt\n",
      "已删除 ./data/PubMed/split\\SEAL_train_neg_batch294.pt\n",
      "已删除 ./data/PubMed/split\\SEAL_train_neg_batch295.pt\n",
      "已删除 ./data/PubMed/split\\SEAL_train_neg_batch296.pt\n",
      "已删除 ./data/PubMed/split\\SEAL_train_neg_batch297.pt\n",
      "已删除 ./data/PubMed/split\\SEAL_train_neg_batch298.pt\n",
      "已删除 ./data/PubMed/split\\SEAL_train_neg_batch299.pt\n",
      "已删除 ./data/PubMed/split\\SEAL_train_neg_batch3.pt\n",
      "已删除 ./data/PubMed/split\\SEAL_train_neg_batch30.pt\n",
      "已删除 ./data/PubMed/split\\SEAL_train_neg_batch300.pt\n",
      "已删除 ./data/PubMed/split\\SEAL_train_neg_batch301.pt\n",
      "已删除 ./data/PubMed/split\\SEAL_train_neg_batch302.pt\n",
      "已删除 ./data/PubMed/split\\SEAL_train_neg_batch303.pt\n",
      "已删除 ./data/PubMed/split\\SEAL_train_neg_batch304.pt\n",
      "已删除 ./data/PubMed/split\\SEAL_train_neg_batch305.pt\n",
      "已删除 ./data/PubMed/split\\SEAL_train_neg_batch306.pt\n",
      "已删除 ./data/PubMed/split\\SEAL_train_neg_batch307.pt\n",
      "已删除 ./data/PubMed/split\\SEAL_train_neg_batch308.pt\n",
      "已删除 ./data/PubMed/split\\SEAL_train_neg_batch309.pt\n",
      "已删除 ./data/PubMed/split\\SEAL_train_neg_batch31.pt\n",
      "已删除 ./data/PubMed/split\\SEAL_train_neg_batch310.pt\n",
      "已删除 ./data/PubMed/split\\SEAL_train_neg_batch311.pt\n",
      "已删除 ./data/PubMed/split\\SEAL_train_neg_batch312.pt\n",
      "已删除 ./data/PubMed/split\\SEAL_train_neg_batch313.pt\n",
      "已删除 ./data/PubMed/split\\SEAL_train_neg_batch314.pt\n",
      "已删除 ./data/PubMed/split\\SEAL_train_neg_batch315.pt\n",
      "已删除 ./data/PubMed/split\\SEAL_train_neg_batch316.pt\n",
      "已删除 ./data/PubMed/split\\SEAL_train_neg_batch317.pt\n",
      "已删除 ./data/PubMed/split\\SEAL_train_neg_batch318.pt\n",
      "已删除 ./data/PubMed/split\\SEAL_train_neg_batch319.pt\n",
      "已删除 ./data/PubMed/split\\SEAL_train_neg_batch32.pt\n",
      "已删除 ./data/PubMed/split\\SEAL_train_neg_batch320.pt\n",
      "已删除 ./data/PubMed/split\\SEAL_train_neg_batch321.pt\n",
      "已删除 ./data/PubMed/split\\SEAL_train_neg_batch322.pt\n",
      "已删除 ./data/PubMed/split\\SEAL_train_neg_batch323.pt\n",
      "已删除 ./data/PubMed/split\\SEAL_train_neg_batch324.pt\n",
      "已删除 ./data/PubMed/split\\SEAL_train_neg_batch325.pt\n",
      "已删除 ./data/PubMed/split\\SEAL_train_neg_batch326.pt\n",
      "已删除 ./data/PubMed/split\\SEAL_train_neg_batch327.pt\n",
      "已删除 ./data/PubMed/split\\SEAL_train_neg_batch328.pt\n",
      "已删除 ./data/PubMed/split\\SEAL_train_neg_batch329.pt\n",
      "已删除 ./data/PubMed/split\\SEAL_train_neg_batch33.pt\n",
      "已删除 ./data/PubMed/split\\SEAL_train_neg_batch330.pt\n",
      "已删除 ./data/PubMed/split\\SEAL_train_neg_batch331.pt\n",
      "已删除 ./data/PubMed/split\\SEAL_train_neg_batch332.pt\n",
      "已删除 ./data/PubMed/split\\SEAL_train_neg_batch333.pt\n",
      "已删除 ./data/PubMed/split\\SEAL_train_neg_batch334.pt\n",
      "已删除 ./data/PubMed/split\\SEAL_train_neg_batch335.pt\n",
      "已删除 ./data/PubMed/split\\SEAL_train_neg_batch336.pt\n",
      "已删除 ./data/PubMed/split\\SEAL_train_neg_batch337.pt\n",
      "已删除 ./data/PubMed/split\\SEAL_train_neg_batch338.pt\n",
      "已删除 ./data/PubMed/split\\SEAL_train_neg_batch339.pt\n",
      "已删除 ./data/PubMed/split\\SEAL_train_neg_batch34.pt\n",
      "已删除 ./data/PubMed/split\\SEAL_train_neg_batch340.pt\n",
      "已删除 ./data/PubMed/split\\SEAL_train_neg_batch341.pt\n",
      "已删除 ./data/PubMed/split\\SEAL_train_neg_batch342.pt\n",
      "已删除 ./data/PubMed/split\\SEAL_train_neg_batch343.pt\n",
      "已删除 ./data/PubMed/split\\SEAL_train_neg_batch344.pt\n",
      "已删除 ./data/PubMed/split\\SEAL_train_neg_batch345.pt\n",
      "已删除 ./data/PubMed/split\\SEAL_train_neg_batch346.pt\n",
      "已删除 ./data/PubMed/split\\SEAL_train_neg_batch347.pt\n",
      "已删除 ./data/PubMed/split\\SEAL_train_neg_batch348.pt\n",
      "已删除 ./data/PubMed/split\\SEAL_train_neg_batch349.pt\n",
      "已删除 ./data/PubMed/split\\SEAL_train_neg_batch35.pt\n",
      "已删除 ./data/PubMed/split\\SEAL_train_neg_batch350.pt\n",
      "已删除 ./data/PubMed/split\\SEAL_train_neg_batch351.pt\n",
      "已删除 ./data/PubMed/split\\SEAL_train_neg_batch352.pt\n",
      "已删除 ./data/PubMed/split\\SEAL_train_neg_batch353.pt\n",
      "已删除 ./data/PubMed/split\\SEAL_train_neg_batch354.pt\n",
      "已删除 ./data/PubMed/split\\SEAL_train_neg_batch355.pt\n",
      "已删除 ./data/PubMed/split\\SEAL_train_neg_batch356.pt\n",
      "已删除 ./data/PubMed/split\\SEAL_train_neg_batch357.pt\n",
      "已删除 ./data/PubMed/split\\SEAL_train_neg_batch358.pt\n",
      "已删除 ./data/PubMed/split\\SEAL_train_neg_batch359.pt\n",
      "已删除 ./data/PubMed/split\\SEAL_train_neg_batch36.pt\n",
      "已删除 ./data/PubMed/split\\SEAL_train_neg_batch360.pt\n",
      "已删除 ./data/PubMed/split\\SEAL_train_neg_batch361.pt\n",
      "已删除 ./data/PubMed/split\\SEAL_train_neg_batch362.pt\n",
      "已删除 ./data/PubMed/split\\SEAL_train_neg_batch363.pt\n",
      "已删除 ./data/PubMed/split\\SEAL_train_neg_batch364.pt\n",
      "已删除 ./data/PubMed/split\\SEAL_train_neg_batch365.pt\n",
      "已删除 ./data/PubMed/split\\SEAL_train_neg_batch366.pt\n",
      "已删除 ./data/PubMed/split\\SEAL_train_neg_batch367.pt\n",
      "已删除 ./data/PubMed/split\\SEAL_train_neg_batch368.pt\n",
      "已删除 ./data/PubMed/split\\SEAL_train_neg_batch369.pt\n",
      "已删除 ./data/PubMed/split\\SEAL_train_neg_batch37.pt\n",
      "已删除 ./data/PubMed/split\\SEAL_train_neg_batch370.pt\n",
      "已删除 ./data/PubMed/split\\SEAL_train_neg_batch371.pt\n",
      "已删除 ./data/PubMed/split\\SEAL_train_neg_batch372.pt\n",
      "已删除 ./data/PubMed/split\\SEAL_train_neg_batch373.pt\n",
      "已删除 ./data/PubMed/split\\SEAL_train_neg_batch374.pt\n",
      "已删除 ./data/PubMed/split\\SEAL_train_neg_batch375.pt\n",
      "已删除 ./data/PubMed/split\\SEAL_train_neg_batch376.pt\n",
      "已删除 ./data/PubMed/split\\SEAL_train_neg_batch38.pt\n",
      "已删除 ./data/PubMed/split\\SEAL_train_neg_batch39.pt\n",
      "已删除 ./data/PubMed/split\\SEAL_train_neg_batch4.pt\n",
      "已删除 ./data/PubMed/split\\SEAL_train_neg_batch40.pt\n",
      "已删除 ./data/PubMed/split\\SEAL_train_neg_batch41.pt\n",
      "已删除 ./data/PubMed/split\\SEAL_train_neg_batch42.pt\n",
      "已删除 ./data/PubMed/split\\SEAL_train_neg_batch43.pt\n",
      "已删除 ./data/PubMed/split\\SEAL_train_neg_batch44.pt\n",
      "已删除 ./data/PubMed/split\\SEAL_train_neg_batch45.pt\n",
      "已删除 ./data/PubMed/split\\SEAL_train_neg_batch46.pt\n",
      "已删除 ./data/PubMed/split\\SEAL_train_neg_batch47.pt\n",
      "已删除 ./data/PubMed/split\\SEAL_train_neg_batch48.pt\n",
      "已删除 ./data/PubMed/split\\SEAL_train_neg_batch49.pt\n",
      "已删除 ./data/PubMed/split\\SEAL_train_neg_batch5.pt\n",
      "已删除 ./data/PubMed/split\\SEAL_train_neg_batch50.pt\n",
      "已删除 ./data/PubMed/split\\SEAL_train_neg_batch51.pt\n",
      "已删除 ./data/PubMed/split\\SEAL_train_neg_batch52.pt\n",
      "已删除 ./data/PubMed/split\\SEAL_train_neg_batch53.pt\n",
      "已删除 ./data/PubMed/split\\SEAL_train_neg_batch54.pt\n",
      "已删除 ./data/PubMed/split\\SEAL_train_neg_batch55.pt\n",
      "已删除 ./data/PubMed/split\\SEAL_train_neg_batch56.pt\n",
      "已删除 ./data/PubMed/split\\SEAL_train_neg_batch57.pt\n",
      "已删除 ./data/PubMed/split\\SEAL_train_neg_batch58.pt\n",
      "已删除 ./data/PubMed/split\\SEAL_train_neg_batch59.pt\n",
      "已删除 ./data/PubMed/split\\SEAL_train_neg_batch6.pt\n",
      "已删除 ./data/PubMed/split\\SEAL_train_neg_batch60.pt\n",
      "已删除 ./data/PubMed/split\\SEAL_train_neg_batch61.pt\n",
      "已删除 ./data/PubMed/split\\SEAL_train_neg_batch62.pt\n",
      "已删除 ./data/PubMed/split\\SEAL_train_neg_batch63.pt\n",
      "已删除 ./data/PubMed/split\\SEAL_train_neg_batch64.pt\n",
      "已删除 ./data/PubMed/split\\SEAL_train_neg_batch65.pt\n",
      "已删除 ./data/PubMed/split\\SEAL_train_neg_batch66.pt\n",
      "已删除 ./data/PubMed/split\\SEAL_train_neg_batch67.pt\n",
      "已删除 ./data/PubMed/split\\SEAL_train_neg_batch68.pt\n",
      "已删除 ./data/PubMed/split\\SEAL_train_neg_batch69.pt\n",
      "已删除 ./data/PubMed/split\\SEAL_train_neg_batch7.pt\n",
      "已删除 ./data/PubMed/split\\SEAL_train_neg_batch70.pt\n",
      "已删除 ./data/PubMed/split\\SEAL_train_neg_batch71.pt\n",
      "已删除 ./data/PubMed/split\\SEAL_train_neg_batch72.pt\n",
      "已删除 ./data/PubMed/split\\SEAL_train_neg_batch73.pt\n",
      "已删除 ./data/PubMed/split\\SEAL_train_neg_batch74.pt\n",
      "已删除 ./data/PubMed/split\\SEAL_train_neg_batch75.pt\n",
      "已删除 ./data/PubMed/split\\SEAL_train_neg_batch76.pt\n",
      "已删除 ./data/PubMed/split\\SEAL_train_neg_batch77.pt\n",
      "已删除 ./data/PubMed/split\\SEAL_train_neg_batch78.pt\n",
      "已删除 ./data/PubMed/split\\SEAL_train_neg_batch79.pt\n",
      "已删除 ./data/PubMed/split\\SEAL_train_neg_batch8.pt\n",
      "已删除 ./data/PubMed/split\\SEAL_train_neg_batch80.pt\n",
      "已删除 ./data/PubMed/split\\SEAL_train_neg_batch81.pt\n",
      "已删除 ./data/PubMed/split\\SEAL_train_neg_batch82.pt\n",
      "已删除 ./data/PubMed/split\\SEAL_train_neg_batch83.pt\n",
      "已删除 ./data/PubMed/split\\SEAL_train_neg_batch84.pt\n",
      "已删除 ./data/PubMed/split\\SEAL_train_neg_batch85.pt\n",
      "已删除 ./data/PubMed/split\\SEAL_train_neg_batch86.pt\n",
      "已删除 ./data/PubMed/split\\SEAL_train_neg_batch87.pt\n",
      "已删除 ./data/PubMed/split\\SEAL_train_neg_batch88.pt\n",
      "已删除 ./data/PubMed/split\\SEAL_train_neg_batch89.pt\n",
      "已删除 ./data/PubMed/split\\SEAL_train_neg_batch9.pt\n",
      "已删除 ./data/PubMed/split\\SEAL_train_neg_batch90.pt\n",
      "已删除 ./data/PubMed/split\\SEAL_train_neg_batch91.pt\n",
      "已删除 ./data/PubMed/split\\SEAL_train_neg_batch92.pt\n",
      "已删除 ./data/PubMed/split\\SEAL_train_neg_batch93.pt\n",
      "已删除 ./data/PubMed/split\\SEAL_train_neg_batch94.pt\n",
      "已删除 ./data/PubMed/split\\SEAL_train_neg_batch95.pt\n",
      "已删除 ./data/PubMed/split\\SEAL_train_neg_batch96.pt\n",
      "已删除 ./data/PubMed/split\\SEAL_train_neg_batch97.pt\n",
      "已删除 ./data/PubMed/split\\SEAL_train_neg_batch98.pt\n",
      "已删除 ./data/PubMed/split\\SEAL_train_neg_batch99.pt\n",
      "已删除 ./data/PubMed/split\\SEAL_train_pos_batch0.pt\n",
      "已删除 ./data/PubMed/split\\SEAL_train_pos_batch1.pt\n",
      "已删除 ./data/PubMed/split\\SEAL_train_pos_batch10.pt\n",
      "已删除 ./data/PubMed/split\\SEAL_train_pos_batch100.pt\n",
      "已删除 ./data/PubMed/split\\SEAL_train_pos_batch101.pt\n",
      "已删除 ./data/PubMed/split\\SEAL_train_pos_batch102.pt\n",
      "已删除 ./data/PubMed/split\\SEAL_train_pos_batch103.pt\n",
      "已删除 ./data/PubMed/split\\SEAL_train_pos_batch104.pt\n",
      "已删除 ./data/PubMed/split\\SEAL_train_pos_batch105.pt\n",
      "已删除 ./data/PubMed/split\\SEAL_train_pos_batch106.pt\n",
      "已删除 ./data/PubMed/split\\SEAL_train_pos_batch107.pt\n",
      "已删除 ./data/PubMed/split\\SEAL_train_pos_batch108.pt\n",
      "已删除 ./data/PubMed/split\\SEAL_train_pos_batch109.pt\n",
      "已删除 ./data/PubMed/split\\SEAL_train_pos_batch11.pt\n",
      "已删除 ./data/PubMed/split\\SEAL_train_pos_batch110.pt\n",
      "已删除 ./data/PubMed/split\\SEAL_train_pos_batch111.pt\n",
      "已删除 ./data/PubMed/split\\SEAL_train_pos_batch112.pt\n",
      "已删除 ./data/PubMed/split\\SEAL_train_pos_batch113.pt\n",
      "已删除 ./data/PubMed/split\\SEAL_train_pos_batch114.pt\n",
      "已删除 ./data/PubMed/split\\SEAL_train_pos_batch115.pt\n",
      "已删除 ./data/PubMed/split\\SEAL_train_pos_batch116.pt\n",
      "已删除 ./data/PubMed/split\\SEAL_train_pos_batch117.pt\n",
      "已删除 ./data/PubMed/split\\SEAL_train_pos_batch118.pt\n",
      "已删除 ./data/PubMed/split\\SEAL_train_pos_batch119.pt\n",
      "已删除 ./data/PubMed/split\\SEAL_train_pos_batch12.pt\n",
      "已删除 ./data/PubMed/split\\SEAL_train_pos_batch120.pt\n",
      "已删除 ./data/PubMed/split\\SEAL_train_pos_batch121.pt\n",
      "已删除 ./data/PubMed/split\\SEAL_train_pos_batch122.pt\n",
      "已删除 ./data/PubMed/split\\SEAL_train_pos_batch123.pt\n",
      "已删除 ./data/PubMed/split\\SEAL_train_pos_batch124.pt\n",
      "已删除 ./data/PubMed/split\\SEAL_train_pos_batch125.pt\n",
      "已删除 ./data/PubMed/split\\SEAL_train_pos_batch126.pt\n",
      "已删除 ./data/PubMed/split\\SEAL_train_pos_batch127.pt\n",
      "已删除 ./data/PubMed/split\\SEAL_train_pos_batch128.pt\n",
      "已删除 ./data/PubMed/split\\SEAL_train_pos_batch129.pt\n",
      "已删除 ./data/PubMed/split\\SEAL_train_pos_batch13.pt\n",
      "已删除 ./data/PubMed/split\\SEAL_train_pos_batch130.pt\n",
      "已删除 ./data/PubMed/split\\SEAL_train_pos_batch131.pt\n",
      "已删除 ./data/PubMed/split\\SEAL_train_pos_batch132.pt\n",
      "已删除 ./data/PubMed/split\\SEAL_train_pos_batch133.pt\n",
      "已删除 ./data/PubMed/split\\SEAL_train_pos_batch134.pt\n",
      "已删除 ./data/PubMed/split\\SEAL_train_pos_batch135.pt\n",
      "已删除 ./data/PubMed/split\\SEAL_train_pos_batch136.pt\n",
      "已删除 ./data/PubMed/split\\SEAL_train_pos_batch137.pt\n",
      "已删除 ./data/PubMed/split\\SEAL_train_pos_batch138.pt\n",
      "已删除 ./data/PubMed/split\\SEAL_train_pos_batch139.pt\n",
      "已删除 ./data/PubMed/split\\SEAL_train_pos_batch14.pt\n",
      "已删除 ./data/PubMed/split\\SEAL_train_pos_batch140.pt\n",
      "已删除 ./data/PubMed/split\\SEAL_train_pos_batch141.pt\n",
      "已删除 ./data/PubMed/split\\SEAL_train_pos_batch142.pt\n",
      "已删除 ./data/PubMed/split\\SEAL_train_pos_batch143.pt\n",
      "已删除 ./data/PubMed/split\\SEAL_train_pos_batch144.pt\n",
      "已删除 ./data/PubMed/split\\SEAL_train_pos_batch145.pt\n",
      "已删除 ./data/PubMed/split\\SEAL_train_pos_batch146.pt\n",
      "已删除 ./data/PubMed/split\\SEAL_train_pos_batch147.pt\n",
      "已删除 ./data/PubMed/split\\SEAL_train_pos_batch148.pt\n",
      "已删除 ./data/PubMed/split\\SEAL_train_pos_batch149.pt\n",
      "已删除 ./data/PubMed/split\\SEAL_train_pos_batch15.pt\n",
      "已删除 ./data/PubMed/split\\SEAL_train_pos_batch150.pt\n",
      "已删除 ./data/PubMed/split\\SEAL_train_pos_batch151.pt\n",
      "已删除 ./data/PubMed/split\\SEAL_train_pos_batch152.pt\n",
      "已删除 ./data/PubMed/split\\SEAL_train_pos_batch153.pt\n",
      "已删除 ./data/PubMed/split\\SEAL_train_pos_batch154.pt\n",
      "已删除 ./data/PubMed/split\\SEAL_train_pos_batch155.pt\n",
      "已删除 ./data/PubMed/split\\SEAL_train_pos_batch156.pt\n",
      "已删除 ./data/PubMed/split\\SEAL_train_pos_batch157.pt\n",
      "已删除 ./data/PubMed/split\\SEAL_train_pos_batch158.pt\n",
      "已删除 ./data/PubMed/split\\SEAL_train_pos_batch159.pt\n",
      "已删除 ./data/PubMed/split\\SEAL_train_pos_batch16.pt\n",
      "已删除 ./data/PubMed/split\\SEAL_train_pos_batch160.pt\n",
      "已删除 ./data/PubMed/split\\SEAL_train_pos_batch161.pt\n",
      "已删除 ./data/PubMed/split\\SEAL_train_pos_batch162.pt\n",
      "已删除 ./data/PubMed/split\\SEAL_train_pos_batch163.pt\n",
      "已删除 ./data/PubMed/split\\SEAL_train_pos_batch164.pt\n",
      "已删除 ./data/PubMed/split\\SEAL_train_pos_batch165.pt\n",
      "已删除 ./data/PubMed/split\\SEAL_train_pos_batch166.pt\n",
      "已删除 ./data/PubMed/split\\SEAL_train_pos_batch167.pt\n",
      "已删除 ./data/PubMed/split\\SEAL_train_pos_batch168.pt\n",
      "已删除 ./data/PubMed/split\\SEAL_train_pos_batch169.pt\n",
      "已删除 ./data/PubMed/split\\SEAL_train_pos_batch17.pt\n",
      "已删除 ./data/PubMed/split\\SEAL_train_pos_batch170.pt\n",
      "已删除 ./data/PubMed/split\\SEAL_train_pos_batch171.pt\n",
      "已删除 ./data/PubMed/split\\SEAL_train_pos_batch172.pt\n",
      "已删除 ./data/PubMed/split\\SEAL_train_pos_batch173.pt\n",
      "已删除 ./data/PubMed/split\\SEAL_train_pos_batch174.pt\n",
      "已删除 ./data/PubMed/split\\SEAL_train_pos_batch175.pt\n",
      "已删除 ./data/PubMed/split\\SEAL_train_pos_batch176.pt\n",
      "已删除 ./data/PubMed/split\\SEAL_train_pos_batch177.pt\n",
      "已删除 ./data/PubMed/split\\SEAL_train_pos_batch178.pt\n",
      "已删除 ./data/PubMed/split\\SEAL_train_pos_batch179.pt\n",
      "已删除 ./data/PubMed/split\\SEAL_train_pos_batch18.pt\n",
      "已删除 ./data/PubMed/split\\SEAL_train_pos_batch180.pt\n",
      "已删除 ./data/PubMed/split\\SEAL_train_pos_batch181.pt\n",
      "已删除 ./data/PubMed/split\\SEAL_train_pos_batch182.pt\n",
      "已删除 ./data/PubMed/split\\SEAL_train_pos_batch183.pt\n",
      "已删除 ./data/PubMed/split\\SEAL_train_pos_batch184.pt\n",
      "已删除 ./data/PubMed/split\\SEAL_train_pos_batch185.pt\n",
      "已删除 ./data/PubMed/split\\SEAL_train_pos_batch186.pt\n",
      "已删除 ./data/PubMed/split\\SEAL_train_pos_batch187.pt\n",
      "已删除 ./data/PubMed/split\\SEAL_train_pos_batch188.pt\n",
      "已删除 ./data/PubMed/split\\SEAL_train_pos_batch189.pt\n",
      "已删除 ./data/PubMed/split\\SEAL_train_pos_batch19.pt\n",
      "已删除 ./data/PubMed/split\\SEAL_train_pos_batch190.pt\n",
      "已删除 ./data/PubMed/split\\SEAL_train_pos_batch191.pt\n",
      "已删除 ./data/PubMed/split\\SEAL_train_pos_batch192.pt\n",
      "已删除 ./data/PubMed/split\\SEAL_train_pos_batch193.pt\n",
      "已删除 ./data/PubMed/split\\SEAL_train_pos_batch194.pt\n",
      "已删除 ./data/PubMed/split\\SEAL_train_pos_batch195.pt\n",
      "已删除 ./data/PubMed/split\\SEAL_train_pos_batch196.pt\n",
      "已删除 ./data/PubMed/split\\SEAL_train_pos_batch197.pt\n",
      "已删除 ./data/PubMed/split\\SEAL_train_pos_batch198.pt\n",
      "已删除 ./data/PubMed/split\\SEAL_train_pos_batch199.pt\n",
      "已删除 ./data/PubMed/split\\SEAL_train_pos_batch2.pt\n",
      "已删除 ./data/PubMed/split\\SEAL_train_pos_batch20.pt\n",
      "已删除 ./data/PubMed/split\\SEAL_train_pos_batch200.pt\n",
      "已删除 ./data/PubMed/split\\SEAL_train_pos_batch201.pt\n",
      "已删除 ./data/PubMed/split\\SEAL_train_pos_batch202.pt\n",
      "已删除 ./data/PubMed/split\\SEAL_train_pos_batch203.pt\n",
      "已删除 ./data/PubMed/split\\SEAL_train_pos_batch204.pt\n",
      "已删除 ./data/PubMed/split\\SEAL_train_pos_batch205.pt\n",
      "已删除 ./data/PubMed/split\\SEAL_train_pos_batch206.pt\n",
      "已删除 ./data/PubMed/split\\SEAL_train_pos_batch207.pt\n",
      "已删除 ./data/PubMed/split\\SEAL_train_pos_batch208.pt\n",
      "已删除 ./data/PubMed/split\\SEAL_train_pos_batch209.pt\n",
      "已删除 ./data/PubMed/split\\SEAL_train_pos_batch21.pt\n",
      "已删除 ./data/PubMed/split\\SEAL_train_pos_batch210.pt\n",
      "已删除 ./data/PubMed/split\\SEAL_train_pos_batch211.pt\n",
      "已删除 ./data/PubMed/split\\SEAL_train_pos_batch212.pt\n",
      "已删除 ./data/PubMed/split\\SEAL_train_pos_batch213.pt\n",
      "已删除 ./data/PubMed/split\\SEAL_train_pos_batch214.pt\n",
      "已删除 ./data/PubMed/split\\SEAL_train_pos_batch215.pt\n",
      "已删除 ./data/PubMed/split\\SEAL_train_pos_batch216.pt\n",
      "已删除 ./data/PubMed/split\\SEAL_train_pos_batch217.pt\n",
      "已删除 ./data/PubMed/split\\SEAL_train_pos_batch218.pt\n",
      "已删除 ./data/PubMed/split\\SEAL_train_pos_batch219.pt\n",
      "已删除 ./data/PubMed/split\\SEAL_train_pos_batch22.pt\n",
      "已删除 ./data/PubMed/split\\SEAL_train_pos_batch220.pt\n",
      "已删除 ./data/PubMed/split\\SEAL_train_pos_batch221.pt\n",
      "已删除 ./data/PubMed/split\\SEAL_train_pos_batch222.pt\n",
      "已删除 ./data/PubMed/split\\SEAL_train_pos_batch223.pt\n",
      "已删除 ./data/PubMed/split\\SEAL_train_pos_batch224.pt\n",
      "已删除 ./data/PubMed/split\\SEAL_train_pos_batch225.pt\n",
      "已删除 ./data/PubMed/split\\SEAL_train_pos_batch226.pt\n",
      "已删除 ./data/PubMed/split\\SEAL_train_pos_batch227.pt\n",
      "已删除 ./data/PubMed/split\\SEAL_train_pos_batch228.pt\n",
      "已删除 ./data/PubMed/split\\SEAL_train_pos_batch229.pt\n",
      "已删除 ./data/PubMed/split\\SEAL_train_pos_batch23.pt\n",
      "已删除 ./data/PubMed/split\\SEAL_train_pos_batch230.pt\n",
      "已删除 ./data/PubMed/split\\SEAL_train_pos_batch231.pt\n",
      "已删除 ./data/PubMed/split\\SEAL_train_pos_batch232.pt\n",
      "已删除 ./data/PubMed/split\\SEAL_train_pos_batch233.pt\n",
      "已删除 ./data/PubMed/split\\SEAL_train_pos_batch234.pt\n",
      "已删除 ./data/PubMed/split\\SEAL_train_pos_batch235.pt\n",
      "已删除 ./data/PubMed/split\\SEAL_train_pos_batch236.pt\n",
      "已删除 ./data/PubMed/split\\SEAL_train_pos_batch237.pt\n",
      "已删除 ./data/PubMed/split\\SEAL_train_pos_batch238.pt\n",
      "已删除 ./data/PubMed/split\\SEAL_train_pos_batch239.pt\n",
      "已删除 ./data/PubMed/split\\SEAL_train_pos_batch24.pt\n",
      "已删除 ./data/PubMed/split\\SEAL_train_pos_batch240.pt\n",
      "已删除 ./data/PubMed/split\\SEAL_train_pos_batch241.pt\n",
      "已删除 ./data/PubMed/split\\SEAL_train_pos_batch242.pt\n",
      "已删除 ./data/PubMed/split\\SEAL_train_pos_batch243.pt\n",
      "已删除 ./data/PubMed/split\\SEAL_train_pos_batch244.pt\n",
      "已删除 ./data/PubMed/split\\SEAL_train_pos_batch245.pt\n",
      "已删除 ./data/PubMed/split\\SEAL_train_pos_batch246.pt\n",
      "已删除 ./data/PubMed/split\\SEAL_train_pos_batch247.pt\n",
      "已删除 ./data/PubMed/split\\SEAL_train_pos_batch248.pt\n",
      "已删除 ./data/PubMed/split\\SEAL_train_pos_batch249.pt\n",
      "已删除 ./data/PubMed/split\\SEAL_train_pos_batch25.pt\n",
      "已删除 ./data/PubMed/split\\SEAL_train_pos_batch250.pt\n",
      "已删除 ./data/PubMed/split\\SEAL_train_pos_batch251.pt\n",
      "已删除 ./data/PubMed/split\\SEAL_train_pos_batch252.pt\n",
      "已删除 ./data/PubMed/split\\SEAL_train_pos_batch253.pt\n",
      "已删除 ./data/PubMed/split\\SEAL_train_pos_batch254.pt\n",
      "已删除 ./data/PubMed/split\\SEAL_train_pos_batch255.pt\n",
      "已删除 ./data/PubMed/split\\SEAL_train_pos_batch256.pt\n",
      "已删除 ./data/PubMed/split\\SEAL_train_pos_batch257.pt\n",
      "已删除 ./data/PubMed/split\\SEAL_train_pos_batch258.pt\n",
      "已删除 ./data/PubMed/split\\SEAL_train_pos_batch259.pt\n",
      "已删除 ./data/PubMed/split\\SEAL_train_pos_batch26.pt\n",
      "已删除 ./data/PubMed/split\\SEAL_train_pos_batch260.pt\n",
      "已删除 ./data/PubMed/split\\SEAL_train_pos_batch261.pt\n",
      "已删除 ./data/PubMed/split\\SEAL_train_pos_batch262.pt\n",
      "已删除 ./data/PubMed/split\\SEAL_train_pos_batch263.pt\n",
      "已删除 ./data/PubMed/split\\SEAL_train_pos_batch264.pt\n",
      "已删除 ./data/PubMed/split\\SEAL_train_pos_batch265.pt\n",
      "已删除 ./data/PubMed/split\\SEAL_train_pos_batch266.pt\n",
      "已删除 ./data/PubMed/split\\SEAL_train_pos_batch267.pt\n",
      "已删除 ./data/PubMed/split\\SEAL_train_pos_batch268.pt\n",
      "已删除 ./data/PubMed/split\\SEAL_train_pos_batch269.pt\n",
      "已删除 ./data/PubMed/split\\SEAL_train_pos_batch27.pt\n",
      "已删除 ./data/PubMed/split\\SEAL_train_pos_batch270.pt\n",
      "已删除 ./data/PubMed/split\\SEAL_train_pos_batch271.pt\n",
      "已删除 ./data/PubMed/split\\SEAL_train_pos_batch272.pt\n",
      "已删除 ./data/PubMed/split\\SEAL_train_pos_batch273.pt\n",
      "已删除 ./data/PubMed/split\\SEAL_train_pos_batch274.pt\n",
      "已删除 ./data/PubMed/split\\SEAL_train_pos_batch275.pt\n",
      "已删除 ./data/PubMed/split\\SEAL_train_pos_batch276.pt\n",
      "已删除 ./data/PubMed/split\\SEAL_train_pos_batch277.pt\n",
      "已删除 ./data/PubMed/split\\SEAL_train_pos_batch278.pt\n",
      "已删除 ./data/PubMed/split\\SEAL_train_pos_batch279.pt\n",
      "已删除 ./data/PubMed/split\\SEAL_train_pos_batch28.pt\n",
      "已删除 ./data/PubMed/split\\SEAL_train_pos_batch280.pt\n",
      "已删除 ./data/PubMed/split\\SEAL_train_pos_batch281.pt\n",
      "已删除 ./data/PubMed/split\\SEAL_train_pos_batch282.pt\n",
      "已删除 ./data/PubMed/split\\SEAL_train_pos_batch283.pt\n",
      "已删除 ./data/PubMed/split\\SEAL_train_pos_batch284.pt\n",
      "已删除 ./data/PubMed/split\\SEAL_train_pos_batch285.pt\n",
      "已删除 ./data/PubMed/split\\SEAL_train_pos_batch286.pt\n",
      "已删除 ./data/PubMed/split\\SEAL_train_pos_batch287.pt\n",
      "已删除 ./data/PubMed/split\\SEAL_train_pos_batch288.pt\n",
      "已删除 ./data/PubMed/split\\SEAL_train_pos_batch289.pt\n",
      "已删除 ./data/PubMed/split\\SEAL_train_pos_batch29.pt\n",
      "已删除 ./data/PubMed/split\\SEAL_train_pos_batch290.pt\n",
      "已删除 ./data/PubMed/split\\SEAL_train_pos_batch291.pt\n",
      "已删除 ./data/PubMed/split\\SEAL_train_pos_batch292.pt\n",
      "已删除 ./data/PubMed/split\\SEAL_train_pos_batch293.pt\n",
      "已删除 ./data/PubMed/split\\SEAL_train_pos_batch294.pt\n",
      "已删除 ./data/PubMed/split\\SEAL_train_pos_batch295.pt\n",
      "已删除 ./data/PubMed/split\\SEAL_train_pos_batch296.pt\n",
      "已删除 ./data/PubMed/split\\SEAL_train_pos_batch297.pt\n",
      "已删除 ./data/PubMed/split\\SEAL_train_pos_batch298.pt\n",
      "已删除 ./data/PubMed/split\\SEAL_train_pos_batch299.pt\n",
      "已删除 ./data/PubMed/split\\SEAL_train_pos_batch3.pt\n",
      "已删除 ./data/PubMed/split\\SEAL_train_pos_batch30.pt\n",
      "已删除 ./data/PubMed/split\\SEAL_train_pos_batch300.pt\n",
      "已删除 ./data/PubMed/split\\SEAL_train_pos_batch301.pt\n",
      "已删除 ./data/PubMed/split\\SEAL_train_pos_batch302.pt\n",
      "已删除 ./data/PubMed/split\\SEAL_train_pos_batch303.pt\n",
      "已删除 ./data/PubMed/split\\SEAL_train_pos_batch304.pt\n",
      "已删除 ./data/PubMed/split\\SEAL_train_pos_batch305.pt\n",
      "已删除 ./data/PubMed/split\\SEAL_train_pos_batch306.pt\n",
      "已删除 ./data/PubMed/split\\SEAL_train_pos_batch307.pt\n",
      "已删除 ./data/PubMed/split\\SEAL_train_pos_batch308.pt\n",
      "已删除 ./data/PubMed/split\\SEAL_train_pos_batch309.pt\n",
      "已删除 ./data/PubMed/split\\SEAL_train_pos_batch31.pt\n",
      "已删除 ./data/PubMed/split\\SEAL_train_pos_batch310.pt\n",
      "已删除 ./data/PubMed/split\\SEAL_train_pos_batch311.pt\n",
      "已删除 ./data/PubMed/split\\SEAL_train_pos_batch312.pt\n",
      "已删除 ./data/PubMed/split\\SEAL_train_pos_batch313.pt\n",
      "已删除 ./data/PubMed/split\\SEAL_train_pos_batch314.pt\n",
      "已删除 ./data/PubMed/split\\SEAL_train_pos_batch315.pt\n",
      "已删除 ./data/PubMed/split\\SEAL_train_pos_batch316.pt\n",
      "已删除 ./data/PubMed/split\\SEAL_train_pos_batch317.pt\n",
      "已删除 ./data/PubMed/split\\SEAL_train_pos_batch318.pt\n",
      "已删除 ./data/PubMed/split\\SEAL_train_pos_batch319.pt\n",
      "已删除 ./data/PubMed/split\\SEAL_train_pos_batch32.pt\n",
      "已删除 ./data/PubMed/split\\SEAL_train_pos_batch320.pt\n",
      "已删除 ./data/PubMed/split\\SEAL_train_pos_batch321.pt\n",
      "已删除 ./data/PubMed/split\\SEAL_train_pos_batch322.pt\n",
      "已删除 ./data/PubMed/split\\SEAL_train_pos_batch323.pt\n",
      "已删除 ./data/PubMed/split\\SEAL_train_pos_batch324.pt\n",
      "已删除 ./data/PubMed/split\\SEAL_train_pos_batch325.pt\n",
      "已删除 ./data/PubMed/split\\SEAL_train_pos_batch326.pt\n",
      "已删除 ./data/PubMed/split\\SEAL_train_pos_batch327.pt\n",
      "已删除 ./data/PubMed/split\\SEAL_train_pos_batch328.pt\n",
      "已删除 ./data/PubMed/split\\SEAL_train_pos_batch329.pt\n",
      "已删除 ./data/PubMed/split\\SEAL_train_pos_batch33.pt\n",
      "已删除 ./data/PubMed/split\\SEAL_train_pos_batch330.pt\n",
      "已删除 ./data/PubMed/split\\SEAL_train_pos_batch331.pt\n",
      "已删除 ./data/PubMed/split\\SEAL_train_pos_batch332.pt\n",
      "已删除 ./data/PubMed/split\\SEAL_train_pos_batch333.pt\n",
      "已删除 ./data/PubMed/split\\SEAL_train_pos_batch334.pt\n",
      "已删除 ./data/PubMed/split\\SEAL_train_pos_batch335.pt\n",
      "已删除 ./data/PubMed/split\\SEAL_train_pos_batch336.pt\n",
      "已删除 ./data/PubMed/split\\SEAL_train_pos_batch337.pt\n",
      "已删除 ./data/PubMed/split\\SEAL_train_pos_batch338.pt\n",
      "已删除 ./data/PubMed/split\\SEAL_train_pos_batch339.pt\n",
      "已删除 ./data/PubMed/split\\SEAL_train_pos_batch34.pt\n",
      "已删除 ./data/PubMed/split\\SEAL_train_pos_batch340.pt\n",
      "已删除 ./data/PubMed/split\\SEAL_train_pos_batch341.pt\n",
      "已删除 ./data/PubMed/split\\SEAL_train_pos_batch342.pt\n",
      "已删除 ./data/PubMed/split\\SEAL_train_pos_batch343.pt\n",
      "已删除 ./data/PubMed/split\\SEAL_train_pos_batch344.pt\n",
      "已删除 ./data/PubMed/split\\SEAL_train_pos_batch345.pt\n",
      "已删除 ./data/PubMed/split\\SEAL_train_pos_batch346.pt\n",
      "已删除 ./data/PubMed/split\\SEAL_train_pos_batch347.pt\n",
      "已删除 ./data/PubMed/split\\SEAL_train_pos_batch348.pt\n",
      "已删除 ./data/PubMed/split\\SEAL_train_pos_batch349.pt\n",
      "已删除 ./data/PubMed/split\\SEAL_train_pos_batch35.pt\n",
      "已删除 ./data/PubMed/split\\SEAL_train_pos_batch350.pt\n",
      "已删除 ./data/PubMed/split\\SEAL_train_pos_batch351.pt\n",
      "已删除 ./data/PubMed/split\\SEAL_train_pos_batch352.pt\n",
      "已删除 ./data/PubMed/split\\SEAL_train_pos_batch353.pt\n",
      "已删除 ./data/PubMed/split\\SEAL_train_pos_batch354.pt\n",
      "已删除 ./data/PubMed/split\\SEAL_train_pos_batch355.pt\n",
      "已删除 ./data/PubMed/split\\SEAL_train_pos_batch356.pt\n",
      "已删除 ./data/PubMed/split\\SEAL_train_pos_batch357.pt\n",
      "已删除 ./data/PubMed/split\\SEAL_train_pos_batch358.pt\n",
      "已删除 ./data/PubMed/split\\SEAL_train_pos_batch359.pt\n",
      "已删除 ./data/PubMed/split\\SEAL_train_pos_batch36.pt\n",
      "已删除 ./data/PubMed/split\\SEAL_train_pos_batch360.pt\n",
      "已删除 ./data/PubMed/split\\SEAL_train_pos_batch361.pt\n",
      "已删除 ./data/PubMed/split\\SEAL_train_pos_batch362.pt\n",
      "已删除 ./data/PubMed/split\\SEAL_train_pos_batch363.pt\n",
      "已删除 ./data/PubMed/split\\SEAL_train_pos_batch364.pt\n",
      "已删除 ./data/PubMed/split\\SEAL_train_pos_batch365.pt\n",
      "已删除 ./data/PubMed/split\\SEAL_train_pos_batch366.pt\n",
      "已删除 ./data/PubMed/split\\SEAL_train_pos_batch367.pt\n",
      "已删除 ./data/PubMed/split\\SEAL_train_pos_batch368.pt\n",
      "已删除 ./data/PubMed/split\\SEAL_train_pos_batch369.pt\n",
      "已删除 ./data/PubMed/split\\SEAL_train_pos_batch37.pt\n",
      "已删除 ./data/PubMed/split\\SEAL_train_pos_batch370.pt\n",
      "已删除 ./data/PubMed/split\\SEAL_train_pos_batch371.pt\n",
      "已删除 ./data/PubMed/split\\SEAL_train_pos_batch372.pt\n",
      "已删除 ./data/PubMed/split\\SEAL_train_pos_batch373.pt\n",
      "已删除 ./data/PubMed/split\\SEAL_train_pos_batch374.pt\n",
      "已删除 ./data/PubMed/split\\SEAL_train_pos_batch375.pt\n",
      "已删除 ./data/PubMed/split\\SEAL_train_pos_batch376.pt\n",
      "已删除 ./data/PubMed/split\\SEAL_train_pos_batch38.pt\n",
      "已删除 ./data/PubMed/split\\SEAL_train_pos_batch39.pt\n",
      "已删除 ./data/PubMed/split\\SEAL_train_pos_batch4.pt\n",
      "已删除 ./data/PubMed/split\\SEAL_train_pos_batch40.pt\n",
      "已删除 ./data/PubMed/split\\SEAL_train_pos_batch41.pt\n",
      "已删除 ./data/PubMed/split\\SEAL_train_pos_batch42.pt\n",
      "已删除 ./data/PubMed/split\\SEAL_train_pos_batch43.pt\n",
      "已删除 ./data/PubMed/split\\SEAL_train_pos_batch44.pt\n",
      "已删除 ./data/PubMed/split\\SEAL_train_pos_batch45.pt\n",
      "已删除 ./data/PubMed/split\\SEAL_train_pos_batch46.pt\n",
      "已删除 ./data/PubMed/split\\SEAL_train_pos_batch47.pt\n",
      "已删除 ./data/PubMed/split\\SEAL_train_pos_batch48.pt\n",
      "已删除 ./data/PubMed/split\\SEAL_train_pos_batch49.pt\n",
      "已删除 ./data/PubMed/split\\SEAL_train_pos_batch5.pt\n",
      "已删除 ./data/PubMed/split\\SEAL_train_pos_batch50.pt\n",
      "已删除 ./data/PubMed/split\\SEAL_train_pos_batch51.pt\n",
      "已删除 ./data/PubMed/split\\SEAL_train_pos_batch52.pt\n",
      "已删除 ./data/PubMed/split\\SEAL_train_pos_batch53.pt\n",
      "已删除 ./data/PubMed/split\\SEAL_train_pos_batch54.pt\n",
      "已删除 ./data/PubMed/split\\SEAL_train_pos_batch55.pt\n",
      "已删除 ./data/PubMed/split\\SEAL_train_pos_batch56.pt\n",
      "已删除 ./data/PubMed/split\\SEAL_train_pos_batch57.pt\n",
      "已删除 ./data/PubMed/split\\SEAL_train_pos_batch58.pt\n",
      "已删除 ./data/PubMed/split\\SEAL_train_pos_batch59.pt\n",
      "已删除 ./data/PubMed/split\\SEAL_train_pos_batch6.pt\n",
      "已删除 ./data/PubMed/split\\SEAL_train_pos_batch60.pt\n",
      "已删除 ./data/PubMed/split\\SEAL_train_pos_batch61.pt\n",
      "已删除 ./data/PubMed/split\\SEAL_train_pos_batch62.pt\n",
      "已删除 ./data/PubMed/split\\SEAL_train_pos_batch63.pt\n",
      "已删除 ./data/PubMed/split\\SEAL_train_pos_batch64.pt\n",
      "已删除 ./data/PubMed/split\\SEAL_train_pos_batch65.pt\n",
      "已删除 ./data/PubMed/split\\SEAL_train_pos_batch66.pt\n",
      "已删除 ./data/PubMed/split\\SEAL_train_pos_batch67.pt\n",
      "已删除 ./data/PubMed/split\\SEAL_train_pos_batch68.pt\n",
      "已删除 ./data/PubMed/split\\SEAL_train_pos_batch69.pt\n",
      "已删除 ./data/PubMed/split\\SEAL_train_pos_batch7.pt\n",
      "已删除 ./data/PubMed/split\\SEAL_train_pos_batch70.pt\n",
      "已删除 ./data/PubMed/split\\SEAL_train_pos_batch71.pt\n",
      "已删除 ./data/PubMed/split\\SEAL_train_pos_batch72.pt\n",
      "已删除 ./data/PubMed/split\\SEAL_train_pos_batch73.pt\n",
      "已删除 ./data/PubMed/split\\SEAL_train_pos_batch74.pt\n",
      "已删除 ./data/PubMed/split\\SEAL_train_pos_batch75.pt\n",
      "已删除 ./data/PubMed/split\\SEAL_train_pos_batch76.pt\n",
      "已删除 ./data/PubMed/split\\SEAL_train_pos_batch77.pt\n",
      "已删除 ./data/PubMed/split\\SEAL_train_pos_batch78.pt\n",
      "已删除 ./data/PubMed/split\\SEAL_train_pos_batch79.pt\n",
      "已删除 ./data/PubMed/split\\SEAL_train_pos_batch8.pt\n",
      "已删除 ./data/PubMed/split\\SEAL_train_pos_batch80.pt\n",
      "已删除 ./data/PubMed/split\\SEAL_train_pos_batch81.pt\n",
      "已删除 ./data/PubMed/split\\SEAL_train_pos_batch82.pt\n",
      "已删除 ./data/PubMed/split\\SEAL_train_pos_batch83.pt\n",
      "已删除 ./data/PubMed/split\\SEAL_train_pos_batch84.pt\n",
      "已删除 ./data/PubMed/split\\SEAL_train_pos_batch85.pt\n",
      "已删除 ./data/PubMed/split\\SEAL_train_pos_batch86.pt\n",
      "已删除 ./data/PubMed/split\\SEAL_train_pos_batch87.pt\n",
      "已删除 ./data/PubMed/split\\SEAL_train_pos_batch88.pt\n",
      "已删除 ./data/PubMed/split\\SEAL_train_pos_batch89.pt\n",
      "已删除 ./data/PubMed/split\\SEAL_train_pos_batch9.pt\n",
      "已删除 ./data/PubMed/split\\SEAL_train_pos_batch90.pt\n",
      "已删除 ./data/PubMed/split\\SEAL_train_pos_batch91.pt\n",
      "已删除 ./data/PubMed/split\\SEAL_train_pos_batch92.pt\n",
      "已删除 ./data/PubMed/split\\SEAL_train_pos_batch93.pt\n",
      "已删除 ./data/PubMed/split\\SEAL_train_pos_batch94.pt\n",
      "已删除 ./data/PubMed/split\\SEAL_train_pos_batch95.pt\n",
      "已删除 ./data/PubMed/split\\SEAL_train_pos_batch96.pt\n",
      "已删除 ./data/PubMed/split\\SEAL_train_pos_batch97.pt\n",
      "已删除 ./data/PubMed/split\\SEAL_train_pos_batch98.pt\n",
      "已删除 ./data/PubMed/split\\SEAL_train_pos_batch99.pt\n",
      "已删除 ./data/PubMed/split\\SEAL_val_neg_batch0.pt\n",
      "已删除 ./data/PubMed/split\\SEAL_val_neg_batch1.pt\n",
      "已删除 ./data/PubMed/split\\SEAL_val_neg_batch10.pt\n",
      "已删除 ./data/PubMed/split\\SEAL_val_neg_batch11.pt\n",
      "已删除 ./data/PubMed/split\\SEAL_val_neg_batch12.pt\n",
      "已删除 ./data/PubMed/split\\SEAL_val_neg_batch13.pt\n",
      "已删除 ./data/PubMed/split\\SEAL_val_neg_batch14.pt\n",
      "已删除 ./data/PubMed/split\\SEAL_val_neg_batch15.pt\n",
      "已删除 ./data/PubMed/split\\SEAL_val_neg_batch16.pt\n",
      "已删除 ./data/PubMed/split\\SEAL_val_neg_batch17.pt\n",
      "已删除 ./data/PubMed/split\\SEAL_val_neg_batch18.pt\n",
      "已删除 ./data/PubMed/split\\SEAL_val_neg_batch19.pt\n",
      "已删除 ./data/PubMed/split\\SEAL_val_neg_batch2.pt\n",
      "已删除 ./data/PubMed/split\\SEAL_val_neg_batch20.pt\n",
      "已删除 ./data/PubMed/split\\SEAL_val_neg_batch21.pt\n",
      "已删除 ./data/PubMed/split\\SEAL_val_neg_batch22.pt\n",
      "已删除 ./data/PubMed/split\\SEAL_val_neg_batch3.pt\n",
      "已删除 ./data/PubMed/split\\SEAL_val_neg_batch4.pt\n",
      "已删除 ./data/PubMed/split\\SEAL_val_neg_batch5.pt\n",
      "已删除 ./data/PubMed/split\\SEAL_val_neg_batch6.pt\n",
      "已删除 ./data/PubMed/split\\SEAL_val_neg_batch7.pt\n",
      "已删除 ./data/PubMed/split\\SEAL_val_neg_batch8.pt\n",
      "已删除 ./data/PubMed/split\\SEAL_val_neg_batch9.pt\n",
      "已删除 ./data/PubMed/split\\SEAL_val_pos_batch0.pt\n",
      "已删除 ./data/PubMed/split\\SEAL_val_pos_batch1.pt\n",
      "已删除 ./data/PubMed/split\\SEAL_val_pos_batch10.pt\n",
      "已删除 ./data/PubMed/split\\SEAL_val_pos_batch11.pt\n",
      "已删除 ./data/PubMed/split\\SEAL_val_pos_batch12.pt\n",
      "已删除 ./data/PubMed/split\\SEAL_val_pos_batch13.pt\n",
      "已删除 ./data/PubMed/split\\SEAL_val_pos_batch14.pt\n",
      "已删除 ./data/PubMed/split\\SEAL_val_pos_batch15.pt\n",
      "已删除 ./data/PubMed/split\\SEAL_val_pos_batch16.pt\n",
      "已删除 ./data/PubMed/split\\SEAL_val_pos_batch17.pt\n",
      "已删除 ./data/PubMed/split\\SEAL_val_pos_batch18.pt\n",
      "已删除 ./data/PubMed/split\\SEAL_val_pos_batch19.pt\n",
      "已删除 ./data/PubMed/split\\SEAL_val_pos_batch2.pt\n",
      "已删除 ./data/PubMed/split\\SEAL_val_pos_batch20.pt\n",
      "已删除 ./data/PubMed/split\\SEAL_val_pos_batch21.pt\n",
      "已删除 ./data/PubMed/split\\SEAL_val_pos_batch22.pt\n",
      "已删除 ./data/PubMed/split\\SEAL_val_pos_batch3.pt\n",
      "已删除 ./data/PubMed/split\\SEAL_val_pos_batch4.pt\n",
      "已删除 ./data/PubMed/split\\SEAL_val_pos_batch5.pt\n",
      "已删除 ./data/PubMed/split\\SEAL_val_pos_batch6.pt\n",
      "已删除 ./data/PubMed/split\\SEAL_val_pos_batch7.pt\n",
      "已删除 ./data/PubMed/split\\SEAL_val_pos_batch8.pt\n",
      "已删除 ./data/PubMed/split\\SEAL_val_pos_batch9.pt\n",
      "已删除 ./data/PubMed/split\\SEAL_test_neg_data_list.pt\n",
      "已删除 ./data/PubMed/split\\SEAL_test_pos_data_list.pt\n",
      "已删除 ./data/PubMed/split\\SEAL_val_neg_data_list.pt\n",
      "已删除 ./data/PubMed/split\\SEAL_val_pos_data_list.pt\n",
      "已删除 ./data/PubMed/split\\SEAL_train_neg_data_list.pt\n",
      "已删除 ./data/PubMed/split\\SEAL_train_pos_data_list.pt\n",
      "所有数据已保存并清理临时 batch 文件\n"
     ]
    }
   ],
   "source": [
    "seal = SEAL(num_hops = 2, save_dir = f'./data/{config.dataset}/split')\n",
    "seal.process()\n",
    "\n",
    "train_data_list = torch.load(f'./data/{config.dataset}/split/SEAL_train_data_list.pt')\n",
    "val_data_list = torch.load(f'./data/{config.dataset}/split/SEAL_val_data_list.pt')\n",
    "test_data_list = torch.load(f'./data/{config.dataset}/split/SEAL_test_data_list.pt')\n",
    "\n",
    "train_loader = DataLoader(train_data_list, batch_size=32, shuffle=True)\n",
    "val_loader = DataLoader(val_data_list, batch_size=32)\n",
    "test_loader = DataLoader(test_data_list, batch_size=32)\n"
   ]
  },
  {
   "cell_type": "code",
   "execution_count": 6,
   "id": "8911a3bb",
   "metadata": {},
   "outputs": [],
   "source": [
    "# dataset = Planetoid('./data', name='Cora')\n",
    "\n",
    "# train_dataset = SEALDataset(dataset, num_hops=2, split='train')\n",
    "# val_dataset = SEALDataset(dataset, num_hops=2, split='val')\n",
    "# test_dataset = SEALDataset(dataset, num_hops=2, split='test')\n",
    "\n",
    "# train_loader = DataLoader(train_dataset, batch_size=32, shuffle=True)\n",
    "# val_loader = DataLoader(val_dataset, batch_size=32)\n",
    "# test_loader = DataLoader(test_dataset, batch_size=32)\n",
    "\n"
   ]
  },
  {
   "cell_type": "code",
   "execution_count": 9,
   "id": "4f51a973",
   "metadata": {},
   "outputs": [],
   "source": [
    "class DGCNN(torch.nn.Module):\n",
    "    def __init__(self, hidden_dim, num_layers, GNN=GCNConv, k=0.6):\n",
    "        super().__init__()\n",
    "\n",
    "        if k < 1:  # Transform percentile to number.\n",
    "            num_nodes = sorted([data.num_nodes for data in train_data_list])\n",
    "            k = num_nodes[int(math.ceil(k * len(num_nodes))) - 1]\n",
    "            k = int(max(10, k))\n",
    "\n",
    "        self.convs = ModuleList()\n",
    "        self.convs.append(GNN(train_data_list[0].x.size(1), hidden_dim))\n",
    "        for i in range(0, num_layers - 1):\n",
    "            self.convs.append(GNN(hidden_dim, hidden_dim))\n",
    "        self.convs.append(GNN(hidden_dim, 1))\n",
    "\n",
    "        conv1d_channels = [16, 32]\n",
    "        total_latent_dim = hidden_dim * num_layers + 1\n",
    "        conv1d_kws = [total_latent_dim, 5]\n",
    "        self.conv1 = Conv1d(1, conv1d_channels[0], conv1d_kws[0],\n",
    "                            conv1d_kws[0])\n",
    "        self.pool = SortAggregation(k)\n",
    "        self.maxpool1d = MaxPool1d(2, 2)\n",
    "        self.conv2 = Conv1d(conv1d_channels[0], conv1d_channels[1],\n",
    "                            conv1d_kws[1], 1)\n",
    "        dense_dim = int((k - 2) / 2 + 1)\n",
    "        dense_dim = (dense_dim - conv1d_kws[1] + 1) * conv1d_channels[1]\n",
    "        self.mlp = MLP([dense_dim, 128, 1], dropout=0.5, norm=None)\n",
    "\n",
    "    def forward(self, x, edge_index, batch):\n",
    "        xs = [x]\n",
    "        for conv in self.convs:\n",
    "            xs += [conv(xs[-1], edge_index).tanh()]\n",
    "        x = torch.cat(xs[1:], dim=-1)\n",
    "\n",
    "        # Global pooling.\n",
    "        x = self.pool(x, batch)\n",
    "        x = x.unsqueeze(1)  # [num_graphs, 1, k * hidden]\n",
    "        x = self.conv1(x).relu()\n",
    "        x = self.maxpool1d(x)\n",
    "        x = self.conv2(x).relu()\n",
    "        x = x.view(x.size(0), -1)  # [num_graphs, dense_dim]\n",
    "\n",
    "        return self.mlp(x)\n"
   ]
  },
  {
   "cell_type": "code",
   "execution_count": 10,
   "id": "203d44fe",
   "metadata": {},
   "outputs": [],
   "source": [
    "device = torch.device('cuda' if torch.cuda.is_available() else 'cpu')\n",
    "model = DGCNN(hidden_dim=32, num_layers=3).to(device)\n",
    "optimizer = torch.optim.Adam(params=model.parameters(), lr=0.0001)\n",
    "criterion = BCEWithLogitsLoss()"
   ]
  },
  {
   "cell_type": "code",
   "execution_count": 11,
   "id": "a9276a9d",
   "metadata": {},
   "outputs": [],
   "source": [
    "def train():\n",
    "    model.train()\n",
    "\n",
    "    total_loss = 0\n",
    "    for data in train_loader:\n",
    "        data = data.to(device)\n",
    "        optimizer.zero_grad()\n",
    "        out = model(data.x, data.edge_index, data.batch)\n",
    "        loss = criterion(out.view(-1), data.y.to(torch.float))\n",
    "        loss.backward()\n",
    "        optimizer.step()\n",
    "        total_loss += float(loss) * data.num_graphs\n",
    "\n",
    "    return total_loss / len(train_data_list)"
   ]
  },
  {
   "cell_type": "code",
   "execution_count": 12,
   "id": "a69a5849",
   "metadata": {},
   "outputs": [],
   "source": [
    "@torch.no_grad()\n",
    "def test(loader):\n",
    "    model.eval()\n",
    "\n",
    "    y_pred, y_true = [], []\n",
    "    for data in loader:\n",
    "        data = data.to(device)\n",
    "        logits = model(data.x, data.edge_index, data.batch)\n",
    "        y_pred.append(logits.view(-1).cpu())\n",
    "        y_true.append(data.y.view(-1).cpu().to(torch.float))\n",
    "\n",
    "    return roc_auc_score(torch.cat(y_true), torch.cat(y_pred)), average_precision_score(torch.cat(y_true),torch.cat(y_pred) )"
   ]
  },
  {
   "cell_type": "code",
   "execution_count": 13,
   "id": "125f31b0",
   "metadata": {},
   "outputs": [
    {
     "name": "stdout",
     "output_type": "stream",
     "text": [
      "Epoch: 01, Loss: 0.4460, Val_AUC: 0.9308, Val_AP: 0.9307Test_AUC: 0.9336, Test_AP: 0.9347\n",
      "Epoch: 02, Loss: 0.3235, Val_AUC: 0.9432, Val_AP: 0.9448Test_AUC: 0.9463, Test_AP: 0.9482\n",
      "Epoch: 03, Loss: 0.3023, Val_AUC: 0.9473, Val_AP: 0.9484Test_AUC: 0.9492, Test_AP: 0.9504\n",
      "Epoch: 04, Loss: 0.2951, Val_AUC: 0.9486, Val_AP: 0.9492Test_AUC: 0.9496, Test_AP: 0.9510\n",
      "Epoch: 05, Loss: 0.2896, Val_AUC: 0.9508, Val_AP: 0.9513Test_AUC: 0.9529, Test_AP: 0.9539\n",
      "Epoch: 06, Loss: 0.2855, Val_AUC: 0.9519, Val_AP: 0.9525Test_AUC: 0.9538, Test_AP: 0.9546\n",
      "Epoch: 07, Loss: 0.2830, Val_AUC: 0.9535, Val_AP: 0.9537Test_AUC: 0.9565, Test_AP: 0.9571\n",
      "Epoch: 08, Loss: 0.2792, Val_AUC: 0.9532, Val_AP: 0.9537Test_AUC: 0.9565, Test_AP: 0.9571\n",
      "Epoch: 09, Loss: 0.2752, Val_AUC: 0.9555, Val_AP: 0.9557Test_AUC: 0.9587, Test_AP: 0.9591\n",
      "Epoch: 10, Loss: 0.2716, Val_AUC: 0.9555, Val_AP: 0.9552Test_AUC: 0.9587, Test_AP: 0.9591\n",
      "Epoch: 11, Loss: 0.2684, Val_AUC: 0.9554, Val_AP: 0.9554Test_AUC: 0.9587, Test_AP: 0.9591\n",
      "Epoch: 12, Loss: 0.2655, Val_AUC: 0.9575, Val_AP: 0.9579Test_AUC: 0.9606, Test_AP: 0.9611\n",
      "Epoch: 13, Loss: 0.2631, Val_AUC: 0.9579, Val_AP: 0.9581Test_AUC: 0.9598, Test_AP: 0.9602\n",
      "Epoch: 14, Loss: 0.2608, Val_AUC: 0.9587, Val_AP: 0.9590Test_AUC: 0.9611, Test_AP: 0.9613\n",
      "Epoch: 15, Loss: 0.2584, Val_AUC: 0.9596, Val_AP: 0.9597Test_AUC: 0.9625, Test_AP: 0.9624\n",
      "Epoch: 16, Loss: 0.2577, Val_AUC: 0.9602, Val_AP: 0.9602Test_AUC: 0.9627, Test_AP: 0.9629\n",
      "Epoch: 17, Loss: 0.2561, Val_AUC: 0.9604, Val_AP: 0.9604Test_AUC: 0.9610, Test_AP: 0.9611\n",
      "Epoch: 18, Loss: 0.2546, Val_AUC: 0.9596, Val_AP: 0.9597Test_AUC: 0.9610, Test_AP: 0.9611\n",
      "Epoch: 19, Loss: 0.2527, Val_AUC: 0.9585, Val_AP: 0.9587Test_AUC: 0.9610, Test_AP: 0.9611\n",
      "Epoch: 20, Loss: 0.2513, Val_AUC: 0.9591, Val_AP: 0.9592Test_AUC: 0.9610, Test_AP: 0.9611\n",
      "Epoch: 21, Loss: 0.2507, Val_AUC: 0.9615, Val_AP: 0.9610Test_AUC: 0.9630, Test_AP: 0.9632\n",
      "Epoch: 22, Loss: 0.2499, Val_AUC: 0.9611, Val_AP: 0.9606Test_AUC: 0.9630, Test_AP: 0.9632\n",
      "Epoch: 23, Loss: 0.2491, Val_AUC: 0.9628, Val_AP: 0.9624Test_AUC: 0.9644, Test_AP: 0.9644\n",
      "Epoch: 24, Loss: 0.2482, Val_AUC: 0.9621, Val_AP: 0.9615Test_AUC: 0.9644, Test_AP: 0.9644\n",
      "Epoch: 25, Loss: 0.2473, Val_AUC: 0.9632, Val_AP: 0.9627Test_AUC: 0.9649, Test_AP: 0.9651\n",
      "Epoch: 26, Loss: 0.2460, Val_AUC: 0.9627, Val_AP: 0.9619Test_AUC: 0.9649, Test_AP: 0.9651\n",
      "Epoch: 27, Loss: 0.2446, Val_AUC: 0.9625, Val_AP: 0.9619Test_AUC: 0.9649, Test_AP: 0.9651\n",
      "Epoch: 28, Loss: 0.2436, Val_AUC: 0.9633, Val_AP: 0.9622Test_AUC: 0.9651, Test_AP: 0.9652\n",
      "Epoch: 29, Loss: 0.2436, Val_AUC: 0.9630, Val_AP: 0.9623Test_AUC: 0.9651, Test_AP: 0.9652\n",
      "Epoch: 30, Loss: 0.2425, Val_AUC: 0.9637, Val_AP: 0.9627Test_AUC: 0.9658, Test_AP: 0.9660\n",
      "Epoch: 31, Loss: 0.2405, Val_AUC: 0.9632, Val_AP: 0.9625Test_AUC: 0.9658, Test_AP: 0.9660\n",
      "Epoch: 32, Loss: 0.2400, Val_AUC: 0.9638, Val_AP: 0.9632Test_AUC: 0.9656, Test_AP: 0.9656\n",
      "Epoch: 33, Loss: 0.2379, Val_AUC: 0.9653, Val_AP: 0.9646Test_AUC: 0.9667, Test_AP: 0.9667\n",
      "Epoch: 34, Loss: 0.2382, Val_AUC: 0.9648, Val_AP: 0.9640Test_AUC: 0.9667, Test_AP: 0.9667\n",
      "Epoch: 35, Loss: 0.2366, Val_AUC: 0.9637, Val_AP: 0.9629Test_AUC: 0.9667, Test_AP: 0.9667\n",
      "Epoch: 36, Loss: 0.2357, Val_AUC: 0.9633, Val_AP: 0.9627Test_AUC: 0.9667, Test_AP: 0.9667\n",
      "Epoch: 37, Loss: 0.2360, Val_AUC: 0.9648, Val_AP: 0.9636Test_AUC: 0.9667, Test_AP: 0.9667\n",
      "Epoch: 38, Loss: 0.2338, Val_AUC: 0.9664, Val_AP: 0.9653Test_AUC: 0.9676, Test_AP: 0.9674\n",
      "Epoch: 39, Loss: 0.2335, Val_AUC: 0.9661, Val_AP: 0.9654Test_AUC: 0.9676, Test_AP: 0.9674\n",
      "Epoch: 40, Loss: 0.2331, Val_AUC: 0.9654, Val_AP: 0.9647Test_AUC: 0.9676, Test_AP: 0.9674\n",
      "Epoch: 41, Loss: 0.2317, Val_AUC: 0.9650, Val_AP: 0.9642Test_AUC: 0.9676, Test_AP: 0.9674\n",
      "Epoch: 42, Loss: 0.2311, Val_AUC: 0.9668, Val_AP: 0.9656Test_AUC: 0.9688, Test_AP: 0.9688\n",
      "Epoch: 43, Loss: 0.2304, Val_AUC: 0.9673, Val_AP: 0.9663Test_AUC: 0.9690, Test_AP: 0.9692\n",
      "Epoch: 44, Loss: 0.2304, Val_AUC: 0.9674, Val_AP: 0.9663Test_AUC: 0.9683, Test_AP: 0.9684\n",
      "Epoch: 45, Loss: 0.2300, Val_AUC: 0.9662, Val_AP: 0.9658Test_AUC: 0.9683, Test_AP: 0.9684\n",
      "Epoch: 46, Loss: 0.2294, Val_AUC: 0.9671, Val_AP: 0.9659Test_AUC: 0.9683, Test_AP: 0.9684\n",
      "Epoch: 47, Loss: 0.2280, Val_AUC: 0.9663, Val_AP: 0.9656Test_AUC: 0.9683, Test_AP: 0.9684\n",
      "Epoch: 48, Loss: 0.2277, Val_AUC: 0.9668, Val_AP: 0.9657Test_AUC: 0.9683, Test_AP: 0.9684\n",
      "Epoch: 49, Loss: 0.2283, Val_AUC: 0.9666, Val_AP: 0.9656Test_AUC: 0.9683, Test_AP: 0.9684\n",
      "Epoch: 50, Loss: 0.2270, Val_AUC: 0.9674, Val_AP: 0.9668Test_AUC: 0.9693, Test_AP: 0.9693\n",
      "Median time per epoch: 64.1730s\n"
     ]
    }
   ],
   "source": [
    "times = []\n",
    "best_val_auc = test_auc = 0\n",
    "for epoch in range(1, 51):\n",
    "    start = time.time()\n",
    "    loss = train()\n",
    "    val_auc, val_ap = test(val_loader)\n",
    "    if val_auc > best_val_auc:\n",
    "        best_val_auc = val_auc\n",
    "        test_auc, test_ap = test(test_loader)\n",
    "    print(f'Epoch: {epoch:02d}, Loss: {loss:.4f}, Val_AUC: {val_auc:.4f}, Val_AP: {val_ap:.4f}'\n",
    "          f'Test_AUC: {test_auc:.4f}, Test_AP: {test_ap:.4f}')\n",
    "    times.append(time.time() - start)\n",
    "print(f\"Median time per epoch: {torch.tensor(times).median():.4f}s\")"
   ]
  }
 ],
 "metadata": {
  "kernelspec": {
   "display_name": "Python 3",
   "language": "python",
   "name": "python3"
  },
  "language_info": {
   "codemirror_mode": {
    "name": "ipython",
    "version": 3
   },
   "file_extension": ".py",
   "mimetype": "text/x-python",
   "name": "python",
   "nbconvert_exporter": "python",
   "pygments_lexer": "ipython3",
   "version": "3.12.7"
  }
 },
 "nbformat": 4,
 "nbformat_minor": 5
}
