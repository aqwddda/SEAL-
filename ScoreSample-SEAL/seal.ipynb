{
 "cells": [
  {
   "cell_type": "code",
   "execution_count": 1,
   "id": "40c02be1",
   "metadata": {},
   "outputs": [],
   "source": [
    "import math\n",
    "import time, os\n",
    "from itertools import chain\n",
    "from tqdm import tqdm\n",
    "import gc\n",
    "import logging\n",
    "import numpy as np\n",
    "import torch\n",
    "import psutil\n",
    "import glob\n",
    "import out_manager as om\n",
    "import torch.nn.functional as F\n",
    "from scipy.sparse.csgraph import shortest_path\n",
    "from sklearn.metrics import roc_auc_score, average_precision_score\n",
    "from torch.nn import BCEWithLogitsLoss, Conv1d, MaxPool1d, ModuleList\n",
    "from torch_geometric.data import Data, InMemoryDataset\n",
    "from torch_geometric.datasets import Planetoid\n",
    "from torch_geometric.loader import DataLoader\n",
    "from torch_geometric.nn import MLP, GCNConv, SortAggregation\n",
    "from torch_geometric.transforms import RandomLinkSplit\n",
    "from torch_geometric.utils import k_hop_subgraph, to_scipy_sparse_matrix\n",
    "from config import Config"
   ]
  },
  {
   "cell_type": "code",
   "execution_count": 2,
   "id": "75c339b9",
   "metadata": {},
   "outputs": [],
   "source": [
    "config = Config()\n",
    "out_dir = om.get_existing_out_dir(config)\n",
    "om.setup_logging(os.path.join(out_dir, \"seal_log.txt\"))\n",
    "seed = config.seed\n",
    "torch.manual_seed(seed)\n",
    "np.random.seed(seed)\n",
    "device = config.device"
   ]
  },
  {
   "cell_type": "code",
   "execution_count": 3,
   "id": "e7e7938c",
   "metadata": {},
   "outputs": [],
   "source": [
    "class SEALDataset(InMemoryDataset):\n",
    "    def __init__(self, dataset, num_hops, split='train'):\n",
    "        self._data = dataset[0]\n",
    "        self.num_hops = num_hops\n",
    "        super().__init__(dataset.root)\n",
    "        index = ['train', 'val', 'test'].index(split)\n",
    "        self.load(self.processed_paths[index])\n",
    "\n",
    "    @property\n",
    "    def processed_dir(self):\n",
    "        return os.path.join(self.root, config.dataset, 'split')\n",
    "    \n",
    "    @property\n",
    "    def processed_file_names(self):\n",
    "        return ['SEAL_train_data.pt', 'SEAL_val_data.pt', 'SEAL_test_data.pt']\n",
    "\n",
    "    def process(self):\n",
    "        transform = RandomLinkSplit(num_val=0.05, num_test=0.1,\n",
    "                                    is_undirected=True, split_labels=True)\n",
    "        train_data, val_data, test_data = transform(self._data)\n",
    "\n",
    "        self._max_z = 0\n",
    "\n",
    "        # Collect a list of subgraphs for training, validation and testing:\n",
    "        train_pos_data_list = self.extract_enclosing_subgraphs(\n",
    "            train_data.edge_index, train_data.pos_edge_label_index, 1)\n",
    "        train_neg_data_list = self.extract_enclosing_subgraphs(\n",
    "            train_data.edge_index, train_data.neg_edge_label_index, 0)\n",
    "\n",
    "        val_pos_data_list = self.extract_enclosing_subgraphs(\n",
    "            val_data.edge_index, val_data.pos_edge_label_index, 1)\n",
    "        val_neg_data_list = self.extract_enclosing_subgraphs(\n",
    "            val_data.edge_index, val_data.neg_edge_label_index, 0)\n",
    "\n",
    "        test_pos_data_list = self.extract_enclosing_subgraphs(\n",
    "            test_data.edge_index, test_data.pos_edge_label_index, 1)\n",
    "        test_neg_data_list = self.extract_enclosing_subgraphs(\n",
    "            test_data.edge_index, test_data.neg_edge_label_index, 0)\n",
    "\n",
    "        # Convert node labeling to one-hot features.\n",
    "        for data in chain(train_pos_data_list, train_neg_data_list,\n",
    "                          val_pos_data_list, val_neg_data_list,\n",
    "                          test_pos_data_list, test_neg_data_list):\n",
    "            # We solely learn links from structure, dropping any node features:\n",
    "            data.x = F.one_hot(data.z, self._max_z + 1).to(torch.float)\n",
    "        print(self._max_z)\n",
    "\n",
    "        train_data_list = train_pos_data_list + train_neg_data_list\n",
    "        self.save(train_data_list, self.processed_paths[0])\n",
    "        val_data_list = val_pos_data_list + val_neg_data_list\n",
    "        self.save(val_data_list, self.processed_paths[1])\n",
    "        test_data_list = test_pos_data_list + test_neg_data_list\n",
    "        self.save(test_data_list, self.processed_paths[2])\n",
    "\n",
    "    def extract_enclosing_subgraphs(self, edge_index, edge_label_index, y):\n",
    "        data_list = []\n",
    "        for src, dst in edge_label_index.t().tolist():\n",
    "            try:\n",
    "                # 直接采样子图（内部会重新编号）\n",
    "                sub_nodes, sub_edge_index, mapping, _ = k_hop_subgraph(\n",
    "                    [src, dst], self.num_hops, edge_index, relabel_nodes=True)\n",
    "                # 现在 src、dst 的新索引\n",
    "                src_sub, dst_sub = mapping.tolist()\n",
    "\n",
    "                # Remove target link from the subgraph\n",
    "                mask1 = (sub_edge_index[0] != src_sub) | (sub_edge_index[1] != dst_sub)\n",
    "                mask2 = (sub_edge_index[0] != dst_sub) | (sub_edge_index[1] != src_sub)\n",
    "                sub_edge_index = sub_edge_index[:, mask1 & mask2]\n",
    "\n",
    "                # 生成标签 (用子图索引！)\n",
    "                z = self.drnl_node_labeling(sub_edge_index, src_sub, dst_sub,\n",
    "                                            num_nodes=sub_nodes.size(0))\n",
    "\n",
    "                # 直接用 sub_nodes 对应原图的 x 特征\n",
    "                sub_data = Data(x=self._data.x[sub_nodes], z=z,\n",
    "                            edge_index=sub_edge_index, y=y)\n",
    "                data_list.append(sub_data)\n",
    "\n",
    "            except Exception as e:\n",
    "                print(f\"Error at src {src}, dst {dst}: {e}\")\n",
    "\n",
    "        return data_list\n",
    "\n",
    "    def drnl_node_labeling(self, edge_index, src, dst, num_nodes=None):\n",
    "        # Double-radius node labeling (DRNL).\n",
    "        src, dst = (dst, src) if src > dst else (src, dst)\n",
    "        adj = to_scipy_sparse_matrix(edge_index, num_nodes=num_nodes).tocsr()\n",
    "\n",
    "        # Remove src\n",
    "        idx_wo_src = list(range(adj.shape[0]))\n",
    "        idx_wo_src.pop(src)\n",
    "        adj_wo_src = adj[idx_wo_src, :][:, idx_wo_src]\n",
    "\n",
    "        # Remove dst\n",
    "        idx_wo_dst = list(range(adj.shape[0]))\n",
    "        idx_wo_dst.pop(dst)\n",
    "        adj_wo_dst = adj[idx_wo_dst, :][:, idx_wo_dst]\n",
    "\n",
    "        # 重新计算 src/dst 在 adj_wo_* 中的索引\n",
    "        src_idx_in_wo_dst = src if src < dst else src - 1\n",
    "        dst_idx_in_wo_src = dst if dst < src else dst - 1\n",
    "\n",
    "        dist2src = shortest_path(adj_wo_dst, directed=False, unweighted=True, indices=src_idx_in_wo_dst)\n",
    "        dist2src = np.insert(dist2src, dst, 0, axis=0)\n",
    "        dist2src = torch.from_numpy(dist2src)\n",
    "\n",
    "        dist2dst = shortest_path(adj_wo_src, directed=False, unweighted=True, indices=dst_idx_in_wo_src)\n",
    "        dist2dst = np.insert(dist2dst, src, 0, axis=0)\n",
    "        dist2dst = torch.from_numpy(dist2dst)\n",
    "\n",
    "        dist = dist2src + dist2dst\n",
    "        dist_over_2, dist_mod_2 = dist // 2, dist % 2\n",
    "\n",
    "        z = 1 + torch.min(dist2src, dist2dst)\n",
    "        z += dist_over_2 * (dist_over_2 + dist_mod_2 - 1)\n",
    "        z[src] = 1.\n",
    "        z[dst] = 1.\n",
    "        z[torch.isnan(z)] = 0.\n",
    "\n",
    "        self._max_z = max(int(z.max()), self._max_z)\n",
    "        return z.to(torch.long)"
   ]
  },
  {
   "cell_type": "code",
   "execution_count": 4,
   "id": "cb6f2d6c",
   "metadata": {},
   "outputs": [],
   "source": [
    "class SEAL():\n",
    "    def __init__(self, num_hops, save_dir):\n",
    "        self.save_dir = save_dir\n",
    "        self.num_hops = num_hops\n",
    "        super().__init__()\n",
    "\n",
    "    # def get_max_z(self, data, edge_index, edge_label_index, y, batch_size=1000):\n",
    "    #     for i in range(0, edge_label_index.size(1), batch_size):\n",
    "    #         batch_idx = edge_label_index[:, i:i+batch_size]\n",
    "    #         batch_data_list = self.extract_enclosing_subgraphs(data, edge_index, batch_idx, y)\n",
    "    #         del batch_data_list\n",
    "    #         gc.collect()\n",
    "\n",
    "    # def save_batches(self, data, edge_index, edge_label_index, y, out_prefix, max_z, batch_size=100):\n",
    "    #     os.makedirs(os.path.dirname(out_prefix), exist_ok=True)\n",
    "    #     idx = 0\n",
    "    #     for i in range(0, edge_label_index.size(1), batch_size):\n",
    "    #         batch_idx = edge_label_index[:, i:i+batch_size]\n",
    "    #         batch_data_list = self.extract_enclosing_subgraphs(data, edge_index, batch_idx, y)\n",
    "    #         for batch_data in batch_data_list:\n",
    "    #             batch_data.x = F.one_hot(batch_data.z, max_z + 1).to(torch.float)\n",
    "    #         torch.save(batch_data_list, f\"{out_prefix}_batch{idx}.pt\")\n",
    "    #         print(f\"已保存 {out_prefix}_batch{idx}.pt，当前内存占用率 {psutil.virtual_memory().percent}%\")\n",
    "    #         del batch_data_list\n",
    "    #         gc.collect()\n",
    "    #         idx += 1\n",
    "\n",
    "    def get_max_z(self, data, edge_index, edge_label_index, y, batch_size=1000):\n",
    "        num_samples = edge_label_index.size(1)\n",
    "        # 使用tqdm添加进度条\n",
    "        for i in tqdm(range(0, num_samples, batch_size), desc=\"扫描 max_z\", unit=\"batch\"):\n",
    "            batch_idx = edge_label_index[:, i:i+batch_size]\n",
    "            batch_data_list = self.extract_enclosing_subgraphs(data, edge_index, batch_idx, y)\n",
    "            del batch_data_list\n",
    "            gc.collect()\n",
    "\n",
    "    def save_batches(self, data, edge_index, edge_label_index, y, out_prefix, max_z, batch_size=100):\n",
    "        os.makedirs(os.path.dirname(out_prefix), exist_ok=True)\n",
    "        num_samples = edge_label_index.size(1)\n",
    "        num_batches = (num_samples + batch_size - 1) // batch_size\n",
    "        idx = 0\n",
    "        # 使用tqdm添加进度条\n",
    "        for i in tqdm(range(0, num_samples, batch_size), desc=f\"保存 {out_prefix} 分批文件\", unit=\"batch\"):\n",
    "            batch_idx = edge_label_index[:, i:i+batch_size]\n",
    "            batch_data_list = self.extract_enclosing_subgraphs(data, edge_index, batch_idx, y)\n",
    "            for batch_data in batch_data_list:\n",
    "                batch_data.x = F.one_hot(batch_data.z, max_z + 1).to(torch.float)\n",
    "            torch.save(batch_data_list, f\"{out_prefix}_batch{idx}.pt\")\n",
    "            print(f\"已保存 {out_prefix}_batch{idx}.pt，当前内存占用率 {psutil.virtual_memory().percent}%\")\n",
    "            del batch_data_list\n",
    "            gc.collect()\n",
    "            idx += 1\n",
    "\n",
    "    def merge_batches(self, batch_prefix, out_file):\n",
    "        batch_files = sorted(glob.glob(f\"{batch_prefix}_batch*.pt\"),\n",
    "                            key=lambda x: int(x.split('_batch')[-1].split('.pt')[0]))\n",
    "        all_data = []\n",
    "        for batch_file in batch_files:\n",
    "            data_list = torch.load(batch_file)\n",
    "            all_data.extend(data_list)\n",
    "            print(f\"合并了 {batch_file}，当前总量：{len(all_data)}\")\n",
    "            del data_list\n",
    "        torch.save(all_data, out_file)\n",
    "        print(f\"保存到 {out_file}，总计 {len(all_data)} 条数据\")\n",
    "        del all_data\n",
    "\n",
    "    def merge_pos_neg(self, pos_file, neg_file, out_file):\n",
    "        pos_data = torch.load(pos_file)\n",
    "        neg_data = torch.load(neg_file)\n",
    "        all_data = pos_data + neg_data\n",
    "        torch.save(all_data, out_file)\n",
    "        print(f\"最终合并 {out_file}，总计 {len(all_data)} 条（正例 {len(pos_data)}，负例 {len(neg_data)}）\")\n",
    "        del pos_data, neg_data, all_data\n",
    "\n",
    "    def process(self):\n",
    "\n",
    "        train_data = torch.load(f'./data/{config.dataset}/split/train_data.pt')\n",
    "        val_data = torch.load(f'./data/{config.dataset}/split/val_data.pt')\n",
    "        test_data = torch.load(f'./data/{config.dataset}/split/test_data.pt')\n",
    "        \n",
    "        #第一次扫描统计maxz\n",
    "        self._max_z = 0\n",
    "        self.get_max_z(train_data, train_data.edge_index, train_data.pos_edge_label_index, 1),\n",
    "        self.get_max_z(train_data, train_data.edge_index, train_data.neg_edge_label_index, 0)\n",
    "        self.get_max_z(val_data, val_data.edge_index, val_data.pos_edge_label_index, 1),\n",
    "        self.get_max_z(val_data, val_data.edge_index, val_data.neg_edge_label_index, 0)\n",
    "        self.get_max_z(test_data, test_data.edge_index, test_data.pos_edge_label_index, 1),\n",
    "        self.get_max_z(test_data, test_data.edge_index, test_data.neg_edge_label_index, 0)\n",
    "\n",
    "\n",
    "        # 2. 分批次one-hot和保存，绝不汇总到内存\n",
    "        save_dir = self.save_dir\n",
    "        train_pos_path = os.path.join(save_dir, \"SEAL_train_pos\")\n",
    "        train_neg_path = os.path.join(save_dir, \"SEAL_train_neg\")\n",
    "        val_pos_path = os.path.join(save_dir, \"SEAL_val_pos\")\n",
    "        val_neg_path = os.path.join(save_dir, \"SEAL_val_neg\")\n",
    "        test_pos_path = os.path.join(save_dir, \"SEAL_test_pos\")\n",
    "        test_neg_path = os.path.join(save_dir, \"SEAL_test_neg\")\n",
    "\n",
    "        print(\"保存 train 分批文件\")\n",
    "        self.save_batches(train_data, train_data.edge_index, train_data.pos_edge_label_index, 1, train_pos_path, self._max_z)\n",
    "        self.save_batches(train_data, train_data.edge_index, train_data.neg_edge_label_index, 0, train_neg_path, self._max_z)\n",
    "\n",
    "        print(\"保存 val 分批文件\")\n",
    "        self.save_batches(val_data, val_data.edge_index, val_data.pos_edge_label_index, 1, val_pos_path, self._max_z)\n",
    "        self.save_batches(val_data, val_data.edge_index, val_data.neg_edge_label_index, 0, val_neg_path, self._max_z)\n",
    "\n",
    "        print(\"保存 test 分批文件\")\n",
    "        self.save_batches(test_data, test_data.edge_index, test_data.pos_edge_label_index, 1, test_pos_path, self._max_z)\n",
    "        self.save_batches(test_data, test_data.edge_index, test_data.neg_edge_label_index, 0, test_neg_path, self._max_z)\n",
    "\n",
    "        print(\"所有分批处理和保存已完成！🚀\")\n",
    "\n",
    "        del train_data, val_data, test_data\n",
    "        gc.collect()\n",
    "\n",
    "        # 2. 合并\n",
    "        split_dir = self.save_dir\n",
    "        for prefix in [\"train\", \"val\", \"test\"]:\n",
    "            pos_prefix = os.path.join(split_dir, f\"SEAL_{prefix}_pos\")\n",
    "            neg_prefix = os.path.join(split_dir, f\"SEAL_{prefix}_neg\")\n",
    "            pos_data_list = pos_prefix + \"_data_list.pt\"\n",
    "            neg_data_list = neg_prefix + \"_data_list.pt\"\n",
    "            merged_data_list = os.path.join(split_dir, f\"SEAL_{prefix}_data_list.pt\")\n",
    "\n",
    "            print(f\"\\n--- 合并 {prefix} pos batch ---\")\n",
    "            self.merge_batches(pos_prefix, pos_data_list)\n",
    "            print(f\"--- 合并 {prefix} neg batch ---\")\n",
    "            self.merge_batches(neg_prefix, neg_data_list)\n",
    "\n",
    "            print(f\"--- 合并 {prefix} pos+neg 为总 data_list ---\")\n",
    "            self.merge_pos_neg(pos_data_list, neg_data_list, merged_data_list)\n",
    "\n",
    "        print(\"所有分批处理、合并已完成！🚀\")\n",
    "\n",
    "        # --------- 自动删除所有 batch 文件 ----------\n",
    "        pattern = os.path.join(self.save_dir, \"SEAL_*_batch*.pt\")\n",
    "        batch_files = glob.glob(pattern)\n",
    "        for file in batch_files:\n",
    "            try:\n",
    "                os.remove(file)\n",
    "                print(f\"已删除 {file}\")\n",
    "            except Exception as e:\n",
    "                print(f\"删除 {file} 失败：{e}\")\n",
    "        \n",
    "        target_files = [\n",
    "            \"SEAL_test_neg_data_list.pt\",\n",
    "            \"SEAL_test_pos_data_list.pt\",\n",
    "            \"SEAL_val_neg_data_list.pt\",\n",
    "            \"SEAL_val_pos_data_list.pt\",\n",
    "            \"SEAL_train_neg_data_list.pt\",\n",
    "            \"SEAL_train_pos_data_list.pt\"\n",
    "        ]\n",
    "\n",
    "        for filename in target_files:\n",
    "            file_path = os.path.join(self.save_dir, filename)\n",
    "            if os.path.exists(file_path):\n",
    "                try:\n",
    "                    os.remove(file_path)\n",
    "                    print(f\"已删除 {file_path}\")\n",
    "                except Exception as e:\n",
    "                    print(f\"删除 {file_path} 失败：{e}\")\n",
    "\n",
    "        print('所有数据已保存并清理临时 batch 文件')\n",
    "\n",
    "    def extract_enclosing_subgraphs(self, data, edge_index, edge_label_index, y):\n",
    "        data_list = []\n",
    "        for src, dst in edge_label_index.t().tolist():\n",
    "            # 直接采样子图（内部会重新编号）\n",
    "            sub_nodes, sub_edge_index, mapping, _ = k_hop_subgraph(\n",
    "                [src, dst], self.num_hops, edge_index, relabel_nodes=True)\n",
    "            # 现在 src、dst 的新索引\n",
    "            src_sub, dst_sub = mapping.tolist()\n",
    "\n",
    "            # Remove target link from the subgraph\n",
    "            mask1 = (sub_edge_index[0] != src_sub) | (sub_edge_index[1] != dst_sub)\n",
    "            mask2 = (sub_edge_index[0] != dst_sub) | (sub_edge_index[1] != src_sub)\n",
    "            sub_edge_index = sub_edge_index[:, mask1 & mask2]\n",
    "\n",
    "            # 生成标签 (用子图索引！)\n",
    "            z = self.drnl_node_labeling(sub_edge_index, src_sub, dst_sub,\n",
    "                                        num_nodes=sub_nodes.size(0))\n",
    "\n",
    "            # 直接用 sub_nodes 对应原图的 x 特征\n",
    "            sub_data = Data(x=data.x[sub_nodes], z=z,\n",
    "                        edge_index=sub_edge_index, y=y)\n",
    "            data_list.append(sub_data)\n",
    "\n",
    "        return data_list\n",
    "\n",
    "    def drnl_node_labeling(self, edge_index, src, dst, num_nodes=None):\n",
    "        src, dst = (dst, src) if src > dst else (src, dst)\n",
    "        adj = to_scipy_sparse_matrix(edge_index, num_nodes=num_nodes).tocsr()\n",
    "\n",
    "        idx = list(range(src)) + list(range(src + 1, adj.shape[0]))\n",
    "        adj_wo_src = adj[idx, :][:, idx]\n",
    "\n",
    "        idx = list(range(dst)) + list(range(dst + 1, adj.shape[0]))\n",
    "        adj_wo_dst = adj[idx, :][:, idx]\n",
    "\n",
    "        dist2src = shortest_path(adj_wo_dst, directed=False, unweighted=True,\n",
    "                                 indices=src)\n",
    "        dist2src = np.insert(dist2src, dst, 0, axis=0)\n",
    "        dist2src = torch.from_numpy(dist2src)\n",
    "\n",
    "        dist2dst = shortest_path(adj_wo_src, directed=False, unweighted=True,\n",
    "                                 indices=dst - 1)\n",
    "        dist2dst = np.insert(dist2dst, src, 0, axis=0)\n",
    "        dist2dst = torch.from_numpy(dist2dst)\n",
    "\n",
    "        dist = dist2src + dist2dst\n",
    "        dist_over_2, dist_mod_2 = dist // 2, dist % 2\n",
    "\n",
    "        z = 1 + torch.min(dist2src, dist2dst)\n",
    "        z += dist_over_2 * (dist_over_2 + dist_mod_2 - 1)\n",
    "        z[src] = 1.\n",
    "        z[dst] = 1.\n",
    "        z[torch.isnan(z)] = 0.\n",
    "\n",
    "        self._max_z = max(int(z.max()), self._max_z)\n",
    "\n",
    "        return z.to(torch.long)\n"
   ]
  },
  {
   "cell_type": "code",
   "execution_count": 5,
   "id": "fb405640",
   "metadata": {},
   "outputs": [
    {
     "name": "stderr",
     "output_type": "stream",
     "text": [
      "扫描 max_z: 100%|██████████| 16/16 [02:54<00:00, 10.92s/batch]\n",
      "扫描 max_z: 100%|██████████| 16/16 [01:49<00:00,  6.86s/batch]\n",
      "扫描 max_z: 100%|██████████| 1/1 [00:10<00:00, 10.95s/batch]\n",
      "扫描 max_z: 100%|██████████| 1/1 [00:05<00:00,  5.25s/batch]\n",
      "扫描 max_z: 100%|██████████| 2/2 [00:16<00:00,  8.05s/batch]\n",
      "扫描 max_z: 100%|██████████| 2/2 [00:10<00:00,  5.15s/batch]\n"
     ]
    },
    {
     "name": "stdout",
     "output_type": "stream",
     "text": [
      "保存 train 分批文件\n"
     ]
    },
    {
     "name": "stderr",
     "output_type": "stream",
     "text": [
      "保存 ./data/Github/split\\SEAL_train_pos 分批文件:   1%|          | 1/158 [00:01<02:53,  1.10s/batch]"
     ]
    },
    {
     "name": "stdout",
     "output_type": "stream",
     "text": [
      "已保存 ./data/Github/split\\SEAL_train_pos_batch0.pt，当前内存占用率 73.6%\n"
     ]
    },
    {
     "name": "stderr",
     "output_type": "stream",
     "text": [
      "保存 ./data/Github/split\\SEAL_train_pos 分批文件:   1%|▏         | 2/158 [00:02<03:30,  1.35s/batch]"
     ]
    },
    {
     "name": "stdout",
     "output_type": "stream",
     "text": [
      "已保存 ./data/Github/split\\SEAL_train_pos_batch1.pt，当前内存占用率 70.2%\n"
     ]
    },
    {
     "name": "stderr",
     "output_type": "stream",
     "text": [
      "保存 ./data/Github/split\\SEAL_train_pos 分批文件:   2%|▏         | 3/158 [00:03<03:22,  1.31s/batch]"
     ]
    },
    {
     "name": "stdout",
     "output_type": "stream",
     "text": [
      "已保存 ./data/Github/split\\SEAL_train_pos_batch2.pt，当前内存占用率 71.5%\n"
     ]
    },
    {
     "name": "stderr",
     "output_type": "stream",
     "text": [
      "保存 ./data/Github/split\\SEAL_train_pos 分批文件:   3%|▎         | 4/158 [00:04<02:59,  1.17s/batch]"
     ]
    },
    {
     "name": "stdout",
     "output_type": "stream",
     "text": [
      "已保存 ./data/Github/split\\SEAL_train_pos_batch3.pt，当前内存占用率 71.6%\n"
     ]
    },
    {
     "name": "stderr",
     "output_type": "stream",
     "text": [
      "保存 ./data/Github/split\\SEAL_train_pos 分批文件:   3%|▎         | 5/158 [00:05<02:49,  1.11s/batch]"
     ]
    },
    {
     "name": "stdout",
     "output_type": "stream",
     "text": [
      "已保存 ./data/Github/split\\SEAL_train_pos_batch4.pt，当前内存占用率 72.0%\n"
     ]
    },
    {
     "name": "stderr",
     "output_type": "stream",
     "text": [
      "保存 ./data/Github/split\\SEAL_train_pos 分批文件:   4%|▍         | 6/158 [00:06<02:41,  1.06s/batch]"
     ]
    },
    {
     "name": "stdout",
     "output_type": "stream",
     "text": [
      "已保存 ./data/Github/split\\SEAL_train_pos_batch5.pt，当前内存占用率 72.0%\n"
     ]
    },
    {
     "name": "stderr",
     "output_type": "stream",
     "text": [
      "保存 ./data/Github/split\\SEAL_train_pos 分批文件:   4%|▍         | 7/158 [00:07<02:36,  1.03s/batch]"
     ]
    },
    {
     "name": "stdout",
     "output_type": "stream",
     "text": [
      "已保存 ./data/Github/split\\SEAL_train_pos_batch6.pt，当前内存占用率 72.1%\n"
     ]
    },
    {
     "name": "stderr",
     "output_type": "stream",
     "text": [
      "保存 ./data/Github/split\\SEAL_train_pos 分批文件:   5%|▌         | 8/158 [00:09<02:45,  1.10s/batch]"
     ]
    },
    {
     "name": "stdout",
     "output_type": "stream",
     "text": [
      "已保存 ./data/Github/split\\SEAL_train_pos_batch7.pt，当前内存占用率 68.8%\n"
     ]
    },
    {
     "name": "stderr",
     "output_type": "stream",
     "text": [
      "保存 ./data/Github/split\\SEAL_train_pos 分批文件:   6%|▌         | 9/158 [00:09<02:35,  1.05s/batch]"
     ]
    },
    {
     "name": "stdout",
     "output_type": "stream",
     "text": [
      "已保存 ./data/Github/split\\SEAL_train_pos_batch8.pt，当前内存占用率 69.1%\n"
     ]
    },
    {
     "name": "stderr",
     "output_type": "stream",
     "text": [
      "保存 ./data/Github/split\\SEAL_train_pos 分批文件:   6%|▋         | 10/158 [00:10<02:32,  1.03s/batch]"
     ]
    },
    {
     "name": "stdout",
     "output_type": "stream",
     "text": [
      "已保存 ./data/Github/split\\SEAL_train_pos_batch9.pt，当前内存占用率 69.0%\n"
     ]
    },
    {
     "name": "stderr",
     "output_type": "stream",
     "text": [
      "保存 ./data/Github/split\\SEAL_train_pos 分批文件:   7%|▋         | 11/158 [00:11<02:29,  1.02s/batch]"
     ]
    },
    {
     "name": "stdout",
     "output_type": "stream",
     "text": [
      "已保存 ./data/Github/split\\SEAL_train_pos_batch10.pt，当前内存占用率 69.2%\n"
     ]
    },
    {
     "name": "stderr",
     "output_type": "stream",
     "text": [
      "保存 ./data/Github/split\\SEAL_train_pos 分批文件:   8%|▊         | 12/158 [00:12<02:26,  1.00s/batch]"
     ]
    },
    {
     "name": "stdout",
     "output_type": "stream",
     "text": [
      "已保存 ./data/Github/split\\SEAL_train_pos_batch11.pt，当前内存占用率 69.5%\n"
     ]
    },
    {
     "name": "stderr",
     "output_type": "stream",
     "text": [
      "保存 ./data/Github/split\\SEAL_train_pos 分批文件:   8%|▊         | 13/158 [00:13<02:25,  1.01s/batch]"
     ]
    },
    {
     "name": "stdout",
     "output_type": "stream",
     "text": [
      "已保存 ./data/Github/split\\SEAL_train_pos_batch12.pt，当前内存占用率 69.5%\n"
     ]
    },
    {
     "name": "stderr",
     "output_type": "stream",
     "text": [
      "保存 ./data/Github/split\\SEAL_train_pos 分批文件:   9%|▉         | 14/158 [00:14<02:22,  1.01batch/s]"
     ]
    },
    {
     "name": "stdout",
     "output_type": "stream",
     "text": [
      "已保存 ./data/Github/split\\SEAL_train_pos_batch13.pt，当前内存占用率 69.5%\n"
     ]
    },
    {
     "name": "stderr",
     "output_type": "stream",
     "text": [
      "保存 ./data/Github/split\\SEAL_train_pos 分批文件:   9%|▉         | 15/158 [00:15<02:23,  1.01s/batch]"
     ]
    },
    {
     "name": "stdout",
     "output_type": "stream",
     "text": [
      "已保存 ./data/Github/split\\SEAL_train_pos_batch14.pt，当前内存占用率 69.6%\n"
     ]
    },
    {
     "name": "stderr",
     "output_type": "stream",
     "text": [
      "保存 ./data/Github/split\\SEAL_train_pos 分批文件:  10%|█         | 16/158 [00:16<02:18,  1.03batch/s]"
     ]
    },
    {
     "name": "stdout",
     "output_type": "stream",
     "text": [
      "已保存 ./data/Github/split\\SEAL_train_pos_batch15.pt，当前内存占用率 69.8%\n"
     ]
    },
    {
     "name": "stderr",
     "output_type": "stream",
     "text": [
      "保存 ./data/Github/split\\SEAL_train_pos 分批文件:  11%|█         | 17/158 [00:17<02:24,  1.02s/batch]"
     ]
    },
    {
     "name": "stdout",
     "output_type": "stream",
     "text": [
      "已保存 ./data/Github/split\\SEAL_train_pos_batch16.pt，当前内存占用率 69.7%\n"
     ]
    },
    {
     "name": "stderr",
     "output_type": "stream",
     "text": [
      "保存 ./data/Github/split\\SEAL_train_pos 分批文件:  11%|█▏        | 18/158 [00:19<02:32,  1.09s/batch]"
     ]
    },
    {
     "name": "stdout",
     "output_type": "stream",
     "text": [
      "已保存 ./data/Github/split\\SEAL_train_pos_batch17.pt，当前内存占用率 69.9%\n"
     ]
    },
    {
     "name": "stderr",
     "output_type": "stream",
     "text": [
      "保存 ./data/Github/split\\SEAL_train_pos 分批文件:  12%|█▏        | 19/158 [00:20<02:35,  1.12s/batch]"
     ]
    },
    {
     "name": "stdout",
     "output_type": "stream",
     "text": [
      "已保存 ./data/Github/split\\SEAL_train_pos_batch18.pt，当前内存占用率 69.4%\n"
     ]
    },
    {
     "name": "stderr",
     "output_type": "stream",
     "text": [
      "保存 ./data/Github/split\\SEAL_train_pos 分批文件:  13%|█▎        | 20/158 [00:21<02:40,  1.17s/batch]"
     ]
    },
    {
     "name": "stdout",
     "output_type": "stream",
     "text": [
      "已保存 ./data/Github/split\\SEAL_train_pos_batch19.pt，当前内存占用率 69.8%\n"
     ]
    },
    {
     "name": "stderr",
     "output_type": "stream",
     "text": [
      "保存 ./data/Github/split\\SEAL_train_pos 分批文件:  13%|█▎        | 21/158 [00:22<02:34,  1.13s/batch]"
     ]
    },
    {
     "name": "stdout",
     "output_type": "stream",
     "text": [
      "已保存 ./data/Github/split\\SEAL_train_pos_batch20.pt，当前内存占用率 69.8%\n"
     ]
    },
    {
     "name": "stderr",
     "output_type": "stream",
     "text": [
      "保存 ./data/Github/split\\SEAL_train_pos 分批文件:  14%|█▍        | 22/158 [00:23<02:40,  1.18s/batch]"
     ]
    },
    {
     "name": "stdout",
     "output_type": "stream",
     "text": [
      "已保存 ./data/Github/split\\SEAL_train_pos_batch21.pt，当前内存占用率 69.6%\n"
     ]
    },
    {
     "name": "stderr",
     "output_type": "stream",
     "text": [
      "保存 ./data/Github/split\\SEAL_train_pos 分批文件:  15%|█▍        | 23/158 [00:25<02:38,  1.17s/batch]"
     ]
    },
    {
     "name": "stdout",
     "output_type": "stream",
     "text": [
      "已保存 ./data/Github/split\\SEAL_train_pos_batch22.pt，当前内存占用率 70.1%\n"
     ]
    },
    {
     "name": "stderr",
     "output_type": "stream",
     "text": [
      "保存 ./data/Github/split\\SEAL_train_pos 分批文件:  15%|█▌        | 24/158 [00:26<02:39,  1.19s/batch]"
     ]
    },
    {
     "name": "stdout",
     "output_type": "stream",
     "text": [
      "已保存 ./data/Github/split\\SEAL_train_pos_batch23.pt，当前内存占用率 69.7%\n"
     ]
    },
    {
     "name": "stderr",
     "output_type": "stream",
     "text": [
      "保存 ./data/Github/split\\SEAL_train_pos 分批文件:  16%|█▌        | 25/158 [00:27<02:34,  1.16s/batch]"
     ]
    },
    {
     "name": "stdout",
     "output_type": "stream",
     "text": [
      "已保存 ./data/Github/split\\SEAL_train_pos_batch24.pt，当前内存占用率 69.5%\n"
     ]
    },
    {
     "name": "stderr",
     "output_type": "stream",
     "text": [
      "保存 ./data/Github/split\\SEAL_train_pos 分批文件:  16%|█▋        | 26/158 [00:29<02:58,  1.35s/batch]"
     ]
    },
    {
     "name": "stdout",
     "output_type": "stream",
     "text": [
      "已保存 ./data/Github/split\\SEAL_train_pos_batch25.pt，当前内存占用率 69.9%\n"
     ]
    },
    {
     "name": "stderr",
     "output_type": "stream",
     "text": [
      "保存 ./data/Github/split\\SEAL_train_pos 分批文件:  17%|█▋        | 27/158 [00:30<02:56,  1.34s/batch]"
     ]
    },
    {
     "name": "stdout",
     "output_type": "stream",
     "text": [
      "已保存 ./data/Github/split\\SEAL_train_pos_batch26.pt，当前内存占用率 69.6%\n"
     ]
    },
    {
     "name": "stderr",
     "output_type": "stream",
     "text": [
      "保存 ./data/Github/split\\SEAL_train_pos 分批文件:  18%|█▊        | 28/158 [00:31<02:43,  1.26s/batch]"
     ]
    },
    {
     "name": "stdout",
     "output_type": "stream",
     "text": [
      "已保存 ./data/Github/split\\SEAL_train_pos_batch27.pt，当前内存占用率 69.3%\n"
     ]
    },
    {
     "name": "stderr",
     "output_type": "stream",
     "text": [
      "保存 ./data/Github/split\\SEAL_train_pos 分批文件:  18%|█▊        | 29/158 [00:32<02:43,  1.27s/batch]"
     ]
    },
    {
     "name": "stdout",
     "output_type": "stream",
     "text": [
      "已保存 ./data/Github/split\\SEAL_train_pos_batch28.pt，当前内存占用率 69.7%\n"
     ]
    },
    {
     "name": "stderr",
     "output_type": "stream",
     "text": [
      "保存 ./data/Github/split\\SEAL_train_pos 分批文件:  19%|█▉        | 30/158 [00:34<02:40,  1.25s/batch]"
     ]
    },
    {
     "name": "stdout",
     "output_type": "stream",
     "text": [
      "已保存 ./data/Github/split\\SEAL_train_pos_batch29.pt，当前内存占用率 69.4%\n"
     ]
    },
    {
     "name": "stderr",
     "output_type": "stream",
     "text": [
      "保存 ./data/Github/split\\SEAL_train_pos 分批文件:  20%|█▉        | 31/158 [00:35<02:46,  1.31s/batch]"
     ]
    },
    {
     "name": "stdout",
     "output_type": "stream",
     "text": [
      "已保存 ./data/Github/split\\SEAL_train_pos_batch30.pt，当前内存占用率 69.5%\n"
     ]
    },
    {
     "name": "stderr",
     "output_type": "stream",
     "text": [
      "保存 ./data/Github/split\\SEAL_train_pos 分批文件:  20%|██        | 32/158 [00:36<02:41,  1.28s/batch]"
     ]
    },
    {
     "name": "stdout",
     "output_type": "stream",
     "text": [
      "已保存 ./data/Github/split\\SEAL_train_pos_batch31.pt，当前内存占用率 69.5%\n"
     ]
    },
    {
     "name": "stderr",
     "output_type": "stream",
     "text": [
      "保存 ./data/Github/split\\SEAL_train_pos 分批文件:  21%|██        | 33/158 [00:38<02:46,  1.33s/batch]"
     ]
    },
    {
     "name": "stdout",
     "output_type": "stream",
     "text": [
      "已保存 ./data/Github/split\\SEAL_train_pos_batch32.pt，当前内存占用率 69.6%\n"
     ]
    },
    {
     "name": "stderr",
     "output_type": "stream",
     "text": [
      "保存 ./data/Github/split\\SEAL_train_pos 分批文件:  22%|██▏       | 34/158 [00:39<02:41,  1.31s/batch]"
     ]
    },
    {
     "name": "stdout",
     "output_type": "stream",
     "text": [
      "已保存 ./data/Github/split\\SEAL_train_pos_batch33.pt，当前内存占用率 69.7%\n"
     ]
    },
    {
     "name": "stderr",
     "output_type": "stream",
     "text": [
      "保存 ./data/Github/split\\SEAL_train_pos 分批文件:  22%|██▏       | 35/158 [00:40<02:35,  1.27s/batch]"
     ]
    },
    {
     "name": "stdout",
     "output_type": "stream",
     "text": [
      "已保存 ./data/Github/split\\SEAL_train_pos_batch34.pt，当前内存占用率 69.4%\n"
     ]
    },
    {
     "name": "stderr",
     "output_type": "stream",
     "text": [
      "保存 ./data/Github/split\\SEAL_train_pos 分批文件:  23%|██▎       | 36/158 [00:42<02:41,  1.32s/batch]"
     ]
    },
    {
     "name": "stdout",
     "output_type": "stream",
     "text": [
      "已保存 ./data/Github/split\\SEAL_train_pos_batch35.pt，当前内存占用率 69.7%\n"
     ]
    },
    {
     "name": "stderr",
     "output_type": "stream",
     "text": [
      "保存 ./data/Github/split\\SEAL_train_pos 分批文件:  23%|██▎       | 37/158 [00:43<02:40,  1.32s/batch]"
     ]
    },
    {
     "name": "stdout",
     "output_type": "stream",
     "text": [
      "已保存 ./data/Github/split\\SEAL_train_pos_batch36.pt，当前内存占用率 69.9%\n"
     ]
    },
    {
     "name": "stderr",
     "output_type": "stream",
     "text": [
      "保存 ./data/Github/split\\SEAL_train_pos 分批文件:  24%|██▍       | 38/158 [00:44<02:36,  1.31s/batch]"
     ]
    },
    {
     "name": "stdout",
     "output_type": "stream",
     "text": [
      "已保存 ./data/Github/split\\SEAL_train_pos_batch37.pt，当前内存占用率 69.9%\n"
     ]
    },
    {
     "name": "stderr",
     "output_type": "stream",
     "text": [
      "保存 ./data/Github/split\\SEAL_train_pos 分批文件:  25%|██▍       | 39/158 [00:46<02:38,  1.33s/batch]"
     ]
    },
    {
     "name": "stdout",
     "output_type": "stream",
     "text": [
      "已保存 ./data/Github/split\\SEAL_train_pos_batch38.pt，当前内存占用率 69.4%\n"
     ]
    },
    {
     "name": "stderr",
     "output_type": "stream",
     "text": [
      "保存 ./data/Github/split\\SEAL_train_pos 分批文件:  25%|██▌       | 40/158 [00:47<02:33,  1.30s/batch]"
     ]
    },
    {
     "name": "stdout",
     "output_type": "stream",
     "text": [
      "已保存 ./data/Github/split\\SEAL_train_pos_batch39.pt，当前内存占用率 68.7%\n"
     ]
    },
    {
     "name": "stderr",
     "output_type": "stream",
     "text": [
      "保存 ./data/Github/split\\SEAL_train_pos 分批文件:  26%|██▌       | 41/158 [00:48<02:41,  1.38s/batch]"
     ]
    },
    {
     "name": "stdout",
     "output_type": "stream",
     "text": [
      "已保存 ./data/Github/split\\SEAL_train_pos_batch40.pt，当前内存占用率 69.2%\n"
     ]
    },
    {
     "name": "stderr",
     "output_type": "stream",
     "text": [
      "保存 ./data/Github/split\\SEAL_train_pos 分批文件:  27%|██▋       | 42/158 [00:50<02:42,  1.40s/batch]"
     ]
    },
    {
     "name": "stdout",
     "output_type": "stream",
     "text": [
      "已保存 ./data/Github/split\\SEAL_train_pos_batch41.pt，当前内存占用率 69.3%\n"
     ]
    },
    {
     "name": "stderr",
     "output_type": "stream",
     "text": [
      "保存 ./data/Github/split\\SEAL_train_pos 分批文件:  27%|██▋       | 43/158 [00:51<02:47,  1.46s/batch]"
     ]
    },
    {
     "name": "stdout",
     "output_type": "stream",
     "text": [
      "已保存 ./data/Github/split\\SEAL_train_pos_batch42.pt，当前内存占用率 69.6%\n"
     ]
    },
    {
     "name": "stderr",
     "output_type": "stream",
     "text": [
      "保存 ./data/Github/split\\SEAL_train_pos 分批文件:  28%|██▊       | 44/158 [00:53<02:45,  1.45s/batch]"
     ]
    },
    {
     "name": "stdout",
     "output_type": "stream",
     "text": [
      "已保存 ./data/Github/split\\SEAL_train_pos_batch43.pt，当前内存占用率 69.2%\n"
     ]
    },
    {
     "name": "stderr",
     "output_type": "stream",
     "text": [
      "保存 ./data/Github/split\\SEAL_train_pos 分批文件:  28%|██▊       | 45/158 [00:54<02:42,  1.44s/batch]"
     ]
    },
    {
     "name": "stdout",
     "output_type": "stream",
     "text": [
      "已保存 ./data/Github/split\\SEAL_train_pos_batch44.pt，当前内存占用率 68.9%\n"
     ]
    },
    {
     "name": "stderr",
     "output_type": "stream",
     "text": [
      "保存 ./data/Github/split\\SEAL_train_pos 分批文件:  29%|██▉       | 46/158 [00:56<02:36,  1.40s/batch]"
     ]
    },
    {
     "name": "stdout",
     "output_type": "stream",
     "text": [
      "已保存 ./data/Github/split\\SEAL_train_pos_batch45.pt，当前内存占用率 68.9%\n"
     ]
    },
    {
     "name": "stderr",
     "output_type": "stream",
     "text": [
      "保存 ./data/Github/split\\SEAL_train_pos 分批文件:  30%|██▉       | 47/158 [00:57<02:30,  1.35s/batch]"
     ]
    },
    {
     "name": "stdout",
     "output_type": "stream",
     "text": [
      "已保存 ./data/Github/split\\SEAL_train_pos_batch46.pt，当前内存占用率 69.2%\n"
     ]
    },
    {
     "name": "stderr",
     "output_type": "stream",
     "text": [
      "保存 ./data/Github/split\\SEAL_train_pos 分批文件:  30%|███       | 48/158 [00:58<02:26,  1.34s/batch]"
     ]
    },
    {
     "name": "stdout",
     "output_type": "stream",
     "text": [
      "已保存 ./data/Github/split\\SEAL_train_pos_batch47.pt，当前内存占用率 69.4%\n"
     ]
    },
    {
     "name": "stderr",
     "output_type": "stream",
     "text": [
      "保存 ./data/Github/split\\SEAL_train_pos 分批文件:  31%|███       | 49/158 [00:59<02:22,  1.30s/batch]"
     ]
    },
    {
     "name": "stdout",
     "output_type": "stream",
     "text": [
      "已保存 ./data/Github/split\\SEAL_train_pos_batch48.pt，当前内存占用率 69.1%\n"
     ]
    },
    {
     "name": "stderr",
     "output_type": "stream",
     "text": [
      "保存 ./data/Github/split\\SEAL_train_pos 分批文件:  32%|███▏      | 50/158 [01:01<02:25,  1.34s/batch]"
     ]
    },
    {
     "name": "stdout",
     "output_type": "stream",
     "text": [
      "已保存 ./data/Github/split\\SEAL_train_pos_batch49.pt，当前内存占用率 69.3%\n"
     ]
    },
    {
     "name": "stderr",
     "output_type": "stream",
     "text": [
      "保存 ./data/Github/split\\SEAL_train_pos 分批文件:  32%|███▏      | 51/158 [01:02<02:33,  1.44s/batch]"
     ]
    },
    {
     "name": "stdout",
     "output_type": "stream",
     "text": [
      "已保存 ./data/Github/split\\SEAL_train_pos_batch50.pt，当前内存占用率 69.2%\n"
     ]
    },
    {
     "name": "stderr",
     "output_type": "stream",
     "text": [
      "保存 ./data/Github/split\\SEAL_train_pos 分批文件:  33%|███▎      | 52/158 [01:04<02:25,  1.37s/batch]"
     ]
    },
    {
     "name": "stdout",
     "output_type": "stream",
     "text": [
      "已保存 ./data/Github/split\\SEAL_train_pos_batch51.pt，当前内存占用率 69.3%\n"
     ]
    },
    {
     "name": "stderr",
     "output_type": "stream",
     "text": [
      "保存 ./data/Github/split\\SEAL_train_pos 分批文件:  34%|███▎      | 53/158 [01:05<02:22,  1.36s/batch]"
     ]
    },
    {
     "name": "stdout",
     "output_type": "stream",
     "text": [
      "已保存 ./data/Github/split\\SEAL_train_pos_batch52.pt，当前内存占用率 69.2%\n"
     ]
    },
    {
     "name": "stderr",
     "output_type": "stream",
     "text": [
      "保存 ./data/Github/split\\SEAL_train_pos 分批文件:  34%|███▍      | 54/158 [01:06<02:20,  1.35s/batch]"
     ]
    },
    {
     "name": "stdout",
     "output_type": "stream",
     "text": [
      "已保存 ./data/Github/split\\SEAL_train_pos_batch53.pt，当前内存占用率 69.0%\n"
     ]
    },
    {
     "name": "stderr",
     "output_type": "stream",
     "text": [
      "保存 ./data/Github/split\\SEAL_train_pos 分批文件:  35%|███▍      | 55/158 [01:08<02:30,  1.47s/batch]"
     ]
    },
    {
     "name": "stdout",
     "output_type": "stream",
     "text": [
      "已保存 ./data/Github/split\\SEAL_train_pos_batch54.pt，当前内存占用率 69.2%\n"
     ]
    },
    {
     "name": "stderr",
     "output_type": "stream",
     "text": [
      "保存 ./data/Github/split\\SEAL_train_pos 分批文件:  35%|███▌      | 56/158 [01:09<02:26,  1.43s/batch]"
     ]
    },
    {
     "name": "stdout",
     "output_type": "stream",
     "text": [
      "已保存 ./data/Github/split\\SEAL_train_pos_batch55.pt，当前内存占用率 68.8%\n"
     ]
    },
    {
     "name": "stderr",
     "output_type": "stream",
     "text": [
      "保存 ./data/Github/split\\SEAL_train_pos 分批文件:  36%|███▌      | 57/158 [01:11<02:21,  1.40s/batch]"
     ]
    },
    {
     "name": "stdout",
     "output_type": "stream",
     "text": [
      "已保存 ./data/Github/split\\SEAL_train_pos_batch56.pt，当前内存占用率 68.9%\n"
     ]
    },
    {
     "name": "stderr",
     "output_type": "stream",
     "text": [
      "保存 ./data/Github/split\\SEAL_train_pos 分批文件:  37%|███▋      | 58/158 [01:12<02:16,  1.37s/batch]"
     ]
    },
    {
     "name": "stdout",
     "output_type": "stream",
     "text": [
      "已保存 ./data/Github/split\\SEAL_train_pos_batch57.pt，当前内存占用率 69.1%\n"
     ]
    },
    {
     "name": "stderr",
     "output_type": "stream",
     "text": [
      "保存 ./data/Github/split\\SEAL_train_pos 分批文件:  37%|███▋      | 59/158 [01:13<02:08,  1.30s/batch]"
     ]
    },
    {
     "name": "stdout",
     "output_type": "stream",
     "text": [
      "已保存 ./data/Github/split\\SEAL_train_pos_batch58.pt，当前内存占用率 69.5%\n"
     ]
    },
    {
     "name": "stderr",
     "output_type": "stream",
     "text": [
      "保存 ./data/Github/split\\SEAL_train_pos 分批文件:  38%|███▊      | 60/158 [01:15<02:12,  1.35s/batch]"
     ]
    },
    {
     "name": "stdout",
     "output_type": "stream",
     "text": [
      "已保存 ./data/Github/split\\SEAL_train_pos_batch59.pt，当前内存占用率 69.5%\n"
     ]
    },
    {
     "name": "stderr",
     "output_type": "stream",
     "text": [
      "保存 ./data/Github/split\\SEAL_train_pos 分批文件:  39%|███▊      | 61/158 [01:17<02:32,  1.58s/batch]"
     ]
    },
    {
     "name": "stdout",
     "output_type": "stream",
     "text": [
      "已保存 ./data/Github/split\\SEAL_train_pos_batch60.pt，当前内存占用率 69.3%\n"
     ]
    },
    {
     "name": "stderr",
     "output_type": "stream",
     "text": [
      "保存 ./data/Github/split\\SEAL_train_pos 分批文件:  39%|███▉      | 62/158 [01:18<02:27,  1.54s/batch]"
     ]
    },
    {
     "name": "stdout",
     "output_type": "stream",
     "text": [
      "已保存 ./data/Github/split\\SEAL_train_pos_batch61.pt，当前内存占用率 69.3%\n"
     ]
    },
    {
     "name": "stderr",
     "output_type": "stream",
     "text": [
      "保存 ./data/Github/split\\SEAL_train_pos 分批文件:  40%|███▉      | 63/158 [01:19<02:17,  1.45s/batch]"
     ]
    },
    {
     "name": "stdout",
     "output_type": "stream",
     "text": [
      "已保存 ./data/Github/split\\SEAL_train_pos_batch62.pt，当前内存占用率 69.2%\n"
     ]
    },
    {
     "name": "stderr",
     "output_type": "stream",
     "text": [
      "保存 ./data/Github/split\\SEAL_train_pos 分批文件:  41%|████      | 64/158 [01:21<02:15,  1.44s/batch]"
     ]
    },
    {
     "name": "stdout",
     "output_type": "stream",
     "text": [
      "已保存 ./data/Github/split\\SEAL_train_pos_batch63.pt，当前内存占用率 69.4%\n"
     ]
    },
    {
     "name": "stderr",
     "output_type": "stream",
     "text": [
      "保存 ./data/Github/split\\SEAL_train_pos 分批文件:  41%|████      | 65/158 [01:22<02:15,  1.45s/batch]"
     ]
    },
    {
     "name": "stdout",
     "output_type": "stream",
     "text": [
      "已保存 ./data/Github/split\\SEAL_train_pos_batch64.pt，当前内存占用率 69.6%\n"
     ]
    },
    {
     "name": "stderr",
     "output_type": "stream",
     "text": [
      "保存 ./data/Github/split\\SEAL_train_pos 分批文件:  42%|████▏     | 66/158 [01:24<02:17,  1.49s/batch]"
     ]
    },
    {
     "name": "stdout",
     "output_type": "stream",
     "text": [
      "已保存 ./data/Github/split\\SEAL_train_pos_batch65.pt，当前内存占用率 69.2%\n"
     ]
    },
    {
     "name": "stderr",
     "output_type": "stream",
     "text": [
      "保存 ./data/Github/split\\SEAL_train_pos 分批文件:  42%|████▏     | 67/158 [01:25<02:13,  1.46s/batch]"
     ]
    },
    {
     "name": "stdout",
     "output_type": "stream",
     "text": [
      "已保存 ./data/Github/split\\SEAL_train_pos_batch66.pt，当前内存占用率 69.3%\n"
     ]
    },
    {
     "name": "stderr",
     "output_type": "stream",
     "text": [
      "保存 ./data/Github/split\\SEAL_train_pos 分批文件:  43%|████▎     | 68/158 [01:27<02:09,  1.43s/batch]"
     ]
    },
    {
     "name": "stdout",
     "output_type": "stream",
     "text": [
      "已保存 ./data/Github/split\\SEAL_train_pos_batch67.pt，当前内存占用率 69.1%\n"
     ]
    },
    {
     "name": "stderr",
     "output_type": "stream",
     "text": [
      "保存 ./data/Github/split\\SEAL_train_pos 分批文件:  44%|████▎     | 69/158 [01:28<02:08,  1.44s/batch]"
     ]
    },
    {
     "name": "stdout",
     "output_type": "stream",
     "text": [
      "已保存 ./data/Github/split\\SEAL_train_pos_batch68.pt，当前内存占用率 69.3%\n"
     ]
    },
    {
     "name": "stderr",
     "output_type": "stream",
     "text": [
      "保存 ./data/Github/split\\SEAL_train_pos 分批文件:  44%|████▍     | 70/158 [01:30<02:22,  1.62s/batch]"
     ]
    },
    {
     "name": "stdout",
     "output_type": "stream",
     "text": [
      "已保存 ./data/Github/split\\SEAL_train_pos_batch69.pt，当前内存占用率 69.1%\n"
     ]
    },
    {
     "name": "stderr",
     "output_type": "stream",
     "text": [
      "保存 ./data/Github/split\\SEAL_train_pos 分批文件:  45%|████▍     | 71/158 [01:31<02:12,  1.52s/batch]"
     ]
    },
    {
     "name": "stdout",
     "output_type": "stream",
     "text": [
      "已保存 ./data/Github/split\\SEAL_train_pos_batch70.pt，当前内存占用率 68.9%\n"
     ]
    },
    {
     "name": "stderr",
     "output_type": "stream",
     "text": [
      "保存 ./data/Github/split\\SEAL_train_pos 分批文件:  46%|████▌     | 72/158 [01:33<02:04,  1.44s/batch]"
     ]
    },
    {
     "name": "stdout",
     "output_type": "stream",
     "text": [
      "已保存 ./data/Github/split\\SEAL_train_pos_batch71.pt，当前内存占用率 69.3%\n"
     ]
    },
    {
     "name": "stderr",
     "output_type": "stream",
     "text": [
      "保存 ./data/Github/split\\SEAL_train_pos 分批文件:  46%|████▌     | 73/158 [01:34<01:59,  1.41s/batch]"
     ]
    },
    {
     "name": "stdout",
     "output_type": "stream",
     "text": [
      "已保存 ./data/Github/split\\SEAL_train_pos_batch72.pt，当前内存占用率 69.6%\n"
     ]
    },
    {
     "name": "stderr",
     "output_type": "stream",
     "text": [
      "保存 ./data/Github/split\\SEAL_train_pos 分批文件:  47%|████▋     | 74/158 [01:35<01:54,  1.36s/batch]"
     ]
    },
    {
     "name": "stdout",
     "output_type": "stream",
     "text": [
      "已保存 ./data/Github/split\\SEAL_train_pos_batch73.pt，当前内存占用率 69.2%\n"
     ]
    },
    {
     "name": "stderr",
     "output_type": "stream",
     "text": [
      "保存 ./data/Github/split\\SEAL_train_pos 分批文件:  47%|████▋     | 75/158 [01:37<01:53,  1.36s/batch]"
     ]
    },
    {
     "name": "stdout",
     "output_type": "stream",
     "text": [
      "已保存 ./data/Github/split\\SEAL_train_pos_batch74.pt，当前内存占用率 69.7%\n"
     ]
    },
    {
     "name": "stderr",
     "output_type": "stream",
     "text": [
      "保存 ./data/Github/split\\SEAL_train_pos 分批文件:  48%|████▊     | 76/158 [01:38<01:51,  1.36s/batch]"
     ]
    },
    {
     "name": "stdout",
     "output_type": "stream",
     "text": [
      "已保存 ./data/Github/split\\SEAL_train_pos_batch75.pt，当前内存占用率 69.6%\n"
     ]
    },
    {
     "name": "stderr",
     "output_type": "stream",
     "text": [
      "保存 ./data/Github/split\\SEAL_train_pos 分批文件:  49%|████▊     | 77/158 [01:39<01:48,  1.34s/batch]"
     ]
    },
    {
     "name": "stdout",
     "output_type": "stream",
     "text": [
      "已保存 ./data/Github/split\\SEAL_train_pos_batch76.pt，当前内存占用率 69.2%\n"
     ]
    },
    {
     "name": "stderr",
     "output_type": "stream",
     "text": [
      "保存 ./data/Github/split\\SEAL_train_pos 分批文件:  49%|████▉     | 78/158 [01:41<01:46,  1.33s/batch]"
     ]
    },
    {
     "name": "stdout",
     "output_type": "stream",
     "text": [
      "已保存 ./data/Github/split\\SEAL_train_pos_batch77.pt，当前内存占用率 69.4%\n"
     ]
    },
    {
     "name": "stderr",
     "output_type": "stream",
     "text": [
      "保存 ./data/Github/split\\SEAL_train_pos 分批文件:  50%|█████     | 79/158 [01:42<01:43,  1.31s/batch]"
     ]
    },
    {
     "name": "stdout",
     "output_type": "stream",
     "text": [
      "已保存 ./data/Github/split\\SEAL_train_pos_batch78.pt，当前内存占用率 69.7%\n"
     ]
    },
    {
     "name": "stderr",
     "output_type": "stream",
     "text": [
      "保存 ./data/Github/split\\SEAL_train_pos 分批文件:  51%|█████     | 80/158 [01:43<01:41,  1.30s/batch]"
     ]
    },
    {
     "name": "stdout",
     "output_type": "stream",
     "text": [
      "已保存 ./data/Github/split\\SEAL_train_pos_batch79.pt，当前内存占用率 69.4%\n"
     ]
    },
    {
     "name": "stderr",
     "output_type": "stream",
     "text": [
      "保存 ./data/Github/split\\SEAL_train_pos 分批文件:  51%|█████▏    | 81/158 [01:44<01:38,  1.28s/batch]"
     ]
    },
    {
     "name": "stdout",
     "output_type": "stream",
     "text": [
      "已保存 ./data/Github/split\\SEAL_train_pos_batch80.pt，当前内存占用率 69.9%\n"
     ]
    },
    {
     "name": "stderr",
     "output_type": "stream",
     "text": [
      "保存 ./data/Github/split\\SEAL_train_pos 分批文件:  52%|█████▏    | 82/158 [01:46<01:35,  1.26s/batch]"
     ]
    },
    {
     "name": "stdout",
     "output_type": "stream",
     "text": [
      "已保存 ./data/Github/split\\SEAL_train_pos_batch81.pt，当前内存占用率 69.8%\n"
     ]
    },
    {
     "name": "stderr",
     "output_type": "stream",
     "text": [
      "保存 ./data/Github/split\\SEAL_train_pos 分批文件:  53%|█████▎    | 83/158 [01:47<01:38,  1.31s/batch]"
     ]
    },
    {
     "name": "stdout",
     "output_type": "stream",
     "text": [
      "已保存 ./data/Github/split\\SEAL_train_pos_batch82.pt，当前内存占用率 70.1%\n"
     ]
    },
    {
     "name": "stderr",
     "output_type": "stream",
     "text": [
      "保存 ./data/Github/split\\SEAL_train_pos 分批文件:  53%|█████▎    | 84/158 [01:48<01:30,  1.22s/batch]"
     ]
    },
    {
     "name": "stdout",
     "output_type": "stream",
     "text": [
      "已保存 ./data/Github/split\\SEAL_train_pos_batch83.pt，当前内存占用率 70.0%\n"
     ]
    },
    {
     "name": "stderr",
     "output_type": "stream",
     "text": [
      "保存 ./data/Github/split\\SEAL_train_pos 分批文件:  54%|█████▍    | 85/158 [01:49<01:26,  1.18s/batch]"
     ]
    },
    {
     "name": "stdout",
     "output_type": "stream",
     "text": [
      "已保存 ./data/Github/split\\SEAL_train_pos_batch84.pt，当前内存占用率 69.9%\n"
     ]
    },
    {
     "name": "stderr",
     "output_type": "stream",
     "text": [
      "保存 ./data/Github/split\\SEAL_train_pos 分批文件:  54%|█████▍    | 86/158 [01:50<01:21,  1.14s/batch]"
     ]
    },
    {
     "name": "stdout",
     "output_type": "stream",
     "text": [
      "已保存 ./data/Github/split\\SEAL_train_pos_batch85.pt，当前内存占用率 69.7%\n"
     ]
    },
    {
     "name": "stderr",
     "output_type": "stream",
     "text": [
      "保存 ./data/Github/split\\SEAL_train_pos 分批文件:  55%|█████▌    | 87/158 [01:51<01:20,  1.14s/batch]"
     ]
    },
    {
     "name": "stdout",
     "output_type": "stream",
     "text": [
      "已保存 ./data/Github/split\\SEAL_train_pos_batch86.pt，当前内存占用率 70.0%\n"
     ]
    },
    {
     "name": "stderr",
     "output_type": "stream",
     "text": [
      "保存 ./data/Github/split\\SEAL_train_pos 分批文件:  56%|█████▌    | 88/158 [01:53<01:25,  1.22s/batch]"
     ]
    },
    {
     "name": "stdout",
     "output_type": "stream",
     "text": [
      "已保存 ./data/Github/split\\SEAL_train_pos_batch87.pt，当前内存占用率 69.7%\n"
     ]
    },
    {
     "name": "stderr",
     "output_type": "stream",
     "text": [
      "保存 ./data/Github/split\\SEAL_train_pos 分批文件:  56%|█████▋    | 89/158 [01:54<01:24,  1.22s/batch]"
     ]
    },
    {
     "name": "stdout",
     "output_type": "stream",
     "text": [
      "已保存 ./data/Github/split\\SEAL_train_pos_batch88.pt，当前内存占用率 70.2%\n"
     ]
    },
    {
     "name": "stderr",
     "output_type": "stream",
     "text": [
      "保存 ./data/Github/split\\SEAL_train_pos 分批文件:  57%|█████▋    | 90/158 [01:55<01:24,  1.25s/batch]"
     ]
    },
    {
     "name": "stdout",
     "output_type": "stream",
     "text": [
      "已保存 ./data/Github/split\\SEAL_train_pos_batch89.pt，当前内存占用率 70.2%\n"
     ]
    },
    {
     "name": "stderr",
     "output_type": "stream",
     "text": [
      "保存 ./data/Github/split\\SEAL_train_pos 分批文件:  58%|█████▊    | 91/158 [01:57<01:23,  1.24s/batch]"
     ]
    },
    {
     "name": "stdout",
     "output_type": "stream",
     "text": [
      "已保存 ./data/Github/split\\SEAL_train_pos_batch90.pt，当前内存占用率 70.3%\n"
     ]
    },
    {
     "name": "stderr",
     "output_type": "stream",
     "text": [
      "保存 ./data/Github/split\\SEAL_train_pos 分批文件:  58%|█████▊    | 92/158 [01:58<01:23,  1.27s/batch]"
     ]
    },
    {
     "name": "stdout",
     "output_type": "stream",
     "text": [
      "已保存 ./data/Github/split\\SEAL_train_pos_batch91.pt，当前内存占用率 70.2%\n"
     ]
    },
    {
     "name": "stderr",
     "output_type": "stream",
     "text": [
      "保存 ./data/Github/split\\SEAL_train_pos 分批文件:  59%|█████▉    | 93/158 [01:59<01:24,  1.30s/batch]"
     ]
    },
    {
     "name": "stdout",
     "output_type": "stream",
     "text": [
      "已保存 ./data/Github/split\\SEAL_train_pos_batch92.pt，当前内存占用率 70.4%\n"
     ]
    },
    {
     "name": "stderr",
     "output_type": "stream",
     "text": [
      "保存 ./data/Github/split\\SEAL_train_pos 分批文件:  59%|█████▉    | 94/158 [02:01<01:22,  1.29s/batch]"
     ]
    },
    {
     "name": "stdout",
     "output_type": "stream",
     "text": [
      "已保存 ./data/Github/split\\SEAL_train_pos_batch93.pt，当前内存占用率 70.0%\n"
     ]
    },
    {
     "name": "stderr",
     "output_type": "stream",
     "text": [
      "保存 ./data/Github/split\\SEAL_train_pos 分批文件:  60%|██████    | 95/158 [02:02<01:23,  1.32s/batch]"
     ]
    },
    {
     "name": "stdout",
     "output_type": "stream",
     "text": [
      "已保存 ./data/Github/split\\SEAL_train_pos_batch94.pt，当前内存占用率 69.8%\n"
     ]
    },
    {
     "name": "stderr",
     "output_type": "stream",
     "text": [
      "保存 ./data/Github/split\\SEAL_train_pos 分批文件:  61%|██████    | 96/158 [02:03<01:19,  1.28s/batch]"
     ]
    },
    {
     "name": "stdout",
     "output_type": "stream",
     "text": [
      "已保存 ./data/Github/split\\SEAL_train_pos_batch95.pt，当前内存占用率 69.9%\n"
     ]
    },
    {
     "name": "stderr",
     "output_type": "stream",
     "text": [
      "保存 ./data/Github/split\\SEAL_train_pos 分批文件:  61%|██████▏   | 97/158 [02:05<01:26,  1.42s/batch]"
     ]
    },
    {
     "name": "stdout",
     "output_type": "stream",
     "text": [
      "已保存 ./data/Github/split\\SEAL_train_pos_batch96.pt，当前内存占用率 70.3%\n"
     ]
    },
    {
     "name": "stderr",
     "output_type": "stream",
     "text": [
      "保存 ./data/Github/split\\SEAL_train_pos 分批文件:  62%|██████▏   | 98/158 [02:06<01:23,  1.40s/batch]"
     ]
    },
    {
     "name": "stdout",
     "output_type": "stream",
     "text": [
      "已保存 ./data/Github/split\\SEAL_train_pos_batch97.pt，当前内存占用率 69.7%\n"
     ]
    },
    {
     "name": "stderr",
     "output_type": "stream",
     "text": [
      "保存 ./data/Github/split\\SEAL_train_pos 分批文件:  63%|██████▎   | 99/158 [02:08<01:26,  1.46s/batch]"
     ]
    },
    {
     "name": "stdout",
     "output_type": "stream",
     "text": [
      "已保存 ./data/Github/split\\SEAL_train_pos_batch98.pt，当前内存占用率 69.9%\n"
     ]
    },
    {
     "name": "stderr",
     "output_type": "stream",
     "text": [
      "保存 ./data/Github/split\\SEAL_train_pos 分批文件:  63%|██████▎   | 100/158 [02:09<01:20,  1.39s/batch]"
     ]
    },
    {
     "name": "stdout",
     "output_type": "stream",
     "text": [
      "已保存 ./data/Github/split\\SEAL_train_pos_batch99.pt，当前内存占用率 69.7%\n"
     ]
    },
    {
     "name": "stderr",
     "output_type": "stream",
     "text": [
      "保存 ./data/Github/split\\SEAL_train_pos 分批文件:  64%|██████▍   | 101/158 [02:10<01:17,  1.36s/batch]"
     ]
    },
    {
     "name": "stdout",
     "output_type": "stream",
     "text": [
      "已保存 ./data/Github/split\\SEAL_train_pos_batch100.pt，当前内存占用率 69.9%\n"
     ]
    },
    {
     "name": "stderr",
     "output_type": "stream",
     "text": [
      "保存 ./data/Github/split\\SEAL_train_pos 分批文件:  65%|██████▍   | 102/158 [02:12<01:16,  1.36s/batch]"
     ]
    },
    {
     "name": "stdout",
     "output_type": "stream",
     "text": [
      "已保存 ./data/Github/split\\SEAL_train_pos_batch101.pt，当前内存占用率 69.9%\n"
     ]
    },
    {
     "name": "stderr",
     "output_type": "stream",
     "text": [
      "保存 ./data/Github/split\\SEAL_train_pos 分批文件:  65%|██████▌   | 103/158 [02:13<01:11,  1.30s/batch]"
     ]
    },
    {
     "name": "stdout",
     "output_type": "stream",
     "text": [
      "已保存 ./data/Github/split\\SEAL_train_pos_batch102.pt，当前内存占用率 69.8%\n"
     ]
    },
    {
     "name": "stderr",
     "output_type": "stream",
     "text": [
      "保存 ./data/Github/split\\SEAL_train_pos 分批文件:  66%|██████▌   | 104/158 [02:14<01:13,  1.35s/batch]"
     ]
    },
    {
     "name": "stdout",
     "output_type": "stream",
     "text": [
      "已保存 ./data/Github/split\\SEAL_train_pos_batch103.pt，当前内存占用率 69.7%\n"
     ]
    },
    {
     "name": "stderr",
     "output_type": "stream",
     "text": [
      "保存 ./data/Github/split\\SEAL_train_pos 分批文件:  66%|██████▋   | 105/158 [02:16<01:13,  1.38s/batch]"
     ]
    },
    {
     "name": "stdout",
     "output_type": "stream",
     "text": [
      "已保存 ./data/Github/split\\SEAL_train_pos_batch104.pt，当前内存占用率 69.8%\n"
     ]
    },
    {
     "name": "stderr",
     "output_type": "stream",
     "text": [
      "保存 ./data/Github/split\\SEAL_train_pos 分批文件:  67%|██████▋   | 106/158 [02:17<01:15,  1.45s/batch]"
     ]
    },
    {
     "name": "stdout",
     "output_type": "stream",
     "text": [
      "已保存 ./data/Github/split\\SEAL_train_pos_batch105.pt，当前内存占用率 70.1%\n"
     ]
    },
    {
     "name": "stderr",
     "output_type": "stream",
     "text": [
      "保存 ./data/Github/split\\SEAL_train_pos 分批文件:  68%|██████▊   | 107/158 [02:19<01:15,  1.47s/batch]"
     ]
    },
    {
     "name": "stdout",
     "output_type": "stream",
     "text": [
      "已保存 ./data/Github/split\\SEAL_train_pos_batch106.pt，当前内存占用率 69.8%\n"
     ]
    },
    {
     "name": "stderr",
     "output_type": "stream",
     "text": [
      "保存 ./data/Github/split\\SEAL_train_pos 分批文件:  68%|██████▊   | 108/158 [02:20<01:14,  1.49s/batch]"
     ]
    },
    {
     "name": "stdout",
     "output_type": "stream",
     "text": [
      "已保存 ./data/Github/split\\SEAL_train_pos_batch107.pt，当前内存占用率 69.5%\n"
     ]
    },
    {
     "name": "stderr",
     "output_type": "stream",
     "text": [
      "保存 ./data/Github/split\\SEAL_train_pos 分批文件:  69%|██████▉   | 109/158 [02:22<01:10,  1.45s/batch]"
     ]
    },
    {
     "name": "stdout",
     "output_type": "stream",
     "text": [
      "已保存 ./data/Github/split\\SEAL_train_pos_batch108.pt，当前内存占用率 69.7%\n"
     ]
    },
    {
     "name": "stderr",
     "output_type": "stream",
     "text": [
      "保存 ./data/Github/split\\SEAL_train_pos 分批文件:  70%|██████▉   | 110/158 [02:23<01:06,  1.39s/batch]"
     ]
    },
    {
     "name": "stdout",
     "output_type": "stream",
     "text": [
      "已保存 ./data/Github/split\\SEAL_train_pos_batch109.pt，当前内存占用率 69.4%\n"
     ]
    },
    {
     "name": "stderr",
     "output_type": "stream",
     "text": [
      "保存 ./data/Github/split\\SEAL_train_pos 分批文件:  70%|███████   | 111/158 [02:25<01:08,  1.45s/batch]"
     ]
    },
    {
     "name": "stdout",
     "output_type": "stream",
     "text": [
      "已保存 ./data/Github/split\\SEAL_train_pos_batch110.pt，当前内存占用率 69.8%\n"
     ]
    },
    {
     "name": "stderr",
     "output_type": "stream",
     "text": [
      "保存 ./data/Github/split\\SEAL_train_pos 分批文件:  71%|███████   | 112/158 [02:26<01:13,  1.59s/batch]"
     ]
    },
    {
     "name": "stdout",
     "output_type": "stream",
     "text": [
      "已保存 ./data/Github/split\\SEAL_train_pos_batch111.pt，当前内存占用率 69.4%\n"
     ]
    },
    {
     "name": "stderr",
     "output_type": "stream",
     "text": [
      "保存 ./data/Github/split\\SEAL_train_pos 分批文件:  72%|███████▏  | 113/158 [02:28<01:07,  1.50s/batch]"
     ]
    },
    {
     "name": "stdout",
     "output_type": "stream",
     "text": [
      "已保存 ./data/Github/split\\SEAL_train_pos_batch112.pt，当前内存占用率 69.3%\n"
     ]
    },
    {
     "name": "stderr",
     "output_type": "stream",
     "text": [
      "保存 ./data/Github/split\\SEAL_train_pos 分批文件:  72%|███████▏  | 114/158 [02:29<01:01,  1.39s/batch]"
     ]
    },
    {
     "name": "stdout",
     "output_type": "stream",
     "text": [
      "已保存 ./data/Github/split\\SEAL_train_pos_batch113.pt，当前内存占用率 69.4%\n"
     ]
    },
    {
     "name": "stderr",
     "output_type": "stream",
     "text": [
      "保存 ./data/Github/split\\SEAL_train_pos 分批文件:  73%|███████▎  | 115/158 [02:30<00:59,  1.38s/batch]"
     ]
    },
    {
     "name": "stdout",
     "output_type": "stream",
     "text": [
      "已保存 ./data/Github/split\\SEAL_train_pos_batch114.pt，当前内存占用率 69.5%\n"
     ]
    },
    {
     "name": "stderr",
     "output_type": "stream",
     "text": [
      "保存 ./data/Github/split\\SEAL_train_pos 分批文件:  73%|███████▎  | 116/158 [02:32<00:57,  1.38s/batch]"
     ]
    },
    {
     "name": "stdout",
     "output_type": "stream",
     "text": [
      "已保存 ./data/Github/split\\SEAL_train_pos_batch115.pt，当前内存占用率 69.6%\n"
     ]
    },
    {
     "name": "stderr",
     "output_type": "stream",
     "text": [
      "保存 ./data/Github/split\\SEAL_train_pos 分批文件:  74%|███████▍  | 117/158 [02:34<01:02,  1.53s/batch]"
     ]
    },
    {
     "name": "stdout",
     "output_type": "stream",
     "text": [
      "已保存 ./data/Github/split\\SEAL_train_pos_batch116.pt，当前内存占用率 69.6%\n"
     ]
    },
    {
     "name": "stderr",
     "output_type": "stream",
     "text": [
      "保存 ./data/Github/split\\SEAL_train_pos 分批文件:  75%|███████▍  | 118/158 [02:35<00:57,  1.43s/batch]"
     ]
    },
    {
     "name": "stdout",
     "output_type": "stream",
     "text": [
      "已保存 ./data/Github/split\\SEAL_train_pos_batch117.pt，当前内存占用率 69.5%\n"
     ]
    },
    {
     "name": "stderr",
     "output_type": "stream",
     "text": [
      "保存 ./data/Github/split\\SEAL_train_pos 分批文件:  75%|███████▌  | 119/158 [02:36<00:53,  1.38s/batch]"
     ]
    },
    {
     "name": "stdout",
     "output_type": "stream",
     "text": [
      "已保存 ./data/Github/split\\SEAL_train_pos_batch118.pt，当前内存占用率 69.4%\n"
     ]
    },
    {
     "name": "stderr",
     "output_type": "stream",
     "text": [
      "保存 ./data/Github/split\\SEAL_train_pos 分批文件:  76%|███████▌  | 120/158 [02:37<00:52,  1.39s/batch]"
     ]
    },
    {
     "name": "stdout",
     "output_type": "stream",
     "text": [
      "已保存 ./data/Github/split\\SEAL_train_pos_batch119.pt，当前内存占用率 69.5%\n"
     ]
    },
    {
     "name": "stderr",
     "output_type": "stream",
     "text": [
      "保存 ./data/Github/split\\SEAL_train_pos 分批文件:  77%|███████▋  | 121/158 [02:39<00:57,  1.56s/batch]"
     ]
    },
    {
     "name": "stdout",
     "output_type": "stream",
     "text": [
      "已保存 ./data/Github/split\\SEAL_train_pos_batch120.pt，当前内存占用率 69.2%\n"
     ]
    },
    {
     "name": "stderr",
     "output_type": "stream",
     "text": [
      "保存 ./data/Github/split\\SEAL_train_pos 分批文件:  77%|███████▋  | 122/158 [02:41<00:55,  1.54s/batch]"
     ]
    },
    {
     "name": "stdout",
     "output_type": "stream",
     "text": [
      "已保存 ./data/Github/split\\SEAL_train_pos_batch121.pt，当前内存占用率 69.3%\n"
     ]
    },
    {
     "name": "stderr",
     "output_type": "stream",
     "text": [
      "保存 ./data/Github/split\\SEAL_train_pos 分批文件:  78%|███████▊  | 123/158 [02:42<00:51,  1.47s/batch]"
     ]
    },
    {
     "name": "stdout",
     "output_type": "stream",
     "text": [
      "已保存 ./data/Github/split\\SEAL_train_pos_batch122.pt，当前内存占用率 69.6%\n"
     ]
    },
    {
     "name": "stderr",
     "output_type": "stream",
     "text": [
      "保存 ./data/Github/split\\SEAL_train_pos 分批文件:  78%|███████▊  | 124/158 [02:43<00:48,  1.43s/batch]"
     ]
    },
    {
     "name": "stdout",
     "output_type": "stream",
     "text": [
      "已保存 ./data/Github/split\\SEAL_train_pos_batch123.pt，当前内存占用率 69.5%\n"
     ]
    },
    {
     "name": "stderr",
     "output_type": "stream",
     "text": [
      "保存 ./data/Github/split\\SEAL_train_pos 分批文件:  79%|███████▉  | 125/158 [02:45<00:42,  1.30s/batch]"
     ]
    },
    {
     "name": "stdout",
     "output_type": "stream",
     "text": [
      "已保存 ./data/Github/split\\SEAL_train_pos_batch124.pt，当前内存占用率 69.8%\n"
     ]
    },
    {
     "name": "stderr",
     "output_type": "stream",
     "text": [
      "保存 ./data/Github/split\\SEAL_train_pos 分批文件:  80%|███████▉  | 126/158 [02:46<00:40,  1.26s/batch]"
     ]
    },
    {
     "name": "stdout",
     "output_type": "stream",
     "text": [
      "已保存 ./data/Github/split\\SEAL_train_pos_batch125.pt，当前内存占用率 69.7%\n"
     ]
    },
    {
     "name": "stderr",
     "output_type": "stream",
     "text": [
      "保存 ./data/Github/split\\SEAL_train_pos 分批文件:  80%|████████  | 127/158 [02:47<00:39,  1.26s/batch]"
     ]
    },
    {
     "name": "stdout",
     "output_type": "stream",
     "text": [
      "已保存 ./data/Github/split\\SEAL_train_pos_batch126.pt，当前内存占用率 69.8%\n"
     ]
    },
    {
     "name": "stderr",
     "output_type": "stream",
     "text": [
      "保存 ./data/Github/split\\SEAL_train_pos 分批文件:  81%|████████  | 128/158 [02:48<00:36,  1.23s/batch]"
     ]
    },
    {
     "name": "stdout",
     "output_type": "stream",
     "text": [
      "已保存 ./data/Github/split\\SEAL_train_pos_batch127.pt，当前内存占用率 69.5%\n"
     ]
    },
    {
     "name": "stderr",
     "output_type": "stream",
     "text": [
      "保存 ./data/Github/split\\SEAL_train_pos 分批文件:  82%|████████▏ | 129/158 [02:49<00:34,  1.20s/batch]"
     ]
    },
    {
     "name": "stdout",
     "output_type": "stream",
     "text": [
      "已保存 ./data/Github/split\\SEAL_train_pos_batch128.pt，当前内存占用率 69.6%\n"
     ]
    },
    {
     "name": "stderr",
     "output_type": "stream",
     "text": [
      "保存 ./data/Github/split\\SEAL_train_pos 分批文件:  82%|████████▏ | 130/158 [02:50<00:33,  1.21s/batch]"
     ]
    },
    {
     "name": "stdout",
     "output_type": "stream",
     "text": [
      "已保存 ./data/Github/split\\SEAL_train_pos_batch129.pt，当前内存占用率 69.7%\n"
     ]
    },
    {
     "name": "stderr",
     "output_type": "stream",
     "text": [
      "保存 ./data/Github/split\\SEAL_train_pos 分批文件:  83%|████████▎ | 131/158 [02:52<00:32,  1.19s/batch]"
     ]
    },
    {
     "name": "stdout",
     "output_type": "stream",
     "text": [
      "已保存 ./data/Github/split\\SEAL_train_pos_batch130.pt，当前内存占用率 69.8%\n"
     ]
    },
    {
     "name": "stderr",
     "output_type": "stream",
     "text": [
      "保存 ./data/Github/split\\SEAL_train_pos 分批文件:  84%|████████▎ | 132/158 [02:53<00:30,  1.18s/batch]"
     ]
    },
    {
     "name": "stdout",
     "output_type": "stream",
     "text": [
      "已保存 ./data/Github/split\\SEAL_train_pos_batch131.pt，当前内存占用率 70.0%\n"
     ]
    },
    {
     "name": "stderr",
     "output_type": "stream",
     "text": [
      "保存 ./data/Github/split\\SEAL_train_pos 分批文件:  84%|████████▍ | 133/158 [02:54<00:31,  1.25s/batch]"
     ]
    },
    {
     "name": "stdout",
     "output_type": "stream",
     "text": [
      "已保存 ./data/Github/split\\SEAL_train_pos_batch132.pt，当前内存占用率 69.7%\n"
     ]
    },
    {
     "name": "stderr",
     "output_type": "stream",
     "text": [
      "保存 ./data/Github/split\\SEAL_train_pos 分批文件:  85%|████████▍ | 134/158 [02:56<00:30,  1.28s/batch]"
     ]
    },
    {
     "name": "stdout",
     "output_type": "stream",
     "text": [
      "已保存 ./data/Github/split\\SEAL_train_pos_batch133.pt，当前内存占用率 69.8%\n"
     ]
    },
    {
     "name": "stderr",
     "output_type": "stream",
     "text": [
      "保存 ./data/Github/split\\SEAL_train_pos 分批文件:  85%|████████▌ | 135/158 [02:57<00:28,  1.25s/batch]"
     ]
    },
    {
     "name": "stdout",
     "output_type": "stream",
     "text": [
      "已保存 ./data/Github/split\\SEAL_train_pos_batch134.pt，当前内存占用率 69.9%\n"
     ]
    },
    {
     "name": "stderr",
     "output_type": "stream",
     "text": [
      "保存 ./data/Github/split\\SEAL_train_pos 分批文件:  86%|████████▌ | 136/158 [02:58<00:27,  1.26s/batch]"
     ]
    },
    {
     "name": "stdout",
     "output_type": "stream",
     "text": [
      "已保存 ./data/Github/split\\SEAL_train_pos_batch135.pt，当前内存占用率 69.9%\n",
      "已保存 ./data/Github/split\\SEAL_train_pos_batch136.pt，当前内存占用率 70.0%\n"
     ]
    },
    {
     "name": "stderr",
     "output_type": "stream",
     "text": [
      "保存 ./data/Github/split\\SEAL_train_pos 分批文件:  87%|████████▋ | 138/158 [03:01<00:26,  1.35s/batch]"
     ]
    },
    {
     "name": "stdout",
     "output_type": "stream",
     "text": [
      "已保存 ./data/Github/split\\SEAL_train_pos_batch137.pt，当前内存占用率 70.0%\n"
     ]
    },
    {
     "name": "stderr",
     "output_type": "stream",
     "text": [
      "保存 ./data/Github/split\\SEAL_train_pos 分批文件:  88%|████████▊ | 139/158 [03:02<00:26,  1.41s/batch]"
     ]
    },
    {
     "name": "stdout",
     "output_type": "stream",
     "text": [
      "已保存 ./data/Github/split\\SEAL_train_pos_batch138.pt，当前内存占用率 69.9%\n"
     ]
    },
    {
     "name": "stderr",
     "output_type": "stream",
     "text": [
      "保存 ./data/Github/split\\SEAL_train_pos 分批文件:  89%|████████▊ | 140/158 [03:05<00:29,  1.63s/batch]"
     ]
    },
    {
     "name": "stdout",
     "output_type": "stream",
     "text": [
      "已保存 ./data/Github/split\\SEAL_train_pos_batch139.pt，当前内存占用率 69.6%\n"
     ]
    },
    {
     "name": "stderr",
     "output_type": "stream",
     "text": [
      "保存 ./data/Github/split\\SEAL_train_pos 分批文件:  89%|████████▉ | 141/158 [03:06<00:25,  1.53s/batch]"
     ]
    },
    {
     "name": "stdout",
     "output_type": "stream",
     "text": [
      "已保存 ./data/Github/split\\SEAL_train_pos_batch140.pt，当前内存占用率 69.8%\n"
     ]
    },
    {
     "name": "stderr",
     "output_type": "stream",
     "text": [
      "保存 ./data/Github/split\\SEAL_train_pos 分批文件:  90%|████████▉ | 142/158 [03:07<00:22,  1.39s/batch]"
     ]
    },
    {
     "name": "stdout",
     "output_type": "stream",
     "text": [
      "已保存 ./data/Github/split\\SEAL_train_pos_batch141.pt，当前内存占用率 69.6%\n"
     ]
    },
    {
     "name": "stderr",
     "output_type": "stream",
     "text": [
      "保存 ./data/Github/split\\SEAL_train_pos 分批文件:  91%|█████████ | 143/158 [03:08<00:20,  1.38s/batch]"
     ]
    },
    {
     "name": "stdout",
     "output_type": "stream",
     "text": [
      "已保存 ./data/Github/split\\SEAL_train_pos_batch142.pt，当前内存占用率 69.8%\n"
     ]
    },
    {
     "name": "stderr",
     "output_type": "stream",
     "text": [
      "保存 ./data/Github/split\\SEAL_train_pos 分批文件:  91%|█████████ | 144/158 [03:09<00:17,  1.28s/batch]"
     ]
    },
    {
     "name": "stdout",
     "output_type": "stream",
     "text": [
      "已保存 ./data/Github/split\\SEAL_train_pos_batch143.pt，当前内存占用率 69.4%\n"
     ]
    },
    {
     "name": "stderr",
     "output_type": "stream",
     "text": [
      "保存 ./data/Github/split\\SEAL_train_pos 分批文件:  92%|█████████▏| 145/158 [03:11<00:19,  1.50s/batch]"
     ]
    },
    {
     "name": "stdout",
     "output_type": "stream",
     "text": [
      "已保存 ./data/Github/split\\SEAL_train_pos_batch144.pt，当前内存占用率 69.9%\n"
     ]
    },
    {
     "name": "stderr",
     "output_type": "stream",
     "text": [
      "保存 ./data/Github/split\\SEAL_train_pos 分批文件:  92%|█████████▏| 146/158 [03:13<00:17,  1.47s/batch]"
     ]
    },
    {
     "name": "stdout",
     "output_type": "stream",
     "text": [
      "已保存 ./data/Github/split\\SEAL_train_pos_batch145.pt，当前内存占用率 69.8%\n"
     ]
    },
    {
     "name": "stderr",
     "output_type": "stream",
     "text": [
      "保存 ./data/Github/split\\SEAL_train_pos 分批文件:  93%|█████████▎| 147/158 [03:14<00:15,  1.42s/batch]"
     ]
    },
    {
     "name": "stdout",
     "output_type": "stream",
     "text": [
      "已保存 ./data/Github/split\\SEAL_train_pos_batch146.pt，当前内存占用率 69.9%\n"
     ]
    },
    {
     "name": "stderr",
     "output_type": "stream",
     "text": [
      "保存 ./data/Github/split\\SEAL_train_pos 分批文件:  94%|█████████▎| 148/158 [03:15<00:13,  1.35s/batch]"
     ]
    },
    {
     "name": "stdout",
     "output_type": "stream",
     "text": [
      "已保存 ./data/Github/split\\SEAL_train_pos_batch147.pt，当前内存占用率 69.7%\n"
     ]
    },
    {
     "name": "stderr",
     "output_type": "stream",
     "text": [
      "保存 ./data/Github/split\\SEAL_train_pos 分批文件:  94%|█████████▍| 149/158 [03:16<00:11,  1.30s/batch]"
     ]
    },
    {
     "name": "stdout",
     "output_type": "stream",
     "text": [
      "已保存 ./data/Github/split\\SEAL_train_pos_batch148.pt，当前内存占用率 69.8%\n"
     ]
    },
    {
     "name": "stderr",
     "output_type": "stream",
     "text": [
      "保存 ./data/Github/split\\SEAL_train_pos 分批文件:  95%|█████████▍| 150/158 [03:18<00:10,  1.35s/batch]"
     ]
    },
    {
     "name": "stdout",
     "output_type": "stream",
     "text": [
      "已保存 ./data/Github/split\\SEAL_train_pos_batch149.pt，当前内存占用率 69.7%\n"
     ]
    },
    {
     "name": "stderr",
     "output_type": "stream",
     "text": [
      "保存 ./data/Github/split\\SEAL_train_pos 分批文件:  96%|█████████▌| 151/158 [03:19<00:09,  1.40s/batch]"
     ]
    },
    {
     "name": "stdout",
     "output_type": "stream",
     "text": [
      "已保存 ./data/Github/split\\SEAL_train_pos_batch150.pt，当前内存占用率 70.1%\n"
     ]
    },
    {
     "name": "stderr",
     "output_type": "stream",
     "text": [
      "保存 ./data/Github/split\\SEAL_train_pos 分批文件:  96%|█████████▌| 152/158 [03:21<00:08,  1.37s/batch]"
     ]
    },
    {
     "name": "stdout",
     "output_type": "stream",
     "text": [
      "已保存 ./data/Github/split\\SEAL_train_pos_batch151.pt，当前内存占用率 70.0%\n"
     ]
    },
    {
     "name": "stderr",
     "output_type": "stream",
     "text": [
      "保存 ./data/Github/split\\SEAL_train_pos 分批文件:  97%|█████████▋| 153/158 [03:22<00:06,  1.34s/batch]"
     ]
    },
    {
     "name": "stdout",
     "output_type": "stream",
     "text": [
      "已保存 ./data/Github/split\\SEAL_train_pos_batch152.pt，当前内存占用率 69.9%\n"
     ]
    },
    {
     "name": "stderr",
     "output_type": "stream",
     "text": [
      "保存 ./data/Github/split\\SEAL_train_pos 分批文件:  97%|█████████▋| 154/158 [03:23<00:05,  1.30s/batch]"
     ]
    },
    {
     "name": "stdout",
     "output_type": "stream",
     "text": [
      "已保存 ./data/Github/split\\SEAL_train_pos_batch153.pt，当前内存占用率 69.5%\n"
     ]
    },
    {
     "name": "stderr",
     "output_type": "stream",
     "text": [
      "保存 ./data/Github/split\\SEAL_train_pos 分批文件:  98%|█████████▊| 155/158 [03:25<00:04,  1.34s/batch]"
     ]
    },
    {
     "name": "stdout",
     "output_type": "stream",
     "text": [
      "已保存 ./data/Github/split\\SEAL_train_pos_batch154.pt，当前内存占用率 70.0%\n"
     ]
    },
    {
     "name": "stderr",
     "output_type": "stream",
     "text": [
      "保存 ./data/Github/split\\SEAL_train_pos 分批文件:  99%|█████████▊| 156/158 [03:26<00:02,  1.30s/batch]"
     ]
    },
    {
     "name": "stdout",
     "output_type": "stream",
     "text": [
      "已保存 ./data/Github/split\\SEAL_train_pos_batch155.pt，当前内存占用率 70.1%\n"
     ]
    },
    {
     "name": "stderr",
     "output_type": "stream",
     "text": [
      "保存 ./data/Github/split\\SEAL_train_pos 分批文件:  99%|█████████▉| 157/158 [03:27<00:01,  1.35s/batch]"
     ]
    },
    {
     "name": "stdout",
     "output_type": "stream",
     "text": [
      "已保存 ./data/Github/split\\SEAL_train_pos_batch156.pt，当前内存占用率 70.0%\n"
     ]
    },
    {
     "name": "stderr",
     "output_type": "stream",
     "text": [
      "保存 ./data/Github/split\\SEAL_train_pos 分批文件: 100%|██████████| 158/158 [03:28<00:00,  1.32s/batch]\n"
     ]
    },
    {
     "name": "stdout",
     "output_type": "stream",
     "text": [
      "已保存 ./data/Github/split\\SEAL_train_pos_batch157.pt，当前内存占用率 70.2%\n"
     ]
    },
    {
     "name": "stderr",
     "output_type": "stream",
     "text": [
      "保存 ./data/Github/split\\SEAL_train_neg 分批文件:   1%|          | 1/158 [00:00<02:31,  1.04batch/s]"
     ]
    },
    {
     "name": "stdout",
     "output_type": "stream",
     "text": [
      "已保存 ./data/Github/split\\SEAL_train_neg_batch0.pt，当前内存占用率 68.4%\n"
     ]
    },
    {
     "name": "stderr",
     "output_type": "stream",
     "text": [
      "保存 ./data/Github/split\\SEAL_train_neg 分批文件:   1%|▏         | 2/158 [00:01<02:34,  1.01batch/s]"
     ]
    },
    {
     "name": "stdout",
     "output_type": "stream",
     "text": [
      "已保存 ./data/Github/split\\SEAL_train_neg_batch1.pt，当前内存占用率 68.4%\n"
     ]
    },
    {
     "name": "stderr",
     "output_type": "stream",
     "text": [
      "保存 ./data/Github/split\\SEAL_train_neg 分批文件:   2%|▏         | 3/158 [00:02<02:22,  1.09batch/s]"
     ]
    },
    {
     "name": "stdout",
     "output_type": "stream",
     "text": [
      "已保存 ./data/Github/split\\SEAL_train_neg_batch2.pt，当前内存占用率 67.9%\n"
     ]
    },
    {
     "name": "stderr",
     "output_type": "stream",
     "text": [
      "保存 ./data/Github/split\\SEAL_train_neg 分批文件:   3%|▎         | 4/158 [00:03<02:18,  1.11batch/s]"
     ]
    },
    {
     "name": "stdout",
     "output_type": "stream",
     "text": [
      "已保存 ./data/Github/split\\SEAL_train_neg_batch3.pt，当前内存占用率 68.1%\n"
     ]
    },
    {
     "name": "stderr",
     "output_type": "stream",
     "text": [
      "保存 ./data/Github/split\\SEAL_train_neg 分批文件:   3%|▎         | 5/158 [00:04<02:20,  1.09batch/s]"
     ]
    },
    {
     "name": "stdout",
     "output_type": "stream",
     "text": [
      "已保存 ./data/Github/split\\SEAL_train_neg_batch4.pt，当前内存占用率 67.8%\n"
     ]
    },
    {
     "name": "stderr",
     "output_type": "stream",
     "text": [
      "保存 ./data/Github/split\\SEAL_train_neg 分批文件:   4%|▍         | 6/158 [00:05<02:11,  1.16batch/s]"
     ]
    },
    {
     "name": "stdout",
     "output_type": "stream",
     "text": [
      "已保存 ./data/Github/split\\SEAL_train_neg_batch5.pt，当前内存占用率 67.9%\n"
     ]
    },
    {
     "name": "stderr",
     "output_type": "stream",
     "text": [
      "保存 ./data/Github/split\\SEAL_train_neg 分批文件:   4%|▍         | 7/158 [00:06<02:04,  1.21batch/s]"
     ]
    },
    {
     "name": "stdout",
     "output_type": "stream",
     "text": [
      "已保存 ./data/Github/split\\SEAL_train_neg_batch6.pt，当前内存占用率 67.9%\n"
     ]
    },
    {
     "name": "stderr",
     "output_type": "stream",
     "text": [
      "保存 ./data/Github/split\\SEAL_train_neg 分批文件:   5%|▌         | 8/158 [00:06<02:02,  1.23batch/s]"
     ]
    },
    {
     "name": "stdout",
     "output_type": "stream",
     "text": [
      "已保存 ./data/Github/split\\SEAL_train_neg_batch7.pt，当前内存占用率 67.9%\n"
     ]
    },
    {
     "name": "stderr",
     "output_type": "stream",
     "text": [
      "保存 ./data/Github/split\\SEAL_train_neg 分批文件:   6%|▌         | 9/158 [00:07<02:01,  1.22batch/s]"
     ]
    },
    {
     "name": "stdout",
     "output_type": "stream",
     "text": [
      "已保存 ./data/Github/split\\SEAL_train_neg_batch8.pt，当前内存占用率 67.8%\n"
     ]
    },
    {
     "name": "stderr",
     "output_type": "stream",
     "text": [
      "保存 ./data/Github/split\\SEAL_train_neg 分批文件:   6%|▋         | 10/158 [00:08<02:02,  1.21batch/s]"
     ]
    },
    {
     "name": "stdout",
     "output_type": "stream",
     "text": [
      "已保存 ./data/Github/split\\SEAL_train_neg_batch9.pt，当前内存占用率 67.9%\n"
     ]
    },
    {
     "name": "stderr",
     "output_type": "stream",
     "text": [
      "保存 ./data/Github/split\\SEAL_train_neg 分批文件:   7%|▋         | 11/158 [00:09<01:58,  1.24batch/s]"
     ]
    },
    {
     "name": "stdout",
     "output_type": "stream",
     "text": [
      "已保存 ./data/Github/split\\SEAL_train_neg_batch10.pt，当前内存占用率 67.9%\n"
     ]
    },
    {
     "name": "stderr",
     "output_type": "stream",
     "text": [
      "保存 ./data/Github/split\\SEAL_train_neg 分批文件:   8%|▊         | 12/158 [00:10<01:55,  1.26batch/s]"
     ]
    },
    {
     "name": "stdout",
     "output_type": "stream",
     "text": [
      "已保存 ./data/Github/split\\SEAL_train_neg_batch11.pt，当前内存占用率 68.0%\n"
     ]
    },
    {
     "name": "stderr",
     "output_type": "stream",
     "text": [
      "保存 ./data/Github/split\\SEAL_train_neg 分批文件:   8%|▊         | 13/158 [00:10<01:52,  1.29batch/s]"
     ]
    },
    {
     "name": "stdout",
     "output_type": "stream",
     "text": [
      "已保存 ./data/Github/split\\SEAL_train_neg_batch12.pt，当前内存占用率 68.1%\n"
     ]
    },
    {
     "name": "stderr",
     "output_type": "stream",
     "text": [
      "保存 ./data/Github/split\\SEAL_train_neg 分批文件:   9%|▉         | 14/158 [00:11<01:52,  1.28batch/s]"
     ]
    },
    {
     "name": "stdout",
     "output_type": "stream",
     "text": [
      "已保存 ./data/Github/split\\SEAL_train_neg_batch13.pt，当前内存占用率 67.8%\n"
     ]
    },
    {
     "name": "stderr",
     "output_type": "stream",
     "text": [
      "保存 ./data/Github/split\\SEAL_train_neg 分批文件:   9%|▉         | 15/158 [00:12<01:54,  1.25batch/s]"
     ]
    },
    {
     "name": "stdout",
     "output_type": "stream",
     "text": [
      "已保存 ./data/Github/split\\SEAL_train_neg_batch14.pt，当前内存占用率 67.9%\n"
     ]
    },
    {
     "name": "stderr",
     "output_type": "stream",
     "text": [
      "保存 ./data/Github/split\\SEAL_train_neg 分批文件:  10%|█         | 16/158 [00:13<01:52,  1.27batch/s]"
     ]
    },
    {
     "name": "stdout",
     "output_type": "stream",
     "text": [
      "已保存 ./data/Github/split\\SEAL_train_neg_batch15.pt，当前内存占用率 68.1%\n"
     ]
    },
    {
     "name": "stderr",
     "output_type": "stream",
     "text": [
      "保存 ./data/Github/split\\SEAL_train_neg 分批文件:  11%|█         | 17/158 [00:14<01:53,  1.24batch/s]"
     ]
    },
    {
     "name": "stdout",
     "output_type": "stream",
     "text": [
      "已保存 ./data/Github/split\\SEAL_train_neg_batch16.pt，当前内存占用率 68.0%\n"
     ]
    },
    {
     "name": "stderr",
     "output_type": "stream",
     "text": [
      "保存 ./data/Github/split\\SEAL_train_neg 分批文件:  11%|█▏        | 18/158 [00:15<01:57,  1.19batch/s]"
     ]
    },
    {
     "name": "stdout",
     "output_type": "stream",
     "text": [
      "已保存 ./data/Github/split\\SEAL_train_neg_batch17.pt，当前内存占用率 68.0%\n"
     ]
    },
    {
     "name": "stderr",
     "output_type": "stream",
     "text": [
      "保存 ./data/Github/split\\SEAL_train_neg 分批文件:  12%|█▏        | 19/158 [00:15<01:51,  1.24batch/s]"
     ]
    },
    {
     "name": "stdout",
     "output_type": "stream",
     "text": [
      "已保存 ./data/Github/split\\SEAL_train_neg_batch18.pt，当前内存占用率 68.0%\n"
     ]
    },
    {
     "name": "stderr",
     "output_type": "stream",
     "text": [
      "保存 ./data/Github/split\\SEAL_train_neg 分批文件:  13%|█▎        | 20/158 [00:16<01:48,  1.27batch/s]"
     ]
    },
    {
     "name": "stdout",
     "output_type": "stream",
     "text": [
      "已保存 ./data/Github/split\\SEAL_train_neg_batch19.pt，当前内存占用率 67.9%\n"
     ]
    },
    {
     "name": "stderr",
     "output_type": "stream",
     "text": [
      "保存 ./data/Github/split\\SEAL_train_neg 分批文件:  13%|█▎        | 21/158 [00:17<01:48,  1.26batch/s]"
     ]
    },
    {
     "name": "stdout",
     "output_type": "stream",
     "text": [
      "已保存 ./data/Github/split\\SEAL_train_neg_batch20.pt，当前内存占用率 67.9%\n"
     ]
    },
    {
     "name": "stderr",
     "output_type": "stream",
     "text": [
      "保存 ./data/Github/split\\SEAL_train_neg 分批文件:  14%|█▍        | 22/158 [00:18<01:45,  1.29batch/s]"
     ]
    },
    {
     "name": "stdout",
     "output_type": "stream",
     "text": [
      "已保存 ./data/Github/split\\SEAL_train_neg_batch21.pt，当前内存占用率 67.9%\n"
     ]
    },
    {
     "name": "stderr",
     "output_type": "stream",
     "text": [
      "保存 ./data/Github/split\\SEAL_train_neg 分批文件:  15%|█▍        | 23/158 [00:18<01:42,  1.31batch/s]"
     ]
    },
    {
     "name": "stdout",
     "output_type": "stream",
     "text": [
      "已保存 ./data/Github/split\\SEAL_train_neg_batch22.pt，当前内存占用率 67.9%\n"
     ]
    },
    {
     "name": "stderr",
     "output_type": "stream",
     "text": [
      "保存 ./data/Github/split\\SEAL_train_neg 分批文件:  15%|█▌        | 24/158 [00:19<01:44,  1.28batch/s]"
     ]
    },
    {
     "name": "stdout",
     "output_type": "stream",
     "text": [
      "已保存 ./data/Github/split\\SEAL_train_neg_batch23.pt，当前内存占用率 67.7%\n"
     ]
    },
    {
     "name": "stderr",
     "output_type": "stream",
     "text": [
      "保存 ./data/Github/split\\SEAL_train_neg 分批文件:  16%|█▌        | 25/158 [00:20<01:48,  1.23batch/s]"
     ]
    },
    {
     "name": "stdout",
     "output_type": "stream",
     "text": [
      "已保存 ./data/Github/split\\SEAL_train_neg_batch24.pt，当前内存占用率 67.8%\n"
     ]
    },
    {
     "name": "stderr",
     "output_type": "stream",
     "text": [
      "保存 ./data/Github/split\\SEAL_train_neg 分批文件:  16%|█▋        | 26/158 [00:21<01:48,  1.21batch/s]"
     ]
    },
    {
     "name": "stdout",
     "output_type": "stream",
     "text": [
      "已保存 ./data/Github/split\\SEAL_train_neg_batch25.pt，当前内存占用率 67.8%\n"
     ]
    },
    {
     "name": "stderr",
     "output_type": "stream",
     "text": [
      "保存 ./data/Github/split\\SEAL_train_neg 分批文件:  17%|█▋        | 27/158 [00:22<01:45,  1.25batch/s]"
     ]
    },
    {
     "name": "stdout",
     "output_type": "stream",
     "text": [
      "已保存 ./data/Github/split\\SEAL_train_neg_batch26.pt，当前内存占用率 67.9%\n"
     ]
    },
    {
     "name": "stderr",
     "output_type": "stream",
     "text": [
      "保存 ./data/Github/split\\SEAL_train_neg 分批文件:  18%|█▊        | 28/158 [00:22<01:43,  1.26batch/s]"
     ]
    },
    {
     "name": "stdout",
     "output_type": "stream",
     "text": [
      "已保存 ./data/Github/split\\SEAL_train_neg_batch27.pt，当前内存占用率 68.0%\n"
     ]
    },
    {
     "name": "stderr",
     "output_type": "stream",
     "text": [
      "保存 ./data/Github/split\\SEAL_train_neg 分批文件:  18%|█▊        | 29/158 [00:23<01:39,  1.30batch/s]"
     ]
    },
    {
     "name": "stdout",
     "output_type": "stream",
     "text": [
      "已保存 ./data/Github/split\\SEAL_train_neg_batch28.pt，当前内存占用率 67.7%\n"
     ]
    },
    {
     "name": "stderr",
     "output_type": "stream",
     "text": [
      "保存 ./data/Github/split\\SEAL_train_neg 分批文件:  19%|█▉        | 30/158 [00:24<01:36,  1.33batch/s]"
     ]
    },
    {
     "name": "stdout",
     "output_type": "stream",
     "text": [
      "已保存 ./data/Github/split\\SEAL_train_neg_batch29.pt，当前内存占用率 67.9%\n"
     ]
    },
    {
     "name": "stderr",
     "output_type": "stream",
     "text": [
      "保存 ./data/Github/split\\SEAL_train_neg 分批文件:  20%|█▉        | 31/158 [00:25<01:36,  1.32batch/s]"
     ]
    },
    {
     "name": "stdout",
     "output_type": "stream",
     "text": [
      "已保存 ./data/Github/split\\SEAL_train_neg_batch30.pt，当前内存占用率 67.8%\n"
     ]
    },
    {
     "name": "stderr",
     "output_type": "stream",
     "text": [
      "保存 ./data/Github/split\\SEAL_train_neg 分批文件:  20%|██        | 32/158 [00:25<01:33,  1.35batch/s]"
     ]
    },
    {
     "name": "stdout",
     "output_type": "stream",
     "text": [
      "已保存 ./data/Github/split\\SEAL_train_neg_batch31.pt，当前内存占用率 67.9%\n"
     ]
    },
    {
     "name": "stderr",
     "output_type": "stream",
     "text": [
      "保存 ./data/Github/split\\SEAL_train_neg 分批文件:  21%|██        | 33/158 [00:26<01:45,  1.19batch/s]"
     ]
    },
    {
     "name": "stdout",
     "output_type": "stream",
     "text": [
      "已保存 ./data/Github/split\\SEAL_train_neg_batch32.pt，当前内存占用率 67.8%\n"
     ]
    },
    {
     "name": "stderr",
     "output_type": "stream",
     "text": [
      "保存 ./data/Github/split\\SEAL_train_neg 分批文件:  22%|██▏       | 34/158 [00:27<01:50,  1.12batch/s]"
     ]
    },
    {
     "name": "stdout",
     "output_type": "stream",
     "text": [
      "已保存 ./data/Github/split\\SEAL_train_neg_batch33.pt，当前内存占用率 68.0%\n"
     ]
    },
    {
     "name": "stderr",
     "output_type": "stream",
     "text": [
      "保存 ./data/Github/split\\SEAL_train_neg 分批文件:  22%|██▏       | 35/158 [00:28<01:44,  1.18batch/s]"
     ]
    },
    {
     "name": "stdout",
     "output_type": "stream",
     "text": [
      "已保存 ./data/Github/split\\SEAL_train_neg_batch34.pt，当前内存占用率 68.0%\n"
     ]
    },
    {
     "name": "stderr",
     "output_type": "stream",
     "text": [
      "保存 ./data/Github/split\\SEAL_train_neg 分批文件:  23%|██▎       | 36/158 [00:29<01:38,  1.24batch/s]"
     ]
    },
    {
     "name": "stdout",
     "output_type": "stream",
     "text": [
      "已保存 ./data/Github/split\\SEAL_train_neg_batch35.pt，当前内存占用率 67.9%\n"
     ]
    },
    {
     "name": "stderr",
     "output_type": "stream",
     "text": [
      "保存 ./data/Github/split\\SEAL_train_neg 分批文件:  23%|██▎       | 37/158 [00:30<01:45,  1.15batch/s]"
     ]
    },
    {
     "name": "stdout",
     "output_type": "stream",
     "text": [
      "已保存 ./data/Github/split\\SEAL_train_neg_batch36.pt，当前内存占用率 67.8%\n"
     ]
    },
    {
     "name": "stderr",
     "output_type": "stream",
     "text": [
      "保存 ./data/Github/split\\SEAL_train_neg 分批文件:  24%|██▍       | 38/158 [00:31<01:47,  1.12batch/s]"
     ]
    },
    {
     "name": "stdout",
     "output_type": "stream",
     "text": [
      "已保存 ./data/Github/split\\SEAL_train_neg_batch37.pt，当前内存占用率 68.0%\n"
     ]
    },
    {
     "name": "stderr",
     "output_type": "stream",
     "text": [
      "保存 ./data/Github/split\\SEAL_train_neg 分批文件:  25%|██▍       | 39/158 [00:32<01:41,  1.17batch/s]"
     ]
    },
    {
     "name": "stdout",
     "output_type": "stream",
     "text": [
      "已保存 ./data/Github/split\\SEAL_train_neg_batch38.pt，当前内存占用率 67.8%\n"
     ]
    },
    {
     "name": "stderr",
     "output_type": "stream",
     "text": [
      "保存 ./data/Github/split\\SEAL_train_neg 分批文件:  25%|██▌       | 40/158 [00:32<01:38,  1.19batch/s]"
     ]
    },
    {
     "name": "stdout",
     "output_type": "stream",
     "text": [
      "已保存 ./data/Github/split\\SEAL_train_neg_batch39.pt，当前内存占用率 67.9%\n"
     ]
    },
    {
     "name": "stderr",
     "output_type": "stream",
     "text": [
      "保存 ./data/Github/split\\SEAL_train_neg 分批文件:  26%|██▌       | 41/158 [00:33<01:42,  1.14batch/s]"
     ]
    },
    {
     "name": "stdout",
     "output_type": "stream",
     "text": [
      "已保存 ./data/Github/split\\SEAL_train_neg_batch40.pt，当前内存占用率 68.0%\n"
     ]
    },
    {
     "name": "stderr",
     "output_type": "stream",
     "text": [
      "保存 ./data/Github/split\\SEAL_train_neg 分批文件:  27%|██▋       | 42/158 [00:34<01:42,  1.13batch/s]"
     ]
    },
    {
     "name": "stdout",
     "output_type": "stream",
     "text": [
      "已保存 ./data/Github/split\\SEAL_train_neg_batch41.pt，当前内存占用率 67.9%\n"
     ]
    },
    {
     "name": "stderr",
     "output_type": "stream",
     "text": [
      "保存 ./data/Github/split\\SEAL_train_neg 分批文件:  27%|██▋       | 43/158 [00:35<01:34,  1.21batch/s]"
     ]
    },
    {
     "name": "stdout",
     "output_type": "stream",
     "text": [
      "已保存 ./data/Github/split\\SEAL_train_neg_batch42.pt，当前内存占用率 67.9%\n"
     ]
    },
    {
     "name": "stderr",
     "output_type": "stream",
     "text": [
      "保存 ./data/Github/split\\SEAL_train_neg 分批文件:  28%|██▊       | 44/158 [00:36<01:32,  1.23batch/s]"
     ]
    },
    {
     "name": "stdout",
     "output_type": "stream",
     "text": [
      "已保存 ./data/Github/split\\SEAL_train_neg_batch43.pt，当前内存占用率 68.0%\n"
     ]
    },
    {
     "name": "stderr",
     "output_type": "stream",
     "text": [
      "保存 ./data/Github/split\\SEAL_train_neg 分批文件:  28%|██▊       | 45/158 [00:36<01:30,  1.25batch/s]"
     ]
    },
    {
     "name": "stdout",
     "output_type": "stream",
     "text": [
      "已保存 ./data/Github/split\\SEAL_train_neg_batch44.pt，当前内存占用率 67.9%\n"
     ]
    },
    {
     "name": "stderr",
     "output_type": "stream",
     "text": [
      "保存 ./data/Github/split\\SEAL_train_neg 分批文件:  29%|██▉       | 46/158 [00:37<01:28,  1.27batch/s]"
     ]
    },
    {
     "name": "stdout",
     "output_type": "stream",
     "text": [
      "已保存 ./data/Github/split\\SEAL_train_neg_batch45.pt，当前内存占用率 68.0%\n"
     ]
    },
    {
     "name": "stderr",
     "output_type": "stream",
     "text": [
      "保存 ./data/Github/split\\SEAL_train_neg 分批文件:  30%|██▉       | 47/158 [00:38<01:26,  1.28batch/s]"
     ]
    },
    {
     "name": "stdout",
     "output_type": "stream",
     "text": [
      "已保存 ./data/Github/split\\SEAL_train_neg_batch46.pt，当前内存占用率 68.0%\n"
     ]
    },
    {
     "name": "stderr",
     "output_type": "stream",
     "text": [
      "保存 ./data/Github/split\\SEAL_train_neg 分批文件:  30%|███       | 48/158 [00:39<01:28,  1.24batch/s]"
     ]
    },
    {
     "name": "stdout",
     "output_type": "stream",
     "text": [
      "已保存 ./data/Github/split\\SEAL_train_neg_batch47.pt，当前内存占用率 68.2%\n"
     ]
    },
    {
     "name": "stderr",
     "output_type": "stream",
     "text": [
      "保存 ./data/Github/split\\SEAL_train_neg 分批文件:  31%|███       | 49/158 [00:40<01:34,  1.15batch/s]"
     ]
    },
    {
     "name": "stdout",
     "output_type": "stream",
     "text": [
      "已保存 ./data/Github/split\\SEAL_train_neg_batch48.pt，当前内存占用率 68.1%\n"
     ]
    },
    {
     "name": "stderr",
     "output_type": "stream",
     "text": [
      "保存 ./data/Github/split\\SEAL_train_neg 分批文件:  32%|███▏      | 50/158 [00:41<01:32,  1.17batch/s]"
     ]
    },
    {
     "name": "stdout",
     "output_type": "stream",
     "text": [
      "已保存 ./data/Github/split\\SEAL_train_neg_batch49.pt，当前内存占用率 68.1%\n"
     ]
    },
    {
     "name": "stderr",
     "output_type": "stream",
     "text": [
      "保存 ./data/Github/split\\SEAL_train_neg 分批文件:  32%|███▏      | 51/158 [00:42<01:33,  1.15batch/s]"
     ]
    },
    {
     "name": "stdout",
     "output_type": "stream",
     "text": [
      "已保存 ./data/Github/split\\SEAL_train_neg_batch50.pt，当前内存占用率 68.1%\n"
     ]
    },
    {
     "name": "stderr",
     "output_type": "stream",
     "text": [
      "保存 ./data/Github/split\\SEAL_train_neg 分批文件:  33%|███▎      | 52/158 [00:42<01:29,  1.18batch/s]"
     ]
    },
    {
     "name": "stdout",
     "output_type": "stream",
     "text": [
      "已保存 ./data/Github/split\\SEAL_train_neg_batch51.pt，当前内存占用率 67.9%\n"
     ]
    },
    {
     "name": "stderr",
     "output_type": "stream",
     "text": [
      "保存 ./data/Github/split\\SEAL_train_neg 分批文件:  34%|███▎      | 53/158 [00:43<01:30,  1.17batch/s]"
     ]
    },
    {
     "name": "stdout",
     "output_type": "stream",
     "text": [
      "已保存 ./data/Github/split\\SEAL_train_neg_batch52.pt，当前内存占用率 68.0%\n"
     ]
    },
    {
     "name": "stderr",
     "output_type": "stream",
     "text": [
      "保存 ./data/Github/split\\SEAL_train_neg 分批文件:  34%|███▍      | 54/158 [00:44<01:37,  1.07batch/s]"
     ]
    },
    {
     "name": "stdout",
     "output_type": "stream",
     "text": [
      "已保存 ./data/Github/split\\SEAL_train_neg_batch53.pt，当前内存占用率 69.1%\n"
     ]
    },
    {
     "name": "stderr",
     "output_type": "stream",
     "text": [
      "保存 ./data/Github/split\\SEAL_train_neg 分批文件:  35%|███▍      | 55/158 [00:45<01:40,  1.03batch/s]"
     ]
    },
    {
     "name": "stdout",
     "output_type": "stream",
     "text": [
      "已保存 ./data/Github/split\\SEAL_train_neg_batch54.pt，当前内存占用率 69.0%\n"
     ]
    },
    {
     "name": "stderr",
     "output_type": "stream",
     "text": [
      "保存 ./data/Github/split\\SEAL_train_neg 分批文件:  35%|███▌      | 56/158 [00:47<01:43,  1.01s/batch]"
     ]
    },
    {
     "name": "stdout",
     "output_type": "stream",
     "text": [
      "已保存 ./data/Github/split\\SEAL_train_neg_batch55.pt，当前内存占用率 69.0%\n"
     ]
    },
    {
     "name": "stderr",
     "output_type": "stream",
     "text": [
      "保存 ./data/Github/split\\SEAL_train_neg 分批文件:  36%|███▌      | 57/158 [00:47<01:37,  1.04batch/s]"
     ]
    },
    {
     "name": "stdout",
     "output_type": "stream",
     "text": [
      "已保存 ./data/Github/split\\SEAL_train_neg_batch56.pt，当前内存占用率 68.7%\n"
     ]
    },
    {
     "name": "stderr",
     "output_type": "stream",
     "text": [
      "保存 ./data/Github/split\\SEAL_train_neg 分批文件:  37%|███▋      | 58/158 [00:48<01:37,  1.03batch/s]"
     ]
    },
    {
     "name": "stdout",
     "output_type": "stream",
     "text": [
      "已保存 ./data/Github/split\\SEAL_train_neg_batch57.pt，当前内存占用率 69.0%\n"
     ]
    },
    {
     "name": "stderr",
     "output_type": "stream",
     "text": [
      "保存 ./data/Github/split\\SEAL_train_neg 分批文件:  37%|███▋      | 59/158 [00:49<01:37,  1.02batch/s]"
     ]
    },
    {
     "name": "stdout",
     "output_type": "stream",
     "text": [
      "已保存 ./data/Github/split\\SEAL_train_neg_batch58.pt，当前内存占用率 68.8%\n"
     ]
    },
    {
     "name": "stderr",
     "output_type": "stream",
     "text": [
      "保存 ./data/Github/split\\SEAL_train_neg 分批文件:  38%|███▊      | 60/158 [00:50<01:36,  1.02batch/s]"
     ]
    },
    {
     "name": "stdout",
     "output_type": "stream",
     "text": [
      "已保存 ./data/Github/split\\SEAL_train_neg_batch59.pt，当前内存占用率 69.7%\n"
     ]
    },
    {
     "name": "stderr",
     "output_type": "stream",
     "text": [
      "保存 ./data/Github/split\\SEAL_train_neg 分批文件:  39%|███▊      | 61/158 [00:52<01:40,  1.04s/batch]"
     ]
    },
    {
     "name": "stdout",
     "output_type": "stream",
     "text": [
      "已保存 ./data/Github/split\\SEAL_train_neg_batch60.pt，当前内存占用率 70.0%\n"
     ]
    },
    {
     "name": "stderr",
     "output_type": "stream",
     "text": [
      "保存 ./data/Github/split\\SEAL_train_neg 分批文件:  39%|███▉      | 62/158 [00:52<01:35,  1.01batch/s]"
     ]
    },
    {
     "name": "stdout",
     "output_type": "stream",
     "text": [
      "已保存 ./data/Github/split\\SEAL_train_neg_batch61.pt，当前内存占用率 69.2%\n"
     ]
    },
    {
     "name": "stderr",
     "output_type": "stream",
     "text": [
      "保存 ./data/Github/split\\SEAL_train_neg 分批文件:  40%|███▉      | 63/158 [00:53<01:33,  1.01batch/s]"
     ]
    },
    {
     "name": "stdout",
     "output_type": "stream",
     "text": [
      "已保存 ./data/Github/split\\SEAL_train_neg_batch62.pt，当前内存占用率 69.3%\n"
     ]
    },
    {
     "name": "stderr",
     "output_type": "stream",
     "text": [
      "保存 ./data/Github/split\\SEAL_train_neg 分批文件:  41%|████      | 64/158 [00:54<01:35,  1.02s/batch]"
     ]
    },
    {
     "name": "stdout",
     "output_type": "stream",
     "text": [
      "已保存 ./data/Github/split\\SEAL_train_neg_batch63.pt，当前内存占用率 70.0%\n"
     ]
    },
    {
     "name": "stderr",
     "output_type": "stream",
     "text": [
      "保存 ./data/Github/split\\SEAL_train_neg 分批文件:  41%|████      | 65/158 [00:55<01:32,  1.01batch/s]"
     ]
    },
    {
     "name": "stdout",
     "output_type": "stream",
     "text": [
      "已保存 ./data/Github/split\\SEAL_train_neg_batch64.pt，当前内存占用率 70.3%\n"
     ]
    },
    {
     "name": "stderr",
     "output_type": "stream",
     "text": [
      "保存 ./data/Github/split\\SEAL_train_neg 分批文件:  42%|████▏     | 66/158 [00:56<01:31,  1.01batch/s]"
     ]
    },
    {
     "name": "stdout",
     "output_type": "stream",
     "text": [
      "已保存 ./data/Github/split\\SEAL_train_neg_batch65.pt，当前内存占用率 69.3%\n"
     ]
    },
    {
     "name": "stderr",
     "output_type": "stream",
     "text": [
      "保存 ./data/Github/split\\SEAL_train_neg 分批文件:  42%|████▏     | 67/158 [00:57<01:32,  1.02s/batch]"
     ]
    },
    {
     "name": "stdout",
     "output_type": "stream",
     "text": [
      "已保存 ./data/Github/split\\SEAL_train_neg_batch66.pt，当前内存占用率 69.3%\n"
     ]
    },
    {
     "name": "stderr",
     "output_type": "stream",
     "text": [
      "保存 ./data/Github/split\\SEAL_train_neg 分批文件:  43%|████▎     | 68/158 [00:58<01:27,  1.03batch/s]"
     ]
    },
    {
     "name": "stdout",
     "output_type": "stream",
     "text": [
      "已保存 ./data/Github/split\\SEAL_train_neg_batch67.pt，当前内存占用率 69.0%\n"
     ]
    },
    {
     "name": "stderr",
     "output_type": "stream",
     "text": [
      "保存 ./data/Github/split\\SEAL_train_neg 分批文件:  44%|████▎     | 69/158 [00:59<01:23,  1.07batch/s]"
     ]
    },
    {
     "name": "stdout",
     "output_type": "stream",
     "text": [
      "已保存 ./data/Github/split\\SEAL_train_neg_batch68.pt，当前内存占用率 69.2%\n"
     ]
    },
    {
     "name": "stderr",
     "output_type": "stream",
     "text": [
      "保存 ./data/Github/split\\SEAL_train_neg 分批文件:  44%|████▍     | 70/158 [01:00<01:18,  1.12batch/s]"
     ]
    },
    {
     "name": "stdout",
     "output_type": "stream",
     "text": [
      "已保存 ./data/Github/split\\SEAL_train_neg_batch69.pt，当前内存占用率 69.0%\n"
     ]
    },
    {
     "name": "stderr",
     "output_type": "stream",
     "text": [
      "保存 ./data/Github/split\\SEAL_train_neg 分批文件:  45%|████▍     | 71/158 [01:01<01:15,  1.16batch/s]"
     ]
    },
    {
     "name": "stdout",
     "output_type": "stream",
     "text": [
      "已保存 ./data/Github/split\\SEAL_train_neg_batch70.pt，当前内存占用率 69.1%\n"
     ]
    },
    {
     "name": "stderr",
     "output_type": "stream",
     "text": [
      "保存 ./data/Github/split\\SEAL_train_neg 分批文件:  46%|████▌     | 72/158 [01:02<01:13,  1.17batch/s]"
     ]
    },
    {
     "name": "stdout",
     "output_type": "stream",
     "text": [
      "已保存 ./data/Github/split\\SEAL_train_neg_batch71.pt，当前内存占用率 69.0%\n"
     ]
    },
    {
     "name": "stderr",
     "output_type": "stream",
     "text": [
      "保存 ./data/Github/split\\SEAL_train_neg 分批文件:  46%|████▌     | 73/158 [01:03<01:14,  1.15batch/s]"
     ]
    },
    {
     "name": "stdout",
     "output_type": "stream",
     "text": [
      "已保存 ./data/Github/split\\SEAL_train_neg_batch72.pt，当前内存占用率 69.0%\n"
     ]
    },
    {
     "name": "stderr",
     "output_type": "stream",
     "text": [
      "保存 ./data/Github/split\\SEAL_train_neg 分批文件:  47%|████▋     | 74/158 [01:03<01:15,  1.11batch/s]"
     ]
    },
    {
     "name": "stdout",
     "output_type": "stream",
     "text": [
      "已保存 ./data/Github/split\\SEAL_train_neg_batch73.pt，当前内存占用率 69.1%\n"
     ]
    },
    {
     "name": "stderr",
     "output_type": "stream",
     "text": [
      "保存 ./data/Github/split\\SEAL_train_neg 分批文件:  47%|████▋     | 75/158 [01:05<01:22,  1.01batch/s]"
     ]
    },
    {
     "name": "stdout",
     "output_type": "stream",
     "text": [
      "已保存 ./data/Github/split\\SEAL_train_neg_batch74.pt，当前内存占用率 69.1%\n"
     ]
    },
    {
     "name": "stderr",
     "output_type": "stream",
     "text": [
      "保存 ./data/Github/split\\SEAL_train_neg 分批文件:  48%|████▊     | 76/158 [01:06<01:25,  1.04s/batch]"
     ]
    },
    {
     "name": "stdout",
     "output_type": "stream",
     "text": [
      "已保存 ./data/Github/split\\SEAL_train_neg_batch75.pt，当前内存占用率 68.9%\n"
     ]
    },
    {
     "name": "stderr",
     "output_type": "stream",
     "text": [
      "保存 ./data/Github/split\\SEAL_train_neg 分批文件:  49%|████▊     | 77/158 [01:07<01:16,  1.06batch/s]"
     ]
    },
    {
     "name": "stdout",
     "output_type": "stream",
     "text": [
      "已保存 ./data/Github/split\\SEAL_train_neg_batch76.pt，当前内存占用率 69.0%\n"
     ]
    },
    {
     "name": "stderr",
     "output_type": "stream",
     "text": [
      "保存 ./data/Github/split\\SEAL_train_neg 分批文件:  49%|████▉     | 78/158 [01:07<01:10,  1.13batch/s]"
     ]
    },
    {
     "name": "stdout",
     "output_type": "stream",
     "text": [
      "已保存 ./data/Github/split\\SEAL_train_neg_batch77.pt，当前内存占用率 69.1%\n"
     ]
    },
    {
     "name": "stderr",
     "output_type": "stream",
     "text": [
      "保存 ./data/Github/split\\SEAL_train_neg 分批文件:  50%|█████     | 79/158 [01:08<01:07,  1.17batch/s]"
     ]
    },
    {
     "name": "stdout",
     "output_type": "stream",
     "text": [
      "已保存 ./data/Github/split\\SEAL_train_neg_batch78.pt，当前内存占用率 69.0%\n"
     ]
    },
    {
     "name": "stderr",
     "output_type": "stream",
     "text": [
      "保存 ./data/Github/split\\SEAL_train_neg 分批文件:  51%|█████     | 80/158 [01:09<01:04,  1.21batch/s]"
     ]
    },
    {
     "name": "stdout",
     "output_type": "stream",
     "text": [
      "已保存 ./data/Github/split\\SEAL_train_neg_batch79.pt，当前内存占用率 69.2%\n"
     ]
    },
    {
     "name": "stderr",
     "output_type": "stream",
     "text": [
      "保存 ./data/Github/split\\SEAL_train_neg 分批文件:  51%|█████▏    | 81/158 [01:10<01:03,  1.21batch/s]"
     ]
    },
    {
     "name": "stdout",
     "output_type": "stream",
     "text": [
      "已保存 ./data/Github/split\\SEAL_train_neg_batch80.pt，当前内存占用率 69.0%\n"
     ]
    },
    {
     "name": "stderr",
     "output_type": "stream",
     "text": [
      "保存 ./data/Github/split\\SEAL_train_neg 分批文件:  52%|█████▏    | 82/158 [01:10<01:01,  1.24batch/s]"
     ]
    },
    {
     "name": "stdout",
     "output_type": "stream",
     "text": [
      "已保存 ./data/Github/split\\SEAL_train_neg_batch81.pt，当前内存占用率 69.0%\n"
     ]
    },
    {
     "name": "stderr",
     "output_type": "stream",
     "text": [
      "保存 ./data/Github/split\\SEAL_train_neg 分批文件:  53%|█████▎    | 83/158 [01:11<01:03,  1.18batch/s]"
     ]
    },
    {
     "name": "stdout",
     "output_type": "stream",
     "text": [
      "已保存 ./data/Github/split\\SEAL_train_neg_batch82.pt，当前内存占用率 69.3%\n"
     ]
    },
    {
     "name": "stderr",
     "output_type": "stream",
     "text": [
      "保存 ./data/Github/split\\SEAL_train_neg 分批文件:  53%|█████▎    | 84/158 [01:13<01:11,  1.04batch/s]"
     ]
    },
    {
     "name": "stdout",
     "output_type": "stream",
     "text": [
      "已保存 ./data/Github/split\\SEAL_train_neg_batch83.pt，当前内存占用率 69.3%\n"
     ]
    },
    {
     "name": "stderr",
     "output_type": "stream",
     "text": [
      "保存 ./data/Github/split\\SEAL_train_neg 分批文件:  54%|█████▍    | 85/158 [01:14<01:11,  1.01batch/s]"
     ]
    },
    {
     "name": "stdout",
     "output_type": "stream",
     "text": [
      "已保存 ./data/Github/split\\SEAL_train_neg_batch84.pt，当前内存占用率 69.2%\n"
     ]
    },
    {
     "name": "stderr",
     "output_type": "stream",
     "text": [
      "保存 ./data/Github/split\\SEAL_train_neg 分批文件:  54%|█████▍    | 86/158 [01:15<01:09,  1.04batch/s]"
     ]
    },
    {
     "name": "stdout",
     "output_type": "stream",
     "text": [
      "已保存 ./data/Github/split\\SEAL_train_neg_batch85.pt，当前内存占用率 69.1%\n"
     ]
    },
    {
     "name": "stderr",
     "output_type": "stream",
     "text": [
      "保存 ./data/Github/split\\SEAL_train_neg 分批文件:  55%|█████▌    | 87/158 [01:15<01:06,  1.06batch/s]"
     ]
    },
    {
     "name": "stdout",
     "output_type": "stream",
     "text": [
      "已保存 ./data/Github/split\\SEAL_train_neg_batch86.pt，当前内存占用率 69.2%\n"
     ]
    },
    {
     "name": "stderr",
     "output_type": "stream",
     "text": [
      "保存 ./data/Github/split\\SEAL_train_neg 分批文件:  56%|█████▌    | 88/158 [01:16<01:07,  1.04batch/s]"
     ]
    },
    {
     "name": "stdout",
     "output_type": "stream",
     "text": [
      "已保存 ./data/Github/split\\SEAL_train_neg_batch87.pt，当前内存占用率 69.0%\n"
     ]
    },
    {
     "name": "stderr",
     "output_type": "stream",
     "text": [
      "保存 ./data/Github/split\\SEAL_train_neg 分批文件:  56%|█████▋    | 89/158 [01:17<01:04,  1.08batch/s]"
     ]
    },
    {
     "name": "stdout",
     "output_type": "stream",
     "text": [
      "已保存 ./data/Github/split\\SEAL_train_neg_batch88.pt，当前内存占用率 69.2%\n"
     ]
    },
    {
     "name": "stderr",
     "output_type": "stream",
     "text": [
      "保存 ./data/Github/split\\SEAL_train_neg 分批文件:  57%|█████▋    | 90/158 [01:18<01:07,  1.00batch/s]"
     ]
    },
    {
     "name": "stdout",
     "output_type": "stream",
     "text": [
      "已保存 ./data/Github/split\\SEAL_train_neg_batch89.pt，当前内存占用率 69.3%\n"
     ]
    },
    {
     "name": "stderr",
     "output_type": "stream",
     "text": [
      "保存 ./data/Github/split\\SEAL_train_neg 分批文件:  58%|█████▊    | 91/158 [01:20<01:08,  1.03s/batch]"
     ]
    },
    {
     "name": "stdout",
     "output_type": "stream",
     "text": [
      "已保存 ./data/Github/split\\SEAL_train_neg_batch90.pt，当前内存占用率 69.2%\n"
     ]
    },
    {
     "name": "stderr",
     "output_type": "stream",
     "text": [
      "保存 ./data/Github/split\\SEAL_train_neg 分批文件:  58%|█████▊    | 92/158 [01:21<01:06,  1.01s/batch]"
     ]
    },
    {
     "name": "stdout",
     "output_type": "stream",
     "text": [
      "已保存 ./data/Github/split\\SEAL_train_neg_batch91.pt，当前内存占用率 69.2%\n"
     ]
    },
    {
     "name": "stderr",
     "output_type": "stream",
     "text": [
      "保存 ./data/Github/split\\SEAL_train_neg 分批文件:  59%|█████▉    | 93/158 [01:22<01:08,  1.05s/batch]"
     ]
    },
    {
     "name": "stdout",
     "output_type": "stream",
     "text": [
      "已保存 ./data/Github/split\\SEAL_train_neg_batch92.pt，当前内存占用率 69.0%\n"
     ]
    },
    {
     "name": "stderr",
     "output_type": "stream",
     "text": [
      "保存 ./data/Github/split\\SEAL_train_neg 分批文件:  59%|█████▉    | 94/158 [01:23<01:05,  1.02s/batch]"
     ]
    },
    {
     "name": "stdout",
     "output_type": "stream",
     "text": [
      "已保存 ./data/Github/split\\SEAL_train_neg_batch93.pt，当前内存占用率 69.3%\n"
     ]
    },
    {
     "name": "stderr",
     "output_type": "stream",
     "text": [
      "保存 ./data/Github/split\\SEAL_train_neg 分批文件:  60%|██████    | 95/158 [01:24<01:04,  1.02s/batch]"
     ]
    },
    {
     "name": "stdout",
     "output_type": "stream",
     "text": [
      "已保存 ./data/Github/split\\SEAL_train_neg_batch94.pt，当前内存占用率 69.3%\n"
     ]
    },
    {
     "name": "stderr",
     "output_type": "stream",
     "text": [
      "保存 ./data/Github/split\\SEAL_train_neg 分批文件:  61%|██████    | 96/158 [01:25<01:04,  1.04s/batch]"
     ]
    },
    {
     "name": "stdout",
     "output_type": "stream",
     "text": [
      "已保存 ./data/Github/split\\SEAL_train_neg_batch95.pt，当前内存占用率 69.3%\n"
     ]
    },
    {
     "name": "stderr",
     "output_type": "stream",
     "text": [
      "保存 ./data/Github/split\\SEAL_train_neg 分批文件:  61%|██████▏   | 97/158 [01:26<01:04,  1.06s/batch]"
     ]
    },
    {
     "name": "stdout",
     "output_type": "stream",
     "text": [
      "已保存 ./data/Github/split\\SEAL_train_neg_batch96.pt，当前内存占用率 69.0%\n"
     ]
    },
    {
     "name": "stderr",
     "output_type": "stream",
     "text": [
      "保存 ./data/Github/split\\SEAL_train_neg 分批文件:  62%|██████▏   | 98/158 [01:27<00:59,  1.01batch/s]"
     ]
    },
    {
     "name": "stdout",
     "output_type": "stream",
     "text": [
      "已保存 ./data/Github/split\\SEAL_train_neg_batch97.pt，当前内存占用率 69.1%\n"
     ]
    },
    {
     "name": "stderr",
     "output_type": "stream",
     "text": [
      "保存 ./data/Github/split\\SEAL_train_neg 分批文件:  63%|██████▎   | 99/158 [01:28<00:58,  1.00batch/s]"
     ]
    },
    {
     "name": "stdout",
     "output_type": "stream",
     "text": [
      "已保存 ./data/Github/split\\SEAL_train_neg_batch98.pt，当前内存占用率 68.7%\n"
     ]
    },
    {
     "name": "stderr",
     "output_type": "stream",
     "text": [
      "保存 ./data/Github/split\\SEAL_train_neg 分批文件:  63%|██████▎   | 100/158 [01:29<00:54,  1.07batch/s]"
     ]
    },
    {
     "name": "stdout",
     "output_type": "stream",
     "text": [
      "已保存 ./data/Github/split\\SEAL_train_neg_batch99.pt，当前内存占用率 68.7%\n"
     ]
    },
    {
     "name": "stderr",
     "output_type": "stream",
     "text": [
      "保存 ./data/Github/split\\SEAL_train_neg 分批文件:  64%|██████▍   | 101/158 [01:29<00:53,  1.07batch/s]"
     ]
    },
    {
     "name": "stdout",
     "output_type": "stream",
     "text": [
      "已保存 ./data/Github/split\\SEAL_train_neg_batch100.pt，当前内存占用率 68.8%\n"
     ]
    },
    {
     "name": "stderr",
     "output_type": "stream",
     "text": [
      "保存 ./data/Github/split\\SEAL_train_neg 分批文件:  65%|██████▍   | 102/158 [01:30<00:51,  1.08batch/s]"
     ]
    },
    {
     "name": "stdout",
     "output_type": "stream",
     "text": [
      "已保存 ./data/Github/split\\SEAL_train_neg_batch101.pt，当前内存占用率 68.6%\n"
     ]
    },
    {
     "name": "stderr",
     "output_type": "stream",
     "text": [
      "保存 ./data/Github/split\\SEAL_train_neg 分批文件:  65%|██████▌   | 103/158 [01:31<00:53,  1.02batch/s]"
     ]
    },
    {
     "name": "stdout",
     "output_type": "stream",
     "text": [
      "已保存 ./data/Github/split\\SEAL_train_neg_batch102.pt，当前内存占用率 68.7%\n"
     ]
    },
    {
     "name": "stderr",
     "output_type": "stream",
     "text": [
      "保存 ./data/Github/split\\SEAL_train_neg 分批文件:  66%|██████▌   | 104/158 [01:33<00:54,  1.01s/batch]"
     ]
    },
    {
     "name": "stdout",
     "output_type": "stream",
     "text": [
      "已保存 ./data/Github/split\\SEAL_train_neg_batch103.pt，当前内存占用率 68.8%\n"
     ]
    },
    {
     "name": "stderr",
     "output_type": "stream",
     "text": [
      "保存 ./data/Github/split\\SEAL_train_neg 分批文件:  66%|██████▋   | 105/158 [01:33<00:50,  1.04batch/s]"
     ]
    },
    {
     "name": "stdout",
     "output_type": "stream",
     "text": [
      "已保存 ./data/Github/split\\SEAL_train_neg_batch104.pt，当前内存占用率 68.8%\n"
     ]
    },
    {
     "name": "stderr",
     "output_type": "stream",
     "text": [
      "保存 ./data/Github/split\\SEAL_train_neg 分批文件:  67%|██████▋   | 106/158 [01:34<00:49,  1.05batch/s]"
     ]
    },
    {
     "name": "stdout",
     "output_type": "stream",
     "text": [
      "已保存 ./data/Github/split\\SEAL_train_neg_batch105.pt，当前内存占用率 68.8%\n"
     ]
    },
    {
     "name": "stderr",
     "output_type": "stream",
     "text": [
      "保存 ./data/Github/split\\SEAL_train_neg 分批文件:  68%|██████▊   | 107/158 [01:35<00:52,  1.03s/batch]"
     ]
    },
    {
     "name": "stdout",
     "output_type": "stream",
     "text": [
      "已保存 ./data/Github/split\\SEAL_train_neg_batch106.pt，当前内存占用率 68.8%\n"
     ]
    },
    {
     "name": "stderr",
     "output_type": "stream",
     "text": [
      "保存 ./data/Github/split\\SEAL_train_neg 分批文件:  68%|██████▊   | 108/158 [01:36<00:50,  1.02s/batch]"
     ]
    },
    {
     "name": "stdout",
     "output_type": "stream",
     "text": [
      "已保存 ./data/Github/split\\SEAL_train_neg_batch107.pt，当前内存占用率 68.6%\n"
     ]
    },
    {
     "name": "stderr",
     "output_type": "stream",
     "text": [
      "保存 ./data/Github/split\\SEAL_train_neg 分批文件:  69%|██████▉   | 109/158 [01:37<00:48,  1.02batch/s]"
     ]
    },
    {
     "name": "stdout",
     "output_type": "stream",
     "text": [
      "已保存 ./data/Github/split\\SEAL_train_neg_batch108.pt，当前内存占用率 68.7%\n"
     ]
    },
    {
     "name": "stderr",
     "output_type": "stream",
     "text": [
      "保存 ./data/Github/split\\SEAL_train_neg 分批文件:  70%|██████▉   | 110/158 [01:38<00:47,  1.01batch/s]"
     ]
    },
    {
     "name": "stdout",
     "output_type": "stream",
     "text": [
      "已保存 ./data/Github/split\\SEAL_train_neg_batch109.pt，当前内存占用率 68.6%\n"
     ]
    },
    {
     "name": "stderr",
     "output_type": "stream",
     "text": [
      "保存 ./data/Github/split\\SEAL_train_neg 分批文件:  70%|███████   | 111/158 [01:39<00:46,  1.00batch/s]"
     ]
    },
    {
     "name": "stdout",
     "output_type": "stream",
     "text": [
      "已保存 ./data/Github/split\\SEAL_train_neg_batch110.pt，当前内存占用率 68.7%\n"
     ]
    },
    {
     "name": "stderr",
     "output_type": "stream",
     "text": [
      "保存 ./data/Github/split\\SEAL_train_neg 分批文件:  71%|███████   | 112/158 [01:40<00:44,  1.02batch/s]"
     ]
    },
    {
     "name": "stdout",
     "output_type": "stream",
     "text": [
      "已保存 ./data/Github/split\\SEAL_train_neg_batch111.pt，当前内存占用率 68.9%\n"
     ]
    },
    {
     "name": "stderr",
     "output_type": "stream",
     "text": [
      "保存 ./data/Github/split\\SEAL_train_neg 分批文件:  72%|███████▏  | 113/158 [01:41<00:44,  1.01batch/s]"
     ]
    },
    {
     "name": "stdout",
     "output_type": "stream",
     "text": [
      "已保存 ./data/Github/split\\SEAL_train_neg_batch112.pt，当前内存占用率 68.7%\n"
     ]
    },
    {
     "name": "stderr",
     "output_type": "stream",
     "text": [
      "保存 ./data/Github/split\\SEAL_train_neg 分批文件:  72%|███████▏  | 114/158 [01:42<00:44,  1.01s/batch]"
     ]
    },
    {
     "name": "stdout",
     "output_type": "stream",
     "text": [
      "已保存 ./data/Github/split\\SEAL_train_neg_batch113.pt，当前内存占用率 68.6%\n",
      "已保存 ./data/Github/split\\SEAL_train_neg_batch114.pt，当前内存占用率 68.6%\n"
     ]
    },
    {
     "name": "stderr",
     "output_type": "stream",
     "text": [
      "保存 ./data/Github/split\\SEAL_train_neg 分批文件:  73%|███████▎  | 116/158 [01:45<00:45,  1.08s/batch]"
     ]
    },
    {
     "name": "stdout",
     "output_type": "stream",
     "text": [
      "已保存 ./data/Github/split\\SEAL_train_neg_batch115.pt，当前内存占用率 68.8%\n"
     ]
    },
    {
     "name": "stderr",
     "output_type": "stream",
     "text": [
      "保存 ./data/Github/split\\SEAL_train_neg 分批文件:  74%|███████▍  | 117/158 [01:46<00:45,  1.12s/batch]"
     ]
    },
    {
     "name": "stdout",
     "output_type": "stream",
     "text": [
      "已保存 ./data/Github/split\\SEAL_train_neg_batch116.pt，当前内存占用率 68.8%\n"
     ]
    },
    {
     "name": "stderr",
     "output_type": "stream",
     "text": [
      "保存 ./data/Github/split\\SEAL_train_neg 分批文件:  75%|███████▍  | 118/158 [01:47<00:44,  1.12s/batch]"
     ]
    },
    {
     "name": "stdout",
     "output_type": "stream",
     "text": [
      "已保存 ./data/Github/split\\SEAL_train_neg_batch117.pt，当前内存占用率 68.9%\n"
     ]
    },
    {
     "name": "stderr",
     "output_type": "stream",
     "text": [
      "保存 ./data/Github/split\\SEAL_train_neg 分批文件:  75%|███████▌  | 119/158 [01:48<00:45,  1.17s/batch]"
     ]
    },
    {
     "name": "stdout",
     "output_type": "stream",
     "text": [
      "已保存 ./data/Github/split\\SEAL_train_neg_batch118.pt，当前内存占用率 68.8%\n"
     ]
    },
    {
     "name": "stderr",
     "output_type": "stream",
     "text": [
      "保存 ./data/Github/split\\SEAL_train_neg 分批文件:  76%|███████▌  | 120/158 [01:49<00:43,  1.14s/batch]"
     ]
    },
    {
     "name": "stdout",
     "output_type": "stream",
     "text": [
      "已保存 ./data/Github/split\\SEAL_train_neg_batch119.pt，当前内存占用率 68.9%\n"
     ]
    },
    {
     "name": "stderr",
     "output_type": "stream",
     "text": [
      "保存 ./data/Github/split\\SEAL_train_neg 分批文件:  77%|███████▋  | 121/158 [01:50<00:41,  1.12s/batch]"
     ]
    },
    {
     "name": "stdout",
     "output_type": "stream",
     "text": [
      "已保存 ./data/Github/split\\SEAL_train_neg_batch120.pt，当前内存占用率 68.8%\n"
     ]
    },
    {
     "name": "stderr",
     "output_type": "stream",
     "text": [
      "保存 ./data/Github/split\\SEAL_train_neg 分批文件:  77%|███████▋  | 122/158 [01:52<00:40,  1.11s/batch]"
     ]
    },
    {
     "name": "stdout",
     "output_type": "stream",
     "text": [
      "已保存 ./data/Github/split\\SEAL_train_neg_batch121.pt，当前内存占用率 68.8%\n"
     ]
    },
    {
     "name": "stderr",
     "output_type": "stream",
     "text": [
      "保存 ./data/Github/split\\SEAL_train_neg 分批文件:  78%|███████▊  | 123/158 [01:53<00:37,  1.07s/batch]"
     ]
    },
    {
     "name": "stdout",
     "output_type": "stream",
     "text": [
      "已保存 ./data/Github/split\\SEAL_train_neg_batch122.pt，当前内存占用率 68.9%\n"
     ]
    },
    {
     "name": "stderr",
     "output_type": "stream",
     "text": [
      "保存 ./data/Github/split\\SEAL_train_neg 分批文件:  78%|███████▊  | 124/158 [01:54<00:38,  1.12s/batch]"
     ]
    },
    {
     "name": "stdout",
     "output_type": "stream",
     "text": [
      "已保存 ./data/Github/split\\SEAL_train_neg_batch123.pt，当前内存占用率 69.0%\n"
     ]
    },
    {
     "name": "stderr",
     "output_type": "stream",
     "text": [
      "保存 ./data/Github/split\\SEAL_train_neg 分批文件:  79%|███████▉  | 125/158 [01:54<00:32,  1.00batch/s]"
     ]
    },
    {
     "name": "stdout",
     "output_type": "stream",
     "text": [
      "已保存 ./data/Github/split\\SEAL_train_neg_batch124.pt，当前内存占用率 68.8%\n"
     ]
    },
    {
     "name": "stderr",
     "output_type": "stream",
     "text": [
      "保存 ./data/Github/split\\SEAL_train_neg 分批文件:  80%|███████▉  | 126/158 [01:55<00:29,  1.07batch/s]"
     ]
    },
    {
     "name": "stdout",
     "output_type": "stream",
     "text": [
      "已保存 ./data/Github/split\\SEAL_train_neg_batch125.pt，当前内存占用率 68.9%\n"
     ]
    },
    {
     "name": "stderr",
     "output_type": "stream",
     "text": [
      "保存 ./data/Github/split\\SEAL_train_neg 分批文件:  80%|████████  | 127/158 [01:56<00:28,  1.07batch/s]"
     ]
    },
    {
     "name": "stdout",
     "output_type": "stream",
     "text": [
      "已保存 ./data/Github/split\\SEAL_train_neg_batch126.pt，当前内存占用率 68.8%\n"
     ]
    },
    {
     "name": "stderr",
     "output_type": "stream",
     "text": [
      "保存 ./data/Github/split\\SEAL_train_neg 分批文件:  81%|████████  | 128/158 [01:57<00:28,  1.06batch/s]"
     ]
    },
    {
     "name": "stdout",
     "output_type": "stream",
     "text": [
      "已保存 ./data/Github/split\\SEAL_train_neg_batch127.pt，当前内存占用率 68.9%\n"
     ]
    },
    {
     "name": "stderr",
     "output_type": "stream",
     "text": [
      "保存 ./data/Github/split\\SEAL_train_neg 分批文件:  82%|████████▏ | 129/158 [01:58<00:27,  1.05batch/s]"
     ]
    },
    {
     "name": "stdout",
     "output_type": "stream",
     "text": [
      "已保存 ./data/Github/split\\SEAL_train_neg_batch128.pt，当前内存占用率 69.0%\n"
     ]
    },
    {
     "name": "stderr",
     "output_type": "stream",
     "text": [
      "保存 ./data/Github/split\\SEAL_train_neg 分批文件:  82%|████████▏ | 130/158 [01:59<00:26,  1.05batch/s]"
     ]
    },
    {
     "name": "stdout",
     "output_type": "stream",
     "text": [
      "已保存 ./data/Github/split\\SEAL_train_neg_batch129.pt，当前内存占用率 68.8%\n"
     ]
    },
    {
     "name": "stderr",
     "output_type": "stream",
     "text": [
      "保存 ./data/Github/split\\SEAL_train_neg 分批文件:  83%|████████▎ | 131/158 [02:00<00:24,  1.08batch/s]"
     ]
    },
    {
     "name": "stdout",
     "output_type": "stream",
     "text": [
      "已保存 ./data/Github/split\\SEAL_train_neg_batch130.pt，当前内存占用率 68.9%\n"
     ]
    },
    {
     "name": "stderr",
     "output_type": "stream",
     "text": [
      "保存 ./data/Github/split\\SEAL_train_neg 分批文件:  84%|████████▎ | 132/158 [02:01<00:24,  1.07batch/s]"
     ]
    },
    {
     "name": "stdout",
     "output_type": "stream",
     "text": [
      "已保存 ./data/Github/split\\SEAL_train_neg_batch131.pt，当前内存占用率 68.8%\n"
     ]
    },
    {
     "name": "stderr",
     "output_type": "stream",
     "text": [
      "保存 ./data/Github/split\\SEAL_train_neg 分批文件:  84%|████████▍ | 133/158 [02:02<00:25,  1.03s/batch]"
     ]
    },
    {
     "name": "stdout",
     "output_type": "stream",
     "text": [
      "已保存 ./data/Github/split\\SEAL_train_neg_batch132.pt，当前内存占用率 69.3%\n"
     ]
    },
    {
     "name": "stderr",
     "output_type": "stream",
     "text": [
      "保存 ./data/Github/split\\SEAL_train_neg 分批文件:  85%|████████▍ | 134/158 [02:03<00:25,  1.06s/batch]"
     ]
    },
    {
     "name": "stdout",
     "output_type": "stream",
     "text": [
      "已保存 ./data/Github/split\\SEAL_train_neg_batch133.pt，当前内存占用率 69.3%\n"
     ]
    },
    {
     "name": "stderr",
     "output_type": "stream",
     "text": [
      "保存 ./data/Github/split\\SEAL_train_neg 分批文件:  85%|████████▌ | 135/158 [02:04<00:22,  1.00batch/s]"
     ]
    },
    {
     "name": "stdout",
     "output_type": "stream",
     "text": [
      "已保存 ./data/Github/split\\SEAL_train_neg_batch134.pt，当前内存占用率 68.4%\n"
     ]
    },
    {
     "name": "stderr",
     "output_type": "stream",
     "text": [
      "保存 ./data/Github/split\\SEAL_train_neg 分批文件:  86%|████████▌ | 136/158 [02:05<00:21,  1.02batch/s]"
     ]
    },
    {
     "name": "stdout",
     "output_type": "stream",
     "text": [
      "已保存 ./data/Github/split\\SEAL_train_neg_batch135.pt，当前内存占用率 68.8%\n"
     ]
    },
    {
     "name": "stderr",
     "output_type": "stream",
     "text": [
      "保存 ./data/Github/split\\SEAL_train_neg 分批文件:  87%|████████▋ | 137/158 [02:06<00:19,  1.10batch/s]"
     ]
    },
    {
     "name": "stdout",
     "output_type": "stream",
     "text": [
      "已保存 ./data/Github/split\\SEAL_train_neg_batch136.pt，当前内存占用率 68.7%\n"
     ]
    },
    {
     "name": "stderr",
     "output_type": "stream",
     "text": [
      "保存 ./data/Github/split\\SEAL_train_neg 分批文件:  87%|████████▋ | 138/158 [02:07<00:16,  1.18batch/s]"
     ]
    },
    {
     "name": "stdout",
     "output_type": "stream",
     "text": [
      "已保存 ./data/Github/split\\SEAL_train_neg_batch137.pt，当前内存占用率 68.7%\n"
     ]
    },
    {
     "name": "stderr",
     "output_type": "stream",
     "text": [
      "保存 ./data/Github/split\\SEAL_train_neg 分批文件:  88%|████████▊ | 139/158 [02:07<00:15,  1.24batch/s]"
     ]
    },
    {
     "name": "stdout",
     "output_type": "stream",
     "text": [
      "已保存 ./data/Github/split\\SEAL_train_neg_batch138.pt，当前内存占用率 68.7%\n"
     ]
    },
    {
     "name": "stderr",
     "output_type": "stream",
     "text": [
      "保存 ./data/Github/split\\SEAL_train_neg 分批文件:  89%|████████▊ | 140/158 [02:08<00:13,  1.35batch/s]"
     ]
    },
    {
     "name": "stdout",
     "output_type": "stream",
     "text": [
      "已保存 ./data/Github/split\\SEAL_train_neg_batch139.pt，当前内存占用率 68.5%\n"
     ]
    },
    {
     "name": "stderr",
     "output_type": "stream",
     "text": [
      "保存 ./data/Github/split\\SEAL_train_neg 分批文件:  89%|████████▉ | 141/158 [02:08<00:12,  1.41batch/s]"
     ]
    },
    {
     "name": "stdout",
     "output_type": "stream",
     "text": [
      "已保存 ./data/Github/split\\SEAL_train_neg_batch140.pt，当前内存占用率 68.8%\n"
     ]
    },
    {
     "name": "stderr",
     "output_type": "stream",
     "text": [
      "保存 ./data/Github/split\\SEAL_train_neg 分批文件:  90%|████████▉ | 142/158 [02:09<00:11,  1.41batch/s]"
     ]
    },
    {
     "name": "stdout",
     "output_type": "stream",
     "text": [
      "已保存 ./data/Github/split\\SEAL_train_neg_batch141.pt，当前内存占用率 68.8%\n"
     ]
    },
    {
     "name": "stderr",
     "output_type": "stream",
     "text": [
      "保存 ./data/Github/split\\SEAL_train_neg 分批文件:  91%|█████████ | 143/158 [02:10<00:11,  1.33batch/s]"
     ]
    },
    {
     "name": "stdout",
     "output_type": "stream",
     "text": [
      "已保存 ./data/Github/split\\SEAL_train_neg_batch142.pt，当前内存占用率 68.8%\n"
     ]
    },
    {
     "name": "stderr",
     "output_type": "stream",
     "text": [
      "保存 ./data/Github/split\\SEAL_train_neg 分批文件:  91%|█████████ | 144/158 [02:11<00:10,  1.38batch/s]"
     ]
    },
    {
     "name": "stdout",
     "output_type": "stream",
     "text": [
      "已保存 ./data/Github/split\\SEAL_train_neg_batch143.pt，当前内存占用率 68.6%\n"
     ]
    },
    {
     "name": "stderr",
     "output_type": "stream",
     "text": [
      "保存 ./data/Github/split\\SEAL_train_neg 分批文件:  92%|█████████▏| 145/158 [02:11<00:09,  1.41batch/s]"
     ]
    },
    {
     "name": "stdout",
     "output_type": "stream",
     "text": [
      "已保存 ./data/Github/split\\SEAL_train_neg_batch144.pt，当前内存占用率 68.6%\n"
     ]
    },
    {
     "name": "stderr",
     "output_type": "stream",
     "text": [
      "保存 ./data/Github/split\\SEAL_train_neg 分批文件:  92%|█████████▏| 146/158 [02:12<00:08,  1.39batch/s]"
     ]
    },
    {
     "name": "stdout",
     "output_type": "stream",
     "text": [
      "已保存 ./data/Github/split\\SEAL_train_neg_batch145.pt，当前内存占用率 68.6%\n"
     ]
    },
    {
     "name": "stderr",
     "output_type": "stream",
     "text": [
      "保存 ./data/Github/split\\SEAL_train_neg 分批文件:  93%|█████████▎| 147/158 [02:13<00:07,  1.46batch/s]"
     ]
    },
    {
     "name": "stdout",
     "output_type": "stream",
     "text": [
      "已保存 ./data/Github/split\\SEAL_train_neg_batch146.pt，当前内存占用率 68.6%\n"
     ]
    },
    {
     "name": "stderr",
     "output_type": "stream",
     "text": [
      "保存 ./data/Github/split\\SEAL_train_neg 分批文件:  94%|█████████▎| 148/158 [02:14<00:07,  1.37batch/s]"
     ]
    },
    {
     "name": "stdout",
     "output_type": "stream",
     "text": [
      "已保存 ./data/Github/split\\SEAL_train_neg_batch147.pt，当前内存占用率 68.4%\n"
     ]
    },
    {
     "name": "stderr",
     "output_type": "stream",
     "text": [
      "保存 ./data/Github/split\\SEAL_train_neg 分批文件:  94%|█████████▍| 149/158 [02:14<00:06,  1.42batch/s]"
     ]
    },
    {
     "name": "stdout",
     "output_type": "stream",
     "text": [
      "已保存 ./data/Github/split\\SEAL_train_neg_batch148.pt，当前内存占用率 68.4%\n"
     ]
    },
    {
     "name": "stderr",
     "output_type": "stream",
     "text": [
      "保存 ./data/Github/split\\SEAL_train_neg 分批文件:  95%|█████████▍| 150/158 [02:15<00:05,  1.36batch/s]"
     ]
    },
    {
     "name": "stdout",
     "output_type": "stream",
     "text": [
      "已保存 ./data/Github/split\\SEAL_train_neg_batch149.pt，当前内存占用率 68.4%\n"
     ]
    },
    {
     "name": "stderr",
     "output_type": "stream",
     "text": [
      "保存 ./data/Github/split\\SEAL_train_neg 分批文件:  96%|█████████▌| 151/158 [02:16<00:04,  1.42batch/s]"
     ]
    },
    {
     "name": "stdout",
     "output_type": "stream",
     "text": [
      "已保存 ./data/Github/split\\SEAL_train_neg_batch150.pt，当前内存占用率 68.6%\n"
     ]
    },
    {
     "name": "stderr",
     "output_type": "stream",
     "text": [
      "保存 ./data/Github/split\\SEAL_train_neg 分批文件:  96%|█████████▌| 152/158 [02:16<00:04,  1.34batch/s]"
     ]
    },
    {
     "name": "stdout",
     "output_type": "stream",
     "text": [
      "已保存 ./data/Github/split\\SEAL_train_neg_batch151.pt，当前内存占用率 68.6%\n"
     ]
    },
    {
     "name": "stderr",
     "output_type": "stream",
     "text": [
      "保存 ./data/Github/split\\SEAL_train_neg 分批文件:  97%|█████████▋| 153/158 [02:17<00:03,  1.30batch/s]"
     ]
    },
    {
     "name": "stdout",
     "output_type": "stream",
     "text": [
      "已保存 ./data/Github/split\\SEAL_train_neg_batch152.pt，当前内存占用率 68.5%\n"
     ]
    },
    {
     "name": "stderr",
     "output_type": "stream",
     "text": [
      "保存 ./data/Github/split\\SEAL_train_neg 分批文件:  97%|█████████▋| 154/158 [02:18<00:03,  1.30batch/s]"
     ]
    },
    {
     "name": "stdout",
     "output_type": "stream",
     "text": [
      "已保存 ./data/Github/split\\SEAL_train_neg_batch153.pt，当前内存占用率 68.4%\n"
     ]
    },
    {
     "name": "stderr",
     "output_type": "stream",
     "text": [
      "保存 ./data/Github/split\\SEAL_train_neg 分批文件:  98%|█████████▊| 155/158 [02:19<00:02,  1.34batch/s]"
     ]
    },
    {
     "name": "stdout",
     "output_type": "stream",
     "text": [
      "已保存 ./data/Github/split\\SEAL_train_neg_batch154.pt，当前内存占用率 68.3%\n"
     ]
    },
    {
     "name": "stderr",
     "output_type": "stream",
     "text": [
      "保存 ./data/Github/split\\SEAL_train_neg 分批文件:  99%|█████████▊| 156/158 [02:19<00:01,  1.36batch/s]"
     ]
    },
    {
     "name": "stdout",
     "output_type": "stream",
     "text": [
      "已保存 ./data/Github/split\\SEAL_train_neg_batch155.pt，当前内存占用率 68.5%\n"
     ]
    },
    {
     "name": "stderr",
     "output_type": "stream",
     "text": [
      "保存 ./data/Github/split\\SEAL_train_neg 分批文件:  99%|█████████▉| 157/158 [02:20<00:00,  1.28batch/s]"
     ]
    },
    {
     "name": "stdout",
     "output_type": "stream",
     "text": [
      "已保存 ./data/Github/split\\SEAL_train_neg_batch156.pt，当前内存占用率 68.4%\n"
     ]
    },
    {
     "name": "stderr",
     "output_type": "stream",
     "text": [
      "保存 ./data/Github/split\\SEAL_train_neg 分批文件: 100%|██████████| 158/158 [02:21<00:00,  1.12batch/s]\n"
     ]
    },
    {
     "name": "stdout",
     "output_type": "stream",
     "text": [
      "已保存 ./data/Github/split\\SEAL_train_neg_batch157.pt，当前内存占用率 68.2%\n",
      "保存 val 分批文件\n"
     ]
    },
    {
     "name": "stderr",
     "output_type": "stream",
     "text": [
      "保存 ./data/Github/split\\SEAL_val_pos 分批文件:  10%|█         | 1/10 [00:01<00:10,  1.15s/batch]"
     ]
    },
    {
     "name": "stdout",
     "output_type": "stream",
     "text": [
      "已保存 ./data/Github/split\\SEAL_val_pos_batch0.pt，当前内存占用率 69.5%\n"
     ]
    },
    {
     "name": "stderr",
     "output_type": "stream",
     "text": [
      "保存 ./data/Github/split\\SEAL_val_pos 分批文件:  20%|██        | 2/10 [00:02<00:09,  1.14s/batch]"
     ]
    },
    {
     "name": "stdout",
     "output_type": "stream",
     "text": [
      "已保存 ./data/Github/split\\SEAL_val_pos_batch1.pt，当前内存占用率 70.2%\n"
     ]
    },
    {
     "name": "stderr",
     "output_type": "stream",
     "text": [
      "保存 ./data/Github/split\\SEAL_val_pos 分批文件:  30%|███       | 3/10 [00:03<00:08,  1.15s/batch]"
     ]
    },
    {
     "name": "stdout",
     "output_type": "stream",
     "text": [
      "已保存 ./data/Github/split\\SEAL_val_pos_batch2.pt，当前内存占用率 70.1%\n"
     ]
    },
    {
     "name": "stderr",
     "output_type": "stream",
     "text": [
      "保存 ./data/Github/split\\SEAL_val_pos 分批文件:  40%|████      | 4/10 [00:04<00:07,  1.18s/batch]"
     ]
    },
    {
     "name": "stdout",
     "output_type": "stream",
     "text": [
      "已保存 ./data/Github/split\\SEAL_val_pos_batch3.pt，当前内存占用率 70.4%\n"
     ]
    },
    {
     "name": "stderr",
     "output_type": "stream",
     "text": [
      "保存 ./data/Github/split\\SEAL_val_pos 分批文件:  50%|█████     | 5/10 [00:05<00:05,  1.16s/batch]"
     ]
    },
    {
     "name": "stdout",
     "output_type": "stream",
     "text": [
      "已保存 ./data/Github/split\\SEAL_val_pos_batch4.pt，当前内存占用率 70.8%\n"
     ]
    },
    {
     "name": "stderr",
     "output_type": "stream",
     "text": [
      "保存 ./data/Github/split\\SEAL_val_pos 分批文件:  60%|██████    | 6/10 [00:06<00:04,  1.14s/batch]"
     ]
    },
    {
     "name": "stdout",
     "output_type": "stream",
     "text": [
      "已保存 ./data/Github/split\\SEAL_val_pos_batch5.pt，当前内存占用率 70.6%\n"
     ]
    },
    {
     "name": "stderr",
     "output_type": "stream",
     "text": [
      "保存 ./data/Github/split\\SEAL_val_pos 分批文件:  70%|███████   | 7/10 [00:08<00:03,  1.18s/batch]"
     ]
    },
    {
     "name": "stdout",
     "output_type": "stream",
     "text": [
      "已保存 ./data/Github/split\\SEAL_val_pos_batch6.pt，当前内存占用率 70.4%\n"
     ]
    },
    {
     "name": "stderr",
     "output_type": "stream",
     "text": [
      "保存 ./data/Github/split\\SEAL_val_pos 分批文件:  80%|████████  | 8/10 [00:09<00:02,  1.24s/batch]"
     ]
    },
    {
     "name": "stdout",
     "output_type": "stream",
     "text": [
      "已保存 ./data/Github/split\\SEAL_val_pos_batch7.pt，当前内存占用率 70.9%\n"
     ]
    },
    {
     "name": "stderr",
     "output_type": "stream",
     "text": [
      "保存 ./data/Github/split\\SEAL_val_pos 分批文件:  90%|█████████ | 9/10 [00:11<00:01,  1.33s/batch]"
     ]
    },
    {
     "name": "stdout",
     "output_type": "stream",
     "text": [
      "已保存 ./data/Github/split\\SEAL_val_pos_batch8.pt，当前内存占用率 70.9%\n"
     ]
    },
    {
     "name": "stderr",
     "output_type": "stream",
     "text": [
      "保存 ./data/Github/split\\SEAL_val_pos 分批文件: 100%|██████████| 10/10 [00:11<00:00,  1.17s/batch]\n"
     ]
    },
    {
     "name": "stdout",
     "output_type": "stream",
     "text": [
      "已保存 ./data/Github/split\\SEAL_val_pos_batch9.pt，当前内存占用率 70.6%\n"
     ]
    },
    {
     "name": "stderr",
     "output_type": "stream",
     "text": [
      "保存 ./data/Github/split\\SEAL_val_neg 分批文件:  10%|█         | 1/10 [00:00<00:08,  1.12batch/s]"
     ]
    },
    {
     "name": "stdout",
     "output_type": "stream",
     "text": [
      "已保存 ./data/Github/split\\SEAL_val_neg_batch0.pt，当前内存占用率 69.1%\n"
     ]
    },
    {
     "name": "stderr",
     "output_type": "stream",
     "text": [
      "保存 ./data/Github/split\\SEAL_val_neg 分批文件:  20%|██        | 2/10 [00:01<00:06,  1.20batch/s]"
     ]
    },
    {
     "name": "stdout",
     "output_type": "stream",
     "text": [
      "已保存 ./data/Github/split\\SEAL_val_neg_batch1.pt，当前内存占用率 68.9%\n"
     ]
    },
    {
     "name": "stderr",
     "output_type": "stream",
     "text": [
      "保存 ./data/Github/split\\SEAL_val_neg 分批文件:  30%|███       | 3/10 [00:02<00:06,  1.16batch/s]"
     ]
    },
    {
     "name": "stdout",
     "output_type": "stream",
     "text": [
      "已保存 ./data/Github/split\\SEAL_val_neg_batch2.pt，当前内存占用率 68.7%\n"
     ]
    },
    {
     "name": "stderr",
     "output_type": "stream",
     "text": [
      "保存 ./data/Github/split\\SEAL_val_neg 分批文件:  40%|████      | 4/10 [00:03<00:04,  1.21batch/s]"
     ]
    },
    {
     "name": "stdout",
     "output_type": "stream",
     "text": [
      "已保存 ./data/Github/split\\SEAL_val_neg_batch3.pt，当前内存占用率 68.7%\n"
     ]
    },
    {
     "name": "stderr",
     "output_type": "stream",
     "text": [
      "保存 ./data/Github/split\\SEAL_val_neg 分批文件:  50%|█████     | 5/10 [00:04<00:04,  1.12batch/s]"
     ]
    },
    {
     "name": "stdout",
     "output_type": "stream",
     "text": [
      "已保存 ./data/Github/split\\SEAL_val_neg_batch4.pt，当前内存占用率 68.8%\n"
     ]
    },
    {
     "name": "stderr",
     "output_type": "stream",
     "text": [
      "保存 ./data/Github/split\\SEAL_val_neg 分批文件:  60%|██████    | 6/10 [00:05<00:04,  1.02s/batch]"
     ]
    },
    {
     "name": "stdout",
     "output_type": "stream",
     "text": [
      "已保存 ./data/Github/split\\SEAL_val_neg_batch5.pt，当前内存占用率 68.5%\n"
     ]
    },
    {
     "name": "stderr",
     "output_type": "stream",
     "text": [
      "保存 ./data/Github/split\\SEAL_val_neg 分批文件:  70%|███████   | 7/10 [00:06<00:03,  1.05s/batch]"
     ]
    },
    {
     "name": "stdout",
     "output_type": "stream",
     "text": [
      "已保存 ./data/Github/split\\SEAL_val_neg_batch6.pt，当前内存占用率 68.5%\n"
     ]
    },
    {
     "name": "stderr",
     "output_type": "stream",
     "text": [
      "保存 ./data/Github/split\\SEAL_val_neg 分批文件:  80%|████████  | 8/10 [00:08<00:02,  1.12s/batch]"
     ]
    },
    {
     "name": "stdout",
     "output_type": "stream",
     "text": [
      "已保存 ./data/Github/split\\SEAL_val_neg_batch7.pt，当前内存占用率 68.5%\n"
     ]
    },
    {
     "name": "stderr",
     "output_type": "stream",
     "text": [
      "保存 ./data/Github/split\\SEAL_val_neg 分批文件:  90%|█████████ | 9/10 [00:09<00:01,  1.09s/batch]"
     ]
    },
    {
     "name": "stdout",
     "output_type": "stream",
     "text": [
      "已保存 ./data/Github/split\\SEAL_val_neg_batch8.pt，当前内存占用率 68.7%\n"
     ]
    },
    {
     "name": "stderr",
     "output_type": "stream",
     "text": [
      "保存 ./data/Github/split\\SEAL_val_neg 分批文件: 100%|██████████| 10/10 [00:09<00:00,  1.06batch/s]\n"
     ]
    },
    {
     "name": "stdout",
     "output_type": "stream",
     "text": [
      "已保存 ./data/Github/split\\SEAL_val_neg_batch9.pt，当前内存占用率 68.6%\n",
      "保存 test 分批文件\n"
     ]
    },
    {
     "name": "stderr",
     "output_type": "stream",
     "text": [
      "保存 ./data/Github/split\\SEAL_test_pos 分批文件:   5%|▌         | 1/19 [00:01<00:22,  1.27s/batch]"
     ]
    },
    {
     "name": "stdout",
     "output_type": "stream",
     "text": [
      "已保存 ./data/Github/split\\SEAL_test_pos_batch0.pt，当前内存占用率 70.1%\n"
     ]
    },
    {
     "name": "stderr",
     "output_type": "stream",
     "text": [
      "保存 ./data/Github/split\\SEAL_test_pos 分批文件:  11%|█         | 2/19 [00:02<00:24,  1.45s/batch]"
     ]
    },
    {
     "name": "stdout",
     "output_type": "stream",
     "text": [
      "已保存 ./data/Github/split\\SEAL_test_pos_batch1.pt，当前内存占用率 70.5%\n"
     ]
    },
    {
     "name": "stderr",
     "output_type": "stream",
     "text": [
      "保存 ./data/Github/split\\SEAL_test_pos 分批文件:  16%|█▌        | 3/19 [00:04<00:24,  1.51s/batch]"
     ]
    },
    {
     "name": "stdout",
     "output_type": "stream",
     "text": [
      "已保存 ./data/Github/split\\SEAL_test_pos_batch2.pt，当前内存占用率 71.0%\n"
     ]
    },
    {
     "name": "stderr",
     "output_type": "stream",
     "text": [
      "保存 ./data/Github/split\\SEAL_test_pos 分批文件:  21%|██        | 4/19 [00:06<00:23,  1.59s/batch]"
     ]
    },
    {
     "name": "stdout",
     "output_type": "stream",
     "text": [
      "已保存 ./data/Github/split\\SEAL_test_pos_batch3.pt，当前内存占用率 71.3%\n"
     ]
    },
    {
     "name": "stderr",
     "output_type": "stream",
     "text": [
      "保存 ./data/Github/split\\SEAL_test_pos 分批文件:  26%|██▋       | 5/19 [00:08<00:24,  1.75s/batch]"
     ]
    },
    {
     "name": "stdout",
     "output_type": "stream",
     "text": [
      "已保存 ./data/Github/split\\SEAL_test_pos_batch4.pt，当前内存占用率 71.3%\n"
     ]
    },
    {
     "name": "stderr",
     "output_type": "stream",
     "text": [
      "保存 ./data/Github/split\\SEAL_test_pos 分批文件:  32%|███▏      | 6/19 [00:09<00:22,  1.73s/batch]"
     ]
    },
    {
     "name": "stdout",
     "output_type": "stream",
     "text": [
      "已保存 ./data/Github/split\\SEAL_test_pos_batch5.pt，当前内存占用率 71.3%\n"
     ]
    },
    {
     "name": "stderr",
     "output_type": "stream",
     "text": [
      "保存 ./data/Github/split\\SEAL_test_pos 分批文件:  37%|███▋      | 7/19 [00:11<00:19,  1.60s/batch]"
     ]
    },
    {
     "name": "stdout",
     "output_type": "stream",
     "text": [
      "已保存 ./data/Github/split\\SEAL_test_pos_batch6.pt，当前内存占用率 71.4%\n"
     ]
    },
    {
     "name": "stderr",
     "output_type": "stream",
     "text": [
      "保存 ./data/Github/split\\SEAL_test_pos 分批文件:  42%|████▏     | 8/19 [00:12<00:17,  1.55s/batch]"
     ]
    },
    {
     "name": "stdout",
     "output_type": "stream",
     "text": [
      "已保存 ./data/Github/split\\SEAL_test_pos_batch7.pt，当前内存占用率 71.6%\n"
     ]
    },
    {
     "name": "stderr",
     "output_type": "stream",
     "text": [
      "保存 ./data/Github/split\\SEAL_test_pos 分批文件:  47%|████▋     | 9/19 [00:14<00:15,  1.50s/batch]"
     ]
    },
    {
     "name": "stdout",
     "output_type": "stream",
     "text": [
      "已保存 ./data/Github/split\\SEAL_test_pos_batch8.pt，当前内存占用率 71.0%\n"
     ]
    },
    {
     "name": "stderr",
     "output_type": "stream",
     "text": [
      "保存 ./data/Github/split\\SEAL_test_pos 分批文件:  53%|█████▎    | 10/19 [00:15<00:13,  1.45s/batch]"
     ]
    },
    {
     "name": "stdout",
     "output_type": "stream",
     "text": [
      "已保存 ./data/Github/split\\SEAL_test_pos_batch9.pt，当前内存占用率 70.8%\n"
     ]
    },
    {
     "name": "stderr",
     "output_type": "stream",
     "text": [
      "保存 ./data/Github/split\\SEAL_test_pos 分批文件:  58%|█████▊    | 11/19 [00:16<00:11,  1.41s/batch]"
     ]
    },
    {
     "name": "stdout",
     "output_type": "stream",
     "text": [
      "已保存 ./data/Github/split\\SEAL_test_pos_batch10.pt，当前内存占用率 70.9%\n"
     ]
    },
    {
     "name": "stderr",
     "output_type": "stream",
     "text": [
      "保存 ./data/Github/split\\SEAL_test_pos 分批文件:  63%|██████▎   | 12/19 [00:18<00:09,  1.42s/batch]"
     ]
    },
    {
     "name": "stdout",
     "output_type": "stream",
     "text": [
      "已保存 ./data/Github/split\\SEAL_test_pos_batch11.pt，当前内存占用率 71.1%\n"
     ]
    },
    {
     "name": "stderr",
     "output_type": "stream",
     "text": [
      "保存 ./data/Github/split\\SEAL_test_pos 分批文件:  68%|██████▊   | 13/19 [00:20<00:09,  1.64s/batch]"
     ]
    },
    {
     "name": "stdout",
     "output_type": "stream",
     "text": [
      "已保存 ./data/Github/split\\SEAL_test_pos_batch12.pt，当前内存占用率 71.0%\n"
     ]
    },
    {
     "name": "stderr",
     "output_type": "stream",
     "text": [
      "保存 ./data/Github/split\\SEAL_test_pos 分批文件:  74%|███████▎  | 14/19 [00:21<00:08,  1.61s/batch]"
     ]
    },
    {
     "name": "stdout",
     "output_type": "stream",
     "text": [
      "已保存 ./data/Github/split\\SEAL_test_pos_batch13.pt，当前内存占用率 71.0%\n"
     ]
    },
    {
     "name": "stderr",
     "output_type": "stream",
     "text": [
      "保存 ./data/Github/split\\SEAL_test_pos 分批文件:  79%|███████▉  | 15/19 [00:22<00:05,  1.45s/batch]"
     ]
    },
    {
     "name": "stdout",
     "output_type": "stream",
     "text": [
      "已保存 ./data/Github/split\\SEAL_test_pos_batch14.pt，当前内存占用率 71.2%\n"
     ]
    },
    {
     "name": "stderr",
     "output_type": "stream",
     "text": [
      "保存 ./data/Github/split\\SEAL_test_pos 分批文件:  84%|████████▍ | 16/19 [00:24<00:04,  1.40s/batch]"
     ]
    },
    {
     "name": "stdout",
     "output_type": "stream",
     "text": [
      "已保存 ./data/Github/split\\SEAL_test_pos_batch15.pt，当前内存占用率 71.3%\n"
     ]
    },
    {
     "name": "stderr",
     "output_type": "stream",
     "text": [
      "保存 ./data/Github/split\\SEAL_test_pos 分批文件:  89%|████████▉ | 17/19 [00:25<00:02,  1.41s/batch]"
     ]
    },
    {
     "name": "stdout",
     "output_type": "stream",
     "text": [
      "已保存 ./data/Github/split\\SEAL_test_pos_batch16.pt，当前内存占用率 71.3%\n"
     ]
    },
    {
     "name": "stderr",
     "output_type": "stream",
     "text": [
      "保存 ./data/Github/split\\SEAL_test_pos 分批文件:  95%|█████████▍| 18/19 [00:27<00:01,  1.48s/batch]"
     ]
    },
    {
     "name": "stdout",
     "output_type": "stream",
     "text": [
      "已保存 ./data/Github/split\\SEAL_test_pos_batch17.pt，当前内存占用率 71.0%\n"
     ]
    },
    {
     "name": "stderr",
     "output_type": "stream",
     "text": [
      "保存 ./data/Github/split\\SEAL_test_pos 分批文件: 100%|██████████| 19/19 [00:27<00:00,  1.47s/batch]\n"
     ]
    },
    {
     "name": "stdout",
     "output_type": "stream",
     "text": [
      "已保存 ./data/Github/split\\SEAL_test_pos_batch18.pt，当前内存占用率 71.2%\n"
     ]
    },
    {
     "name": "stderr",
     "output_type": "stream",
     "text": [
      "保存 ./data/Github/split\\SEAL_test_neg 分批文件:   5%|▌         | 1/19 [00:00<00:16,  1.10batch/s]"
     ]
    },
    {
     "name": "stdout",
     "output_type": "stream",
     "text": [
      "已保存 ./data/Github/split\\SEAL_test_neg_batch0.pt，当前内存占用率 69.5%\n"
     ]
    },
    {
     "name": "stderr",
     "output_type": "stream",
     "text": [
      "保存 ./data/Github/split\\SEAL_test_neg 分批文件:  11%|█         | 2/19 [00:01<00:16,  1.01batch/s]"
     ]
    },
    {
     "name": "stdout",
     "output_type": "stream",
     "text": [
      "已保存 ./data/Github/split\\SEAL_test_neg_batch1.pt，当前内存占用率 69.3%\n"
     ]
    },
    {
     "name": "stderr",
     "output_type": "stream",
     "text": [
      "保存 ./data/Github/split\\SEAL_test_neg 分批文件:  16%|█▌        | 3/19 [00:02<00:15,  1.01batch/s]"
     ]
    },
    {
     "name": "stdout",
     "output_type": "stream",
     "text": [
      "已保存 ./data/Github/split\\SEAL_test_neg_batch2.pt，当前内存占用率 69.3%\n"
     ]
    },
    {
     "name": "stderr",
     "output_type": "stream",
     "text": [
      "保存 ./data/Github/split\\SEAL_test_neg 分批文件:  21%|██        | 4/19 [00:03<00:14,  1.03batch/s]"
     ]
    },
    {
     "name": "stdout",
     "output_type": "stream",
     "text": [
      "已保存 ./data/Github/split\\SEAL_test_neg_batch3.pt，当前内存占用率 69.2%\n",
      "已保存 ./data/Github/split\\SEAL_test_neg_batch4.pt，当前内存占用率 68.9%\n"
     ]
    },
    {
     "name": "stderr",
     "output_type": "stream",
     "text": [
      "保存 ./data/Github/split\\SEAL_test_neg 分批文件:  32%|███▏      | 6/19 [00:05<00:13,  1.02s/batch]"
     ]
    },
    {
     "name": "stdout",
     "output_type": "stream",
     "text": [
      "已保存 ./data/Github/split\\SEAL_test_neg_batch5.pt，当前内存占用率 69.0%\n"
     ]
    },
    {
     "name": "stderr",
     "output_type": "stream",
     "text": [
      "保存 ./data/Github/split\\SEAL_test_neg 分批文件:  37%|███▋      | 7/19 [00:06<00:11,  1.06batch/s]"
     ]
    },
    {
     "name": "stdout",
     "output_type": "stream",
     "text": [
      "已保存 ./data/Github/split\\SEAL_test_neg_batch6.pt，当前内存占用率 69.0%\n"
     ]
    },
    {
     "name": "stderr",
     "output_type": "stream",
     "text": [
      "保存 ./data/Github/split\\SEAL_test_neg 分批文件:  42%|████▏     | 8/19 [00:07<00:10,  1.10batch/s]"
     ]
    },
    {
     "name": "stdout",
     "output_type": "stream",
     "text": [
      "已保存 ./data/Github/split\\SEAL_test_neg_batch7.pt，当前内存占用率 68.9%\n"
     ]
    },
    {
     "name": "stderr",
     "output_type": "stream",
     "text": [
      "保存 ./data/Github/split\\SEAL_test_neg 分批文件:  47%|████▋     | 9/19 [00:08<00:08,  1.12batch/s]"
     ]
    },
    {
     "name": "stdout",
     "output_type": "stream",
     "text": [
      "已保存 ./data/Github/split\\SEAL_test_neg_batch8.pt，当前内存占用率 68.9%\n"
     ]
    },
    {
     "name": "stderr",
     "output_type": "stream",
     "text": [
      "保存 ./data/Github/split\\SEAL_test_neg 分批文件:  53%|█████▎    | 10/19 [00:09<00:08,  1.04batch/s]"
     ]
    },
    {
     "name": "stdout",
     "output_type": "stream",
     "text": [
      "已保存 ./data/Github/split\\SEAL_test_neg_batch9.pt，当前内存占用率 69.1%\n"
     ]
    },
    {
     "name": "stderr",
     "output_type": "stream",
     "text": [
      "保存 ./data/Github/split\\SEAL_test_neg 分批文件:  58%|█████▊    | 11/19 [00:10<00:07,  1.05batch/s]"
     ]
    },
    {
     "name": "stdout",
     "output_type": "stream",
     "text": [
      "已保存 ./data/Github/split\\SEAL_test_neg_batch10.pt，当前内存占用率 69.0%\n"
     ]
    },
    {
     "name": "stderr",
     "output_type": "stream",
     "text": [
      "保存 ./data/Github/split\\SEAL_test_neg 分批文件:  63%|██████▎   | 12/19 [00:11<00:06,  1.09batch/s]"
     ]
    },
    {
     "name": "stdout",
     "output_type": "stream",
     "text": [
      "已保存 ./data/Github/split\\SEAL_test_neg_batch11.pt，当前内存占用率 68.9%\n"
     ]
    },
    {
     "name": "stderr",
     "output_type": "stream",
     "text": [
      "保存 ./data/Github/split\\SEAL_test_neg 分批文件:  68%|██████▊   | 13/19 [00:12<00:06,  1.04s/batch]"
     ]
    },
    {
     "name": "stdout",
     "output_type": "stream",
     "text": [
      "已保存 ./data/Github/split\\SEAL_test_neg_batch12.pt，当前内存占用率 69.1%\n"
     ]
    },
    {
     "name": "stderr",
     "output_type": "stream",
     "text": [
      "保存 ./data/Github/split\\SEAL_test_neg 分批文件:  74%|███████▎  | 14/19 [00:13<00:05,  1.02s/batch]"
     ]
    },
    {
     "name": "stdout",
     "output_type": "stream",
     "text": [
      "已保存 ./data/Github/split\\SEAL_test_neg_batch13.pt，当前内存占用率 68.9%\n"
     ]
    },
    {
     "name": "stderr",
     "output_type": "stream",
     "text": [
      "保存 ./data/Github/split\\SEAL_test_neg 分批文件:  79%|███████▉  | 15/19 [00:14<00:03,  1.03batch/s]"
     ]
    },
    {
     "name": "stdout",
     "output_type": "stream",
     "text": [
      "已保存 ./data/Github/split\\SEAL_test_neg_batch14.pt，当前内存占用率 68.9%\n"
     ]
    },
    {
     "name": "stderr",
     "output_type": "stream",
     "text": [
      "保存 ./data/Github/split\\SEAL_test_neg 分批文件:  84%|████████▍ | 16/19 [00:15<00:02,  1.07batch/s]"
     ]
    },
    {
     "name": "stdout",
     "output_type": "stream",
     "text": [
      "已保存 ./data/Github/split\\SEAL_test_neg_batch15.pt，当前内存占用率 69.0%\n"
     ]
    },
    {
     "name": "stderr",
     "output_type": "stream",
     "text": [
      "保存 ./data/Github/split\\SEAL_test_neg 分批文件:  89%|████████▉ | 17/19 [00:16<00:01,  1.11batch/s]"
     ]
    },
    {
     "name": "stdout",
     "output_type": "stream",
     "text": [
      "已保存 ./data/Github/split\\SEAL_test_neg_batch16.pt，当前内存占用率 69.0%\n"
     ]
    },
    {
     "name": "stderr",
     "output_type": "stream",
     "text": [
      "保存 ./data/Github/split\\SEAL_test_neg 分批文件:  95%|█████████▍| 18/19 [00:17<00:00,  1.12batch/s]"
     ]
    },
    {
     "name": "stdout",
     "output_type": "stream",
     "text": [
      "已保存 ./data/Github/split\\SEAL_test_neg_batch17.pt，当前内存占用率 68.9%\n"
     ]
    },
    {
     "name": "stderr",
     "output_type": "stream",
     "text": [
      "保存 ./data/Github/split\\SEAL_test_neg 分批文件: 100%|██████████| 19/19 [00:17<00:00,  1.08batch/s]"
     ]
    },
    {
     "name": "stdout",
     "output_type": "stream",
     "text": [
      "已保存 ./data/Github/split\\SEAL_test_neg_batch18.pt，当前内存占用率 68.6%\n",
      "所有分批处理和保存已完成！🚀\n",
      "\n",
      "--- 合并 train pos batch ---\n"
     ]
    },
    {
     "name": "stderr",
     "output_type": "stream",
     "text": [
      "\n"
     ]
    },
    {
     "name": "stdout",
     "output_type": "stream",
     "text": [
      "合并了 ./data/Github/split\\SEAL_train_pos_batch0.pt，当前总量：100\n",
      "合并了 ./data/Github/split\\SEAL_train_pos_batch1.pt，当前总量：200\n",
      "合并了 ./data/Github/split\\SEAL_train_pos_batch2.pt，当前总量：300\n",
      "合并了 ./data/Github/split\\SEAL_train_pos_batch3.pt，当前总量：400\n",
      "合并了 ./data/Github/split\\SEAL_train_pos_batch4.pt，当前总量：500\n",
      "合并了 ./data/Github/split\\SEAL_train_pos_batch5.pt，当前总量：600\n",
      "合并了 ./data/Github/split\\SEAL_train_pos_batch6.pt，当前总量：700\n",
      "合并了 ./data/Github/split\\SEAL_train_pos_batch7.pt，当前总量：800\n",
      "合并了 ./data/Github/split\\SEAL_train_pos_batch8.pt，当前总量：900\n",
      "合并了 ./data/Github/split\\SEAL_train_pos_batch9.pt，当前总量：1000\n",
      "合并了 ./data/Github/split\\SEAL_train_pos_batch10.pt，当前总量：1100\n",
      "合并了 ./data/Github/split\\SEAL_train_pos_batch11.pt，当前总量：1200\n",
      "合并了 ./data/Github/split\\SEAL_train_pos_batch12.pt，当前总量：1300\n",
      "合并了 ./data/Github/split\\SEAL_train_pos_batch13.pt，当前总量：1400\n",
      "合并了 ./data/Github/split\\SEAL_train_pos_batch14.pt，当前总量：1500\n",
      "合并了 ./data/Github/split\\SEAL_train_pos_batch15.pt，当前总量：1600\n",
      "合并了 ./data/Github/split\\SEAL_train_pos_batch16.pt，当前总量：1700\n",
      "合并了 ./data/Github/split\\SEAL_train_pos_batch17.pt，当前总量：1800\n",
      "合并了 ./data/Github/split\\SEAL_train_pos_batch18.pt，当前总量：1900\n",
      "合并了 ./data/Github/split\\SEAL_train_pos_batch19.pt，当前总量：2000\n",
      "合并了 ./data/Github/split\\SEAL_train_pos_batch20.pt，当前总量：2100\n",
      "合并了 ./data/Github/split\\SEAL_train_pos_batch21.pt，当前总量：2200\n",
      "合并了 ./data/Github/split\\SEAL_train_pos_batch22.pt，当前总量：2300\n",
      "合并了 ./data/Github/split\\SEAL_train_pos_batch23.pt，当前总量：2400\n",
      "合并了 ./data/Github/split\\SEAL_train_pos_batch24.pt，当前总量：2500\n",
      "合并了 ./data/Github/split\\SEAL_train_pos_batch25.pt，当前总量：2600\n",
      "合并了 ./data/Github/split\\SEAL_train_pos_batch26.pt，当前总量：2700\n",
      "合并了 ./data/Github/split\\SEAL_train_pos_batch27.pt，当前总量：2800\n",
      "合并了 ./data/Github/split\\SEAL_train_pos_batch28.pt，当前总量：2900\n",
      "合并了 ./data/Github/split\\SEAL_train_pos_batch29.pt，当前总量：3000\n",
      "合并了 ./data/Github/split\\SEAL_train_pos_batch30.pt，当前总量：3100\n",
      "合并了 ./data/Github/split\\SEAL_train_pos_batch31.pt，当前总量：3200\n",
      "合并了 ./data/Github/split\\SEAL_train_pos_batch32.pt，当前总量：3300\n",
      "合并了 ./data/Github/split\\SEAL_train_pos_batch33.pt，当前总量：3400\n",
      "合并了 ./data/Github/split\\SEAL_train_pos_batch34.pt，当前总量：3500\n",
      "合并了 ./data/Github/split\\SEAL_train_pos_batch35.pt，当前总量：3600\n",
      "合并了 ./data/Github/split\\SEAL_train_pos_batch36.pt，当前总量：3700\n",
      "合并了 ./data/Github/split\\SEAL_train_pos_batch37.pt，当前总量：3800\n",
      "合并了 ./data/Github/split\\SEAL_train_pos_batch38.pt，当前总量：3900\n",
      "合并了 ./data/Github/split\\SEAL_train_pos_batch39.pt，当前总量：4000\n",
      "合并了 ./data/Github/split\\SEAL_train_pos_batch40.pt，当前总量：4100\n",
      "合并了 ./data/Github/split\\SEAL_train_pos_batch41.pt，当前总量：4200\n",
      "合并了 ./data/Github/split\\SEAL_train_pos_batch42.pt，当前总量：4300\n",
      "合并了 ./data/Github/split\\SEAL_train_pos_batch43.pt，当前总量：4400\n",
      "合并了 ./data/Github/split\\SEAL_train_pos_batch44.pt，当前总量：4500\n",
      "合并了 ./data/Github/split\\SEAL_train_pos_batch45.pt，当前总量：4600\n",
      "合并了 ./data/Github/split\\SEAL_train_pos_batch46.pt，当前总量：4700\n",
      "合并了 ./data/Github/split\\SEAL_train_pos_batch47.pt，当前总量：4800\n",
      "合并了 ./data/Github/split\\SEAL_train_pos_batch48.pt，当前总量：4900\n",
      "合并了 ./data/Github/split\\SEAL_train_pos_batch49.pt，当前总量：5000\n",
      "合并了 ./data/Github/split\\SEAL_train_pos_batch50.pt，当前总量：5100\n",
      "合并了 ./data/Github/split\\SEAL_train_pos_batch51.pt，当前总量：5200\n",
      "合并了 ./data/Github/split\\SEAL_train_pos_batch52.pt，当前总量：5300\n",
      "合并了 ./data/Github/split\\SEAL_train_pos_batch53.pt，当前总量：5400\n",
      "合并了 ./data/Github/split\\SEAL_train_pos_batch54.pt，当前总量：5500\n",
      "合并了 ./data/Github/split\\SEAL_train_pos_batch55.pt，当前总量：5600\n",
      "合并了 ./data/Github/split\\SEAL_train_pos_batch56.pt，当前总量：5700\n",
      "合并了 ./data/Github/split\\SEAL_train_pos_batch57.pt，当前总量：5800\n",
      "合并了 ./data/Github/split\\SEAL_train_pos_batch58.pt，当前总量：5900\n",
      "合并了 ./data/Github/split\\SEAL_train_pos_batch59.pt，当前总量：6000\n",
      "合并了 ./data/Github/split\\SEAL_train_pos_batch60.pt，当前总量：6100\n",
      "合并了 ./data/Github/split\\SEAL_train_pos_batch61.pt，当前总量：6200\n",
      "合并了 ./data/Github/split\\SEAL_train_pos_batch62.pt，当前总量：6300\n",
      "合并了 ./data/Github/split\\SEAL_train_pos_batch63.pt，当前总量：6400\n",
      "合并了 ./data/Github/split\\SEAL_train_pos_batch64.pt，当前总量：6500\n",
      "合并了 ./data/Github/split\\SEAL_train_pos_batch65.pt，当前总量：6600\n",
      "合并了 ./data/Github/split\\SEAL_train_pos_batch66.pt，当前总量：6700\n",
      "合并了 ./data/Github/split\\SEAL_train_pos_batch67.pt，当前总量：6800\n",
      "合并了 ./data/Github/split\\SEAL_train_pos_batch68.pt，当前总量：6900\n",
      "合并了 ./data/Github/split\\SEAL_train_pos_batch69.pt，当前总量：7000\n",
      "合并了 ./data/Github/split\\SEAL_train_pos_batch70.pt，当前总量：7100\n",
      "合并了 ./data/Github/split\\SEAL_train_pos_batch71.pt，当前总量：7200\n",
      "合并了 ./data/Github/split\\SEAL_train_pos_batch72.pt，当前总量：7300\n",
      "合并了 ./data/Github/split\\SEAL_train_pos_batch73.pt，当前总量：7400\n",
      "合并了 ./data/Github/split\\SEAL_train_pos_batch74.pt，当前总量：7500\n",
      "合并了 ./data/Github/split\\SEAL_train_pos_batch75.pt，当前总量：7600\n",
      "合并了 ./data/Github/split\\SEAL_train_pos_batch76.pt，当前总量：7700\n",
      "合并了 ./data/Github/split\\SEAL_train_pos_batch77.pt，当前总量：7800\n",
      "合并了 ./data/Github/split\\SEAL_train_pos_batch78.pt，当前总量：7900\n",
      "合并了 ./data/Github/split\\SEAL_train_pos_batch79.pt，当前总量：8000\n",
      "合并了 ./data/Github/split\\SEAL_train_pos_batch80.pt，当前总量：8100\n",
      "合并了 ./data/Github/split\\SEAL_train_pos_batch81.pt，当前总量：8200\n",
      "合并了 ./data/Github/split\\SEAL_train_pos_batch82.pt，当前总量：8300\n",
      "合并了 ./data/Github/split\\SEAL_train_pos_batch83.pt，当前总量：8400\n",
      "合并了 ./data/Github/split\\SEAL_train_pos_batch84.pt，当前总量：8500\n",
      "合并了 ./data/Github/split\\SEAL_train_pos_batch85.pt，当前总量：8600\n",
      "合并了 ./data/Github/split\\SEAL_train_pos_batch86.pt，当前总量：8700\n",
      "合并了 ./data/Github/split\\SEAL_train_pos_batch87.pt，当前总量：8800\n",
      "合并了 ./data/Github/split\\SEAL_train_pos_batch88.pt，当前总量：8900\n",
      "合并了 ./data/Github/split\\SEAL_train_pos_batch89.pt，当前总量：9000\n",
      "合并了 ./data/Github/split\\SEAL_train_pos_batch90.pt，当前总量：9100\n",
      "合并了 ./data/Github/split\\SEAL_train_pos_batch91.pt，当前总量：9200\n",
      "合并了 ./data/Github/split\\SEAL_train_pos_batch92.pt，当前总量：9300\n",
      "合并了 ./data/Github/split\\SEAL_train_pos_batch93.pt，当前总量：9400\n",
      "合并了 ./data/Github/split\\SEAL_train_pos_batch94.pt，当前总量：9500\n",
      "合并了 ./data/Github/split\\SEAL_train_pos_batch95.pt，当前总量：9600\n",
      "合并了 ./data/Github/split\\SEAL_train_pos_batch96.pt，当前总量：9700\n",
      "合并了 ./data/Github/split\\SEAL_train_pos_batch97.pt，当前总量：9800\n",
      "合并了 ./data/Github/split\\SEAL_train_pos_batch98.pt，当前总量：9900\n",
      "合并了 ./data/Github/split\\SEAL_train_pos_batch99.pt，当前总量：10000\n",
      "合并了 ./data/Github/split\\SEAL_train_pos_batch100.pt，当前总量：10100\n",
      "合并了 ./data/Github/split\\SEAL_train_pos_batch101.pt，当前总量：10200\n",
      "合并了 ./data/Github/split\\SEAL_train_pos_batch102.pt，当前总量：10300\n",
      "合并了 ./data/Github/split\\SEAL_train_pos_batch103.pt，当前总量：10400\n",
      "合并了 ./data/Github/split\\SEAL_train_pos_batch104.pt，当前总量：10500\n",
      "合并了 ./data/Github/split\\SEAL_train_pos_batch105.pt，当前总量：10600\n",
      "合并了 ./data/Github/split\\SEAL_train_pos_batch106.pt，当前总量：10700\n",
      "合并了 ./data/Github/split\\SEAL_train_pos_batch107.pt，当前总量：10800\n",
      "合并了 ./data/Github/split\\SEAL_train_pos_batch108.pt，当前总量：10900\n",
      "合并了 ./data/Github/split\\SEAL_train_pos_batch109.pt，当前总量：11000\n",
      "合并了 ./data/Github/split\\SEAL_train_pos_batch110.pt，当前总量：11100\n",
      "合并了 ./data/Github/split\\SEAL_train_pos_batch111.pt，当前总量：11200\n",
      "合并了 ./data/Github/split\\SEAL_train_pos_batch112.pt，当前总量：11300\n",
      "合并了 ./data/Github/split\\SEAL_train_pos_batch113.pt，当前总量：11400\n",
      "合并了 ./data/Github/split\\SEAL_train_pos_batch114.pt，当前总量：11500\n",
      "合并了 ./data/Github/split\\SEAL_train_pos_batch115.pt，当前总量：11600\n",
      "合并了 ./data/Github/split\\SEAL_train_pos_batch116.pt，当前总量：11700\n",
      "合并了 ./data/Github/split\\SEAL_train_pos_batch117.pt，当前总量：11800\n",
      "合并了 ./data/Github/split\\SEAL_train_pos_batch118.pt，当前总量：11900\n",
      "合并了 ./data/Github/split\\SEAL_train_pos_batch119.pt，当前总量：12000\n",
      "合并了 ./data/Github/split\\SEAL_train_pos_batch120.pt，当前总量：12100\n",
      "合并了 ./data/Github/split\\SEAL_train_pos_batch121.pt，当前总量：12200\n",
      "合并了 ./data/Github/split\\SEAL_train_pos_batch122.pt，当前总量：12300\n",
      "合并了 ./data/Github/split\\SEAL_train_pos_batch123.pt，当前总量：12400\n",
      "合并了 ./data/Github/split\\SEAL_train_pos_batch124.pt，当前总量：12500\n",
      "合并了 ./data/Github/split\\SEAL_train_pos_batch125.pt，当前总量：12600\n",
      "合并了 ./data/Github/split\\SEAL_train_pos_batch126.pt，当前总量：12700\n",
      "合并了 ./data/Github/split\\SEAL_train_pos_batch127.pt，当前总量：12800\n",
      "合并了 ./data/Github/split\\SEAL_train_pos_batch128.pt，当前总量：12900\n",
      "合并了 ./data/Github/split\\SEAL_train_pos_batch129.pt，当前总量：13000\n",
      "合并了 ./data/Github/split\\SEAL_train_pos_batch130.pt，当前总量：13100\n",
      "合并了 ./data/Github/split\\SEAL_train_pos_batch131.pt，当前总量：13200\n",
      "合并了 ./data/Github/split\\SEAL_train_pos_batch132.pt，当前总量：13300\n",
      "合并了 ./data/Github/split\\SEAL_train_pos_batch133.pt，当前总量：13400\n",
      "合并了 ./data/Github/split\\SEAL_train_pos_batch134.pt，当前总量：13500\n",
      "合并了 ./data/Github/split\\SEAL_train_pos_batch135.pt，当前总量：13600\n",
      "合并了 ./data/Github/split\\SEAL_train_pos_batch136.pt，当前总量：13700\n",
      "合并了 ./data/Github/split\\SEAL_train_pos_batch137.pt，当前总量：13800\n",
      "合并了 ./data/Github/split\\SEAL_train_pos_batch138.pt，当前总量：13900\n",
      "合并了 ./data/Github/split\\SEAL_train_pos_batch139.pt，当前总量：14000\n",
      "合并了 ./data/Github/split\\SEAL_train_pos_batch140.pt，当前总量：14100\n",
      "合并了 ./data/Github/split\\SEAL_train_pos_batch141.pt，当前总量：14200\n",
      "合并了 ./data/Github/split\\SEAL_train_pos_batch142.pt，当前总量：14300\n",
      "合并了 ./data/Github/split\\SEAL_train_pos_batch143.pt，当前总量：14400\n",
      "合并了 ./data/Github/split\\SEAL_train_pos_batch144.pt，当前总量：14500\n",
      "合并了 ./data/Github/split\\SEAL_train_pos_batch145.pt，当前总量：14600\n",
      "合并了 ./data/Github/split\\SEAL_train_pos_batch146.pt，当前总量：14700\n",
      "合并了 ./data/Github/split\\SEAL_train_pos_batch147.pt，当前总量：14800\n",
      "合并了 ./data/Github/split\\SEAL_train_pos_batch148.pt，当前总量：14900\n",
      "合并了 ./data/Github/split\\SEAL_train_pos_batch149.pt，当前总量：15000\n",
      "合并了 ./data/Github/split\\SEAL_train_pos_batch150.pt，当前总量：15100\n",
      "合并了 ./data/Github/split\\SEAL_train_pos_batch151.pt，当前总量：15200\n",
      "合并了 ./data/Github/split\\SEAL_train_pos_batch152.pt，当前总量：15300\n",
      "合并了 ./data/Github/split\\SEAL_train_pos_batch153.pt，当前总量：15400\n",
      "合并了 ./data/Github/split\\SEAL_train_pos_batch154.pt，当前总量：15500\n",
      "合并了 ./data/Github/split\\SEAL_train_pos_batch155.pt，当前总量：15600\n",
      "合并了 ./data/Github/split\\SEAL_train_pos_batch156.pt，当前总量：15700\n",
      "合并了 ./data/Github/split\\SEAL_train_pos_batch157.pt，当前总量：15766\n",
      "保存到 ./data/Github/split\\SEAL_train_pos_data_list.pt，总计 15766 条数据\n",
      "--- 合并 train neg batch ---\n",
      "合并了 ./data/Github/split\\SEAL_train_neg_batch0.pt，当前总量：100\n",
      "合并了 ./data/Github/split\\SEAL_train_neg_batch1.pt，当前总量：200\n",
      "合并了 ./data/Github/split\\SEAL_train_neg_batch2.pt，当前总量：300\n",
      "合并了 ./data/Github/split\\SEAL_train_neg_batch3.pt，当前总量：400\n",
      "合并了 ./data/Github/split\\SEAL_train_neg_batch4.pt，当前总量：500\n",
      "合并了 ./data/Github/split\\SEAL_train_neg_batch5.pt，当前总量：600\n",
      "合并了 ./data/Github/split\\SEAL_train_neg_batch6.pt，当前总量：700\n",
      "合并了 ./data/Github/split\\SEAL_train_neg_batch7.pt，当前总量：800\n",
      "合并了 ./data/Github/split\\SEAL_train_neg_batch8.pt，当前总量：900\n",
      "合并了 ./data/Github/split\\SEAL_train_neg_batch9.pt，当前总量：1000\n",
      "合并了 ./data/Github/split\\SEAL_train_neg_batch10.pt，当前总量：1100\n",
      "合并了 ./data/Github/split\\SEAL_train_neg_batch11.pt，当前总量：1200\n",
      "合并了 ./data/Github/split\\SEAL_train_neg_batch12.pt，当前总量：1300\n",
      "合并了 ./data/Github/split\\SEAL_train_neg_batch13.pt，当前总量：1400\n",
      "合并了 ./data/Github/split\\SEAL_train_neg_batch14.pt，当前总量：1500\n",
      "合并了 ./data/Github/split\\SEAL_train_neg_batch15.pt，当前总量：1600\n",
      "合并了 ./data/Github/split\\SEAL_train_neg_batch16.pt，当前总量：1700\n",
      "合并了 ./data/Github/split\\SEAL_train_neg_batch17.pt，当前总量：1800\n",
      "合并了 ./data/Github/split\\SEAL_train_neg_batch18.pt，当前总量：1900\n",
      "合并了 ./data/Github/split\\SEAL_train_neg_batch19.pt，当前总量：2000\n",
      "合并了 ./data/Github/split\\SEAL_train_neg_batch20.pt，当前总量：2100\n",
      "合并了 ./data/Github/split\\SEAL_train_neg_batch21.pt，当前总量：2200\n",
      "合并了 ./data/Github/split\\SEAL_train_neg_batch22.pt，当前总量：2300\n",
      "合并了 ./data/Github/split\\SEAL_train_neg_batch23.pt，当前总量：2400\n",
      "合并了 ./data/Github/split\\SEAL_train_neg_batch24.pt，当前总量：2500\n",
      "合并了 ./data/Github/split\\SEAL_train_neg_batch25.pt，当前总量：2600\n",
      "合并了 ./data/Github/split\\SEAL_train_neg_batch26.pt，当前总量：2700\n",
      "合并了 ./data/Github/split\\SEAL_train_neg_batch27.pt，当前总量：2800\n",
      "合并了 ./data/Github/split\\SEAL_train_neg_batch28.pt，当前总量：2900\n",
      "合并了 ./data/Github/split\\SEAL_train_neg_batch29.pt，当前总量：3000\n",
      "合并了 ./data/Github/split\\SEAL_train_neg_batch30.pt，当前总量：3100\n",
      "合并了 ./data/Github/split\\SEAL_train_neg_batch31.pt，当前总量：3200\n",
      "合并了 ./data/Github/split\\SEAL_train_neg_batch32.pt，当前总量：3300\n",
      "合并了 ./data/Github/split\\SEAL_train_neg_batch33.pt，当前总量：3400\n",
      "合并了 ./data/Github/split\\SEAL_train_neg_batch34.pt，当前总量：3500\n",
      "合并了 ./data/Github/split\\SEAL_train_neg_batch35.pt，当前总量：3600\n",
      "合并了 ./data/Github/split\\SEAL_train_neg_batch36.pt，当前总量：3700\n",
      "合并了 ./data/Github/split\\SEAL_train_neg_batch37.pt，当前总量：3800\n",
      "合并了 ./data/Github/split\\SEAL_train_neg_batch38.pt，当前总量：3900\n",
      "合并了 ./data/Github/split\\SEAL_train_neg_batch39.pt，当前总量：4000\n",
      "合并了 ./data/Github/split\\SEAL_train_neg_batch40.pt，当前总量：4100\n",
      "合并了 ./data/Github/split\\SEAL_train_neg_batch41.pt，当前总量：4200\n",
      "合并了 ./data/Github/split\\SEAL_train_neg_batch42.pt，当前总量：4300\n",
      "合并了 ./data/Github/split\\SEAL_train_neg_batch43.pt，当前总量：4400\n",
      "合并了 ./data/Github/split\\SEAL_train_neg_batch44.pt，当前总量：4500\n",
      "合并了 ./data/Github/split\\SEAL_train_neg_batch45.pt，当前总量：4600\n",
      "合并了 ./data/Github/split\\SEAL_train_neg_batch46.pt，当前总量：4700\n",
      "合并了 ./data/Github/split\\SEAL_train_neg_batch47.pt，当前总量：4800\n",
      "合并了 ./data/Github/split\\SEAL_train_neg_batch48.pt，当前总量：4900\n",
      "合并了 ./data/Github/split\\SEAL_train_neg_batch49.pt，当前总量：5000\n",
      "合并了 ./data/Github/split\\SEAL_train_neg_batch50.pt，当前总量：5100\n",
      "合并了 ./data/Github/split\\SEAL_train_neg_batch51.pt，当前总量：5200\n",
      "合并了 ./data/Github/split\\SEAL_train_neg_batch52.pt，当前总量：5300\n",
      "合并了 ./data/Github/split\\SEAL_train_neg_batch53.pt，当前总量：5400\n",
      "合并了 ./data/Github/split\\SEAL_train_neg_batch54.pt，当前总量：5500\n",
      "合并了 ./data/Github/split\\SEAL_train_neg_batch55.pt，当前总量：5600\n",
      "合并了 ./data/Github/split\\SEAL_train_neg_batch56.pt，当前总量：5700\n",
      "合并了 ./data/Github/split\\SEAL_train_neg_batch57.pt，当前总量：5800\n",
      "合并了 ./data/Github/split\\SEAL_train_neg_batch58.pt，当前总量：5900\n",
      "合并了 ./data/Github/split\\SEAL_train_neg_batch59.pt，当前总量：6000\n",
      "合并了 ./data/Github/split\\SEAL_train_neg_batch60.pt，当前总量：6100\n",
      "合并了 ./data/Github/split\\SEAL_train_neg_batch61.pt，当前总量：6200\n",
      "合并了 ./data/Github/split\\SEAL_train_neg_batch62.pt，当前总量：6300\n",
      "合并了 ./data/Github/split\\SEAL_train_neg_batch63.pt，当前总量：6400\n",
      "合并了 ./data/Github/split\\SEAL_train_neg_batch64.pt，当前总量：6500\n",
      "合并了 ./data/Github/split\\SEAL_train_neg_batch65.pt，当前总量：6600\n",
      "合并了 ./data/Github/split\\SEAL_train_neg_batch66.pt，当前总量：6700\n",
      "合并了 ./data/Github/split\\SEAL_train_neg_batch67.pt，当前总量：6800\n",
      "合并了 ./data/Github/split\\SEAL_train_neg_batch68.pt，当前总量：6900\n",
      "合并了 ./data/Github/split\\SEAL_train_neg_batch69.pt，当前总量：7000\n",
      "合并了 ./data/Github/split\\SEAL_train_neg_batch70.pt，当前总量：7100\n",
      "合并了 ./data/Github/split\\SEAL_train_neg_batch71.pt，当前总量：7200\n",
      "合并了 ./data/Github/split\\SEAL_train_neg_batch72.pt，当前总量：7300\n",
      "合并了 ./data/Github/split\\SEAL_train_neg_batch73.pt，当前总量：7400\n",
      "合并了 ./data/Github/split\\SEAL_train_neg_batch74.pt，当前总量：7500\n",
      "合并了 ./data/Github/split\\SEAL_train_neg_batch75.pt，当前总量：7600\n",
      "合并了 ./data/Github/split\\SEAL_train_neg_batch76.pt，当前总量：7700\n",
      "合并了 ./data/Github/split\\SEAL_train_neg_batch77.pt，当前总量：7800\n",
      "合并了 ./data/Github/split\\SEAL_train_neg_batch78.pt，当前总量：7900\n",
      "合并了 ./data/Github/split\\SEAL_train_neg_batch79.pt，当前总量：8000\n",
      "合并了 ./data/Github/split\\SEAL_train_neg_batch80.pt，当前总量：8100\n",
      "合并了 ./data/Github/split\\SEAL_train_neg_batch81.pt，当前总量：8200\n",
      "合并了 ./data/Github/split\\SEAL_train_neg_batch82.pt，当前总量：8300\n",
      "合并了 ./data/Github/split\\SEAL_train_neg_batch83.pt，当前总量：8400\n",
      "合并了 ./data/Github/split\\SEAL_train_neg_batch84.pt，当前总量：8500\n",
      "合并了 ./data/Github/split\\SEAL_train_neg_batch85.pt，当前总量：8600\n",
      "合并了 ./data/Github/split\\SEAL_train_neg_batch86.pt，当前总量：8700\n",
      "合并了 ./data/Github/split\\SEAL_train_neg_batch87.pt，当前总量：8800\n",
      "合并了 ./data/Github/split\\SEAL_train_neg_batch88.pt，当前总量：8900\n",
      "合并了 ./data/Github/split\\SEAL_train_neg_batch89.pt，当前总量：9000\n",
      "合并了 ./data/Github/split\\SEAL_train_neg_batch90.pt，当前总量：9100\n",
      "合并了 ./data/Github/split\\SEAL_train_neg_batch91.pt，当前总量：9200\n",
      "合并了 ./data/Github/split\\SEAL_train_neg_batch92.pt，当前总量：9300\n",
      "合并了 ./data/Github/split\\SEAL_train_neg_batch93.pt，当前总量：9400\n",
      "合并了 ./data/Github/split\\SEAL_train_neg_batch94.pt，当前总量：9500\n",
      "合并了 ./data/Github/split\\SEAL_train_neg_batch95.pt，当前总量：9600\n",
      "合并了 ./data/Github/split\\SEAL_train_neg_batch96.pt，当前总量：9700\n",
      "合并了 ./data/Github/split\\SEAL_train_neg_batch97.pt，当前总量：9800\n",
      "合并了 ./data/Github/split\\SEAL_train_neg_batch98.pt，当前总量：9900\n",
      "合并了 ./data/Github/split\\SEAL_train_neg_batch99.pt，当前总量：10000\n",
      "合并了 ./data/Github/split\\SEAL_train_neg_batch100.pt，当前总量：10100\n",
      "合并了 ./data/Github/split\\SEAL_train_neg_batch101.pt，当前总量：10200\n",
      "合并了 ./data/Github/split\\SEAL_train_neg_batch102.pt，当前总量：10300\n",
      "合并了 ./data/Github/split\\SEAL_train_neg_batch103.pt，当前总量：10400\n",
      "合并了 ./data/Github/split\\SEAL_train_neg_batch104.pt，当前总量：10500\n",
      "合并了 ./data/Github/split\\SEAL_train_neg_batch105.pt，当前总量：10600\n",
      "合并了 ./data/Github/split\\SEAL_train_neg_batch106.pt，当前总量：10700\n",
      "合并了 ./data/Github/split\\SEAL_train_neg_batch107.pt，当前总量：10800\n",
      "合并了 ./data/Github/split\\SEAL_train_neg_batch108.pt，当前总量：10900\n",
      "合并了 ./data/Github/split\\SEAL_train_neg_batch109.pt，当前总量：11000\n",
      "合并了 ./data/Github/split\\SEAL_train_neg_batch110.pt，当前总量：11100\n",
      "合并了 ./data/Github/split\\SEAL_train_neg_batch111.pt，当前总量：11200\n",
      "合并了 ./data/Github/split\\SEAL_train_neg_batch112.pt，当前总量：11300\n",
      "合并了 ./data/Github/split\\SEAL_train_neg_batch113.pt，当前总量：11400\n",
      "合并了 ./data/Github/split\\SEAL_train_neg_batch114.pt，当前总量：11500\n",
      "合并了 ./data/Github/split\\SEAL_train_neg_batch115.pt，当前总量：11600\n",
      "合并了 ./data/Github/split\\SEAL_train_neg_batch116.pt，当前总量：11700\n",
      "合并了 ./data/Github/split\\SEAL_train_neg_batch117.pt，当前总量：11800\n",
      "合并了 ./data/Github/split\\SEAL_train_neg_batch118.pt，当前总量：11900\n",
      "合并了 ./data/Github/split\\SEAL_train_neg_batch119.pt，当前总量：12000\n",
      "合并了 ./data/Github/split\\SEAL_train_neg_batch120.pt，当前总量：12100\n",
      "合并了 ./data/Github/split\\SEAL_train_neg_batch121.pt，当前总量：12200\n",
      "合并了 ./data/Github/split\\SEAL_train_neg_batch122.pt，当前总量：12300\n",
      "合并了 ./data/Github/split\\SEAL_train_neg_batch123.pt，当前总量：12400\n",
      "合并了 ./data/Github/split\\SEAL_train_neg_batch124.pt，当前总量：12500\n",
      "合并了 ./data/Github/split\\SEAL_train_neg_batch125.pt，当前总量：12600\n",
      "合并了 ./data/Github/split\\SEAL_train_neg_batch126.pt，当前总量：12700\n",
      "合并了 ./data/Github/split\\SEAL_train_neg_batch127.pt，当前总量：12800\n",
      "合并了 ./data/Github/split\\SEAL_train_neg_batch128.pt，当前总量：12900\n",
      "合并了 ./data/Github/split\\SEAL_train_neg_batch129.pt，当前总量：13000\n",
      "合并了 ./data/Github/split\\SEAL_train_neg_batch130.pt，当前总量：13100\n",
      "合并了 ./data/Github/split\\SEAL_train_neg_batch131.pt，当前总量：13200\n",
      "合并了 ./data/Github/split\\SEAL_train_neg_batch132.pt，当前总量：13300\n",
      "合并了 ./data/Github/split\\SEAL_train_neg_batch133.pt，当前总量：13400\n",
      "合并了 ./data/Github/split\\SEAL_train_neg_batch134.pt，当前总量：13500\n",
      "合并了 ./data/Github/split\\SEAL_train_neg_batch135.pt，当前总量：13600\n",
      "合并了 ./data/Github/split\\SEAL_train_neg_batch136.pt，当前总量：13700\n",
      "合并了 ./data/Github/split\\SEAL_train_neg_batch137.pt，当前总量：13800\n",
      "合并了 ./data/Github/split\\SEAL_train_neg_batch138.pt，当前总量：13900\n",
      "合并了 ./data/Github/split\\SEAL_train_neg_batch139.pt，当前总量：14000\n",
      "合并了 ./data/Github/split\\SEAL_train_neg_batch140.pt，当前总量：14100\n",
      "合并了 ./data/Github/split\\SEAL_train_neg_batch141.pt，当前总量：14200\n",
      "合并了 ./data/Github/split\\SEAL_train_neg_batch142.pt，当前总量：14300\n",
      "合并了 ./data/Github/split\\SEAL_train_neg_batch143.pt，当前总量：14400\n",
      "合并了 ./data/Github/split\\SEAL_train_neg_batch144.pt，当前总量：14500\n",
      "合并了 ./data/Github/split\\SEAL_train_neg_batch145.pt，当前总量：14600\n",
      "合并了 ./data/Github/split\\SEAL_train_neg_batch146.pt，当前总量：14700\n",
      "合并了 ./data/Github/split\\SEAL_train_neg_batch147.pt，当前总量：14800\n",
      "合并了 ./data/Github/split\\SEAL_train_neg_batch148.pt，当前总量：14900\n",
      "合并了 ./data/Github/split\\SEAL_train_neg_batch149.pt，当前总量：15000\n",
      "合并了 ./data/Github/split\\SEAL_train_neg_batch150.pt，当前总量：15100\n",
      "合并了 ./data/Github/split\\SEAL_train_neg_batch151.pt，当前总量：15200\n",
      "合并了 ./data/Github/split\\SEAL_train_neg_batch152.pt，当前总量：15300\n",
      "合并了 ./data/Github/split\\SEAL_train_neg_batch153.pt，当前总量：15400\n",
      "合并了 ./data/Github/split\\SEAL_train_neg_batch154.pt，当前总量：15500\n",
      "合并了 ./data/Github/split\\SEAL_train_neg_batch155.pt，当前总量：15600\n",
      "合并了 ./data/Github/split\\SEAL_train_neg_batch156.pt，当前总量：15700\n",
      "合并了 ./data/Github/split\\SEAL_train_neg_batch157.pt，当前总量：15766\n",
      "保存到 ./data/Github/split\\SEAL_train_neg_data_list.pt，总计 15766 条数据\n",
      "--- 合并 train pos+neg 为总 data_list ---\n",
      "最终合并 ./data/Github/split\\SEAL_train_data_list.pt，总计 31532 条（正例 15766，负例 15766）\n",
      "\n",
      "--- 合并 val pos batch ---\n",
      "合并了 ./data/Github/split\\SEAL_val_pos_batch0.pt，当前总量：100\n",
      "合并了 ./data/Github/split\\SEAL_val_pos_batch1.pt，当前总量：200\n",
      "合并了 ./data/Github/split\\SEAL_val_pos_batch2.pt，当前总量：300\n",
      "合并了 ./data/Github/split\\SEAL_val_pos_batch3.pt，当前总量：400\n",
      "合并了 ./data/Github/split\\SEAL_val_pos_batch4.pt，当前总量：500\n",
      "合并了 ./data/Github/split\\SEAL_val_pos_batch5.pt，当前总量：600\n",
      "合并了 ./data/Github/split\\SEAL_val_pos_batch6.pt，当前总量：700\n",
      "合并了 ./data/Github/split\\SEAL_val_pos_batch7.pt，当前总量：800\n",
      "合并了 ./data/Github/split\\SEAL_val_pos_batch8.pt，当前总量：900\n",
      "合并了 ./data/Github/split\\SEAL_val_pos_batch9.pt，当前总量：927\n",
      "保存到 ./data/Github/split\\SEAL_val_pos_data_list.pt，总计 927 条数据\n",
      "--- 合并 val neg batch ---\n",
      "合并了 ./data/Github/split\\SEAL_val_neg_batch0.pt，当前总量：100\n",
      "合并了 ./data/Github/split\\SEAL_val_neg_batch1.pt，当前总量：200\n",
      "合并了 ./data/Github/split\\SEAL_val_neg_batch2.pt，当前总量：300\n",
      "合并了 ./data/Github/split\\SEAL_val_neg_batch3.pt，当前总量：400\n",
      "合并了 ./data/Github/split\\SEAL_val_neg_batch4.pt，当前总量：500\n",
      "合并了 ./data/Github/split\\SEAL_val_neg_batch5.pt，当前总量：600\n",
      "合并了 ./data/Github/split\\SEAL_val_neg_batch6.pt，当前总量：700\n",
      "合并了 ./data/Github/split\\SEAL_val_neg_batch7.pt，当前总量：800\n",
      "合并了 ./data/Github/split\\SEAL_val_neg_batch8.pt，当前总量：900\n",
      "合并了 ./data/Github/split\\SEAL_val_neg_batch9.pt，当前总量：927\n",
      "保存到 ./data/Github/split\\SEAL_val_neg_data_list.pt，总计 927 条数据\n",
      "--- 合并 val pos+neg 为总 data_list ---\n",
      "最终合并 ./data/Github/split\\SEAL_val_data_list.pt，总计 1854 条（正例 927，负例 927）\n",
      "\n",
      "--- 合并 test pos batch ---\n",
      "合并了 ./data/Github/split\\SEAL_test_pos_batch0.pt，当前总量：100\n",
      "合并了 ./data/Github/split\\SEAL_test_pos_batch1.pt，当前总量：200\n",
      "合并了 ./data/Github/split\\SEAL_test_pos_batch2.pt，当前总量：300\n",
      "合并了 ./data/Github/split\\SEAL_test_pos_batch3.pt，当前总量：400\n",
      "合并了 ./data/Github/split\\SEAL_test_pos_batch4.pt，当前总量：500\n",
      "合并了 ./data/Github/split\\SEAL_test_pos_batch5.pt，当前总量：600\n",
      "合并了 ./data/Github/split\\SEAL_test_pos_batch6.pt，当前总量：700\n",
      "合并了 ./data/Github/split\\SEAL_test_pos_batch7.pt，当前总量：800\n",
      "合并了 ./data/Github/split\\SEAL_test_pos_batch8.pt，当前总量：900\n",
      "合并了 ./data/Github/split\\SEAL_test_pos_batch9.pt，当前总量：1000\n",
      "合并了 ./data/Github/split\\SEAL_test_pos_batch10.pt，当前总量：1100\n",
      "合并了 ./data/Github/split\\SEAL_test_pos_batch11.pt，当前总量：1200\n",
      "合并了 ./data/Github/split\\SEAL_test_pos_batch12.pt，当前总量：1300\n",
      "合并了 ./data/Github/split\\SEAL_test_pos_batch13.pt，当前总量：1400\n",
      "合并了 ./data/Github/split\\SEAL_test_pos_batch14.pt，当前总量：1500\n",
      "合并了 ./data/Github/split\\SEAL_test_pos_batch15.pt，当前总量：1600\n",
      "合并了 ./data/Github/split\\SEAL_test_pos_batch16.pt，当前总量：1700\n",
      "合并了 ./data/Github/split\\SEAL_test_pos_batch17.pt，当前总量：1800\n",
      "合并了 ./data/Github/split\\SEAL_test_pos_batch18.pt，当前总量：1854\n",
      "保存到 ./data/Github/split\\SEAL_test_pos_data_list.pt，总计 1854 条数据\n",
      "--- 合并 test neg batch ---\n",
      "合并了 ./data/Github/split\\SEAL_test_neg_batch0.pt，当前总量：100\n",
      "合并了 ./data/Github/split\\SEAL_test_neg_batch1.pt，当前总量：200\n",
      "合并了 ./data/Github/split\\SEAL_test_neg_batch2.pt，当前总量：300\n",
      "合并了 ./data/Github/split\\SEAL_test_neg_batch3.pt，当前总量：400\n",
      "合并了 ./data/Github/split\\SEAL_test_neg_batch4.pt，当前总量：500\n",
      "合并了 ./data/Github/split\\SEAL_test_neg_batch5.pt，当前总量：600\n",
      "合并了 ./data/Github/split\\SEAL_test_neg_batch6.pt，当前总量：700\n",
      "合并了 ./data/Github/split\\SEAL_test_neg_batch7.pt，当前总量：800\n",
      "合并了 ./data/Github/split\\SEAL_test_neg_batch8.pt，当前总量：900\n",
      "合并了 ./data/Github/split\\SEAL_test_neg_batch9.pt，当前总量：1000\n",
      "合并了 ./data/Github/split\\SEAL_test_neg_batch10.pt，当前总量：1100\n",
      "合并了 ./data/Github/split\\SEAL_test_neg_batch11.pt，当前总量：1200\n",
      "合并了 ./data/Github/split\\SEAL_test_neg_batch12.pt，当前总量：1300\n",
      "合并了 ./data/Github/split\\SEAL_test_neg_batch13.pt，当前总量：1400\n",
      "合并了 ./data/Github/split\\SEAL_test_neg_batch14.pt，当前总量：1500\n",
      "合并了 ./data/Github/split\\SEAL_test_neg_batch15.pt，当前总量：1600\n",
      "合并了 ./data/Github/split\\SEAL_test_neg_batch16.pt，当前总量：1700\n",
      "合并了 ./data/Github/split\\SEAL_test_neg_batch17.pt，当前总量：1800\n",
      "合并了 ./data/Github/split\\SEAL_test_neg_batch18.pt，当前总量：1854\n",
      "保存到 ./data/Github/split\\SEAL_test_neg_data_list.pt，总计 1854 条数据\n",
      "--- 合并 test pos+neg 为总 data_list ---\n",
      "最终合并 ./data/Github/split\\SEAL_test_data_list.pt，总计 3708 条（正例 1854，负例 1854）\n",
      "所有分批处理、合并已完成！🚀\n",
      "已删除 ./data/Github/split\\SEAL_test_neg_batch0.pt\n",
      "已删除 ./data/Github/split\\SEAL_test_neg_batch1.pt\n",
      "已删除 ./data/Github/split\\SEAL_test_neg_batch10.pt\n",
      "已删除 ./data/Github/split\\SEAL_test_neg_batch11.pt\n",
      "已删除 ./data/Github/split\\SEAL_test_neg_batch12.pt\n",
      "已删除 ./data/Github/split\\SEAL_test_neg_batch13.pt\n",
      "已删除 ./data/Github/split\\SEAL_test_neg_batch14.pt\n",
      "已删除 ./data/Github/split\\SEAL_test_neg_batch15.pt\n",
      "已删除 ./data/Github/split\\SEAL_test_neg_batch16.pt\n",
      "已删除 ./data/Github/split\\SEAL_test_neg_batch17.pt\n",
      "已删除 ./data/Github/split\\SEAL_test_neg_batch18.pt\n",
      "已删除 ./data/Github/split\\SEAL_test_neg_batch2.pt\n",
      "已删除 ./data/Github/split\\SEAL_test_neg_batch3.pt\n",
      "已删除 ./data/Github/split\\SEAL_test_neg_batch4.pt\n",
      "已删除 ./data/Github/split\\SEAL_test_neg_batch5.pt\n",
      "已删除 ./data/Github/split\\SEAL_test_neg_batch6.pt\n",
      "已删除 ./data/Github/split\\SEAL_test_neg_batch7.pt\n",
      "已删除 ./data/Github/split\\SEAL_test_neg_batch8.pt\n",
      "已删除 ./data/Github/split\\SEAL_test_neg_batch9.pt\n",
      "已删除 ./data/Github/split\\SEAL_test_pos_batch0.pt\n",
      "已删除 ./data/Github/split\\SEAL_test_pos_batch1.pt\n",
      "已删除 ./data/Github/split\\SEAL_test_pos_batch10.pt\n",
      "已删除 ./data/Github/split\\SEAL_test_pos_batch11.pt\n",
      "已删除 ./data/Github/split\\SEAL_test_pos_batch12.pt\n",
      "已删除 ./data/Github/split\\SEAL_test_pos_batch13.pt\n",
      "已删除 ./data/Github/split\\SEAL_test_pos_batch14.pt\n",
      "已删除 ./data/Github/split\\SEAL_test_pos_batch15.pt\n",
      "已删除 ./data/Github/split\\SEAL_test_pos_batch16.pt\n",
      "已删除 ./data/Github/split\\SEAL_test_pos_batch17.pt\n",
      "已删除 ./data/Github/split\\SEAL_test_pos_batch18.pt\n",
      "已删除 ./data/Github/split\\SEAL_test_pos_batch2.pt\n",
      "已删除 ./data/Github/split\\SEAL_test_pos_batch3.pt\n",
      "已删除 ./data/Github/split\\SEAL_test_pos_batch4.pt\n",
      "已删除 ./data/Github/split\\SEAL_test_pos_batch5.pt\n",
      "已删除 ./data/Github/split\\SEAL_test_pos_batch6.pt\n",
      "已删除 ./data/Github/split\\SEAL_test_pos_batch7.pt\n",
      "已删除 ./data/Github/split\\SEAL_test_pos_batch8.pt\n",
      "已删除 ./data/Github/split\\SEAL_test_pos_batch9.pt\n",
      "已删除 ./data/Github/split\\SEAL_train_neg_batch0.pt\n",
      "已删除 ./data/Github/split\\SEAL_train_neg_batch1.pt\n",
      "已删除 ./data/Github/split\\SEAL_train_neg_batch10.pt\n",
      "已删除 ./data/Github/split\\SEAL_train_neg_batch100.pt\n",
      "已删除 ./data/Github/split\\SEAL_train_neg_batch101.pt\n",
      "已删除 ./data/Github/split\\SEAL_train_neg_batch102.pt\n",
      "已删除 ./data/Github/split\\SEAL_train_neg_batch103.pt\n",
      "已删除 ./data/Github/split\\SEAL_train_neg_batch104.pt\n",
      "已删除 ./data/Github/split\\SEAL_train_neg_batch105.pt\n",
      "已删除 ./data/Github/split\\SEAL_train_neg_batch106.pt\n",
      "已删除 ./data/Github/split\\SEAL_train_neg_batch107.pt\n",
      "已删除 ./data/Github/split\\SEAL_train_neg_batch108.pt\n",
      "已删除 ./data/Github/split\\SEAL_train_neg_batch109.pt\n",
      "已删除 ./data/Github/split\\SEAL_train_neg_batch11.pt\n",
      "已删除 ./data/Github/split\\SEAL_train_neg_batch110.pt\n",
      "已删除 ./data/Github/split\\SEAL_train_neg_batch111.pt\n",
      "已删除 ./data/Github/split\\SEAL_train_neg_batch112.pt\n",
      "已删除 ./data/Github/split\\SEAL_train_neg_batch113.pt\n",
      "已删除 ./data/Github/split\\SEAL_train_neg_batch114.pt\n",
      "已删除 ./data/Github/split\\SEAL_train_neg_batch115.pt\n",
      "已删除 ./data/Github/split\\SEAL_train_neg_batch116.pt\n",
      "已删除 ./data/Github/split\\SEAL_train_neg_batch117.pt\n",
      "已删除 ./data/Github/split\\SEAL_train_neg_batch118.pt\n",
      "已删除 ./data/Github/split\\SEAL_train_neg_batch119.pt\n",
      "已删除 ./data/Github/split\\SEAL_train_neg_batch12.pt\n",
      "已删除 ./data/Github/split\\SEAL_train_neg_batch120.pt\n",
      "已删除 ./data/Github/split\\SEAL_train_neg_batch121.pt\n",
      "已删除 ./data/Github/split\\SEAL_train_neg_batch122.pt\n",
      "已删除 ./data/Github/split\\SEAL_train_neg_batch123.pt\n",
      "已删除 ./data/Github/split\\SEAL_train_neg_batch124.pt\n",
      "已删除 ./data/Github/split\\SEAL_train_neg_batch125.pt\n",
      "已删除 ./data/Github/split\\SEAL_train_neg_batch126.pt\n",
      "已删除 ./data/Github/split\\SEAL_train_neg_batch127.pt\n",
      "已删除 ./data/Github/split\\SEAL_train_neg_batch128.pt\n",
      "已删除 ./data/Github/split\\SEAL_train_neg_batch129.pt\n",
      "已删除 ./data/Github/split\\SEAL_train_neg_batch13.pt\n",
      "已删除 ./data/Github/split\\SEAL_train_neg_batch130.pt\n",
      "已删除 ./data/Github/split\\SEAL_train_neg_batch131.pt\n",
      "已删除 ./data/Github/split\\SEAL_train_neg_batch132.pt\n",
      "已删除 ./data/Github/split\\SEAL_train_neg_batch133.pt\n",
      "已删除 ./data/Github/split\\SEAL_train_neg_batch134.pt\n",
      "已删除 ./data/Github/split\\SEAL_train_neg_batch135.pt\n",
      "已删除 ./data/Github/split\\SEAL_train_neg_batch136.pt\n",
      "已删除 ./data/Github/split\\SEAL_train_neg_batch137.pt\n",
      "已删除 ./data/Github/split\\SEAL_train_neg_batch138.pt\n",
      "已删除 ./data/Github/split\\SEAL_train_neg_batch139.pt\n",
      "已删除 ./data/Github/split\\SEAL_train_neg_batch14.pt\n",
      "已删除 ./data/Github/split\\SEAL_train_neg_batch140.pt\n",
      "已删除 ./data/Github/split\\SEAL_train_neg_batch141.pt\n",
      "已删除 ./data/Github/split\\SEAL_train_neg_batch142.pt\n",
      "已删除 ./data/Github/split\\SEAL_train_neg_batch143.pt\n",
      "已删除 ./data/Github/split\\SEAL_train_neg_batch144.pt\n",
      "已删除 ./data/Github/split\\SEAL_train_neg_batch145.pt\n",
      "已删除 ./data/Github/split\\SEAL_train_neg_batch146.pt\n",
      "已删除 ./data/Github/split\\SEAL_train_neg_batch147.pt\n",
      "已删除 ./data/Github/split\\SEAL_train_neg_batch148.pt\n",
      "已删除 ./data/Github/split\\SEAL_train_neg_batch149.pt\n",
      "已删除 ./data/Github/split\\SEAL_train_neg_batch15.pt\n",
      "已删除 ./data/Github/split\\SEAL_train_neg_batch150.pt\n",
      "已删除 ./data/Github/split\\SEAL_train_neg_batch151.pt\n",
      "已删除 ./data/Github/split\\SEAL_train_neg_batch152.pt\n",
      "已删除 ./data/Github/split\\SEAL_train_neg_batch153.pt\n",
      "已删除 ./data/Github/split\\SEAL_train_neg_batch154.pt\n",
      "已删除 ./data/Github/split\\SEAL_train_neg_batch155.pt\n",
      "已删除 ./data/Github/split\\SEAL_train_neg_batch156.pt\n",
      "已删除 ./data/Github/split\\SEAL_train_neg_batch157.pt\n",
      "已删除 ./data/Github/split\\SEAL_train_neg_batch16.pt\n",
      "已删除 ./data/Github/split\\SEAL_train_neg_batch17.pt\n",
      "已删除 ./data/Github/split\\SEAL_train_neg_batch18.pt\n",
      "已删除 ./data/Github/split\\SEAL_train_neg_batch19.pt\n",
      "已删除 ./data/Github/split\\SEAL_train_neg_batch2.pt\n",
      "已删除 ./data/Github/split\\SEAL_train_neg_batch20.pt\n",
      "已删除 ./data/Github/split\\SEAL_train_neg_batch21.pt\n",
      "已删除 ./data/Github/split\\SEAL_train_neg_batch22.pt\n",
      "已删除 ./data/Github/split\\SEAL_train_neg_batch23.pt\n",
      "已删除 ./data/Github/split\\SEAL_train_neg_batch24.pt\n",
      "已删除 ./data/Github/split\\SEAL_train_neg_batch25.pt\n",
      "已删除 ./data/Github/split\\SEAL_train_neg_batch26.pt\n",
      "已删除 ./data/Github/split\\SEAL_train_neg_batch27.pt\n",
      "已删除 ./data/Github/split\\SEAL_train_neg_batch28.pt\n",
      "已删除 ./data/Github/split\\SEAL_train_neg_batch29.pt\n",
      "已删除 ./data/Github/split\\SEAL_train_neg_batch3.pt\n",
      "已删除 ./data/Github/split\\SEAL_train_neg_batch30.pt\n",
      "已删除 ./data/Github/split\\SEAL_train_neg_batch31.pt\n",
      "已删除 ./data/Github/split\\SEAL_train_neg_batch32.pt\n",
      "已删除 ./data/Github/split\\SEAL_train_neg_batch33.pt\n",
      "已删除 ./data/Github/split\\SEAL_train_neg_batch34.pt\n",
      "已删除 ./data/Github/split\\SEAL_train_neg_batch35.pt\n",
      "已删除 ./data/Github/split\\SEAL_train_neg_batch36.pt\n",
      "已删除 ./data/Github/split\\SEAL_train_neg_batch37.pt\n",
      "已删除 ./data/Github/split\\SEAL_train_neg_batch38.pt\n",
      "已删除 ./data/Github/split\\SEAL_train_neg_batch39.pt\n",
      "已删除 ./data/Github/split\\SEAL_train_neg_batch4.pt\n",
      "已删除 ./data/Github/split\\SEAL_train_neg_batch40.pt\n",
      "已删除 ./data/Github/split\\SEAL_train_neg_batch41.pt\n",
      "已删除 ./data/Github/split\\SEAL_train_neg_batch42.pt\n",
      "已删除 ./data/Github/split\\SEAL_train_neg_batch43.pt\n",
      "已删除 ./data/Github/split\\SEAL_train_neg_batch44.pt\n",
      "已删除 ./data/Github/split\\SEAL_train_neg_batch45.pt\n",
      "已删除 ./data/Github/split\\SEAL_train_neg_batch46.pt\n",
      "已删除 ./data/Github/split\\SEAL_train_neg_batch47.pt\n",
      "已删除 ./data/Github/split\\SEAL_train_neg_batch48.pt\n",
      "已删除 ./data/Github/split\\SEAL_train_neg_batch49.pt\n",
      "已删除 ./data/Github/split\\SEAL_train_neg_batch5.pt\n",
      "已删除 ./data/Github/split\\SEAL_train_neg_batch50.pt\n",
      "已删除 ./data/Github/split\\SEAL_train_neg_batch51.pt\n",
      "已删除 ./data/Github/split\\SEAL_train_neg_batch52.pt\n",
      "已删除 ./data/Github/split\\SEAL_train_neg_batch53.pt\n",
      "已删除 ./data/Github/split\\SEAL_train_neg_batch54.pt\n",
      "已删除 ./data/Github/split\\SEAL_train_neg_batch55.pt\n",
      "已删除 ./data/Github/split\\SEAL_train_neg_batch56.pt\n",
      "已删除 ./data/Github/split\\SEAL_train_neg_batch57.pt\n",
      "已删除 ./data/Github/split\\SEAL_train_neg_batch58.pt\n",
      "已删除 ./data/Github/split\\SEAL_train_neg_batch59.pt\n",
      "已删除 ./data/Github/split\\SEAL_train_neg_batch6.pt\n",
      "已删除 ./data/Github/split\\SEAL_train_neg_batch60.pt\n",
      "已删除 ./data/Github/split\\SEAL_train_neg_batch61.pt\n",
      "已删除 ./data/Github/split\\SEAL_train_neg_batch62.pt\n",
      "已删除 ./data/Github/split\\SEAL_train_neg_batch63.pt\n",
      "已删除 ./data/Github/split\\SEAL_train_neg_batch64.pt\n",
      "已删除 ./data/Github/split\\SEAL_train_neg_batch65.pt\n",
      "已删除 ./data/Github/split\\SEAL_train_neg_batch66.pt\n",
      "已删除 ./data/Github/split\\SEAL_train_neg_batch67.pt\n",
      "已删除 ./data/Github/split\\SEAL_train_neg_batch68.pt\n",
      "已删除 ./data/Github/split\\SEAL_train_neg_batch69.pt\n",
      "已删除 ./data/Github/split\\SEAL_train_neg_batch7.pt\n",
      "已删除 ./data/Github/split\\SEAL_train_neg_batch70.pt\n",
      "已删除 ./data/Github/split\\SEAL_train_neg_batch71.pt\n",
      "已删除 ./data/Github/split\\SEAL_train_neg_batch72.pt\n",
      "已删除 ./data/Github/split\\SEAL_train_neg_batch73.pt\n",
      "已删除 ./data/Github/split\\SEAL_train_neg_batch74.pt\n",
      "已删除 ./data/Github/split\\SEAL_train_neg_batch75.pt\n",
      "已删除 ./data/Github/split\\SEAL_train_neg_batch76.pt\n",
      "已删除 ./data/Github/split\\SEAL_train_neg_batch77.pt\n",
      "已删除 ./data/Github/split\\SEAL_train_neg_batch78.pt\n",
      "已删除 ./data/Github/split\\SEAL_train_neg_batch79.pt\n",
      "已删除 ./data/Github/split\\SEAL_train_neg_batch8.pt\n",
      "已删除 ./data/Github/split\\SEAL_train_neg_batch80.pt\n",
      "已删除 ./data/Github/split\\SEAL_train_neg_batch81.pt\n",
      "已删除 ./data/Github/split\\SEAL_train_neg_batch82.pt\n",
      "已删除 ./data/Github/split\\SEAL_train_neg_batch83.pt\n",
      "已删除 ./data/Github/split\\SEAL_train_neg_batch84.pt\n",
      "已删除 ./data/Github/split\\SEAL_train_neg_batch85.pt\n",
      "已删除 ./data/Github/split\\SEAL_train_neg_batch86.pt\n",
      "已删除 ./data/Github/split\\SEAL_train_neg_batch87.pt\n",
      "已删除 ./data/Github/split\\SEAL_train_neg_batch88.pt\n",
      "已删除 ./data/Github/split\\SEAL_train_neg_batch89.pt\n",
      "已删除 ./data/Github/split\\SEAL_train_neg_batch9.pt\n",
      "已删除 ./data/Github/split\\SEAL_train_neg_batch90.pt\n",
      "已删除 ./data/Github/split\\SEAL_train_neg_batch91.pt\n",
      "已删除 ./data/Github/split\\SEAL_train_neg_batch92.pt\n",
      "已删除 ./data/Github/split\\SEAL_train_neg_batch93.pt\n",
      "已删除 ./data/Github/split\\SEAL_train_neg_batch94.pt\n",
      "已删除 ./data/Github/split\\SEAL_train_neg_batch95.pt\n",
      "已删除 ./data/Github/split\\SEAL_train_neg_batch96.pt\n",
      "已删除 ./data/Github/split\\SEAL_train_neg_batch97.pt\n",
      "已删除 ./data/Github/split\\SEAL_train_neg_batch98.pt\n",
      "已删除 ./data/Github/split\\SEAL_train_neg_batch99.pt\n",
      "已删除 ./data/Github/split\\SEAL_train_pos_batch0.pt\n",
      "已删除 ./data/Github/split\\SEAL_train_pos_batch1.pt\n",
      "已删除 ./data/Github/split\\SEAL_train_pos_batch10.pt\n",
      "已删除 ./data/Github/split\\SEAL_train_pos_batch100.pt\n",
      "已删除 ./data/Github/split\\SEAL_train_pos_batch101.pt\n",
      "已删除 ./data/Github/split\\SEAL_train_pos_batch102.pt\n",
      "已删除 ./data/Github/split\\SEAL_train_pos_batch103.pt\n",
      "已删除 ./data/Github/split\\SEAL_train_pos_batch104.pt\n",
      "已删除 ./data/Github/split\\SEAL_train_pos_batch105.pt\n",
      "已删除 ./data/Github/split\\SEAL_train_pos_batch106.pt\n",
      "已删除 ./data/Github/split\\SEAL_train_pos_batch107.pt\n",
      "已删除 ./data/Github/split\\SEAL_train_pos_batch108.pt\n",
      "已删除 ./data/Github/split\\SEAL_train_pos_batch109.pt\n",
      "已删除 ./data/Github/split\\SEAL_train_pos_batch11.pt\n",
      "已删除 ./data/Github/split\\SEAL_train_pos_batch110.pt\n",
      "已删除 ./data/Github/split\\SEAL_train_pos_batch111.pt\n",
      "已删除 ./data/Github/split\\SEAL_train_pos_batch112.pt\n",
      "已删除 ./data/Github/split\\SEAL_train_pos_batch113.pt\n",
      "已删除 ./data/Github/split\\SEAL_train_pos_batch114.pt\n",
      "已删除 ./data/Github/split\\SEAL_train_pos_batch115.pt\n",
      "已删除 ./data/Github/split\\SEAL_train_pos_batch116.pt\n",
      "已删除 ./data/Github/split\\SEAL_train_pos_batch117.pt\n",
      "已删除 ./data/Github/split\\SEAL_train_pos_batch118.pt\n",
      "已删除 ./data/Github/split\\SEAL_train_pos_batch119.pt\n",
      "已删除 ./data/Github/split\\SEAL_train_pos_batch12.pt\n",
      "已删除 ./data/Github/split\\SEAL_train_pos_batch120.pt\n",
      "已删除 ./data/Github/split\\SEAL_train_pos_batch121.pt\n",
      "已删除 ./data/Github/split\\SEAL_train_pos_batch122.pt\n",
      "已删除 ./data/Github/split\\SEAL_train_pos_batch123.pt\n",
      "已删除 ./data/Github/split\\SEAL_train_pos_batch124.pt\n",
      "已删除 ./data/Github/split\\SEAL_train_pos_batch125.pt\n",
      "已删除 ./data/Github/split\\SEAL_train_pos_batch126.pt\n",
      "已删除 ./data/Github/split\\SEAL_train_pos_batch127.pt\n",
      "已删除 ./data/Github/split\\SEAL_train_pos_batch128.pt\n",
      "已删除 ./data/Github/split\\SEAL_train_pos_batch129.pt\n",
      "已删除 ./data/Github/split\\SEAL_train_pos_batch13.pt\n",
      "已删除 ./data/Github/split\\SEAL_train_pos_batch130.pt\n",
      "已删除 ./data/Github/split\\SEAL_train_pos_batch131.pt\n",
      "已删除 ./data/Github/split\\SEAL_train_pos_batch132.pt\n",
      "已删除 ./data/Github/split\\SEAL_train_pos_batch133.pt\n",
      "已删除 ./data/Github/split\\SEAL_train_pos_batch134.pt\n",
      "已删除 ./data/Github/split\\SEAL_train_pos_batch135.pt\n",
      "已删除 ./data/Github/split\\SEAL_train_pos_batch136.pt\n",
      "已删除 ./data/Github/split\\SEAL_train_pos_batch137.pt\n",
      "已删除 ./data/Github/split\\SEAL_train_pos_batch138.pt\n",
      "已删除 ./data/Github/split\\SEAL_train_pos_batch139.pt\n",
      "已删除 ./data/Github/split\\SEAL_train_pos_batch14.pt\n",
      "已删除 ./data/Github/split\\SEAL_train_pos_batch140.pt\n",
      "已删除 ./data/Github/split\\SEAL_train_pos_batch141.pt\n",
      "已删除 ./data/Github/split\\SEAL_train_pos_batch142.pt\n",
      "已删除 ./data/Github/split\\SEAL_train_pos_batch143.pt\n",
      "已删除 ./data/Github/split\\SEAL_train_pos_batch144.pt\n",
      "已删除 ./data/Github/split\\SEAL_train_pos_batch145.pt\n",
      "已删除 ./data/Github/split\\SEAL_train_pos_batch146.pt\n",
      "已删除 ./data/Github/split\\SEAL_train_pos_batch147.pt\n",
      "已删除 ./data/Github/split\\SEAL_train_pos_batch148.pt\n",
      "已删除 ./data/Github/split\\SEAL_train_pos_batch149.pt\n",
      "已删除 ./data/Github/split\\SEAL_train_pos_batch15.pt\n",
      "已删除 ./data/Github/split\\SEAL_train_pos_batch150.pt\n",
      "已删除 ./data/Github/split\\SEAL_train_pos_batch151.pt\n",
      "已删除 ./data/Github/split\\SEAL_train_pos_batch152.pt\n",
      "已删除 ./data/Github/split\\SEAL_train_pos_batch153.pt\n",
      "已删除 ./data/Github/split\\SEAL_train_pos_batch154.pt\n",
      "已删除 ./data/Github/split\\SEAL_train_pos_batch155.pt\n",
      "已删除 ./data/Github/split\\SEAL_train_pos_batch156.pt\n",
      "已删除 ./data/Github/split\\SEAL_train_pos_batch157.pt\n",
      "已删除 ./data/Github/split\\SEAL_train_pos_batch16.pt\n",
      "已删除 ./data/Github/split\\SEAL_train_pos_batch17.pt\n",
      "已删除 ./data/Github/split\\SEAL_train_pos_batch18.pt\n",
      "已删除 ./data/Github/split\\SEAL_train_pos_batch19.pt\n",
      "已删除 ./data/Github/split\\SEAL_train_pos_batch2.pt\n",
      "已删除 ./data/Github/split\\SEAL_train_pos_batch20.pt\n",
      "已删除 ./data/Github/split\\SEAL_train_pos_batch21.pt\n",
      "已删除 ./data/Github/split\\SEAL_train_pos_batch22.pt\n",
      "已删除 ./data/Github/split\\SEAL_train_pos_batch23.pt\n",
      "已删除 ./data/Github/split\\SEAL_train_pos_batch24.pt\n",
      "已删除 ./data/Github/split\\SEAL_train_pos_batch25.pt\n",
      "已删除 ./data/Github/split\\SEAL_train_pos_batch26.pt\n",
      "已删除 ./data/Github/split\\SEAL_train_pos_batch27.pt\n",
      "已删除 ./data/Github/split\\SEAL_train_pos_batch28.pt\n",
      "已删除 ./data/Github/split\\SEAL_train_pos_batch29.pt\n",
      "已删除 ./data/Github/split\\SEAL_train_pos_batch3.pt\n",
      "已删除 ./data/Github/split\\SEAL_train_pos_batch30.pt\n",
      "已删除 ./data/Github/split\\SEAL_train_pos_batch31.pt\n",
      "已删除 ./data/Github/split\\SEAL_train_pos_batch32.pt\n",
      "已删除 ./data/Github/split\\SEAL_train_pos_batch33.pt\n",
      "已删除 ./data/Github/split\\SEAL_train_pos_batch34.pt\n",
      "已删除 ./data/Github/split\\SEAL_train_pos_batch35.pt\n",
      "已删除 ./data/Github/split\\SEAL_train_pos_batch36.pt\n",
      "已删除 ./data/Github/split\\SEAL_train_pos_batch37.pt\n",
      "已删除 ./data/Github/split\\SEAL_train_pos_batch38.pt\n",
      "已删除 ./data/Github/split\\SEAL_train_pos_batch39.pt\n",
      "已删除 ./data/Github/split\\SEAL_train_pos_batch4.pt\n",
      "已删除 ./data/Github/split\\SEAL_train_pos_batch40.pt\n",
      "已删除 ./data/Github/split\\SEAL_train_pos_batch41.pt\n",
      "已删除 ./data/Github/split\\SEAL_train_pos_batch42.pt\n",
      "已删除 ./data/Github/split\\SEAL_train_pos_batch43.pt\n",
      "已删除 ./data/Github/split\\SEAL_train_pos_batch44.pt\n",
      "已删除 ./data/Github/split\\SEAL_train_pos_batch45.pt\n",
      "已删除 ./data/Github/split\\SEAL_train_pos_batch46.pt\n",
      "已删除 ./data/Github/split\\SEAL_train_pos_batch47.pt\n",
      "已删除 ./data/Github/split\\SEAL_train_pos_batch48.pt\n",
      "已删除 ./data/Github/split\\SEAL_train_pos_batch49.pt\n",
      "已删除 ./data/Github/split\\SEAL_train_pos_batch5.pt\n",
      "已删除 ./data/Github/split\\SEAL_train_pos_batch50.pt\n",
      "已删除 ./data/Github/split\\SEAL_train_pos_batch51.pt\n",
      "已删除 ./data/Github/split\\SEAL_train_pos_batch52.pt\n",
      "已删除 ./data/Github/split\\SEAL_train_pos_batch53.pt\n",
      "已删除 ./data/Github/split\\SEAL_train_pos_batch54.pt\n",
      "已删除 ./data/Github/split\\SEAL_train_pos_batch55.pt\n",
      "已删除 ./data/Github/split\\SEAL_train_pos_batch56.pt\n",
      "已删除 ./data/Github/split\\SEAL_train_pos_batch57.pt\n",
      "已删除 ./data/Github/split\\SEAL_train_pos_batch58.pt\n",
      "已删除 ./data/Github/split\\SEAL_train_pos_batch59.pt\n",
      "已删除 ./data/Github/split\\SEAL_train_pos_batch6.pt\n",
      "已删除 ./data/Github/split\\SEAL_train_pos_batch60.pt\n",
      "已删除 ./data/Github/split\\SEAL_train_pos_batch61.pt\n",
      "已删除 ./data/Github/split\\SEAL_train_pos_batch62.pt\n",
      "已删除 ./data/Github/split\\SEAL_train_pos_batch63.pt\n",
      "已删除 ./data/Github/split\\SEAL_train_pos_batch64.pt\n",
      "已删除 ./data/Github/split\\SEAL_train_pos_batch65.pt\n",
      "已删除 ./data/Github/split\\SEAL_train_pos_batch66.pt\n",
      "已删除 ./data/Github/split\\SEAL_train_pos_batch67.pt\n",
      "已删除 ./data/Github/split\\SEAL_train_pos_batch68.pt\n",
      "已删除 ./data/Github/split\\SEAL_train_pos_batch69.pt\n",
      "已删除 ./data/Github/split\\SEAL_train_pos_batch7.pt\n",
      "已删除 ./data/Github/split\\SEAL_train_pos_batch70.pt\n",
      "已删除 ./data/Github/split\\SEAL_train_pos_batch71.pt\n",
      "已删除 ./data/Github/split\\SEAL_train_pos_batch72.pt\n",
      "已删除 ./data/Github/split\\SEAL_train_pos_batch73.pt\n",
      "已删除 ./data/Github/split\\SEAL_train_pos_batch74.pt\n",
      "已删除 ./data/Github/split\\SEAL_train_pos_batch75.pt\n",
      "已删除 ./data/Github/split\\SEAL_train_pos_batch76.pt\n",
      "已删除 ./data/Github/split\\SEAL_train_pos_batch77.pt\n",
      "已删除 ./data/Github/split\\SEAL_train_pos_batch78.pt\n",
      "已删除 ./data/Github/split\\SEAL_train_pos_batch79.pt\n",
      "已删除 ./data/Github/split\\SEAL_train_pos_batch8.pt\n",
      "已删除 ./data/Github/split\\SEAL_train_pos_batch80.pt\n",
      "已删除 ./data/Github/split\\SEAL_train_pos_batch81.pt\n",
      "已删除 ./data/Github/split\\SEAL_train_pos_batch82.pt\n",
      "已删除 ./data/Github/split\\SEAL_train_pos_batch83.pt\n",
      "已删除 ./data/Github/split\\SEAL_train_pos_batch84.pt\n",
      "已删除 ./data/Github/split\\SEAL_train_pos_batch85.pt\n",
      "已删除 ./data/Github/split\\SEAL_train_pos_batch86.pt\n",
      "已删除 ./data/Github/split\\SEAL_train_pos_batch87.pt\n",
      "已删除 ./data/Github/split\\SEAL_train_pos_batch88.pt\n",
      "已删除 ./data/Github/split\\SEAL_train_pos_batch89.pt\n",
      "已删除 ./data/Github/split\\SEAL_train_pos_batch9.pt\n",
      "已删除 ./data/Github/split\\SEAL_train_pos_batch90.pt\n",
      "已删除 ./data/Github/split\\SEAL_train_pos_batch91.pt\n",
      "已删除 ./data/Github/split\\SEAL_train_pos_batch92.pt\n",
      "已删除 ./data/Github/split\\SEAL_train_pos_batch93.pt\n",
      "已删除 ./data/Github/split\\SEAL_train_pos_batch94.pt\n",
      "已删除 ./data/Github/split\\SEAL_train_pos_batch95.pt\n",
      "已删除 ./data/Github/split\\SEAL_train_pos_batch96.pt\n",
      "已删除 ./data/Github/split\\SEAL_train_pos_batch97.pt\n",
      "已删除 ./data/Github/split\\SEAL_train_pos_batch98.pt\n",
      "已删除 ./data/Github/split\\SEAL_train_pos_batch99.pt\n",
      "已删除 ./data/Github/split\\SEAL_val_neg_batch0.pt\n",
      "已删除 ./data/Github/split\\SEAL_val_neg_batch1.pt\n",
      "已删除 ./data/Github/split\\SEAL_val_neg_batch2.pt\n",
      "已删除 ./data/Github/split\\SEAL_val_neg_batch3.pt\n",
      "已删除 ./data/Github/split\\SEAL_val_neg_batch4.pt\n",
      "已删除 ./data/Github/split\\SEAL_val_neg_batch5.pt\n",
      "已删除 ./data/Github/split\\SEAL_val_neg_batch6.pt\n",
      "已删除 ./data/Github/split\\SEAL_val_neg_batch7.pt\n",
      "已删除 ./data/Github/split\\SEAL_val_neg_batch8.pt\n",
      "已删除 ./data/Github/split\\SEAL_val_neg_batch9.pt\n",
      "已删除 ./data/Github/split\\SEAL_val_pos_batch0.pt\n",
      "已删除 ./data/Github/split\\SEAL_val_pos_batch1.pt\n",
      "已删除 ./data/Github/split\\SEAL_val_pos_batch2.pt\n",
      "已删除 ./data/Github/split\\SEAL_val_pos_batch3.pt\n",
      "已删除 ./data/Github/split\\SEAL_val_pos_batch4.pt\n",
      "已删除 ./data/Github/split\\SEAL_val_pos_batch5.pt\n",
      "已删除 ./data/Github/split\\SEAL_val_pos_batch6.pt\n",
      "已删除 ./data/Github/split\\SEAL_val_pos_batch7.pt\n",
      "已删除 ./data/Github/split\\SEAL_val_pos_batch8.pt\n",
      "已删除 ./data/Github/split\\SEAL_val_pos_batch9.pt\n",
      "已删除 ./data/Github/split\\SEAL_test_neg_data_list.pt\n",
      "已删除 ./data/Github/split\\SEAL_test_pos_data_list.pt\n",
      "已删除 ./data/Github/split\\SEAL_val_neg_data_list.pt\n",
      "已删除 ./data/Github/split\\SEAL_val_pos_data_list.pt\n",
      "已删除 ./data/Github/split\\SEAL_train_neg_data_list.pt\n",
      "已删除 ./data/Github/split\\SEAL_train_pos_data_list.pt\n",
      "所有数据已保存并清理临时 batch 文件\n"
     ]
    }
   ],
   "source": [
    "seal = SEAL(num_hops = 2, save_dir = f'./data/{config.dataset}/split')\n",
    "seal.process()\n",
    "\n",
    "train_data_list = torch.load(f'./data/{config.dataset}/split/SEAL_train_data_list.pt')\n",
    "val_data_list = torch.load(f'./data/{config.dataset}/split/SEAL_val_data_list.pt')\n",
    "test_data_list = torch.load(f'./data/{config.dataset}/split/SEAL_test_data_list.pt')\n",
    "\n",
    "train_loader = DataLoader(train_data_list, batch_size=32, shuffle=True)\n",
    "val_loader = DataLoader(val_data_list, batch_size=32)\n",
    "test_loader = DataLoader(test_data_list, batch_size=32)\n"
   ]
  },
  {
   "cell_type": "code",
   "execution_count": 6,
   "id": "8911a3bb",
   "metadata": {},
   "outputs": [],
   "source": [
    "# dataset = Planetoid('./data', name=config.dataset)\n",
    "\n",
    "# train_data_list = SEALDataset(dataset, num_hops=2, split='train')\n",
    "# val_data_list = SEALDataset(dataset, num_hops=2, split='val')\n",
    "# test_data_list = SEALDataset(dataset, num_hops=2, split='test')\n",
    "\n",
    "# train_loader = DataLoader(train_data_list, batch_size=32, shuffle=True)\n",
    "# val_loader = DataLoader(val_data_list, batch_size=32)\n",
    "# test_loader = DataLoader(test_data_list, batch_size=32)\n",
    "\n"
   ]
  },
  {
   "cell_type": "code",
   "execution_count": 7,
   "id": "4f51a973",
   "metadata": {},
   "outputs": [],
   "source": [
    "class DGCNN(torch.nn.Module):\n",
    "    def __init__(self, hidden_dim, num_layers, GNN=GCNConv, k=0.6):\n",
    "        super().__init__()\n",
    "\n",
    "        if k < 1:  # Transform percentile to number.\n",
    "            num_nodes = sorted([data.num_nodes for data in train_data_list])\n",
    "            k = num_nodes[int(math.ceil(k * len(num_nodes))) - 1]\n",
    "            k = int(max(10, k))\n",
    "\n",
    "        self.convs = ModuleList()\n",
    "        self.convs.append(GNN(train_data_list[0].x.size(1), hidden_dim))\n",
    "        for i in range(0, num_layers - 1):\n",
    "            self.convs.append(GNN(hidden_dim, hidden_dim))\n",
    "        self.convs.append(GNN(hidden_dim, 1))\n",
    "\n",
    "        conv1d_channels = [16, 32]\n",
    "        total_latent_dim = hidden_dim * num_layers + 1\n",
    "        conv1d_kws = [total_latent_dim, 5]\n",
    "        self.conv1 = Conv1d(1, conv1d_channels[0], conv1d_kws[0],\n",
    "                            conv1d_kws[0])\n",
    "        self.pool = SortAggregation(k)\n",
    "        self.maxpool1d = MaxPool1d(2, 2)\n",
    "        self.conv2 = Conv1d(conv1d_channels[0], conv1d_channels[1],\n",
    "                            conv1d_kws[1], 1)\n",
    "        dense_dim = int((k - 2) / 2 + 1)\n",
    "        dense_dim = (dense_dim - conv1d_kws[1] + 1) * conv1d_channels[1]\n",
    "        self.mlp = MLP([dense_dim, 128, 1], dropout=0.5, norm=None)\n",
    "\n",
    "    def forward(self, x, edge_index, batch):\n",
    "        xs = [x]\n",
    "        for conv in self.convs:\n",
    "            xs += [conv(xs[-1], edge_index).tanh()]\n",
    "        x = torch.cat(xs[1:], dim=-1)\n",
    "\n",
    "        # Global pooling.\n",
    "        x = self.pool(x, batch)\n",
    "        x = x.unsqueeze(1)  # [num_graphs, 1, k * hidden]\n",
    "        x = self.conv1(x).relu()\n",
    "        x = self.maxpool1d(x)\n",
    "        x = self.conv2(x).relu()\n",
    "        x = x.view(x.size(0), -1)  # [num_graphs, dense_dim]\n",
    "\n",
    "        return self.mlp(x)\n"
   ]
  },
  {
   "cell_type": "code",
   "execution_count": 8,
   "id": "203d44fe",
   "metadata": {},
   "outputs": [],
   "source": [
    "device = torch.device('cuda' if torch.cuda.is_available() else 'cpu')\n",
    "model = DGCNN(hidden_dim=32, num_layers=3).to(device)\n",
    "optimizer = torch.optim.Adam(params=model.parameters(), lr=0.0001)\n",
    "criterion = BCEWithLogitsLoss()"
   ]
  },
  {
   "cell_type": "code",
   "execution_count": 9,
   "id": "a9276a9d",
   "metadata": {},
   "outputs": [],
   "source": [
    "def train():\n",
    "    model.train()\n",
    "\n",
    "    total_loss = 0\n",
    "    for data in train_loader:\n",
    "        data = data.to(device)\n",
    "        optimizer.zero_grad()\n",
    "        out = model(data.x, data.edge_index, data.batch)\n",
    "        loss = criterion(out.view(-1), data.y.to(torch.float))\n",
    "        loss.backward()\n",
    "        optimizer.step()\n",
    "        total_loss += float(loss) * data.num_graphs\n",
    "\n",
    "    return total_loss / len(train_data_list)"
   ]
  },
  {
   "cell_type": "code",
   "execution_count": 10,
   "id": "a69a5849",
   "metadata": {},
   "outputs": [],
   "source": [
    "@torch.no_grad()\n",
    "def test(loader):\n",
    "    model.eval()\n",
    "\n",
    "    y_pred, y_true = [], []\n",
    "    for data in loader:\n",
    "        data = data.to(device)\n",
    "        logits = model(data.x, data.edge_index, data.batch)\n",
    "        y_pred.append(logits.view(-1).cpu())\n",
    "        y_true.append(data.y.view(-1).cpu().to(torch.float))\n",
    "\n",
    "    return roc_auc_score(torch.cat(y_true), torch.cat(y_pred)), average_precision_score(torch.cat(y_true),torch.cat(y_pred) )"
   ]
  },
  {
   "cell_type": "code",
   "execution_count": 11,
   "id": "125f31b0",
   "metadata": {},
   "outputs": [
    {
     "name": "stderr",
     "output_type": "stream",
     "text": [
      "Epoch: 001, Loss: 0.5111 Train_AUC: 0.8551, Train_AP: 0.8780 Val_AUC: 0.8534, Val_AP: 0.8790 Test_AUC: 0.8641, Test_AP: 0.8850\n",
      "Epoch: 002, Loss: 0.4555 Train_AUC: 0.8818, Train_AP: 0.8989 Val_AUC: 0.8762, Val_AP: 0.8961 Test_AUC: 0.8891, Test_AP: 0.9062\n",
      "Epoch: 003, Loss: 0.4328 Train_AUC: 0.8884, Train_AP: 0.9047 Val_AUC: 0.8813, Val_AP: 0.9016 Test_AUC: 0.8934, Test_AP: 0.9112\n",
      "Epoch: 004, Loss: 0.4212 Train_AUC: 0.8934, Train_AP: 0.9085 Val_AUC: 0.8867, Val_AP: 0.9055 Test_AUC: 0.9004, Test_AP: 0.9161\n",
      "Epoch: 005, Loss: 0.4179 Train_AUC: 0.8942, Train_AP: 0.9090 Val_AUC: 0.8877, Val_AP: 0.9073 Test_AUC: 0.9012, Test_AP: 0.9162\n",
      "Epoch: 006, Loss: 0.4132 Train_AUC: 0.8974, Train_AP: 0.9117 Val_AUC: 0.8901, Val_AP: 0.9090 Test_AUC: 0.9037, Test_AP: 0.9183\n",
      "Epoch: 007, Loss: 0.4099 Train_AUC: 0.8969, Train_AP: 0.9113 Val_AUC: 0.8895, Val_AP: 0.9087 Test_AUC: 0.9032, Test_AP: 0.9181\n",
      "Epoch: 008, Loss: 0.4071 Train_AUC: 0.8994, Train_AP: 0.9131 Val_AUC: 0.8931, Val_AP: 0.9117 Test_AUC: 0.9035, Test_AP: 0.9186\n",
      "Epoch: 009, Loss: 0.4059 Train_AUC: 0.9019, Train_AP: 0.9152 Val_AUC: 0.8936, Val_AP: 0.9127 Test_AUC: 0.9058, Test_AP: 0.9211\n",
      "Epoch: 010, Loss: 0.4013 Train_AUC: 0.9018, Train_AP: 0.9159 Val_AUC: 0.8915, Val_AP: 0.9130 Test_AUC: 0.9016, Test_AP: 0.9184\n",
      "Epoch: 011, Loss: 0.3992 Train_AUC: 0.9069, Train_AP: 0.9197 Val_AUC: 0.8984, Val_AP: 0.9165 Test_AUC: 0.9106, Test_AP: 0.9246\n",
      "Epoch: 012, Loss: 0.3960 Train_AUC: 0.9067, Train_AP: 0.9194 Val_AUC: 0.8988, Val_AP: 0.9164 Test_AUC: 0.9097, Test_AP: 0.9241\n",
      "Epoch: 013, Loss: 0.3949 Train_AUC: 0.9067, Train_AP: 0.9196 Val_AUC: 0.8970, Val_AP: 0.9156 Test_AUC: 0.9094, Test_AP: 0.9238\n",
      "Epoch: 014, Loss: 0.3917 Train_AUC: 0.9088, Train_AP: 0.9213 Val_AUC: 0.8981, Val_AP: 0.9163 Test_AUC: 0.9104, Test_AP: 0.9244\n",
      "Epoch: 015, Loss: 0.3870 Train_AUC: 0.9095, Train_AP: 0.9221 Val_AUC: 0.9019, Val_AP: 0.9190 Test_AUC: 0.9124, Test_AP: 0.9261\n",
      "Epoch: 016, Loss: 0.3876 Train_AUC: 0.9109, Train_AP: 0.9231 Val_AUC: 0.9008, Val_AP: 0.9188 Test_AUC: 0.9128, Test_AP: 0.9264\n",
      "Epoch: 017, Loss: 0.3854 Train_AUC: 0.9113, Train_AP: 0.9236 Val_AUC: 0.9010, Val_AP: 0.9195 Test_AUC: 0.9130, Test_AP: 0.9263\n",
      "Epoch: 018, Loss: 0.3852 Train_AUC: 0.9121, Train_AP: 0.9243 Val_AUC: 0.9017, Val_AP: 0.9199 Test_AUC: 0.9137, Test_AP: 0.9272\n",
      "Epoch: 019, Loss: 0.3812 Train_AUC: 0.9127, Train_AP: 0.9251 Val_AUC: 0.9014, Val_AP: 0.9200 Test_AUC: 0.9104, Test_AP: 0.9251\n",
      "Epoch: 020, Loss: 0.3815 Train_AUC: 0.9128, Train_AP: 0.9252 Val_AUC: 0.9017, Val_AP: 0.9196 Test_AUC: 0.9119, Test_AP: 0.9260\n",
      "Epoch: 021, Loss: 0.3787 Train_AUC: 0.9138, Train_AP: 0.9259 Val_AUC: 0.9025, Val_AP: 0.9203 Test_AUC: 0.9120, Test_AP: 0.9259\n",
      "Epoch: 022, Loss: 0.3796 Train_AUC: 0.9140, Train_AP: 0.9260 Val_AUC: 0.9018, Val_AP: 0.9200 Test_AUC: 0.9121, Test_AP: 0.9257\n",
      "Epoch: 023, Loss: 0.3772 Train_AUC: 0.9142, Train_AP: 0.9261 Val_AUC: 0.9004, Val_AP: 0.9194 Test_AUC: 0.9096, Test_AP: 0.9241\n",
      "Epoch: 024, Loss: 0.3761 Train_AUC: 0.9160, Train_AP: 0.9280 Val_AUC: 0.9008, Val_AP: 0.9202 Test_AUC: 0.9111, Test_AP: 0.9255\n",
      "Epoch: 025, Loss: 0.3743 Train_AUC: 0.9166, Train_AP: 0.9284 Val_AUC: 0.9019, Val_AP: 0.9195 Test_AUC: 0.9126, Test_AP: 0.9261\n",
      "Epoch: 026, Loss: 0.3741 Train_AUC: 0.9165, Train_AP: 0.9282 Val_AUC: 0.9025, Val_AP: 0.9209 Test_AUC: 0.9117, Test_AP: 0.9256\n",
      "Epoch: 027, Loss: 0.3721 Train_AUC: 0.9154, Train_AP: 0.9278 Val_AUC: 0.8992, Val_AP: 0.9178 Test_AUC: 0.9116, Test_AP: 0.9259\n",
      "Epoch: 028, Loss: 0.3719 Train_AUC: 0.9181, Train_AP: 0.9298 Val_AUC: 0.9002, Val_AP: 0.9196 Test_AUC: 0.9116, Test_AP: 0.9259\n",
      "Epoch: 029, Loss: 0.3706 Train_AUC: 0.9182, Train_AP: 0.9299 Val_AUC: 0.9027, Val_AP: 0.9202 Test_AUC: 0.9112, Test_AP: 0.9247\n",
      "Epoch: 030, Loss: 0.3672 Train_AUC: 0.9183, Train_AP: 0.9300 Val_AUC: 0.9014, Val_AP: 0.9198 Test_AUC: 0.9121, Test_AP: 0.9261\n",
      "Epoch: 031, Loss: 0.3686 Train_AUC: 0.9185, Train_AP: 0.9302 Val_AUC: 0.9011, Val_AP: 0.9195 Test_AUC: 0.9116, Test_AP: 0.9254\n",
      "Epoch: 032, Loss: 0.3678 Train_AUC: 0.9197, Train_AP: 0.9307 Val_AUC: 0.9015, Val_AP: 0.9203 Test_AUC: 0.9115, Test_AP: 0.9257\n",
      "Epoch: 033, Loss: 0.3668 Train_AUC: 0.9180, Train_AP: 0.9294 Val_AUC: 0.8996, Val_AP: 0.9187 Test_AUC: 0.9113, Test_AP: 0.9259\n",
      "Epoch: 034, Loss: 0.3658 Train_AUC: 0.9189, Train_AP: 0.9302 Val_AUC: 0.9001, Val_AP: 0.9210 Test_AUC: 0.9081, Test_AP: 0.9233\n",
      "Epoch: 035, Loss: 0.3651 Train_AUC: 0.9206, Train_AP: 0.9314 Val_AUC: 0.9000, Val_AP: 0.9195 Test_AUC: 0.9107, Test_AP: 0.9253\n",
      "Epoch: 036, Loss: 0.3636 Train_AUC: 0.9214, Train_AP: 0.9320 Val_AUC: 0.8999, Val_AP: 0.9200 Test_AUC: 0.9100, Test_AP: 0.9245\n",
      "Epoch: 037, Loss: 0.3650 Train_AUC: 0.9215, Train_AP: 0.9324 Val_AUC: 0.8999, Val_AP: 0.9190 Test_AUC: 0.9122, Test_AP: 0.9257\n",
      "Epoch: 038, Loss: 0.3623 Train_AUC: 0.9211, Train_AP: 0.9317 Val_AUC: 0.9020, Val_AP: 0.9197 Test_AUC: 0.9133, Test_AP: 0.9273\n",
      "Epoch: 039, Loss: 0.3615 Train_AUC: 0.9217, Train_AP: 0.9322 Val_AUC: 0.8982, Val_AP: 0.9190 Test_AUC: 0.9094, Test_AP: 0.9248\n",
      "Epoch: 040, Loss: 0.3590 Train_AUC: 0.9227, Train_AP: 0.9329 Val_AUC: 0.9024, Val_AP: 0.9211 Test_AUC: 0.9121, Test_AP: 0.9267\n",
      "Epoch: 041, Loss: 0.3606 Train_AUC: 0.9231, Train_AP: 0.9334 Val_AUC: 0.9007, Val_AP: 0.9199 Test_AUC: 0.9111, Test_AP: 0.9259\n",
      "Epoch: 042, Loss: 0.3578 Train_AUC: 0.9232, Train_AP: 0.9338 Val_AUC: 0.9022, Val_AP: 0.9207 Test_AUC: 0.9105, Test_AP: 0.9256\n",
      "Epoch: 043, Loss: 0.3576 Train_AUC: 0.9230, Train_AP: 0.9331 Val_AUC: 0.8993, Val_AP: 0.9194 Test_AUC: 0.9058, Test_AP: 0.9233\n",
      "Epoch: 044, Loss: 0.3576 Train_AUC: 0.9240, Train_AP: 0.9341 Val_AUC: 0.9021, Val_AP: 0.9201 Test_AUC: 0.9110, Test_AP: 0.9265\n",
      "Epoch: 045, Loss: 0.3659 Train_AUC: 0.9187, Train_AP: 0.9299 Val_AUC: 0.9059, Val_AP: 0.9225 Test_AUC: 0.9122, Test_AP: 0.9264\n",
      "Epoch: 046, Loss: 0.3665 Train_AUC: 0.9204, Train_AP: 0.9309 Val_AUC: 0.9088, Val_AP: 0.9255 Test_AUC: 0.9144, Test_AP: 0.9290\n",
      "Epoch: 047, Loss: 0.3639 Train_AUC: 0.9210, Train_AP: 0.9316 Val_AUC: 0.9077, Val_AP: 0.9246 Test_AUC: 0.9133, Test_AP: 0.9283\n",
      "Epoch: 048, Loss: 0.3630 Train_AUC: 0.9204, Train_AP: 0.9311 Val_AUC: 0.9094, Val_AP: 0.9251 Test_AUC: 0.9127, Test_AP: 0.9280\n",
      "Epoch: 049, Loss: 0.3636 Train_AUC: 0.9220, Train_AP: 0.9323 Val_AUC: 0.9070, Val_AP: 0.9239 Test_AUC: 0.9131, Test_AP: 0.9277\n",
      "Epoch: 050, Loss: 0.3602 Train_AUC: 0.9218, Train_AP: 0.9322 Val_AUC: 0.9055, Val_AP: 0.9220 Test_AUC: 0.9125, Test_AP: 0.9266\n",
      "Median time per epoch: 87.4860sFinal Test AUC: 0.9127, AP: 0.9280\n"
     ]
    }
   ],
   "source": [
    "times = []\n",
    "best_val_auc = final_test_auc = final_test_ap = 0\n",
    "for epoch in range(1, 51):\n",
    "    start = time.time()\n",
    "    loss = train()\n",
    "    train_auc, train_ap = test(train_loader)\n",
    "    val_auc, val_ap = test(val_loader)\n",
    "    test_auc, test_ap = test(test_loader)\n",
    "    if val_auc > best_val_auc:\n",
    "        best_val_auc = val_auc\n",
    "        final_test_auc = test_auc\n",
    "        final_test_ap = test_ap\n",
    "\n",
    "    logging.info(f'Epoch: {epoch:03d}, Loss: {loss:.4f} '\n",
    "             f'Train_AUC: {train_auc:.4f}, Train_AP: {train_ap:.4f} '\n",
    "             f'Val_AUC: {val_auc:.4f}, Val_AP: {val_ap:.4f} '\n",
    "             f'Test_AUC: {test_auc:.4f}, Test_AP: {test_ap:.4f}')\n",
    "    times.append(time.time() - start)\n",
    "    \n",
    "logging.info(f'Median time per epoch: {torch.tensor(times).median():.4f}s'\n",
    "             f'Final Test AUC: {final_test_auc:.4f}, AP: {final_test_ap:.4f}')"
   ]
  }
 ],
 "metadata": {
  "kernelspec": {
   "display_name": "Python 3",
   "language": "python",
   "name": "python3"
  },
  "language_info": {
   "codemirror_mode": {
    "name": "ipython",
    "version": 3
   },
   "file_extension": ".py",
   "mimetype": "text/x-python",
   "name": "python",
   "nbconvert_exporter": "python",
   "pygments_lexer": "ipython3",
   "version": "3.12.7"
  }
 },
 "nbformat": 4,
 "nbformat_minor": 5
}
