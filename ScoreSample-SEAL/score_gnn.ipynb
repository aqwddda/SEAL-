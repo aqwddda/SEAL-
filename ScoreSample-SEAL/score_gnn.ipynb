{
 "cells": [
  {
   "cell_type": "code",
   "execution_count": 1,
   "id": "7fd51917",
   "metadata": {
    "execution": {
     "iopub.execute_input": "2025-05-27T12:00:23.262953Z",
     "iopub.status.busy": "2025-05-27T12:00:23.261955Z",
     "iopub.status.idle": "2025-05-27T12:00:30.295955Z",
     "shell.execute_reply": "2025-05-27T12:00:30.294496Z"
    }
   },
   "outputs": [],
   "source": [
    "import torch\n",
    "import copy, os\n",
    "import logging\n",
    "import numpy as np\n",
    "import out_manager as om\n",
    "from config import Config\n",
    "import torch.nn.functional as F\n",
    "from torch_geometric.utils import negative_sampling\n",
    "from sklearn.metrics import roc_auc_score, average_precision_score\n",
    "from model.score_gnn import ScoreGNN"
   ]
  },
  {
   "cell_type": "code",
   "execution_count": 2,
   "id": "90015b11",
   "metadata": {
    "execution": {
     "iopub.execute_input": "2025-05-27T12:00:30.298531Z",
     "iopub.status.busy": "2025-05-27T12:00:30.298531Z",
     "iopub.status.idle": "2025-05-27T12:00:30.329734Z",
     "shell.execute_reply": "2025-05-27T12:00:30.329226Z"
    }
   },
   "outputs": [],
   "source": [
    "config = Config()\n",
    "out_dir = om.get_out_dir(config)\n",
    "log_path = os.path.join(out_dir, \"scoregnn_log.txt\")\n",
    "om.setup_logging(log_path)\n",
    "seed = config.seed\n",
    "torch.manual_seed(seed)\n",
    "np.random.seed(seed)\n",
    "device = config.device"
   ]
  },
  {
   "cell_type": "code",
   "execution_count": 3,
   "id": "44cc6aae",
   "metadata": {
    "execution": {
     "iopub.execute_input": "2025-05-27T12:00:30.332739Z",
     "iopub.status.busy": "2025-05-27T12:00:30.332739Z",
     "iopub.status.idle": "2025-05-27T12:00:30.337298Z",
     "shell.execute_reply": "2025-05-27T12:00:30.337298Z"
    }
   },
   "outputs": [],
   "source": [
    "def train(model, data, optimizer, predictor):\n",
    "    model.train()\n",
    "    optimizer.zero_grad()\n",
    "    out = model(data.x, data.edge_index)\n",
    "\n",
    "    # #每次手动采样负样本，效果更好\n",
    "    # neg_edge_index = negative_sampling(\n",
    "    #     edge_index = data.edge_index,\n",
    "    #     num_nodes = data.num_nodes,\n",
    "    #     num_neg_sample = data.edge_index.size(1)\n",
    "    # )\n",
    "\n",
    "    # edge_label_index = torch.cat([\n",
    "    #     data.edge_label_index, neg_edge_index\n",
    "    #     ], dim=-1)\n",
    "    # edge_label = torch.cat([\n",
    "    #     data.edge_label, data.edge_label.new_zeros(neg_edge_index.size(1))\n",
    "    #     ],dim = 0)\n",
    "\n",
    "    edge_label_index = torch.cat([\n",
    "        data.pos_edge_label_index, data.neg_edge_label_index\n",
    "    ], dim=1)\n",
    "    edge_label = torch.cat([\n",
    "        data.pos_edge_label, data.neg_edge_label\n",
    "    ], dim=0)\n",
    "    \n",
    "    score = predictor(out, edge_label_index)\n",
    "    loss = F.binary_cross_entropy_with_logits(score, edge_label)\n",
    "\n",
    "    loss.backward()\n",
    "    optimizer.step()\n",
    "    return loss.item()\n",
    "    "
   ]
  },
  {
   "cell_type": "code",
   "execution_count": 4,
   "id": "c1be434a",
   "metadata": {
    "execution": {
     "iopub.execute_input": "2025-05-27T12:00:30.340303Z",
     "iopub.status.busy": "2025-05-27T12:00:30.340303Z",
     "iopub.status.idle": "2025-05-27T12:00:30.344909Z",
     "shell.execute_reply": "2025-05-27T12:00:30.344909Z"
    }
   },
   "outputs": [],
   "source": [
    "@torch.no_grad()\n",
    "def test(model, data, predictor):\n",
    "    model.eval()\n",
    "\n",
    "    edge_label_index = torch.cat([\n",
    "        data.pos_edge_label_index, data.neg_edge_label_index\n",
    "    ], dim=1)\n",
    "    edge_label = torch.cat([\n",
    "        data.pos_edge_label, data.neg_edge_label\n",
    "    ], dim=0)\n",
    "\n",
    "    out = model(data.x, data.edge_index)\n",
    "    score = predictor(out, edge_label_index).cpu().numpy()\n",
    "    auc = roc_auc_score(edge_label.cpu().numpy(), score)\n",
    "    ap = average_precision_score(edge_label.cpu().numpy(), score)\n",
    "    return auc, ap"
   ]
  },
  {
   "cell_type": "code",
   "execution_count": 5,
   "id": "8491527b",
   "metadata": {
    "execution": {
     "iopub.execute_input": "2025-05-27T12:00:30.347473Z",
     "iopub.status.busy": "2025-05-27T12:00:30.347473Z",
     "iopub.status.idle": "2025-05-27T12:00:37.883319Z",
     "shell.execute_reply": "2025-05-27T12:00:37.883319Z"
    }
   },
   "outputs": [
    {
     "name": "stderr",
     "output_type": "stream",
     "text": [
      "Epoch: 001, Loss: 0.6738 Train_AUC: 0.7983, Train_AP: 0.7755 Val_AUC: 0.7122, Val_AP: 0.7391 Test_AUC: 0.6824, Test_AP: 0.7110\n"
     ]
    },
    {
     "name": "stderr",
     "output_type": "stream",
     "text": [
      "Epoch: 002, Loss: 0.5769 Train_AUC: 0.7854, Train_AP: 0.7697 Val_AUC: 0.6947, Val_AP: 0.7279 Test_AUC: 0.6814, Test_AP: 0.7117\n"
     ]
    },
    {
     "name": "stderr",
     "output_type": "stream",
     "text": [
      "Epoch: 003, Loss: 0.4981 Train_AUC: 0.7768, Train_AP: 0.7649 Val_AUC: 0.6912, Val_AP: 0.7255 Test_AUC: 0.6814, Test_AP: 0.7112\n"
     ]
    },
    {
     "name": "stderr",
     "output_type": "stream",
     "text": [
      "Epoch: 004, Loss: 0.4335 Train_AUC: 0.7830, Train_AP: 0.7687 Val_AUC: 0.6977, Val_AP: 0.7292 Test_AUC: 0.6843, Test_AP: 0.7132\n"
     ]
    },
    {
     "name": "stderr",
     "output_type": "stream",
     "text": [
      "Epoch: 005, Loss: 0.4065 Train_AUC: 0.7869, Train_AP: 0.7704 Val_AUC: 0.6993, Val_AP: 0.7300 Test_AUC: 0.6843, Test_AP: 0.7129\n"
     ]
    },
    {
     "name": "stderr",
     "output_type": "stream",
     "text": [
      "Epoch: 006, Loss: 0.3870 Train_AUC: 0.7879, Train_AP: 0.7708 Val_AUC: 0.6992, Val_AP: 0.7306 Test_AUC: 0.6837, Test_AP: 0.7129\n"
     ]
    },
    {
     "name": "stderr",
     "output_type": "stream",
     "text": [
      "Epoch: 007, Loss: 0.3741 Train_AUC: 0.7902, Train_AP: 0.7710 Val_AUC: 0.7006, Val_AP: 0.7299 Test_AUC: 0.6842, Test_AP: 0.7122\n"
     ]
    },
    {
     "name": "stderr",
     "output_type": "stream",
     "text": [
      "Epoch: 008, Loss: 0.3627 Train_AUC: 0.7908, Train_AP: 0.7718 Val_AUC: 0.7002, Val_AP: 0.7300 Test_AUC: 0.6849, Test_AP: 0.7127\n"
     ]
    },
    {
     "name": "stderr",
     "output_type": "stream",
     "text": [
      "Epoch: 009, Loss: 0.3548 Train_AUC: 0.7938, Train_AP: 0.7748 Val_AUC: 0.7050, Val_AP: 0.7327 Test_AUC: 0.6882, Test_AP: 0.7154\n"
     ]
    },
    {
     "name": "stderr",
     "output_type": "stream",
     "text": [
      "Epoch: 010, Loss: 0.3455 Train_AUC: 0.7926, Train_AP: 0.7742 Val_AUC: 0.7035, Val_AP: 0.7327 Test_AUC: 0.6845, Test_AP: 0.7132\n"
     ]
    },
    {
     "name": "stderr",
     "output_type": "stream",
     "text": [
      "Epoch: 011, Loss: 0.3397 Train_AUC: 0.7938, Train_AP: 0.7754 Val_AUC: 0.7033, Val_AP: 0.7324 Test_AUC: 0.6848, Test_AP: 0.7133\n"
     ]
    },
    {
     "name": "stderr",
     "output_type": "stream",
     "text": [
      "Epoch: 012, Loss: 0.3336 Train_AUC: 0.7990, Train_AP: 0.7799 Val_AUC: 0.7080, Val_AP: 0.7360 Test_AUC: 0.6878, Test_AP: 0.7161\n"
     ]
    },
    {
     "name": "stderr",
     "output_type": "stream",
     "text": [
      "Epoch: 013, Loss: 0.3265 Train_AUC: 0.8028, Train_AP: 0.7839 Val_AUC: 0.7110, Val_AP: 0.7394 Test_AUC: 0.6906, Test_AP: 0.7184\n"
     ]
    },
    {
     "name": "stderr",
     "output_type": "stream",
     "text": [
      "Epoch: 014, Loss: 0.3224 Train_AUC: 0.8010, Train_AP: 0.7836 Val_AUC: 0.7087, Val_AP: 0.7384 Test_AUC: 0.6887, Test_AP: 0.7175\n"
     ]
    },
    {
     "name": "stderr",
     "output_type": "stream",
     "text": [
      "Epoch: 015, Loss: 0.3180 Train_AUC: 0.7985, Train_AP: 0.7817 Val_AUC: 0.7071, Val_AP: 0.7367 Test_AUC: 0.6864, Test_AP: 0.7156\n"
     ]
    },
    {
     "name": "stderr",
     "output_type": "stream",
     "text": [
      "Epoch: 016, Loss: 0.3164 Train_AUC: 0.7998, Train_AP: 0.7823 Val_AUC: 0.7075, Val_AP: 0.7366 Test_AUC: 0.6868, Test_AP: 0.7150\n"
     ]
    },
    {
     "name": "stderr",
     "output_type": "stream",
     "text": [
      "Epoch: 017, Loss: 0.3091 Train_AUC: 0.8014, Train_AP: 0.7833 Val_AUC: 0.7087, Val_AP: 0.7374 Test_AUC: 0.6871, Test_AP: 0.7150\n"
     ]
    },
    {
     "name": "stderr",
     "output_type": "stream",
     "text": [
      "Epoch: 018, Loss: 0.3061 Train_AUC: 0.8009, Train_AP: 0.7825 Val_AUC: 0.7057, Val_AP: 0.7342 Test_AUC: 0.6848, Test_AP: 0.7136\n"
     ]
    },
    {
     "name": "stderr",
     "output_type": "stream",
     "text": [
      "Epoch: 019, Loss: 0.3032 Train_AUC: 0.8010, Train_AP: 0.7839 Val_AUC: 0.7057, Val_AP: 0.7351 Test_AUC: 0.6839, Test_AP: 0.7133\n"
     ]
    },
    {
     "name": "stderr",
     "output_type": "stream",
     "text": [
      "Epoch: 020, Loss: 0.3010 Train_AUC: 0.8110, Train_AP: 0.7928 Val_AUC: 0.7159, Val_AP: 0.7429 Test_AUC: 0.6900, Test_AP: 0.7179\n"
     ]
    },
    {
     "name": "stderr",
     "output_type": "stream",
     "text": [
      "Epoch: 021, Loss: 0.2980 Train_AUC: 0.8059, Train_AP: 0.7901 Val_AUC: 0.7097, Val_AP: 0.7376 Test_AUC: 0.6887, Test_AP: 0.7170\n"
     ]
    },
    {
     "name": "stderr",
     "output_type": "stream",
     "text": [
      "Epoch: 022, Loss: 0.2953 Train_AUC: 0.8090, Train_AP: 0.7926 Val_AUC: 0.7141, Val_AP: 0.7404 Test_AUC: 0.6911, Test_AP: 0.7184\n"
     ]
    },
    {
     "name": "stderr",
     "output_type": "stream",
     "text": [
      "Epoch: 023, Loss: 0.2914 Train_AUC: 0.8208, Train_AP: 0.8037 Val_AUC: 0.7252, Val_AP: 0.7498 Test_AUC: 0.6991, Test_AP: 0.7252\n"
     ]
    },
    {
     "name": "stderr",
     "output_type": "stream",
     "text": [
      "Epoch: 024, Loss: 0.2890 Train_AUC: 0.8143, Train_AP: 0.7994 Val_AUC: 0.7183, Val_AP: 0.7450 Test_AUC: 0.6943, Test_AP: 0.7214\n"
     ]
    },
    {
     "name": "stderr",
     "output_type": "stream",
     "text": [
      "Epoch: 025, Loss: 0.2885 Train_AUC: 0.8137, Train_AP: 0.8004 Val_AUC: 0.7176, Val_AP: 0.7445 Test_AUC: 0.6945, Test_AP: 0.7224\n"
     ]
    },
    {
     "name": "stderr",
     "output_type": "stream",
     "text": [
      "Epoch: 026, Loss: 0.2851 Train_AUC: 0.8169, Train_AP: 0.8033 Val_AUC: 0.7227, Val_AP: 0.7477 Test_AUC: 0.6962, Test_AP: 0.7236\n"
     ]
    },
    {
     "name": "stderr",
     "output_type": "stream",
     "text": [
      "Epoch: 027, Loss: 0.2816 Train_AUC: 0.8146, Train_AP: 0.8015 Val_AUC: 0.7222, Val_AP: 0.7474 Test_AUC: 0.6941, Test_AP: 0.7216\n"
     ]
    },
    {
     "name": "stderr",
     "output_type": "stream",
     "text": [
      "Epoch: 028, Loss: 0.2808 Train_AUC: 0.8164, Train_AP: 0.8038 Val_AUC: 0.7248, Val_AP: 0.7488 Test_AUC: 0.6958, Test_AP: 0.7229\n"
     ]
    },
    {
     "name": "stderr",
     "output_type": "stream",
     "text": [
      "Epoch: 029, Loss: 0.2805 Train_AUC: 0.8181, Train_AP: 0.8059 Val_AUC: 0.7248, Val_AP: 0.7477 Test_AUC: 0.6969, Test_AP: 0.7238\n"
     ]
    },
    {
     "name": "stderr",
     "output_type": "stream",
     "text": [
      "Epoch: 030, Loss: 0.2800 Train_AUC: 0.8158, Train_AP: 0.8050 Val_AUC: 0.7227, Val_AP: 0.7455 Test_AUC: 0.6952, Test_AP: 0.7230\n"
     ]
    },
    {
     "name": "stderr",
     "output_type": "stream",
     "text": [
      "Epoch: 031, Loss: 0.2754 Train_AUC: 0.8169, Train_AP: 0.8067 Val_AUC: 0.7238, Val_AP: 0.7463 Test_AUC: 0.6971, Test_AP: 0.7238\n"
     ]
    },
    {
     "name": "stderr",
     "output_type": "stream",
     "text": [
      "Epoch: 032, Loss: 0.2738 Train_AUC: 0.8192, Train_AP: 0.8094 Val_AUC: 0.7262, Val_AP: 0.7481 Test_AUC: 0.6996, Test_AP: 0.7258\n"
     ]
    },
    {
     "name": "stderr",
     "output_type": "stream",
     "text": [
      "Epoch: 033, Loss: 0.2709 Train_AUC: 0.8177, Train_AP: 0.8093 Val_AUC: 0.7242, Val_AP: 0.7466 Test_AUC: 0.6991, Test_AP: 0.7252\n"
     ]
    },
    {
     "name": "stderr",
     "output_type": "stream",
     "text": [
      "Epoch: 034, Loss: 0.2705 Train_AUC: 0.8162, Train_AP: 0.8090 Val_AUC: 0.7223, Val_AP: 0.7449 Test_AUC: 0.6987, Test_AP: 0.7245\n"
     ]
    },
    {
     "name": "stderr",
     "output_type": "stream",
     "text": [
      "Epoch: 035, Loss: 0.2665 Train_AUC: 0.8171, Train_AP: 0.8109 Val_AUC: 0.7225, Val_AP: 0.7447 Test_AUC: 0.6991, Test_AP: 0.7248\n"
     ]
    },
    {
     "name": "stderr",
     "output_type": "stream",
     "text": [
      "Epoch: 036, Loss: 0.2682 Train_AUC: 0.8200, Train_AP: 0.8150 Val_AUC: 0.7236, Val_AP: 0.7450 Test_AUC: 0.7005, Test_AP: 0.7259\n"
     ]
    },
    {
     "name": "stderr",
     "output_type": "stream",
     "text": [
      "Epoch: 037, Loss: 0.2668 Train_AUC: 0.8246, Train_AP: 0.8199 Val_AUC: 0.7271, Val_AP: 0.7472 Test_AUC: 0.7035, Test_AP: 0.7274\n"
     ]
    },
    {
     "name": "stderr",
     "output_type": "stream",
     "text": [
      "Epoch: 038, Loss: 0.2627 Train_AUC: 0.8279, Train_AP: 0.8235 Val_AUC: 0.7284, Val_AP: 0.7481 Test_AUC: 0.7052, Test_AP: 0.7294\n"
     ]
    },
    {
     "name": "stderr",
     "output_type": "stream",
     "text": [
      "Epoch: 039, Loss: 0.2618 Train_AUC: 0.8297, Train_AP: 0.8264 Val_AUC: 0.7303, Val_AP: 0.7506 Test_AUC: 0.7077, Test_AP: 0.7308\n"
     ]
    },
    {
     "name": "stderr",
     "output_type": "stream",
     "text": [
      "Epoch: 040, Loss: 0.2597 Train_AUC: 0.8323, Train_AP: 0.8306 Val_AUC: 0.7340, Val_AP: 0.7538 Test_AUC: 0.7121, Test_AP: 0.7338\n"
     ]
    },
    {
     "name": "stderr",
     "output_type": "stream",
     "text": [
      "Epoch: 041, Loss: 0.2598 Train_AUC: 0.8319, Train_AP: 0.8316 Val_AUC: 0.7336, Val_AP: 0.7533 Test_AUC: 0.7137, Test_AP: 0.7344\n"
     ]
    },
    {
     "name": "stderr",
     "output_type": "stream",
     "text": [
      "Epoch: 042, Loss: 0.2577 Train_AUC: 0.8326, Train_AP: 0.8333 Val_AUC: 0.7335, Val_AP: 0.7525 Test_AUC: 0.7150, Test_AP: 0.7351\n"
     ]
    },
    {
     "name": "stderr",
     "output_type": "stream",
     "text": [
      "Epoch: 043, Loss: 0.2561 Train_AUC: 0.8377, Train_AP: 0.8392 Val_AUC: 0.7349, Val_AP: 0.7532 Test_AUC: 0.7186, Test_AP: 0.7383\n"
     ]
    },
    {
     "name": "stderr",
     "output_type": "stream",
     "text": [
      "Epoch: 044, Loss: 0.2559 Train_AUC: 0.8449, Train_AP: 0.8474 Val_AUC: 0.7376, Val_AP: 0.7550 Test_AUC: 0.7229, Test_AP: 0.7426\n"
     ]
    },
    {
     "name": "stderr",
     "output_type": "stream",
     "text": [
      "Epoch: 045, Loss: 0.2550 Train_AUC: 0.8471, Train_AP: 0.8498 Val_AUC: 0.7379, Val_AP: 0.7552 Test_AUC: 0.7244, Test_AP: 0.7436\n"
     ]
    },
    {
     "name": "stderr",
     "output_type": "stream",
     "text": [
      "Epoch: 046, Loss: 0.2547 Train_AUC: 0.8465, Train_AP: 0.8489 Val_AUC: 0.7369, Val_AP: 0.7542 Test_AUC: 0.7245, Test_AP: 0.7433\n"
     ]
    },
    {
     "name": "stderr",
     "output_type": "stream",
     "text": [
      "Epoch: 047, Loss: 0.2500 Train_AUC: 0.8483, Train_AP: 0.8507 Val_AUC: 0.7375, Val_AP: 0.7546 Test_AUC: 0.7273, Test_AP: 0.7451\n"
     ]
    },
    {
     "name": "stderr",
     "output_type": "stream",
     "text": [
      "Epoch: 048, Loss: 0.2512 Train_AUC: 0.8537, Train_AP: 0.8557 Val_AUC: 0.7407, Val_AP: 0.7564 Test_AUC: 0.7335, Test_AP: 0.7482\n"
     ]
    },
    {
     "name": "stderr",
     "output_type": "stream",
     "text": [
      "Epoch: 049, Loss: 0.2510 Train_AUC: 0.8638, Train_AP: 0.8649 Val_AUC: 0.7476, Val_AP: 0.7615 Test_AUC: 0.7426, Test_AP: 0.7547\n"
     ]
    },
    {
     "name": "stderr",
     "output_type": "stream",
     "text": [
      "Epoch: 050, Loss: 0.2485 Train_AUC: 0.8761, Train_AP: 0.8762 Val_AUC: 0.7548, Val_AP: 0.7674 Test_AUC: 0.7525, Test_AP: 0.7622\n"
     ]
    },
    {
     "name": "stderr",
     "output_type": "stream",
     "text": [
      "Epoch: 051, Loss: 0.2481 Train_AUC: 0.8865, Train_AP: 0.8863 Val_AUC: 0.7603, Val_AP: 0.7726 Test_AUC: 0.7606, Test_AP: 0.7691\n"
     ]
    },
    {
     "name": "stderr",
     "output_type": "stream",
     "text": [
      "Epoch: 052, Loss: 0.2492 Train_AUC: 0.8913, Train_AP: 0.8907 Val_AUC: 0.7610, Val_AP: 0.7727 Test_AUC: 0.7630, Test_AP: 0.7715\n"
     ]
    },
    {
     "name": "stderr",
     "output_type": "stream",
     "text": [
      "Epoch: 053, Loss: 0.2470 Train_AUC: 0.8860, Train_AP: 0.8863 Val_AUC: 0.7548, Val_AP: 0.7680 Test_AUC: 0.7580, Test_AP: 0.7670\n"
     ]
    },
    {
     "name": "stderr",
     "output_type": "stream",
     "text": [
      "Epoch: 054, Loss: 0.2454 Train_AUC: 0.8903, Train_AP: 0.8903 Val_AUC: 0.7565, Val_AP: 0.7697 Test_AUC: 0.7617, Test_AP: 0.7692\n"
     ]
    },
    {
     "name": "stderr",
     "output_type": "stream",
     "text": [
      "Epoch: 055, Loss: 0.2439 Train_AUC: 0.9029, Train_AP: 0.9019 Val_AUC: 0.7641, Val_AP: 0.7761 Test_AUC: 0.7721, Test_AP: 0.7771\n"
     ]
    },
    {
     "name": "stderr",
     "output_type": "stream",
     "text": [
      "Epoch: 056, Loss: 0.2429 Train_AUC: 0.9190, Train_AP: 0.9171 Val_AUC: 0.7745, Val_AP: 0.7854 Test_AUC: 0.7849, Test_AP: 0.7874\n"
     ]
    },
    {
     "name": "stderr",
     "output_type": "stream",
     "text": [
      "Epoch: 057, Loss: 0.2416 Train_AUC: 0.9305, Train_AP: 0.9288 Val_AUC: 0.7819, Val_AP: 0.7929 Test_AUC: 0.7956, Test_AP: 0.7959\n"
     ]
    },
    {
     "name": "stderr",
     "output_type": "stream",
     "text": [
      "Epoch: 058, Loss: 0.2409 Train_AUC: 0.9327, Train_AP: 0.9314 Val_AUC: 0.7817, Val_AP: 0.7931 Test_AUC: 0.7981, Test_AP: 0.7970\n"
     ]
    },
    {
     "name": "stderr",
     "output_type": "stream",
     "text": [
      "Epoch: 059, Loss: 0.2403 Train_AUC: 0.9329, Train_AP: 0.9311 Val_AUC: 0.7797, Val_AP: 0.7924 Test_AUC: 0.7976, Test_AP: 0.7956\n"
     ]
    },
    {
     "name": "stderr",
     "output_type": "stream",
     "text": [
      "Epoch: 060, Loss: 0.2397 Train_AUC: 0.9412, Train_AP: 0.9373 Val_AUC: 0.7829, Val_AP: 0.7951 Test_AUC: 0.8030, Test_AP: 0.7994\n"
     ]
    },
    {
     "name": "stderr",
     "output_type": "stream",
     "text": [
      "Epoch: 061, Loss: 0.2366 Train_AUC: 0.9499, Train_AP: 0.9444 Val_AUC: 0.7868, Val_AP: 0.7987 Test_AUC: 0.8091, Test_AP: 0.8027\n"
     ]
    },
    {
     "name": "stderr",
     "output_type": "stream",
     "text": [
      "Epoch: 062, Loss: 0.2376 Train_AUC: 0.9564, Train_AP: 0.9510 Val_AUC: 0.7892, Val_AP: 0.8027 Test_AUC: 0.8150, Test_AP: 0.8077\n"
     ]
    },
    {
     "name": "stderr",
     "output_type": "stream",
     "text": [
      "Epoch: 063, Loss: 0.2370 Train_AUC: 0.9625, Train_AP: 0.9582 Val_AUC: 0.7931, Val_AP: 0.8073 Test_AUC: 0.8213, Test_AP: 0.8132\n"
     ]
    },
    {
     "name": "stderr",
     "output_type": "stream",
     "text": [
      "Epoch: 064, Loss: 0.2352 Train_AUC: 0.9719, Train_AP: 0.9685 Val_AUC: 0.8014, Val_AP: 0.8155 Test_AUC: 0.8322, Test_AP: 0.8224\n"
     ]
    },
    {
     "name": "stderr",
     "output_type": "stream",
     "text": [
      "Epoch: 065, Loss: 0.2355 Train_AUC: 0.9773, Train_AP: 0.9743 Val_AUC: 0.8072, Val_AP: 0.8210 Test_AUC: 0.8386, Test_AP: 0.8277\n"
     ]
    },
    {
     "name": "stderr",
     "output_type": "stream",
     "text": [
      "Epoch: 066, Loss: 0.2336 Train_AUC: 0.9813, Train_AP: 0.9783 Val_AUC: 0.8118, Val_AP: 0.8246 Test_AUC: 0.8430, Test_AP: 0.8311\n"
     ]
    },
    {
     "name": "stderr",
     "output_type": "stream",
     "text": [
      "Epoch: 067, Loss: 0.2333 Train_AUC: 0.9847, Train_AP: 0.9818 Val_AUC: 0.8167, Val_AP: 0.8285 Test_AUC: 0.8469, Test_AP: 0.8337\n"
     ]
    },
    {
     "name": "stderr",
     "output_type": "stream",
     "text": [
      "Epoch: 068, Loss: 0.2310 Train_AUC: 0.9876, Train_AP: 0.9851 Val_AUC: 0.8204, Val_AP: 0.8311 Test_AUC: 0.8499, Test_AP: 0.8367\n"
     ]
    },
    {
     "name": "stderr",
     "output_type": "stream",
     "text": [
      "Epoch: 069, Loss: 0.2320 Train_AUC: 0.9894, Train_AP: 0.9873 Val_AUC: 0.8229, Val_AP: 0.8331 Test_AUC: 0.8516, Test_AP: 0.8391\n"
     ]
    },
    {
     "name": "stderr",
     "output_type": "stream",
     "text": [
      "Epoch: 070, Loss: 0.2306 Train_AUC: 0.9908, Train_AP: 0.9892 Val_AUC: 0.8240, Val_AP: 0.8354 Test_AUC: 0.8523, Test_AP: 0.8412\n"
     ]
    },
    {
     "name": "stderr",
     "output_type": "stream",
     "text": [
      "Epoch: 071, Loss: 0.2308 Train_AUC: 0.9923, Train_AP: 0.9913 Val_AUC: 0.8267, Val_AP: 0.8402 Test_AUC: 0.8551, Test_AP: 0.8461\n"
     ]
    },
    {
     "name": "stderr",
     "output_type": "stream",
     "text": [
      "Epoch: 072, Loss: 0.2297 Train_AUC: 0.9932, Train_AP: 0.9925 Val_AUC: 0.8284, Val_AP: 0.8434 Test_AUC: 0.8562, Test_AP: 0.8484\n"
     ]
    },
    {
     "name": "stderr",
     "output_type": "stream",
     "text": [
      "Epoch: 073, Loss: 0.2299 Train_AUC: 0.9946, Train_AP: 0.9940 Val_AUC: 0.8316, Val_AP: 0.8458 Test_AUC: 0.8578, Test_AP: 0.8496\n"
     ]
    },
    {
     "name": "stderr",
     "output_type": "stream",
     "text": [
      "Epoch: 074, Loss: 0.2280 Train_AUC: 0.9959, Train_AP: 0.9954 Val_AUC: 0.8355, Val_AP: 0.8490 Test_AUC: 0.8597, Test_AP: 0.8501\n"
     ]
    },
    {
     "name": "stderr",
     "output_type": "stream",
     "text": [
      "Epoch: 075, Loss: 0.2267 Train_AUC: 0.9968, Train_AP: 0.9964 Val_AUC: 0.8385, Val_AP: 0.8528 Test_AUC: 0.8615, Test_AP: 0.8525\n"
     ]
    },
    {
     "name": "stderr",
     "output_type": "stream",
     "text": [
      "Epoch: 076, Loss: 0.2268 Train_AUC: 0.9976, Train_AP: 0.9973 Val_AUC: 0.8433, Val_AP: 0.8588 Test_AUC: 0.8640, Test_AP: 0.8555\n"
     ]
    },
    {
     "name": "stderr",
     "output_type": "stream",
     "text": [
      "Epoch: 077, Loss: 0.2272 Train_AUC: 0.9982, Train_AP: 0.9980 Val_AUC: 0.8472, Val_AP: 0.8638 Test_AUC: 0.8666, Test_AP: 0.8615\n"
     ]
    },
    {
     "name": "stderr",
     "output_type": "stream",
     "text": [
      "Epoch: 078, Loss: 0.2253 Train_AUC: 0.9984, Train_AP: 0.9983 Val_AUC: 0.8481, Val_AP: 0.8652 Test_AUC: 0.8665, Test_AP: 0.8623\n"
     ]
    },
    {
     "name": "stderr",
     "output_type": "stream",
     "text": [
      "Epoch: 079, Loss: 0.2247 Train_AUC: 0.9986, Train_AP: 0.9985 Val_AUC: 0.8487, Val_AP: 0.8672 Test_AUC: 0.8659, Test_AP: 0.8634\n"
     ]
    },
    {
     "name": "stderr",
     "output_type": "stream",
     "text": [
      "Epoch: 080, Loss: 0.2226 Train_AUC: 0.9988, Train_AP: 0.9987 Val_AUC: 0.8493, Val_AP: 0.8689 Test_AUC: 0.8658, Test_AP: 0.8644\n"
     ]
    },
    {
     "name": "stderr",
     "output_type": "stream",
     "text": [
      "Epoch: 081, Loss: 0.2243 Train_AUC: 0.9990, Train_AP: 0.9990 Val_AUC: 0.8509, Val_AP: 0.8700 Test_AUC: 0.8662, Test_AP: 0.8645\n"
     ]
    },
    {
     "name": "stderr",
     "output_type": "stream",
     "text": [
      "Epoch: 082, Loss: 0.2231 Train_AUC: 0.9992, Train_AP: 0.9991 Val_AUC: 0.8523, Val_AP: 0.8709 Test_AUC: 0.8666, Test_AP: 0.8643\n"
     ]
    },
    {
     "name": "stderr",
     "output_type": "stream",
     "text": [
      "Epoch: 083, Loss: 0.2220 Train_AUC: 0.9992, Train_AP: 0.9992 Val_AUC: 0.8525, Val_AP: 0.8689 Test_AUC: 0.8665, Test_AP: 0.8644\n"
     ]
    },
    {
     "name": "stderr",
     "output_type": "stream",
     "text": [
      "Epoch: 084, Loss: 0.2216 Train_AUC: 0.9993, Train_AP: 0.9993 Val_AUC: 0.8526, Val_AP: 0.8686 Test_AUC: 0.8670, Test_AP: 0.8646\n"
     ]
    },
    {
     "name": "stderr",
     "output_type": "stream",
     "text": [
      "Epoch: 085, Loss: 0.2217 Train_AUC: 0.9993, Train_AP: 0.9993 Val_AUC: 0.8521, Val_AP: 0.8681 Test_AUC: 0.8676, Test_AP: 0.8652\n"
     ]
    },
    {
     "name": "stderr",
     "output_type": "stream",
     "text": [
      "Epoch: 086, Loss: 0.2215 Train_AUC: 0.9992, Train_AP: 0.9992 Val_AUC: 0.8503, Val_AP: 0.8661 Test_AUC: 0.8662, Test_AP: 0.8623\n"
     ]
    },
    {
     "name": "stderr",
     "output_type": "stream",
     "text": [
      "Epoch: 087, Loss: 0.2220 Train_AUC: 0.9993, Train_AP: 0.9993 Val_AUC: 0.8521, Val_AP: 0.8706 Test_AUC: 0.8682, Test_AP: 0.8671\n"
     ]
    },
    {
     "name": "stderr",
     "output_type": "stream",
     "text": [
      "Epoch: 088, Loss: 0.2193 Train_AUC: 0.9995, Train_AP: 0.9995 Val_AUC: 0.8540, Val_AP: 0.8741 Test_AUC: 0.8707, Test_AP: 0.8723\n"
     ]
    },
    {
     "name": "stderr",
     "output_type": "stream",
     "text": [
      "Epoch: 089, Loss: 0.2195 Train_AUC: 0.9995, Train_AP: 0.9995 Val_AUC: 0.8541, Val_AP: 0.8741 Test_AUC: 0.8704, Test_AP: 0.8727\n"
     ]
    },
    {
     "name": "stderr",
     "output_type": "stream",
     "text": [
      "Epoch: 090, Loss: 0.2195 Train_AUC: 0.9994, Train_AP: 0.9994 Val_AUC: 0.8523, Val_AP: 0.8700 Test_AUC: 0.8689, Test_AP: 0.8703\n"
     ]
    },
    {
     "name": "stderr",
     "output_type": "stream",
     "text": [
      "Epoch: 091, Loss: 0.2183 Train_AUC: 0.9994, Train_AP: 0.9994 Val_AUC: 0.8518, Val_AP: 0.8676 Test_AUC: 0.8682, Test_AP: 0.8685\n"
     ]
    },
    {
     "name": "stderr",
     "output_type": "stream",
     "text": [
      "Epoch: 092, Loss: 0.2172 Train_AUC: 0.9995, Train_AP: 0.9995 Val_AUC: 0.8514, Val_AP: 0.8661 Test_AUC: 0.8672, Test_AP: 0.8674\n"
     ]
    },
    {
     "name": "stderr",
     "output_type": "stream",
     "text": [
      "Epoch: 093, Loss: 0.2169 Train_AUC: 0.9996, Train_AP: 0.9996 Val_AUC: 0.8520, Val_AP: 0.8675 Test_AUC: 0.8676, Test_AP: 0.8701\n"
     ]
    },
    {
     "name": "stderr",
     "output_type": "stream",
     "text": [
      "Epoch: 094, Loss: 0.2179 Train_AUC: 0.9997, Train_AP: 0.9996 Val_AUC: 0.8529, Val_AP: 0.8717 Test_AUC: 0.8690, Test_AP: 0.8739\n"
     ]
    },
    {
     "name": "stderr",
     "output_type": "stream",
     "text": [
      "Epoch: 095, Loss: 0.2154 Train_AUC: 0.9997, Train_AP: 0.9997 Val_AUC: 0.8537, Val_AP: 0.8738 Test_AUC: 0.8695, Test_AP: 0.8761\n"
     ]
    },
    {
     "name": "stderr",
     "output_type": "stream",
     "text": [
      "Epoch: 096, Loss: 0.2176 Train_AUC: 0.9997, Train_AP: 0.9997 Val_AUC: 0.8553, Val_AP: 0.8757 Test_AUC: 0.8693, Test_AP: 0.8763\n"
     ]
    },
    {
     "name": "stderr",
     "output_type": "stream",
     "text": [
      "Epoch: 097, Loss: 0.2155 Train_AUC: 0.9997, Train_AP: 0.9997 Val_AUC: 0.8555, Val_AP: 0.8753 Test_AUC: 0.8687, Test_AP: 0.8748\n"
     ]
    },
    {
     "name": "stderr",
     "output_type": "stream",
     "text": [
      "Epoch: 098, Loss: 0.2156 Train_AUC: 0.9997, Train_AP: 0.9997 Val_AUC: 0.8557, Val_AP: 0.8747 Test_AUC: 0.8683, Test_AP: 0.8750\n"
     ]
    },
    {
     "name": "stderr",
     "output_type": "stream",
     "text": [
      "Epoch: 099, Loss: 0.2158 Train_AUC: 0.9997, Train_AP: 0.9996 Val_AUC: 0.8546, Val_AP: 0.8736 Test_AUC: 0.8669, Test_AP: 0.8729\n"
     ]
    },
    {
     "name": "stderr",
     "output_type": "stream",
     "text": [
      "Epoch: 100, Loss: 0.2131 Train_AUC: 0.9997, Train_AP: 0.9996 Val_AUC: 0.8541, Val_AP: 0.8735 Test_AUC: 0.8666, Test_AP: 0.8717\n"
     ]
    },
    {
     "name": "stderr",
     "output_type": "stream",
     "text": [
      "Epoch: 101, Loss: 0.2145 Train_AUC: 0.9997, Train_AP: 0.9997 Val_AUC: 0.8552, Val_AP: 0.8752 Test_AUC: 0.8668, Test_AP: 0.8722\n"
     ]
    },
    {
     "name": "stderr",
     "output_type": "stream",
     "text": [
      "Epoch: 102, Loss: 0.2140 Train_AUC: 0.9997, Train_AP: 0.9997 Val_AUC: 0.8566, Val_AP: 0.8776 Test_AUC: 0.8682, Test_AP: 0.8744\n"
     ]
    },
    {
     "name": "stderr",
     "output_type": "stream",
     "text": [
      "Epoch: 103, Loss: 0.2135 Train_AUC: 0.9997, Train_AP: 0.9997 Val_AUC: 0.8562, Val_AP: 0.8773 Test_AUC: 0.8685, Test_AP: 0.8748\n"
     ]
    },
    {
     "name": "stderr",
     "output_type": "stream",
     "text": [
      "Epoch: 104, Loss: 0.2133 Train_AUC: 0.9998, Train_AP: 0.9998 Val_AUC: 0.8557, Val_AP: 0.8757 Test_AUC: 0.8682, Test_AP: 0.8744\n"
     ]
    },
    {
     "name": "stderr",
     "output_type": "stream",
     "text": [
      "Epoch: 105, Loss: 0.2133 Train_AUC: 0.9998, Train_AP: 0.9998 Val_AUC: 0.8555, Val_AP: 0.8762 Test_AUC: 0.8662, Test_AP: 0.8712\n"
     ]
    },
    {
     "name": "stderr",
     "output_type": "stream",
     "text": [
      "Epoch: 106, Loss: 0.2125 Train_AUC: 0.9998, Train_AP: 0.9998 Val_AUC: 0.8552, Val_AP: 0.8755 Test_AUC: 0.8640, Test_AP: 0.8684\n"
     ]
    },
    {
     "name": "stderr",
     "output_type": "stream",
     "text": [
      "Epoch: 107, Loss: 0.2120 Train_AUC: 0.9998, Train_AP: 0.9998 Val_AUC: 0.8562, Val_AP: 0.8770 Test_AUC: 0.8639, Test_AP: 0.8695\n"
     ]
    },
    {
     "name": "stderr",
     "output_type": "stream",
     "text": [
      "Epoch: 108, Loss: 0.2120 Train_AUC: 0.9998, Train_AP: 0.9998 Val_AUC: 0.8548, Val_AP: 0.8754 Test_AUC: 0.8640, Test_AP: 0.8718\n"
     ]
    },
    {
     "name": "stderr",
     "output_type": "stream",
     "text": [
      "Epoch: 109, Loss: 0.2122 Train_AUC: 0.9998, Train_AP: 0.9998 Val_AUC: 0.8544, Val_AP: 0.8736 Test_AUC: 0.8627, Test_AP: 0.8694\n"
     ]
    },
    {
     "name": "stderr",
     "output_type": "stream",
     "text": [
      "Epoch: 110, Loss: 0.2107 Train_AUC: 0.9998, Train_AP: 0.9998 Val_AUC: 0.8525, Val_AP: 0.8721 Test_AUC: 0.8618, Test_AP: 0.8678\n"
     ]
    },
    {
     "name": "stderr",
     "output_type": "stream",
     "text": [
      "Epoch: 111, Loss: 0.2105 Train_AUC: 0.9998, Train_AP: 0.9998 Val_AUC: 0.8530, Val_AP: 0.8747 Test_AUC: 0.8627, Test_AP: 0.8693\n"
     ]
    },
    {
     "name": "stderr",
     "output_type": "stream",
     "text": [
      "Epoch: 112, Loss: 0.2111 Train_AUC: 0.9998, Train_AP: 0.9998 Val_AUC: 0.8537, Val_AP: 0.8765 Test_AUC: 0.8634, Test_AP: 0.8714\n"
     ]
    },
    {
     "name": "stderr",
     "output_type": "stream",
     "text": [
      "Epoch: 113, Loss: 0.2096 Train_AUC: 0.9998, Train_AP: 0.9998 Val_AUC: 0.8546, Val_AP: 0.8776 Test_AUC: 0.8623, Test_AP: 0.8701\n"
     ]
    },
    {
     "name": "stderr",
     "output_type": "stream",
     "text": [
      "Epoch: 114, Loss: 0.2084 Train_AUC: 0.9998, Train_AP: 0.9998 Val_AUC: 0.8535, Val_AP: 0.8766 Test_AUC: 0.8610, Test_AP: 0.8685\n"
     ]
    },
    {
     "name": "stderr",
     "output_type": "stream",
     "text": [
      "Epoch: 115, Loss: 0.2082 Train_AUC: 0.9997, Train_AP: 0.9997 Val_AUC: 0.8508, Val_AP: 0.8737 Test_AUC: 0.8595, Test_AP: 0.8660\n"
     ]
    },
    {
     "name": "stderr",
     "output_type": "stream",
     "text": [
      "Epoch: 116, Loss: 0.2081 Train_AUC: 0.9998, Train_AP: 0.9998 Val_AUC: 0.8502, Val_AP: 0.8732 Test_AUC: 0.8599, Test_AP: 0.8676\n"
     ]
    },
    {
     "name": "stderr",
     "output_type": "stream",
     "text": [
      "Epoch: 117, Loss: 0.2083 Train_AUC: 0.9998, Train_AP: 0.9998 Val_AUC: 0.8503, Val_AP: 0.8728 Test_AUC: 0.8600, Test_AP: 0.8694\n"
     ]
    },
    {
     "name": "stderr",
     "output_type": "stream",
     "text": [
      "Epoch: 118, Loss: 0.2084 Train_AUC: 0.9998, Train_AP: 0.9998 Val_AUC: 0.8505, Val_AP: 0.8718 Test_AUC: 0.8605, Test_AP: 0.8699\n"
     ]
    },
    {
     "name": "stderr",
     "output_type": "stream",
     "text": [
      "Epoch: 119, Loss: 0.2091 Train_AUC: 0.9998, Train_AP: 0.9998 Val_AUC: 0.8492, Val_AP: 0.8692 Test_AUC: 0.8586, Test_AP: 0.8682\n"
     ]
    },
    {
     "name": "stderr",
     "output_type": "stream",
     "text": [
      "Epoch: 120, Loss: 0.2086 Train_AUC: 0.9998, Train_AP: 0.9998 Val_AUC: 0.8487, Val_AP: 0.8688 Test_AUC: 0.8583, Test_AP: 0.8674\n"
     ]
    },
    {
     "name": "stderr",
     "output_type": "stream",
     "text": [
      "Epoch: 121, Loss: 0.2074 Train_AUC: 0.9998, Train_AP: 0.9998 Val_AUC: 0.8485, Val_AP: 0.8685 Test_AUC: 0.8587, Test_AP: 0.8677\n"
     ]
    },
    {
     "name": "stderr",
     "output_type": "stream",
     "text": [
      "Epoch: 122, Loss: 0.2073 Train_AUC: 0.9998, Train_AP: 0.9998 Val_AUC: 0.8481, Val_AP: 0.8669 Test_AUC: 0.8598, Test_AP: 0.8703\n"
     ]
    },
    {
     "name": "stderr",
     "output_type": "stream",
     "text": [
      "Epoch: 123, Loss: 0.2071 Train_AUC: 0.9999, Train_AP: 0.9999 Val_AUC: 0.8472, Val_AP: 0.8645 Test_AUC: 0.8593, Test_AP: 0.8694\n"
     ]
    },
    {
     "name": "stderr",
     "output_type": "stream",
     "text": [
      "Epoch: 124, Loss: 0.2052 Train_AUC: 0.9999, Train_AP: 0.9999 Val_AUC: 0.8468, Val_AP: 0.8625 Test_AUC: 0.8591, Test_AP: 0.8680\n"
     ]
    },
    {
     "name": "stderr",
     "output_type": "stream",
     "text": [
      "Epoch: 125, Loss: 0.2069 Train_AUC: 0.9999, Train_AP: 0.9999 Val_AUC: 0.8460, Val_AP: 0.8610 Test_AUC: 0.8583, Test_AP: 0.8678\n"
     ]
    },
    {
     "name": "stderr",
     "output_type": "stream",
     "text": [
      "Epoch: 126, Loss: 0.2059 Train_AUC: 0.9999, Train_AP: 0.9999 Val_AUC: 0.8464, Val_AP: 0.8596 Test_AUC: 0.8587, Test_AP: 0.8691\n"
     ]
    },
    {
     "name": "stderr",
     "output_type": "stream",
     "text": [
      "Epoch: 127, Loss: 0.2060 Train_AUC: 0.9999, Train_AP: 0.9999 Val_AUC: 0.8490, Val_AP: 0.8634 Test_AUC: 0.8589, Test_AP: 0.8683\n"
     ]
    },
    {
     "name": "stderr",
     "output_type": "stream",
     "text": [
      "Epoch: 128, Loss: 0.2047 Train_AUC: 0.9999, Train_AP: 0.9999 Val_AUC: 0.8493, Val_AP: 0.8644 Test_AUC: 0.8577, Test_AP: 0.8669\n"
     ]
    },
    {
     "name": "stderr",
     "output_type": "stream",
     "text": [
      "Epoch: 129, Loss: 0.2044 Train_AUC: 0.9999, Train_AP: 0.9999 Val_AUC: 0.8513, Val_AP: 0.8681 Test_AUC: 0.8581, Test_AP: 0.8674\n"
     ]
    },
    {
     "name": "stderr",
     "output_type": "stream",
     "text": [
      "Epoch: 130, Loss: 0.2055 Train_AUC: 0.9998, Train_AP: 0.9998 Val_AUC: 0.8511, Val_AP: 0.8683 Test_AUC: 0.8589, Test_AP: 0.8672\n"
     ]
    },
    {
     "name": "stderr",
     "output_type": "stream",
     "text": [
      "Epoch: 131, Loss: 0.2065 Train_AUC: 0.9999, Train_AP: 0.9999 Val_AUC: 0.8504, Val_AP: 0.8681 Test_AUC: 0.8601, Test_AP: 0.8694\n"
     ]
    },
    {
     "name": "stderr",
     "output_type": "stream",
     "text": [
      "Epoch: 132, Loss: 0.2044 Train_AUC: 0.9999, Train_AP: 0.9999 Val_AUC: 0.8498, Val_AP: 0.8674 Test_AUC: 0.8604, Test_AP: 0.8714\n"
     ]
    },
    {
     "name": "stderr",
     "output_type": "stream",
     "text": [
      "Epoch: 133, Loss: 0.2049 Train_AUC: 0.9999, Train_AP: 0.9999 Val_AUC: 0.8507, Val_AP: 0.8680 Test_AUC: 0.8601, Test_AP: 0.8697\n"
     ]
    },
    {
     "name": "stderr",
     "output_type": "stream",
     "text": [
      "Epoch: 134, Loss: 0.2037 Train_AUC: 0.9999, Train_AP: 0.9999 Val_AUC: 0.8498, Val_AP: 0.8663 Test_AUC: 0.8596, Test_AP: 0.8685\n"
     ]
    },
    {
     "name": "stderr",
     "output_type": "stream",
     "text": [
      "Epoch: 135, Loss: 0.2028 Train_AUC: 0.9999, Train_AP: 0.9999 Val_AUC: 0.8492, Val_AP: 0.8654 Test_AUC: 0.8577, Test_AP: 0.8657\n"
     ]
    },
    {
     "name": "stderr",
     "output_type": "stream",
     "text": [
      "Epoch: 136, Loss: 0.2030 Train_AUC: 0.9999, Train_AP: 0.9999 Val_AUC: 0.8486, Val_AP: 0.8641 Test_AUC: 0.8582, Test_AP: 0.8668\n"
     ]
    },
    {
     "name": "stderr",
     "output_type": "stream",
     "text": [
      "Epoch: 137, Loss: 0.2039 Train_AUC: 0.9999, Train_AP: 0.9999 Val_AUC: 0.8470, Val_AP: 0.8623 Test_AUC: 0.8581, Test_AP: 0.8673\n"
     ]
    },
    {
     "name": "stderr",
     "output_type": "stream",
     "text": [
      "Epoch: 138, Loss: 0.2040 Train_AUC: 0.9999, Train_AP: 0.9999 Val_AUC: 0.8471, Val_AP: 0.8634 Test_AUC: 0.8580, Test_AP: 0.8669\n"
     ]
    },
    {
     "name": "stderr",
     "output_type": "stream",
     "text": [
      "Epoch: 139, Loss: 0.2025 Train_AUC: 0.9999, Train_AP: 0.9999 Val_AUC: 0.8484, Val_AP: 0.8672 Test_AUC: 0.8589, Test_AP: 0.8679\n"
     ]
    },
    {
     "name": "stderr",
     "output_type": "stream",
     "text": [
      "Epoch: 140, Loss: 0.2023 Train_AUC: 0.9999, Train_AP: 0.9999 Val_AUC: 0.8482, Val_AP: 0.8677 Test_AUC: 0.8590, Test_AP: 0.8687\n"
     ]
    },
    {
     "name": "stderr",
     "output_type": "stream",
     "text": [
      "Epoch: 141, Loss: 0.2027 Train_AUC: 0.9999, Train_AP: 0.9999 Val_AUC: 0.8477, Val_AP: 0.8667 Test_AUC: 0.8579, Test_AP: 0.8675\n"
     ]
    },
    {
     "name": "stderr",
     "output_type": "stream",
     "text": [
      "Epoch: 142, Loss: 0.2013 Train_AUC: 0.9999, Train_AP: 0.9999 Val_AUC: 0.8483, Val_AP: 0.8666 Test_AUC: 0.8576, Test_AP: 0.8652\n"
     ]
    },
    {
     "name": "stderr",
     "output_type": "stream",
     "text": [
      "Epoch: 143, Loss: 0.2012 Train_AUC: 0.9999, Train_AP: 0.9999 Val_AUC: 0.8480, Val_AP: 0.8663 Test_AUC: 0.8575, Test_AP: 0.8657\n"
     ]
    },
    {
     "name": "stderr",
     "output_type": "stream",
     "text": [
      "Epoch: 144, Loss: 0.2011 Train_AUC: 0.9999, Train_AP: 0.9999 Val_AUC: 0.8470, Val_AP: 0.8653 Test_AUC: 0.8566, Test_AP: 0.8651\n"
     ]
    },
    {
     "name": "stderr",
     "output_type": "stream",
     "text": [
      "Epoch: 145, Loss: 0.2008 Train_AUC: 0.9999, Train_AP: 0.9999 Val_AUC: 0.8459, Val_AP: 0.8637 Test_AUC: 0.8546, Test_AP: 0.8619\n"
     ]
    },
    {
     "name": "stderr",
     "output_type": "stream",
     "text": [
      "Epoch: 146, Loss: 0.2004 Train_AUC: 0.9999, Train_AP: 0.9999 Val_AUC: 0.8455, Val_AP: 0.8635 Test_AUC: 0.8535, Test_AP: 0.8612\n"
     ]
    },
    {
     "name": "stderr",
     "output_type": "stream",
     "text": [
      "Epoch: 147, Loss: 0.1999 Train_AUC: 0.9999, Train_AP: 0.9999 Val_AUC: 0.8458, Val_AP: 0.8644 Test_AUC: 0.8527, Test_AP: 0.8600\n"
     ]
    },
    {
     "name": "stderr",
     "output_type": "stream",
     "text": [
      "Epoch: 148, Loss: 0.1998 Train_AUC: 0.9999, Train_AP: 0.9999 Val_AUC: 0.8459, Val_AP: 0.8654 Test_AUC: 0.8531, Test_AP: 0.8618\n"
     ]
    },
    {
     "name": "stderr",
     "output_type": "stream",
     "text": [
      "Epoch: 149, Loss: 0.1986 Train_AUC: 0.9999, Train_AP: 0.9999 Val_AUC: 0.8448, Val_AP: 0.8652 Test_AUC: 0.8523, Test_AP: 0.8627\n"
     ]
    },
    {
     "name": "stderr",
     "output_type": "stream",
     "text": [
      "Epoch: 150, Loss: 0.1991 Train_AUC: 0.9999, Train_AP: 0.9999 Val_AUC: 0.8445, Val_AP: 0.8652 Test_AUC: 0.8531, Test_AP: 0.8655\n"
     ]
    },
    {
     "name": "stderr",
     "output_type": "stream",
     "text": [
      "Epoch: 151, Loss: 0.2000 Train_AUC: 0.9999, Train_AP: 0.9999 Val_AUC: 0.8435, Val_AP: 0.8629 Test_AUC: 0.8519, Test_AP: 0.8618\n"
     ]
    },
    {
     "name": "stderr",
     "output_type": "stream",
     "text": [
      "Epoch: 152, Loss: 0.1992 Train_AUC: 0.9999, Train_AP: 0.9999 Val_AUC: 0.8436, Val_AP: 0.8618 Test_AUC: 0.8518, Test_AP: 0.8598\n"
     ]
    },
    {
     "name": "stderr",
     "output_type": "stream",
     "text": [
      "Epoch: 153, Loss: 0.1989 Train_AUC: 0.9999, Train_AP: 0.9999 Val_AUC: 0.8430, Val_AP: 0.8612 Test_AUC: 0.8518, Test_AP: 0.8620\n"
     ]
    },
    {
     "name": "stderr",
     "output_type": "stream",
     "text": [
      "Epoch: 154, Loss: 0.1991 Train_AUC: 0.9999, Train_AP: 0.9999 Val_AUC: 0.8429, Val_AP: 0.8608 Test_AUC: 0.8511, Test_AP: 0.8601\n"
     ]
    },
    {
     "name": "stderr",
     "output_type": "stream",
     "text": [
      "Epoch: 155, Loss: 0.1986 Train_AUC: 0.9999, Train_AP: 0.9999 Val_AUC: 0.8424, Val_AP: 0.8607 Test_AUC: 0.8522, Test_AP: 0.8607\n"
     ]
    },
    {
     "name": "stderr",
     "output_type": "stream",
     "text": [
      "Epoch: 156, Loss: 0.1974 Train_AUC: 0.9999, Train_AP: 0.9999 Val_AUC: 0.8418, Val_AP: 0.8615 Test_AUC: 0.8531, Test_AP: 0.8620\n"
     ]
    },
    {
     "name": "stderr",
     "output_type": "stream",
     "text": [
      "Epoch: 157, Loss: 0.1972 Train_AUC: 0.9999, Train_AP: 0.9999 Val_AUC: 0.8404, Val_AP: 0.8611 Test_AUC: 0.8527, Test_AP: 0.8606\n"
     ]
    },
    {
     "name": "stderr",
     "output_type": "stream",
     "text": [
      "Epoch: 158, Loss: 0.1970 Train_AUC: 0.9999, Train_AP: 0.9999 Val_AUC: 0.8414, Val_AP: 0.8630 Test_AUC: 0.8527, Test_AP: 0.8624\n"
     ]
    },
    {
     "name": "stderr",
     "output_type": "stream",
     "text": [
      "Epoch: 159, Loss: 0.1977 Train_AUC: 0.9999, Train_AP: 0.9999 Val_AUC: 0.8420, Val_AP: 0.8642 Test_AUC: 0.8523, Test_AP: 0.8640\n"
     ]
    },
    {
     "name": "stderr",
     "output_type": "stream",
     "text": [
      "Epoch: 160, Loss: 0.1982 Train_AUC: 0.9999, Train_AP: 0.9999 Val_AUC: 0.8437, Val_AP: 0.8656 Test_AUC: 0.8521, Test_AP: 0.8628\n"
     ]
    },
    {
     "name": "stderr",
     "output_type": "stream",
     "text": [
      "Epoch: 161, Loss: 0.1982 Train_AUC: 0.9999, Train_AP: 0.9999 Val_AUC: 0.8429, Val_AP: 0.8644 Test_AUC: 0.8501, Test_AP: 0.8571\n"
     ]
    },
    {
     "name": "stderr",
     "output_type": "stream",
     "text": [
      "Epoch: 162, Loss: 0.1981 Train_AUC: 0.9999, Train_AP: 0.9999 Val_AUC: 0.8429, Val_AP: 0.8649 Test_AUC: 0.8502, Test_AP: 0.8581\n"
     ]
    },
    {
     "name": "stderr",
     "output_type": "stream",
     "text": [
      "Epoch: 163, Loss: 0.1971 Train_AUC: 1.0000, Train_AP: 1.0000 Val_AUC: 0.8430, Val_AP: 0.8638 Test_AUC: 0.8520, Test_AP: 0.8636\n"
     ]
    },
    {
     "name": "stderr",
     "output_type": "stream",
     "text": [
      "Epoch: 164, Loss: 0.1978 Train_AUC: 1.0000, Train_AP: 1.0000 Val_AUC: 0.8439, Val_AP: 0.8642 Test_AUC: 0.8521, Test_AP: 0.8624\n"
     ]
    },
    {
     "name": "stderr",
     "output_type": "stream",
     "text": [
      "Epoch: 165, Loss: 0.1967 Train_AUC: 1.0000, Train_AP: 1.0000 Val_AUC: 0.8446, Val_AP: 0.8651 Test_AUC: 0.8517, Test_AP: 0.8624\n"
     ]
    },
    {
     "name": "stderr",
     "output_type": "stream",
     "text": [
      "Epoch: 166, Loss: 0.1975 Train_AUC: 0.9999, Train_AP: 0.9999 Val_AUC: 0.8457, Val_AP: 0.8658 Test_AUC: 0.8524, Test_AP: 0.8634\n"
     ]
    },
    {
     "name": "stderr",
     "output_type": "stream",
     "text": [
      "Epoch: 167, Loss: 0.1956 Train_AUC: 0.9999, Train_AP: 0.9999 Val_AUC: 0.8450, Val_AP: 0.8655 Test_AUC: 0.8519, Test_AP: 0.8625\n"
     ]
    },
    {
     "name": "stderr",
     "output_type": "stream",
     "text": [
      "Epoch: 168, Loss: 0.1973 Train_AUC: 0.9999, Train_AP: 0.9999 Val_AUC: 0.8426, Val_AP: 0.8636 Test_AUC: 0.8506, Test_AP: 0.8602\n"
     ]
    },
    {
     "name": "stderr",
     "output_type": "stream",
     "text": [
      "Epoch: 169, Loss: 0.1970 Train_AUC: 0.9999, Train_AP: 0.9999 Val_AUC: 0.8407, Val_AP: 0.8612 Test_AUC: 0.8495, Test_AP: 0.8567\n"
     ]
    },
    {
     "name": "stderr",
     "output_type": "stream",
     "text": [
      "Epoch: 170, Loss: 0.1960 Train_AUC: 0.9999, Train_AP: 0.9999 Val_AUC: 0.8398, Val_AP: 0.8601 Test_AUC: 0.8484, Test_AP: 0.8547\n"
     ]
    },
    {
     "name": "stderr",
     "output_type": "stream",
     "text": [
      "Epoch: 171, Loss: 0.1963 Train_AUC: 1.0000, Train_AP: 1.0000 Val_AUC: 0.8400, Val_AP: 0.8596 Test_AUC: 0.8484, Test_AP: 0.8564\n"
     ]
    },
    {
     "name": "stderr",
     "output_type": "stream",
     "text": [
      "Epoch: 172, Loss: 0.1950 Train_AUC: 1.0000, Train_AP: 1.0000 Val_AUC: 0.8412, Val_AP: 0.8625 Test_AUC: 0.8492, Test_AP: 0.8585\n"
     ]
    },
    {
     "name": "stderr",
     "output_type": "stream",
     "text": [
      "Epoch: 173, Loss: 0.1955 Train_AUC: 1.0000, Train_AP: 1.0000 Val_AUC: 0.8420, Val_AP: 0.8631 Test_AUC: 0.8497, Test_AP: 0.8608\n"
     ]
    },
    {
     "name": "stderr",
     "output_type": "stream",
     "text": [
      "Epoch: 174, Loss: 0.1947 Train_AUC: 1.0000, Train_AP: 1.0000 Val_AUC: 0.8413, Val_AP: 0.8614 Test_AUC: 0.8499, Test_AP: 0.8609\n"
     ]
    },
    {
     "name": "stderr",
     "output_type": "stream",
     "text": [
      "Epoch: 175, Loss: 0.1935 Train_AUC: 1.0000, Train_AP: 1.0000 Val_AUC: 0.8402, Val_AP: 0.8585 Test_AUC: 0.8497, Test_AP: 0.8588\n"
     ]
    },
    {
     "name": "stderr",
     "output_type": "stream",
     "text": [
      "Epoch: 176, Loss: 0.1954 Train_AUC: 1.0000, Train_AP: 1.0000 Val_AUC: 0.8385, Val_AP: 0.8560 Test_AUC: 0.8497, Test_AP: 0.8573\n"
     ]
    },
    {
     "name": "stderr",
     "output_type": "stream",
     "text": [
      "Epoch: 177, Loss: 0.1947 Train_AUC: 1.0000, Train_AP: 1.0000 Val_AUC: 0.8385, Val_AP: 0.8569 Test_AUC: 0.8505, Test_AP: 0.8590\n"
     ]
    },
    {
     "name": "stderr",
     "output_type": "stream",
     "text": [
      "Epoch: 178, Loss: 0.1951 Train_AUC: 1.0000, Train_AP: 1.0000 Val_AUC: 0.8373, Val_AP: 0.8560 Test_AUC: 0.8499, Test_AP: 0.8585\n"
     ]
    },
    {
     "name": "stderr",
     "output_type": "stream",
     "text": [
      "Epoch: 179, Loss: 0.1949 Train_AUC: 1.0000, Train_AP: 1.0000 Val_AUC: 0.8373, Val_AP: 0.8540 Test_AUC: 0.8495, Test_AP: 0.8546\n"
     ]
    },
    {
     "name": "stderr",
     "output_type": "stream",
     "text": [
      "Epoch: 180, Loss: 0.1931 Train_AUC: 1.0000, Train_AP: 1.0000 Val_AUC: 0.8389, Val_AP: 0.8560 Test_AUC: 0.8495, Test_AP: 0.8538\n"
     ]
    },
    {
     "name": "stderr",
     "output_type": "stream",
     "text": [
      "Epoch: 181, Loss: 0.1948 Train_AUC: 1.0000, Train_AP: 1.0000 Val_AUC: 0.8394, Val_AP: 0.8595 Test_AUC: 0.8499, Test_AP: 0.8580\n"
     ]
    },
    {
     "name": "stderr",
     "output_type": "stream",
     "text": [
      "Epoch: 182, Loss: 0.1951 Train_AUC: 1.0000, Train_AP: 0.9999 Val_AUC: 0.8401, Val_AP: 0.8609 Test_AUC: 0.8498, Test_AP: 0.8575\n"
     ]
    },
    {
     "name": "stderr",
     "output_type": "stream",
     "text": [
      "Epoch: 183, Loss: 0.1929 Train_AUC: 1.0000, Train_AP: 1.0000 Val_AUC: 0.8410, Val_AP: 0.8628 Test_AUC: 0.8496, Test_AP: 0.8571\n"
     ]
    },
    {
     "name": "stderr",
     "output_type": "stream",
     "text": [
      "Epoch: 184, Loss: 0.1932 Train_AUC: 1.0000, Train_AP: 1.0000 Val_AUC: 0.8402, Val_AP: 0.8632 Test_AUC: 0.8484, Test_AP: 0.8569\n"
     ]
    },
    {
     "name": "stderr",
     "output_type": "stream",
     "text": [
      "Epoch: 185, Loss: 0.1932 Train_AUC: 1.0000, Train_AP: 1.0000 Val_AUC: 0.8397, Val_AP: 0.8632 Test_AUC: 0.8499, Test_AP: 0.8606\n"
     ]
    },
    {
     "name": "stderr",
     "output_type": "stream",
     "text": [
      "Epoch: 186, Loss: 0.1933 Train_AUC: 1.0000, Train_AP: 1.0000 Val_AUC: 0.8389, Val_AP: 0.8615 Test_AUC: 0.8502, Test_AP: 0.8604\n"
     ]
    },
    {
     "name": "stderr",
     "output_type": "stream",
     "text": [
      "Epoch: 187, Loss: 0.1920 Train_AUC: 1.0000, Train_AP: 1.0000 Val_AUC: 0.8383, Val_AP: 0.8603 Test_AUC: 0.8498, Test_AP: 0.8577\n"
     ]
    },
    {
     "name": "stderr",
     "output_type": "stream",
     "text": [
      "Epoch: 188, Loss: 0.1936 Train_AUC: 1.0000, Train_AP: 1.0000 Val_AUC: 0.8378, Val_AP: 0.8584 Test_AUC: 0.8503, Test_AP: 0.8621\n"
     ]
    },
    {
     "name": "stderr",
     "output_type": "stream",
     "text": [
      "Epoch: 189, Loss: 0.1936 Train_AUC: 1.0000, Train_AP: 1.0000 Val_AUC: 0.8387, Val_AP: 0.8590 Test_AUC: 0.8513, Test_AP: 0.8638\n"
     ]
    },
    {
     "name": "stderr",
     "output_type": "stream",
     "text": [
      "Epoch: 190, Loss: 0.1936 Train_AUC: 1.0000, Train_AP: 1.0000 Val_AUC: 0.8393, Val_AP: 0.8614 Test_AUC: 0.8504, Test_AP: 0.8600\n"
     ]
    },
    {
     "name": "stderr",
     "output_type": "stream",
     "text": [
      "Epoch: 191, Loss: 0.1928 Train_AUC: 0.9999, Train_AP: 0.9999 Val_AUC: 0.8376, Val_AP: 0.8593 Test_AUC: 0.8485, Test_AP: 0.8573\n"
     ]
    },
    {
     "name": "stderr",
     "output_type": "stream",
     "text": [
      "Epoch: 192, Loss: 0.1932 Train_AUC: 1.0000, Train_AP: 1.0000 Val_AUC: 0.8373, Val_AP: 0.8597 Test_AUC: 0.8492, Test_AP: 0.8604\n"
     ]
    },
    {
     "name": "stderr",
     "output_type": "stream",
     "text": [
      "Epoch: 193, Loss: 0.1926 Train_AUC: 1.0000, Train_AP: 1.0000 Val_AUC: 0.8381, Val_AP: 0.8596 Test_AUC: 0.8497, Test_AP: 0.8621\n"
     ]
    },
    {
     "name": "stderr",
     "output_type": "stream",
     "text": [
      "Epoch: 194, Loss: 0.1918 Train_AUC: 1.0000, Train_AP: 1.0000 Val_AUC: 0.8359, Val_AP: 0.8552 Test_AUC: 0.8480, Test_AP: 0.8579\n"
     ]
    },
    {
     "name": "stderr",
     "output_type": "stream",
     "text": [
      "Epoch: 195, Loss: 0.1934 Train_AUC: 1.0000, Train_AP: 1.0000 Val_AUC: 0.8353, Val_AP: 0.8534 Test_AUC: 0.8463, Test_AP: 0.8556\n"
     ]
    },
    {
     "name": "stderr",
     "output_type": "stream",
     "text": [
      "Epoch: 196, Loss: 0.1934 Train_AUC: 1.0000, Train_AP: 1.0000 Val_AUC: 0.8384, Val_AP: 0.8577 Test_AUC: 0.8474, Test_AP: 0.8590\n"
     ]
    },
    {
     "name": "stderr",
     "output_type": "stream",
     "text": [
      "Epoch: 197, Loss: 0.1910 Train_AUC: 1.0000, Train_AP: 1.0000 Val_AUC: 0.8401, Val_AP: 0.8588 Test_AUC: 0.8470, Test_AP: 0.8583\n"
     ]
    },
    {
     "name": "stderr",
     "output_type": "stream",
     "text": [
      "Epoch: 198, Loss: 0.1926 Train_AUC: 1.0000, Train_AP: 1.0000 Val_AUC: 0.8390, Val_AP: 0.8580 Test_AUC: 0.8462, Test_AP: 0.8558\n"
     ]
    },
    {
     "name": "stderr",
     "output_type": "stream",
     "text": [
      "Epoch: 199, Loss: 0.1911 Train_AUC: 1.0000, Train_AP: 1.0000 Val_AUC: 0.8382, Val_AP: 0.8569 Test_AUC: 0.8466, Test_AP: 0.8553\n"
     ]
    },
    {
     "name": "stderr",
     "output_type": "stream",
     "text": [
      "Epoch: 200, Loss: 0.1912 Train_AUC: 1.0000, Train_AP: 1.0000 Val_AUC: 0.8388, Val_AP: 0.8562 Test_AUC: 0.8475, Test_AP: 0.8571\n"
     ]
    },
    {
     "name": "stderr",
     "output_type": "stream",
     "text": [
      "Final Test AUC: 0.8682, AP: 0.8744\n"
     ]
    }
   ],
   "source": [
    "train_data = torch.load('./data/Cora/split/train_data.pt').to(device)\n",
    "val_data = torch.load('./data/Cora/split/val_data.pt').to(device)\n",
    "test_data = torch.load('./data/Cora/split/test_data.pt').to(device)\n",
    "\n",
    "model = ScoreGNN(config.data_init_num_features, hidden_dim = config.scoregnn.hidden_dim, \n",
    "                 output_dim = config.scoregnn.output_dim , num_layers = config.scoregnn.num_layers, \n",
    "                 dropout = config.scoregnn.dropout).to(device)\n",
    "optimizer = torch.optim.Adam(model.parameters(), lr=config.scoregnn.lr)\n",
    "\n",
    "final_model = final_predictor = None\n",
    "best_val_auc = final_test_auc = final_test_ap = 0\n",
    "\n",
    "model.reset_parameters()\n",
    "\n",
    "for epoch in range(1, 1 + config.scoregnn.epochs):\n",
    "    loss = train(model, train_data, optimizer, config.predictor)\n",
    "    train_auc, train_ap = test(model, train_data, config.predictor)\n",
    "    val_auc, val_ap = test(model, val_data, config.predictor)\n",
    "    test_auc, test_ap = test(model, test_data, config.predictor)\n",
    "    if val_auc > best_val_auc:\n",
    "        best_val_auc = val_auc\n",
    "        final_test_auc = test_auc\n",
    "        final_test_ap = test_ap\n",
    "        final_model = copy.deepcopy(model)\n",
    "        final_predictor = copy.deepcopy(config.predictor)\n",
    "\n",
    "    logging.info(f'Epoch: {epoch:03d}, Loss: {loss:.4f} '\n",
    "             f'Train_AUC: {train_auc:.4f}, Train_AP: {train_ap:.4f} '\n",
    "             f'Val_AUC: {val_auc:.4f}, Val_AP: {val_ap:.4f} '\n",
    "             f'Test_AUC: {test_auc:.4f}, Test_AP: {test_ap:.4f}')\n",
    "    \n",
    "logging.info(f'Final Test AUC: {final_test_auc:.4f}, AP: {final_test_ap:.4f}')"
   ]
  },
  {
   "cell_type": "code",
   "execution_count": 6,
   "id": "85f543ab",
   "metadata": {
    "execution": {
     "iopub.execute_input": "2025-05-27T12:00:37.885144Z",
     "iopub.status.busy": "2025-05-27T12:00:37.885144Z",
     "iopub.status.idle": "2025-05-27T12:00:37.895124Z",
     "shell.execute_reply": "2025-05-27T12:00:37.895124Z"
    }
   },
   "outputs": [],
   "source": [
    "torch.save({\n",
    "    'model': final_model.state_dict(),\n",
    "    'predictor': final_predictor.state_dict()\n",
    "}, './model/scoregnn.pth')"
   ]
  }
 ],
 "metadata": {
  "kernelspec": {
   "display_name": "Python 3",
   "language": "python",
   "name": "python3"
  },
  "language_info": {
   "codemirror_mode": {
    "name": "ipython",
    "version": 3
   },
   "file_extension": ".py",
   "mimetype": "text/x-python",
   "name": "python",
   "nbconvert_exporter": "python",
   "pygments_lexer": "ipython3",
   "version": "3.12.7"
  }
 },
 "nbformat": 4,
 "nbformat_minor": 5
}
