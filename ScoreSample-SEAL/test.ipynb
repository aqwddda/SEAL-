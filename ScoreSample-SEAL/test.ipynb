{
 "cells": [
  {
   "cell_type": "code",
   "execution_count": 77,
   "id": "4ead942e",
   "metadata": {},
   "outputs": [],
   "source": [
    "import random\n",
    "\n",
    "# 1️⃣ 设置随机种子（只需要做一次）\n",
    "seed = 2025\n",
    "random.seed(seed)"
   ]
  },
  {
   "cell_type": "code",
   "execution_count": 79,
   "id": "af23ffcb",
   "metadata": {},
   "outputs": [
    {
     "name": "stdout",
     "output_type": "stream",
     "text": [
      "第一次采样结果: [11, 12, 7, 2, 18]\n",
      "第二次采样结果: [17, 2, 15, 5, 0]\n",
      "结果是否相同？ False\n"
     ]
    }
   ],
   "source": [
    "\n",
    "\n",
    "# 2️⃣ 定义数据\n",
    "data = list(range(20))\n",
    "\n",
    "# 3️⃣ 第一次运行 random.sample\n",
    "sample1 = random.sample(data, 5)\n",
    "print(\"第一次采样结果:\", sample1)\n",
    "\n",
    "# 4️⃣ 重设相同的随机种子\n",
    "random.seed(seed)\n",
    "\n",
    "# 5️⃣ 第二次运行 random.sample\n",
    "sample2 = random.sample(data, 5)\n",
    "print(\"第二次采样结果:\", sample2)\n",
    "\n",
    "# 6️⃣ 验证是否相同\n",
    "print(\"结果是否相同？\", sample1 == sample2)\n",
    "\n"
   ]
  }
 ],
 "metadata": {
  "kernelspec": {
   "display_name": "Python 3",
   "language": "python",
   "name": "python3"
  },
  "language_info": {
   "codemirror_mode": {
    "name": "ipython",
    "version": 3
   },
   "file_extension": ".py",
   "mimetype": "text/x-python",
   "name": "python",
   "nbconvert_exporter": "python",
   "pygments_lexer": "ipython3",
   "version": "3.12.7"
  }
 },
 "nbformat": 4,
 "nbformat_minor": 5
}
