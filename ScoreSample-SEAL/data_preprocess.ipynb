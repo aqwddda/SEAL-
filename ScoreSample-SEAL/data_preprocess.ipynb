{
 "cells": [
  {
   "cell_type": "code",
   "execution_count": 1,
   "id": "809b10e1",
   "metadata": {},
   "outputs": [],
   "source": [
    "from torch_geometric.datasets import Planetoid\n",
    "import torch_geometric.transforms as T\n",
    "from config import Config\n",
    "import torch\n",
    "\n",
    "config = Config()\n",
    "seed = config.seed\n",
    "torch.manual_seed(seed)\n",
    "device = config.device"
   ]
  },
  {
   "cell_type": "code",
   "execution_count": 10,
   "id": "949717df",
   "metadata": {},
   "outputs": [],
   "source": [
    "dataset = Planetoid('./data', 'Cora')\n",
    "data = dataset[0]\n",
    "\n",
    "transform = T.Compose([T.NormalizeFeatures(), T.RandomLinkSplit(num_val=0.05, num_test=0.1, is_undirected=True, split_labels=True)])\n",
    "train_data, val_data, test_data = transform(data)\n",
    "\n",
    "torch.save(train_data, './data/Cora/split/train_data.pt')\n",
    "torch.save(val_data, './data/Cora/split/val_data.pt')\n",
    "torch.save(test_data, './data/Cora/split/test_data.pt')"
   ]
  }
 ],
 "metadata": {
  "kernelspec": {
   "display_name": "Python 3",
   "language": "python",
   "name": "python3"
  },
  "language_info": {
   "codemirror_mode": {
    "name": "ipython",
    "version": 3
   },
   "file_extension": ".py",
   "mimetype": "text/x-python",
   "name": "python",
   "nbconvert_exporter": "python",
   "pygments_lexer": "ipython3",
   "version": "3.12.7"
  }
 },
 "nbformat": 4,
 "nbformat_minor": 5
}
